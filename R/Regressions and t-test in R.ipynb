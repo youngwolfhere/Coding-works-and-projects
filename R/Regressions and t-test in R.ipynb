{
 "cells": [
  {
   "cell_type": "code",
   "execution_count": 1,
   "id": "db40bcdf",
   "metadata": {},
   "outputs": [],
   "source": [
    "work<-read.csv(file.choose())"
   ]
  },
  {
   "cell_type": "code",
   "execution_count": 2,
   "id": "b37e8f99",
   "metadata": {},
   "outputs": [
    {
     "data": {
      "text/plain": [
       "     sn_res         weight_1        Gender             weight_2    \n",
       " Min.   : 1.00   Min.   :48.00   Length:30          Min.   :45.00  \n",
       " 1st Qu.: 8.25   1st Qu.:52.00   Class :character   1st Qu.:52.00  \n",
       " Median :15.50   Median :55.00   Mode  :character   Median :54.00  \n",
       " Mean   :15.50   Mean   :54.67                      Mean   :53.57  \n",
       " 3rd Qu.:22.75   3rd Qu.:57.00                      3rd Qu.:55.00  \n",
       " Max.   :30.00   Max.   :62.00                      Max.   :59.00  "
      ]
     },
     "metadata": {},
     "output_type": "display_data"
    }
   ],
   "source": [
    "summary(work)"
   ]
  },
  {
   "cell_type": "code",
   "execution_count": 3,
   "id": "52e775a0",
   "metadata": {},
   "outputs": [
    {
     "data": {
      "text/html": [
       "<table class=\"dataframe\">\n",
       "<caption>A data.frame: 6 × 4</caption>\n",
       "<thead>\n",
       "\t<tr><th></th><th scope=col>sn_res</th><th scope=col>weight_1</th><th scope=col>Gender</th><th scope=col>weight_2</th></tr>\n",
       "\t<tr><th></th><th scope=col>&lt;int&gt;</th><th scope=col>&lt;int&gt;</th><th scope=col>&lt;chr&gt;</th><th scope=col>&lt;int&gt;</th></tr>\n",
       "</thead>\n",
       "<tbody>\n",
       "\t<tr><th scope=row>1</th><td>1</td><td>55</td><td>F</td><td>55</td></tr>\n",
       "\t<tr><th scope=row>2</th><td>2</td><td>54</td><td>F</td><td>54</td></tr>\n",
       "\t<tr><th scope=row>3</th><td>3</td><td>58</td><td>F</td><td>55</td></tr>\n",
       "\t<tr><th scope=row>4</th><td>4</td><td>53</td><td>F</td><td>53</td></tr>\n",
       "\t<tr><th scope=row>5</th><td>5</td><td>48</td><td>F</td><td>50</td></tr>\n",
       "\t<tr><th scope=row>6</th><td>6</td><td>50</td><td>F</td><td>47</td></tr>\n",
       "</tbody>\n",
       "</table>\n"
      ],
      "text/latex": [
       "A data.frame: 6 × 4\n",
       "\\begin{tabular}{r|llll}\n",
       "  & sn\\_res & weight\\_1 & Gender & weight\\_2\\\\\n",
       "  & <int> & <int> & <chr> & <int>\\\\\n",
       "\\hline\n",
       "\t1 & 1 & 55 & F & 55\\\\\n",
       "\t2 & 2 & 54 & F & 54\\\\\n",
       "\t3 & 3 & 58 & F & 55\\\\\n",
       "\t4 & 4 & 53 & F & 53\\\\\n",
       "\t5 & 5 & 48 & F & 50\\\\\n",
       "\t6 & 6 & 50 & F & 47\\\\\n",
       "\\end{tabular}\n"
      ],
      "text/markdown": [
       "\n",
       "A data.frame: 6 × 4\n",
       "\n",
       "| <!--/--> | sn_res &lt;int&gt; | weight_1 &lt;int&gt; | Gender &lt;chr&gt; | weight_2 &lt;int&gt; |\n",
       "|---|---|---|---|---|\n",
       "| 1 | 1 | 55 | F | 55 |\n",
       "| 2 | 2 | 54 | F | 54 |\n",
       "| 3 | 3 | 58 | F | 55 |\n",
       "| 4 | 4 | 53 | F | 53 |\n",
       "| 5 | 5 | 48 | F | 50 |\n",
       "| 6 | 6 | 50 | F | 47 |\n",
       "\n"
      ],
      "text/plain": [
       "  sn_res weight_1 Gender weight_2\n",
       "1 1      55       F      55      \n",
       "2 2      54       F      54      \n",
       "3 3      58       F      55      \n",
       "4 4      53       F      53      \n",
       "5 5      48       F      50      \n",
       "6 6      50       F      47      "
      ]
     },
     "metadata": {},
     "output_type": "display_data"
    }
   ],
   "source": [
    "head(work)"
   ]
  },
  {
   "cell_type": "markdown",
   "id": "bdfb6e74",
   "metadata": {},
   "source": [
    "structure of work object"
   ]
  },
  {
   "cell_type": "code",
   "execution_count": 4,
   "id": "3924086b",
   "metadata": {},
   "outputs": [
    {
     "name": "stdout",
     "output_type": "stream",
     "text": [
      "'data.frame':\t30 obs. of  4 variables:\n",
      " $ sn_res  : int  1 2 3 4 5 6 7 8 9 10 ...\n",
      " $ weight_1: int  55 54 58 53 48 50 54 53 52 55 ...\n",
      " $ Gender  : chr  \"F\" \"F\" \"F\" \"F\" ...\n",
      " $ weight_2: int  55 54 55 53 50 47 54 53 51 52 ...\n"
     ]
    }
   ],
   "source": [
    "str(work)"
   ]
  },
  {
   "cell_type": "markdown",
   "id": "40702615",
   "metadata": {},
   "source": [
    "set sex variable as factor "
   ]
  },
  {
   "cell_type": "code",
   "execution_count": 5,
   "id": "c67a676c",
   "metadata": {},
   "outputs": [],
   "source": [
    "work$Gender<-as.factor(work$Gender)"
   ]
  },
  {
   "cell_type": "code",
   "execution_count": 6,
   "id": "7957ddd0",
   "metadata": {},
   "outputs": [
    {
     "data": {
      "text/html": [
       "<dl>\n",
       "\t<dt>$levels</dt>\n",
       "\t\t<dd><style>\n",
       ".list-inline {list-style: none; margin:0; padding: 0}\n",
       ".list-inline>li {display: inline-block}\n",
       ".list-inline>li:not(:last-child)::after {content: \"\\00b7\"; padding: 0 .5ex}\n",
       "</style>\n",
       "<ol class=list-inline><li>'F'</li><li>'M'</li></ol>\n",
       "</dd>\n",
       "\t<dt>$class</dt>\n",
       "\t\t<dd>'factor'</dd>\n",
       "</dl>\n"
      ],
      "text/latex": [
       "\\begin{description}\n",
       "\\item[\\$levels] \\begin{enumerate*}\n",
       "\\item 'F'\n",
       "\\item 'M'\n",
       "\\end{enumerate*}\n",
       "\n",
       "\\item[\\$class] 'factor'\n",
       "\\end{description}\n"
      ],
      "text/markdown": [
       "$levels\n",
       ":   1. 'F'\n",
       "2. 'M'\n",
       "\n",
       "\n",
       "\n",
       "$class\n",
       ":   'factor'\n",
       "\n",
       "\n"
      ],
      "text/plain": [
       "$levels\n",
       "[1] \"F\" \"M\"\n",
       "\n",
       "$class\n",
       "[1] \"factor\"\n"
      ]
     },
     "metadata": {},
     "output_type": "display_data"
    }
   ],
   "source": [
    "## to list attributes of sex\n",
    "attributes(work$Gender)"
   ]
  },
  {
   "cell_type": "code",
   "execution_count": 7,
   "id": "202e3686",
   "metadata": {},
   "outputs": [
    {
     "data": {
      "text/html": [
       "54.6666666666667"
      ],
      "text/latex": [
       "54.6666666666667"
      ],
      "text/markdown": [
       "54.6666666666667"
      ],
      "text/plain": [
       "[1] 54.66667"
      ]
     },
     "metadata": {},
     "output_type": "display_data"
    }
   ],
   "source": [
    "mean(work$weight_1)"
   ]
  },
  {
   "cell_type": "markdown",
   "id": "73674287",
   "metadata": {},
   "source": [
    "## one sample t test"
   ]
  },
  {
   "cell_type": "code",
   "execution_count": 8,
   "id": "235ba482",
   "metadata": {},
   "outputs": [
    {
     "data": {
      "text/plain": [
       "\n",
       "\tOne Sample t-test\n",
       "\n",
       "data:  work$weight_1\n",
       "t = 7.3297, df = 29, p-value = 4.493e-08\n",
       "alternative hypothesis: true mean is not equal to 50\n",
       "95 percent confidence interval:\n",
       " 53.36451 55.96883\n",
       "sample estimates:\n",
       "mean of x \n",
       " 54.66667 \n"
      ]
     },
     "metadata": {},
     "output_type": "display_data"
    }
   ],
   "source": [
    "t.test(work$weight_1, mu=50) # mu is true mean"
   ]
  },
  {
   "cell_type": "code",
   "execution_count": 9,
   "id": "36619fc0",
   "metadata": {},
   "outputs": [
    {
     "data": {
      "text/plain": [
       "\n",
       "\tOne Sample t-test\n",
       "\n",
       "data:  work$weight_1\n",
       "t = 7.3297, df = 29, p-value = 2.247e-08\n",
       "alternative hypothesis: true mean is greater than 50\n",
       "95 percent confidence interval:\n",
       " 53.58486      Inf\n",
       "sample estimates:\n",
       "mean of x \n",
       " 54.66667 \n"
      ]
     },
     "metadata": {},
     "output_type": "display_data"
    }
   ],
   "source": [
    "# alternative hypothesis is not two-tailed but one tail, assuming alternative is greater\n",
    "t.test(work$weight_1, mu=50, alternative = \"greater\")"
   ]
  },
  {
   "cell_type": "markdown",
   "id": "f1dc17a6",
   "metadata": {},
   "source": [
    "## unpaired-sample or independent two sample"
   ]
  },
  {
   "cell_type": "markdown",
   "id": "927ad85e",
   "metadata": {},
   "source": [
    "The paired sample t-test, sometimes called the dependent sample t-test, is a statistical procedure used to determine whether the mean difference between two sets of observations is zero"
   ]
  },
  {
   "cell_type": "code",
   "execution_count": 10,
   "id": "ac94c087",
   "metadata": {},
   "outputs": [
    {
     "data": {
      "text/plain": [
       "\n",
       "\tWelch Two Sample t-test\n",
       "\n",
       "data:  work$weight_1 by work$Gender\n",
       "t = -4.6624, df = 27.962, p-value = 6.998e-05\n",
       "alternative hypothesis: true difference in means between group F and group M is not equal to 0\n",
       "95 percent confidence interval:\n",
       " -6.525153 -2.541514\n",
       "sample estimates:\n",
       "mean in group F mean in group M \n",
       "       52.40000        56.93333 \n"
      ]
     },
     "metadata": {},
     "output_type": "display_data"
    }
   ],
   "source": [
    "t.test(work$weight_1~ work$Gender, paired=F)"
   ]
  },
  {
   "cell_type": "markdown",
   "id": "9098d9c0",
   "metadata": {},
   "source": [
    "## levene's test\n",
    "can also be used"
   ]
  },
  {
   "cell_type": "code",
   "execution_count": 11,
   "id": "8a897b20",
   "metadata": {},
   "outputs": [
    {
     "name": "stderr",
     "output_type": "stream",
     "text": [
      "Warning message:\n",
      "\"package 'car' was built under R version 4.1.3\"\n",
      "Loading required package: carData\n",
      "\n",
      "Warning message:\n",
      "\"package 'carData' was built under R version 4.1.3\"\n"
     ]
    }
   ],
   "source": [
    "#install.packages(\"car\")\n",
    "library(car)"
   ]
  },
  {
   "cell_type": "code",
   "execution_count": 12,
   "id": "b08f0dd6",
   "metadata": {},
   "outputs": [
    {
     "data": {
      "text/html": [
       "<table class=\"dataframe\">\n",
       "<caption>A anova: 2 × 3</caption>\n",
       "<thead>\n",
       "\t<tr><th></th><th scope=col>Df</th><th scope=col>F value</th><th scope=col>Pr(&gt;F)</th></tr>\n",
       "\t<tr><th></th><th scope=col>&lt;int&gt;</th><th scope=col>&lt;dbl&gt;</th><th scope=col>&lt;dbl&gt;</th></tr>\n",
       "</thead>\n",
       "<tbody>\n",
       "\t<tr><th scope=row>group</th><td> 1</td><td>0.122807</td><td>0.7286325</td></tr>\n",
       "\t<tr><th scope=row> </th><td>28</td><td>      NA</td><td>       NA</td></tr>\n",
       "</tbody>\n",
       "</table>\n"
      ],
      "text/latex": [
       "A anova: 2 × 3\n",
       "\\begin{tabular}{r|lll}\n",
       "  & Df & F value & Pr(>F)\\\\\n",
       "  & <int> & <dbl> & <dbl>\\\\\n",
       "\\hline\n",
       "\tgroup &  1 & 0.122807 & 0.7286325\\\\\n",
       "\t  & 28 &       NA &        NA\\\\\n",
       "\\end{tabular}\n"
      ],
      "text/markdown": [
       "\n",
       "A anova: 2 × 3\n",
       "\n",
       "| <!--/--> | Df &lt;int&gt; | F value &lt;dbl&gt; | Pr(&gt;F) &lt;dbl&gt; |\n",
       "|---|---|---|---|\n",
       "| group |  1 | 0.122807 | 0.7286325 |\n",
       "| <!----> | 28 |       NA |        NA |\n",
       "\n"
      ],
      "text/plain": [
       "      Df F value  Pr(>F)   \n",
       "group  1 0.122807 0.7286325\n",
       "      28       NA        NA"
      ]
     },
     "metadata": {},
     "output_type": "display_data"
    }
   ],
   "source": [
    "leveneTest(work$weight_1, work$Gender,centre=mean)"
   ]
  },
  {
   "cell_type": "markdown",
   "id": "ff370a6a",
   "metadata": {},
   "source": [
    "## if variance of the two samples is not equal"
   ]
  },
  {
   "cell_type": "code",
   "execution_count": 13,
   "id": "5fad8b59",
   "metadata": {},
   "outputs": [
    {
     "data": {
      "text/plain": [
       "\n",
       "\tWelch Two Sample t-test\n",
       "\n",
       "data:  work$weight_1 by work$Gender\n",
       "t = -4.6624, df = 27.962, p-value = 6.998e-05\n",
       "alternative hypothesis: true difference in means between group F and group M is not equal to 0\n",
       "95 percent confidence interval:\n",
       " -6.525153 -2.541514\n",
       "sample estimates:\n",
       "mean in group F mean in group M \n",
       "       52.40000        56.93333 \n"
      ]
     },
     "metadata": {},
     "output_type": "display_data"
    }
   ],
   "source": [
    "t.test(work$weight_1~ work$Gender, var.equal= F,paired=F)"
   ]
  },
  {
   "cell_type": "markdown",
   "id": "504ac38d",
   "metadata": {},
   "source": [
    "## if variance of the two samples is not equal"
   ]
  },
  {
   "cell_type": "code",
   "execution_count": 14,
   "id": "e9d76137",
   "metadata": {},
   "outputs": [],
   "source": [
    "Height <- read.csv(file.choose())"
   ]
  },
  {
   "cell_type": "code",
   "execution_count": 15,
   "id": "a6a93826",
   "metadata": {},
   "outputs": [
    {
     "data": {
      "text/html": [
       "<table class=\"dataframe\">\n",
       "<caption>A data.frame: 6 × 2</caption>\n",
       "<thead>\n",
       "\t<tr><th></th><th scope=col>grouping</th><th scope=col>height</th></tr>\n",
       "\t<tr><th></th><th scope=col>&lt;chr&gt;</th><th scope=col>&lt;dbl&gt;</th></tr>\n",
       "</thead>\n",
       "<tbody>\n",
       "\t<tr><th scope=row>1</th><td>men</td><td>181.5</td></tr>\n",
       "\t<tr><th scope=row>2</th><td>men</td><td>187.3</td></tr>\n",
       "\t<tr><th scope=row>3</th><td>men</td><td>175.3</td></tr>\n",
       "\t<tr><th scope=row>4</th><td>men</td><td>178.3</td></tr>\n",
       "\t<tr><th scope=row>5</th><td>men</td><td>169.0</td></tr>\n",
       "\t<tr><th scope=row>6</th><td>men</td><td>183.2</td></tr>\n",
       "</tbody>\n",
       "</table>\n"
      ],
      "text/latex": [
       "A data.frame: 6 × 2\n",
       "\\begin{tabular}{r|ll}\n",
       "  & grouping & height\\\\\n",
       "  & <chr> & <dbl>\\\\\n",
       "\\hline\n",
       "\t1 & men & 181.5\\\\\n",
       "\t2 & men & 187.3\\\\\n",
       "\t3 & men & 175.3\\\\\n",
       "\t4 & men & 178.3\\\\\n",
       "\t5 & men & 169.0\\\\\n",
       "\t6 & men & 183.2\\\\\n",
       "\\end{tabular}\n"
      ],
      "text/markdown": [
       "\n",
       "A data.frame: 6 × 2\n",
       "\n",
       "| <!--/--> | grouping &lt;chr&gt; | height &lt;dbl&gt; |\n",
       "|---|---|---|\n",
       "| 1 | men | 181.5 |\n",
       "| 2 | men | 187.3 |\n",
       "| 3 | men | 175.3 |\n",
       "| 4 | men | 178.3 |\n",
       "| 5 | men | 169.0 |\n",
       "| 6 | men | 183.2 |\n",
       "\n"
      ],
      "text/plain": [
       "  grouping height\n",
       "1 men      181.5 \n",
       "2 men      187.3 \n",
       "3 men      175.3 \n",
       "4 men      178.3 \n",
       "5 men      169.0 \n",
       "6 men      183.2 "
      ]
     },
     "metadata": {},
     "output_type": "display_data"
    }
   ],
   "source": [
    "head(Height)"
   ]
  },
  {
   "cell_type": "code",
   "execution_count": 16,
   "id": "b106dc99",
   "metadata": {},
   "outputs": [
    {
     "name": "stdout",
     "output_type": "stream",
     "text": [
      "'data.frame':\t14 obs. of  2 variables:\n",
      " $ grouping: chr  \"men\" \"men\" \"men\" \"men\" ...\n",
      " $ height  : num  182 187 175 178 169 ...\n"
     ]
    }
   ],
   "source": [
    "str(Height)"
   ]
  },
  {
   "cell_type": "code",
   "execution_count": 17,
   "id": "9e289533",
   "metadata": {},
   "outputs": [
    {
     "data": {
      "text/plain": [
       "   grouping             height     \n",
       " Length:14          Min.   :165.2  \n",
       " Class :character   1st Qu.:169.3  \n",
       " Mode  :character   Median :175.3  \n",
       "                    Mean   :175.5  \n",
       "                    3rd Qu.:181.4  \n",
       "                    Max.   :187.3  "
      ]
     },
     "metadata": {},
     "output_type": "display_data"
    }
   ],
   "source": [
    "summary(Height)"
   ]
  },
  {
   "cell_type": "code",
   "execution_count": 18,
   "id": "9ee678b1",
   "metadata": {},
   "outputs": [
    {
     "data": {
      "text/plain": [
       "\n",
       "\tTwo Sample t-test\n",
       "\n",
       "data:  height by grouping\n",
       "t = 2.7654, df = 12, p-value = 0.01711\n",
       "alternative hypothesis: true difference in means between group men and group women is not equal to 0\n",
       "95 percent confidence interval:\n",
       "  1.869768 15.758803\n",
       "sample estimates:\n",
       "  mean in group men mean in group women \n",
       "           179.8714            171.0571 \n"
      ]
     },
     "metadata": {},
     "output_type": "display_data"
    }
   ],
   "source": [
    "t.test(height ~ grouping, data=Height,\n",
    "       var.equal=TRUE,\n",
    "       conf.level=0.95)"
   ]
  },
  {
   "cell_type": "code",
   "execution_count": 19,
   "id": "c40bb6b3",
   "metadata": {},
   "outputs": [
    {
     "data": {
      "text/plain": [
       "\n",
       "\tTwo Sample t-test\n",
       "\n",
       "data:  height by grouping\n",
       "t = 2.7654, df = 12, p-value = 0.01711\n",
       "alternative hypothesis: true difference in means between group men and group women is not equal to 0\n",
       "99 percent confidence interval:\n",
       " -0.9214302 18.5500017\n",
       "sample estimates:\n",
       "  mean in group men mean in group women \n",
       "           179.8714            171.0571 \n"
      ]
     },
     "metadata": {},
     "output_type": "display_data"
    }
   ],
   "source": [
    "t.test(height ~ grouping, data=Height,\n",
    "       var.equal=TRUE,\n",
    "       conf.level=0.99)"
   ]
  },
  {
   "cell_type": "markdown",
   "id": "ee0a90a4",
   "metadata": {},
   "source": [
    "## paired sample test"
   ]
  },
  {
   "cell_type": "code",
   "execution_count": 20,
   "id": "2c67eee0",
   "metadata": {},
   "outputs": [
    {
     "data": {
      "text/plain": [
       "\n",
       "\tPaired t-test\n",
       "\n",
       "data:  work$weight_1 and work$weight_2\n",
       "t = 3.0563, df = 29, p-value = 0.004777\n",
       "alternative hypothesis: true difference in means is not equal to 0\n",
       "95 percent confidence interval:\n",
       " 0.3638871 1.8361129\n",
       "sample estimates:\n",
       "mean of the differences \n",
       "                    1.1 \n"
      ]
     },
     "metadata": {},
     "output_type": "display_data"
    }
   ],
   "source": [
    "t.test(work$weight_1, work$weight_2, paired=T)"
   ]
  },
  {
   "cell_type": "markdown",
   "id": "15e1de47",
   "metadata": {},
   "source": [
    "## Paired t test"
   ]
  },
  {
   "cell_type": "code",
   "execution_count": 21,
   "id": "1dd3ac6e",
   "metadata": {},
   "outputs": [],
   "source": [
    "sleep <- read.csv(file.choose())"
   ]
  },
  {
   "cell_type": "code",
   "execution_count": 22,
   "id": "18a1e376",
   "metadata": {},
   "outputs": [
    {
     "data": {
      "text/html": [
       "<table class=\"dataframe\">\n",
       "<caption>A data.frame: 6 × 4</caption>\n",
       "<thead>\n",
       "\t<tr><th></th><th scope=col>SNO.</th><th scope=col>Extra</th><th scope=col>group</th><th scope=col>ID</th></tr>\n",
       "\t<tr><th></th><th scope=col>&lt;int&gt;</th><th scope=col>&lt;dbl&gt;</th><th scope=col>&lt;int&gt;</th><th scope=col>&lt;int&gt;</th></tr>\n",
       "</thead>\n",
       "<tbody>\n",
       "\t<tr><th scope=row>1</th><td>1</td><td> 0.7</td><td>1</td><td>1</td></tr>\n",
       "\t<tr><th scope=row>2</th><td>2</td><td>-1.6</td><td>1</td><td>2</td></tr>\n",
       "\t<tr><th scope=row>3</th><td>3</td><td>-0.2</td><td>1</td><td>3</td></tr>\n",
       "\t<tr><th scope=row>4</th><td>4</td><td>-1.2</td><td>1</td><td>4</td></tr>\n",
       "\t<tr><th scope=row>5</th><td>5</td><td>-0.1</td><td>1</td><td>5</td></tr>\n",
       "\t<tr><th scope=row>6</th><td>6</td><td> 3.4</td><td>1</td><td>6</td></tr>\n",
       "</tbody>\n",
       "</table>\n"
      ],
      "text/latex": [
       "A data.frame: 6 × 4\n",
       "\\begin{tabular}{r|llll}\n",
       "  & SNO. & Extra & group & ID\\\\\n",
       "  & <int> & <dbl> & <int> & <int>\\\\\n",
       "\\hline\n",
       "\t1 & 1 &  0.7 & 1 & 1\\\\\n",
       "\t2 & 2 & -1.6 & 1 & 2\\\\\n",
       "\t3 & 3 & -0.2 & 1 & 3\\\\\n",
       "\t4 & 4 & -1.2 & 1 & 4\\\\\n",
       "\t5 & 5 & -0.1 & 1 & 5\\\\\n",
       "\t6 & 6 &  3.4 & 1 & 6\\\\\n",
       "\\end{tabular}\n"
      ],
      "text/markdown": [
       "\n",
       "A data.frame: 6 × 4\n",
       "\n",
       "| <!--/--> | SNO. &lt;int&gt; | Extra &lt;dbl&gt; | group &lt;int&gt; | ID &lt;int&gt; |\n",
       "|---|---|---|---|---|\n",
       "| 1 | 1 |  0.7 | 1 | 1 |\n",
       "| 2 | 2 | -1.6 | 1 | 2 |\n",
       "| 3 | 3 | -0.2 | 1 | 3 |\n",
       "| 4 | 4 | -1.2 | 1 | 4 |\n",
       "| 5 | 5 | -0.1 | 1 | 5 |\n",
       "| 6 | 6 |  3.4 | 1 | 6 |\n",
       "\n"
      ],
      "text/plain": [
       "  SNO. Extra group ID\n",
       "1 1     0.7  1     1 \n",
       "2 2    -1.6  1     2 \n",
       "3 3    -0.2  1     3 \n",
       "4 4    -1.2  1     4 \n",
       "5 5    -0.1  1     5 \n",
       "6 6     3.4  1     6 "
      ]
     },
     "metadata": {},
     "output_type": "display_data"
    }
   ],
   "source": [
    "head(sleep)"
   ]
  },
  {
   "cell_type": "code",
   "execution_count": 23,
   "id": "91432009",
   "metadata": {},
   "outputs": [
    {
     "name": "stdout",
     "output_type": "stream",
     "text": [
      "'data.frame':\t20 obs. of  4 variables:\n",
      " $ SNO. : int  1 2 3 4 5 6 7 8 9 10 ...\n",
      " $ Extra: num  0.7 -1.6 -0.2 -1.2 -0.1 3.4 3.7 0.8 0 2 ...\n",
      " $ group: int  1 1 1 1 1 1 1 1 1 1 ...\n",
      " $ ID   : int  1 2 3 4 5 6 7 8 9 10 ...\n"
     ]
    }
   ],
   "source": [
    "str(sleep)"
   ]
  },
  {
   "cell_type": "code",
   "execution_count": 24,
   "id": "d30d967a",
   "metadata": {},
   "outputs": [
    {
     "data": {
      "text/plain": [
       "      SNO.           Extra            group           ID      \n",
       " Min.   : 1.00   Min.   :-1.600   Min.   :1.0   Min.   : 1.0  \n",
       " 1st Qu.: 5.75   1st Qu.:-0.025   1st Qu.:1.0   1st Qu.: 3.0  \n",
       " Median :10.50   Median : 0.950   Median :1.5   Median : 5.5  \n",
       " Mean   :10.50   Mean   : 1.540   Mean   :1.5   Mean   : 5.5  \n",
       " 3rd Qu.:15.25   3rd Qu.: 3.400   3rd Qu.:2.0   3rd Qu.: 8.0  \n",
       " Max.   :20.00   Max.   : 5.500   Max.   :2.0   Max.   :10.0  "
      ]
     },
     "metadata": {},
     "output_type": "display_data"
    }
   ],
   "source": [
    "summary(sleep)"
   ]
  },
  {
   "cell_type": "code",
   "execution_count": 25,
   "id": "f158be7b",
   "metadata": {},
   "outputs": [
    {
     "data": {
      "text/plain": [
       "\n",
       "\tPaired t-test\n",
       "\n",
       "data:  Extra by group\n",
       "t = -4.0621, df = 9, p-value = 0.002833\n",
       "alternative hypothesis: true difference in means is not equal to 0\n",
       "95 percent confidence interval:\n",
       " -2.4598858 -0.7001142\n",
       "sample estimates:\n",
       "mean of the differences \n",
       "                  -1.58 \n"
      ]
     },
     "metadata": {},
     "output_type": "display_data"
    }
   ],
   "source": [
    "t.test(Extra ~ group, data = sleep, paired = TRUE)"
   ]
  },
  {
   "cell_type": "markdown",
   "id": "ff8c14d9",
   "metadata": {},
   "source": [
    "In this example it appears that the drug does have an effect as the p-value = 0.0028 suggesting that the drug increases sleep on average by 1.58 hours."
   ]
  },
  {
   "cell_type": "markdown",
   "id": "02be8736",
   "metadata": {},
   "source": [
    "### Regression analysis"
   ]
  },
  {
   "cell_type": "code",
   "execution_count": 1,
   "id": "47722777",
   "metadata": {},
   "outputs": [],
   "source": [
    "ratio<-read.csv(file.choose())"
   ]
  },
  {
   "cell_type": "code",
   "execution_count": 2,
   "id": "9a3013c8",
   "metadata": {},
   "outputs": [
    {
     "data": {
      "text/plain": [
       "      CSR             TFR           Fem_lit          rural      \n",
       " Min.   :819.0   Min.   :1.700   Min.   :55.70   Min.   :40.84  \n",
       " 1st Qu.:834.0   1st Qu.:1.808   1st Qu.:62.12   1st Qu.:62.97  \n",
       " Median :846.5   Median :1.905   Median :70.90   Median :68.96  \n",
       " Mean   :848.0   Mean   :1.893   Mean   :69.88   Mean   :66.56  \n",
       " 3rd Qu.:863.5   3rd Qu.:1.925   3rd Qu.:75.20   3rd Qu.:74.82  \n",
       " Max.   :879.0   Max.   :2.150   Max.   :87.90   Max.   :87.34  \n",
       "     SC_pop          WPR_F      \n",
       " Min.   :21.74   Min.   :10.76  \n",
       " 1st Qu.:27.52   1st Qu.:11.45  \n",
       " Median :33.03   Median :12.77  \n",
       " Mean   :32.89   Mean   :14.03  \n",
       " 3rd Qu.:37.10   3rd Qu.:14.91  \n",
       " Max.   :42.51   Max.   :27.08  "
      ]
     },
     "metadata": {},
     "output_type": "display_data"
    }
   ],
   "source": [
    "summary(ratio)"
   ]
  },
  {
   "cell_type": "code",
   "execution_count": 28,
   "id": "5b0b7509",
   "metadata": {},
   "outputs": [
    {
     "data": {
      "text/html": [
       "<table class=\"dataframe\">\n",
       "<caption>A data.frame: 6 × 6</caption>\n",
       "<thead>\n",
       "\t<tr><th></th><th scope=col>CSR</th><th scope=col>TFR</th><th scope=col>Fem_lit</th><th scope=col>rural</th><th scope=col>SC_pop</th><th scope=col>WPR_F</th></tr>\n",
       "\t<tr><th></th><th scope=col>&lt;int&gt;</th><th scope=col>&lt;dbl&gt;</th><th scope=col>&lt;dbl&gt;</th><th scope=col>&lt;dbl&gt;</th><th scope=col>&lt;dbl&gt;</th><th scope=col>&lt;dbl&gt;</th></tr>\n",
       "</thead>\n",
       "<tbody>\n",
       "\t<tr><th scope=row>1</th><td>824</td><td>1.90</td><td>72.0</td><td>46.42</td><td>30.95</td><td>15.58</td></tr>\n",
       "\t<tr><th scope=row>2</th><td>847</td><td>1.91</td><td>63.6</td><td>67.98</td><td>32.24</td><td>11.21</td></tr>\n",
       "\t<tr><th scope=row>3</th><td>854</td><td>1.91</td><td>61.9</td><td>64.05</td><td>32.44</td><td>18.13</td></tr>\n",
       "\t<tr><th scope=row>4</th><td>843</td><td>1.80</td><td>74.8</td><td>69.09</td><td>32.07</td><td>11.46</td></tr>\n",
       "\t<tr><th scope=row>5</th><td>851</td><td>1.91</td><td>63.9</td><td>64.85</td><td>38.92</td><td>12.55</td></tr>\n",
       "\t<tr><th scope=row>6</th><td>846</td><td>2.15</td><td>61.7</td><td>72.77</td><td>42.17</td><td>16.74</td></tr>\n",
       "</tbody>\n",
       "</table>\n"
      ],
      "text/latex": [
       "A data.frame: 6 × 6\n",
       "\\begin{tabular}{r|llllll}\n",
       "  & CSR & TFR & Fem\\_lit & rural & SC\\_pop & WPR\\_F\\\\\n",
       "  & <int> & <dbl> & <dbl> & <dbl> & <dbl> & <dbl>\\\\\n",
       "\\hline\n",
       "\t1 & 824 & 1.90 & 72.0 & 46.42 & 30.95 & 15.58\\\\\n",
       "\t2 & 847 & 1.91 & 63.6 & 67.98 & 32.24 & 11.21\\\\\n",
       "\t3 & 854 & 1.91 & 61.9 & 64.05 & 32.44 & 18.13\\\\\n",
       "\t4 & 843 & 1.80 & 74.8 & 69.09 & 32.07 & 11.46\\\\\n",
       "\t5 & 851 & 1.91 & 63.9 & 64.85 & 38.92 & 12.55\\\\\n",
       "\t6 & 846 & 2.15 & 61.7 & 72.77 & 42.17 & 16.74\\\\\n",
       "\\end{tabular}\n"
      ],
      "text/markdown": [
       "\n",
       "A data.frame: 6 × 6\n",
       "\n",
       "| <!--/--> | CSR &lt;int&gt; | TFR &lt;dbl&gt; | Fem_lit &lt;dbl&gt; | rural &lt;dbl&gt; | SC_pop &lt;dbl&gt; | WPR_F &lt;dbl&gt; |\n",
       "|---|---|---|---|---|---|---|\n",
       "| 1 | 824 | 1.90 | 72.0 | 46.42 | 30.95 | 15.58 |\n",
       "| 2 | 847 | 1.91 | 63.6 | 67.98 | 32.24 | 11.21 |\n",
       "| 3 | 854 | 1.91 | 61.9 | 64.05 | 32.44 | 18.13 |\n",
       "| 4 | 843 | 1.80 | 74.8 | 69.09 | 32.07 | 11.46 |\n",
       "| 5 | 851 | 1.91 | 63.9 | 64.85 | 38.92 | 12.55 |\n",
       "| 6 | 846 | 2.15 | 61.7 | 72.77 | 42.17 | 16.74 |\n",
       "\n"
      ],
      "text/plain": [
       "  CSR TFR  Fem_lit rural SC_pop WPR_F\n",
       "1 824 1.90 72.0    46.42 30.95  15.58\n",
       "2 847 1.91 63.6    67.98 32.24  11.21\n",
       "3 854 1.91 61.9    64.05 32.44  18.13\n",
       "4 843 1.80 74.8    69.09 32.07  11.46\n",
       "5 851 1.91 63.9    64.85 38.92  12.55\n",
       "6 846 2.15 61.7    72.77 42.17  16.74"
      ]
     },
     "metadata": {},
     "output_type": "display_data"
    }
   ],
   "source": [
    "head(ratio)"
   ]
  },
  {
   "cell_type": "code",
   "execution_count": 29,
   "id": "b996482a",
   "metadata": {},
   "outputs": [
    {
     "name": "stderr",
     "output_type": "stream",
     "text": [
      "Warning message:\n",
      "\"package 'lmtest' was built under R version 4.1.3\"\n",
      "Loading required package: zoo\n",
      "\n",
      "\n",
      "Attaching package: 'zoo'\n",
      "\n",
      "\n",
      "The following objects are masked from 'package:base':\n",
      "\n",
      "    as.Date, as.Date.numeric\n",
      "\n",
      "\n"
     ]
    }
   ],
   "source": [
    "#install.packages(\"lmtest\")\n",
    "library(lmtest)"
   ]
  },
  {
   "cell_type": "code",
   "execution_count": 30,
   "id": "534c4ad2",
   "metadata": {},
   "outputs": [
    {
     "data": {
      "image/png": "[encoded data removed]",
      "text/plain": [
       "Plot with title \"scatterplot\""
      ]
     },
     "metadata": {
      "image/png": {
       "height": 420,
       "width": 420
      }
     },
     "output_type": "display_data"
    }
   ],
   "source": [
    "## to draw scatterplot \n",
    "plot(ratio$CSR,ratio$TFR, main=\"scatterplot\")"
   ]
  },
  {
   "cell_type": "code",
   "execution_count": 3,
   "id": "65026bbb",
   "metadata": {},
   "outputs": [
    {
     "data": {
      "text/plain": [
       "\n",
       "Call:\n",
       "lm(formula = ratio$CSR ~ ratio$TFR)\n",
       "\n",
       "Residuals:\n",
       "    Min      1Q  Median      3Q     Max \n",
       "-29.101  -9.251   3.861   9.220  23.315 \n",
       "\n",
       "Coefficients:\n",
       "            Estimate Std. Error t value Pr(>|t|)    \n",
       "(Intercept)  1033.64      49.14  21.035 4.02e-14 ***\n",
       "ratio$TFR     -98.12      25.91  -3.786  0.00135 ** \n",
       "---\n",
       "Signif. codes:  0 '***' 0.001 '**' 0.01 '*' 0.05 '.' 0.1 ' ' 1\n",
       "\n",
       "Residual standard error: 13.88 on 18 degrees of freedom\n",
       "Multiple R-squared:  0.4434,\tAdjusted R-squared:  0.4124 \n",
       "F-statistic: 14.34 on 1 and 18 DF,  p-value: 0.001352\n"
      ]
     },
     "metadata": {},
     "output_type": "display_data"
    }
   ],
   "source": [
    "##linear regression one variable\n",
    "smpl<-lm(ratio$CSR~ ratio$TFR) \n",
    "summary(smpl)"
   ]
  },
  {
   "cell_type": "code",
   "execution_count": 32,
   "id": "81798337",
   "metadata": {},
   "outputs": [
    {
     "data": {
      "text/html": [
       "<style>\n",
       ".dl-inline {width: auto; margin:0; padding: 0}\n",
       ".dl-inline>dt, .dl-inline>dd {float: none; width: auto; display: inline-block}\n",
       ".dl-inline>dt::after {content: \":\\0020\"; padding-right: .5ex}\n",
       ".dl-inline>dt:not(:first-of-type) {padding-left: .5ex}\n",
       "</style><dl class=dl-inline><dt>(Intercept)</dt><dd>1033.63640484701</dd><dt>ratio$TFR</dt><dd>-98.1169906721296</dd></dl>\n"
      ],
      "text/latex": [
       "\\begin{description*}\n",
       "\\item[(Intercept)] 1033.63640484701\n",
       "\\item[ratio\\textbackslash{}\\$TFR] -98.1169906721296\n",
       "\\end{description*}\n"
      ],
      "text/markdown": [
       "(Intercept)\n",
       ":   1033.63640484701ratio$TFR\n",
       ":   -98.1169906721296\n",
       "\n"
      ],
      "text/plain": [
       "(Intercept)   ratio$TFR \n",
       " 1033.63640   -98.11699 "
      ]
     },
     "metadata": {},
     "output_type": "display_data"
    },
    {
     "data": {
      "text/html": [
       "<style>\n",
       ".dl-inline {width: auto; margin:0; padding: 0}\n",
       ".dl-inline>dt, .dl-inline>dd {float: none; width: auto; display: inline-block}\n",
       ".dl-inline>dt::after {content: \":\\0020\"; padding-right: .5ex}\n",
       ".dl-inline>dt:not(:first-of-type) {padding-left: .5ex}\n",
       "</style><dl class=dl-inline><dt>(Intercept)</dt><dd>1033.63640484701</dd><dt>ratio$TFR</dt><dd>-98.1169906721296</dd></dl>\n"
      ],
      "text/latex": [
       "\\begin{description*}\n",
       "\\item[(Intercept)] 1033.63640484701\n",
       "\\item[ratio\\textbackslash{}\\$TFR] -98.1169906721296\n",
       "\\end{description*}\n"
      ],
      "text/markdown": [
       "(Intercept)\n",
       ":   1033.63640484701ratio$TFR\n",
       ":   -98.1169906721296\n",
       "\n"
      ],
      "text/plain": [
       "(Intercept)   ratio$TFR \n",
       " 1033.63640   -98.11699 "
      ]
     },
     "metadata": {},
     "output_type": "display_data"
    }
   ],
   "source": [
    "## to look at the coefficients only\n",
    "smpl$coef\n",
    "## altenative for coeeficients\n",
    "coef(smpl)"
   ]
  },
  {
   "cell_type": "code",
   "execution_count": 4,
   "id": "d5890b83",
   "metadata": {},
   "outputs": [
    {
     "data": {
      "text/plain": [
       "\n",
       "Call:\n",
       "lm(formula = ratio$CSR ~ ratio$TFR + ratio$Fem_lit + ratio$SC_pop)\n",
       "\n",
       "Residuals:\n",
       "    Min      1Q  Median      3Q     Max \n",
       "-22.730  -6.791   1.776   8.564  16.972 \n",
       "\n",
       "Coefficients:\n",
       "              Estimate Std. Error t value Pr(>|t|)    \n",
       "(Intercept)   886.4359    78.0168  11.362 4.52e-09 ***\n",
       "ratio$TFR     -72.1413    26.5482  -2.717   0.0152 *  \n",
       "ratio$Fem_lit   0.8165     0.4242   1.925   0.0722 .  \n",
       "ratio$SC_pop    1.2464     0.5250   2.374   0.0304 *  \n",
       "---\n",
       "Signif. codes:  0 '***' 0.001 '**' 0.01 '*' 0.05 '.' 0.1 ' ' 1\n",
       "\n",
       "Residual standard error: 12.43 on 16 degrees of freedom\n",
       "Multiple R-squared:  0.6032,\tAdjusted R-squared:  0.5288 \n",
       "F-statistic: 8.107 on 3 and 16 DF,  p-value: 0.00165\n"
      ]
     },
     "metadata": {},
     "output_type": "display_data"
    },
    {
     "data": {
      "text/html": [
       "<style>\n",
       ".dl-inline {width: auto; margin:0; padding: 0}\n",
       ".dl-inline>dt, .dl-inline>dd {float: none; width: auto; display: inline-block}\n",
       ".dl-inline>dt::after {content: \":\\0020\"; padding-right: .5ex}\n",
       ".dl-inline>dt:not(:first-of-type) {padding-left: .5ex}\n",
       "</style><dl class=dl-inline><dt>(Intercept)</dt><dd>886.435935609172</dd><dt>ratio$TFR</dt><dd>-72.141317941495</dd><dt>ratio$Fem_lit</dt><dd>0.816463634572939</dd><dt>ratio$SC_pop</dt><dd>1.24644191778764</dd></dl>\n"
      ],
      "text/latex": [
       "\\begin{description*}\n",
       "\\item[(Intercept)] 886.435935609172\n",
       "\\item[ratio\\textbackslash{}\\$TFR] -72.141317941495\n",
       "\\item[ratio\\textbackslash{}\\$Fem\\textbackslash{}\\_lit] 0.816463634572939\n",
       "\\item[ratio\\textbackslash{}\\$SC\\textbackslash{}\\_pop] 1.24644191778764\n",
       "\\end{description*}\n"
      ],
      "text/markdown": [
       "(Intercept)\n",
       ":   886.435935609172ratio$TFR\n",
       ":   -72.141317941495ratio$Fem_lit\n",
       ":   0.816463634572939ratio$SC_pop\n",
       ":   1.24644191778764\n",
       "\n"
      ],
      "text/plain": [
       "  (Intercept)     ratio$TFR ratio$Fem_lit  ratio$SC_pop \n",
       "  886.4359356   -72.1413179     0.8164636     1.2464419 "
      ]
     },
     "metadata": {},
     "output_type": "display_data"
    }
   ],
   "source": [
    "##linear regression with multiple variables\n",
    "mult<-lm(ratio$CSR~ ratio$TFR+ratio$Fem_lit+ratio$SC_pop) \n",
    "summary(mult)\n",
    "coef(mult)"
   ]
  },
  {
   "cell_type": "markdown",
   "id": "e2d14635",
   "metadata": {},
   "source": [
    "## Logistic regression"
   ]
  },
  {
   "cell_type": "code",
   "execution_count": 6,
   "id": "bc55e93d",
   "metadata": {},
   "outputs": [
    {
     "name": "stderr",
     "output_type": "stream",
     "text": [
      "Warning message:\n",
      "\"package 'ISLR' was built under R version 4.1.3\"\n"
     ]
    }
   ],
   "source": [
    "#install.packages(\"ISLR\")\n",
    "library(ISLR)"
   ]
  },
  {
   "cell_type": "code",
   "execution_count": 7,
   "id": "db7d9bca",
   "metadata": {},
   "outputs": [],
   "source": [
    "data <- ISLR::Default"
   ]
  },
  {
   "cell_type": "code",
   "execution_count": 36,
   "id": "0a6a0fbd",
   "metadata": {},
   "outputs": [
    {
     "data": {
      "text/plain": [
       " default    student       balance           income     \n",
       " No :9667   No :7056   Min.   :   0.0   Min.   :  772  \n",
       " Yes: 333   Yes:2944   1st Qu.: 481.7   1st Qu.:21340  \n",
       "                       Median : 823.6   Median :34553  \n",
       "                       Mean   : 835.4   Mean   :33517  \n",
       "                       3rd Qu.:1166.3   3rd Qu.:43808  \n",
       "                       Max.   :2654.3   Max.   :73554  "
      ]
     },
     "metadata": {},
     "output_type": "display_data"
    }
   ],
   "source": [
    "summary(data)"
   ]
  },
  {
   "cell_type": "markdown",
   "id": "d247f6e1",
   "metadata": {},
   "source": [
    "This dataset contains the following information about 10,000 individuals:\n",
    "\n",
    "1. default: Indicates whether or not an individual defaulted.\n",
    "2. student: Indicates whether or not an individual is a student.\n",
    "3. bank balance: Average balance carried by an individual.\n",
    "4. income: Income of the individual."
   ]
  },
  {
   "cell_type": "markdown",
   "id": "d600e7b2",
   "metadata": {},
   "source": [
    "We will use student status, bank balance, and income to build a logistic regression model that predicts the probability that a given individual defaults:"
   ]
  },
  {
   "cell_type": "code",
   "execution_count": 8,
   "id": "560a6773",
   "metadata": {},
   "outputs": [
    {
     "data": {
      "text/plain": [
       "\n",
       "Call:\n",
       "glm(formula = default ~ balance + student + income, family = \"binomial\", \n",
       "    data = data)\n",
       "\n",
       "Deviance Residuals: \n",
       "    Min       1Q   Median       3Q      Max  \n",
       "-2.4691  -0.1418  -0.0557  -0.0203   3.7383  \n",
       "\n",
       "Coefficients:\n",
       "              Estimate Std. Error z value Pr(>|z|)    \n",
       "(Intercept) -1.087e+01  4.923e-01 -22.080  < 2e-16 ***\n",
       "balance      5.737e-03  2.319e-04  24.738  < 2e-16 ***\n",
       "studentYes  -6.468e-01  2.363e-01  -2.738  0.00619 ** \n",
       "income       3.033e-06  8.203e-06   0.370  0.71152    \n",
       "---\n",
       "Signif. codes:  0 '***' 0.001 '**' 0.01 '*' 0.05 '.' 0.1 ' ' 1\n",
       "\n",
       "(Dispersion parameter for binomial family taken to be 1)\n",
       "\n",
       "    Null deviance: 2920.6  on 9999  degrees of freedom\n",
       "Residual deviance: 1571.5  on 9996  degrees of freedom\n",
       "AIC: 1579.5\n",
       "\n",
       "Number of Fisher Scoring iterations: 8\n"
      ]
     },
     "metadata": {},
     "output_type": "display_data"
    }
   ],
   "source": [
    "#fit logistic regression model\n",
    "model <- glm(default~balance+student+income, family=\"binomial\", data=data)\n",
    "summary(model)"
   ]
  },
  {
   "cell_type": "markdown",
   "id": "778ff250",
   "metadata": {},
   "source": [
    "We can observe the following values in the output for the null and residual deviance.We can use these values to calculate the Chi-Square statistic of the model.\n",
    "There are p = 3 predictor variables degrees of freedom."
   ]
  },
  {
   "cell_type": "markdown",
   "id": "46f96e01",
   "metadata": {},
   "source": [
    "Chi-Square ==  Null deviance - Residual deviance"
   ]
  },
  {
   "cell_type": "markdown",
   "id": "070705c5",
   "metadata": {},
   "source": [
    "We can use the Chi-Square to P-Value Calculator to find that a Chi-Square value of 1331.6 with 3 degrees of freedom has a p-value of 0.000000.\n",
    "#https://www.statology.org/chi-square-p-value-calculator/"
   ]
  },
  {
   "cell_type": "code",
   "execution_count": 38,
   "id": "b558a003",
   "metadata": {},
   "outputs": [
    {
     "data": {
      "text/html": [
       "2.04732449151459e-288"
      ],
      "text/latex": [
       "2.04732449151459e-288"
      ],
      "text/markdown": [
       "2.04732449151459e-288"
      ],
      "text/plain": [
       "[1] 2.047324e-288"
      ]
     },
     "metadata": {},
     "output_type": "display_data"
    }
   ],
   "source": [
    "pchisq(1331.6, df=3, lower.tail=FALSE)"
   ]
  },
  {
   "cell_type": "code",
   "execution_count": 39,
   "id": "85494fb8",
   "metadata": {},
   "outputs": [],
   "source": [
    "url <-\"http://archive.ics.uci.edu/ml/machine-learning-databases/heart-disease/processed.cleveland.data\"\n",
    "\n",
    "data <-read.csv(url, header=FALSE)"
   ]
  },
  {
   "cell_type": "code",
   "execution_count": 40,
   "id": "46de0c11",
   "metadata": {},
   "outputs": [
    {
     "data": {
      "text/html": [
       "<table class=\"dataframe\">\n",
       "<caption>A data.frame: 6 × 14</caption>\n",
       "<thead>\n",
       "\t<tr><th></th><th scope=col>V1</th><th scope=col>V2</th><th scope=col>V3</th><th scope=col>V4</th><th scope=col>V5</th><th scope=col>V6</th><th scope=col>V7</th><th scope=col>V8</th><th scope=col>V9</th><th scope=col>V10</th><th scope=col>V11</th><th scope=col>V12</th><th scope=col>V13</th><th scope=col>V14</th></tr>\n",
       "\t<tr><th></th><th scope=col>&lt;dbl&gt;</th><th scope=col>&lt;dbl&gt;</th><th scope=col>&lt;dbl&gt;</th><th scope=col>&lt;dbl&gt;</th><th scope=col>&lt;dbl&gt;</th><th scope=col>&lt;dbl&gt;</th><th scope=col>&lt;dbl&gt;</th><th scope=col>&lt;dbl&gt;</th><th scope=col>&lt;dbl&gt;</th><th scope=col>&lt;dbl&gt;</th><th scope=col>&lt;dbl&gt;</th><th scope=col>&lt;chr&gt;</th><th scope=col>&lt;chr&gt;</th><th scope=col>&lt;int&gt;</th></tr>\n",
       "</thead>\n",
       "<tbody>\n",
       "\t<tr><th scope=row>1</th><td>63</td><td>1</td><td>1</td><td>145</td><td>233</td><td>1</td><td>2</td><td>150</td><td>0</td><td>2.3</td><td>3</td><td>0.0</td><td>6.0</td><td>0</td></tr>\n",
       "\t<tr><th scope=row>2</th><td>67</td><td>1</td><td>4</td><td>160</td><td>286</td><td>0</td><td>2</td><td>108</td><td>1</td><td>1.5</td><td>2</td><td>3.0</td><td>3.0</td><td>2</td></tr>\n",
       "\t<tr><th scope=row>3</th><td>67</td><td>1</td><td>4</td><td>120</td><td>229</td><td>0</td><td>2</td><td>129</td><td>1</td><td>2.6</td><td>2</td><td>2.0</td><td>7.0</td><td>1</td></tr>\n",
       "\t<tr><th scope=row>4</th><td>37</td><td>1</td><td>3</td><td>130</td><td>250</td><td>0</td><td>0</td><td>187</td><td>0</td><td>3.5</td><td>3</td><td>0.0</td><td>3.0</td><td>0</td></tr>\n",
       "\t<tr><th scope=row>5</th><td>41</td><td>0</td><td>2</td><td>130</td><td>204</td><td>0</td><td>2</td><td>172</td><td>0</td><td>1.4</td><td>1</td><td>0.0</td><td>3.0</td><td>0</td></tr>\n",
       "\t<tr><th scope=row>6</th><td>56</td><td>1</td><td>2</td><td>120</td><td>236</td><td>0</td><td>0</td><td>178</td><td>0</td><td>0.8</td><td>1</td><td>0.0</td><td>3.0</td><td>0</td></tr>\n",
       "</tbody>\n",
       "</table>\n"
      ],
      "text/latex": [
       "A data.frame: 6 × 14\n",
       "\\begin{tabular}{r|llllllllllllll}\n",
       "  & V1 & V2 & V3 & V4 & V5 & V6 & V7 & V8 & V9 & V10 & V11 & V12 & V13 & V14\\\\\n",
       "  & <dbl> & <dbl> & <dbl> & <dbl> & <dbl> & <dbl> & <dbl> & <dbl> & <dbl> & <dbl> & <dbl> & <chr> & <chr> & <int>\\\\\n",
       "\\hline\n",
       "\t1 & 63 & 1 & 1 & 145 & 233 & 1 & 2 & 150 & 0 & 2.3 & 3 & 0.0 & 6.0 & 0\\\\\n",
       "\t2 & 67 & 1 & 4 & 160 & 286 & 0 & 2 & 108 & 1 & 1.5 & 2 & 3.0 & 3.0 & 2\\\\\n",
       "\t3 & 67 & 1 & 4 & 120 & 229 & 0 & 2 & 129 & 1 & 2.6 & 2 & 2.0 & 7.0 & 1\\\\\n",
       "\t4 & 37 & 1 & 3 & 130 & 250 & 0 & 0 & 187 & 0 & 3.5 & 3 & 0.0 & 3.0 & 0\\\\\n",
       "\t5 & 41 & 0 & 2 & 130 & 204 & 0 & 2 & 172 & 0 & 1.4 & 1 & 0.0 & 3.0 & 0\\\\\n",
       "\t6 & 56 & 1 & 2 & 120 & 236 & 0 & 0 & 178 & 0 & 0.8 & 1 & 0.0 & 3.0 & 0\\\\\n",
       "\\end{tabular}\n"
      ],
      "text/markdown": [
       "\n",
       "A data.frame: 6 × 14\n",
       "\n",
       "| <!--/--> | V1 &lt;dbl&gt; | V2 &lt;dbl&gt; | V3 &lt;dbl&gt; | V4 &lt;dbl&gt; | V5 &lt;dbl&gt; | V6 &lt;dbl&gt; | V7 &lt;dbl&gt; | V8 &lt;dbl&gt; | V9 &lt;dbl&gt; | V10 &lt;dbl&gt; | V11 &lt;dbl&gt; | V12 &lt;chr&gt; | V13 &lt;chr&gt; | V14 &lt;int&gt; |\n",
       "|---|---|---|---|---|---|---|---|---|---|---|---|---|---|---|\n",
       "| 1 | 63 | 1 | 1 | 145 | 233 | 1 | 2 | 150 | 0 | 2.3 | 3 | 0.0 | 6.0 | 0 |\n",
       "| 2 | 67 | 1 | 4 | 160 | 286 | 0 | 2 | 108 | 1 | 1.5 | 2 | 3.0 | 3.0 | 2 |\n",
       "| 3 | 67 | 1 | 4 | 120 | 229 | 0 | 2 | 129 | 1 | 2.6 | 2 | 2.0 | 7.0 | 1 |\n",
       "| 4 | 37 | 1 | 3 | 130 | 250 | 0 | 0 | 187 | 0 | 3.5 | 3 | 0.0 | 3.0 | 0 |\n",
       "| 5 | 41 | 0 | 2 | 130 | 204 | 0 | 2 | 172 | 0 | 1.4 | 1 | 0.0 | 3.0 | 0 |\n",
       "| 6 | 56 | 1 | 2 | 120 | 236 | 0 | 0 | 178 | 0 | 0.8 | 1 | 0.0 | 3.0 | 0 |\n",
       "\n"
      ],
      "text/plain": [
       "  V1 V2 V3 V4  V5  V6 V7 V8  V9 V10 V11 V12 V13 V14\n",
       "1 63 1  1  145 233 1  2  150 0  2.3 3   0.0 6.0 0  \n",
       "2 67 1  4  160 286 0  2  108 1  1.5 2   3.0 3.0 2  \n",
       "3 67 1  4  120 229 0  2  129 1  2.6 2   2.0 7.0 1  \n",
       "4 37 1  3  130 250 0  0  187 0  3.5 3   0.0 3.0 0  \n",
       "5 41 0  2  130 204 0  2  172 0  1.4 1   0.0 3.0 0  \n",
       "6 56 1  2  120 236 0  0  178 0  0.8 1   0.0 3.0 0  "
      ]
     },
     "metadata": {},
     "output_type": "display_data"
    }
   ],
   "source": [
    "head(data)"
   ]
  },
  {
   "cell_type": "code",
   "execution_count": 41,
   "id": "06180744",
   "metadata": {},
   "outputs": [],
   "source": [
    "colnames(data)<-c(\"age\",\"sex\",\"cp\",\"trestbps\",\"chol\",\"fbs\",\"restecg\",\n",
    "                  \"thatach\",\"exang\",\"oldpeak\",\"slope\",\"ca\",\"thal\",\"hd\")"
   ]
  },
  {
   "cell_type": "code",
   "execution_count": 42,
   "id": "0a7faf16",
   "metadata": {},
   "outputs": [
    {
     "name": "stdout",
     "output_type": "stream",
     "text": [
      "'data.frame':\t303 obs. of  14 variables:\n",
      " $ age     : num  63 67 67 37 41 56 62 57 63 53 ...\n",
      " $ sex     : num  1 1 1 1 0 1 0 0 1 1 ...\n",
      " $ cp      : num  1 4 4 3 2 2 4 4 4 4 ...\n",
      " $ trestbps: num  145 160 120 130 130 120 140 120 130 140 ...\n",
      " $ chol    : num  233 286 229 250 204 236 268 354 254 203 ...\n",
      " $ fbs     : num  1 0 0 0 0 0 0 0 0 1 ...\n",
      " $ restecg : num  2 2 2 0 2 0 2 0 2 2 ...\n",
      " $ thatach : num  150 108 129 187 172 178 160 163 147 155 ...\n",
      " $ exang   : num  0 1 1 0 0 0 0 1 0 1 ...\n",
      " $ oldpeak : num  2.3 1.5 2.6 3.5 1.4 0.8 3.6 0.6 1.4 3.1 ...\n",
      " $ slope   : num  3 2 2 3 1 1 3 1 2 3 ...\n",
      " $ ca      : chr  \"0.0\" \"3.0\" \"2.0\" \"0.0\" ...\n",
      " $ thal    : chr  \"6.0\" \"3.0\" \"7.0\" \"3.0\" ...\n",
      " $ hd      : int  0 2 1 0 0 0 3 0 2 1 ...\n"
     ]
    }
   ],
   "source": [
    "str(data)"
   ]
  },
  {
   "cell_type": "markdown",
   "id": "e789ee30",
   "metadata": {},
   "source": [
    "1. sex is a number, but it is supposed to be a factor, where 0 represents \"female\" and 1 represents \"male\"\n",
    "\n",
    "2. cp (Chest pain) is also supposed to be a factor, where 1-3 represents different types of pain and 4 represents no chest pain\n",
    "\n",
    "3. ca and thal are correctly called factors, but one of the levels is \"?\" when we need it to be NA... So some cleaning is required"
   ]
  },
  {
   "cell_type": "code",
   "execution_count": 43,
   "id": "6329ea25",
   "metadata": {},
   "outputs": [],
   "source": [
    "#First change \"?\" to NA\n",
    "data[data==\"?\"]<-NA"
   ]
  },
  {
   "cell_type": "code",
   "execution_count": 44,
   "id": "25acefb2",
   "metadata": {},
   "outputs": [],
   "source": [
    "##Just to make data easier on the eyes, we convert the 0's in sex to F\n",
    "data[data$sex==0,]$sex<-\"F\"\n",
    "data[data$sex==1,]$sex<-\"M\""
   ]
  },
  {
   "cell_type": "code",
   "execution_count": 45,
   "id": "29334fb2",
   "metadata": {},
   "outputs": [],
   "source": [
    "##Lastly, we convert the column into a factor.\n",
    "data$sex<-as.factor(data$sex)"
   ]
  },
  {
   "cell_type": "code",
   "execution_count": 46,
   "id": "49c0d0f8",
   "metadata": {},
   "outputs": [],
   "source": [
    "##then we convert a bunch of other columns into factors since that's what they are supposed to be\n",
    "data$cp<-as.factor(data$cp)\n",
    "data$fbs<-as.factor(data$fbs)\n",
    "data$restecg<-as.factor(data$restecg)\n",
    "data$exang<-as.factor(data$exang)\n",
    "data$slope<-as.factor(data$slope)"
   ]
  },
  {
   "cell_type": "code",
   "execution_count": 47,
   "id": "679df5a3",
   "metadata": {},
   "outputs": [],
   "source": [
    "##since the ca column originally had a ? in it, rather than NA, R thinks \n",
    "#it's a column of strings. corrected by telling R its a column of integers..\n",
    "data$ca<-as.integer(data$ca)"
   ]
  },
  {
   "cell_type": "code",
   "execution_count": 48,
   "id": "1a643bb1",
   "metadata": {},
   "outputs": [],
   "source": [
    "##and we convered it to a factor\n",
    "data$ca<-as.factor(data$ca)"
   ]
  },
  {
   "cell_type": "code",
   "execution_count": 49,
   "id": "28f850b2",
   "metadata": {},
   "outputs": [],
   "source": [
    "##did same for thal\n",
    "data$thal<-as.integer(data$thal)\n",
    "data$thal<-as.factor(data$thal)"
   ]
  },
  {
   "cell_type": "markdown",
   "id": "35fcef2a",
   "metadata": {},
   "source": [
    "last thing need to do to the data is make hd,(aka heart disease), a factor that is easy on the eyes. Here I'm using a another trick"
   ]
  },
  {
   "cell_type": "markdown",
   "id": "c17371ea",
   "metadata": {},
   "source": [
    "with ifelse() to convert the 0s to \"Healthy\" and the 1's to \"unhealthy\""
   ]
  },
  {
   "cell_type": "code",
   "execution_count": 50,
   "id": "df4de30b",
   "metadata": {},
   "outputs": [],
   "source": [
    "data$hd <-ifelse(test=data$hd==0, yes=\"Healthy\", no=\"Unhealthy\")\n",
    "data$hd <-as.factor(data$hd)"
   ]
  },
  {
   "cell_type": "code",
   "execution_count": 51,
   "id": "d38eaa57",
   "metadata": {},
   "outputs": [
    {
     "name": "stdout",
     "output_type": "stream",
     "text": [
      "'data.frame':\t303 obs. of  14 variables:\n",
      " $ age     : num  63 67 67 37 41 56 62 57 63 53 ...\n",
      " $ sex     : Factor w/ 2 levels \"F\",\"M\": 2 2 2 2 1 2 1 1 2 2 ...\n",
      " $ cp      : Factor w/ 4 levels \"1\",\"2\",\"3\",\"4\": 1 4 4 3 2 2 4 4 4 4 ...\n",
      " $ trestbps: num  145 160 120 130 130 120 140 120 130 140 ...\n",
      " $ chol    : num  233 286 229 250 204 236 268 354 254 203 ...\n",
      " $ fbs     : Factor w/ 2 levels \"0\",\"1\": 2 1 1 1 1 1 1 1 1 2 ...\n",
      " $ restecg : Factor w/ 3 levels \"0\",\"1\",\"2\": 3 3 3 1 3 1 3 1 3 3 ...\n",
      " $ thatach : num  150 108 129 187 172 178 160 163 147 155 ...\n",
      " $ exang   : Factor w/ 2 levels \"0\",\"1\": 1 2 2 1 1 1 1 2 1 2 ...\n",
      " $ oldpeak : num  2.3 1.5 2.6 3.5 1.4 0.8 3.6 0.6 1.4 3.1 ...\n",
      " $ slope   : Factor w/ 3 levels \"1\",\"2\",\"3\": 3 2 2 3 1 1 3 1 2 3 ...\n",
      " $ ca      : Factor w/ 4 levels \"0\",\"1\",\"2\",\"3\": 1 4 3 1 1 1 3 1 2 1 ...\n",
      " $ thal    : Factor w/ 3 levels \"3\",\"6\",\"7\": 2 1 3 1 1 1 1 1 3 3 ...\n",
      " $ hd      : Factor w/ 2 levels \"Healthy\",\"Unhealthy\": 1 2 2 1 1 1 2 1 2 2 ...\n"
     ]
    }
   ],
   "source": [
    "##once we've done fixing up data, check that made appropriate changes with str()\n",
    "str(data)"
   ]
  },
  {
   "cell_type": "code",
   "execution_count": 52,
   "id": "289d018a",
   "metadata": {},
   "outputs": [
    {
     "data": {
      "text/html": [
       "6"
      ],
      "text/latex": [
       "6"
      ],
      "text/markdown": [
       "6"
      ],
      "text/plain": [
       "[1] 6"
      ]
     },
     "metadata": {},
     "output_type": "display_data"
    }
   ],
   "source": [
    "##Now see how man y samples (row of data) have NA values.\n",
    "##Later we will decide if we can just toss these samples out, or if we \n",
    "##should impute values for the NA's\n",
    "\n",
    "nrow(data[is.na(data$ca)| is.na(data$thal),])"
   ]
  },
  {
   "cell_type": "code",
   "execution_count": 53,
   "id": "2dd4904d",
   "metadata": {},
   "outputs": [
    {
     "data": {
      "text/html": [
       "<table class=\"dataframe\">\n",
       "<caption>A data.frame: 6 × 14</caption>\n",
       "<thead>\n",
       "\t<tr><th></th><th scope=col>age</th><th scope=col>sex</th><th scope=col>cp</th><th scope=col>trestbps</th><th scope=col>chol</th><th scope=col>fbs</th><th scope=col>restecg</th><th scope=col>thatach</th><th scope=col>exang</th><th scope=col>oldpeak</th><th scope=col>slope</th><th scope=col>ca</th><th scope=col>thal</th><th scope=col>hd</th></tr>\n",
       "\t<tr><th></th><th scope=col>&lt;dbl&gt;</th><th scope=col>&lt;fct&gt;</th><th scope=col>&lt;fct&gt;</th><th scope=col>&lt;dbl&gt;</th><th scope=col>&lt;dbl&gt;</th><th scope=col>&lt;fct&gt;</th><th scope=col>&lt;fct&gt;</th><th scope=col>&lt;dbl&gt;</th><th scope=col>&lt;fct&gt;</th><th scope=col>&lt;dbl&gt;</th><th scope=col>&lt;fct&gt;</th><th scope=col>&lt;fct&gt;</th><th scope=col>&lt;fct&gt;</th><th scope=col>&lt;fct&gt;</th></tr>\n",
       "</thead>\n",
       "<tbody>\n",
       "\t<tr><th scope=row>88</th><td>53</td><td>F</td><td>3</td><td>128</td><td>216</td><td>0</td><td>2</td><td>115</td><td>0</td><td>0.0</td><td>1</td><td>0 </td><td>NA</td><td>Healthy  </td></tr>\n",
       "\t<tr><th scope=row>167</th><td>52</td><td>M</td><td>3</td><td>138</td><td>223</td><td>0</td><td>0</td><td>169</td><td>0</td><td>0.0</td><td>1</td><td>NA</td><td>3 </td><td>Healthy  </td></tr>\n",
       "\t<tr><th scope=row>193</th><td>43</td><td>M</td><td>4</td><td>132</td><td>247</td><td>1</td><td>2</td><td>143</td><td>1</td><td>0.1</td><td>2</td><td>NA</td><td>7 </td><td>Unhealthy</td></tr>\n",
       "\t<tr><th scope=row>267</th><td>52</td><td>M</td><td>4</td><td>128</td><td>204</td><td>1</td><td>0</td><td>156</td><td>1</td><td>1.0</td><td>2</td><td>0 </td><td>NA</td><td>Unhealthy</td></tr>\n",
       "\t<tr><th scope=row>288</th><td>58</td><td>M</td><td>2</td><td>125</td><td>220</td><td>0</td><td>0</td><td>144</td><td>0</td><td>0.4</td><td>2</td><td>NA</td><td>7 </td><td>Healthy  </td></tr>\n",
       "\t<tr><th scope=row>303</th><td>38</td><td>M</td><td>3</td><td>138</td><td>175</td><td>0</td><td>0</td><td>173</td><td>0</td><td>0.0</td><td>1</td><td>NA</td><td>3 </td><td>Healthy  </td></tr>\n",
       "</tbody>\n",
       "</table>\n"
      ],
      "text/latex": [
       "A data.frame: 6 × 14\n",
       "\\begin{tabular}{r|llllllllllllll}\n",
       "  & age & sex & cp & trestbps & chol & fbs & restecg & thatach & exang & oldpeak & slope & ca & thal & hd\\\\\n",
       "  & <dbl> & <fct> & <fct> & <dbl> & <dbl> & <fct> & <fct> & <dbl> & <fct> & <dbl> & <fct> & <fct> & <fct> & <fct>\\\\\n",
       "\\hline\n",
       "\t88 & 53 & F & 3 & 128 & 216 & 0 & 2 & 115 & 0 & 0.0 & 1 & 0  & NA & Healthy  \\\\\n",
       "\t167 & 52 & M & 3 & 138 & 223 & 0 & 0 & 169 & 0 & 0.0 & 1 & NA & 3  & Healthy  \\\\\n",
       "\t193 & 43 & M & 4 & 132 & 247 & 1 & 2 & 143 & 1 & 0.1 & 2 & NA & 7  & Unhealthy\\\\\n",
       "\t267 & 52 & M & 4 & 128 & 204 & 1 & 0 & 156 & 1 & 1.0 & 2 & 0  & NA & Unhealthy\\\\\n",
       "\t288 & 58 & M & 2 & 125 & 220 & 0 & 0 & 144 & 0 & 0.4 & 2 & NA & 7  & Healthy  \\\\\n",
       "\t303 & 38 & M & 3 & 138 & 175 & 0 & 0 & 173 & 0 & 0.0 & 1 & NA & 3  & Healthy  \\\\\n",
       "\\end{tabular}\n"
      ],
      "text/markdown": [
       "\n",
       "A data.frame: 6 × 14\n",
       "\n",
       "| <!--/--> | age &lt;dbl&gt; | sex &lt;fct&gt; | cp &lt;fct&gt; | trestbps &lt;dbl&gt; | chol &lt;dbl&gt; | fbs &lt;fct&gt; | restecg &lt;fct&gt; | thatach &lt;dbl&gt; | exang &lt;fct&gt; | oldpeak &lt;dbl&gt; | slope &lt;fct&gt; | ca &lt;fct&gt; | thal &lt;fct&gt; | hd &lt;fct&gt; |\n",
       "|---|---|---|---|---|---|---|---|---|---|---|---|---|---|---|\n",
       "| 88 | 53 | F | 3 | 128 | 216 | 0 | 2 | 115 | 0 | 0.0 | 1 | 0  | NA | Healthy   |\n",
       "| 167 | 52 | M | 3 | 138 | 223 | 0 | 0 | 169 | 0 | 0.0 | 1 | NA | 3  | Healthy   |\n",
       "| 193 | 43 | M | 4 | 132 | 247 | 1 | 2 | 143 | 1 | 0.1 | 2 | NA | 7  | Unhealthy |\n",
       "| 267 | 52 | M | 4 | 128 | 204 | 1 | 0 | 156 | 1 | 1.0 | 2 | 0  | NA | Unhealthy |\n",
       "| 288 | 58 | M | 2 | 125 | 220 | 0 | 0 | 144 | 0 | 0.4 | 2 | NA | 7  | Healthy   |\n",
       "| 303 | 38 | M | 3 | 138 | 175 | 0 | 0 | 173 | 0 | 0.0 | 1 | NA | 3  | Healthy   |\n",
       "\n"
      ],
      "text/plain": [
       "    age sex cp trestbps chol fbs restecg thatach exang oldpeak slope ca thal\n",
       "88  53  F   3  128      216  0   2       115     0     0.0     1     0  NA  \n",
       "167 52  M   3  138      223  0   0       169     0     0.0     1     NA 3   \n",
       "193 43  M   4  132      247  1   2       143     1     0.1     2     NA 7   \n",
       "267 52  M   4  128      204  1   0       156     1     1.0     2     0  NA  \n",
       "288 58  M   2  125      220  0   0       144     0     0.4     2     NA 7   \n",
       "303 38  M   3  138      175  0   0       173     0     0.0     1     NA 3   \n",
       "    hd       \n",
       "88  Healthy  \n",
       "167 Healthy  \n",
       "193 Unhealthy\n",
       "267 Unhealthy\n",
       "288 Healthy  \n",
       "303 Healthy  "
      ]
     },
     "metadata": {},
     "output_type": "display_data"
    }
   ],
   "source": [
    "##we can view the samples with NA's by selecting those row's from the data.frame\n",
    "data[is.na(data$ca)| is.na(data$thal),]"
   ]
  },
  {
   "cell_type": "code",
   "execution_count": 54,
   "id": "745a3e2f",
   "metadata": {},
   "outputs": [
    {
     "data": {
      "text/html": [
       "303"
      ],
      "text/latex": [
       "303"
      ],
      "text/markdown": [
       "303"
      ],
      "text/plain": [
       "[1] 303"
      ]
     },
     "metadata": {},
     "output_type": "display_data"
    }
   ],
   "source": [
    "##We will remove these samples\n",
    "nrow(data)"
   ]
  },
  {
   "cell_type": "code",
   "execution_count": 55,
   "id": "782df6c7",
   "metadata": {},
   "outputs": [],
   "source": [
    "data <-data[!(is.na(data$ca)| is.na(data$thal)),]"
   ]
  },
  {
   "cell_type": "code",
   "execution_count": 56,
   "id": "50eab885",
   "metadata": {},
   "outputs": [
    {
     "data": {
      "text/html": [
       "297"
      ],
      "text/latex": [
       "297"
      ],
      "text/markdown": [
       "297"
      ],
      "text/plain": [
       "[1] 297"
      ]
     },
     "metadata": {},
     "output_type": "display_data"
    }
   ],
   "source": [
    "nrow(data)"
   ]
  },
  {
   "cell_type": "markdown",
   "id": "9289d7e9",
   "metadata": {},
   "source": [
    "## Now we need to make sure that Healthy and diseased samples come from each gender(M&F) "
   ]
  },
  {
   "cell_type": "code",
   "execution_count": 57,
   "id": "a71f18f6",
   "metadata": {},
   "outputs": [
    {
     "data": {
      "text/plain": [
       "           sex\n",
       "hd            F   M\n",
       "  Healthy    71  89\n",
       "  Unhealthy  25 112"
      ]
     },
     "metadata": {},
     "output_type": "display_data"
    }
   ],
   "source": [
    "xtabs(~hd+sex, data=data)"
   ]
  },
  {
   "cell_type": "code",
   "execution_count": 58,
   "id": "d5e52bcc",
   "metadata": {},
   "outputs": [
    {
     "data": {
      "text/plain": [
       "           cp\n",
       "hd            1   2   3   4\n",
       "  Healthy    16  40  65  39\n",
       "  Unhealthy   7   9  18 103"
      ]
     },
     "metadata": {},
     "output_type": "display_data"
    }
   ],
   "source": [
    "xtabs(~hd+cp, data=data)"
   ]
  },
  {
   "cell_type": "code",
   "execution_count": 59,
   "id": "f8ae2274",
   "metadata": {},
   "outputs": [
    {
     "data": {
      "text/plain": [
       "           fbs\n",
       "hd            0   1\n",
       "  Healthy   137  23\n",
       "  Unhealthy 117  20"
      ]
     },
     "metadata": {},
     "output_type": "display_data"
    }
   ],
   "source": [
    "xtabs(~hd+fbs, data=data)"
   ]
  },
  {
   "cell_type": "code",
   "execution_count": 60,
   "id": "df160ed6",
   "metadata": {},
   "outputs": [
    {
     "data": {
      "text/plain": [
       "           restecg\n",
       "hd           0  1  2\n",
       "  Healthy   92  1 67\n",
       "  Unhealthy 55  3 79"
      ]
     },
     "metadata": {},
     "output_type": "display_data"
    }
   ],
   "source": [
    "xtabs(~hd+restecg, data=data)"
   ]
  },
  {
   "cell_type": "markdown",
   "id": "83923ee0",
   "metadata": {},
   "source": [
    "## Logit"
   ]
  },
  {
   "cell_type": "markdown",
   "id": "1bafd25a",
   "metadata": {},
   "source": [
    "Here's our call to glm() the function that performs Generalised linear models"
   ]
  },
  {
   "cell_type": "code",
   "execution_count": 61,
   "id": "68112a87",
   "metadata": {},
   "outputs": [
    {
     "data": {
      "text/plain": [
       "\n",
       "Call:\n",
       "glm(formula = hd ~ sex, family = \"binomial\", data = data)\n",
       "\n",
       "Deviance Residuals: \n",
       "    Min       1Q   Median       3Q      Max  \n",
       "-1.2765  -1.2765  -0.7768   1.0815   1.6404  \n",
       "\n",
       "Coefficients:\n",
       "            Estimate Std. Error z value Pr(>|z|)    \n",
       "(Intercept)  -1.0438     0.2326  -4.488 7.18e-06 ***\n",
       "sexM          1.2737     0.2725   4.674 2.95e-06 ***\n",
       "---\n",
       "Signif. codes:  0 '***' 0.001 '**' 0.01 '*' 0.05 '.' 0.1 ' ' 1\n",
       "\n",
       "(Dispersion parameter for binomial family taken to be 1)\n",
       "\n",
       "    Null deviance: 409.95  on 296  degrees of freedom\n",
       "Residual deviance: 386.12  on 295  degrees of freedom\n",
       "AIC: 390.12\n",
       "\n",
       "Number of Fisher Scoring iterations: 4\n"
      ]
     },
     "metadata": {},
     "output_type": "display_data"
    }
   ],
   "source": [
    "logistic <-glm(hd~sex, data=data, family = \"binomial\")\n",
    "summary(logistic)"
   ]
  },
  {
   "cell_type": "code",
   "execution_count": 62,
   "id": "5c1ce78b",
   "metadata": {},
   "outputs": [
    {
     "data": {
      "text/plain": [
       "\n",
       "Call:\n",
       "glm(formula = hd ~ ., family = \"binomial\", data = data)\n",
       "\n",
       "Deviance Residuals: \n",
       "    Min       1Q   Median       3Q      Max  \n",
       "-3.0490  -0.4847  -0.1213   0.3039   2.9086  \n",
       "\n",
       "Coefficients:\n",
       "             Estimate Std. Error z value Pr(>|z|)    \n",
       "(Intercept) -6.253978   2.960399  -2.113 0.034640 *  \n",
       "age         -0.023508   0.025122  -0.936 0.349402    \n",
       "sexM         1.670152   0.552486   3.023 0.002503 ** \n",
       "cp2          1.448396   0.809136   1.790 0.073446 .  \n",
       "cp3          0.393353   0.700338   0.562 0.574347    \n",
       "cp4          2.373287   0.709094   3.347 0.000817 ***\n",
       "trestbps     0.027720   0.011748   2.359 0.018300 *  \n",
       "chol         0.004445   0.004091   1.087 0.277253    \n",
       "fbs1        -0.574079   0.592539  -0.969 0.332622    \n",
       "restecg1     1.000887   2.638393   0.379 0.704424    \n",
       "restecg2     0.486408   0.396327   1.227 0.219713    \n",
       "thatach     -0.019695   0.011717  -1.681 0.092781 .  \n",
       "exang1       0.653306   0.447445   1.460 0.144267    \n",
       "oldpeak      0.390679   0.239173   1.633 0.102373    \n",
       "slope2       1.302289   0.486197   2.679 0.007395 ** \n",
       "slope3       0.606760   0.939324   0.646 0.518309    \n",
       "ca1          2.237444   0.514770   4.346 1.38e-05 ***\n",
       "ca2          3.271852   0.785123   4.167 3.08e-05 ***\n",
       "ca3          2.188715   0.928644   2.357 0.018428 *  \n",
       "thal6       -0.168439   0.810310  -0.208 0.835331    \n",
       "thal7        1.433319   0.440567   3.253 0.001141 ** \n",
       "---\n",
       "Signif. codes:  0 '***' 0.001 '**' 0.01 '*' 0.05 '.' 0.1 ' ' 1\n",
       "\n",
       "(Dispersion parameter for binomial family taken to be 1)\n",
       "\n",
       "    Null deviance: 409.95  on 296  degrees of freedom\n",
       "Residual deviance: 183.10  on 276  degrees of freedom\n",
       "AIC: 225.1\n",
       "\n",
       "Number of Fisher Scoring iterations: 6\n"
      ]
     },
     "metadata": {},
     "output_type": "display_data"
    }
   ],
   "source": [
    "logistic <- glm(hd ~ ., data=data, family = \"binomial\")\n",
    "summary(logistic)"
   ]
  },
  {
   "cell_type": "code",
   "execution_count": 63,
   "id": "e426fe1b",
   "metadata": {},
   "outputs": [
    {
     "name": "stderr",
     "output_type": "stream",
     "text": [
      "Warning message:\n",
      "\"package 'haven' was built under R version 4.1.3\"\n"
     ]
    },
    {
     "data": {
      "text/html": [
       "'C:/Users/sathi/Videos'"
      ],
      "text/latex": [
       "'C:/Users/sathi/Videos'"
      ],
      "text/markdown": [
       "'C:/Users/sathi/Videos'"
      ],
      "text/plain": [
       "[1] \"C:/Users/sathi/Videos\""
      ]
     },
     "metadata": {},
     "output_type": "display_data"
    }
   ],
   "source": [
    "\n",
    "\n",
    "\n",
    "\n",
    "#install.packages(\"haven\")\n",
    "library(haven)\n",
    "getwd()"
   ]
  },
  {
   "cell_type": "code",
   "execution_count": 64,
   "id": "cbb20fbf",
   "metadata": {},
   "outputs": [],
   "source": [
    "Badheri<-read_dta(\"C:\\\\Users\\\\sathi\\\\Downloads\\\\badheri_regnew.dta\")"
   ]
  },
  {
   "cell_type": "code",
   "execution_count": 65,
   "id": "a8f77cbb",
   "metadata": {},
   "outputs": [
    {
     "data": {
      "text/html": [
       "<style>\n",
       ".list-inline {list-style: none; margin:0; padding: 0}\n",
       ".list-inline>li {display: inline-block}\n",
       ".list-inline>li:not(:last-child)::after {content: \"\\00b7\"; padding: 0 .5ex}\n",
       "</style>\n",
       "<ol class=list-inline><li>'n_adlt_bov'</li><li>'no_bovine'</li><li>'operated'</li><li>'cattleshed'</li><li>'high_medu'</li><li>'high_fedu'</li><li>'no_child'</li><li>'no_adult'</li><li>'no_old'</li></ol>\n"
      ],
      "text/latex": [
       "\\begin{enumerate*}\n",
       "\\item 'n\\_adlt\\_bov'\n",
       "\\item 'no\\_bovine'\n",
       "\\item 'operated'\n",
       "\\item 'cattleshed'\n",
       "\\item 'high\\_medu'\n",
       "\\item 'high\\_fedu'\n",
       "\\item 'no\\_child'\n",
       "\\item 'no\\_adult'\n",
       "\\item 'no\\_old'\n",
       "\\end{enumerate*}\n"
      ],
      "text/markdown": [
       "1. 'n_adlt_bov'\n",
       "2. 'no_bovine'\n",
       "3. 'operated'\n",
       "4. 'cattleshed'\n",
       "5. 'high_medu'\n",
       "6. 'high_fedu'\n",
       "7. 'no_child'\n",
       "8. 'no_adult'\n",
       "9. 'no_old'\n",
       "\n",
       "\n"
      ],
      "text/plain": [
       "[1] \"n_adlt_bov\" \"no_bovine\"  \"operated\"   \"cattleshed\" \"high_medu\" \n",
       "[6] \"high_fedu\"  \"no_child\"   \"no_adult\"   \"no_old\"    "
      ]
     },
     "metadata": {},
     "output_type": "display_data"
    }
   ],
   "source": [
    "names(Badheri)"
   ]
  },
  {
   "cell_type": "markdown",
   "id": "b14812b7",
   "metadata": {},
   "source": [
    "1. Y=nbo (Number of bovine owned last year)  \n",
    "2. Xs= land(land operated size),cattleshed (Area of Cattle shed),\n",
    "3. high_medu & high_fedu (Highest male education and Highest female education in hh)\n",
    "4. no_child(number of Children upto 14 years in hh), \n",
    "5. no_adult( number of adults (15-60years) in hh), no_old (numbers of old members in hh 60 and above) etc"
   ]
  },
  {
   "cell_type": "code",
   "execution_count": 66,
   "id": "edd51415",
   "metadata": {},
   "outputs": [],
   "source": [
    "attach(Badheri)"
   ]
  },
  {
   "cell_type": "code",
   "execution_count": 67,
   "id": "2f030fb0",
   "metadata": {},
   "outputs": [
    {
     "data": {
      "text/plain": [
       "\n",
       "Call:\n",
       "glm(formula = no_bovine ~ operated + cattleshed + high_medu + \n",
       "    high_fedu + no_child + no_adult + no_old, family = \"poisson\")\n",
       "\n",
       "Deviance Residuals: \n",
       "    Min       1Q   Median       3Q      Max  \n",
       "-2.5928  -1.6903  -0.1086   0.8449   3.4125  \n",
       "\n",
       "Coefficients:\n",
       "              Estimate Std. Error z value Pr(>|z|)   \n",
       "(Intercept) -1.348e-01  1.996e-01  -0.675  0.49955   \n",
       "operated     2.915e-02  9.866e-03   2.955  0.00313 **\n",
       "cattleshed   5.457e-05  4.238e-05   1.288  0.19787   \n",
       "high_medu    6.051e-02  2.951e-02   2.051  0.04029 * \n",
       "high_fedu   -2.490e-02  2.743e-02  -0.908  0.36404   \n",
       "no_child     4.611e-02  4.061e-02   1.135  0.25621   \n",
       "no_adult     8.756e-02  3.640e-02   2.406  0.01615 * \n",
       "no_old       2.066e-01  8.557e-02   2.414  0.01577 * \n",
       "---\n",
       "Signif. codes:  0 '***' 0.001 '**' 0.01 '*' 0.05 '.' 0.1 ' ' 1\n",
       "\n",
       "(Dispersion parameter for poisson family taken to be 1)\n",
       "\n",
       "    Null deviance: 336.84  on 131  degrees of freedom\n",
       "Residual deviance: 248.22  on 124  degrees of freedom\n",
       "  (1 observation deleted due to missingness)\n",
       "AIC: 536.75\n",
       "\n",
       "Number of Fisher Scoring iterations: 5\n"
      ]
     },
     "metadata": {},
     "output_type": "display_data"
    }
   ],
   "source": [
    "PoissonModel1 <-glm(no_bovine~operated+cattleshed+\n",
    "                      high_medu+high_fedu+\n",
    "                      no_child+no_adult+no_old\n",
    "                    ,family=\"poisson\")\n",
    "summary(PoissonModel1)"
   ]
  },
  {
   "cell_type": "code",
   "execution_count": 68,
   "id": "6c4b390b",
   "metadata": {},
   "outputs": [
    {
     "data": {
      "text/html": [
       "2.3740536449767e-16"
      ],
      "text/latex": [
       "2.3740536449767e-16"
      ],
      "text/markdown": [
       "2.3740536449767e-16"
      ],
      "text/plain": [
       "[1] 2.374054e-16"
      ]
     },
     "metadata": {},
     "output_type": "display_data"
    },
    {
     "name": "stderr",
     "output_type": "stream",
     "text": [
      "Waiting for profiling to be done...\n",
      "\n"
     ]
    },
    {
     "data": {
      "text/html": [
       "<table class=\"dataframe\">\n",
       "<caption>A matrix: 8 × 2 of type dbl</caption>\n",
       "<thead>\n",
       "\t<tr><th></th><th scope=col>2.5 %</th><th scope=col>97.5 %</th></tr>\n",
       "</thead>\n",
       "<tbody>\n",
       "\t<tr><th scope=row>(Intercept)</th><td>-5.322708e-01</td><td>0.2504922444</td></tr>\n",
       "\t<tr><th scope=row>operated</th><td> 9.182249e-03</td><td>0.0479526738</td></tr>\n",
       "\t<tr><th scope=row>cattleshed</th><td>-2.986484e-05</td><td>0.0001371359</td></tr>\n",
       "\t<tr><th scope=row>high_medu</th><td> 2.268127e-03</td><td>0.1179864763</td></tr>\n",
       "\t<tr><th scope=row>high_fedu</th><td>-7.834980e-02</td><td>0.0291770732</td></tr>\n",
       "\t<tr><th scope=row>no_child</th><td>-3.468408e-02</td><td>0.1246577224</td></tr>\n",
       "\t<tr><th scope=row>no_adult</th><td> 1.631988e-02</td><td>0.1590502826</td></tr>\n",
       "\t<tr><th scope=row>no_old</th><td> 3.728876e-02</td><td>0.3729345631</td></tr>\n",
       "</tbody>\n",
       "</table>\n"
      ],
      "text/latex": [
       "A matrix: 8 × 2 of type dbl\n",
       "\\begin{tabular}{r|ll}\n",
       "  & 2.5 \\% & 97.5 \\%\\\\\n",
       "\\hline\n",
       "\t(Intercept) & -5.322708e-01 & 0.2504922444\\\\\n",
       "\toperated &  9.182249e-03 & 0.0479526738\\\\\n",
       "\tcattleshed & -2.986484e-05 & 0.0001371359\\\\\n",
       "\thigh\\_medu &  2.268127e-03 & 0.1179864763\\\\\n",
       "\thigh\\_fedu & -7.834980e-02 & 0.0291770732\\\\\n",
       "\tno\\_child & -3.468408e-02 & 0.1246577224\\\\\n",
       "\tno\\_adult &  1.631988e-02 & 0.1590502826\\\\\n",
       "\tno\\_old &  3.728876e-02 & 0.3729345631\\\\\n",
       "\\end{tabular}\n"
      ],
      "text/markdown": [
       "\n",
       "A matrix: 8 × 2 of type dbl\n",
       "\n",
       "| <!--/--> | 2.5 % | 97.5 % |\n",
       "|---|---|---|\n",
       "| (Intercept) | -5.322708e-01 | 0.2504922444 |\n",
       "| operated |  9.182249e-03 | 0.0479526738 |\n",
       "| cattleshed | -2.986484e-05 | 0.0001371359 |\n",
       "| high_medu |  2.268127e-03 | 0.1179864763 |\n",
       "| high_fedu | -7.834980e-02 | 0.0291770732 |\n",
       "| no_child | -3.468408e-02 | 0.1246577224 |\n",
       "| no_adult |  1.631988e-02 | 0.1590502826 |\n",
       "| no_old |  3.728876e-02 | 0.3729345631 |\n",
       "\n"
      ],
      "text/plain": [
       "            2.5 %         97.5 %      \n",
       "(Intercept) -5.322708e-01 0.2504922444\n",
       "operated     9.182249e-03 0.0479526738\n",
       "cattleshed  -2.986484e-05 0.0001371359\n",
       "high_medu    2.268127e-03 0.1179864763\n",
       "high_fedu   -7.834980e-02 0.0291770732\n",
       "no_child    -3.468408e-02 0.1246577224\n",
       "no_adult     1.631988e-02 0.1590502826\n",
       "no_old       3.728876e-02 0.3729345631"
      ]
     },
     "metadata": {},
     "output_type": "display_data"
    }
   ],
   "source": [
    "#lets quickly interp some of that output\n",
    "\n",
    "with(PoissonModel1, pchisq(null.deviance - deviance,df.null - \n",
    "                             df.residual,lower.tail = FALSE)) \n",
    "confint(PoissonModel1)"
   ]
  },
  {
   "cell_type": "code",
   "execution_count": 69,
   "id": "0a82a1ac",
   "metadata": {},
   "outputs": [
    {
     "data": {
      "text/plain": [
       "\n",
       "Call:\n",
       "glm(formula = n_adlt_bov ~ operated + cattleshed + high_medu + \n",
       "    high_fedu + no_child + no_adult + no_old, family = \"poisson\")\n",
       "\n",
       "Deviance Residuals: \n",
       "    Min       1Q   Median       3Q      Max  \n",
       "-2.1629  -1.2766  -0.1370   0.6626   2.8582  \n",
       "\n",
       "Coefficients:\n",
       "              Estimate Std. Error z value Pr(>|z|)   \n",
       "(Intercept) -6.502e-01  2.567e-01  -2.533  0.01131 * \n",
       "operated     2.734e-02  1.327e-02   2.061  0.03933 * \n",
       "cattleshed   4.680e-05  5.711e-05   0.820  0.41249   \n",
       "high_medu    1.842e-02  3.948e-02   0.466  0.64088   \n",
       "high_fedu   -1.277e-02  3.677e-02  -0.347  0.72831   \n",
       "no_child     5.695e-02  5.229e-02   1.089  0.27615   \n",
       "no_adult     1.307e-01  4.769e-02   2.741  0.00612 **\n",
       "no_old       2.013e-01  1.118e-01   1.801  0.07172 . \n",
       "---\n",
       "Signif. codes:  0 '***' 0.001 '**' 0.01 '*' 0.05 '.' 0.1 ' ' 1\n",
       "\n",
       "(Dispersion parameter for poisson family taken to be 1)\n",
       "\n",
       "    Null deviance: 208.28  on 131  degrees of freedom\n",
       "Residual deviance: 152.49  on 124  degrees of freedom\n",
       "  (1 observation deleted due to missingness)\n",
       "AIC: 391.72\n",
       "\n",
       "Number of Fisher Scoring iterations: 5\n"
      ]
     },
     "metadata": {},
     "output_type": "display_data"
    }
   ],
   "source": [
    "PoissonModel2 <-glm(n_adlt_bov~operated+cattleshed+\n",
    "                      high_medu+high_fedu+\n",
    "                      no_child+no_adult+no_old\n",
    "                    ,family=\"poisson\")\n",
    "summary(PoissonModel2)"
   ]
  },
  {
   "cell_type": "code",
   "execution_count": 70,
   "id": "d2a57ce1",
   "metadata": {},
   "outputs": [
    {
     "data": {
      "text/html": [
       "1.04124388901085e-09"
      ],
      "text/latex": [
       "1.04124388901085e-09"
      ],
      "text/markdown": [
       "1.04124388901085e-09"
      ],
      "text/plain": [
       "[1] 1.041244e-09"
      ]
     },
     "metadata": {},
     "output_type": "display_data"
    },
    {
     "name": "stderr",
     "output_type": "stream",
     "text": [
      "Waiting for profiling to be done...\n",
      "\n"
     ]
    },
    {
     "data": {
      "text/html": [
       "<table class=\"dataframe\">\n",
       "<caption>A matrix: 8 × 2 of type dbl</caption>\n",
       "<thead>\n",
       "\t<tr><th></th><th scope=col>2.5 %</th><th scope=col>97.5 %</th></tr>\n",
       "</thead>\n",
       "<tbody>\n",
       "\t<tr><th scope=row>(Intercept)</th><td>-1.163518e+00</td><td>-0.1569622274</td></tr>\n",
       "\t<tr><th scope=row>operated</th><td> 1.314932e-04</td><td> 0.0523692062</td></tr>\n",
       "\t<tr><th scope=row>cattleshed</th><td>-6.803876e-05</td><td> 0.0001579937</td></tr>\n",
       "\t<tr><th scope=row>high_medu</th><td>-5.984143e-02</td><td> 0.0950545258</td></tr>\n",
       "\t<tr><th scope=row>high_fedu</th><td>-8.432562e-02</td><td> 0.0598260880</td></tr>\n",
       "\t<tr><th scope=row>no_child</th><td>-4.753085e-02</td><td> 0.1577798536</td></tr>\n",
       "\t<tr><th scope=row>no_adult</th><td> 3.752623e-02</td><td> 0.2245934404</td></tr>\n",
       "\t<tr><th scope=row>no_old</th><td>-2.052291e-02</td><td> 0.4180304866</td></tr>\n",
       "</tbody>\n",
       "</table>\n"
      ],
      "text/latex": [
       "A matrix: 8 × 2 of type dbl\n",
       "\\begin{tabular}{r|ll}\n",
       "  & 2.5 \\% & 97.5 \\%\\\\\n",
       "\\hline\n",
       "\t(Intercept) & -1.163518e+00 & -0.1569622274\\\\\n",
       "\toperated &  1.314932e-04 &  0.0523692062\\\\\n",
       "\tcattleshed & -6.803876e-05 &  0.0001579937\\\\\n",
       "\thigh\\_medu & -5.984143e-02 &  0.0950545258\\\\\n",
       "\thigh\\_fedu & -8.432562e-02 &  0.0598260880\\\\\n",
       "\tno\\_child & -4.753085e-02 &  0.1577798536\\\\\n",
       "\tno\\_adult &  3.752623e-02 &  0.2245934404\\\\\n",
       "\tno\\_old & -2.052291e-02 &  0.4180304866\\\\\n",
       "\\end{tabular}\n"
      ],
      "text/markdown": [
       "\n",
       "A matrix: 8 × 2 of type dbl\n",
       "\n",
       "| <!--/--> | 2.5 % | 97.5 % |\n",
       "|---|---|---|\n",
       "| (Intercept) | -1.163518e+00 | -0.1569622274 |\n",
       "| operated |  1.314932e-04 |  0.0523692062 |\n",
       "| cattleshed | -6.803876e-05 |  0.0001579937 |\n",
       "| high_medu | -5.984143e-02 |  0.0950545258 |\n",
       "| high_fedu | -8.432562e-02 |  0.0598260880 |\n",
       "| no_child | -4.753085e-02 |  0.1577798536 |\n",
       "| no_adult |  3.752623e-02 |  0.2245934404 |\n",
       "| no_old | -2.052291e-02 |  0.4180304866 |\n",
       "\n"
      ],
      "text/plain": [
       "            2.5 %         97.5 %       \n",
       "(Intercept) -1.163518e+00 -0.1569622274\n",
       "operated     1.314932e-04  0.0523692062\n",
       "cattleshed  -6.803876e-05  0.0001579937\n",
       "high_medu   -5.984143e-02  0.0950545258\n",
       "high_fedu   -8.432562e-02  0.0598260880\n",
       "no_child    -4.753085e-02  0.1577798536\n",
       "no_adult     3.752623e-02  0.2245934404\n",
       "no_old      -2.052291e-02  0.4180304866"
      ]
     },
     "metadata": {},
     "output_type": "display_data"
    }
   ],
   "source": [
    "with(PoissonModel2, pchisq(null.deviance - deviance,df.null - \n",
    "                             df.residual,lower.tail = FALSE)) \n",
    "confint(PoissonModel2)"
   ]
  }
 ],
 "metadata": {
  "kernelspec": {
   "display_name": "R",
   "language": "R",
   "name": "ir"
  },
  "language_info": {
   "codemirror_mode": "r",
   "file_extension": ".r",
   "mimetype": "text/x-r-source",
   "name": "R",
   "pygments_lexer": "r",
   "version": "4.1.2"
  }
 },
 "nbformat": 4,
 "nbformat_minor": 5
}
