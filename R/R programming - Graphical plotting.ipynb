{
 "cells": [
  {
   "cell_type": "markdown",
   "id": "74430c36",
   "metadata": {},
   "source": [
    "## Sathish's Notebook"
   ]
  },
  {
   "cell_type": "markdown",
   "id": "e9e38e1a",
   "metadata": {},
   "source": [
    "## Graphical plot in R"
   ]
  },
  {
   "cell_type": "markdown",
   "id": "21a7cd11",
   "metadata": {},
   "source": [
    "## AER\n"
   ]
  },
  {
   "cell_type": "markdown",
   "id": "d0ff5d80",
   "metadata": {},
   "source": [
    "Applied Econometrics in R"
   ]
  },
  {
   "cell_type": "code",
   "execution_count": 1,
   "id": "9be2fe63",
   "metadata": {},
   "outputs": [
    {
     "name": "stderr",
     "output_type": "stream",
     "text": [
      "Warning message:\n",
      "\"package 'AER' was built under R version 4.1.3\"\n",
      "Loading required package: car\n",
      "\n",
      "Warning message:\n",
      "\"package 'car' was built under R version 4.1.3\"\n",
      "Loading required package: carData\n",
      "\n",
      "Warning message:\n",
      "\"package 'carData' was built under R version 4.1.3\"\n",
      "Loading required package: lmtest\n",
      "\n",
      "Loading required package: zoo\n",
      "\n",
      "\n",
      "Attaching package: 'zoo'\n",
      "\n",
      "\n",
      "The following objects are masked from 'package:base':\n",
      "\n",
      "    as.Date, as.Date.numeric\n",
      "\n",
      "\n",
      "Loading required package: sandwich\n",
      "\n",
      "Loading required package: survival\n",
      "\n"
     ]
    }
   ],
   "source": [
    "# install.packages(\"AER\") \n",
    "library(AER)"
   ]
  },
  {
   "cell_type": "code",
   "execution_count": 2,
   "id": "e0a54333",
   "metadata": {},
   "outputs": [],
   "source": [
    "#View the list of data sets in AER package\n",
    "data(package=\"AER\")"
   ]
  },
  {
   "cell_type": "code",
   "execution_count": 3,
   "id": "ede08bd9",
   "metadata": {},
   "outputs": [],
   "source": [
    "help(\"ChinaIncome\")"
   ]
  },
  {
   "cell_type": "code",
   "execution_count": 4,
   "id": "c7a4a8ec",
   "metadata": {},
   "outputs": [],
   "source": [
    "#Call out the China Income dataset\n",
    "data(\"ChinaIncome\")"
   ]
  },
  {
   "cell_type": "code",
   "execution_count": 5,
   "id": "47fa8f04",
   "metadata": {},
   "outputs": [
    {
     "data": {
      "text/html": [
       "<table class=\"dataframe\">\n",
       "<caption>A matrix: 6 × 5 of type dbl</caption>\n",
       "<thead>\n",
       "\t<tr><th scope=col>agriculture</th><th scope=col>commerce</th><th scope=col>construction</th><th scope=col>industry</th><th scope=col>transport</th></tr>\n",
       "</thead>\n",
       "<tbody>\n",
       "\t<tr><td>100.0</td><td>100.0</td><td>100.0</td><td>100.0</td><td>100</td></tr>\n",
       "\t<tr><td>101.6</td><td>133.0</td><td>138.1</td><td>133.6</td><td>120</td></tr>\n",
       "\t<tr><td>103.3</td><td>136.4</td><td>133.3</td><td>159.1</td><td>136</td></tr>\n",
       "\t<tr><td>111.5</td><td>137.5</td><td>152.4</td><td>169.1</td><td>140</td></tr>\n",
       "\t<tr><td>116.5</td><td>146.6</td><td>261.9</td><td>219.1</td><td>164</td></tr>\n",
       "\t<tr><td>120.1</td><td>146.6</td><td>242.9</td><td>244.5</td><td>176</td></tr>\n",
       "</tbody>\n",
       "</table>\n"
      ],
      "text/latex": [
       "A matrix: 6 × 5 of type dbl\n",
       "\\begin{tabular}{lllll}\n",
       " agriculture & commerce & construction & industry & transport\\\\\n",
       "\\hline\n",
       "\t 100.0 & 100.0 & 100.0 & 100.0 & 100\\\\\n",
       "\t 101.6 & 133.0 & 138.1 & 133.6 & 120\\\\\n",
       "\t 103.3 & 136.4 & 133.3 & 159.1 & 136\\\\\n",
       "\t 111.5 & 137.5 & 152.4 & 169.1 & 140\\\\\n",
       "\t 116.5 & 146.6 & 261.9 & 219.1 & 164\\\\\n",
       "\t 120.1 & 146.6 & 242.9 & 244.5 & 176\\\\\n",
       "\\end{tabular}\n"
      ],
      "text/markdown": [
       "\n",
       "A matrix: 6 × 5 of type dbl\n",
       "\n",
       "| agriculture | commerce | construction | industry | transport |\n",
       "|---|---|---|---|---|\n",
       "| 100.0 | 100.0 | 100.0 | 100.0 | 100 |\n",
       "| 101.6 | 133.0 | 138.1 | 133.6 | 120 |\n",
       "| 103.3 | 136.4 | 133.3 | 159.1 | 136 |\n",
       "| 111.5 | 137.5 | 152.4 | 169.1 | 140 |\n",
       "| 116.5 | 146.6 | 261.9 | 219.1 | 164 |\n",
       "| 120.1 | 146.6 | 242.9 | 244.5 | 176 |\n",
       "\n"
      ],
      "text/plain": [
       "     agriculture commerce construction industry transport\n",
       "[1,] 100.0       100.0    100.0        100.0    100      \n",
       "[2,] 101.6       133.0    138.1        133.6    120      \n",
       "[3,] 103.3       136.4    133.3        159.1    136      \n",
       "[4,] 111.5       137.5    152.4        169.1    140      \n",
       "[5,] 116.5       146.6    261.9        219.1    164      \n",
       "[6,] 120.1       146.6    242.9        244.5    176      "
      ]
     },
     "metadata": {},
     "output_type": "display_data"
    }
   ],
   "source": [
    "head(ChinaIncome)"
   ]
  },
  {
   "cell_type": "code",
   "execution_count": 6,
   "id": "0ff14784",
   "metadata": {},
   "outputs": [
    {
     "data": {
      "text/html": [
       "<style>\n",
       ".list-inline {list-style: none; margin:0; padding: 0}\n",
       ".list-inline>li {display: inline-block}\n",
       ".list-inline>li:not(:last-child)::after {content: \"\\00b7\"; padding: 0 .5ex}\n",
       "</style>\n",
       "<ol class=list-inline><li>'mts'</li><li>'ts'</li></ol>\n"
      ],
      "text/latex": [
       "\\begin{enumerate*}\n",
       "\\item 'mts'\n",
       "\\item 'ts'\n",
       "\\end{enumerate*}\n"
      ],
      "text/markdown": [
       "1. 'mts'\n",
       "2. 'ts'\n",
       "\n",
       "\n"
      ],
      "text/plain": [
       "[1] \"mts\" \"ts\" "
      ]
     },
     "metadata": {},
     "output_type": "display_data"
    }
   ],
   "source": [
    "class(ChinaIncome)"
   ]
  },
  {
   "cell_type": "code",
   "execution_count": 7,
   "id": "1cc5fb61",
   "metadata": {},
   "outputs": [
    {
     "data": {
      "text/html": [
       "'data.frame'"
      ],
      "text/latex": [
       "'data.frame'"
      ],
      "text/markdown": [
       "'data.frame'"
      ],
      "text/plain": [
       "[1] \"data.frame\""
      ]
     },
     "metadata": {},
     "output_type": "display_data"
    }
   ],
   "source": [
    "#to attach this data set we need to bring it into as.data.frame\n",
    "China_income <- as.data.frame(ChinaIncome)\n",
    "class(China_income)"
   ]
  },
  {
   "cell_type": "code",
   "execution_count": 8,
   "id": "ec41b007",
   "metadata": {},
   "outputs": [
    {
     "data": {
      "text/html": [
       "<style>\n",
       ".list-inline {list-style: none; margin:0; padding: 0}\n",
       ".list-inline>li {display: inline-block}\n",
       ".list-inline>li:not(:last-child)::after {content: \"\\00b7\"; padding: 0 .5ex}\n",
       "</style>\n",
       "<ol class=list-inline><li>'agriculture'</li><li>'commerce'</li><li>'construction'</li><li>'industry'</li><li>'transport'</li></ol>\n"
      ],
      "text/latex": [
       "\\begin{enumerate*}\n",
       "\\item 'agriculture'\n",
       "\\item 'commerce'\n",
       "\\item 'construction'\n",
       "\\item 'industry'\n",
       "\\item 'transport'\n",
       "\\end{enumerate*}\n"
      ],
      "text/markdown": [
       "1. 'agriculture'\n",
       "2. 'commerce'\n",
       "3. 'construction'\n",
       "4. 'industry'\n",
       "5. 'transport'\n",
       "\n",
       "\n"
      ],
      "text/plain": [
       "[1] \"agriculture\"  \"commerce\"     \"construction\" \"industry\"     \"transport\"   "
      ]
     },
     "metadata": {},
     "output_type": "display_data"
    }
   ],
   "source": [
    "names(China_income)"
   ]
  },
  {
   "cell_type": "code",
   "execution_count": 9,
   "id": "517dfe29",
   "metadata": {},
   "outputs": [
    {
     "data": {
      "image/png": "[encoded data removed]",
      "text/plain": [
       "plot without title"
      ]
     },
     "metadata": {
      "image/png": {
       "height": 420,
       "width": 420
      }
     },
     "output_type": "display_data"
    }
   ],
   "source": [
    "#Simple scatter plot\n",
    "plot(China_income$agriculture)"
   ]
  },
  {
   "cell_type": "markdown",
   "id": "97df6880",
   "metadata": {},
   "source": [
    "## attach func"
   ]
  },
  {
   "cell_type": "markdown",
   "id": "c6ea3d1e",
   "metadata": {},
   "source": [
    "attach() function in R Language is used to access the variables present in the data framework without calling the data frame"
   ]
  },
  {
   "cell_type": "code",
   "execution_count": 10,
   "id": "42377726",
   "metadata": {},
   "outputs": [],
   "source": [
    "attach(China_income)"
   ]
  },
  {
   "cell_type": "code",
   "execution_count": 11,
   "id": "89281c9e",
   "metadata": {},
   "outputs": [
    {
     "data": {
      "image/png": "[encoded data removed]",
      "text/plain": [
       "plot without title"
      ]
     },
     "metadata": {
      "image/png": {
       "height": 420,
       "width": 420
      }
     },
     "output_type": "display_data"
    }
   ],
   "source": [
    "#Simple scatter plot\n",
    "plot(China_income$agriculture)"
   ]
  },
  {
   "cell_type": "code",
   "execution_count": 12,
   "id": "669f24e8",
   "metadata": {},
   "outputs": [
    {
     "data": {
      "image/png": "[encoded data removed]",
      "text/plain": [
       "plot without title"
      ]
     },
     "metadata": {
      "image/png": {
       "height": 420,
       "width": 420
      }
     },
     "output_type": "display_data"
    }
   ],
   "source": [
    "#add line instead of dot\n",
    "plot(agriculture, type=\"l\")"
   ]
  },
  {
   "cell_type": "code",
   "execution_count": 13,
   "id": "37d9d866",
   "metadata": {},
   "outputs": [
    {
     "data": {
      "image/png": "[encoded data removed]",
      "text/plain": [
       "Plot with title \"Agricultural Income in China\""
      ]
     },
     "metadata": {
      "image/png": {
       "height": 420,
       "width": 420
      }
     },
     "output_type": "display_data"
    }
   ],
   "source": [
    "#Add title to the plot\n",
    "plot(agriculture, type=\"l\", main=\"Agricultural Income in China\")"
   ]
  },
  {
   "cell_type": "markdown",
   "id": "cd80f106",
   "metadata": {},
   "source": [
    "## Change the label of axis"
   ]
  },
  {
   "cell_type": "code",
   "execution_count": 14,
   "id": "7e73aec2",
   "metadata": {},
   "outputs": [
    {
     "data": {
      "image/png": "[encoded data removed]",
      "text/plain": [
       "Plot with title \"Agricultural Income in China\""
      ]
     },
     "metadata": {
      "image/png": {
       "height": 420,
       "width": 420
      }
     },
     "output_type": "display_data"
    }
   ],
   "source": [
    "plot(agriculture, type=\"l\", main=\"Agricultural Income in China\", xlab=\"Years\")"
   ]
  },
  {
   "cell_type": "code",
   "execution_count": 15,
   "id": "a11bb87b",
   "metadata": {},
   "outputs": [
    {
     "data": {
      "image/png": "[encoded data removed]",
      "text/plain": [
       "Plot with title \"Agricultural Income in China\""
      ]
     },
     "metadata": {
      "image/png": {
       "height": 420,
       "width": 420
      }
     },
     "output_type": "display_data"
    }
   ],
   "source": [
    "plot(agriculture, type=\"l\", main=\"Agricultural Income in China\", \n",
    "     xlab=\"Years\", ylab=\"Agricultural Income\")"
   ]
  },
  {
   "cell_type": "markdown",
   "id": "80a015ab",
   "metadata": {},
   "source": [
    "## Size of the label"
   ]
  },
  {
   "cell_type": "markdown",
   "id": "6f7d71b8",
   "metadata": {},
   "source": [
    "Change size of title ,to change the font size we use cex function"
   ]
  },
  {
   "cell_type": "code",
   "execution_count": 16,
   "id": "60cc385e",
   "metadata": {},
   "outputs": [
    {
     "data": {
      "image/png": "[encoded data removed]",
      "text/plain": [
       "Plot with title \"Agricultural Income in China\""
      ]
     },
     "metadata": {
      "image/png": {
       "height": 420,
       "width": 420
      }
     },
     "output_type": "display_data"
    }
   ],
   "source": [
    "plot(agriculture, type=\"l\", main=\"Agricultural Income in China\", \n",
    "     xlab=\"Years\", ylab=\"Agricultural Income\", cex.main=2)"
   ]
  },
  {
   "cell_type": "code",
   "execution_count": 17,
   "id": "1c8de7c1",
   "metadata": {},
   "outputs": [
    {
     "data": {
      "image/png": "[encoded data removed]",
      "text/plain": [
       "Plot with title \"Agricultural Income in China\""
      ]
     },
     "metadata": {
      "image/png": {
       "height": 420,
       "width": 420
      }
     },
     "output_type": "display_data"
    }
   ],
   "source": [
    "#want to change size of label of both axis\n",
    "\n",
    "plot(agriculture, type=\"l\", main=\"Agricultural Income in China\", \n",
    "     xlab=\"Years\", ylab=\"Agricultural Income\", cex.main=3, cex.lab=2)"
   ]
  },
  {
   "cell_type": "code",
   "execution_count": 18,
   "id": "6d7d6065",
   "metadata": {},
   "outputs": [
    {
     "data": {
      "image/png": "[encoded data removed]",
      "text/plain": [
       "Plot with title \"Agricultural Income in China\""
      ]
     },
     "metadata": {
      "image/png": {
       "height": 420,
       "width": 420
      }
     },
     "output_type": "display_data"
    }
   ],
   "source": [
    "##Change the limit of x and y axis  \n",
    "#xlim i.e limit of our x axis\n",
    "\n",
    "plot(agriculture, type=\"l\", main=\"Agricultural Income in China\", \n",
    "     xlab=\"Years\", ylab=\"Agricultural Income\", cex.main=1.5, \n",
    "     cex.lab=1.25, xlim=c(1952,1988))"
   ]
  },
  {
   "cell_type": "markdown",
   "id": "5b58400d",
   "metadata": {},
   "source": [
    "## colours"
   ]
  },
  {
   "cell_type": "code",
   "execution_count": 19,
   "id": "5a37619a",
   "metadata": {},
   "outputs": [
    {
     "data": {
      "text/html": [
       "<style>\n",
       ".list-inline {list-style: none; margin:0; padding: 0}\n",
       ".list-inline>li {display: inline-block}\n",
       ".list-inline>li:not(:last-child)::after {content: \"\\00b7\"; padding: 0 .5ex}\n",
       "</style>\n",
       "<ol class=list-inline><li>'white'</li><li>'aliceblue'</li><li>'antiquewhite'</li><li>'antiquewhite1'</li><li>'antiquewhite2'</li><li>'antiquewhite3'</li><li>'antiquewhite4'</li><li>'aquamarine'</li><li>'aquamarine1'</li><li>'aquamarine2'</li><li>'aquamarine3'</li><li>'aquamarine4'</li><li>'azure'</li><li>'azure1'</li><li>'azure2'</li><li>'azure3'</li><li>'azure4'</li><li>'beige'</li><li>'bisque'</li><li>'bisque1'</li><li>'bisque2'</li><li>'bisque3'</li><li>'bisque4'</li><li>'black'</li><li>'blanchedalmond'</li><li>'blue'</li><li>'blue1'</li><li>'blue2'</li><li>'blue3'</li><li>'blue4'</li><li>'blueviolet'</li><li>'brown'</li><li>'brown1'</li><li>'brown2'</li><li>'brown3'</li><li>'brown4'</li><li>'burlywood'</li><li>'burlywood1'</li><li>'burlywood2'</li><li>'burlywood3'</li><li>'burlywood4'</li><li>'cadetblue'</li><li>'cadetblue1'</li><li>'cadetblue2'</li><li>'cadetblue3'</li><li>'cadetblue4'</li><li>'chartreuse'</li><li>'chartreuse1'</li><li>'chartreuse2'</li><li>'chartreuse3'</li><li>'chartreuse4'</li><li>'chocolate'</li><li>'chocolate1'</li><li>'chocolate2'</li><li>'chocolate3'</li><li>'chocolate4'</li><li>'coral'</li><li>'coral1'</li><li>'coral2'</li><li>'coral3'</li><li>'coral4'</li><li>'cornflowerblue'</li><li>'cornsilk'</li><li>'cornsilk1'</li><li>'cornsilk2'</li><li>'cornsilk3'</li><li>'cornsilk4'</li><li>'cyan'</li><li>'cyan1'</li><li>'cyan2'</li><li>'cyan3'</li><li>'cyan4'</li><li>'darkblue'</li><li>'darkcyan'</li><li>'darkgoldenrod'</li><li>'darkgoldenrod1'</li><li>'darkgoldenrod2'</li><li>'darkgoldenrod3'</li><li>'darkgoldenrod4'</li><li>'darkgray'</li><li>'darkgreen'</li><li>'darkgrey'</li><li>'darkkhaki'</li><li>'darkmagenta'</li><li>'darkolivegreen'</li><li>'darkolivegreen1'</li><li>'darkolivegreen2'</li><li>'darkolivegreen3'</li><li>'darkolivegreen4'</li><li>'darkorange'</li><li>'darkorange1'</li><li>'darkorange2'</li><li>'darkorange3'</li><li>'darkorange4'</li><li>'darkorchid'</li><li>'darkorchid1'</li><li>'darkorchid2'</li><li>'darkorchid3'</li><li>'darkorchid4'</li><li>'darkred'</li><li>'darksalmon'</li><li>'darkseagreen'</li><li>'darkseagreen1'</li><li>'darkseagreen2'</li><li>'darkseagreen3'</li><li>'darkseagreen4'</li><li>'darkslateblue'</li><li>'darkslategray'</li><li>'darkslategray1'</li><li>'darkslategray2'</li><li>'darkslategray3'</li><li>'darkslategray4'</li><li>'darkslategrey'</li><li>'darkturquoise'</li><li>'darkviolet'</li><li>'deeppink'</li><li>'deeppink1'</li><li>'deeppink2'</li><li>'deeppink3'</li><li>'deeppink4'</li><li>'deepskyblue'</li><li>'deepskyblue1'</li><li>'deepskyblue2'</li><li>'deepskyblue3'</li><li>'deepskyblue4'</li><li>'dimgray'</li><li>'dimgrey'</li><li>'dodgerblue'</li><li>'dodgerblue1'</li><li>'dodgerblue2'</li><li>'dodgerblue3'</li><li>'dodgerblue4'</li><li>'firebrick'</li><li>'firebrick1'</li><li>'firebrick2'</li><li>'firebrick3'</li><li>'firebrick4'</li><li>'floralwhite'</li><li>'forestgreen'</li><li>'gainsboro'</li><li>'ghostwhite'</li><li>'gold'</li><li>'gold1'</li><li>'gold2'</li><li>'gold3'</li><li>'gold4'</li><li>'goldenrod'</li><li>'goldenrod1'</li><li>'goldenrod2'</li><li>'goldenrod3'</li><li>'goldenrod4'</li><li>'gray'</li><li>'gray0'</li><li>'gray1'</li><li>'gray2'</li><li>'gray3'</li><li>'gray4'</li><li>'gray5'</li><li>'gray6'</li><li>'gray7'</li><li>'gray8'</li><li>'gray9'</li><li>'gray10'</li><li>'gray11'</li><li>'gray12'</li><li>'gray13'</li><li>'gray14'</li><li>'gray15'</li><li>'gray16'</li><li>'gray17'</li><li>'gray18'</li><li>'gray19'</li><li>'gray20'</li><li>'gray21'</li><li>'gray22'</li><li>'gray23'</li><li>'gray24'</li><li>'gray25'</li><li>'gray26'</li><li>'gray27'</li><li>'gray28'</li><li>'gray29'</li><li>'gray30'</li><li>'gray31'</li><li>'gray32'</li><li>'gray33'</li><li>'gray34'</li><li>'gray35'</li><li>'gray36'</li><li>'gray37'</li><li>'gray38'</li><li>'gray39'</li><li>'gray40'</li><li>'gray41'</li><li>'gray42'</li><li>'gray43'</li><li>'gray44'</li><li>'gray45'</li><li>'gray46'</li><li>'gray47'</li><li>...</li><li>'maroon3'</li><li>'maroon4'</li><li>'mediumaquamarine'</li><li>'mediumblue'</li><li>'mediumorchid'</li><li>'mediumorchid1'</li><li>'mediumorchid2'</li><li>'mediumorchid3'</li><li>'mediumorchid4'</li><li>'mediumpurple'</li><li>'mediumpurple1'</li><li>'mediumpurple2'</li><li>'mediumpurple3'</li><li>'mediumpurple4'</li><li>'mediumseagreen'</li><li>'mediumslateblue'</li><li>'mediumspringgreen'</li><li>'mediumturquoise'</li><li>'mediumvioletred'</li><li>'midnightblue'</li><li>'mintcream'</li><li>'mistyrose'</li><li>'mistyrose1'</li><li>'mistyrose2'</li><li>'mistyrose3'</li><li>'mistyrose4'</li><li>'moccasin'</li><li>'navajowhite'</li><li>'navajowhite1'</li><li>'navajowhite2'</li><li>'navajowhite3'</li><li>'navajowhite4'</li><li>'navy'</li><li>'navyblue'</li><li>'oldlace'</li><li>'olivedrab'</li><li>'olivedrab1'</li><li>'olivedrab2'</li><li>'olivedrab3'</li><li>'olivedrab4'</li><li>'orange'</li><li>'orange1'</li><li>'orange2'</li><li>'orange3'</li><li>'orange4'</li><li>'orangered'</li><li>'orangered1'</li><li>'orangered2'</li><li>'orangered3'</li><li>'orangered4'</li><li>'orchid'</li><li>'orchid1'</li><li>'orchid2'</li><li>'orchid3'</li><li>'orchid4'</li><li>'palegoldenrod'</li><li>'palegreen'</li><li>'palegreen1'</li><li>'palegreen2'</li><li>'palegreen3'</li><li>'palegreen4'</li><li>'paleturquoise'</li><li>'paleturquoise1'</li><li>'paleturquoise2'</li><li>'paleturquoise3'</li><li>'paleturquoise4'</li><li>'palevioletred'</li><li>'palevioletred1'</li><li>'palevioletred2'</li><li>'palevioletred3'</li><li>'palevioletred4'</li><li>'papayawhip'</li><li>'peachpuff'</li><li>'peachpuff1'</li><li>'peachpuff2'</li><li>'peachpuff3'</li><li>'peachpuff4'</li><li>'peru'</li><li>'pink'</li><li>'pink1'</li><li>'pink2'</li><li>'pink3'</li><li>'pink4'</li><li>'plum'</li><li>'plum1'</li><li>'plum2'</li><li>'plum3'</li><li>'plum4'</li><li>'powderblue'</li><li>'purple'</li><li>'purple1'</li><li>'purple2'</li><li>'purple3'</li><li>'purple4'</li><li>'red'</li><li>'red1'</li><li>'red2'</li><li>'red3'</li><li>'red4'</li><li>'rosybrown'</li><li>'rosybrown1'</li><li>'rosybrown2'</li><li>'rosybrown3'</li><li>'rosybrown4'</li><li>'royalblue'</li><li>'royalblue1'</li><li>'royalblue2'</li><li>'royalblue3'</li><li>'royalblue4'</li><li>'saddlebrown'</li><li>'salmon'</li><li>'salmon1'</li><li>'salmon2'</li><li>'salmon3'</li><li>'salmon4'</li><li>'sandybrown'</li><li>'seagreen'</li><li>'seagreen1'</li><li>'seagreen2'</li><li>'seagreen3'</li><li>'seagreen4'</li><li>'seashell'</li><li>'seashell1'</li><li>'seashell2'</li><li>'seashell3'</li><li>'seashell4'</li><li>'sienna'</li><li>'sienna1'</li><li>'sienna2'</li><li>'sienna3'</li><li>'sienna4'</li><li>'skyblue'</li><li>'skyblue1'</li><li>'skyblue2'</li><li>'skyblue3'</li><li>'skyblue4'</li><li>'slateblue'</li><li>'slateblue1'</li><li>'slateblue2'</li><li>'slateblue3'</li><li>'slateblue4'</li><li>'slategray'</li><li>'slategray1'</li><li>'slategray2'</li><li>'slategray3'</li><li>'slategray4'</li><li>'slategrey'</li><li>'snow'</li><li>'snow1'</li><li>'snow2'</li><li>'snow3'</li><li>'snow4'</li><li>'springgreen'</li><li>'springgreen1'</li><li>'springgreen2'</li><li>'springgreen3'</li><li>'springgreen4'</li><li>'steelblue'</li><li>'steelblue1'</li><li>'steelblue2'</li><li>'steelblue3'</li><li>'steelblue4'</li><li>'tan'</li><li>'tan1'</li><li>'tan2'</li><li>'tan3'</li><li>'tan4'</li><li>'thistle'</li><li>'thistle1'</li><li>'thistle2'</li><li>'thistle3'</li><li>'thistle4'</li><li>'tomato'</li><li>'tomato1'</li><li>'tomato2'</li><li>'tomato3'</li><li>'tomato4'</li><li>'turquoise'</li><li>'turquoise1'</li><li>'turquoise2'</li><li>'turquoise3'</li><li>'turquoise4'</li><li>'violet'</li><li>'violetred'</li><li>'violetred1'</li><li>'violetred2'</li><li>'violetred3'</li><li>'violetred4'</li><li>'wheat'</li><li>'wheat1'</li><li>'wheat2'</li><li>'wheat3'</li><li>'wheat4'</li><li>'whitesmoke'</li><li>'yellow'</li><li>'yellow1'</li><li>'yellow2'</li><li>'yellow3'</li><li>'yellow4'</li><li>'yellowgreen'</li></ol>\n"
      ],
      "text/latex": [
       "\\begin{enumerate*}\n",
       "\\item 'white'\n",
       "\\item 'aliceblue'\n",
       "\\item 'antiquewhite'\n",
       "\\item 'antiquewhite1'\n",
       "\\item 'antiquewhite2'\n",
       "\\item 'antiquewhite3'\n",
       "\\item 'antiquewhite4'\n",
       "\\item 'aquamarine'\n",
       "\\item 'aquamarine1'\n",
       "\\item 'aquamarine2'\n",
       "\\item 'aquamarine3'\n",
       "\\item 'aquamarine4'\n",
       "\\item 'azure'\n",
       "\\item 'azure1'\n",
       "\\item 'azure2'\n",
       "\\item 'azure3'\n",
       "\\item 'azure4'\n",
       "\\item 'beige'\n",
       "\\item 'bisque'\n",
       "\\item 'bisque1'\n",
       "\\item 'bisque2'\n",
       "\\item 'bisque3'\n",
       "\\item 'bisque4'\n",
       "\\item 'black'\n",
       "\\item 'blanchedalmond'\n",
       "\\item 'blue'\n",
       "\\item 'blue1'\n",
       "\\item 'blue2'\n",
       "\\item 'blue3'\n",
       "\\item 'blue4'\n",
       "\\item 'blueviolet'\n",
       "\\item 'brown'\n",
       "\\item 'brown1'\n",
       "\\item 'brown2'\n",
       "\\item 'brown3'\n",
       "\\item 'brown4'\n",
       "\\item 'burlywood'\n",
       "\\item 'burlywood1'\n",
       "\\item 'burlywood2'\n",
       "\\item 'burlywood3'\n",
       "\\item 'burlywood4'\n",
       "\\item 'cadetblue'\n",
       "\\item 'cadetblue1'\n",
       "\\item 'cadetblue2'\n",
       "\\item 'cadetblue3'\n",
       "\\item 'cadetblue4'\n",
       "\\item 'chartreuse'\n",
       "\\item 'chartreuse1'\n",
       "\\item 'chartreuse2'\n",
       "\\item 'chartreuse3'\n",
       "\\item 'chartreuse4'\n",
       "\\item 'chocolate'\n",
       "\\item 'chocolate1'\n",
       "\\item 'chocolate2'\n",
       "\\item 'chocolate3'\n",
       "\\item 'chocolate4'\n",
       "\\item 'coral'\n",
       "\\item 'coral1'\n",
       "\\item 'coral2'\n",
       "\\item 'coral3'\n",
       "\\item 'coral4'\n",
       "\\item 'cornflowerblue'\n",
       "\\item 'cornsilk'\n",
       "\\item 'cornsilk1'\n",
       "\\item 'cornsilk2'\n",
       "\\item 'cornsilk3'\n",
       "\\item 'cornsilk4'\n",
       "\\item 'cyan'\n",
       "\\item 'cyan1'\n",
       "\\item 'cyan2'\n",
       "\\item 'cyan3'\n",
       "\\item 'cyan4'\n",
       "\\item 'darkblue'\n",
       "\\item 'darkcyan'\n",
       "\\item 'darkgoldenrod'\n",
       "\\item 'darkgoldenrod1'\n",
       "\\item 'darkgoldenrod2'\n",
       "\\item 'darkgoldenrod3'\n",
       "\\item 'darkgoldenrod4'\n",
       "\\item 'darkgray'\n",
       "\\item 'darkgreen'\n",
       "\\item 'darkgrey'\n",
       "\\item 'darkkhaki'\n",
       "\\item 'darkmagenta'\n",
       "\\item 'darkolivegreen'\n",
       "\\item 'darkolivegreen1'\n",
       "\\item 'darkolivegreen2'\n",
       "\\item 'darkolivegreen3'\n",
       "\\item 'darkolivegreen4'\n",
       "\\item 'darkorange'\n",
       "\\item 'darkorange1'\n",
       "\\item 'darkorange2'\n",
       "\\item 'darkorange3'\n",
       "\\item 'darkorange4'\n",
       "\\item 'darkorchid'\n",
       "\\item 'darkorchid1'\n",
       "\\item 'darkorchid2'\n",
       "\\item 'darkorchid3'\n",
       "\\item 'darkorchid4'\n",
       "\\item 'darkred'\n",
       "\\item 'darksalmon'\n",
       "\\item 'darkseagreen'\n",
       "\\item 'darkseagreen1'\n",
       "\\item 'darkseagreen2'\n",
       "\\item 'darkseagreen3'\n",
       "\\item 'darkseagreen4'\n",
       "\\item 'darkslateblue'\n",
       "\\item 'darkslategray'\n",
       "\\item 'darkslategray1'\n",
       "\\item 'darkslategray2'\n",
       "\\item 'darkslategray3'\n",
       "\\item 'darkslategray4'\n",
       "\\item 'darkslategrey'\n",
       "\\item 'darkturquoise'\n",
       "\\item 'darkviolet'\n",
       "\\item 'deeppink'\n",
       "\\item 'deeppink1'\n",
       "\\item 'deeppink2'\n",
       "\\item 'deeppink3'\n",
       "\\item 'deeppink4'\n",
       "\\item 'deepskyblue'\n",
       "\\item 'deepskyblue1'\n",
       "\\item 'deepskyblue2'\n",
       "\\item 'deepskyblue3'\n",
       "\\item 'deepskyblue4'\n",
       "\\item 'dimgray'\n",
       "\\item 'dimgrey'\n",
       "\\item 'dodgerblue'\n",
       "\\item 'dodgerblue1'\n",
       "\\item 'dodgerblue2'\n",
       "\\item 'dodgerblue3'\n",
       "\\item 'dodgerblue4'\n",
       "\\item 'firebrick'\n",
       "\\item 'firebrick1'\n",
       "\\item 'firebrick2'\n",
       "\\item 'firebrick3'\n",
       "\\item 'firebrick4'\n",
       "\\item 'floralwhite'\n",
       "\\item 'forestgreen'\n",
       "\\item 'gainsboro'\n",
       "\\item 'ghostwhite'\n",
       "\\item 'gold'\n",
       "\\item 'gold1'\n",
       "\\item 'gold2'\n",
       "\\item 'gold3'\n",
       "\\item 'gold4'\n",
       "\\item 'goldenrod'\n",
       "\\item 'goldenrod1'\n",
       "\\item 'goldenrod2'\n",
       "\\item 'goldenrod3'\n",
       "\\item 'goldenrod4'\n",
       "\\item 'gray'\n",
       "\\item 'gray0'\n",
       "\\item 'gray1'\n",
       "\\item 'gray2'\n",
       "\\item 'gray3'\n",
       "\\item 'gray4'\n",
       "\\item 'gray5'\n",
       "\\item 'gray6'\n",
       "\\item 'gray7'\n",
       "\\item 'gray8'\n",
       "\\item 'gray9'\n",
       "\\item 'gray10'\n",
       "\\item 'gray11'\n",
       "\\item 'gray12'\n",
       "\\item 'gray13'\n",
       "\\item 'gray14'\n",
       "\\item 'gray15'\n",
       "\\item 'gray16'\n",
       "\\item 'gray17'\n",
       "\\item 'gray18'\n",
       "\\item 'gray19'\n",
       "\\item 'gray20'\n",
       "\\item 'gray21'\n",
       "\\item 'gray22'\n",
       "\\item 'gray23'\n",
       "\\item 'gray24'\n",
       "\\item 'gray25'\n",
       "\\item 'gray26'\n",
       "\\item 'gray27'\n",
       "\\item 'gray28'\n",
       "\\item 'gray29'\n",
       "\\item 'gray30'\n",
       "\\item 'gray31'\n",
       "\\item 'gray32'\n",
       "\\item 'gray33'\n",
       "\\item 'gray34'\n",
       "\\item 'gray35'\n",
       "\\item 'gray36'\n",
       "\\item 'gray37'\n",
       "\\item 'gray38'\n",
       "\\item 'gray39'\n",
       "\\item 'gray40'\n",
       "\\item 'gray41'\n",
       "\\item 'gray42'\n",
       "\\item 'gray43'\n",
       "\\item 'gray44'\n",
       "\\item 'gray45'\n",
       "\\item 'gray46'\n",
       "\\item 'gray47'\n",
       "\\item ...\n",
       "\\item 'maroon3'\n",
       "\\item 'maroon4'\n",
       "\\item 'mediumaquamarine'\n",
       "\\item 'mediumblue'\n",
       "\\item 'mediumorchid'\n",
       "\\item 'mediumorchid1'\n",
       "\\item 'mediumorchid2'\n",
       "\\item 'mediumorchid3'\n",
       "\\item 'mediumorchid4'\n",
       "\\item 'mediumpurple'\n",
       "\\item 'mediumpurple1'\n",
       "\\item 'mediumpurple2'\n",
       "\\item 'mediumpurple3'\n",
       "\\item 'mediumpurple4'\n",
       "\\item 'mediumseagreen'\n",
       "\\item 'mediumslateblue'\n",
       "\\item 'mediumspringgreen'\n",
       "\\item 'mediumturquoise'\n",
       "\\item 'mediumvioletred'\n",
       "\\item 'midnightblue'\n",
       "\\item 'mintcream'\n",
       "\\item 'mistyrose'\n",
       "\\item 'mistyrose1'\n",
       "\\item 'mistyrose2'\n",
       "\\item 'mistyrose3'\n",
       "\\item 'mistyrose4'\n",
       "\\item 'moccasin'\n",
       "\\item 'navajowhite'\n",
       "\\item 'navajowhite1'\n",
       "\\item 'navajowhite2'\n",
       "\\item 'navajowhite3'\n",
       "\\item 'navajowhite4'\n",
       "\\item 'navy'\n",
       "\\item 'navyblue'\n",
       "\\item 'oldlace'\n",
       "\\item 'olivedrab'\n",
       "\\item 'olivedrab1'\n",
       "\\item 'olivedrab2'\n",
       "\\item 'olivedrab3'\n",
       "\\item 'olivedrab4'\n",
       "\\item 'orange'\n",
       "\\item 'orange1'\n",
       "\\item 'orange2'\n",
       "\\item 'orange3'\n",
       "\\item 'orange4'\n",
       "\\item 'orangered'\n",
       "\\item 'orangered1'\n",
       "\\item 'orangered2'\n",
       "\\item 'orangered3'\n",
       "\\item 'orangered4'\n",
       "\\item 'orchid'\n",
       "\\item 'orchid1'\n",
       "\\item 'orchid2'\n",
       "\\item 'orchid3'\n",
       "\\item 'orchid4'\n",
       "\\item 'palegoldenrod'\n",
       "\\item 'palegreen'\n",
       "\\item 'palegreen1'\n",
       "\\item 'palegreen2'\n",
       "\\item 'palegreen3'\n",
       "\\item 'palegreen4'\n",
       "\\item 'paleturquoise'\n",
       "\\item 'paleturquoise1'\n",
       "\\item 'paleturquoise2'\n",
       "\\item 'paleturquoise3'\n",
       "\\item 'paleturquoise4'\n",
       "\\item 'palevioletred'\n",
       "\\item 'palevioletred1'\n",
       "\\item 'palevioletred2'\n",
       "\\item 'palevioletred3'\n",
       "\\item 'palevioletred4'\n",
       "\\item 'papayawhip'\n",
       "\\item 'peachpuff'\n",
       "\\item 'peachpuff1'\n",
       "\\item 'peachpuff2'\n",
       "\\item 'peachpuff3'\n",
       "\\item 'peachpuff4'\n",
       "\\item 'peru'\n",
       "\\item 'pink'\n",
       "\\item 'pink1'\n",
       "\\item 'pink2'\n",
       "\\item 'pink3'\n",
       "\\item 'pink4'\n",
       "\\item 'plum'\n",
       "\\item 'plum1'\n",
       "\\item 'plum2'\n",
       "\\item 'plum3'\n",
       "\\item 'plum4'\n",
       "\\item 'powderblue'\n",
       "\\item 'purple'\n",
       "\\item 'purple1'\n",
       "\\item 'purple2'\n",
       "\\item 'purple3'\n",
       "\\item 'purple4'\n",
       "\\item 'red'\n",
       "\\item 'red1'\n",
       "\\item 'red2'\n",
       "\\item 'red3'\n",
       "\\item 'red4'\n",
       "\\item 'rosybrown'\n",
       "\\item 'rosybrown1'\n",
       "\\item 'rosybrown2'\n",
       "\\item 'rosybrown3'\n",
       "\\item 'rosybrown4'\n",
       "\\item 'royalblue'\n",
       "\\item 'royalblue1'\n",
       "\\item 'royalblue2'\n",
       "\\item 'royalblue3'\n",
       "\\item 'royalblue4'\n",
       "\\item 'saddlebrown'\n",
       "\\item 'salmon'\n",
       "\\item 'salmon1'\n",
       "\\item 'salmon2'\n",
       "\\item 'salmon3'\n",
       "\\item 'salmon4'\n",
       "\\item 'sandybrown'\n",
       "\\item 'seagreen'\n",
       "\\item 'seagreen1'\n",
       "\\item 'seagreen2'\n",
       "\\item 'seagreen3'\n",
       "\\item 'seagreen4'\n",
       "\\item 'seashell'\n",
       "\\item 'seashell1'\n",
       "\\item 'seashell2'\n",
       "\\item 'seashell3'\n",
       "\\item 'seashell4'\n",
       "\\item 'sienna'\n",
       "\\item 'sienna1'\n",
       "\\item 'sienna2'\n",
       "\\item 'sienna3'\n",
       "\\item 'sienna4'\n",
       "\\item 'skyblue'\n",
       "\\item 'skyblue1'\n",
       "\\item 'skyblue2'\n",
       "\\item 'skyblue3'\n",
       "\\item 'skyblue4'\n",
       "\\item 'slateblue'\n",
       "\\item 'slateblue1'\n",
       "\\item 'slateblue2'\n",
       "\\item 'slateblue3'\n",
       "\\item 'slateblue4'\n",
       "\\item 'slategray'\n",
       "\\item 'slategray1'\n",
       "\\item 'slategray2'\n",
       "\\item 'slategray3'\n",
       "\\item 'slategray4'\n",
       "\\item 'slategrey'\n",
       "\\item 'snow'\n",
       "\\item 'snow1'\n",
       "\\item 'snow2'\n",
       "\\item 'snow3'\n",
       "\\item 'snow4'\n",
       "\\item 'springgreen'\n",
       "\\item 'springgreen1'\n",
       "\\item 'springgreen2'\n",
       "\\item 'springgreen3'\n",
       "\\item 'springgreen4'\n",
       "\\item 'steelblue'\n",
       "\\item 'steelblue1'\n",
       "\\item 'steelblue2'\n",
       "\\item 'steelblue3'\n",
       "\\item 'steelblue4'\n",
       "\\item 'tan'\n",
       "\\item 'tan1'\n",
       "\\item 'tan2'\n",
       "\\item 'tan3'\n",
       "\\item 'tan4'\n",
       "\\item 'thistle'\n",
       "\\item 'thistle1'\n",
       "\\item 'thistle2'\n",
       "\\item 'thistle3'\n",
       "\\item 'thistle4'\n",
       "\\item 'tomato'\n",
       "\\item 'tomato1'\n",
       "\\item 'tomato2'\n",
       "\\item 'tomato3'\n",
       "\\item 'tomato4'\n",
       "\\item 'turquoise'\n",
       "\\item 'turquoise1'\n",
       "\\item 'turquoise2'\n",
       "\\item 'turquoise3'\n",
       "\\item 'turquoise4'\n",
       "\\item 'violet'\n",
       "\\item 'violetred'\n",
       "\\item 'violetred1'\n",
       "\\item 'violetred2'\n",
       "\\item 'violetred3'\n",
       "\\item 'violetred4'\n",
       "\\item 'wheat'\n",
       "\\item 'wheat1'\n",
       "\\item 'wheat2'\n",
       "\\item 'wheat3'\n",
       "\\item 'wheat4'\n",
       "\\item 'whitesmoke'\n",
       "\\item 'yellow'\n",
       "\\item 'yellow1'\n",
       "\\item 'yellow2'\n",
       "\\item 'yellow3'\n",
       "\\item 'yellow4'\n",
       "\\item 'yellowgreen'\n",
       "\\end{enumerate*}\n"
      ],
      "text/markdown": [
       "1. 'white'\n",
       "2. 'aliceblue'\n",
       "3. 'antiquewhite'\n",
       "4. 'antiquewhite1'\n",
       "5. 'antiquewhite2'\n",
       "6. 'antiquewhite3'\n",
       "7. 'antiquewhite4'\n",
       "8. 'aquamarine'\n",
       "9. 'aquamarine1'\n",
       "10. 'aquamarine2'\n",
       "11. 'aquamarine3'\n",
       "12. 'aquamarine4'\n",
       "13. 'azure'\n",
       "14. 'azure1'\n",
       "15. 'azure2'\n",
       "16. 'azure3'\n",
       "17. 'azure4'\n",
       "18. 'beige'\n",
       "19. 'bisque'\n",
       "20. 'bisque1'\n",
       "21. 'bisque2'\n",
       "22. 'bisque3'\n",
       "23. 'bisque4'\n",
       "24. 'black'\n",
       "25. 'blanchedalmond'\n",
       "26. 'blue'\n",
       "27. 'blue1'\n",
       "28. 'blue2'\n",
       "29. 'blue3'\n",
       "30. 'blue4'\n",
       "31. 'blueviolet'\n",
       "32. 'brown'\n",
       "33. 'brown1'\n",
       "34. 'brown2'\n",
       "35. 'brown3'\n",
       "36. 'brown4'\n",
       "37. 'burlywood'\n",
       "38. 'burlywood1'\n",
       "39. 'burlywood2'\n",
       "40. 'burlywood3'\n",
       "41. 'burlywood4'\n",
       "42. 'cadetblue'\n",
       "43. 'cadetblue1'\n",
       "44. 'cadetblue2'\n",
       "45. 'cadetblue3'\n",
       "46. 'cadetblue4'\n",
       "47. 'chartreuse'\n",
       "48. 'chartreuse1'\n",
       "49. 'chartreuse2'\n",
       "50. 'chartreuse3'\n",
       "51. 'chartreuse4'\n",
       "52. 'chocolate'\n",
       "53. 'chocolate1'\n",
       "54. 'chocolate2'\n",
       "55. 'chocolate3'\n",
       "56. 'chocolate4'\n",
       "57. 'coral'\n",
       "58. 'coral1'\n",
       "59. 'coral2'\n",
       "60. 'coral3'\n",
       "61. 'coral4'\n",
       "62. 'cornflowerblue'\n",
       "63. 'cornsilk'\n",
       "64. 'cornsilk1'\n",
       "65. 'cornsilk2'\n",
       "66. 'cornsilk3'\n",
       "67. 'cornsilk4'\n",
       "68. 'cyan'\n",
       "69. 'cyan1'\n",
       "70. 'cyan2'\n",
       "71. 'cyan3'\n",
       "72. 'cyan4'\n",
       "73. 'darkblue'\n",
       "74. 'darkcyan'\n",
       "75. 'darkgoldenrod'\n",
       "76. 'darkgoldenrod1'\n",
       "77. 'darkgoldenrod2'\n",
       "78. 'darkgoldenrod3'\n",
       "79. 'darkgoldenrod4'\n",
       "80. 'darkgray'\n",
       "81. 'darkgreen'\n",
       "82. 'darkgrey'\n",
       "83. 'darkkhaki'\n",
       "84. 'darkmagenta'\n",
       "85. 'darkolivegreen'\n",
       "86. 'darkolivegreen1'\n",
       "87. 'darkolivegreen2'\n",
       "88. 'darkolivegreen3'\n",
       "89. 'darkolivegreen4'\n",
       "90. 'darkorange'\n",
       "91. 'darkorange1'\n",
       "92. 'darkorange2'\n",
       "93. 'darkorange3'\n",
       "94. 'darkorange4'\n",
       "95. 'darkorchid'\n",
       "96. 'darkorchid1'\n",
       "97. 'darkorchid2'\n",
       "98. 'darkorchid3'\n",
       "99. 'darkorchid4'\n",
       "100. 'darkred'\n",
       "101. 'darksalmon'\n",
       "102. 'darkseagreen'\n",
       "103. 'darkseagreen1'\n",
       "104. 'darkseagreen2'\n",
       "105. 'darkseagreen3'\n",
       "106. 'darkseagreen4'\n",
       "107. 'darkslateblue'\n",
       "108. 'darkslategray'\n",
       "109. 'darkslategray1'\n",
       "110. 'darkslategray2'\n",
       "111. 'darkslategray3'\n",
       "112. 'darkslategray4'\n",
       "113. 'darkslategrey'\n",
       "114. 'darkturquoise'\n",
       "115. 'darkviolet'\n",
       "116. 'deeppink'\n",
       "117. 'deeppink1'\n",
       "118. 'deeppink2'\n",
       "119. 'deeppink3'\n",
       "120. 'deeppink4'\n",
       "121. 'deepskyblue'\n",
       "122. 'deepskyblue1'\n",
       "123. 'deepskyblue2'\n",
       "124. 'deepskyblue3'\n",
       "125. 'deepskyblue4'\n",
       "126. 'dimgray'\n",
       "127. 'dimgrey'\n",
       "128. 'dodgerblue'\n",
       "129. 'dodgerblue1'\n",
       "130. 'dodgerblue2'\n",
       "131. 'dodgerblue3'\n",
       "132. 'dodgerblue4'\n",
       "133. 'firebrick'\n",
       "134. 'firebrick1'\n",
       "135. 'firebrick2'\n",
       "136. 'firebrick3'\n",
       "137. 'firebrick4'\n",
       "138. 'floralwhite'\n",
       "139. 'forestgreen'\n",
       "140. 'gainsboro'\n",
       "141. 'ghostwhite'\n",
       "142. 'gold'\n",
       "143. 'gold1'\n",
       "144. 'gold2'\n",
       "145. 'gold3'\n",
       "146. 'gold4'\n",
       "147. 'goldenrod'\n",
       "148. 'goldenrod1'\n",
       "149. 'goldenrod2'\n",
       "150. 'goldenrod3'\n",
       "151. 'goldenrod4'\n",
       "152. 'gray'\n",
       "153. 'gray0'\n",
       "154. 'gray1'\n",
       "155. 'gray2'\n",
       "156. 'gray3'\n",
       "157. 'gray4'\n",
       "158. 'gray5'\n",
       "159. 'gray6'\n",
       "160. 'gray7'\n",
       "161. 'gray8'\n",
       "162. 'gray9'\n",
       "163. 'gray10'\n",
       "164. 'gray11'\n",
       "165. 'gray12'\n",
       "166. 'gray13'\n",
       "167. 'gray14'\n",
       "168. 'gray15'\n",
       "169. 'gray16'\n",
       "170. 'gray17'\n",
       "171. 'gray18'\n",
       "172. 'gray19'\n",
       "173. 'gray20'\n",
       "174. 'gray21'\n",
       "175. 'gray22'\n",
       "176. 'gray23'\n",
       "177. 'gray24'\n",
       "178. 'gray25'\n",
       "179. 'gray26'\n",
       "180. 'gray27'\n",
       "181. 'gray28'\n",
       "182. 'gray29'\n",
       "183. 'gray30'\n",
       "184. 'gray31'\n",
       "185. 'gray32'\n",
       "186. 'gray33'\n",
       "187. 'gray34'\n",
       "188. 'gray35'\n",
       "189. 'gray36'\n",
       "190. 'gray37'\n",
       "191. 'gray38'\n",
       "192. 'gray39'\n",
       "193. 'gray40'\n",
       "194. 'gray41'\n",
       "195. 'gray42'\n",
       "196. 'gray43'\n",
       "197. 'gray44'\n",
       "198. 'gray45'\n",
       "199. 'gray46'\n",
       "200. 'gray47'\n",
       "201. ...\n",
       "202. 'maroon3'\n",
       "203. 'maroon4'\n",
       "204. 'mediumaquamarine'\n",
       "205. 'mediumblue'\n",
       "206. 'mediumorchid'\n",
       "207. 'mediumorchid1'\n",
       "208. 'mediumorchid2'\n",
       "209. 'mediumorchid3'\n",
       "210. 'mediumorchid4'\n",
       "211. 'mediumpurple'\n",
       "212. 'mediumpurple1'\n",
       "213. 'mediumpurple2'\n",
       "214. 'mediumpurple3'\n",
       "215. 'mediumpurple4'\n",
       "216. 'mediumseagreen'\n",
       "217. 'mediumslateblue'\n",
       "218. 'mediumspringgreen'\n",
       "219. 'mediumturquoise'\n",
       "220. 'mediumvioletred'\n",
       "221. 'midnightblue'\n",
       "222. 'mintcream'\n",
       "223. 'mistyrose'\n",
       "224. 'mistyrose1'\n",
       "225. 'mistyrose2'\n",
       "226. 'mistyrose3'\n",
       "227. 'mistyrose4'\n",
       "228. 'moccasin'\n",
       "229. 'navajowhite'\n",
       "230. 'navajowhite1'\n",
       "231. 'navajowhite2'\n",
       "232. 'navajowhite3'\n",
       "233. 'navajowhite4'\n",
       "234. 'navy'\n",
       "235. 'navyblue'\n",
       "236. 'oldlace'\n",
       "237. 'olivedrab'\n",
       "238. 'olivedrab1'\n",
       "239. 'olivedrab2'\n",
       "240. 'olivedrab3'\n",
       "241. 'olivedrab4'\n",
       "242. 'orange'\n",
       "243. 'orange1'\n",
       "244. 'orange2'\n",
       "245. 'orange3'\n",
       "246. 'orange4'\n",
       "247. 'orangered'\n",
       "248. 'orangered1'\n",
       "249. 'orangered2'\n",
       "250. 'orangered3'\n",
       "251. 'orangered4'\n",
       "252. 'orchid'\n",
       "253. 'orchid1'\n",
       "254. 'orchid2'\n",
       "255. 'orchid3'\n",
       "256. 'orchid4'\n",
       "257. 'palegoldenrod'\n",
       "258. 'palegreen'\n",
       "259. 'palegreen1'\n",
       "260. 'palegreen2'\n",
       "261. 'palegreen3'\n",
       "262. 'palegreen4'\n",
       "263. 'paleturquoise'\n",
       "264. 'paleturquoise1'\n",
       "265. 'paleturquoise2'\n",
       "266. 'paleturquoise3'\n",
       "267. 'paleturquoise4'\n",
       "268. 'palevioletred'\n",
       "269. 'palevioletred1'\n",
       "270. 'palevioletred2'\n",
       "271. 'palevioletred3'\n",
       "272. 'palevioletred4'\n",
       "273. 'papayawhip'\n",
       "274. 'peachpuff'\n",
       "275. 'peachpuff1'\n",
       "276. 'peachpuff2'\n",
       "277. 'peachpuff3'\n",
       "278. 'peachpuff4'\n",
       "279. 'peru'\n",
       "280. 'pink'\n",
       "281. 'pink1'\n",
       "282. 'pink2'\n",
       "283. 'pink3'\n",
       "284. 'pink4'\n",
       "285. 'plum'\n",
       "286. 'plum1'\n",
       "287. 'plum2'\n",
       "288. 'plum3'\n",
       "289. 'plum4'\n",
       "290. 'powderblue'\n",
       "291. 'purple'\n",
       "292. 'purple1'\n",
       "293. 'purple2'\n",
       "294. 'purple3'\n",
       "295. 'purple4'\n",
       "296. 'red'\n",
       "297. 'red1'\n",
       "298. 'red2'\n",
       "299. 'red3'\n",
       "300. 'red4'\n",
       "301. 'rosybrown'\n",
       "302. 'rosybrown1'\n",
       "303. 'rosybrown2'\n",
       "304. 'rosybrown3'\n",
       "305. 'rosybrown4'\n",
       "306. 'royalblue'\n",
       "307. 'royalblue1'\n",
       "308. 'royalblue2'\n",
       "309. 'royalblue3'\n",
       "310. 'royalblue4'\n",
       "311. 'saddlebrown'\n",
       "312. 'salmon'\n",
       "313. 'salmon1'\n",
       "314. 'salmon2'\n",
       "315. 'salmon3'\n",
       "316. 'salmon4'\n",
       "317. 'sandybrown'\n",
       "318. 'seagreen'\n",
       "319. 'seagreen1'\n",
       "320. 'seagreen2'\n",
       "321. 'seagreen3'\n",
       "322. 'seagreen4'\n",
       "323. 'seashell'\n",
       "324. 'seashell1'\n",
       "325. 'seashell2'\n",
       "326. 'seashell3'\n",
       "327. 'seashell4'\n",
       "328. 'sienna'\n",
       "329. 'sienna1'\n",
       "330. 'sienna2'\n",
       "331. 'sienna3'\n",
       "332. 'sienna4'\n",
       "333. 'skyblue'\n",
       "334. 'skyblue1'\n",
       "335. 'skyblue2'\n",
       "336. 'skyblue3'\n",
       "337. 'skyblue4'\n",
       "338. 'slateblue'\n",
       "339. 'slateblue1'\n",
       "340. 'slateblue2'\n",
       "341. 'slateblue3'\n",
       "342. 'slateblue4'\n",
       "343. 'slategray'\n",
       "344. 'slategray1'\n",
       "345. 'slategray2'\n",
       "346. 'slategray3'\n",
       "347. 'slategray4'\n",
       "348. 'slategrey'\n",
       "349. 'snow'\n",
       "350. 'snow1'\n",
       "351. 'snow2'\n",
       "352. 'snow3'\n",
       "353. 'snow4'\n",
       "354. 'springgreen'\n",
       "355. 'springgreen1'\n",
       "356. 'springgreen2'\n",
       "357. 'springgreen3'\n",
       "358. 'springgreen4'\n",
       "359. 'steelblue'\n",
       "360. 'steelblue1'\n",
       "361. 'steelblue2'\n",
       "362. 'steelblue3'\n",
       "363. 'steelblue4'\n",
       "364. 'tan'\n",
       "365. 'tan1'\n",
       "366. 'tan2'\n",
       "367. 'tan3'\n",
       "368. 'tan4'\n",
       "369. 'thistle'\n",
       "370. 'thistle1'\n",
       "371. 'thistle2'\n",
       "372. 'thistle3'\n",
       "373. 'thistle4'\n",
       "374. 'tomato'\n",
       "375. 'tomato1'\n",
       "376. 'tomato2'\n",
       "377. 'tomato3'\n",
       "378. 'tomato4'\n",
       "379. 'turquoise'\n",
       "380. 'turquoise1'\n",
       "381. 'turquoise2'\n",
       "382. 'turquoise3'\n",
       "383. 'turquoise4'\n",
       "384. 'violet'\n",
       "385. 'violetred'\n",
       "386. 'violetred1'\n",
       "387. 'violetred2'\n",
       "388. 'violetred3'\n",
       "389. 'violetred4'\n",
       "390. 'wheat'\n",
       "391. 'wheat1'\n",
       "392. 'wheat2'\n",
       "393. 'wheat3'\n",
       "394. 'wheat4'\n",
       "395. 'whitesmoke'\n",
       "396. 'yellow'\n",
       "397. 'yellow1'\n",
       "398. 'yellow2'\n",
       "399. 'yellow3'\n",
       "400. 'yellow4'\n",
       "401. 'yellowgreen'\n",
       "\n",
       "\n"
      ],
      "text/plain": [
       "  [1] \"white\"                \"aliceblue\"            \"antiquewhite\"        \n",
       "  [4] \"antiquewhite1\"        \"antiquewhite2\"        \"antiquewhite3\"       \n",
       "  [7] \"antiquewhite4\"        \"aquamarine\"           \"aquamarine1\"         \n",
       " [10] \"aquamarine2\"          \"aquamarine3\"          \"aquamarine4\"         \n",
       " [13] \"azure\"                \"azure1\"               \"azure2\"              \n",
       " [16] \"azure3\"               \"azure4\"               \"beige\"               \n",
       " [19] \"bisque\"               \"bisque1\"              \"bisque2\"             \n",
       " [22] \"bisque3\"              \"bisque4\"              \"black\"               \n",
       " [25] \"blanchedalmond\"       \"blue\"                 \"blue1\"               \n",
       " [28] \"blue2\"                \"blue3\"                \"blue4\"               \n",
       " [31] \"blueviolet\"           \"brown\"                \"brown1\"              \n",
       " [34] \"brown2\"               \"brown3\"               \"brown4\"              \n",
       " [37] \"burlywood\"            \"burlywood1\"           \"burlywood2\"          \n",
       " [40] \"burlywood3\"           \"burlywood4\"           \"cadetblue\"           \n",
       " [43] \"cadetblue1\"           \"cadetblue2\"           \"cadetblue3\"          \n",
       " [46] \"cadetblue4\"           \"chartreuse\"           \"chartreuse1\"         \n",
       " [49] \"chartreuse2\"          \"chartreuse3\"          \"chartreuse4\"         \n",
       " [52] \"chocolate\"            \"chocolate1\"           \"chocolate2\"          \n",
       " [55] \"chocolate3\"           \"chocolate4\"           \"coral\"               \n",
       " [58] \"coral1\"               \"coral2\"               \"coral3\"              \n",
       " [61] \"coral4\"               \"cornflowerblue\"       \"cornsilk\"            \n",
       " [64] \"cornsilk1\"            \"cornsilk2\"            \"cornsilk3\"           \n",
       " [67] \"cornsilk4\"            \"cyan\"                 \"cyan1\"               \n",
       " [70] \"cyan2\"                \"cyan3\"                \"cyan4\"               \n",
       " [73] \"darkblue\"             \"darkcyan\"             \"darkgoldenrod\"       \n",
       " [76] \"darkgoldenrod1\"       \"darkgoldenrod2\"       \"darkgoldenrod3\"      \n",
       " [79] \"darkgoldenrod4\"       \"darkgray\"             \"darkgreen\"           \n",
       " [82] \"darkgrey\"             \"darkkhaki\"            \"darkmagenta\"         \n",
       " [85] \"darkolivegreen\"       \"darkolivegreen1\"      \"darkolivegreen2\"     \n",
       " [88] \"darkolivegreen3\"      \"darkolivegreen4\"      \"darkorange\"          \n",
       " [91] \"darkorange1\"          \"darkorange2\"          \"darkorange3\"         \n",
       " [94] \"darkorange4\"          \"darkorchid\"           \"darkorchid1\"         \n",
       " [97] \"darkorchid2\"          \"darkorchid3\"          \"darkorchid4\"         \n",
       "[100] \"darkred\"              \"darksalmon\"           \"darkseagreen\"        \n",
       "[103] \"darkseagreen1\"        \"darkseagreen2\"        \"darkseagreen3\"       \n",
       "[106] \"darkseagreen4\"        \"darkslateblue\"        \"darkslategray\"       \n",
       "[109] \"darkslategray1\"       \"darkslategray2\"       \"darkslategray3\"      \n",
       "[112] \"darkslategray4\"       \"darkslategrey\"        \"darkturquoise\"       \n",
       "[115] \"darkviolet\"           \"deeppink\"             \"deeppink1\"           \n",
       "[118] \"deeppink2\"            \"deeppink3\"            \"deeppink4\"           \n",
       "[121] \"deepskyblue\"          \"deepskyblue1\"         \"deepskyblue2\"        \n",
       "[124] \"deepskyblue3\"         \"deepskyblue4\"         \"dimgray\"             \n",
       "[127] \"dimgrey\"              \"dodgerblue\"           \"dodgerblue1\"         \n",
       "[130] \"dodgerblue2\"          \"dodgerblue3\"          \"dodgerblue4\"         \n",
       "[133] \"firebrick\"            \"firebrick1\"           \"firebrick2\"          \n",
       "[136] \"firebrick3\"           \"firebrick4\"           \"floralwhite\"         \n",
       "[139] \"forestgreen\"          \"gainsboro\"            \"ghostwhite\"          \n",
       "[142] \"gold\"                 \"gold1\"                \"gold2\"               \n",
       "[145] \"gold3\"                \"gold4\"                \"goldenrod\"           \n",
       "[148] \"goldenrod1\"           \"goldenrod2\"           \"goldenrod3\"          \n",
       "[151] \"goldenrod4\"           \"gray\"                 \"gray0\"               \n",
       "[154] \"gray1\"                \"gray2\"                \"gray3\"               \n",
       "[157] \"gray4\"                \"gray5\"                \"gray6\"               \n",
       "[160] \"gray7\"                \"gray8\"                \"gray9\"               \n",
       "[163] \"gray10\"               \"gray11\"               \"gray12\"              \n",
       "[166] \"gray13\"               \"gray14\"               \"gray15\"              \n",
       "[169] \"gray16\"               \"gray17\"               \"gray18\"              \n",
       "[172] \"gray19\"               \"gray20\"               \"gray21\"              \n",
       "[175] \"gray22\"               \"gray23\"               \"gray24\"              \n",
       "[178] \"gray25\"               \"gray26\"               \"gray27\"              \n",
       "[181] \"gray28\"               \"gray29\"               \"gray30\"              \n",
       "[184] \"gray31\"               \"gray32\"               \"gray33\"              \n",
       "[187] \"gray34\"               \"gray35\"               \"gray36\"              \n",
       "[190] \"gray37\"               \"gray38\"               \"gray39\"              \n",
       "[193] \"gray40\"               \"gray41\"               \"gray42\"              \n",
       "[196] \"gray43\"               \"gray44\"               \"gray45\"              \n",
       "[199] \"gray46\"               \"gray47\"               \"gray48\"              \n",
       "[202] \"gray49\"               \"gray50\"               \"gray51\"              \n",
       "[205] \"gray52\"               \"gray53\"               \"gray54\"              \n",
       "[208] \"gray55\"               \"gray56\"               \"gray57\"              \n",
       "[211] \"gray58\"               \"gray59\"               \"gray60\"              \n",
       "[214] \"gray61\"               \"gray62\"               \"gray63\"              \n",
       "[217] \"gray64\"               \"gray65\"               \"gray66\"              \n",
       "[220] \"gray67\"               \"gray68\"               \"gray69\"              \n",
       "[223] \"gray70\"               \"gray71\"               \"gray72\"              \n",
       "[226] \"gray73\"               \"gray74\"               \"gray75\"              \n",
       "[229] \"gray76\"               \"gray77\"               \"gray78\"              \n",
       "[232] \"gray79\"               \"gray80\"               \"gray81\"              \n",
       "[235] \"gray82\"               \"gray83\"               \"gray84\"              \n",
       "[238] \"gray85\"               \"gray86\"               \"gray87\"              \n",
       "[241] \"gray88\"               \"gray89\"               \"gray90\"              \n",
       "[244] \"gray91\"               \"gray92\"               \"gray93\"              \n",
       "[247] \"gray94\"               \"gray95\"               \"gray96\"              \n",
       "[250] \"gray97\"               \"gray98\"               \"gray99\"              \n",
       "[253] \"gray100\"              \"green\"                \"green1\"              \n",
       "[256] \"green2\"               \"green3\"               \"green4\"              \n",
       "[259] \"greenyellow\"          \"grey\"                 \"grey0\"               \n",
       "[262] \"grey1\"                \"grey2\"                \"grey3\"               \n",
       "[265] \"grey4\"                \"grey5\"                \"grey6\"               \n",
       "[268] \"grey7\"                \"grey8\"                \"grey9\"               \n",
       "[271] \"grey10\"               \"grey11\"               \"grey12\"              \n",
       "[274] \"grey13\"               \"grey14\"               \"grey15\"              \n",
       "[277] \"grey16\"               \"grey17\"               \"grey18\"              \n",
       "[280] \"grey19\"               \"grey20\"               \"grey21\"              \n",
       "[283] \"grey22\"               \"grey23\"               \"grey24\"              \n",
       "[286] \"grey25\"               \"grey26\"               \"grey27\"              \n",
       "[289] \"grey28\"               \"grey29\"               \"grey30\"              \n",
       "[292] \"grey31\"               \"grey32\"               \"grey33\"              \n",
       "[295] \"grey34\"               \"grey35\"               \"grey36\"              \n",
       "[298] \"grey37\"               \"grey38\"               \"grey39\"              \n",
       "[301] \"grey40\"               \"grey41\"               \"grey42\"              \n",
       "[304] \"grey43\"               \"grey44\"               \"grey45\"              \n",
       "[307] \"grey46\"               \"grey47\"               \"grey48\"              \n",
       "[310] \"grey49\"               \"grey50\"               \"grey51\"              \n",
       "[313] \"grey52\"               \"grey53\"               \"grey54\"              \n",
       "[316] \"grey55\"               \"grey56\"               \"grey57\"              \n",
       "[319] \"grey58\"               \"grey59\"               \"grey60\"              \n",
       "[322] \"grey61\"               \"grey62\"               \"grey63\"              \n",
       "[325] \"grey64\"               \"grey65\"               \"grey66\"              \n",
       "[328] \"grey67\"               \"grey68\"               \"grey69\"              \n",
       "[331] \"grey70\"               \"grey71\"               \"grey72\"              \n",
       "[334] \"grey73\"               \"grey74\"               \"grey75\"              \n",
       "[337] \"grey76\"               \"grey77\"               \"grey78\"              \n",
       "[340] \"grey79\"               \"grey80\"               \"grey81\"              \n",
       "[343] \"grey82\"               \"grey83\"               \"grey84\"              \n",
       "[346] \"grey85\"               \"grey86\"               \"grey87\"              \n",
       "[349] \"grey88\"               \"grey89\"               \"grey90\"              \n",
       "[352] \"grey91\"               \"grey92\"               \"grey93\"              \n",
       "[355] \"grey94\"               \"grey95\"               \"grey96\"              \n",
       "[358] \"grey97\"               \"grey98\"               \"grey99\"              \n",
       "[361] \"grey100\"              \"honeydew\"             \"honeydew1\"           \n",
       "[364] \"honeydew2\"            \"honeydew3\"            \"honeydew4\"           \n",
       "[367] \"hotpink\"              \"hotpink1\"             \"hotpink2\"            \n",
       "[370] \"hotpink3\"             \"hotpink4\"             \"indianred\"           \n",
       "[373] \"indianred1\"           \"indianred2\"           \"indianred3\"          \n",
       "[376] \"indianred4\"           \"ivory\"                \"ivory1\"              \n",
       "[379] \"ivory2\"               \"ivory3\"               \"ivory4\"              \n",
       "[382] \"khaki\"                \"khaki1\"               \"khaki2\"              \n",
       "[385] \"khaki3\"               \"khaki4\"               \"lavender\"            \n",
       "[388] \"lavenderblush\"        \"lavenderblush1\"       \"lavenderblush2\"      \n",
       "[391] \"lavenderblush3\"       \"lavenderblush4\"       \"lawngreen\"           \n",
       "[394] \"lemonchiffon\"         \"lemonchiffon1\"        \"lemonchiffon2\"       \n",
       "[397] \"lemonchiffon3\"        \"lemonchiffon4\"        \"lightblue\"           \n",
       "[400] \"lightblue1\"           \"lightblue2\"           \"lightblue3\"          \n",
       "[403] \"lightblue4\"           \"lightcoral\"           \"lightcyan\"           \n",
       "[406] \"lightcyan1\"           \"lightcyan2\"           \"lightcyan3\"          \n",
       "[409] \"lightcyan4\"           \"lightgoldenrod\"       \"lightgoldenrod1\"     \n",
       "[412] \"lightgoldenrod2\"      \"lightgoldenrod3\"      \"lightgoldenrod4\"     \n",
       "[415] \"lightgoldenrodyellow\" \"lightgray\"            \"lightgreen\"          \n",
       "[418] \"lightgrey\"            \"lightpink\"            \"lightpink1\"          \n",
       "[421] \"lightpink2\"           \"lightpink3\"           \"lightpink4\"          \n",
       "[424] \"lightsalmon\"          \"lightsalmon1\"         \"lightsalmon2\"        \n",
       "[427] \"lightsalmon3\"         \"lightsalmon4\"         \"lightseagreen\"       \n",
       "[430] \"lightskyblue\"         \"lightskyblue1\"        \"lightskyblue2\"       \n",
       "[433] \"lightskyblue3\"        \"lightskyblue4\"        \"lightslateblue\"      \n",
       "[436] \"lightslategray\"       \"lightslategrey\"       \"lightsteelblue\"      \n",
       "[439] \"lightsteelblue1\"      \"lightsteelblue2\"      \"lightsteelblue3\"     \n",
       "[442] \"lightsteelblue4\"      \"lightyellow\"          \"lightyellow1\"        \n",
       "[445] \"lightyellow2\"         \"lightyellow3\"         \"lightyellow4\"        \n",
       "[448] \"limegreen\"            \"linen\"                \"magenta\"             \n",
       "[451] \"magenta1\"             \"magenta2\"             \"magenta3\"            \n",
       "[454] \"magenta4\"             \"maroon\"               \"maroon1\"             \n",
       "[457] \"maroon2\"              \"maroon3\"              \"maroon4\"             \n",
       "[460] \"mediumaquamarine\"     \"mediumblue\"           \"mediumorchid\"        \n",
       "[463] \"mediumorchid1\"        \"mediumorchid2\"        \"mediumorchid3\"       \n",
       "[466] \"mediumorchid4\"        \"mediumpurple\"         \"mediumpurple1\"       \n",
       "[469] \"mediumpurple2\"        \"mediumpurple3\"        \"mediumpurple4\"       \n",
       "[472] \"mediumseagreen\"       \"mediumslateblue\"      \"mediumspringgreen\"   \n",
       "[475] \"mediumturquoise\"      \"mediumvioletred\"      \"midnightblue\"        \n",
       "[478] \"mintcream\"            \"mistyrose\"            \"mistyrose1\"          \n",
       "[481] \"mistyrose2\"           \"mistyrose3\"           \"mistyrose4\"          \n",
       "[484] \"moccasin\"             \"navajowhite\"          \"navajowhite1\"        \n",
       "[487] \"navajowhite2\"         \"navajowhite3\"         \"navajowhite4\"        \n",
       "[490] \"navy\"                 \"navyblue\"             \"oldlace\"             \n",
       "[493] \"olivedrab\"            \"olivedrab1\"           \"olivedrab2\"          \n",
       "[496] \"olivedrab3\"           \"olivedrab4\"           \"orange\"              \n",
       "[499] \"orange1\"              \"orange2\"              \"orange3\"             \n",
       "[502] \"orange4\"              \"orangered\"            \"orangered1\"          \n",
       "[505] \"orangered2\"           \"orangered3\"           \"orangered4\"          \n",
       "[508] \"orchid\"               \"orchid1\"              \"orchid2\"             \n",
       "[511] \"orchid3\"              \"orchid4\"              \"palegoldenrod\"       \n",
       "[514] \"palegreen\"            \"palegreen1\"           \"palegreen2\"          \n",
       "[517] \"palegreen3\"           \"palegreen4\"           \"paleturquoise\"       \n",
       "[520] \"paleturquoise1\"       \"paleturquoise2\"       \"paleturquoise3\"      \n",
       "[523] \"paleturquoise4\"       \"palevioletred\"        \"palevioletred1\"      \n",
       "[526] \"palevioletred2\"       \"palevioletred3\"       \"palevioletred4\"      \n",
       "[529] \"papayawhip\"           \"peachpuff\"            \"peachpuff1\"          \n",
       "[532] \"peachpuff2\"           \"peachpuff3\"           \"peachpuff4\"          \n",
       "[535] \"peru\"                 \"pink\"                 \"pink1\"               \n",
       "[538] \"pink2\"                \"pink3\"                \"pink4\"               \n",
       "[541] \"plum\"                 \"plum1\"                \"plum2\"               \n",
       "[544] \"plum3\"                \"plum4\"                \"powderblue\"          \n",
       "[547] \"purple\"               \"purple1\"              \"purple2\"             \n",
       "[550] \"purple3\"              \"purple4\"              \"red\"                 \n",
       "[553] \"red1\"                 \"red2\"                 \"red3\"                \n",
       "[556] \"red4\"                 \"rosybrown\"            \"rosybrown1\"          \n",
       "[559] \"rosybrown2\"           \"rosybrown3\"           \"rosybrown4\"          \n",
       "[562] \"royalblue\"            \"royalblue1\"           \"royalblue2\"          \n",
       "[565] \"royalblue3\"           \"royalblue4\"           \"saddlebrown\"         \n",
       "[568] \"salmon\"               \"salmon1\"              \"salmon2\"             \n",
       "[571] \"salmon3\"              \"salmon4\"              \"sandybrown\"          \n",
       "[574] \"seagreen\"             \"seagreen1\"            \"seagreen2\"           \n",
       "[577] \"seagreen3\"            \"seagreen4\"            \"seashell\"            \n",
       "[580] \"seashell1\"            \"seashell2\"            \"seashell3\"           \n",
       "[583] \"seashell4\"            \"sienna\"               \"sienna1\"             \n",
       "[586] \"sienna2\"              \"sienna3\"              \"sienna4\"             \n",
       "[589] \"skyblue\"              \"skyblue1\"             \"skyblue2\"            \n",
       "[592] \"skyblue3\"             \"skyblue4\"             \"slateblue\"           \n",
       "[595] \"slateblue1\"           \"slateblue2\"           \"slateblue3\"          \n",
       "[598] \"slateblue4\"           \"slategray\"            \"slategray1\"          \n",
       "[601] \"slategray2\"           \"slategray3\"           \"slategray4\"          \n",
       "[604] \"slategrey\"            \"snow\"                 \"snow1\"               \n",
       "[607] \"snow2\"                \"snow3\"                \"snow4\"               \n",
       "[610] \"springgreen\"          \"springgreen1\"         \"springgreen2\"        \n",
       "[613] \"springgreen3\"         \"springgreen4\"         \"steelblue\"           \n",
       "[616] \"steelblue1\"           \"steelblue2\"           \"steelblue3\"          \n",
       "[619] \"steelblue4\"           \"tan\"                  \"tan1\"                \n",
       "[622] \"tan2\"                 \"tan3\"                 \"tan4\"                \n",
       "[625] \"thistle\"              \"thistle1\"             \"thistle2\"            \n",
       "[628] \"thistle3\"             \"thistle4\"             \"tomato\"              \n",
       "[631] \"tomato1\"              \"tomato2\"              \"tomato3\"             \n",
       "[634] \"tomato4\"              \"turquoise\"            \"turquoise1\"          \n",
       "[637] \"turquoise2\"           \"turquoise3\"           \"turquoise4\"          \n",
       "[640] \"violet\"               \"violetred\"            \"violetred1\"          \n",
       "[643] \"violetred2\"           \"violetred3\"           \"violetred4\"          \n",
       "[646] \"wheat\"                \"wheat1\"               \"wheat2\"              \n",
       "[649] \"wheat3\"               \"wheat4\"               \"whitesmoke\"          \n",
       "[652] \"yellow\"               \"yellow1\"              \"yellow2\"             \n",
       "[655] \"yellow3\"              \"yellow4\"              \"yellowgreen\"         "
      ]
     },
     "metadata": {},
     "output_type": "display_data"
    }
   ],
   "source": [
    "colours()"
   ]
  },
  {
   "cell_type": "code",
   "execution_count": 20,
   "id": "7c8a0271",
   "metadata": {},
   "outputs": [
    {
     "data": {
      "image/png": "[encoded data removed]",
      "text/plain": [
       "Plot with title \"Agricultural Income in China\""
      ]
     },
     "metadata": {
      "image/png": {
       "height": 420,
       "width": 420
      }
     },
     "output_type": "display_data"
    }
   ],
   "source": [
    "plot(agriculture, type=\"l\", main=\"Agricultural Income in China\", \n",
    "     xlab=\"Years\", ylab=\"Agricultural Income\", cex.main=1.5, \n",
    "     cex.lab=1.25, col=\"maroon4\")"
   ]
  },
  {
   "cell_type": "code",
   "execution_count": 21,
   "id": "dbd67aec",
   "metadata": {},
   "outputs": [
    {
     "data": {
      "image/png": "[encoded data removed]",
      "text/plain": [
       "Plot with title \"Agricultural Income in China\""
      ]
     },
     "metadata": {
      "image/png": {
       "height": 420,
       "width": 420
      }
     },
     "output_type": "display_data"
    }
   ],
   "source": [
    "plot(agriculture, type=\"l\", main=\"Agricultural Income in China\", \n",
    "     xlab=\"Years\", ylab=\"Agricultural Income\", cex.main=1.5, \n",
    "     cex.lab=1.25, col=\"red3\")"
   ]
  },
  {
   "cell_type": "code",
   "execution_count": 22,
   "id": "e216ebb6",
   "metadata": {},
   "outputs": [
    {
     "data": {
      "image/png": "[encoded data removed]",
      "text/plain": [
       "Plot with title \"Agricultural Income in China\""
      ]
     },
     "metadata": {
      "image/png": {
       "height": 420,
       "width": 420
      }
     },
     "output_type": "display_data"
    }
   ],
   "source": [
    "plot(agriculture, type=\"l\", main=\"Agricultural Income in China\", \n",
    "     xlab=\"Years\", ylab=\"Agricultural Income\", cex.main=1.5, \n",
    "     cex.lab=1.25, col=\"blue4\")"
   ]
  },
  {
   "cell_type": "markdown",
   "id": "6d94fec6",
   "metadata": {},
   "source": [
    "## Width of the line"
   ]
  },
  {
   "cell_type": "code",
   "execution_count": 23,
   "id": "f1ceb04a",
   "metadata": {},
   "outputs": [
    {
     "data": {
      "image/png": "[encoded data removed]",
      "text/plain": [
       "Plot with title \"Agricultural Income in China\""
      ]
     },
     "metadata": {
      "image/png": {
       "height": 420,
       "width": 420
      }
     },
     "output_type": "display_data"
    }
   ],
   "source": [
    "plot(agriculture, type=\"l\", main=\"Agricultural Income in China\", \n",
    "     xlab=\"Years\", ylab=\"Agricultural Income\", cex.main=1.5, \n",
    "     cex.lab=1.25, col=\"maroon\", lwd=2)"
   ]
  },
  {
   "cell_type": "markdown",
   "id": "0e792dae",
   "metadata": {},
   "source": [
    "## Changing plot type"
   ]
  },
  {
   "cell_type": "code",
   "execution_count": 24,
   "id": "4ddf9062",
   "metadata": {},
   "outputs": [
    {
     "data": {
      "image/png": "[encoded data removed]",
      "text/plain": [
       "Plot with title \"Agricultural Income in China\""
      ]
     },
     "metadata": {
      "image/png": {
       "height": 420,
       "width": 420
      }
     },
     "output_type": "display_data"
    }
   ],
   "source": [
    "#to change plot type for that we use lty=\n",
    "plot(agriculture, type=\"l\", main=\"Agricultural Income in China\", \n",
    "     xlab=\"Years\", ylab=\"Agricultural Income\", cex.main=1.5, \n",
    "     cex.lab=1.25, col=\"maroon\", lwd=2, lty=3)"
   ]
  },
  {
   "cell_type": "code",
   "execution_count": 25,
   "id": "63748429",
   "metadata": {},
   "outputs": [
    {
     "data": {
      "image/png": "[encoded data removed]",
      "text/plain": [
       "Plot with title \"Agricultural Income in China\""
      ]
     },
     "metadata": {
      "image/png": {
       "height": 420,
       "width": 420
      }
     },
     "output_type": "display_data"
    }
   ],
   "source": [
    "#to change background with grid lines use grid() with plot\n",
    "\n",
    "plot(agriculture, type=\"l\", main=\"Agricultural Income in China\", \n",
    "     xlab=\"Years\", ylab=\"Agricultural Income\", cex.main=1.5, \n",
    "     cex.lab=1.25, col=\"maroon\", lwd=2)\n",
    "grid()"
   ]
  },
  {
   "cell_type": "markdown",
   "id": "cae54ebb",
   "metadata": {},
   "source": [
    "## Plot type"
   ]
  },
  {
   "cell_type": "code",
   "execution_count": 26,
   "id": "45d5cb2c",
   "metadata": {},
   "outputs": [
    {
     "data": {
      "image/png": "[encoded data removed]",
      "text/plain": [
       "Plot with title \"Agricultural Income in China\""
      ]
     },
     "metadata": {
      "image/png": {
       "height": 420,
       "width": 420
      }
     },
     "output_type": "display_data"
    }
   ],
   "source": [
    "#to change instead of line plot some step plot change type=\"s\"\n",
    "plot(agriculture, type=\"s\", main=\"Agricultural Income in China\", \n",
    "     xlab=\"Years\", ylab=\"Agricultural Income\", cex.main=1.5, \n",
    "     cex.lab=1.25, col=\"maroon\")\n",
    "grid()"
   ]
  },
  {
   "cell_type": "code",
   "execution_count": 27,
   "id": "7d0b4777",
   "metadata": {},
   "outputs": [
    {
     "data": {
      "image/png": "[encoded data removed]",
      "text/plain": [
       "Plot with title \"Agricultural Income in China\""
      ]
     },
     "metadata": {
      "image/png": {
       "height": 420,
       "width": 420
      }
     },
     "output_type": "display_data"
    }
   ],
   "source": [
    "#if want plot with line and dots type=\"o\"\n",
    "\n",
    "plot(agriculture, type=\"b\", main=\"Agricultural Income in China\", \n",
    "     xlab=\"Years\", ylab=\"Agricultural Income\", cex.main=1.5, \n",
    "     cex.lab=1.25, col=\"maroon\")\n",
    "grid()"
   ]
  },
  {
   "cell_type": "code",
   "execution_count": 28,
   "id": "3200ce19",
   "metadata": {},
   "outputs": [
    {
     "data": {
      "image/png": "[encoded data removed]",
      "text/plain": [
       "Plot with title \"Agricultural Income in China\""
      ]
     },
     "metadata": {
      "image/png": {
       "height": 420,
       "width": 420
      }
     },
     "output_type": "display_data"
    }
   ],
   "source": [
    "###if want plot with only dots type=\"p\"\n",
    "\n",
    "plot(agriculture, type=\"p\", main=\"Agricultural Income in China\", \n",
    "     xlab=\"Years\", ylab=\"Agricultural Income\", cex.main=1.5, \n",
    "     cex.lab=1.25, col=\"maroon\")\n",
    "grid()"
   ]
  },
  {
   "cell_type": "markdown",
   "id": "c8a01a4d",
   "metadata": {},
   "source": [
    "## Two line in a plot"
   ]
  },
  {
   "cell_type": "code",
   "execution_count": 29,
   "id": "9bdcc2e1",
   "metadata": {},
   "outputs": [
    {
     "data": {
      "image/png": "[encoded data removed]",
      "text/plain": [
       "Plot with title \"Agricultural & Industry Income in China\""
      ]
     },
     "metadata": {
      "image/png": {
       "height": 420,
       "width": 420
      }
     },
     "output_type": "display_data"
    }
   ],
   "source": [
    "###want to add one more line of another variable on same plot use lines along with old command\n",
    "\n",
    "plot(agriculture, type=\"l\", main=\"Agricultural & Industry Income in China\", \n",
    "     xlab=\"Years\", ylab=\"Agricultural Income\", cex.main=1.5, \n",
    "     cex.lab=1.25, col=\"maroon\")\n",
    "lines(industry)"
   ]
  },
  {
   "cell_type": "code",
   "execution_count": 30,
   "id": "00eeec85",
   "metadata": {},
   "outputs": [
    {
     "data": {
      "text/html": [
       "4765"
      ],
      "text/latex": [
       "4765"
      ],
      "text/markdown": [
       "4765"
      ],
      "text/plain": [
       "[1] 4765"
      ]
     },
     "metadata": {},
     "output_type": "display_data"
    },
    {
     "data": {
      "text/html": [
       "279.4"
      ],
      "text/latex": [
       "279.4"
      ],
      "text/markdown": [
       "279.4"
      ],
      "text/plain": [
       "[1] 279.4"
      ]
     },
     "metadata": {},
     "output_type": "display_data"
    },
    {
     "data": {
      "text/html": [
       "100"
      ],
      "text/latex": [
       "100"
      ],
      "text/markdown": [
       "100"
      ],
      "text/plain": [
       "[1] 100"
      ]
     },
     "metadata": {},
     "output_type": "display_data"
    },
    {
     "data": {
      "text/html": [
       "83.6"
      ],
      "text/latex": [
       "83.6"
      ],
      "text/markdown": [
       "83.6"
      ],
      "text/plain": [
       "[1] 83.6"
      ]
     },
     "metadata": {},
     "output_type": "display_data"
    }
   ],
   "source": [
    "max(industry)\n",
    "max(agriculture)\n",
    "min(industry)\n",
    "min(agriculture)\n",
    "#because another plot has higher value we need to change the value of y axis"
   ]
  },
  {
   "cell_type": "code",
   "execution_count": 31,
   "id": "762b2906",
   "metadata": {},
   "outputs": [
    {
     "data": {
      "image/png": "[encoded data removed]",
      "text/plain": [
       "Plot with title \"Agricultural Income in China\""
      ]
     },
     "metadata": {
      "image/png": {
       "height": 420,
       "width": 420
      }
     },
     "output_type": "display_data"
    }
   ],
   "source": [
    "#for that we need to see value of industry and agriculture\n",
    "\n",
    "plot(agriculture, type=\"l\", main=\"Agricultural Income in China\", \n",
    "     xlab=\"Years\", ylab=\"Agricultural Income\", cex.main=1.5, \n",
    "     cex.lab=1.25, ylim=c(80,5000))\n",
    "lines(industry)"
   ]
  },
  {
   "cell_type": "code",
   "execution_count": 32,
   "id": "5530f65f",
   "metadata": {},
   "outputs": [
    {
     "data": {
      "image/png": "[encoded data removed]",
      "text/plain": [
       "Plot with title \"Agricultural Income in China\""
      ]
     },
     "metadata": {
      "image/png": {
       "height": 420,
       "width": 420
      }
     },
     "output_type": "display_data"
    }
   ],
   "source": [
    "##want to give different color to industry\n",
    "\n",
    "plot(agriculture, type=\"l\", main=\"Agricultural Income in China\", \n",
    "     xlab=\"Years\", ylab=\"Agricultural Income\", cex.main=1.5, \n",
    "     cex.lab=1.25, ylim=c(80,5000), col=\"red\")\n",
    "lines(industry, col=\"blue\")"
   ]
  },
  {
   "cell_type": "code",
   "execution_count": 33,
   "id": "a8411a32",
   "metadata": {},
   "outputs": [
    {
     "data": {
      "image/png": "[encoded data removed]",
      "text/plain": [
       "Plot with title \"Agricultural Income in China\""
      ]
     },
     "metadata": {
      "image/png": {
       "height": 420,
       "width": 420
      }
     },
     "output_type": "display_data"
    }
   ],
   "source": [
    "##we can use points for agriculture and line for industry\n",
    "plot(agriculture, type=\"l\", main=\"Agricultural Income in China\", \n",
    "     xlab=\"Years\", ylab=\"Agricultural Income\", cex.main=1.5, \n",
    "     cex.lab=1.25, ylim=c(80,5000), col=\"red\", lty=2)\n",
    "lines(industry, col=\"blue\",lty=1,lwd=2)\n",
    "grid()"
   ]
  },
  {
   "cell_type": "markdown",
   "id": "b51b33d9",
   "metadata": {},
   "source": [
    "## Legends"
   ]
  },
  {
   "cell_type": "code",
   "execution_count": 34,
   "id": "bd07e2fc",
   "metadata": {},
   "outputs": [
    {
     "data": {
      "image/png": "[encoded data removed]",
      "text/plain": [
       "Plot with title \"Agricultural Income in China\""
      ]
     },
     "metadata": {
      "image/png": {
       "height": 420,
       "width": 420
      }
     },
     "output_type": "display_data"
    }
   ],
   "source": [
    "# want to add legend top left to the plot\n",
    "plot(agriculture, type=\"l\", main=\"Agricultural Income in China\", \n",
    "     xlab=\"Years\", ylab=\"Agricultural Income\", cex.main=1.5, \n",
    "     cex.lab=1.25, ylim=c(80,5000), col=\"red\", lty=1)\n",
    "lines(industry, col=\"blue\",lty=2, lwd=2)\n",
    "legend(\"topleft\",legend=c(\"Agriculture\",\"Industry\"),\n",
    "       col=c(\"red\",\"blue\"),lty=c(1,2), cex=0.75)"
   ]
  },
  {
   "cell_type": "code",
   "execution_count": 35,
   "id": "8c71a7c5",
   "metadata": {},
   "outputs": [
    {
     "data": {
      "image/png": "[encoded data removed]",
      "text/plain": [
       "Plot with title \"Agricultural Income in China\""
      ]
     },
     "metadata": {
      "image/png": {
       "height": 420,
       "width": 420
      }
     },
     "output_type": "display_data"
    }
   ],
   "source": [
    "#If we dont need box for legend use bty=\"n\"\n",
    "plot(agriculture, type=\"l\", main=\"Agricultural Income in China\", \n",
    "     xlab=\"Years\", ylab=\"Agricultural Income\", cex.main=1.5, \n",
    "     cex.lab=1.25, ylim=c(80,5000), col=\"red\", lty=1)\n",
    "lines(industry, col=\"blue\",lty=2, lwd=2)\n",
    "legend(\"topleft\",legend=c(\"Agriculture\",\"Industry\"),\n",
    "       col=c(\"red\",\"blue\"),lty=c(1,2), bty=\"n\", cex=0.75)"
   ]
  },
  {
   "cell_type": "markdown",
   "id": "10c031b6",
   "metadata": {},
   "source": [
    "## size of legend"
   ]
  },
  {
   "cell_type": "code",
   "execution_count": 36,
   "id": "3a49fefa",
   "metadata": {},
   "outputs": [
    {
     "data": {
      "image/png": "[encoded data removed]",
      "text/plain": [
       "Plot with title \"Agricultural and Industry Income in China\""
      ]
     },
     "metadata": {
      "image/png": {
       "height": 420,
       "width": 420
      }
     },
     "output_type": "display_data"
    }
   ],
   "source": [
    "###increase or decrease the size of legend with cex function here we need to use only cex because we are using in legend so R knows\n",
    "plot(agriculture, type=\"l\", main=\n",
    "       \"Agricultural and Industry Income in China\",xlab=\"Year\", \n",
    "     ylab=\"Income in Yuan\", cex.main=2, \n",
    "     col=\"red\", lwd=1, ylim=c(80,5000),lty=2)\n",
    "lines(industry, col=\"blue\", lwd=2, lty=2)\n",
    "grid()\n",
    "legend(\"topleft\",legend=c(\"Agriculture\",\"Industry\"),\n",
    "       lty=c(2,2),col=c(\"red\",\"blue\"), lwd=c(2,2),bty=\"n\", cex=0.75)"
   ]
  },
  {
   "cell_type": "code",
   "execution_count": 37,
   "id": "d2d1c886",
   "metadata": {},
   "outputs": [
    {
     "data": {
      "image/png": "[encoded data removed]",
      "text/plain": [
       "Plot with title \"Agricultural and Industry Income in China\""
      ]
     },
     "metadata": {
      "image/png": {
       "height": 420,
       "width": 420
      }
     },
     "output_type": "display_data"
    }
   ],
   "source": [
    "plot(agriculture, type=\"l\", main=\n",
    "       \"Agricultural and Industry Income in China\",xlab=\"Year\", \n",
    "     ylab=\"Income in Yuan\", cex.main=2, \n",
    "     col=\"red\", lwd=1, ylim=c(80,5000),lty=2)\n",
    "lines(industry, col=\"blue\", lwd=2, lty=2)\n",
    "grid()\n",
    "legend(\"topleft\",legend=c(\"Agriculture\",\"Industry\"),\n",
    "       lty=c(2,2),col=c(\"red\",\"blue\"), lwd=c(2,2),bty=\"n\", cex=1)"
   ]
  },
  {
   "cell_type": "code",
   "execution_count": 38,
   "id": "c50932c7",
   "metadata": {},
   "outputs": [
    {
     "data": {
      "image/png": "[encoded data removed]",
      "text/plain": [
       "Plot with title \"Agricultural and Industry Income in China\""
      ]
     },
     "metadata": {
      "image/png": {
       "height": 420,
       "width": 420
      }
     },
     "output_type": "display_data"
    }
   ],
   "source": [
    "plot(agriculture, type=\"l\", main=\n",
    "       \"Agricultural and Industry Income in China\",xlab=\"Year\", \n",
    "     ylab=\"Income in Yuan\", cex.main=2, \n",
    "     col=\"red\", lwd=1, ylim=c(80,5000),lty=2)\n",
    "lines(industry, col=\"blue\", lwd=2, lty=2)\n",
    "grid()\n",
    "legend(\"topleft\",legend=c(\"Agriculture\",\"Industry\"),\n",
    "       lty=c(2,2),col=c(\"red\",\"blue\"), lwd=c(2,2),bty=\"n\", cex=1.5)"
   ]
  },
  {
   "cell_type": "markdown",
   "id": "98f95fdd",
   "metadata": {},
   "source": [
    "## Three line in graph"
   ]
  },
  {
   "cell_type": "code",
   "execution_count": 39,
   "id": "57698a3e",
   "metadata": {},
   "outputs": [
    {
     "data": {
      "image/png": "[encoded data removed]",
      "text/plain": [
       "Plot with title \"Agricultural and Industry Income in China\""
      ]
     },
     "metadata": {
      "image/png": {
       "height": 420,
       "width": 420
      }
     },
     "output_type": "display_data"
    }
   ],
   "source": [
    "#Want to add third line for another variable for that use one more lines()\n",
    "\n",
    "plot(agriculture, type=\"l\", main=\"Agricultural and Industry Income in China\",xlab=\"Year\", \n",
    "     ylab=\"Income in Yuan\", cex.main=2, \n",
    "     col=\"maroon\", lwd=1, ylim=c(80,5000),lty=2)\n",
    "lines(industry,col=\"blue\",lwd=3,lty=2)\n",
    "lines(construction,col=\"red\",lwd=3,lty=2)\n",
    "legend(\"topleft\",legend=c(\"Agriculture\",\"Industry\",\"Construction\"),\n",
    "       lty=c(1,2,3),col=c(\"maroon\",\"blue\",\"red\"),\n",
    "       lwd=c(2,2,2),bty=\"n\",cex=0.8)"
   ]
  },
  {
   "cell_type": "markdown",
   "id": "078ea6ad",
   "metadata": {},
   "source": [
    "## plotting different graphs in the same window"
   ]
  },
  {
   "cell_type": "code",
   "execution_count": 40,
   "id": "82dee2d7",
   "metadata": {},
   "outputs": [
    {
     "data": {
      "image/png": "[encoded data removed]",
      "text/plain": [
       "Plot with title \"Industry Income in China\""
      ]
     },
     "metadata": {
      "image/png": {
       "height": 420,
       "width": 420
      }
     },
     "output_type": "display_data"
    }
   ],
   "source": [
    "#I am asking to R open a window such that I have one row and two columns\n",
    "par(mfrow=c(1,2))\n",
    "plot(agriculture, type=\"l\", main=\n",
    "       \"Agricultural Income in China\",xlab=\"Year\", \n",
    "     ylab=\"Agriculture income\", cex.main=1, \n",
    "     col=\"maroon\", lwd=3)\n",
    "plot(industry, type=\"l\", main=\n",
    "       \"Industry Income in China\",xlab=\"Year\", \n",
    "     ylab=\"Industry income\", cex.main=1, \n",
    "     col=\"blue\", lwd=3)\n"
   ]
  },
  {
   "cell_type": "code",
   "execution_count": 41,
   "id": "193e2309",
   "metadata": {},
   "outputs": [
    {
     "data": {
      "image/png": "[encoded data removed]",
      "text/plain": [
       "Plot with title \"Construction Income in China\""
      ]
     },
     "metadata": {
      "image/png": {
       "height": 420,
       "width": 420
      }
     },
     "output_type": "display_data"
    }
   ],
   "source": [
    "par(mfrow=c(1,3))\n",
    "plot(agriculture, type=\"l\", main=\n",
    "       \"Agricultural Income in China\",xlab=\"Year\", \n",
    "     ylab=\"Agriculture income\", cex.main=1, \n",
    "     col=\"maroon\", lwd=3)\n",
    "plot(industry, type=\"l\", main=\n",
    "       \"Industry Income in China\",xlab=\"Year\", \n",
    "     ylab=\"Industry income\", cex.main=1, \n",
    "     col=\"blue\", lwd=3)\n",
    "plot(construction, type=\"l\", main=\n",
    "       \"Construction Income in China\",xlab=\"Year\", \n",
    "     ylab=\"Construction income\", cex.main=1, \n",
    "     col=\"green\", lwd=3)"
   ]
  },
  {
   "cell_type": "markdown",
   "id": "4d293754",
   "metadata": {},
   "source": [
    "## trendsline`"
   ]
  },
  {
   "cell_type": "code",
   "execution_count": 42,
   "id": "c1176f21",
   "metadata": {},
   "outputs": [
    {
     "data": {
      "image/png": "[encoded data removed]",
      "text/plain": [
       "Plot with title \"Agricultural Income in China\""
      ]
     },
     "metadata": {
      "image/png": {
       "height": 420,
       "width": 420
      }
     },
     "output_type": "display_data"
    }
   ],
   "source": [
    "#use abline(v=) for trendline. v stands for vertical\n",
    "plot(agriculture,type=\"l\",main=\n",
    "       \"Agricultural Income in China\",\n",
    "     xlab=\"Year\", ylab=\"Index\",\n",
    "     cex.main=1.0,col=\"maroon\",lwd=3,cex.lab=1.5)\n",
    "abline(v=20)"
   ]
  },
  {
   "cell_type": "code",
   "execution_count": 43,
   "id": "f3a7f5ea",
   "metadata": {},
   "outputs": [
    {
     "data": {
      "image/png": "[encoded data removed]",
      "text/plain": [
       "Plot with title \"Agricultural Income in China\""
      ]
     },
     "metadata": {
      "image/png": {
       "height": 420,
       "width": 420
      }
     },
     "output_type": "display_data"
    }
   ],
   "source": [
    "###trends line horizontal\n",
    "\n",
    "plot(agriculture,type=\"l\",main=\n",
    "       \"Agricultural Income in China\",\n",
    "     xlab=\"Year\", ylab=\"Index\",\n",
    "     cex.main=1.0,col=\"maroon\",lwd=3,cex.lab=1.5)\n",
    "abline(h=200)"
   ]
  },
  {
   "cell_type": "code",
   "execution_count": 44,
   "id": "49d7adf3",
   "metadata": {},
   "outputs": [
    {
     "data": {
      "image/png": "[encoded data removed]",
      "text/plain": [
       "Plot with title \"Agricultural Income in China\""
      ]
     },
     "metadata": {
      "image/png": {
       "height": 420,
       "width": 420
      }
     },
     "output_type": "display_data"
    }
   ],
   "source": [
    "#Both trends line horizontal as well as Verticle\n",
    "plot(agriculture,type=\"l\",main=\n",
    "       \"Agricultural Income in China\",\n",
    "     xlab=\"Year\", ylab=\"Index\",\n",
    "     cex.main=1.0,col=\"maroon\",lwd=3,cex.lab=1.5)\n",
    "abline(v=20)\n",
    "abline(h=200)"
   ]
  },
  {
   "cell_type": "markdown",
   "id": "78d7ca07",
   "metadata": {},
   "source": [
    "## Barplot"
   ]
  },
  {
   "cell_type": "markdown",
   "id": "e392c648",
   "metadata": {},
   "source": [
    "Creating a Bar plots for mean value of National Income from different factors"
   ]
  },
  {
   "cell_type": "code",
   "execution_count": 45,
   "id": "16f3647b",
   "metadata": {},
   "outputs": [
    {
     "data": {
      "text/html": [
       "<style>\n",
       ".list-inline {list-style: none; margin:0; padding: 0}\n",
       ".list-inline>li {display: inline-block}\n",
       ".list-inline>li:not(:last-child)::after {content: \"\\00b7\"; padding: 0 .5ex}\n",
       "</style>\n",
       "<ol class=list-inline><li>'agriculture'</li><li>'commerce'</li><li>'construction'</li><li>'industry'</li><li>'transport'</li></ol>\n"
      ],
      "text/latex": [
       "\\begin{enumerate*}\n",
       "\\item 'agriculture'\n",
       "\\item 'commerce'\n",
       "\\item 'construction'\n",
       "\\item 'industry'\n",
       "\\item 'transport'\n",
       "\\end{enumerate*}\n"
      ],
      "text/markdown": [
       "1. 'agriculture'\n",
       "2. 'commerce'\n",
       "3. 'construction'\n",
       "4. 'industry'\n",
       "5. 'transport'\n",
       "\n",
       "\n"
      ],
      "text/plain": [
       "[1] \"agriculture\"  \"commerce\"     \"construction\" \"industry\"     \"transport\"   "
      ]
     },
     "metadata": {},
     "output_type": "display_data"
    }
   ],
   "source": [
    "colnames(China_income)"
   ]
  },
  {
   "cell_type": "markdown",
   "id": "665d4bb0",
   "metadata": {},
   "source": [
    "Creating a Bar plots for mean value of National Income from different factors"
   ]
  },
  {
   "cell_type": "code",
   "execution_count": 46,
   "id": "7bbfb1fd",
   "metadata": {},
   "outputs": [
    {
     "data": {
      "text/html": [
       "<style>\n",
       ".list-inline {list-style: none; margin:0; padding: 0}\n",
       ".list-inline>li {display: inline-block}\n",
       ".list-inline>li:not(:last-child)::after {content: \"\\00b7\"; padding: 0 .5ex}\n",
       "</style>\n",
       "<ol class=list-inline><li>151.948648648649</li><li>260.986486486487</li><li>449.497297297297</li><li>549.897297297297</li><li>1244.23783783784</li></ol>\n"
      ],
      "text/latex": [
       "\\begin{enumerate*}\n",
       "\\item 151.948648648649\n",
       "\\item 260.986486486487\n",
       "\\item 449.497297297297\n",
       "\\item 549.897297297297\n",
       "\\item 1244.23783783784\n",
       "\\end{enumerate*}\n"
      ],
      "text/markdown": [
       "1. 151.948648648649\n",
       "2. 260.986486486487\n",
       "3. 449.497297297297\n",
       "4. 549.897297297297\n",
       "5. 1244.23783783784\n",
       "\n",
       "\n"
      ],
      "text/plain": [
       "[1]  151.9486  260.9865  449.4973  549.8973 1244.2378"
      ]
     },
     "metadata": {},
     "output_type": "display_data"
    }
   ],
   "source": [
    "magri <- mean(agriculture)\n",
    "mindus <- mean(industry)\n",
    "mcomm <- mean(commerce)\n",
    "mtrans <- mean(transport)\n",
    "mcons <- mean(construction)\n",
    "mChina <- c(magri,mcomm,mtrans,mcons,mindus)\n",
    "mChina"
   ]
  },
  {
   "cell_type": "code",
   "execution_count": 47,
   "id": "3a500206",
   "metadata": {},
   "outputs": [
    {
     "data": {
      "image/png": "[encoded data removed]",
      "text/plain": [
       "plot without title"
      ]
     },
     "metadata": {
      "image/png": {
       "height": 420,
       "width": 420
      }
     },
     "output_type": "display_data"
    }
   ],
   "source": [
    "barplot(mChina)"
   ]
  },
  {
   "cell_type": "code",
   "execution_count": 48,
   "id": "04c7a91c",
   "metadata": {},
   "outputs": [
    {
     "data": {
      "image/png": "[encoded data removed]",
      "text/plain": [
       "plot without title"
      ]
     },
     "metadata": {
      "image/png": {
       "height": 420,
       "width": 420
      }
     },
     "output_type": "display_data"
    }
   ],
   "source": [
    "barplot(mChina, names=c(\"Agriculture\",\"Commerce\",\"Transport\",\"Construction\",\n",
    "                        \"Industry\"))"
   ]
  },
  {
   "cell_type": "code",
   "execution_count": 49,
   "id": "559017ae",
   "metadata": {},
   "outputs": [
    {
     "data": {
      "image/png": "[encoded data removed]",
      "text/plain": [
       "Plot with title \"Average Income in Chinese Sectors\""
      ]
     },
     "metadata": {
      "image/png": {
       "height": 420,
       "width": 420
      }
     },
     "output_type": "display_data"
    }
   ],
   "source": [
    "#Main Heading for Bar Plot use main=\"\"\n",
    "barplot(mChina, names=c(\"Agriculture\",\"Commerce\",\"Transport\",\"Construction\",\n",
    "                        \"Industry\"), main=\"Average Income in Chinese Sectors\")"
   ]
  },
  {
   "cell_type": "code",
   "execution_count": 50,
   "id": "f1379955",
   "metadata": {},
   "outputs": [
    {
     "data": {
      "image/png": "[encoded data removed]",
      "text/plain": [
       "Plot with title \"Average Income in Chinese Sectors\""
      ]
     },
     "metadata": {
      "image/png": {
       "height": 420,
       "width": 420
      }
     },
     "output_type": "display_data"
    }
   ],
   "source": [
    "#Label for y axis in Bar Plot use ylab=\"\"\n",
    "barplot(mChina, names=c(\"Agriculture\",\"Commerce\",\"Transport\",\"Construction\",\n",
    "                        \"Industry\"), main=\"Average Income in Chinese Sectors\",\n",
    "        ylab = \"Income in Yuan\")"
   ]
  },
  {
   "cell_type": "code",
   "execution_count": 51,
   "id": "481f3973",
   "metadata": {},
   "outputs": [
    {
     "data": {
      "image/png": "[encoded data removed]",
      "text/plain": [
       "Plot with title \"Average Income in Chinese Sectors\""
      ]
     },
     "metadata": {
      "image/png": {
       "height": 420,
       "width": 420
      }
     },
     "output_type": "display_data"
    }
   ],
   "source": [
    "#Use Color \n",
    "barplot(mChina,names=c(\"Agriculture\",\"Commerce\",\"Transport\",\"Construction\",\n",
    "                       \"Industry\"),main=\"Average Income in Chinese Sectors\",\n",
    "        ylab=\"Income in Yuan\",col=\"papayawhip\")"
   ]
  },
  {
   "cell_type": "code",
   "execution_count": 52,
   "id": "761d0ad9",
   "metadata": {},
   "outputs": [
    {
     "data": {
      "image/png": "[encoded data removed]",
      "text/plain": [
       "Plot with title \"Average Income in Chinese Sectors\""
      ]
     },
     "metadata": {
      "image/png": {
       "height": 420,
       "width": 420
      }
     },
     "output_type": "display_data"
    }
   ],
   "source": [
    "#different colors for different Bars\n",
    "\n",
    "barplot(mChina,names=c(\"Agriculture\",\"Commerce\",\"Transport\",\"Construction\",\n",
    "                       \"Industry\"),main=\"Average Income in Chinese Sectors\",\n",
    "        ylab=\"Income in Yuan\",col=c(\"papayawhip\",\"green\",\"red\",\"blue\",\"yellow\"))"
   ]
  },
  {
   "cell_type": "code",
   "execution_count": 53,
   "id": "c2ab194a",
   "metadata": {},
   "outputs": [
    {
     "data": {
      "image/png": "[encoded data removed]",
      "text/plain": [
       "Plot with title \"Average Income in Chinese Sectors\""
      ]
     },
     "metadata": {
      "image/png": {
       "height": 420,
       "width": 420
      }
     },
     "output_type": "display_data"
    }
   ],
   "source": [
    "#Want Horizontal plot defaunt Vertical \n",
    "barplot(mChina,names=c(\"Agriculture\",\"Commerce\",\"Transport\",\"Construction\",\n",
    "                       \"Industry\"),main=\"Average Income in Chinese Sectors\",\n",
    "        ylab=\"Income in Yuan\",col=\"papayawhip\",horiz=TRUE)"
   ]
  },
  {
   "cell_type": "code",
   "execution_count": 54,
   "id": "ac931cc4",
   "metadata": {},
   "outputs": [
    {
     "data": {
      "image/png": "[encoded data removed]",
      "text/plain": [
       "Plot with title \"Average Income in Chinese Sectors\""
      ]
     },
     "metadata": {
      "image/png": {
       "height": 420,
       "width": 420
      }
     },
     "output_type": "display_data"
    }
   ],
   "source": [
    "barplot(mChina,names=c(\"Agriculture\",\"Commerce\",\"Transport\",\"Construction\",\n",
    "                       \"Industry\"),main=\"Average Income in Chinese Sectors\",\n",
    "        ylab=\"Income in Yuan\",col=\"papayawhip\",horiz=TRUE,cex.names=0.7)"
   ]
  },
  {
   "cell_type": "markdown",
   "id": "7c559a03",
   "metadata": {},
   "source": [
    "## Boxplot"
   ]
  },
  {
   "cell_type": "code",
   "execution_count": 55,
   "id": "aebc6c13",
   "metadata": {},
   "outputs": [
    {
     "data": {
      "image/png": "[encoded data removed]",
      "text/plain": [
       "Plot with title \"Box plot\""
      ]
     },
     "metadata": {
      "image/png": {
       "height": 420,
       "width": 420
      }
     },
     "output_type": "display_data"
    }
   ],
   "source": [
    "boxplot(agriculture, ylab=\"Agriculture\",main=\"Box plot\")"
   ]
  },
  {
   "cell_type": "code",
   "execution_count": 56,
   "id": "9fe248f2",
   "metadata": {},
   "outputs": [
    {
     "data": {
      "image/png": "[encoded data removed]",
      "text/plain": [
       "Plot with title \"Box plot\""
      ]
     },
     "metadata": {
      "image/png": {
       "height": 420,
       "width": 420
      }
     },
     "output_type": "display_data"
    }
   ],
   "source": [
    "boxplot(commerce, ylab=\"commerce\", main=\"Box plot\")"
   ]
  },
  {
   "cell_type": "code",
   "execution_count": 57,
   "id": "a63896c6",
   "metadata": {},
   "outputs": [
    {
     "data": {
      "image/png": "[encoded data removed]",
      "text/plain": [
       "Plot with title \"Box plot\""
      ]
     },
     "metadata": {
      "image/png": {
       "height": 420,
       "width": 420
      }
     },
     "output_type": "display_data"
    }
   ],
   "source": [
    "boxplot(construction, ylab=\"construction\", main=\"Box plot\")"
   ]
  },
  {
   "cell_type": "code",
   "execution_count": 58,
   "id": "d0663210",
   "metadata": {},
   "outputs": [
    {
     "data": {
      "image/png": "[encoded data removed]",
      "text/plain": [
       "Plot with title \"Box plot\""
      ]
     },
     "metadata": {
      "image/png": {
       "height": 420,
       "width": 420
      }
     },
     "output_type": "display_data"
    }
   ],
   "source": [
    "boxplot(industry, ylab=\"industry\", main=\"Box plot\")"
   ]
  },
  {
   "cell_type": "code",
   "execution_count": 59,
   "id": "9feabf4d",
   "metadata": {},
   "outputs": [
    {
     "data": {
      "image/png": "[encoded data removed]",
      "text/plain": [
       "Plot with title \"Box Plot\""
      ]
     },
     "metadata": {
      "image/png": {
       "height": 420,
       "width": 420
      }
     },
     "output_type": "display_data"
    }
   ],
   "source": [
    "boxplot(transport, ylab=\"Transport\", main=\"Box Plot\")"
   ]
  },
  {
   "cell_type": "markdown",
   "id": "8aea6139",
   "metadata": {},
   "source": [
    "## chickwts"
   ]
  },
  {
   "cell_type": "markdown",
   "id": "58b0a247",
   "metadata": {},
   "source": [
    "An experiment was conducted to measure and compare the effectiveness of various feed supplements on the growth rate of chickens"
   ]
  },
  {
   "cell_type": "code",
   "execution_count": 60,
   "id": "d92f1e4e",
   "metadata": {},
   "outputs": [
    {
     "data": {
      "text/html": [
       "<table class=\"dataframe\">\n",
       "<caption>A data.frame: 71 × 2</caption>\n",
       "<thead>\n",
       "\t<tr><th scope=col>weight</th><th scope=col>feed</th></tr>\n",
       "\t<tr><th scope=col>&lt;dbl&gt;</th><th scope=col>&lt;fct&gt;</th></tr>\n",
       "</thead>\n",
       "<tbody>\n",
       "\t<tr><td>179</td><td>horsebean</td></tr>\n",
       "\t<tr><td>160</td><td>horsebean</td></tr>\n",
       "\t<tr><td>136</td><td>horsebean</td></tr>\n",
       "\t<tr><td>227</td><td>horsebean</td></tr>\n",
       "\t<tr><td>217</td><td>horsebean</td></tr>\n",
       "\t<tr><td>168</td><td>horsebean</td></tr>\n",
       "\t<tr><td>108</td><td>horsebean</td></tr>\n",
       "\t<tr><td>124</td><td>horsebean</td></tr>\n",
       "\t<tr><td>143</td><td>horsebean</td></tr>\n",
       "\t<tr><td>140</td><td>horsebean</td></tr>\n",
       "\t<tr><td>309</td><td>linseed  </td></tr>\n",
       "\t<tr><td>229</td><td>linseed  </td></tr>\n",
       "\t<tr><td>181</td><td>linseed  </td></tr>\n",
       "\t<tr><td>141</td><td>linseed  </td></tr>\n",
       "\t<tr><td>260</td><td>linseed  </td></tr>\n",
       "\t<tr><td>203</td><td>linseed  </td></tr>\n",
       "\t<tr><td>148</td><td>linseed  </td></tr>\n",
       "\t<tr><td>169</td><td>linseed  </td></tr>\n",
       "\t<tr><td>213</td><td>linseed  </td></tr>\n",
       "\t<tr><td>257</td><td>linseed  </td></tr>\n",
       "\t<tr><td>244</td><td>linseed  </td></tr>\n",
       "\t<tr><td>271</td><td>linseed  </td></tr>\n",
       "\t<tr><td>243</td><td>soybean  </td></tr>\n",
       "\t<tr><td>230</td><td>soybean  </td></tr>\n",
       "\t<tr><td>248</td><td>soybean  </td></tr>\n",
       "\t<tr><td>327</td><td>soybean  </td></tr>\n",
       "\t<tr><td>329</td><td>soybean  </td></tr>\n",
       "\t<tr><td>250</td><td>soybean  </td></tr>\n",
       "\t<tr><td>193</td><td>soybean  </td></tr>\n",
       "\t<tr><td>271</td><td>soybean  </td></tr>\n",
       "\t<tr><td>...</td><td>...</td></tr>\n",
       "\t<tr><td>226</td><td>sunflower</td></tr>\n",
       "\t<tr><td>320</td><td>sunflower</td></tr>\n",
       "\t<tr><td>295</td><td>sunflower</td></tr>\n",
       "\t<tr><td>334</td><td>sunflower</td></tr>\n",
       "\t<tr><td>322</td><td>sunflower</td></tr>\n",
       "\t<tr><td>297</td><td>sunflower</td></tr>\n",
       "\t<tr><td>318</td><td>sunflower</td></tr>\n",
       "\t<tr><td>325</td><td>meatmeal </td></tr>\n",
       "\t<tr><td>257</td><td>meatmeal </td></tr>\n",
       "\t<tr><td>303</td><td>meatmeal </td></tr>\n",
       "\t<tr><td>315</td><td>meatmeal </td></tr>\n",
       "\t<tr><td>380</td><td>meatmeal </td></tr>\n",
       "\t<tr><td>153</td><td>meatmeal </td></tr>\n",
       "\t<tr><td>263</td><td>meatmeal </td></tr>\n",
       "\t<tr><td>242</td><td>meatmeal </td></tr>\n",
       "\t<tr><td>206</td><td>meatmeal </td></tr>\n",
       "\t<tr><td>344</td><td>meatmeal </td></tr>\n",
       "\t<tr><td>258</td><td>meatmeal </td></tr>\n",
       "\t<tr><td>368</td><td>casein   </td></tr>\n",
       "\t<tr><td>390</td><td>casein   </td></tr>\n",
       "\t<tr><td>379</td><td>casein   </td></tr>\n",
       "\t<tr><td>260</td><td>casein   </td></tr>\n",
       "\t<tr><td>404</td><td>casein   </td></tr>\n",
       "\t<tr><td>318</td><td>casein   </td></tr>\n",
       "\t<tr><td>352</td><td>casein   </td></tr>\n",
       "\t<tr><td>359</td><td>casein   </td></tr>\n",
       "\t<tr><td>216</td><td>casein   </td></tr>\n",
       "\t<tr><td>222</td><td>casein   </td></tr>\n",
       "\t<tr><td>283</td><td>casein   </td></tr>\n",
       "\t<tr><td>332</td><td>casein   </td></tr>\n",
       "</tbody>\n",
       "</table>\n"
      ],
      "text/latex": [
       "A data.frame: 71 × 2\n",
       "\\begin{tabular}{ll}\n",
       " weight & feed\\\\\n",
       " <dbl> & <fct>\\\\\n",
       "\\hline\n",
       "\t 179 & horsebean\\\\\n",
       "\t 160 & horsebean\\\\\n",
       "\t 136 & horsebean\\\\\n",
       "\t 227 & horsebean\\\\\n",
       "\t 217 & horsebean\\\\\n",
       "\t 168 & horsebean\\\\\n",
       "\t 108 & horsebean\\\\\n",
       "\t 124 & horsebean\\\\\n",
       "\t 143 & horsebean\\\\\n",
       "\t 140 & horsebean\\\\\n",
       "\t 309 & linseed  \\\\\n",
       "\t 229 & linseed  \\\\\n",
       "\t 181 & linseed  \\\\\n",
       "\t 141 & linseed  \\\\\n",
       "\t 260 & linseed  \\\\\n",
       "\t 203 & linseed  \\\\\n",
       "\t 148 & linseed  \\\\\n",
       "\t 169 & linseed  \\\\\n",
       "\t 213 & linseed  \\\\\n",
       "\t 257 & linseed  \\\\\n",
       "\t 244 & linseed  \\\\\n",
       "\t 271 & linseed  \\\\\n",
       "\t 243 & soybean  \\\\\n",
       "\t 230 & soybean  \\\\\n",
       "\t 248 & soybean  \\\\\n",
       "\t 327 & soybean  \\\\\n",
       "\t 329 & soybean  \\\\\n",
       "\t 250 & soybean  \\\\\n",
       "\t 193 & soybean  \\\\\n",
       "\t 271 & soybean  \\\\\n",
       "\t ... & ...\\\\\n",
       "\t 226 & sunflower\\\\\n",
       "\t 320 & sunflower\\\\\n",
       "\t 295 & sunflower\\\\\n",
       "\t 334 & sunflower\\\\\n",
       "\t 322 & sunflower\\\\\n",
       "\t 297 & sunflower\\\\\n",
       "\t 318 & sunflower\\\\\n",
       "\t 325 & meatmeal \\\\\n",
       "\t 257 & meatmeal \\\\\n",
       "\t 303 & meatmeal \\\\\n",
       "\t 315 & meatmeal \\\\\n",
       "\t 380 & meatmeal \\\\\n",
       "\t 153 & meatmeal \\\\\n",
       "\t 263 & meatmeal \\\\\n",
       "\t 242 & meatmeal \\\\\n",
       "\t 206 & meatmeal \\\\\n",
       "\t 344 & meatmeal \\\\\n",
       "\t 258 & meatmeal \\\\\n",
       "\t 368 & casein   \\\\\n",
       "\t 390 & casein   \\\\\n",
       "\t 379 & casein   \\\\\n",
       "\t 260 & casein   \\\\\n",
       "\t 404 & casein   \\\\\n",
       "\t 318 & casein   \\\\\n",
       "\t 352 & casein   \\\\\n",
       "\t 359 & casein   \\\\\n",
       "\t 216 & casein   \\\\\n",
       "\t 222 & casein   \\\\\n",
       "\t 283 & casein   \\\\\n",
       "\t 332 & casein   \\\\\n",
       "\\end{tabular}\n"
      ],
      "text/markdown": [
       "\n",
       "A data.frame: 71 × 2\n",
       "\n",
       "| weight &lt;dbl&gt; | feed &lt;fct&gt; |\n",
       "|---|---|\n",
       "| 179 | horsebean |\n",
       "| 160 | horsebean |\n",
       "| 136 | horsebean |\n",
       "| 227 | horsebean |\n",
       "| 217 | horsebean |\n",
       "| 168 | horsebean |\n",
       "| 108 | horsebean |\n",
       "| 124 | horsebean |\n",
       "| 143 | horsebean |\n",
       "| 140 | horsebean |\n",
       "| 309 | linseed   |\n",
       "| 229 | linseed   |\n",
       "| 181 | linseed   |\n",
       "| 141 | linseed   |\n",
       "| 260 | linseed   |\n",
       "| 203 | linseed   |\n",
       "| 148 | linseed   |\n",
       "| 169 | linseed   |\n",
       "| 213 | linseed   |\n",
       "| 257 | linseed   |\n",
       "| 244 | linseed   |\n",
       "| 271 | linseed   |\n",
       "| 243 | soybean   |\n",
       "| 230 | soybean   |\n",
       "| 248 | soybean   |\n",
       "| 327 | soybean   |\n",
       "| 329 | soybean   |\n",
       "| 250 | soybean   |\n",
       "| 193 | soybean   |\n",
       "| 271 | soybean   |\n",
       "| ... | ... |\n",
       "| 226 | sunflower |\n",
       "| 320 | sunflower |\n",
       "| 295 | sunflower |\n",
       "| 334 | sunflower |\n",
       "| 322 | sunflower |\n",
       "| 297 | sunflower |\n",
       "| 318 | sunflower |\n",
       "| 325 | meatmeal  |\n",
       "| 257 | meatmeal  |\n",
       "| 303 | meatmeal  |\n",
       "| 315 | meatmeal  |\n",
       "| 380 | meatmeal  |\n",
       "| 153 | meatmeal  |\n",
       "| 263 | meatmeal  |\n",
       "| 242 | meatmeal  |\n",
       "| 206 | meatmeal  |\n",
       "| 344 | meatmeal  |\n",
       "| 258 | meatmeal  |\n",
       "| 368 | casein    |\n",
       "| 390 | casein    |\n",
       "| 379 | casein    |\n",
       "| 260 | casein    |\n",
       "| 404 | casein    |\n",
       "| 318 | casein    |\n",
       "| 352 | casein    |\n",
       "| 359 | casein    |\n",
       "| 216 | casein    |\n",
       "| 222 | casein    |\n",
       "| 283 | casein    |\n",
       "| 332 | casein    |\n",
       "\n"
      ],
      "text/plain": [
       "    weight feed     \n",
       "1   179    horsebean\n",
       "2   160    horsebean\n",
       "3   136    horsebean\n",
       "4   227    horsebean\n",
       "5   217    horsebean\n",
       "6   168    horsebean\n",
       "7   108    horsebean\n",
       "8   124    horsebean\n",
       "9   143    horsebean\n",
       "10  140    horsebean\n",
       "11  309    linseed  \n",
       "12  229    linseed  \n",
       "13  181    linseed  \n",
       "14  141    linseed  \n",
       "15  260    linseed  \n",
       "16  203    linseed  \n",
       "17  148    linseed  \n",
       "18  169    linseed  \n",
       "19  213    linseed  \n",
       "20  257    linseed  \n",
       "21  244    linseed  \n",
       "22  271    linseed  \n",
       "23  243    soybean  \n",
       "24  230    soybean  \n",
       "25  248    soybean  \n",
       "26  327    soybean  \n",
       "27  329    soybean  \n",
       "28  250    soybean  \n",
       "29  193    soybean  \n",
       "30  271    soybean  \n",
       "... ...    ...      \n",
       "42  226    sunflower\n",
       "43  320    sunflower\n",
       "44  295    sunflower\n",
       "45  334    sunflower\n",
       "46  322    sunflower\n",
       "47  297    sunflower\n",
       "48  318    sunflower\n",
       "49  325    meatmeal \n",
       "50  257    meatmeal \n",
       "51  303    meatmeal \n",
       "52  315    meatmeal \n",
       "53  380    meatmeal \n",
       "54  153    meatmeal \n",
       "55  263    meatmeal \n",
       "56  242    meatmeal \n",
       "57  206    meatmeal \n",
       "58  344    meatmeal \n",
       "59  258    meatmeal \n",
       "60  368    casein   \n",
       "61  390    casein   \n",
       "62  379    casein   \n",
       "63  260    casein   \n",
       "64  404    casein   \n",
       "65  318    casein   \n",
       "66  352    casein   \n",
       "67  359    casein   \n",
       "68  216    casein   \n",
       "69  222    casein   \n",
       "70  283    casein   \n",
       "71  332    casein   "
      ]
     },
     "metadata": {},
     "output_type": "display_data"
    }
   ],
   "source": [
    "chickwts"
   ]
  },
  {
   "cell_type": "code",
   "execution_count": 61,
   "id": "27644f0f",
   "metadata": {},
   "outputs": [],
   "source": [
    "# load in the chicken diet data (save it in \"ChickData\")\n",
    "ChickData <-as.data.frame(chickwts)"
   ]
  },
  {
   "cell_type": "code",
   "execution_count": 62,
   "id": "77954f4c",
   "metadata": {},
   "outputs": [
    {
     "data": {
      "text/html": [
       "<table class=\"dataframe\">\n",
       "<caption>A data.frame: 71 × 2</caption>\n",
       "<thead>\n",
       "\t<tr><th scope=col>weight</th><th scope=col>feed</th></tr>\n",
       "\t<tr><th scope=col>&lt;dbl&gt;</th><th scope=col>&lt;fct&gt;</th></tr>\n",
       "</thead>\n",
       "<tbody>\n",
       "\t<tr><td>179</td><td>horsebean</td></tr>\n",
       "\t<tr><td>160</td><td>horsebean</td></tr>\n",
       "\t<tr><td>136</td><td>horsebean</td></tr>\n",
       "\t<tr><td>227</td><td>horsebean</td></tr>\n",
       "\t<tr><td>217</td><td>horsebean</td></tr>\n",
       "\t<tr><td>168</td><td>horsebean</td></tr>\n",
       "\t<tr><td>108</td><td>horsebean</td></tr>\n",
       "\t<tr><td>124</td><td>horsebean</td></tr>\n",
       "\t<tr><td>143</td><td>horsebean</td></tr>\n",
       "\t<tr><td>140</td><td>horsebean</td></tr>\n",
       "\t<tr><td>309</td><td>linseed  </td></tr>\n",
       "\t<tr><td>229</td><td>linseed  </td></tr>\n",
       "\t<tr><td>181</td><td>linseed  </td></tr>\n",
       "\t<tr><td>141</td><td>linseed  </td></tr>\n",
       "\t<tr><td>260</td><td>linseed  </td></tr>\n",
       "\t<tr><td>203</td><td>linseed  </td></tr>\n",
       "\t<tr><td>148</td><td>linseed  </td></tr>\n",
       "\t<tr><td>169</td><td>linseed  </td></tr>\n",
       "\t<tr><td>213</td><td>linseed  </td></tr>\n",
       "\t<tr><td>257</td><td>linseed  </td></tr>\n",
       "\t<tr><td>244</td><td>linseed  </td></tr>\n",
       "\t<tr><td>271</td><td>linseed  </td></tr>\n",
       "\t<tr><td>243</td><td>soybean  </td></tr>\n",
       "\t<tr><td>230</td><td>soybean  </td></tr>\n",
       "\t<tr><td>248</td><td>soybean  </td></tr>\n",
       "\t<tr><td>327</td><td>soybean  </td></tr>\n",
       "\t<tr><td>329</td><td>soybean  </td></tr>\n",
       "\t<tr><td>250</td><td>soybean  </td></tr>\n",
       "\t<tr><td>193</td><td>soybean  </td></tr>\n",
       "\t<tr><td>271</td><td>soybean  </td></tr>\n",
       "\t<tr><td>...</td><td>...</td></tr>\n",
       "\t<tr><td>226</td><td>sunflower</td></tr>\n",
       "\t<tr><td>320</td><td>sunflower</td></tr>\n",
       "\t<tr><td>295</td><td>sunflower</td></tr>\n",
       "\t<tr><td>334</td><td>sunflower</td></tr>\n",
       "\t<tr><td>322</td><td>sunflower</td></tr>\n",
       "\t<tr><td>297</td><td>sunflower</td></tr>\n",
       "\t<tr><td>318</td><td>sunflower</td></tr>\n",
       "\t<tr><td>325</td><td>meatmeal </td></tr>\n",
       "\t<tr><td>257</td><td>meatmeal </td></tr>\n",
       "\t<tr><td>303</td><td>meatmeal </td></tr>\n",
       "\t<tr><td>315</td><td>meatmeal </td></tr>\n",
       "\t<tr><td>380</td><td>meatmeal </td></tr>\n",
       "\t<tr><td>153</td><td>meatmeal </td></tr>\n",
       "\t<tr><td>263</td><td>meatmeal </td></tr>\n",
       "\t<tr><td>242</td><td>meatmeal </td></tr>\n",
       "\t<tr><td>206</td><td>meatmeal </td></tr>\n",
       "\t<tr><td>344</td><td>meatmeal </td></tr>\n",
       "\t<tr><td>258</td><td>meatmeal </td></tr>\n",
       "\t<tr><td>368</td><td>casein   </td></tr>\n",
       "\t<tr><td>390</td><td>casein   </td></tr>\n",
       "\t<tr><td>379</td><td>casein   </td></tr>\n",
       "\t<tr><td>260</td><td>casein   </td></tr>\n",
       "\t<tr><td>404</td><td>casein   </td></tr>\n",
       "\t<tr><td>318</td><td>casein   </td></tr>\n",
       "\t<tr><td>352</td><td>casein   </td></tr>\n",
       "\t<tr><td>359</td><td>casein   </td></tr>\n",
       "\t<tr><td>216</td><td>casein   </td></tr>\n",
       "\t<tr><td>222</td><td>casein   </td></tr>\n",
       "\t<tr><td>283</td><td>casein   </td></tr>\n",
       "\t<tr><td>332</td><td>casein   </td></tr>\n",
       "</tbody>\n",
       "</table>\n"
      ],
      "text/latex": [
       "A data.frame: 71 × 2\n",
       "\\begin{tabular}{ll}\n",
       " weight & feed\\\\\n",
       " <dbl> & <fct>\\\\\n",
       "\\hline\n",
       "\t 179 & horsebean\\\\\n",
       "\t 160 & horsebean\\\\\n",
       "\t 136 & horsebean\\\\\n",
       "\t 227 & horsebean\\\\\n",
       "\t 217 & horsebean\\\\\n",
       "\t 168 & horsebean\\\\\n",
       "\t 108 & horsebean\\\\\n",
       "\t 124 & horsebean\\\\\n",
       "\t 143 & horsebean\\\\\n",
       "\t 140 & horsebean\\\\\n",
       "\t 309 & linseed  \\\\\n",
       "\t 229 & linseed  \\\\\n",
       "\t 181 & linseed  \\\\\n",
       "\t 141 & linseed  \\\\\n",
       "\t 260 & linseed  \\\\\n",
       "\t 203 & linseed  \\\\\n",
       "\t 148 & linseed  \\\\\n",
       "\t 169 & linseed  \\\\\n",
       "\t 213 & linseed  \\\\\n",
       "\t 257 & linseed  \\\\\n",
       "\t 244 & linseed  \\\\\n",
       "\t 271 & linseed  \\\\\n",
       "\t 243 & soybean  \\\\\n",
       "\t 230 & soybean  \\\\\n",
       "\t 248 & soybean  \\\\\n",
       "\t 327 & soybean  \\\\\n",
       "\t 329 & soybean  \\\\\n",
       "\t 250 & soybean  \\\\\n",
       "\t 193 & soybean  \\\\\n",
       "\t 271 & soybean  \\\\\n",
       "\t ... & ...\\\\\n",
       "\t 226 & sunflower\\\\\n",
       "\t 320 & sunflower\\\\\n",
       "\t 295 & sunflower\\\\\n",
       "\t 334 & sunflower\\\\\n",
       "\t 322 & sunflower\\\\\n",
       "\t 297 & sunflower\\\\\n",
       "\t 318 & sunflower\\\\\n",
       "\t 325 & meatmeal \\\\\n",
       "\t 257 & meatmeal \\\\\n",
       "\t 303 & meatmeal \\\\\n",
       "\t 315 & meatmeal \\\\\n",
       "\t 380 & meatmeal \\\\\n",
       "\t 153 & meatmeal \\\\\n",
       "\t 263 & meatmeal \\\\\n",
       "\t 242 & meatmeal \\\\\n",
       "\t 206 & meatmeal \\\\\n",
       "\t 344 & meatmeal \\\\\n",
       "\t 258 & meatmeal \\\\\n",
       "\t 368 & casein   \\\\\n",
       "\t 390 & casein   \\\\\n",
       "\t 379 & casein   \\\\\n",
       "\t 260 & casein   \\\\\n",
       "\t 404 & casein   \\\\\n",
       "\t 318 & casein   \\\\\n",
       "\t 352 & casein   \\\\\n",
       "\t 359 & casein   \\\\\n",
       "\t 216 & casein   \\\\\n",
       "\t 222 & casein   \\\\\n",
       "\t 283 & casein   \\\\\n",
       "\t 332 & casein   \\\\\n",
       "\\end{tabular}\n"
      ],
      "text/markdown": [
       "\n",
       "A data.frame: 71 × 2\n",
       "\n",
       "| weight &lt;dbl&gt; | feed &lt;fct&gt; |\n",
       "|---|---|\n",
       "| 179 | horsebean |\n",
       "| 160 | horsebean |\n",
       "| 136 | horsebean |\n",
       "| 227 | horsebean |\n",
       "| 217 | horsebean |\n",
       "| 168 | horsebean |\n",
       "| 108 | horsebean |\n",
       "| 124 | horsebean |\n",
       "| 143 | horsebean |\n",
       "| 140 | horsebean |\n",
       "| 309 | linseed   |\n",
       "| 229 | linseed   |\n",
       "| 181 | linseed   |\n",
       "| 141 | linseed   |\n",
       "| 260 | linseed   |\n",
       "| 203 | linseed   |\n",
       "| 148 | linseed   |\n",
       "| 169 | linseed   |\n",
       "| 213 | linseed   |\n",
       "| 257 | linseed   |\n",
       "| 244 | linseed   |\n",
       "| 271 | linseed   |\n",
       "| 243 | soybean   |\n",
       "| 230 | soybean   |\n",
       "| 248 | soybean   |\n",
       "| 327 | soybean   |\n",
       "| 329 | soybean   |\n",
       "| 250 | soybean   |\n",
       "| 193 | soybean   |\n",
       "| 271 | soybean   |\n",
       "| ... | ... |\n",
       "| 226 | sunflower |\n",
       "| 320 | sunflower |\n",
       "| 295 | sunflower |\n",
       "| 334 | sunflower |\n",
       "| 322 | sunflower |\n",
       "| 297 | sunflower |\n",
       "| 318 | sunflower |\n",
       "| 325 | meatmeal  |\n",
       "| 257 | meatmeal  |\n",
       "| 303 | meatmeal  |\n",
       "| 315 | meatmeal  |\n",
       "| 380 | meatmeal  |\n",
       "| 153 | meatmeal  |\n",
       "| 263 | meatmeal  |\n",
       "| 242 | meatmeal  |\n",
       "| 206 | meatmeal  |\n",
       "| 344 | meatmeal  |\n",
       "| 258 | meatmeal  |\n",
       "| 368 | casein    |\n",
       "| 390 | casein    |\n",
       "| 379 | casein    |\n",
       "| 260 | casein    |\n",
       "| 404 | casein    |\n",
       "| 318 | casein    |\n",
       "| 352 | casein    |\n",
       "| 359 | casein    |\n",
       "| 216 | casein    |\n",
       "| 222 | casein    |\n",
       "| 283 | casein    |\n",
       "| 332 | casein    |\n",
       "\n"
      ],
      "text/plain": [
       "    weight feed     \n",
       "1   179    horsebean\n",
       "2   160    horsebean\n",
       "3   136    horsebean\n",
       "4   227    horsebean\n",
       "5   217    horsebean\n",
       "6   168    horsebean\n",
       "7   108    horsebean\n",
       "8   124    horsebean\n",
       "9   143    horsebean\n",
       "10  140    horsebean\n",
       "11  309    linseed  \n",
       "12  229    linseed  \n",
       "13  181    linseed  \n",
       "14  141    linseed  \n",
       "15  260    linseed  \n",
       "16  203    linseed  \n",
       "17  148    linseed  \n",
       "18  169    linseed  \n",
       "19  213    linseed  \n",
       "20  257    linseed  \n",
       "21  244    linseed  \n",
       "22  271    linseed  \n",
       "23  243    soybean  \n",
       "24  230    soybean  \n",
       "25  248    soybean  \n",
       "26  327    soybean  \n",
       "27  329    soybean  \n",
       "28  250    soybean  \n",
       "29  193    soybean  \n",
       "30  271    soybean  \n",
       "... ...    ...      \n",
       "42  226    sunflower\n",
       "43  320    sunflower\n",
       "44  295    sunflower\n",
       "45  334    sunflower\n",
       "46  322    sunflower\n",
       "47  297    sunflower\n",
       "48  318    sunflower\n",
       "49  325    meatmeal \n",
       "50  257    meatmeal \n",
       "51  303    meatmeal \n",
       "52  315    meatmeal \n",
       "53  380    meatmeal \n",
       "54  153    meatmeal \n",
       "55  263    meatmeal \n",
       "56  242    meatmeal \n",
       "57  206    meatmeal \n",
       "58  344    meatmeal \n",
       "59  258    meatmeal \n",
       "60  368    casein   \n",
       "61  390    casein   \n",
       "62  379    casein   \n",
       "63  260    casein   \n",
       "64  404    casein   \n",
       "65  318    casein   \n",
       "66  352    casein   \n",
       "67  359    casein   \n",
       "68  216    casein   \n",
       "69  222    casein   \n",
       "70  283    casein   \n",
       "71  332    casein   "
      ]
     },
     "metadata": {},
     "output_type": "display_data"
    }
   ],
   "source": [
    "# let's add the data into the \"data view\"\n",
    "View(ChickData)"
   ]
  },
  {
   "cell_type": "code",
   "execution_count": 63,
   "id": "5d937935",
   "metadata": {},
   "outputs": [
    {
     "data": {
      "text/html": [
       "<style>\n",
       ".list-inline {list-style: none; margin:0; padding: 0}\n",
       ".list-inline>li {display: inline-block}\n",
       ".list-inline>li:not(:last-child)::after {content: \"\\00b7\"; padding: 0 .5ex}\n",
       "</style>\n",
       "<ol class=list-inline><li>'weight'</li><li>'feed'</li></ol>\n"
      ],
      "text/latex": [
       "\\begin{enumerate*}\n",
       "\\item 'weight'\n",
       "\\item 'feed'\n",
       "\\end{enumerate*}\n"
      ],
      "text/markdown": [
       "1. 'weight'\n",
       "2. 'feed'\n",
       "\n",
       "\n"
      ],
      "text/plain": [
       "[1] \"weight\" \"feed\"  "
      ]
     },
     "metadata": {},
     "output_type": "display_data"
    }
   ],
   "source": [
    "# check the names, etc\n",
    "names(ChickData)"
   ]
  },
  {
   "cell_type": "code",
   "execution_count": 64,
   "id": "52e3e3ad",
   "metadata": {},
   "outputs": [
    {
     "data": {
      "text/html": [
       "<style>\n",
       ".list-inline {list-style: none; margin:0; padding: 0}\n",
       ".list-inline>li {display: inline-block}\n",
       ".list-inline>li:not(:last-child)::after {content: \"\\00b7\"; padding: 0 .5ex}\n",
       "</style>\n",
       "<ol class=list-inline><li>'casein'</li><li>'horsebean'</li><li>'linseed'</li><li>'meatmeal'</li><li>'soybean'</li><li>'sunflower'</li></ol>\n"
      ],
      "text/latex": [
       "\\begin{enumerate*}\n",
       "\\item 'casein'\n",
       "\\item 'horsebean'\n",
       "\\item 'linseed'\n",
       "\\item 'meatmeal'\n",
       "\\item 'soybean'\n",
       "\\item 'sunflower'\n",
       "\\end{enumerate*}\n"
      ],
      "text/markdown": [
       "1. 'casein'\n",
       "2. 'horsebean'\n",
       "3. 'linseed'\n",
       "4. 'meatmeal'\n",
       "5. 'soybean'\n",
       "6. 'sunflower'\n",
       "\n",
       "\n"
      ],
      "text/plain": [
       "[1] \"casein\"    \"horsebean\" \"linseed\"   \"meatmeal\"  \"soybean\"   \"sunflower\""
      ]
     },
     "metadata": {},
     "output_type": "display_data"
    }
   ],
   "source": [
    "levels(ChickData$feed) #levels provides access to the levels attribute of a variable."
   ]
  },
  {
   "cell_type": "code",
   "execution_count": 65,
   "id": "311cf479",
   "metadata": {},
   "outputs": [
    {
     "data": {
      "text/plain": [
       "\n",
       "   casein horsebean   linseed  meatmeal   soybean sunflower \n",
       "       12        10        12        11        14        12 "
      ]
     },
     "metadata": {},
     "output_type": "display_data"
    }
   ],
   "source": [
    "# how many observations in each diet?\n",
    "table(ChickData$feed)"
   ]
  },
  {
   "cell_type": "code",
   "execution_count": 66,
   "id": "7fa30fe3",
   "metadata": {},
   "outputs": [
    {
     "data": {
      "image/png": "[encoded data removed]",
      "text/plain": [
       "Plot with title \"Weight by Feed\""
      ]
     },
     "metadata": {
      "image/png": {
       "height": 420,
       "width": 420
      }
     },
     "output_type": "display_data"
    }
   ],
   "source": [
    "# let's look at a boxplot of weight gain by those diets\n",
    "boxplot(ChickData$weight~ChickData$feed, las=1, ylab=\"weight (g)\", \n",
    "        xlab=\"feed\",main=\"Weight by Feed\")"
   ]
  },
  {
   "cell_type": "code",
   "execution_count": 67,
   "id": "3e42d9cc",
   "metadata": {},
   "outputs": [
    {
     "data": {
      "image/png": "[encoded data removed]",
      "text/plain": [
       "Plot with title \"Weight by Feed\""
      ]
     },
     "metadata": {
      "image/png": {
       "height": 420,
       "width": 420
      }
     },
     "output_type": "display_data"
    }
   ],
   "source": [
    "boxplot(ChickData$weight~ChickData$feed, las=2, ylab=\"weight (g)\", \n",
    "        xlab=\"feed\",main=\"Weight by Feed\")"
   ]
  },
  {
   "cell_type": "code",
   "execution_count": 68,
   "id": "64d66593",
   "metadata": {},
   "outputs": [
    {
     "data": {
      "image/png": "[encoded data removed]",
      "text/plain": [
       "Plot with title \"Weight by Feed\""
      ]
     },
     "metadata": {
      "image/png": {
       "height": 420,
       "width": 420
      }
     },
     "output_type": "display_data"
    }
   ],
   "source": [
    "boxplot(ChickData$weight~ChickData$feed, las=3, ylab=\"weight (g)\", \n",
    "        xlab=\"feed\",main=\"Weight by Feed\")"
   ]
  },
  {
   "cell_type": "code",
   "execution_count": 69,
   "id": "e89cca6d",
   "metadata": {},
   "outputs": [
    {
     "data": {
      "image/png": "[encoded data removed]",
      "text/plain": [
       "Plot with title \"Weight by Feed\""
      ]
     },
     "metadata": {
      "image/png": {
       "height": 420,
       "width": 420
      }
     },
     "output_type": "display_data"
    }
   ],
   "source": [
    "boxplot(ChickData$weight~ChickData$feed, las=3, ylab=\"weight (g)\", \n",
    "        xlab=\"feed\",main=\"Weight by Feed\")"
   ]
  },
  {
   "cell_type": "markdown",
   "id": "e2304886",
   "metadata": {},
   "source": [
    "## Pie charts"
   ]
  },
  {
   "cell_type": "code",
   "execution_count": 70,
   "id": "cd17a2b6",
   "metadata": {},
   "outputs": [
    {
     "data": {
      "image/png": "[encoded data removed]",
      "text/plain": [
       "Plot with title \"Industry Income\""
      ]
     },
     "metadata": {
      "image/png": {
       "height": 420,
       "width": 420
      }
     },
     "output_type": "display_data"
    }
   ],
   "source": [
    "pie(industry, labels=names(industry), edges = 200, radius=0.8, \n",
    "clockwise = FALSE,density = NULL,init.angle = 90, angle=45, col=NULL, border=NULL, lty=NULL,\n",
    "    main=\"Industry Income\")"
   ]
  },
  {
   "cell_type": "markdown",
   "id": "37b47b59",
   "metadata": {},
   "source": [
    "## Scatter Plot"
   ]
  },
  {
   "cell_type": "code",
   "execution_count": 71,
   "id": "f74f0455",
   "metadata": {},
   "outputs": [],
   "source": [
    "#Read in the Lung Cap Data\n",
    "LungCapData <- read.csv(\"F:\\\\Codes\\\\Dataset\\\\lungcap.csv\")"
   ]
  },
  {
   "cell_type": "code",
   "execution_count": 72,
   "id": "455ecf97",
   "metadata": {},
   "outputs": [
    {
     "data": {
      "text/html": [
       "<style>\n",
       ".list-inline {list-style: none; margin:0; padding: 0}\n",
       ".list-inline>li {display: inline-block}\n",
       ".list-inline>li:not(:last-child)::after {content: \"\\00b7\"; padding: 0 .5ex}\n",
       "</style>\n",
       "<ol class=list-inline><li>'LungCap'</li><li>'Age'</li><li>'Height'</li><li>'Smoke'</li><li>'Gender'</li><li>'Caesarean'</li></ol>\n"
      ],
      "text/latex": [
       "\\begin{enumerate*}\n",
       "\\item 'LungCap'\n",
       "\\item 'Age'\n",
       "\\item 'Height'\n",
       "\\item 'Smoke'\n",
       "\\item 'Gender'\n",
       "\\item 'Caesarean'\n",
       "\\end{enumerate*}\n"
      ],
      "text/markdown": [
       "1. 'LungCap'\n",
       "2. 'Age'\n",
       "3. 'Height'\n",
       "4. 'Smoke'\n",
       "5. 'Gender'\n",
       "6. 'Caesarean'\n",
       "\n",
       "\n"
      ],
      "text/plain": [
       "[1] \"LungCap\"   \"Age\"       \"Height\"    \"Smoke\"     \"Gender\"    \"Caesarean\""
      ]
     },
     "metadata": {},
     "output_type": "display_data"
    }
   ],
   "source": [
    "#Attach LungCapData\n",
    "attach(LungCapData)\n",
    "names(LungCapData)"
   ]
  },
  {
   "cell_type": "code",
   "execution_count": 73,
   "id": "becc2cd2",
   "metadata": {},
   "outputs": [
    {
     "data": {
      "text/html": [
       "<style>\n",
       ".list-inline {list-style: none; margin:0; padding: 0}\n",
       ".list-inline>li {display: inline-block}\n",
       ".list-inline>li:not(:last-child)::after {content: \"\\00b7\"; padding: 0 .5ex}\n",
       "</style>\n",
       "<ol class=list-inline><li>6.475</li><li>10.125</li><li>9.55</li><li>11.125</li><li>4.8</li><li>6.225</li><li>4.95</li><li>7.325</li><li>8.875</li><li>6.8</li><li>11.5</li><li>10.925</li><li>6.525</li><li>6</li><li>7.825</li><li>9.525</li><li>7.875</li><li>5.05</li><li>7.025</li><li>9.525</li><li>3.975</li><li>5.325</li><li>10.025</li><li>8.725</li><li>9.375</li><li>8.35</li><li>6.75</li><li>9.025</li><li>1.125</li><li>10.475</li><li>4.65</li><li>7.725</li><li>10.6</li><li>11.025</li><li>8.65</li><li>8.825</li><li>4.2</li><li>8.775</li><li>6.325</li><li>11.325</li><li>8.225</li><li>10.725</li><li>5.875</li><li>7.275</li><li>1.575</li><li>6.7</li><li>7.65</li><li>8</li><li>12.95</li><li>7.35</li><li>9.625</li><li>12.425</li><li>7.4</li><li>4.875</li><li>12.225</li><li>4.25</li><li>8.2</li><li>11.4</li><li>4.625</li><li>7.825</li><li>6.7</li><li>9.2</li><li>6.95</li><li>6.85</li><li>8.45</li><li>7.35</li><li>5.375</li><li>7.375</li><li>8.6</li><li>7.9</li><li>8.5</li><li>9.7</li><li>5.125</li><li>7.825</li><li>6.25</li><li>4.975</li><li>7.5</li><li>5.875</li><li>10.05</li><li>10.8</li><li>7.35</li><li>11.9</li><li>12.05</li><li>11.575</li><li>6.2</li><li>6.125</li><li>13.875</li><li>7.75</li><li>7.475</li><li>11.575</li><li>6.95</li><li>9.2</li><li>9.75</li><li>9.65</li><li>11.75</li><li>10.825</li><li>7.55</li><li>6.95</li><li>10.675</li><li>6.1</li><li>8.025</li><li>9.225</li><li>3.45</li><li>10.725</li><li>7.95</li><li>3.425</li><li>10.875</li><li>8.625</li><li>6.45</li><li>3.1</li><li>10.425</li><li>12.15</li><li>1.85</li><li>5.875</li><li>9.125</li><li>8.975</li><li>3.75</li><li>10.275</li><li>6.675</li><li>11.775</li><li>8.55</li><li>6.45</li><li>13.2</li><li>11.55</li><li>12.95</li><li>7.825</li><li>10.55</li><li>11.7</li><li>3.65</li><li>6.65</li><li>10.425</li><li>12.925</li><li>7.45</li><li>8.6</li><li>10.65</li><li>4.725</li><li>7.55</li><li>10.175</li><li>6.45</li><li>9.475</li><li>4.975</li><li>9.9</li><li>10.2</li><li>12.4</li><li>6.85</li><li>11.825</li><li>8.625</li><li>11.35</li><li>8.225</li><li>0.507</li><li>5.075</li><li>6.45</li><li>6.725</li><li>4.525</li><li>9.275</li><li>2.85</li><li>9.35</li><li>5.55</li><li>10.35</li><li>6.625</li><li>9.725</li><li>4.9</li><li>10.475</li><li>10.85</li><li>5.15</li><li>4.425</li><li>7.55</li><li>8.35</li><li>6.05</li><li>4.325</li><li>8.85</li><li>4.325</li><li>8.775</li><li>6.45</li><li>9.175</li><li>9.45</li><li>6.7</li><li>10.95</li><li>9.85</li><li>9.825</li><li>8.5</li><li>11.875</li><li>10.475</li><li>9.925</li><li>8.5</li><li>7.2</li><li>8.375</li><li>5.5</li><li>7.925</li><li>2.875</li><li>10.35</li><li>9.325</li><li>7.45</li><li>8.625</li><li>11.225</li><li>12.125</li><li>13.025</li><li>7.85</li><li>2.55</li><li>7.575</li><li>...</li><li>8.35</li><li>5.225</li><li>9</li><li>9.625</li><li>7.05</li><li>4.075</li><li>8.5</li><li>5.775</li><li>8.175</li><li>6.075</li><li>6.9</li><li>7.925</li><li>7.55</li><li>12.325</li><li>11.95</li><li>6.8</li><li>6.85</li><li>6.925</li><li>7.875</li><li>11.175</li><li>9.575</li><li>8.425</li><li>10.775</li><li>7.625</li><li>7.65</li><li>10.3</li><li>1.775</li><li>9.025</li><li>8.025</li><li>8.575</li><li>8.85</li><li>2.725</li><li>7.1</li><li>10.575</li><li>6.575</li><li>7.9</li><li>8.275</li><li>10.2</li><li>4.55</li><li>8</li><li>7.225</li><li>8.7</li><li>10.7</li><li>1.325</li><li>13.375</li><li>11.9</li><li>8.625</li><li>6.9</li><li>2.25</li><li>10.025</li><li>13.05</li><li>12.325</li><li>10.7</li><li>9.1</li><li>8.225</li><li>5.15</li><li>8</li><li>6.05</li><li>4.45</li><li>5.35</li><li>8.825</li><li>8.925</li><li>12.375</li><li>9.475</li><li>8.35</li><li>9.15</li><li>2.25</li><li>8.025</li><li>8.7</li><li>7.825</li><li>1.45</li><li>3.925</li><li>2.825</li><li>8.975</li><li>6.275</li><li>11.8</li><li>11.8</li><li>9.375</li><li>7.675</li><li>2.65</li><li>8.575</li><li>9.875</li><li>10.825</li><li>4.825</li><li>4.25</li><li>9.75</li><li>8.55</li><li>8.6</li><li>3.7</li><li>8.275</li><li>8.125</li><li>10.675</li><li>7.65</li><li>9.175</li><li>8.25</li><li>3.675</li><li>10.625</li><li>8.2</li><li>7.675</li><li>2.725</li><li>8.35</li><li>9.225</li><li>2.925</li><li>8.35</li><li>3.7</li><li>6.425</li><li>8.775</li><li>5.65</li><li>10.2</li><li>2.025</li><li>6.175</li><li>9.05</li><li>7</li><li>5.025</li><li>7.55</li><li>14.55</li><li>6.975</li><li>7.95</li><li>10.875</li><li>7.325</li><li>13.375</li><li>7.85</li><li>9.1</li><li>6.825</li><li>6.45</li><li>6.55</li><li>6.175</li><li>5.575</li><li>7.8</li><li>8.9</li><li>4.625</li><li>5.625</li><li>10.025</li><li>6.5</li><li>3.25</li><li>11.225</li><li>7.325</li><li>8.425</li><li>5.55</li><li>10.4</li><li>7.825</li><li>7.55</li><li>8.05</li><li>2.625</li><li>4.575</li><li>4.975</li><li>11.275</li><li>6.125</li><li>5.95</li><li>7.475</li><li>12.125</li><li>13.325</li><li>9.2</li><li>8.125</li><li>3.925</li><li>10.025</li><li>9.825</li><li>5.825</li><li>8.525</li><li>12.7</li><li>8.8</li><li>6.15</li><li>7.475</li><li>4.45</li><li>4.7</li><li>4.425</li><li>6.2</li><li>6.05</li><li>1.95</li><li>6.75</li><li>8.25</li><li>6.375</li><li>6.45</li><li>7.95</li><li>7.425</li><li>6.6</li><li>10.4</li><li>9.675</li><li>3.6</li><li>6.225</li><li>12.425</li><li>9.175</li><li>5.275</li><li>6.9</li><li>4.85</li><li>12.325</li><li>4.625</li><li>3.425</li><li>9.325</li><li>9.925</li><li>8.725</li><li>7.075</li><li>8.825</li><li>7.175</li><li>7.325</li><li>5.725</li><li>9.05</li><li>3.85</li><li>9.825</li><li>7.1</li></ol>\n"
      ],
      "text/latex": [
       "\\begin{enumerate*}\n",
       "\\item 6.475\n",
       "\\item 10.125\n",
       "\\item 9.55\n",
       "\\item 11.125\n",
       "\\item 4.8\n",
       "\\item 6.225\n",
       "\\item 4.95\n",
       "\\item 7.325\n",
       "\\item 8.875\n",
       "\\item 6.8\n",
       "\\item 11.5\n",
       "\\item 10.925\n",
       "\\item 6.525\n",
       "\\item 6\n",
       "\\item 7.825\n",
       "\\item 9.525\n",
       "\\item 7.875\n",
       "\\item 5.05\n",
       "\\item 7.025\n",
       "\\item 9.525\n",
       "\\item 3.975\n",
       "\\item 5.325\n",
       "\\item 10.025\n",
       "\\item 8.725\n",
       "\\item 9.375\n",
       "\\item 8.35\n",
       "\\item 6.75\n",
       "\\item 9.025\n",
       "\\item 1.125\n",
       "\\item 10.475\n",
       "\\item 4.65\n",
       "\\item 7.725\n",
       "\\item 10.6\n",
       "\\item 11.025\n",
       "\\item 8.65\n",
       "\\item 8.825\n",
       "\\item 4.2\n",
       "\\item 8.775\n",
       "\\item 6.325\n",
       "\\item 11.325\n",
       "\\item 8.225\n",
       "\\item 10.725\n",
       "\\item 5.875\n",
       "\\item 7.275\n",
       "\\item 1.575\n",
       "\\item 6.7\n",
       "\\item 7.65\n",
       "\\item 8\n",
       "\\item 12.95\n",
       "\\item 7.35\n",
       "\\item 9.625\n",
       "\\item 12.425\n",
       "\\item 7.4\n",
       "\\item 4.875\n",
       "\\item 12.225\n",
       "\\item 4.25\n",
       "\\item 8.2\n",
       "\\item 11.4\n",
       "\\item 4.625\n",
       "\\item 7.825\n",
       "\\item 6.7\n",
       "\\item 9.2\n",
       "\\item 6.95\n",
       "\\item 6.85\n",
       "\\item 8.45\n",
       "\\item 7.35\n",
       "\\item 5.375\n",
       "\\item 7.375\n",
       "\\item 8.6\n",
       "\\item 7.9\n",
       "\\item 8.5\n",
       "\\item 9.7\n",
       "\\item 5.125\n",
       "\\item 7.825\n",
       "\\item 6.25\n",
       "\\item 4.975\n",
       "\\item 7.5\n",
       "\\item 5.875\n",
       "\\item 10.05\n",
       "\\item 10.8\n",
       "\\item 7.35\n",
       "\\item 11.9\n",
       "\\item 12.05\n",
       "\\item 11.575\n",
       "\\item 6.2\n",
       "\\item 6.125\n",
       "\\item 13.875\n",
       "\\item 7.75\n",
       "\\item 7.475\n",
       "\\item 11.575\n",
       "\\item 6.95\n",
       "\\item 9.2\n",
       "\\item 9.75\n",
       "\\item 9.65\n",
       "\\item 11.75\n",
       "\\item 10.825\n",
       "\\item 7.55\n",
       "\\item 6.95\n",
       "\\item 10.675\n",
       "\\item 6.1\n",
       "\\item 8.025\n",
       "\\item 9.225\n",
       "\\item 3.45\n",
       "\\item 10.725\n",
       "\\item 7.95\n",
       "\\item 3.425\n",
       "\\item 10.875\n",
       "\\item 8.625\n",
       "\\item 6.45\n",
       "\\item 3.1\n",
       "\\item 10.425\n",
       "\\item 12.15\n",
       "\\item 1.85\n",
       "\\item 5.875\n",
       "\\item 9.125\n",
       "\\item 8.975\n",
       "\\item 3.75\n",
       "\\item 10.275\n",
       "\\item 6.675\n",
       "\\item 11.775\n",
       "\\item 8.55\n",
       "\\item 6.45\n",
       "\\item 13.2\n",
       "\\item 11.55\n",
       "\\item 12.95\n",
       "\\item 7.825\n",
       "\\item 10.55\n",
       "\\item 11.7\n",
       "\\item 3.65\n",
       "\\item 6.65\n",
       "\\item 10.425\n",
       "\\item 12.925\n",
       "\\item 7.45\n",
       "\\item 8.6\n",
       "\\item 10.65\n",
       "\\item 4.725\n",
       "\\item 7.55\n",
       "\\item 10.175\n",
       "\\item 6.45\n",
       "\\item 9.475\n",
       "\\item 4.975\n",
       "\\item 9.9\n",
       "\\item 10.2\n",
       "\\item 12.4\n",
       "\\item 6.85\n",
       "\\item 11.825\n",
       "\\item 8.625\n",
       "\\item 11.35\n",
       "\\item 8.225\n",
       "\\item 0.507\n",
       "\\item 5.075\n",
       "\\item 6.45\n",
       "\\item 6.725\n",
       "\\item 4.525\n",
       "\\item 9.275\n",
       "\\item 2.85\n",
       "\\item 9.35\n",
       "\\item 5.55\n",
       "\\item 10.35\n",
       "\\item 6.625\n",
       "\\item 9.725\n",
       "\\item 4.9\n",
       "\\item 10.475\n",
       "\\item 10.85\n",
       "\\item 5.15\n",
       "\\item 4.425\n",
       "\\item 7.55\n",
       "\\item 8.35\n",
       "\\item 6.05\n",
       "\\item 4.325\n",
       "\\item 8.85\n",
       "\\item 4.325\n",
       "\\item 8.775\n",
       "\\item 6.45\n",
       "\\item 9.175\n",
       "\\item 9.45\n",
       "\\item 6.7\n",
       "\\item 10.95\n",
       "\\item 9.85\n",
       "\\item 9.825\n",
       "\\item 8.5\n",
       "\\item 11.875\n",
       "\\item 10.475\n",
       "\\item 9.925\n",
       "\\item 8.5\n",
       "\\item 7.2\n",
       "\\item 8.375\n",
       "\\item 5.5\n",
       "\\item 7.925\n",
       "\\item 2.875\n",
       "\\item 10.35\n",
       "\\item 9.325\n",
       "\\item 7.45\n",
       "\\item 8.625\n",
       "\\item 11.225\n",
       "\\item 12.125\n",
       "\\item 13.025\n",
       "\\item 7.85\n",
       "\\item 2.55\n",
       "\\item 7.575\n",
       "\\item ...\n",
       "\\item 8.35\n",
       "\\item 5.225\n",
       "\\item 9\n",
       "\\item 9.625\n",
       "\\item 7.05\n",
       "\\item 4.075\n",
       "\\item 8.5\n",
       "\\item 5.775\n",
       "\\item 8.175\n",
       "\\item 6.075\n",
       "\\item 6.9\n",
       "\\item 7.925\n",
       "\\item 7.55\n",
       "\\item 12.325\n",
       "\\item 11.95\n",
       "\\item 6.8\n",
       "\\item 6.85\n",
       "\\item 6.925\n",
       "\\item 7.875\n",
       "\\item 11.175\n",
       "\\item 9.575\n",
       "\\item 8.425\n",
       "\\item 10.775\n",
       "\\item 7.625\n",
       "\\item 7.65\n",
       "\\item 10.3\n",
       "\\item 1.775\n",
       "\\item 9.025\n",
       "\\item 8.025\n",
       "\\item 8.575\n",
       "\\item 8.85\n",
       "\\item 2.725\n",
       "\\item 7.1\n",
       "\\item 10.575\n",
       "\\item 6.575\n",
       "\\item 7.9\n",
       "\\item 8.275\n",
       "\\item 10.2\n",
       "\\item 4.55\n",
       "\\item 8\n",
       "\\item 7.225\n",
       "\\item 8.7\n",
       "\\item 10.7\n",
       "\\item 1.325\n",
       "\\item 13.375\n",
       "\\item 11.9\n",
       "\\item 8.625\n",
       "\\item 6.9\n",
       "\\item 2.25\n",
       "\\item 10.025\n",
       "\\item 13.05\n",
       "\\item 12.325\n",
       "\\item 10.7\n",
       "\\item 9.1\n",
       "\\item 8.225\n",
       "\\item 5.15\n",
       "\\item 8\n",
       "\\item 6.05\n",
       "\\item 4.45\n",
       "\\item 5.35\n",
       "\\item 8.825\n",
       "\\item 8.925\n",
       "\\item 12.375\n",
       "\\item 9.475\n",
       "\\item 8.35\n",
       "\\item 9.15\n",
       "\\item 2.25\n",
       "\\item 8.025\n",
       "\\item 8.7\n",
       "\\item 7.825\n",
       "\\item 1.45\n",
       "\\item 3.925\n",
       "\\item 2.825\n",
       "\\item 8.975\n",
       "\\item 6.275\n",
       "\\item 11.8\n",
       "\\item 11.8\n",
       "\\item 9.375\n",
       "\\item 7.675\n",
       "\\item 2.65\n",
       "\\item 8.575\n",
       "\\item 9.875\n",
       "\\item 10.825\n",
       "\\item 4.825\n",
       "\\item 4.25\n",
       "\\item 9.75\n",
       "\\item 8.55\n",
       "\\item 8.6\n",
       "\\item 3.7\n",
       "\\item 8.275\n",
       "\\item 8.125\n",
       "\\item 10.675\n",
       "\\item 7.65\n",
       "\\item 9.175\n",
       "\\item 8.25\n",
       "\\item 3.675\n",
       "\\item 10.625\n",
       "\\item 8.2\n",
       "\\item 7.675\n",
       "\\item 2.725\n",
       "\\item 8.35\n",
       "\\item 9.225\n",
       "\\item 2.925\n",
       "\\item 8.35\n",
       "\\item 3.7\n",
       "\\item 6.425\n",
       "\\item 8.775\n",
       "\\item 5.65\n",
       "\\item 10.2\n",
       "\\item 2.025\n",
       "\\item 6.175\n",
       "\\item 9.05\n",
       "\\item 7\n",
       "\\item 5.025\n",
       "\\item 7.55\n",
       "\\item 14.55\n",
       "\\item 6.975\n",
       "\\item 7.95\n",
       "\\item 10.875\n",
       "\\item 7.325\n",
       "\\item 13.375\n",
       "\\item 7.85\n",
       "\\item 9.1\n",
       "\\item 6.825\n",
       "\\item 6.45\n",
       "\\item 6.55\n",
       "\\item 6.175\n",
       "\\item 5.575\n",
       "\\item 7.8\n",
       "\\item 8.9\n",
       "\\item 4.625\n",
       "\\item 5.625\n",
       "\\item 10.025\n",
       "\\item 6.5\n",
       "\\item 3.25\n",
       "\\item 11.225\n",
       "\\item 7.325\n",
       "\\item 8.425\n",
       "\\item 5.55\n",
       "\\item 10.4\n",
       "\\item 7.825\n",
       "\\item 7.55\n",
       "\\item 8.05\n",
       "\\item 2.625\n",
       "\\item 4.575\n",
       "\\item 4.975\n",
       "\\item 11.275\n",
       "\\item 6.125\n",
       "\\item 5.95\n",
       "\\item 7.475\n",
       "\\item 12.125\n",
       "\\item 13.325\n",
       "\\item 9.2\n",
       "\\item 8.125\n",
       "\\item 3.925\n",
       "\\item 10.025\n",
       "\\item 9.825\n",
       "\\item 5.825\n",
       "\\item 8.525\n",
       "\\item 12.7\n",
       "\\item 8.8\n",
       "\\item 6.15\n",
       "\\item 7.475\n",
       "\\item 4.45\n",
       "\\item 4.7\n",
       "\\item 4.425\n",
       "\\item 6.2\n",
       "\\item 6.05\n",
       "\\item 1.95\n",
       "\\item 6.75\n",
       "\\item 8.25\n",
       "\\item 6.375\n",
       "\\item 6.45\n",
       "\\item 7.95\n",
       "\\item 7.425\n",
       "\\item 6.6\n",
       "\\item 10.4\n",
       "\\item 9.675\n",
       "\\item 3.6\n",
       "\\item 6.225\n",
       "\\item 12.425\n",
       "\\item 9.175\n",
       "\\item 5.275\n",
       "\\item 6.9\n",
       "\\item 4.85\n",
       "\\item 12.325\n",
       "\\item 4.625\n",
       "\\item 3.425\n",
       "\\item 9.325\n",
       "\\item 9.925\n",
       "\\item 8.725\n",
       "\\item 7.075\n",
       "\\item 8.825\n",
       "\\item 7.175\n",
       "\\item 7.325\n",
       "\\item 5.725\n",
       "\\item 9.05\n",
       "\\item 3.85\n",
       "\\item 9.825\n",
       "\\item 7.1\n",
       "\\end{enumerate*}\n"
      ],
      "text/markdown": [
       "1. 6.475\n",
       "2. 10.125\n",
       "3. 9.55\n",
       "4. 11.125\n",
       "5. 4.8\n",
       "6. 6.225\n",
       "7. 4.95\n",
       "8. 7.325\n",
       "9. 8.875\n",
       "10. 6.8\n",
       "11. 11.5\n",
       "12. 10.925\n",
       "13. 6.525\n",
       "14. 6\n",
       "15. 7.825\n",
       "16. 9.525\n",
       "17. 7.875\n",
       "18. 5.05\n",
       "19. 7.025\n",
       "20. 9.525\n",
       "21. 3.975\n",
       "22. 5.325\n",
       "23. 10.025\n",
       "24. 8.725\n",
       "25. 9.375\n",
       "26. 8.35\n",
       "27. 6.75\n",
       "28. 9.025\n",
       "29. 1.125\n",
       "30. 10.475\n",
       "31. 4.65\n",
       "32. 7.725\n",
       "33. 10.6\n",
       "34. 11.025\n",
       "35. 8.65\n",
       "36. 8.825\n",
       "37. 4.2\n",
       "38. 8.775\n",
       "39. 6.325\n",
       "40. 11.325\n",
       "41. 8.225\n",
       "42. 10.725\n",
       "43. 5.875\n",
       "44. 7.275\n",
       "45. 1.575\n",
       "46. 6.7\n",
       "47. 7.65\n",
       "48. 8\n",
       "49. 12.95\n",
       "50. 7.35\n",
       "51. 9.625\n",
       "52. 12.425\n",
       "53. 7.4\n",
       "54. 4.875\n",
       "55. 12.225\n",
       "56. 4.25\n",
       "57. 8.2\n",
       "58. 11.4\n",
       "59. 4.625\n",
       "60. 7.825\n",
       "61. 6.7\n",
       "62. 9.2\n",
       "63. 6.95\n",
       "64. 6.85\n",
       "65. 8.45\n",
       "66. 7.35\n",
       "67. 5.375\n",
       "68. 7.375\n",
       "69. 8.6\n",
       "70. 7.9\n",
       "71. 8.5\n",
       "72. 9.7\n",
       "73. 5.125\n",
       "74. 7.825\n",
       "75. 6.25\n",
       "76. 4.975\n",
       "77. 7.5\n",
       "78. 5.875\n",
       "79. 10.05\n",
       "80. 10.8\n",
       "81. 7.35\n",
       "82. 11.9\n",
       "83. 12.05\n",
       "84. 11.575\n",
       "85. 6.2\n",
       "86. 6.125\n",
       "87. 13.875\n",
       "88. 7.75\n",
       "89. 7.475\n",
       "90. 11.575\n",
       "91. 6.95\n",
       "92. 9.2\n",
       "93. 9.75\n",
       "94. 9.65\n",
       "95. 11.75\n",
       "96. 10.825\n",
       "97. 7.55\n",
       "98. 6.95\n",
       "99. 10.675\n",
       "100. 6.1\n",
       "101. 8.025\n",
       "102. 9.225\n",
       "103. 3.45\n",
       "104. 10.725\n",
       "105. 7.95\n",
       "106. 3.425\n",
       "107. 10.875\n",
       "108. 8.625\n",
       "109. 6.45\n",
       "110. 3.1\n",
       "111. 10.425\n",
       "112. 12.15\n",
       "113. 1.85\n",
       "114. 5.875\n",
       "115. 9.125\n",
       "116. 8.975\n",
       "117. 3.75\n",
       "118. 10.275\n",
       "119. 6.675\n",
       "120. 11.775\n",
       "121. 8.55\n",
       "122. 6.45\n",
       "123. 13.2\n",
       "124. 11.55\n",
       "125. 12.95\n",
       "126. 7.825\n",
       "127. 10.55\n",
       "128. 11.7\n",
       "129. 3.65\n",
       "130. 6.65\n",
       "131. 10.425\n",
       "132. 12.925\n",
       "133. 7.45\n",
       "134. 8.6\n",
       "135. 10.65\n",
       "136. 4.725\n",
       "137. 7.55\n",
       "138. 10.175\n",
       "139. 6.45\n",
       "140. 9.475\n",
       "141. 4.975\n",
       "142. 9.9\n",
       "143. 10.2\n",
       "144. 12.4\n",
       "145. 6.85\n",
       "146. 11.825\n",
       "147. 8.625\n",
       "148. 11.35\n",
       "149. 8.225\n",
       "150. 0.507\n",
       "151. 5.075\n",
       "152. 6.45\n",
       "153. 6.725\n",
       "154. 4.525\n",
       "155. 9.275\n",
       "156. 2.85\n",
       "157. 9.35\n",
       "158. 5.55\n",
       "159. 10.35\n",
       "160. 6.625\n",
       "161. 9.725\n",
       "162. 4.9\n",
       "163. 10.475\n",
       "164. 10.85\n",
       "165. 5.15\n",
       "166. 4.425\n",
       "167. 7.55\n",
       "168. 8.35\n",
       "169. 6.05\n",
       "170. 4.325\n",
       "171. 8.85\n",
       "172. 4.325\n",
       "173. 8.775\n",
       "174. 6.45\n",
       "175. 9.175\n",
       "176. 9.45\n",
       "177. 6.7\n",
       "178. 10.95\n",
       "179. 9.85\n",
       "180. 9.825\n",
       "181. 8.5\n",
       "182. 11.875\n",
       "183. 10.475\n",
       "184. 9.925\n",
       "185. 8.5\n",
       "186. 7.2\n",
       "187. 8.375\n",
       "188. 5.5\n",
       "189. 7.925\n",
       "190. 2.875\n",
       "191. 10.35\n",
       "192. 9.325\n",
       "193. 7.45\n",
       "194. 8.625\n",
       "195. 11.225\n",
       "196. 12.125\n",
       "197. 13.025\n",
       "198. 7.85\n",
       "199. 2.55\n",
       "200. 7.575\n",
       "201. ...\n",
       "202. 8.35\n",
       "203. 5.225\n",
       "204. 9\n",
       "205. 9.625\n",
       "206. 7.05\n",
       "207. 4.075\n",
       "208. 8.5\n",
       "209. 5.775\n",
       "210. 8.175\n",
       "211. 6.075\n",
       "212. 6.9\n",
       "213. 7.925\n",
       "214. 7.55\n",
       "215. 12.325\n",
       "216. 11.95\n",
       "217. 6.8\n",
       "218. 6.85\n",
       "219. 6.925\n",
       "220. 7.875\n",
       "221. 11.175\n",
       "222. 9.575\n",
       "223. 8.425\n",
       "224. 10.775\n",
       "225. 7.625\n",
       "226. 7.65\n",
       "227. 10.3\n",
       "228. 1.775\n",
       "229. 9.025\n",
       "230. 8.025\n",
       "231. 8.575\n",
       "232. 8.85\n",
       "233. 2.725\n",
       "234. 7.1\n",
       "235. 10.575\n",
       "236. 6.575\n",
       "237. 7.9\n",
       "238. 8.275\n",
       "239. 10.2\n",
       "240. 4.55\n",
       "241. 8\n",
       "242. 7.225\n",
       "243. 8.7\n",
       "244. 10.7\n",
       "245. 1.325\n",
       "246. 13.375\n",
       "247. 11.9\n",
       "248. 8.625\n",
       "249. 6.9\n",
       "250. 2.25\n",
       "251. 10.025\n",
       "252. 13.05\n",
       "253. 12.325\n",
       "254. 10.7\n",
       "255. 9.1\n",
       "256. 8.225\n",
       "257. 5.15\n",
       "258. 8\n",
       "259. 6.05\n",
       "260. 4.45\n",
       "261. 5.35\n",
       "262. 8.825\n",
       "263. 8.925\n",
       "264. 12.375\n",
       "265. 9.475\n",
       "266. 8.35\n",
       "267. 9.15\n",
       "268. 2.25\n",
       "269. 8.025\n",
       "270. 8.7\n",
       "271. 7.825\n",
       "272. 1.45\n",
       "273. 3.925\n",
       "274. 2.825\n",
       "275. 8.975\n",
       "276. 6.275\n",
       "277. 11.8\n",
       "278. 11.8\n",
       "279. 9.375\n",
       "280. 7.675\n",
       "281. 2.65\n",
       "282. 8.575\n",
       "283. 9.875\n",
       "284. 10.825\n",
       "285. 4.825\n",
       "286. 4.25\n",
       "287. 9.75\n",
       "288. 8.55\n",
       "289. 8.6\n",
       "290. 3.7\n",
       "291. 8.275\n",
       "292. 8.125\n",
       "293. 10.675\n",
       "294. 7.65\n",
       "295. 9.175\n",
       "296. 8.25\n",
       "297. 3.675\n",
       "298. 10.625\n",
       "299. 8.2\n",
       "300. 7.675\n",
       "301. 2.725\n",
       "302. 8.35\n",
       "303. 9.225\n",
       "304. 2.925\n",
       "305. 8.35\n",
       "306. 3.7\n",
       "307. 6.425\n",
       "308. 8.775\n",
       "309. 5.65\n",
       "310. 10.2\n",
       "311. 2.025\n",
       "312. 6.175\n",
       "313. 9.05\n",
       "314. 7\n",
       "315. 5.025\n",
       "316. 7.55\n",
       "317. 14.55\n",
       "318. 6.975\n",
       "319. 7.95\n",
       "320. 10.875\n",
       "321. 7.325\n",
       "322. 13.375\n",
       "323. 7.85\n",
       "324. 9.1\n",
       "325. 6.825\n",
       "326. 6.45\n",
       "327. 6.55\n",
       "328. 6.175\n",
       "329. 5.575\n",
       "330. 7.8\n",
       "331. 8.9\n",
       "332. 4.625\n",
       "333. 5.625\n",
       "334. 10.025\n",
       "335. 6.5\n",
       "336. 3.25\n",
       "337. 11.225\n",
       "338. 7.325\n",
       "339. 8.425\n",
       "340. 5.55\n",
       "341. 10.4\n",
       "342. 7.825\n",
       "343. 7.55\n",
       "344. 8.05\n",
       "345. 2.625\n",
       "346. 4.575\n",
       "347. 4.975\n",
       "348. 11.275\n",
       "349. 6.125\n",
       "350. 5.95\n",
       "351. 7.475\n",
       "352. 12.125\n",
       "353. 13.325\n",
       "354. 9.2\n",
       "355. 8.125\n",
       "356. 3.925\n",
       "357. 10.025\n",
       "358. 9.825\n",
       "359. 5.825\n",
       "360. 8.525\n",
       "361. 12.7\n",
       "362. 8.8\n",
       "363. 6.15\n",
       "364. 7.475\n",
       "365. 4.45\n",
       "366. 4.7\n",
       "367. 4.425\n",
       "368. 6.2\n",
       "369. 6.05\n",
       "370. 1.95\n",
       "371. 6.75\n",
       "372. 8.25\n",
       "373. 6.375\n",
       "374. 6.45\n",
       "375. 7.95\n",
       "376. 7.425\n",
       "377. 6.6\n",
       "378. 10.4\n",
       "379. 9.675\n",
       "380. 3.6\n",
       "381. 6.225\n",
       "382. 12.425\n",
       "383. 9.175\n",
       "384. 5.275\n",
       "385. 6.9\n",
       "386. 4.85\n",
       "387. 12.325\n",
       "388. 4.625\n",
       "389. 3.425\n",
       "390. 9.325\n",
       "391. 9.925\n",
       "392. 8.725\n",
       "393. 7.075\n",
       "394. 8.825\n",
       "395. 7.175\n",
       "396. 7.325\n",
       "397. 5.725\n",
       "398. 9.05\n",
       "399. 3.85\n",
       "400. 9.825\n",
       "401. 7.1\n",
       "\n",
       "\n"
      ],
      "text/plain": [
       "  [1]  6.475 10.125  9.550 11.125  4.800  6.225  4.950  7.325  8.875  6.800\n",
       " [11] 11.500 10.925  6.525  6.000  7.825  9.525  7.875  5.050  7.025  9.525\n",
       " [21]  3.975  5.325 10.025  8.725  9.375  8.350  6.750  9.025  1.125 10.475\n",
       " [31]  4.650  7.725 10.600 11.025  8.650  8.825  4.200  8.775  6.325 11.325\n",
       " [41]  8.225 10.725  5.875  7.275  1.575  6.700  7.650  8.000 12.950  7.350\n",
       " [51]  9.625 12.425  7.400  4.875 12.225  4.250  8.200 11.400  4.625  7.825\n",
       " [61]  6.700  9.200  6.950  6.850  8.450  7.350  5.375  7.375  8.600  7.900\n",
       " [71]  8.500  9.700  5.125  7.825  6.250  4.975  7.500  5.875 10.050 10.800\n",
       " [81]  7.350 11.900 12.050 11.575  6.200  6.125 13.875  7.750  7.475 11.575\n",
       " [91]  6.950  9.200  9.750  9.650 11.750 10.825  7.550  6.950 10.675  6.100\n",
       "[101]  8.025  9.225  3.450 10.725  7.950  3.425 10.875  8.625  6.450  3.100\n",
       "[111] 10.425 12.150  1.850  5.875  9.125  8.975  3.750 10.275  6.675 11.775\n",
       "[121]  8.550  6.450 13.200 11.550 12.950  7.825 10.550 11.700  3.650  6.650\n",
       "[131] 10.425 12.925  7.450  8.600 10.650  4.725  7.550 10.175  6.450  9.475\n",
       "[141]  4.975  9.900 10.200 12.400  6.850 11.825  8.625 11.350  8.225  0.507\n",
       "[151]  5.075  6.450  6.725  4.525  9.275  2.850  9.350  5.550 10.350  6.625\n",
       "[161]  9.725  4.900 10.475 10.850  5.150  4.425  7.550  8.350  6.050  4.325\n",
       "[171]  8.850  4.325  8.775  6.450  9.175  9.450  6.700 10.950  9.850  9.825\n",
       "[181]  8.500 11.875 10.475  9.925  8.500  7.200  8.375  5.500  7.925  2.875\n",
       "[191] 10.350  9.325  7.450  8.625 11.225 12.125 13.025  7.850  2.550  7.575\n",
       "[201]  9.550 12.225 11.625 10.000  3.900  5.850  5.025  5.950  9.475  6.400\n",
       "[211]  8.225 10.775  6.150  9.400  7.250  5.850  4.125 10.925  7.350 10.475\n",
       "[221]  6.575  1.175  2.950  9.000  8.100  7.275 11.075  3.100  4.700  5.850\n",
       "[231]  7.925  7.300  9.275 11.125  8.625  9.825  5.725  7.925  9.475 10.900\n",
       "[241]  9.675  9.950  6.575  8.600  9.500  3.825  8.000  7.475 10.700 10.125\n",
       "[251] 11.225  7.275 12.500  7.625  5.300  5.600 11.050  8.025  9.950  7.400\n",
       "[261]  8.850 11.875  4.850  5.175 10.175  5.225  8.975  7.350  7.975  8.775\n",
       "[271]  6.100  8.800  8.700  6.975  9.375  7.400  8.800  6.700  7.250  9.725\n",
       "[281]  8.500 10.975  9.700  4.775 10.325  6.200  8.000  3.025  6.125  9.550\n",
       "[291]  7.050 10.450  5.475 11.400  7.150 12.200  6.725  8.725  2.625  7.400\n",
       "[301]  8.200  6.850  6.550 10.525  6.625  6.550  8.475 10.925  6.075  8.350\n",
       "[311]  2.475  9.675  8.775 13.100  6.500  7.300  3.900  1.025  6.775 10.975\n",
       "[321]  7.625  7.225  8.900  9.150  5.200 11.075  8.325  3.625  9.625  4.500\n",
       "[331]  4.150  6.000 10.050 10.750  7.375  5.250  8.875 10.900  9.800 10.250\n",
       "[341]  7.425  6.325  5.550  1.625  5.050 10.100  4.725  5.025  3.425  8.475\n",
       "[351]  5.650 11.675 10.600  4.725  7.575  7.750 11.700  8.325  6.650  3.675\n",
       "[361]  3.975 10.050 10.200  7.275  6.050  6.225  9.300  8.975  8.650 11.650\n",
       "[371] 11.075  7.700  6.925 10.725 14.375  6.175  7.825  8.625  4.900  4.200\n",
       "[381]  5.850  7.375  8.775  8.000 11.075 10.600  5.150  6.475  5.375  3.400\n",
       "[391]  6.525 11.325 11.650  6.725  7.775  5.700  6.825 10.500  8.725  4.475\n",
       "[401]  2.000  5.325  8.425  1.900  3.225  8.775  2.650 12.150 10.100 11.500\n",
       "[411]  5.650  8.675  9.275 11.000  8.125  3.175  7.450  9.100  9.875  2.250\n",
       "[421]  9.025 11.225  5.950  7.800  8.550  5.875  5.425 12.275 11.225  9.450\n",
       "[431]  7.025  5.500  3.900  5.050 10.450 11.300  2.875  8.425 10.500  9.925\n",
       "[441]  5.250  9.750  9.800  8.300  7.700  6.150  6.300  9.850  4.325  7.925\n",
       "[451]  4.350  4.425 13.075 10.450 11.525  1.925  6.825  6.575  7.975  7.700\n",
       "[461]  8.600  9.975  7.125  9.600 10.700  3.175  9.100 10.275  7.000 10.400\n",
       "[471]  7.850 12.625 10.650 11.025  9.050  8.075  9.675  6.950  8.425  9.525\n",
       "[481]  5.675 10.375  8.975  9.675  6.300 11.600  2.375 10.100  6.075  6.725\n",
       "[491]  4.250 12.900  2.875  5.375 14.675  9.000  8.350  2.725  8.125  7.900\n",
       "[501]  6.100  8.000 10.600  2.925  8.600  4.475  9.100 13.375 10.300 12.050\n",
       "[511]  9.025  6.700 11.500  1.675  6.225  8.075  8.275  9.325  9.900  6.475\n",
       "[521]  9.725  9.850 10.200  8.250 10.400  8.350  5.225  9.000  9.625  7.050\n",
       "[531]  4.075  8.500  5.775  8.175  6.075  6.900  7.925  7.550 12.325 11.950\n",
       "[541]  6.800  6.850  6.925  7.875 11.175  9.575  8.425 10.775  7.625  7.650\n",
       "[551] 10.300  1.775  9.025  8.025  8.575  8.850  2.725  7.100 10.575  6.575\n",
       "[561]  7.900  8.275 10.200  4.550  8.000  7.225  8.700 10.700  1.325 13.375\n",
       "[571] 11.900  8.625  6.900  2.250 10.025 13.050 12.325 10.700  9.100  8.225\n",
       "[581]  5.150  8.000  6.050  4.450  5.350  8.825  8.925 12.375  9.475  8.350\n",
       "[591]  9.150  2.250  8.025  8.700  7.825  1.450  3.925  2.825  8.975  6.275\n",
       "[601] 11.800 11.800  9.375  7.675  2.650  8.575  9.875 10.825  4.825  4.250\n",
       "[611]  9.750  8.550  8.600  3.700  8.275  8.125 10.675  7.650  9.175  8.250\n",
       "[621]  3.675 10.625  8.200  7.675  2.725  8.350  9.225  2.925  8.350  3.700\n",
       "[631]  6.425  8.775  5.650 10.200  2.025  6.175  9.050  7.000  5.025  7.550\n",
       "[641] 14.550  6.975  7.950 10.875  7.325 13.375  7.850  9.100  6.825  6.450\n",
       "[651]  6.550  6.175  5.575  7.800  8.900  4.625  5.625 10.025  6.500  3.250\n",
       "[661] 11.225  7.325  8.425  5.550 10.400  7.825  7.550  8.050  2.625  4.575\n",
       "[671]  4.975 11.275  6.125  5.950  7.475 12.125 13.325  9.200  8.125  3.925\n",
       "[681] 10.025  9.825  5.825  8.525 12.700  8.800  6.150  7.475  4.450  4.700\n",
       "[691]  4.425  6.200  6.050  1.950  6.750  8.250  6.375  6.450  7.950  7.425\n",
       "[701]  6.600 10.400  9.675  3.600  6.225 12.425  9.175  5.275  6.900  4.850\n",
       "[711] 12.325  4.625  3.425  9.325  9.925  8.725  7.075  8.825  7.175  7.325\n",
       "[721]  5.725  9.050  3.850  9.825  7.100"
      ]
     },
     "metadata": {},
     "output_type": "display_data"
    }
   ],
   "source": [
    "LungCap"
   ]
  },
  {
   "cell_type": "markdown",
   "id": "3ada83b8",
   "metadata": {},
   "source": [
    "## plot the data"
   ]
  },
  {
   "cell_type": "code",
   "execution_count": 74,
   "id": "147bfcd3",
   "metadata": {},
   "outputs": [
    {
     "data": {
      "image/png": "[encoded data removed]",
      "text/plain": [
       "Plot with title \"LungCap vs. Age,Smoke\""
      ]
     },
     "metadata": {
      "image/png": {
       "height": 420,
       "width": 420
      }
     },
     "output_type": "display_data"
    }
   ],
   "source": [
    "# Plot the data, using different colours for smoke(red)/non-smoke(blue)\n",
    "# First, plot the data for the Non-Smokers, in Blue\n",
    "plot(Age[Smoke==\"no\"], LungCap[Smoke==\"no\"], col=\"blue\", ylim=c(0,15),\n",
    "     xlim=c(0,20), xlab=\"Age\", ylab=\"LungCap\",main=\"LungCap vs. Age,Smoke\")\n",
    "\n",
    "# Now, add in the points for the Smokers, in Solid Red Circles\n",
    "points(Age[Smoke==\"yes\"], LungCap[Smoke==\"yes\"], col=\"red\", pch=16)\n",
    "legend(1,15,legend=c(\"NonSmoker\", \"Smoker\"), col=c(\"blue\", \"red\"), pch=c(1,16), bty=\"n\")\n",
    "\n",
    "# Now, let's add in the regression lines from our mode using the abline command for the Non-Smokers, in Blue\n",
    "abline(a=1.052, b=0.558, col=\"blue\", lwd=3)\n",
    "\n",
    "# And now, add in the line for Smokers, in Red\n",
    "abline(a=1.278, b=0.498, col=\"red\", lwd=3)"
   ]
  }
 ],
 "metadata": {
  "kernelspec": {
   "display_name": "R",
   "language": "R",
   "name": "ir"
  },
  "language_info": {
   "codemirror_mode": "r",
   "file_extension": ".r",
   "mimetype": "text/x-r-source",
   "name": "R",
   "pygments_lexer": "r",
   "version": "4.1.2"
  }
 },
 "nbformat": 4,
 "nbformat_minor": 5
}
