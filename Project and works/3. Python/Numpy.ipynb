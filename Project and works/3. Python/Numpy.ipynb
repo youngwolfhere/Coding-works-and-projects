{
 "cells": [
  {
   "cell_type": "markdown",
   "id": "9a5be858",
   "metadata": {},
   "source": [
    "##                                                  Sathish's Notebook"
   ]
  },
  {
   "cell_type": "markdown",
   "id": "64b0b1a6",
   "metadata": {},
   "source": [
    "## Numpy"
   ]
  },
  {
   "cell_type": "markdown",
   "id": "368acaa1",
   "metadata": {},
   "source": [
    "NumPy is an extension to the Python programming language, adding support for large, multidimensional\n",
    "(numerical) arrays and matrices, along with a large library of high-level mathematical\n",
    "functions to operate on these arrays.\n"
   ]
  },
  {
   "cell_type": "code",
   "execution_count": 46,
   "id": "960b7cd5",
   "metadata": {},
   "outputs": [],
   "source": [
    "import numpy as np"
   ]
  },
  {
   "cell_type": "markdown",
   "id": "d569bc58",
   "metadata": {},
   "source": [
    "## Create arrays:"
   ]
  },
  {
   "cell_type": "code",
   "execution_count": 47,
   "id": "5eb6316b",
   "metadata": {},
   "outputs": [
    {
     "data": {
      "text/plain": [
       "array([2, 3, 4])"
      ]
     },
     "execution_count": 47,
     "metadata": {},
     "output_type": "execute_result"
    }
   ],
   "source": [
    "arr = np.array([2,3,4]) #1d array\n",
    "arr"
   ]
  },
  {
   "cell_type": "code",
   "execution_count": 48,
   "id": "ec9dfeec",
   "metadata": {},
   "outputs": [
    {
     "data": {
      "text/plain": [
       "array([[1, 2, 3, 4],\n",
       "       [5, 6, 7, 8]])"
      ]
     },
     "execution_count": 48,
     "metadata": {},
     "output_type": "execute_result"
    }
   ],
   "source": [
    "arr1 = np.array([range(1,5),range(5,9)])  #2d array\n",
    "arr1"
   ]
  },
  {
   "cell_type": "code",
   "execution_count": 49,
   "id": "6770edfa",
   "metadata": {},
   "outputs": [
    {
     "data": {
      "text/plain": [
       "array([[1.+0.j, 2.+0.j],\n",
       "       [3.+0.j, 4.+0.j]])"
      ]
     },
     "execution_count": 49,
     "metadata": {},
     "output_type": "execute_result"
    }
   ],
   "source": [
    "arr2 = np.array([[1,2],[3,4]], dtype = complex)\n",
    "arr2"
   ]
  },
  {
   "cell_type": "markdown",
   "id": "ee961812",
   "metadata": {},
   "source": [
    "## Converting array to list"
   ]
  },
  {
   "cell_type": "code",
   "execution_count": 50,
   "id": "2313f5b9",
   "metadata": {},
   "outputs": [
    {
     "data": {
      "text/plain": [
       "[[1, 2, 3, 4], [5, 6, 7, 8]]"
      ]
     },
     "execution_count": 50,
     "metadata": {},
     "output_type": "execute_result"
    }
   ],
   "source": [
    "arr1.tolist()"
   ]
  },
  {
   "cell_type": "markdown",
   "id": "8e4791e3",
   "metadata": {},
   "source": [
    "## Creating special arrays:"
   ]
  },
  {
   "cell_type": "markdown",
   "id": "e267e0c3",
   "metadata": {},
   "source": [
    "## 1.zero matrix"
   ]
  },
  {
   "cell_type": "code",
   "execution_count": 51,
   "id": "e2aa9dc1",
   "metadata": {},
   "outputs": [
    {
     "data": {
      "text/plain": [
       "array([0., 0., 0., 0., 0., 0., 0., 0., 0., 0.])"
      ]
     },
     "execution_count": 51,
     "metadata": {},
     "output_type": "execute_result"
    }
   ],
   "source": [
    "spl = np.zeros(10)  #function zero create zero values\n",
    "spl"
   ]
  },
  {
   "cell_type": "code",
   "execution_count": 52,
   "id": "1373975f",
   "metadata": {},
   "outputs": [
    {
     "data": {
      "text/plain": [
       "array([[0., 0., 0., 0., 0., 0.],\n",
       "       [0., 0., 0., 0., 0., 0.],\n",
       "       [0., 0., 0., 0., 0., 0.]])"
      ]
     },
     "execution_count": 52,
     "metadata": {},
     "output_type": "execute_result"
    }
   ],
   "source": [
    "spl1 = np.zeros((3,6)) #zero matrix\n",
    "spl1"
   ]
  },
  {
   "cell_type": "markdown",
   "id": "65b140f3",
   "metadata": {},
   "source": [
    "## 2.Ones matrix"
   ]
  },
  {
   "cell_type": "code",
   "execution_count": 53,
   "id": "a19fc6ca",
   "metadata": {},
   "outputs": [
    {
     "data": {
      "text/plain": [
       "array([1., 1., 1., 1., 1., 1., 1., 1., 1., 1.])"
      ]
     },
     "execution_count": 53,
     "metadata": {},
     "output_type": "execute_result"
    }
   ],
   "source": [
    "spl2 = np.ones(10) #function ones create one values\n",
    "spl2"
   ]
  },
  {
   "cell_type": "code",
   "execution_count": 54,
   "id": "da24e55b",
   "metadata": {},
   "outputs": [
    {
     "data": {
      "text/plain": [
       "array([[1., 1., 1., 1.],\n",
       "       [1., 1., 1., 1.],\n",
       "       [1., 1., 1., 1.]])"
      ]
     },
     "execution_count": 54,
     "metadata": {},
     "output_type": "execute_result"
    }
   ],
   "source": [
    "spl3 = np.ones((3,4))\n",
    "spl3"
   ]
  },
  {
   "cell_type": "code",
   "execution_count": 55,
   "id": "423509ab",
   "metadata": {},
   "outputs": [
    {
     "data": {
      "text/plain": [
       "array([[[1, 1, 1, 1],\n",
       "        [1, 1, 1, 1],\n",
       "        [1, 1, 1, 1]],\n",
       "\n",
       "       [[1, 1, 1, 1],\n",
       "        [1, 1, 1, 1],\n",
       "        [1, 1, 1, 1]]], dtype=int16)"
      ]
     },
     "execution_count": 55,
     "metadata": {},
     "output_type": "execute_result"
    }
   ],
   "source": [
    "spl4=np.ones((2,3,4), dtype=np.int16)\n",
    "spl4"
   ]
  },
  {
   "cell_type": "markdown",
   "id": "71fc1cf9",
   "metadata": {},
   "source": [
    "## 3.Random matrix"
   ]
  },
  {
   "cell_type": "code",
   "execution_count": 56,
   "id": "c17a0534",
   "metadata": {},
   "outputs": [
    {
     "data": {
      "text/plain": [
       "array([[ 3,  0,  5],\n",
       "       [ 0, 10,  0]])"
      ]
     },
     "execution_count": 56,
     "metadata": {},
     "output_type": "execute_result"
    }
   ],
   "source": [
    "np.empty((2,3), dtype=np.int32)  # can also regular int"
   ]
  },
  {
   "cell_type": "code",
   "execution_count": 57,
   "id": "3692dd80",
   "metadata": {},
   "outputs": [
    {
     "data": {
      "text/plain": [
       "array([   1.,   10.,  100., 1000.])"
      ]
     },
     "execution_count": 57,
     "metadata": {},
     "output_type": "execute_result"
    }
   ],
   "source": [
    "np.logspace(0,3,4)  #10^0 to 10^3 with 4 values"
   ]
  },
  {
   "cell_type": "markdown",
   "id": "cb5bc38c",
   "metadata": {},
   "source": [
    "## range is arange in numpy"
   ]
  },
  {
   "cell_type": "code",
   "execution_count": 58,
   "id": "ae24eeae",
   "metadata": {},
   "outputs": [
    {
     "data": {
      "text/plain": [
       "array([10, 15, 20, 25])"
      ]
     },
     "execution_count": 58,
     "metadata": {},
     "output_type": "execute_result"
    }
   ],
   "source": [
    "np.arange(10, 30, 5) #works like range. 5 is interval here"
   ]
  },
  {
   "cell_type": "code",
   "execution_count": 59,
   "id": "24ba3bc2",
   "metadata": {},
   "outputs": [
    {
     "data": {
      "text/plain": [
       "array([10.3, 12.8, 15.3, 17.8])"
      ]
     },
     "execution_count": 59,
     "metadata": {},
     "output_type": "execute_result"
    }
   ],
   "source": [
    "np.arange(10.3, 20.2, 2.5)"
   ]
  },
  {
   "cell_type": "markdown",
   "id": "8e00eb21",
   "metadata": {},
   "source": [
    "## linspace"
   ]
  },
  {
   "cell_type": "code",
   "execution_count": 60,
   "id": "023ea086",
   "metadata": {},
   "outputs": [
    {
     "data": {
      "text/plain": [
       "array([0.   , 0.375, 0.75 , 1.125, 1.5  , 1.875, 2.25 , 2.625, 3.   ])"
      ]
     },
     "execution_count": 60,
     "metadata": {},
     "output_type": "execute_result"
    }
   ],
   "source": [
    "np.linspace(0, 3, 9) # fetch 9 number between 0 and 3. It includes 3"
   ]
  },
  {
   "cell_type": "code",
   "execution_count": 61,
   "id": "be761b44",
   "metadata": {},
   "outputs": [
    {
     "data": {
      "text/plain": [
       "array([0.        , 0.6981317 , 1.3962634 , 2.0943951 , 2.7925268 ,\n",
       "       3.4906585 , 4.1887902 , 4.88692191, 5.58505361, 6.28318531])"
      ]
     },
     "execution_count": 61,
     "metadata": {},
     "output_type": "execute_result"
    }
   ],
   "source": [
    "from numpy import pi\n",
    "x = np.linspace(0,2*pi,10)\n",
    "x"
   ]
  },
  {
   "cell_type": "code",
   "execution_count": 62,
   "id": "16743bd5",
   "metadata": {},
   "outputs": [
    {
     "data": {
      "text/plain": [
       "array([ 0.00000000e+00,  6.42787610e-01,  9.84807753e-01,  8.66025404e-01,\n",
       "        3.42020143e-01, -3.42020143e-01, -8.66025404e-01, -9.84807753e-01,\n",
       "       -6.42787610e-01, -2.44929360e-16])"
      ]
     },
     "execution_count": 62,
     "metadata": {},
     "output_type": "execute_result"
    }
   ],
   "source": [
    "np.sin(x)"
   ]
  },
  {
   "cell_type": "markdown",
   "id": "280a08ec",
   "metadata": {},
   "source": [
    "## Random"
   ]
  },
  {
   "cell_type": "markdown",
   "id": "fdc19535",
   "metadata": {},
   "source": [
    "## rand"
   ]
  },
  {
   "cell_type": "code",
   "execution_count": 63,
   "id": "94f83da5",
   "metadata": {},
   "outputs": [
    {
     "data": {
      "text/plain": [
       "array([[0.23167173, 0.91476054],\n",
       "       [0.39209147, 0.89781165],\n",
       "       [0.68618179, 0.67331457]])"
      ]
     },
     "execution_count": 63,
     "metadata": {},
     "output_type": "execute_result"
    }
   ],
   "source": [
    "np.random.rand(3,2) # gives random number from [0,1)"
   ]
  },
  {
   "cell_type": "markdown",
   "id": "51c7cfb2",
   "metadata": {},
   "source": [
    "## randint"
   ]
  },
  {
   "cell_type": "code",
   "execution_count": 64,
   "id": "d8440628",
   "metadata": {},
   "outputs": [
    {
     "data": {
      "text/plain": [
       "array([7, 9, 2, 1, 9, 2, 5, 7, 8, 9])"
      ]
     },
     "execution_count": 64,
     "metadata": {},
     "output_type": "execute_result"
    }
   ],
   "source": [
    "np.random.randint(0,10, size=10)  # gets 10 random number in range [0,10)"
   ]
  },
  {
   "cell_type": "code",
   "execution_count": 65,
   "id": "64c3b7a2",
   "metadata": {},
   "outputs": [
    {
     "data": {
      "text/plain": [
       "array([2, 2, 8, 5, 6, 4, 8, 5, 7, 7])"
      ]
     },
     "execution_count": 65,
     "metadata": {},
     "output_type": "execute_result"
    }
   ],
   "source": [
    "np.random.randint(10, size=10) # if nothing is given, it will take it as highest number and low as 0"
   ]
  },
  {
   "cell_type": "code",
   "execution_count": 66,
   "id": "12dc464c",
   "metadata": {},
   "outputs": [
    {
     "data": {
      "text/plain": [
       "array([[4, 9, 6, 7],\n",
       "       [0, 7, 7, 4]])"
      ]
     },
     "execution_count": 66,
     "metadata": {},
     "output_type": "execute_result"
    }
   ],
   "source": [
    "np.random.randint(10, size=(2, 4))  #creates 2*4 array"
   ]
  },
  {
   "cell_type": "code",
   "execution_count": 67,
   "id": "6f7668e0",
   "metadata": {},
   "outputs": [
    {
     "data": {
      "text/plain": [
       "array([2, 1, 9])"
      ]
     },
     "execution_count": 67,
     "metadata": {},
     "output_type": "execute_result"
    }
   ],
   "source": [
    "np.random.randint(1, [3, 5, 10]) #Generate a 1 by 3 array with 3 different lower bounds. 1st value <3, 2nd value<5 ..."
   ]
  },
  {
   "cell_type": "markdown",
   "id": "94e1189c",
   "metadata": {},
   "source": [
    "## randn"
   ]
  },
  {
   "cell_type": "code",
   "execution_count": 68,
   "id": "754d3706",
   "metadata": {},
   "outputs": [
    {
     "data": {
      "text/plain": [
       "1.3054863777509378"
      ]
     },
     "execution_count": 68,
     "metadata": {},
     "output_type": "execute_result"
    }
   ],
   "source": [
    "np.random.randn() #fetch values from std normal distribution"
   ]
  },
  {
   "cell_type": "markdown",
   "id": "8091f332",
   "metadata": {},
   "source": [
    "For random samples from N(mu,sigma) use:\n",
    "\n",
    "sigma * np.random.randn(...) + mu"
   ]
  },
  {
   "cell_type": "code",
   "execution_count": 69,
   "id": "f3ae45f4",
   "metadata": {},
   "outputs": [
    {
     "data": {
      "text/plain": [
       "array([[ 1.484074  ,  2.77021232,  1.20822117,  2.89560029],\n",
       "       [-1.25369541,  2.87024244,  2.27317431,  3.60292285]])"
      ]
     },
     "execution_count": 69,
     "metadata": {},
     "output_type": "execute_result"
    }
   ],
   "source": [
    "3 + 2.2 * np.random.randn(2,4)  #for N(3,2.2) in 2,4 array"
   ]
  },
  {
   "cell_type": "markdown",
   "id": "628f933b",
   "metadata": {},
   "source": [
    "## Reshape"
   ]
  },
  {
   "cell_type": "code",
   "execution_count": 70,
   "id": "a17ee6ef",
   "metadata": {},
   "outputs": [
    {
     "data": {
      "text/plain": [
       "array([[ 0,  1,  2],\n",
       "       [ 3,  4,  5],\n",
       "       [ 6,  7,  8],\n",
       "       [ 9, 10, 11]])"
      ]
     },
     "execution_count": 70,
     "metadata": {},
     "output_type": "execute_result"
    }
   ],
   "source": [
    "np.arange(12).reshape(4,3)"
   ]
  },
  {
   "cell_type": "code",
   "execution_count": 71,
   "id": "9b093f15",
   "metadata": {},
   "outputs": [
    {
     "data": {
      "text/plain": [
       "array([[[ 0,  1,  2,  3],\n",
       "        [ 4,  5,  6,  7],\n",
       "        [ 8,  9, 10, 11]],\n",
       "\n",
       "       [[12, 13, 14, 15],\n",
       "        [16, 17, 18, 19],\n",
       "        [20, 21, 22, 23]]])"
      ]
     },
     "execution_count": 71,
     "metadata": {},
     "output_type": "execute_result"
    }
   ],
   "source": [
    "np.arange(24).reshape(2,3,4)"
   ]
  },
  {
   "cell_type": "code",
   "execution_count": 72,
   "id": "d77d9c38",
   "metadata": {},
   "outputs": [
    {
     "data": {
      "text/plain": [
       "array([[ 0,  1,  2,  3,  4,  5,  6,  7,  8,  9],\n",
       "       [10, 11, 12, 13, 14, 15, 16, 17, 18, 19],\n",
       "       [20, 21, 22, 23, 24, 25, 26, 27, 28, 29],\n",
       "       [30, 31, 32, 33, 34, 35, 36, 37, 38, 39],\n",
       "       [40, 41, 42, 43, 44, 45, 46, 47, 48, 49],\n",
       "       [50, 51, 52, 53, 54, 55, 56, 57, 58, 59],\n",
       "       [60, 61, 62, 63, 64, 65, 66, 67, 68, 69],\n",
       "       [70, 71, 72, 73, 74, 75, 76, 77, 78, 79],\n",
       "       [80, 81, 82, 83, 84, 85, 86, 87, 88, 89],\n",
       "       [90, 91, 92, 93, 94, 95, 96, 97, 98, 99]])"
      ]
     },
     "execution_count": 72,
     "metadata": {},
     "output_type": "execute_result"
    }
   ],
   "source": [
    "\n",
    "np.arange(100).reshape(10,10)  #reshape by rows"
   ]
  },
  {
   "cell_type": "code",
   "execution_count": 73,
   "id": "7dd70fd6",
   "metadata": {},
   "outputs": [
    {
     "data": {
      "text/plain": [
       "array([[ 0, 10, 20, 30, 40, 50, 60, 70, 80, 90],\n",
       "       [ 1, 11, 21, 31, 41, 51, 61, 71, 81, 91],\n",
       "       [ 2, 12, 22, 32, 42, 52, 62, 72, 82, 92],\n",
       "       [ 3, 13, 23, 33, 43, 53, 63, 73, 83, 93],\n",
       "       [ 4, 14, 24, 34, 44, 54, 64, 74, 84, 94],\n",
       "       [ 5, 15, 25, 35, 45, 55, 65, 75, 85, 95],\n",
       "       [ 6, 16, 26, 36, 46, 56, 66, 76, 86, 96],\n",
       "       [ 7, 17, 27, 37, 47, 57, 67, 77, 87, 97],\n",
       "       [ 8, 18, 28, 38, 48, 58, 68, 78, 88, 98],\n",
       "       [ 9, 19, 29, 39, 49, 59, 69, 79, 89, 99]])"
      ]
     },
     "execution_count": 73,
     "metadata": {},
     "output_type": "execute_result"
    }
   ],
   "source": [
    "np.arange(100).reshape(10, 10, order='F') #reshape by columns"
   ]
  },
  {
   "cell_type": "markdown",
   "id": "043d842f",
   "metadata": {},
   "source": [
    "## Three numbers in reshape"
   ]
  },
  {
   "cell_type": "code",
   "execution_count": 74,
   "id": "6afbe65f",
   "metadata": {},
   "outputs": [
    {
     "data": {
      "text/plain": [
       "array([[[ 0,  1],\n",
       "        [ 2,  3],\n",
       "        [ 4,  5],\n",
       "        [ 6,  7]],\n",
       "\n",
       "       [[ 8,  9],\n",
       "        [10, 11],\n",
       "        [12, 13],\n",
       "        [14, 15]],\n",
       "\n",
       "       [[16, 17],\n",
       "        [18, 19],\n",
       "        [20, 21],\n",
       "        [22, 23]]])"
      ]
     },
     "execution_count": 74,
     "metadata": {},
     "output_type": "execute_result"
    }
   ],
   "source": [
    "rr = np.arange(24)\n",
    "#rr.reshape(3,4) will give error because it has 24 elements\n",
    "rr1 = rr.reshape(3,4,2) # # 3 means it will have 3 parent list that has a structure of (4, 2)\n",
    "rr1"
   ]
  },
  {
   "cell_type": "code",
   "execution_count": 75,
   "id": "f2c9cb71",
   "metadata": {},
   "outputs": [
    {
     "data": {
      "text/plain": [
       "3"
      ]
     },
     "execution_count": 75,
     "metadata": {},
     "output_type": "execute_result"
    }
   ],
   "source": [
    "rr1.ndim # reshape with 3 values has three dim"
   ]
  },
  {
   "cell_type": "markdown",
   "id": "59373828",
   "metadata": {},
   "source": [
    "## Dim"
   ]
  },
  {
   "cell_type": "code",
   "execution_count": 76,
   "id": "e21f00df",
   "metadata": {},
   "outputs": [
    {
     "data": {
      "text/plain": [
       "array([ 0,  1,  2,  3,  4,  5,  6,  7,  8,  9, 10, 11, 12, 13, 14, 15])"
      ]
     },
     "execution_count": 76,
     "metadata": {},
     "output_type": "execute_result"
    }
   ],
   "source": [
    "ww = np.arange(16)\n",
    "ww  #Note that there is single bracket."
   ]
  },
  {
   "cell_type": "code",
   "execution_count": 77,
   "id": "fb35ec5a",
   "metadata": {},
   "outputs": [
    {
     "data": {
      "text/plain": [
       "(16,)"
      ]
     },
     "execution_count": 77,
     "metadata": {},
     "output_type": "execute_result"
    }
   ],
   "source": [
    "ww.shape"
   ]
  },
  {
   "cell_type": "code",
   "execution_count": 78,
   "id": "26cf835b",
   "metadata": {},
   "outputs": [
    {
     "data": {
      "text/plain": [
       "array([[ 0,  1,  2,  3,  4,  5,  6,  7,  8,  9, 10, 11, 12, 13, 14, 15]])"
      ]
     },
     "execution_count": 78,
     "metadata": {},
     "output_type": "execute_result"
    }
   ],
   "source": [
    "ww1 = ww.reshape(1, -1)\n",
    "ww1  #Note that there is double bracket."
   ]
  },
  {
   "cell_type": "code",
   "execution_count": 79,
   "id": "af419df4",
   "metadata": {},
   "outputs": [
    {
     "data": {
      "text/plain": [
       "(1, 16)"
      ]
     },
     "execution_count": 79,
     "metadata": {},
     "output_type": "execute_result"
    }
   ],
   "source": [
    "ww1.shape"
   ]
  },
  {
   "cell_type": "code",
   "execution_count": 80,
   "id": "9f942a7e",
   "metadata": {},
   "outputs": [
    {
     "data": {
      "text/plain": [
       "array([[ 0,  1,  2,  3],\n",
       "       [ 4,  5,  6,  7],\n",
       "       [ 8,  9, 10, 11],\n",
       "       [12, 13, 14, 15]])"
      ]
     },
     "execution_count": 80,
     "metadata": {},
     "output_type": "execute_result"
    }
   ],
   "source": [
    "ww2 = ww.reshape(4,4)\n",
    "ww2"
   ]
  },
  {
   "cell_type": "code",
   "execution_count": 81,
   "id": "dbc59a78",
   "metadata": {},
   "outputs": [
    {
     "data": {
      "text/plain": [
       "(4, 4)"
      ]
     },
     "execution_count": 81,
     "metadata": {},
     "output_type": "execute_result"
    }
   ],
   "source": [
    "ww2.shape"
   ]
  },
  {
   "cell_type": "code",
   "execution_count": 82,
   "id": "46c3efbb",
   "metadata": {},
   "outputs": [
    {
     "data": {
      "text/plain": [
       "2"
      ]
     },
     "execution_count": 82,
     "metadata": {},
     "output_type": "execute_result"
    }
   ],
   "source": [
    "ww2.ndim  #reshape with 2 values has 2 dimension"
   ]
  },
  {
   "cell_type": "markdown",
   "id": "14633349",
   "metadata": {},
   "source": [
    "## Reshaping"
   ]
  },
  {
   "cell_type": "code",
   "execution_count": 83,
   "id": "24736db2",
   "metadata": {
    "scrolled": true
   },
   "outputs": [
    {
     "data": {
      "text/plain": [
       "array([[ 0,  1,  2,  3],\n",
       "       [ 4,  5,  6,  7],\n",
       "       [ 8,  9, 10, 11],\n",
       "       [12, 13, 14, 15],\n",
       "       [16, 17, 18, 19]])"
      ]
     },
     "execution_count": 83,
     "metadata": {},
     "output_type": "execute_result"
    }
   ],
   "source": [
    "k = np.arange(20).reshape(5,4)\n",
    "k"
   ]
  },
  {
   "cell_type": "code",
   "execution_count": 84,
   "id": "81aa6978",
   "metadata": {},
   "outputs": [
    {
     "data": {
      "text/plain": [
       "array([[ 0,  1,  2,  3,  4,  5,  6,  7,  8,  9],\n",
       "       [10, 11, 12, 13, 14, 15, 16, 17, 18, 19]])"
      ]
     },
     "execution_count": 84,
     "metadata": {},
     "output_type": "execute_result"
    }
   ],
   "source": [
    "k.reshape(2,10)"
   ]
  },
  {
   "cell_type": "code",
   "execution_count": 85,
   "id": "946fc32a",
   "metadata": {},
   "outputs": [
    {
     "data": {
      "text/plain": [
       "array([[ 0,  1,  2,  3,  4],\n",
       "       [ 5,  6,  7,  8,  9],\n",
       "       [10, 11, 12, 13, 14],\n",
       "       [15, 16, 17, 18, 19]])"
      ]
     },
     "execution_count": 85,
     "metadata": {},
     "output_type": "execute_result"
    }
   ],
   "source": [
    "k.reshape((4,5))"
   ]
  },
  {
   "cell_type": "code",
   "execution_count": 86,
   "id": "14657473",
   "metadata": {},
   "outputs": [
    {
     "data": {
      "text/plain": [
       "array([[ 0,  1,  2,  3],\n",
       "       [ 4,  5,  6,  7],\n",
       "       [ 8,  9, 10, 11],\n",
       "       [12, 13, 14, 15],\n",
       "       [16, 17, 18, 19]])"
      ]
     },
     "execution_count": 86,
     "metadata": {},
     "output_type": "execute_result"
    }
   ],
   "source": [
    "k.reshape(5,-1) #having -1 will reshapes the another dimension automatically"
   ]
  },
  {
   "cell_type": "markdown",
   "id": "f70ceed7",
   "metadata": {},
   "source": [
    "## Transpose"
   ]
  },
  {
   "cell_type": "code",
   "execution_count": 87,
   "id": "ef94b1bf",
   "metadata": {},
   "outputs": [
    {
     "data": {
      "text/plain": [
       "array([[ 0,  4,  8, 12, 16],\n",
       "       [ 1,  5,  9, 13, 17],\n",
       "       [ 2,  6, 10, 14, 18],\n",
       "       [ 3,  7, 11, 15, 19]])"
      ]
     },
     "execution_count": 87,
     "metadata": {},
     "output_type": "execute_result"
    }
   ],
   "source": [
    "k.T"
   ]
  },
  {
   "cell_type": "markdown",
   "id": "3b98c89c",
   "metadata": {},
   "source": [
    "## flatten"
   ]
  },
  {
   "cell_type": "code",
   "execution_count": 88,
   "id": "98b84d5c",
   "metadata": {},
   "outputs": [
    {
     "data": {
      "text/plain": [
       "array([ 0,  1,  2,  3,  4,  5,  6,  7,  8,  9, 10, 11, 12, 13, 14, 15, 16,\n",
       "       17, 18, 19])"
      ]
     },
     "execution_count": 88,
     "metadata": {},
     "output_type": "execute_result"
    }
   ],
   "source": [
    "arr32 = k.flatten() #converts to single row\n",
    "arr32"
   ]
  },
  {
   "cell_type": "code",
   "execution_count": 89,
   "id": "7db5d3df",
   "metadata": {},
   "outputs": [
    {
     "data": {
      "text/plain": [
       "array([ 0,  1,  2,  3,  4,  5,  6,  7,  8,  9, 10, 11, 12, 13, 14, 15, 16,\n",
       "       17, 18, 19])"
      ]
     },
     "execution_count": 89,
     "metadata": {},
     "output_type": "execute_result"
    }
   ],
   "source": [
    "arr33 = k.ravel() #same as flatten\n",
    "arr33"
   ]
  },
  {
   "cell_type": "markdown",
   "id": "0a6c05ee",
   "metadata": {},
   "source": [
    "## Floor"
   ]
  },
  {
   "cell_type": "code",
   "execution_count": 90,
   "id": "f6978ae9",
   "metadata": {},
   "outputs": [
    {
     "data": {
      "text/plain": [
       "array([-2., -2., -1.,  0.,  1.,  1.,  2.])"
      ]
     },
     "execution_count": 90,
     "metadata": {},
     "output_type": "execute_result"
    }
   ],
   "source": [
    "l = np.array([-1.7, -1.5, -0.2, 0.2, 1.5, 1.7, 2.0]) # Greatest integer\n",
    "np.floor(l)"
   ]
  },
  {
   "cell_type": "markdown",
   "id": "3ede5d7d",
   "metadata": {},
   "source": [
    "## Basic Operations"
   ]
  },
  {
   "cell_type": "code",
   "execution_count": 91,
   "id": "c7af7560",
   "metadata": {},
   "outputs": [
    {
     "data": {
      "text/plain": [
       "array([20, 29, 38, 47])"
      ]
     },
     "execution_count": 91,
     "metadata": {},
     "output_type": "execute_result"
    }
   ],
   "source": [
    "a = np.array([20,30,40,50])\n",
    "b = np.arange(4)\n",
    "c = a - b\n",
    "c"
   ]
  },
  {
   "cell_type": "code",
   "execution_count": 92,
   "id": "4d71ed3b",
   "metadata": {},
   "outputs": [
    {
     "data": {
      "text/plain": [
       "array([0, 1, 4, 9], dtype=int32)"
      ]
     },
     "execution_count": 92,
     "metadata": {},
     "output_type": "execute_result"
    }
   ],
   "source": [
    "b**2 "
   ]
  },
  {
   "cell_type": "code",
   "execution_count": 93,
   "id": "50fef7ad",
   "metadata": {},
   "outputs": [
    {
     "data": {
      "text/plain": [
       "array([False, False, False, False])"
      ]
     },
     "execution_count": 93,
     "metadata": {},
     "output_type": "execute_result"
    }
   ],
   "source": [
    "c<10"
   ]
  },
  {
   "cell_type": "markdown",
   "id": "2fac6534",
   "metadata": {},
   "source": [
    "## Multiplication"
   ]
  },
  {
   "cell_type": "markdown",
   "id": "b3191bcf",
   "metadata": {},
   "source": [
    "1. Element wise product"
   ]
  },
  {
   "cell_type": "code",
   "execution_count": 94,
   "id": "08998ee0",
   "metadata": {},
   "outputs": [
    {
     "data": {
      "text/plain": [
       "array([[ 10,  60],\n",
       "       [ 40, 120]])"
      ]
     },
     "execution_count": 94,
     "metadata": {},
     "output_type": "execute_result"
    }
   ],
   "source": [
    "s = np.array([[1,3],\n",
    "             [2,4]])\n",
    "d = np.array([[10,20],\n",
    "             [20,30]])\n",
    "s * d"
   ]
  },
  {
   "cell_type": "markdown",
   "id": "eafd19ee",
   "metadata": {},
   "source": [
    "2. Matrix multiplication"
   ]
  },
  {
   "cell_type": "code",
   "execution_count": 95,
   "id": "104af842",
   "metadata": {},
   "outputs": [
    {
     "data": {
      "text/plain": [
       "array([[ 70, 110],\n",
       "       [100, 160]])"
      ]
     },
     "execution_count": 95,
     "metadata": {},
     "output_type": "execute_result"
    }
   ],
   "source": [
    "s @ d"
   ]
  },
  {
   "cell_type": "code",
   "execution_count": 96,
   "id": "631a1b71",
   "metadata": {},
   "outputs": [
    {
     "data": {
      "text/plain": [
       "array([[ 70, 110],\n",
       "       [100, 160]])"
      ]
     },
     "execution_count": 96,
     "metadata": {},
     "output_type": "execute_result"
    }
   ],
   "source": [
    "s .dot(d) #another way of matrix multiplication"
   ]
  },
  {
   "cell_type": "markdown",
   "id": "feb4a782",
   "metadata": {},
   "source": [
    "## array is memoryless"
   ]
  },
  {
   "cell_type": "code",
   "execution_count": 97,
   "id": "8420fc97",
   "metadata": {},
   "outputs": [
    {
     "data": {
      "text/plain": [
       "array([[3, 3, 3],\n",
       "       [3, 3, 3]])"
      ]
     },
     "execution_count": 97,
     "metadata": {},
     "output_type": "execute_result"
    }
   ],
   "source": [
    "q = np.ones((2,3), dtype=int)\n",
    "w = np.random.random((2,3)) # returns value from interval [0,1)\n",
    "q*=3\n",
    "q"
   ]
  },
  {
   "cell_type": "code",
   "execution_count": 98,
   "id": "6349088d",
   "metadata": {},
   "outputs": [
    {
     "data": {
      "text/plain": [
       "array([[3.92138895, 3.74668906, 3.68082124],\n",
       "       [3.22480041, 3.98407556, 3.73100438]])"
      ]
     },
     "execution_count": 98,
     "metadata": {},
     "output_type": "execute_result"
    }
   ],
   "source": [
    "w += q\n",
    "w"
   ]
  },
  {
   "cell_type": "code",
   "execution_count": 99,
   "id": "5479f813",
   "metadata": {},
   "outputs": [
    {
     "data": {
      "text/plain": [
       "array([[ 0,  1,  2,  3,  4,  5],\n",
       "       [ 6,  7,  8,  9, 10, 11],\n",
       "       [12, 13, 14, 15, 16, 17],\n",
       "       [18, 19, 20, 21, 22, 23]])"
      ]
     },
     "execution_count": 99,
     "metadata": {},
     "output_type": "execute_result"
    }
   ],
   "source": [
    "e = np.arange(24).reshape(4,6)\n",
    "e"
   ]
  },
  {
   "cell_type": "markdown",
   "id": "04bc42d8",
   "metadata": {},
   "source": [
    "## basic functions"
   ]
  },
  {
   "cell_type": "code",
   "execution_count": 100,
   "id": "8445cdc9",
   "metadata": {},
   "outputs": [
    {
     "data": {
      "text/plain": [
       "276"
      ]
     },
     "execution_count": 100,
     "metadata": {},
     "output_type": "execute_result"
    }
   ],
   "source": [
    "e.sum() #total sum"
   ]
  },
  {
   "cell_type": "code",
   "execution_count": 101,
   "id": "4f79703a",
   "metadata": {},
   "outputs": [
    {
     "data": {
      "text/plain": [
       "0"
      ]
     },
     "execution_count": 101,
     "metadata": {},
     "output_type": "execute_result"
    }
   ],
   "source": [
    "e.min()"
   ]
  },
  {
   "cell_type": "code",
   "execution_count": 102,
   "id": "746fce54",
   "metadata": {},
   "outputs": [
    {
     "data": {
      "text/plain": [
       "0"
      ]
     },
     "execution_count": 102,
     "metadata": {},
     "output_type": "execute_result"
    }
   ],
   "source": [
    "e.argmin() #gives index position. In this example index and values are same"
   ]
  },
  {
   "cell_type": "code",
   "execution_count": 103,
   "id": "18f09a31",
   "metadata": {},
   "outputs": [
    {
     "data": {
      "text/plain": [
       "23"
      ]
     },
     "execution_count": 103,
     "metadata": {},
     "output_type": "execute_result"
    }
   ],
   "source": [
    "e.max()"
   ]
  },
  {
   "cell_type": "code",
   "execution_count": 104,
   "id": "1128106d",
   "metadata": {},
   "outputs": [
    {
     "data": {
      "text/plain": [
       "23"
      ]
     },
     "execution_count": 104,
     "metadata": {},
     "output_type": "execute_result"
    }
   ],
   "source": [
    "e.argmax() #gives index position. In this example index and values are same"
   ]
  },
  {
   "cell_type": "code",
   "execution_count": 105,
   "id": "6cb7ddb0",
   "metadata": {},
   "outputs": [
    {
     "data": {
      "text/plain": [
       "array([36, 40, 44, 48, 52, 56])"
      ]
     },
     "execution_count": 105,
     "metadata": {},
     "output_type": "execute_result"
    }
   ],
   "source": [
    "e.sum(axis=0) #add columns"
   ]
  },
  {
   "cell_type": "code",
   "execution_count": 106,
   "id": "8307c7c4",
   "metadata": {},
   "outputs": [
    {
     "data": {
      "text/plain": [
       "array([ 15,  51,  87, 123])"
      ]
     },
     "execution_count": 106,
     "metadata": {},
     "output_type": "execute_result"
    }
   ],
   "source": [
    "e.sum(axis=1) #add rows"
   ]
  },
  {
   "cell_type": "code",
   "execution_count": 107,
   "id": "91427703",
   "metadata": {},
   "outputs": [
    {
     "data": {
      "text/plain": [
       "array([0, 1, 2, 3, 4, 5])"
      ]
     },
     "execution_count": 107,
     "metadata": {},
     "output_type": "execute_result"
    }
   ],
   "source": [
    "e.min(axis=0) #mini of each columns"
   ]
  },
  {
   "cell_type": "code",
   "execution_count": 108,
   "id": "9e1e4340",
   "metadata": {},
   "outputs": [
    {
     "data": {
      "text/plain": [
       "array([[  0,   1,   3,   6,  10,  15],\n",
       "       [  6,  13,  21,  30,  40,  51],\n",
       "       [ 12,  25,  39,  54,  70,  87],\n",
       "       [ 18,  37,  57,  78, 100, 123]], dtype=int32)"
      ]
     },
     "execution_count": 108,
     "metadata": {},
     "output_type": "execute_result"
    }
   ],
   "source": [
    "e.cumsum(axis=1) # cummulative sum along each row"
   ]
  },
  {
   "cell_type": "code",
   "execution_count": 109,
   "id": "857d2d86",
   "metadata": {},
   "outputs": [
    {
     "data": {
      "text/plain": [
       "array([[1.00000000e+00, 2.71828183e+00, 7.38905610e+00, 2.00855369e+01,\n",
       "        5.45981500e+01, 1.48413159e+02],\n",
       "       [4.03428793e+02, 1.09663316e+03, 2.98095799e+03, 8.10308393e+03,\n",
       "        2.20264658e+04, 5.98741417e+04],\n",
       "       [1.62754791e+05, 4.42413392e+05, 1.20260428e+06, 3.26901737e+06,\n",
       "        8.88611052e+06, 2.41549528e+07],\n",
       "       [6.56599691e+07, 1.78482301e+08, 4.85165195e+08, 1.31881573e+09,\n",
       "        3.58491285e+09, 9.74480345e+09]])"
      ]
     },
     "execution_count": 109,
     "metadata": {},
     "output_type": "execute_result"
    }
   ],
   "source": [
    "np.exp(e)"
   ]
  },
  {
   "cell_type": "code",
   "execution_count": 110,
   "id": "5cf6760c",
   "metadata": {},
   "outputs": [
    {
     "data": {
      "text/plain": [
       "array([[0.        , 1.        , 1.41421356, 1.73205081, 2.        ,\n",
       "        2.23606798],\n",
       "       [2.44948974, 2.64575131, 2.82842712, 3.        , 3.16227766,\n",
       "        3.31662479],\n",
       "       [3.46410162, 3.60555128, 3.74165739, 3.87298335, 4.        ,\n",
       "        4.12310563],\n",
       "       [4.24264069, 4.35889894, 4.47213595, 4.58257569, 4.69041576,\n",
       "        4.79583152]])"
      ]
     },
     "execution_count": 110,
     "metadata": {},
     "output_type": "execute_result"
    }
   ],
   "source": [
    "np.sqrt(e)"
   ]
  },
  {
   "cell_type": "markdown",
   "id": "c7bfe4fc",
   "metadata": {},
   "source": [
    "## Indexing, slicing and iterating"
   ]
  },
  {
   "cell_type": "code",
   "execution_count": 111,
   "id": "243ba92c",
   "metadata": {},
   "outputs": [
    {
     "data": {
      "text/plain": [
       "array([ 0,  1,  4,  9, 16, 25, 36, 49, 64, 81], dtype=int32)"
      ]
     },
     "execution_count": 111,
     "metadata": {},
     "output_type": "execute_result"
    }
   ],
   "source": [
    "r = np.arange(10)**2\n",
    "r"
   ]
  },
  {
   "cell_type": "code",
   "execution_count": 112,
   "id": "f8e63b33",
   "metadata": {},
   "outputs": [
    {
     "data": {
      "text/plain": [
       "16"
      ]
     },
     "execution_count": 112,
     "metadata": {},
     "output_type": "execute_result"
    }
   ],
   "source": [
    "r[4]"
   ]
  },
  {
   "cell_type": "code",
   "execution_count": 113,
   "id": "9973ce69",
   "metadata": {},
   "outputs": [
    {
     "data": {
      "text/plain": [
       "array([4, 9], dtype=int32)"
      ]
     },
     "execution_count": 113,
     "metadata": {},
     "output_type": "execute_result"
    }
   ],
   "source": [
    "r[2:4]"
   ]
  },
  {
   "cell_type": "code",
   "execution_count": 114,
   "id": "0e351e08",
   "metadata": {},
   "outputs": [
    {
     "data": {
      "text/plain": [
       "array([ 0,  4, 16], dtype=int32)"
      ]
     },
     "execution_count": 114,
     "metadata": {},
     "output_type": "execute_result"
    }
   ],
   "source": [
    "r[0:6:2]"
   ]
  },
  {
   "cell_type": "code",
   "execution_count": 115,
   "id": "f045f359",
   "metadata": {},
   "outputs": [
    {
     "data": {
      "text/plain": [
       "array([100,   1, 100,   9, 100,  25,  36,  49,  64,  81], dtype=int32)"
      ]
     },
     "execution_count": 115,
     "metadata": {},
     "output_type": "execute_result"
    }
   ],
   "source": [
    "r[0:6:2] = 100\n",
    "r"
   ]
  },
  {
   "cell_type": "code",
   "execution_count": 116,
   "id": "b8e98e56",
   "metadata": {},
   "outputs": [
    {
     "name": "stdout",
     "output_type": "stream",
     "text": [
      "10.0\n",
      "1.0\n",
      "10.0\n",
      "3.0\n",
      "10.0\n",
      "5.0\n",
      "6.0\n",
      "7.0\n",
      "8.0\n",
      "9.0\n"
     ]
    }
   ],
   "source": [
    "for i in r:\n",
    "    print(i**0.5)"
   ]
  },
  {
   "cell_type": "markdown",
   "id": "3c40d43b",
   "metadata": {},
   "source": [
    "## Fetching specific rows"
   ]
  },
  {
   "cell_type": "code",
   "execution_count": 117,
   "id": "51f22ba9",
   "metadata": {},
   "outputs": [
    {
     "data": {
      "text/plain": [
       "array([[ 0,  1,  2,  3],\n",
       "       [ 4,  5,  6,  7],\n",
       "       [ 8,  9, 10, 11],\n",
       "       [12, 13, 14, 15],\n",
       "       [16, 17, 18, 19]])"
      ]
     },
     "execution_count": 117,
     "metadata": {},
     "output_type": "execute_result"
    }
   ],
   "source": [
    "t = np.arange(20).reshape(5,4)\n",
    "t"
   ]
  },
  {
   "cell_type": "code",
   "execution_count": 118,
   "id": "ce84c423",
   "metadata": {},
   "outputs": [
    {
     "data": {
      "text/plain": [
       "array([4, 5, 6, 7])"
      ]
     },
     "execution_count": 118,
     "metadata": {},
     "output_type": "execute_result"
    }
   ],
   "source": [
    "t[1] #print rows"
   ]
  },
  {
   "cell_type": "code",
   "execution_count": 119,
   "id": "943cd641",
   "metadata": {},
   "outputs": [
    {
     "data": {
      "text/plain": [
       "11"
      ]
     },
     "execution_count": 119,
     "metadata": {},
     "output_type": "execute_result"
    }
   ],
   "source": [
    "t[2,3] # third row forurth column"
   ]
  },
  {
   "cell_type": "code",
   "execution_count": 120,
   "id": "96bbd79f",
   "metadata": {},
   "outputs": [
    {
     "data": {
      "text/plain": [
       "array([ 1,  5,  9, 13, 17])"
      ]
     },
     "execution_count": 120,
     "metadata": {},
     "output_type": "execute_result"
    }
   ],
   "source": [
    "t[:,1 ] #print column 2"
   ]
  },
  {
   "cell_type": "code",
   "execution_count": 121,
   "id": "20eb59bf",
   "metadata": {},
   "outputs": [
    {
     "data": {
      "text/plain": [
       "array([ 1,  5,  9, 13])"
      ]
     },
     "execution_count": 121,
     "metadata": {},
     "output_type": "execute_result"
    }
   ],
   "source": [
    "t[0:4, 1] #print 4 values from 2nd column"
   ]
  },
  {
   "cell_type": "code",
   "execution_count": 122,
   "id": "b57bcfdf",
   "metadata": {},
   "outputs": [
    {
     "data": {
      "text/plain": [
       "array([4, 5, 6, 7])"
      ]
     },
     "execution_count": 122,
     "metadata": {},
     "output_type": "execute_result"
    }
   ],
   "source": [
    "t[1,: ] #print row 2"
   ]
  },
  {
   "cell_type": "code",
   "execution_count": 123,
   "id": "3520d96a",
   "metadata": {},
   "outputs": [
    {
     "data": {
      "text/plain": [
       "array([4, 5, 6])"
      ]
     },
     "execution_count": 123,
     "metadata": {},
     "output_type": "execute_result"
    }
   ],
   "source": [
    "t[1, 0:3 ] #print 2 values in every row"
   ]
  },
  {
   "cell_type": "code",
   "execution_count": 124,
   "id": "d10eddb5",
   "metadata": {},
   "outputs": [
    {
     "data": {
      "text/plain": [
       "array([[4, 5],\n",
       "       [8, 9]])"
      ]
     },
     "execution_count": 124,
     "metadata": {},
     "output_type": "execute_result"
    }
   ],
   "source": [
    "t[1:3, 0:2] # print 2 numbers in row 2 and 3 and print 2 numbers in column 0 and 1"
   ]
  },
  {
   "cell_type": "markdown",
   "id": "c12485da",
   "metadata": {},
   "source": [
    "## 3d array(two stacked 2d arrays)"
   ]
  },
  {
   "cell_type": "code",
   "execution_count": 125,
   "id": "e7c33c48",
   "metadata": {},
   "outputs": [
    {
     "data": {
      "text/plain": [
       "array([[[  0,   1,   2],\n",
       "        [ 10,  11,  12]],\n",
       "\n",
       "       [[100, 101, 102],\n",
       "        [110, 112, 113]]])"
      ]
     },
     "execution_count": 125,
     "metadata": {},
     "output_type": "execute_result"
    }
   ],
   "source": [
    "y = np.array([[[0, 1, 2],\n",
    "              [10, 11, 12]],\n",
    "             [[100, 101, 102],\n",
    "             [110, 112, 113]]])\n",
    "y"
   ]
  },
  {
   "cell_type": "code",
   "execution_count": 126,
   "id": "6622cdf5",
   "metadata": {},
   "outputs": [
    {
     "data": {
      "text/plain": [
       "(2, 2, 3)"
      ]
     },
     "execution_count": 126,
     "metadata": {},
     "output_type": "execute_result"
    }
   ],
   "source": [
    "y.shape"
   ]
  },
  {
   "cell_type": "code",
   "execution_count": 127,
   "id": "7d1347f1",
   "metadata": {},
   "outputs": [
    {
     "data": {
      "text/plain": [
       "array([[100, 101, 102],\n",
       "       [110, 112, 113]])"
      ]
     },
     "execution_count": 127,
     "metadata": {},
     "output_type": "execute_result"
    }
   ],
   "source": [
    "y[1,:,:]"
   ]
  },
  {
   "cell_type": "markdown",
   "id": "69126a43",
   "metadata": {},
   "source": [
    "Iterating over multidimensional arrays"
   ]
  },
  {
   "cell_type": "code",
   "execution_count": 128,
   "id": "63623065",
   "metadata": {},
   "outputs": [
    {
     "name": "stdout",
     "output_type": "stream",
     "text": [
      "[[ 0  1  2]\n",
      " [10 11 12]]\n",
      "[[100 101 102]\n",
      " [110 112 113]]\n"
     ]
    }
   ],
   "source": [
    "for i in y:  #prints rows\n",
    "    print(i)\n",
    "    "
   ]
  },
  {
   "cell_type": "code",
   "execution_count": 129,
   "id": "850d2323",
   "metadata": {},
   "outputs": [
    {
     "name": "stdout",
     "output_type": "stream",
     "text": [
      "0\n",
      "1\n",
      "2\n",
      "10\n",
      "11\n",
      "12\n",
      "100\n",
      "101\n",
      "102\n",
      "110\n",
      "112\n",
      "113\n"
     ]
    }
   ],
   "source": [
    "for element in y.flat:  #flat fetches all the values\n",
    "    print(element)"
   ]
  },
  {
   "cell_type": "markdown",
   "id": "223dcc70",
   "metadata": {},
   "source": [
    "## Adding a new axis"
   ]
  },
  {
   "cell_type": "code",
   "execution_count": 130,
   "id": "f863a5d8",
   "metadata": {},
   "outputs": [
    {
     "data": {
      "text/plain": [
       "array([0, 1, 2])"
      ]
     },
     "execution_count": 130,
     "metadata": {},
     "output_type": "execute_result"
    }
   ],
   "source": [
    "p= np.arange(3)\n",
    "p"
   ]
  },
  {
   "cell_type": "code",
   "execution_count": 131,
   "id": "e76be1ea",
   "metadata": {},
   "outputs": [
    {
     "data": {
      "text/plain": [
       "array([[0],\n",
       "       [1],\n",
       "       [2]])"
      ]
     },
     "execution_count": 131,
     "metadata": {},
     "output_type": "execute_result"
    }
   ],
   "source": [
    "p_new = p[:,np.newaxis] #add one dimension\n",
    "p_new"
   ]
  },
  {
   "cell_type": "code",
   "execution_count": 132,
   "id": "9523d278",
   "metadata": {},
   "outputs": [
    {
     "data": {
      "text/plain": [
       "array([[[0]],\n",
       "\n",
       "       [[1]],\n",
       "\n",
       "       [[2]]])"
      ]
     },
     "execution_count": 132,
     "metadata": {},
     "output_type": "execute_result"
    }
   ],
   "source": [
    "p_new = p[:,None,None] # newaxis is none. # two values adds two dimension\n",
    "p_new"
   ]
  },
  {
   "cell_type": "markdown",
   "id": "77b60461",
   "metadata": {},
   "source": [
    "## stacking"
   ]
  },
  {
   "cell_type": "code",
   "execution_count": 133,
   "id": "f3f50a80",
   "metadata": {},
   "outputs": [
    {
     "data": {
      "text/plain": [
       "array([[ 1,  2,  3,  4,  5,  6,  7,  8,  9, 10, 11, 12],\n",
       "       [13, 14, 15, 16, 17, 18, 19, 20, 21, 22, 23, 24]])"
      ]
     },
     "execution_count": 133,
     "metadata": {},
     "output_type": "execute_result"
    }
   ],
   "source": [
    "ee = np.arange(1,13)\n",
    "ff = np.arange(13,25)\n",
    "np.stack((ee,ff)) # horizontal stacking"
   ]
  },
  {
   "cell_type": "code",
   "execution_count": 134,
   "id": "2ad8bc18",
   "metadata": {},
   "outputs": [
    {
     "data": {
      "text/plain": [
       "array([[ 1, 13],\n",
       "       [ 2, 14],\n",
       "       [ 3, 15],\n",
       "       [ 4, 16],\n",
       "       [ 5, 17],\n",
       "       [ 6, 18],\n",
       "       [ 7, 19],\n",
       "       [ 8, 20],\n",
       "       [ 9, 21],\n",
       "       [10, 22],\n",
       "       [11, 23],\n",
       "       [12, 24]])"
      ]
     },
     "execution_count": 134,
     "metadata": {},
     "output_type": "execute_result"
    }
   ],
   "source": [
    "np.stack((ee,ff),axis=1) #vertical stacking"
   ]
  },
  {
   "cell_type": "code",
   "execution_count": 135,
   "id": "9fcdafdb",
   "metadata": {},
   "outputs": [
    {
     "data": {
      "text/plain": [
       "array([[0., 5.],\n",
       "       [8., 5.]])"
      ]
     },
     "execution_count": 135,
     "metadata": {},
     "output_type": "execute_result"
    }
   ],
   "source": [
    "j = np.floor(10*np.random.random((2,2)))\n",
    "j"
   ]
  },
  {
   "cell_type": "code",
   "execution_count": 136,
   "id": "f80e1b0c",
   "metadata": {},
   "outputs": [
    {
     "data": {
      "text/plain": [
       "array([[0., 7.],\n",
       "       [2., 7.]])"
      ]
     },
     "execution_count": 136,
     "metadata": {},
     "output_type": "execute_result"
    }
   ],
   "source": [
    "h = np.floor(10*np.random.random((2,2)))\n",
    "h"
   ]
  },
  {
   "cell_type": "code",
   "execution_count": 137,
   "id": "99554dd7",
   "metadata": {},
   "outputs": [
    {
     "data": {
      "text/plain": [
       "array([[[0., 5.],\n",
       "        [8., 5.]],\n",
       "\n",
       "       [[0., 7.],\n",
       "        [2., 7.]]])"
      ]
     },
     "execution_count": 137,
     "metadata": {},
     "output_type": "execute_result"
    }
   ],
   "source": [
    "np.stack((j,h)) #horizontal stacking"
   ]
  },
  {
   "cell_type": "code",
   "execution_count": 138,
   "id": "29f83fe5",
   "metadata": {},
   "outputs": [
    {
     "data": {
      "text/plain": [
       "array([[[0., 5.],\n",
       "        [0., 7.]],\n",
       "\n",
       "       [[8., 5.],\n",
       "        [2., 7.]]])"
      ]
     },
     "execution_count": 138,
     "metadata": {},
     "output_type": "execute_result"
    }
   ],
   "source": [
    "np.stack((j,h),axis=1) #vertical stacking"
   ]
  },
  {
   "cell_type": "markdown",
   "id": "74842360",
   "metadata": {},
   "source": [
    "## concatenate"
   ]
  },
  {
   "cell_type": "code",
   "execution_count": 139,
   "id": "6bcaf8e9",
   "metadata": {},
   "outputs": [
    {
     "data": {
      "text/plain": [
       "array([[0., 5.],\n",
       "       [8., 5.],\n",
       "       [0., 7.],\n",
       "       [2., 7.]])"
      ]
     },
     "execution_count": 139,
     "metadata": {},
     "output_type": "execute_result"
    }
   ],
   "source": [
    "np.concatenate((j,h),axis=0) #Join a sequence of arrays along an existing axis"
   ]
  },
  {
   "cell_type": "code",
   "execution_count": 140,
   "id": "98d801a4",
   "metadata": {},
   "outputs": [
    {
     "data": {
      "text/plain": [
       "array([[0., 5., 0., 7.],\n",
       "       [8., 5., 2., 7.]])"
      ]
     },
     "execution_count": 140,
     "metadata": {},
     "output_type": "execute_result"
    }
   ],
   "source": [
    "np.concatenate((j,h),axis=1)"
   ]
  },
  {
   "cell_type": "markdown",
   "id": "66554282",
   "metadata": {},
   "source": [
    "## vstack"
   ]
  },
  {
   "cell_type": "code",
   "execution_count": 141,
   "id": "9966c10a",
   "metadata": {},
   "outputs": [
    {
     "data": {
      "text/plain": [
       "array([[0., 5.],\n",
       "       [8., 5.],\n",
       "       [0., 7.],\n",
       "       [2., 7.]])"
      ]
     },
     "execution_count": 141,
     "metadata": {},
     "output_type": "execute_result"
    }
   ],
   "source": [
    "np.vstack((j,h)) #stack in the vertical axis"
   ]
  },
  {
   "cell_type": "markdown",
   "id": "de824516",
   "metadata": {},
   "source": [
    "## hstack"
   ]
  },
  {
   "cell_type": "code",
   "execution_count": 142,
   "id": "5bb46da1",
   "metadata": {},
   "outputs": [
    {
     "data": {
      "text/plain": [
       "array([[0., 5., 0., 7.],\n",
       "       [8., 5., 2., 7.]])"
      ]
     },
     "execution_count": 142,
     "metadata": {},
     "output_type": "execute_result"
    }
   ],
   "source": [
    "np.hstack((j,h)) #stack in the horizontal axis"
   ]
  },
  {
   "cell_type": "markdown",
   "id": "f16457da",
   "metadata": {},
   "source": [
    "## column stack vs hstack"
   ]
  },
  {
   "cell_type": "code",
   "execution_count": 143,
   "id": "8a8f7e6f",
   "metadata": {},
   "outputs": [
    {
     "data": {
      "text/plain": [
       "array([4, 2])"
      ]
     },
     "execution_count": 143,
     "metadata": {},
     "output_type": "execute_result"
    }
   ],
   "source": [
    "m = np.array([4,2])\n",
    "m"
   ]
  },
  {
   "cell_type": "code",
   "execution_count": 144,
   "id": "6a10732c",
   "metadata": {},
   "outputs": [
    {
     "data": {
      "text/plain": [
       "array([3, 1])"
      ]
     },
     "execution_count": 144,
     "metadata": {},
     "output_type": "execute_result"
    }
   ],
   "source": [
    "n = np.array([3,1])\n",
    "n"
   ]
  },
  {
   "cell_type": "code",
   "execution_count": 145,
   "id": "0d84481a",
   "metadata": {},
   "outputs": [
    {
     "data": {
      "text/plain": [
       "array([[4, 3],\n",
       "       [2, 1]])"
      ]
     },
     "execution_count": 145,
     "metadata": {},
     "output_type": "execute_result"
    }
   ],
   "source": [
    "np.column_stack((m,n))  #creates 2d array"
   ]
  },
  {
   "cell_type": "code",
   "execution_count": 146,
   "id": "afc6bd1c",
   "metadata": {},
   "outputs": [
    {
     "data": {
      "text/plain": [
       "array([4, 2, 3, 1])"
      ]
     },
     "execution_count": 146,
     "metadata": {},
     "output_type": "execute_result"
    }
   ],
   "source": [
    "np.hstack((m,n))"
   ]
  },
  {
   "cell_type": "markdown",
   "id": "3fe35b8e",
   "metadata": {},
   "source": [
    "## splitting"
   ]
  },
  {
   "cell_type": "code",
   "execution_count": 147,
   "id": "708c323f",
   "metadata": {},
   "outputs": [
    {
     "data": {
      "text/plain": [
       "array([ 0,  1,  2,  3,  4,  5,  6,  7,  8,  9, 10, 11, 12, 13, 14, 15])"
      ]
     },
     "execution_count": 147,
     "metadata": {},
     "output_type": "execute_result"
    }
   ],
   "source": [
    "b = np.arange(16)\n",
    "b\n"
   ]
  },
  {
   "cell_type": "markdown",
   "id": "3d4d620e",
   "metadata": {},
   "source": [
    "## hsplit"
   ]
  },
  {
   "cell_type": "code",
   "execution_count": 148,
   "id": "47768d1e",
   "metadata": {},
   "outputs": [
    {
     "data": {
      "text/plain": [
       "[array([0, 1, 2, 3]),\n",
       " array([4, 5, 6, 7]),\n",
       " array([ 8,  9, 10, 11]),\n",
       " array([12, 13, 14, 15])]"
      ]
     },
     "execution_count": 148,
     "metadata": {},
     "output_type": "execute_result"
    }
   ],
   "source": [
    "np.hsplit(b,4)  #split b into 3"
   ]
  },
  {
   "cell_type": "code",
   "execution_count": 149,
   "id": "c4786a35",
   "metadata": {},
   "outputs": [
    {
     "data": {
      "text/plain": [
       "[array([0, 1, 2]),\n",
       " array([3]),\n",
       " array([ 4,  5,  6,  7,  8,  9, 10, 11, 12, 13, 14, 15])]"
      ]
     },
     "execution_count": 149,
     "metadata": {},
     "output_type": "execute_result"
    }
   ],
   "source": [
    "np.hsplit(b,(3,4)) # Split a after the third and the fourth column"
   ]
  },
  {
   "cell_type": "code",
   "execution_count": 150,
   "id": "101b44c7",
   "metadata": {},
   "outputs": [
    {
     "data": {
      "text/plain": [
       "array([[ 0,  1,  2,  3],\n",
       "       [ 4,  5,  6,  7],\n",
       "       [ 8,  9, 10, 11],\n",
       "       [12, 13, 14, 15]])"
      ]
     },
     "execution_count": 150,
     "metadata": {},
     "output_type": "execute_result"
    }
   ],
   "source": [
    "b = b.reshape(4,4)\n",
    "b"
   ]
  },
  {
   "cell_type": "markdown",
   "id": "d93a76b2",
   "metadata": {},
   "source": [
    "## vsplit"
   ]
  },
  {
   "cell_type": "code",
   "execution_count": 151,
   "id": "8e1aade9",
   "metadata": {},
   "outputs": [
    {
     "data": {
      "text/plain": [
       "[array([[0, 1, 2, 3]]),\n",
       " array([[4, 5, 6, 7]]),\n",
       " array([[ 8,  9, 10, 11]]),\n",
       " array([[12, 13, 14, 15]])]"
      ]
     },
     "execution_count": 151,
     "metadata": {},
     "output_type": "execute_result"
    }
   ],
   "source": [
    "np.vsplit(b, 4)  #splits vertically"
   ]
  },
  {
   "cell_type": "code",
   "execution_count": 152,
   "id": "a917080b",
   "metadata": {},
   "outputs": [
    {
     "data": {
      "text/plain": [
       "[array([[0, 1, 2, 3],\n",
       "        [4, 5, 6, 7]]),\n",
       " array([[ 8,  9, 10, 11]]),\n",
       " array([[12, 13, 14, 15]])]"
      ]
     },
     "execution_count": 152,
     "metadata": {},
     "output_type": "execute_result"
    }
   ],
   "source": [
    "np.vsplit(b, (2,3)) "
   ]
  },
  {
   "cell_type": "markdown",
   "id": "32f77935",
   "metadata": {},
   "source": [
    "## array_split"
   ]
  },
  {
   "cell_type": "code",
   "execution_count": 153,
   "id": "7655d72f",
   "metadata": {},
   "outputs": [
    {
     "data": {
      "text/plain": [
       "[array([[0, 1, 2, 3],\n",
       "        [4, 5, 6, 7]]),\n",
       " array([[ 8,  9, 10, 11]]),\n",
       " array([[12, 13, 14, 15]])]"
      ]
     },
     "execution_count": 153,
     "metadata": {},
     "output_type": "execute_result"
    }
   ],
   "source": [
    "np.array_split(b, 3)  #array split"
   ]
  },
  {
   "cell_type": "markdown",
   "id": "e90f1015",
   "metadata": {},
   "source": [
    "## Copy"
   ]
  },
  {
   "cell_type": "code",
   "execution_count": 154,
   "id": "110cc2e4",
   "metadata": {},
   "outputs": [
    {
     "data": {
      "text/plain": [
       "array([[ 0,  1,  2,  3],\n",
       "       [ 4,  5,  6,  7],\n",
       "       [ 8,  9, 10, 11]])"
      ]
     },
     "execution_count": 154,
     "metadata": {},
     "output_type": "execute_result"
    }
   ],
   "source": [
    "v = np.arange(12)\n",
    "c = v.copy().reshape(3,4)\n",
    "c"
   ]
  },
  {
   "cell_type": "markdown",
   "id": "51e6b48b",
   "metadata": {},
   "source": [
    "## seed"
   ]
  },
  {
   "cell_type": "code",
   "execution_count": 155,
   "id": "25e6f40c",
   "metadata": {},
   "outputs": [
    {
     "name": "stdout",
     "output_type": "stream",
     "text": [
      "[2 8 4 9 1 6 7 3 0 5]\n",
      "[2 9 6 4 0 3 1 7 8 5]\n",
      "[2 8 4 9 1 6 7 3 0 5]\n",
      "[3 5 1 2 9 8 0 6 7 4]\n",
      "[2 9 6 4 0 3 1 7 8 5]\n"
     ]
    }
   ],
   "source": [
    "np.random.seed(0)        # running seed everytime before random number gives the same random value\n",
    "perm = np.random.permutation(10)\n",
    "print (perm)\n",
    "np.random.seed(1)        #specific seed gives specific value\n",
    "perm = np.random.permutation(10)\n",
    "print(perm)\n",
    "np.random.seed(0) \n",
    "perm = np.random.permutation(10)\n",
    "print (perm)\n",
    "perm = np.random.permutation(10) \n",
    "print(perm)\n",
    "np.random.seed(1) \n",
    "perm = np.random.permutation(10)\n",
    "print(perm)"
   ]
  },
  {
   "cell_type": "markdown",
   "id": "388cba06",
   "metadata": {},
   "source": [
    "## sort"
   ]
  },
  {
   "cell_type": "code",
   "execution_count": 156,
   "id": "acf03aaa",
   "metadata": {},
   "outputs": [
    {
     "data": {
      "text/plain": [
       "array([[0.38791074, 0.66974604, 0.93553907],\n",
       "       [0.84631092, 0.31327352, 0.52454816]])"
      ]
     },
     "execution_count": 156,
     "metadata": {},
     "output_type": "execute_result"
    }
   ],
   "source": [
    "x = np.random.rand(2,3)\n",
    "x"
   ]
  },
  {
   "cell_type": "code",
   "execution_count": 157,
   "id": "b78175c4",
   "metadata": {},
   "outputs": [
    {
     "data": {
      "text/plain": [
       "array([[0.38791074, 0.31327352, 0.52454816],\n",
       "       [0.84631092, 0.66974604, 0.93553907]])"
      ]
     },
     "execution_count": 157,
     "metadata": {},
     "output_type": "execute_result"
    }
   ],
   "source": [
    "np.sort(x,axis=0)"
   ]
  },
  {
   "cell_type": "code",
   "execution_count": 158,
   "id": "6a79fae1",
   "metadata": {},
   "outputs": [
    {
     "data": {
      "text/plain": [
       "array([[0, 1, 2],\n",
       "       [1, 2, 0]], dtype=int64)"
      ]
     },
     "execution_count": 158,
     "metadata": {},
     "output_type": "execute_result"
    }
   ],
   "source": [
    "np.argsort(x,axis=1) #shows the index value to be changed"
   ]
  },
  {
   "cell_type": "markdown",
   "id": "68da3abe",
   "metadata": {},
   "source": [
    "## mgrid"
   ]
  },
  {
   "cell_type": "code",
   "execution_count": 159,
   "id": "bdab8ff8",
   "metadata": {},
   "outputs": [
    {
     "data": {
      "text/plain": [
       "array([[[0, 0, 0, 0, 0],\n",
       "        [1, 1, 1, 1, 1],\n",
       "        [2, 2, 2, 2, 2],\n",
       "        [3, 3, 3, 3, 3],\n",
       "        [4, 4, 4, 4, 4]],\n",
       "\n",
       "       [[0, 1, 2, 3, 4],\n",
       "        [0, 1, 2, 3, 4],\n",
       "        [0, 1, 2, 3, 4],\n",
       "        [0, 1, 2, 3, 4],\n",
       "        [0, 1, 2, 3, 4]]])"
      ]
     },
     "execution_count": 159,
     "metadata": {},
     "output_type": "execute_result"
    }
   ],
   "source": [
    "np.mgrid[0:5,0:5] #creates multidimensional coordinate matrices from coordinate vectors."
   ]
  },
  {
   "cell_type": "markdown",
   "id": "0c6e0bdf",
   "metadata": {},
   "source": [
    "## Conversions"
   ]
  },
  {
   "cell_type": "markdown",
   "id": "26d02e0f",
   "metadata": {},
   "source": [
    "## Astype"
   ]
  },
  {
   "cell_type": "code",
   "execution_count": 160,
   "id": "a1c6b88d",
   "metadata": {},
   "outputs": [
    {
     "data": {
      "text/plain": [
       "array([1, 3, 5])"
      ]
     },
     "execution_count": 160,
     "metadata": {},
     "output_type": "execute_result"
    }
   ],
   "source": [
    "qq = np.array([1,3,5.5]) \n",
    "qq.astype(int)  # converts into specific type\n"
   ]
  },
  {
   "cell_type": "markdown",
   "id": "716cc79e",
   "metadata": {},
   "source": [
    "## atleast_1d"
   ]
  },
  {
   "cell_type": "code",
   "execution_count": 161,
   "id": "7dd4d9ba",
   "metadata": {},
   "outputs": [
    {
     "data": {
      "text/plain": [
       "array([1.])"
      ]
     },
     "execution_count": 161,
     "metadata": {},
     "output_type": "execute_result"
    }
   ],
   "source": [
    "np.atleast_1d(1.0) #Convert inputs to arrays with at least one dimension"
   ]
  },
  {
   "cell_type": "code",
   "execution_count": 162,
   "id": "68e6ee59",
   "metadata": {},
   "outputs": [
    {
     "data": {
      "text/plain": [
       "[array([1]), array([3, 4])]"
      ]
     },
     "execution_count": 162,
     "metadata": {},
     "output_type": "execute_result"
    }
   ],
   "source": [
    "np.atleast_1d(1, [3, 4])"
   ]
  },
  {
   "cell_type": "markdown",
   "id": "59997dee",
   "metadata": {},
   "source": [
    "## atleast_2d"
   ]
  },
  {
   "cell_type": "code",
   "execution_count": 163,
   "id": "9fb4f535",
   "metadata": {},
   "outputs": [
    {
     "data": {
      "text/plain": [
       "array([[3.]])"
      ]
     },
     "execution_count": 163,
     "metadata": {},
     "output_type": "execute_result"
    }
   ],
   "source": [
    "np.atleast_2d(3.0) #views in atleast 2d"
   ]
  },
  {
   "cell_type": "code",
   "execution_count": 164,
   "id": "5dd665c9",
   "metadata": {},
   "outputs": [
    {
     "data": {
      "text/plain": [
       "[array([[1]]), array([[1, 2]]), array([[1, 2]])]"
      ]
     },
     "execution_count": 164,
     "metadata": {},
     "output_type": "execute_result"
    }
   ],
   "source": [
    "np.atleast_2d(1, [1, 2], [[1, 2]])"
   ]
  }
 ],
 "metadata": {
  "kernelspec": {
   "display_name": "Python 3 (ipykernel)",
   "language": "python",
   "name": "python3"
  },
  "language_info": {
   "codemirror_mode": {
    "name": "ipython",
    "version": 3
   },
   "file_extension": ".py",
   "mimetype": "text/x-python",
   "name": "python",
   "nbconvert_exporter": "python",
   "pygments_lexer": "ipython3",
   "version": "3.9.7"
  }
 },
 "nbformat": 4,
 "nbformat_minor": 5
}
