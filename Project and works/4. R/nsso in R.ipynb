{
 "cells": [
  {
   "cell_type": "code",
   "execution_count": 2,
   "id": "2a9becf2",
   "metadata": {},
   "outputs": [],
   "source": [
    "#install.packages(\"readr\")\n",
    "#Install and load required packages\n",
    "library(dplyr);library(ggplot2);library(pollster);library(readr);library(xlsx)\n",
    "library(Hmisc); library(quantreg);library(tidyr); library(cowplot);\n",
    "library(collapse); library(stringr); library(ineq); library(dineq);library(reshape2)\n",
    "library(FactoMineR);library(factoextra);library(psych); library(gridExtra)"
   ]
  },
  {
   "cell_type": "code",
   "execution_count": null,
   "id": "6dcf5fa9",
   "metadata": {},
   "outputs": [],
   "source": [
    "#main extraction of NSSO data is done with the packages 'readr'\n",
    "\n",
    "#Extraction of level 1 from NSSO 77th round\n",
    "Dlevel1<-read_fwf(file=\"D:/NSS data/Nss77/Data/Visit1/r77s331v1L01.txt\",\n",
    "                  fwf_cols(centercd=c(1,3),    fsuslno=c(4,8),\n",
    "                           round=c(9,10),      schedule=c(11,13),\n",
    "                           sample=c(14,14),    sector=c(15,15),\n",
    "                           region=c(16,18),    distcode=c(19,20),\n",
    "                           stratum=c(21,22),   substratum=c(23,24),\n",
    "                           subround=c(25,25),  fod=c(26,29),\n",
    "                           sssno=c(30,30),     hhno=c(31,32),\n",
    "                           visit=c(33,33),     level=c(34,35),\n",
    "                           filler=c(36,40),    infslno=c(41,42),\n",
    "                           responscd=c(43,43), surveycd=c(44,44),\n",
    "                           casualtycd=c(45,45),employcd1=c(46,49),\n",
    "                           employcd2=c(50,53), employcd3=c(54,57),\n",
    "                           sdate=c(58,63),     ddate=c(64,69),\n",
    "                           time=c(70,72),      noinvest=c(73,73),\n",
    "                           remarks1=c(74,74),  remarks2=c(75,75),\n",
    "                           remarks3=c(76,76),  remarks4=c(77,77),\n",
    "                           blank=c(78,126),    nsc=c(127,129),\n",
    "                           mlt=c(130,139)),\n",
    "                  col_types=cols(centercd=col_character(),       fsuslno=col_character(),\n",
    "                                 round=col_integer(),         schedule=col_character(),\n",
    "                                 sample=col_character(),         sector=col_integer(),\n",
    "                                 region=col_character(),    distcode=col_character(),\n",
    "                                 stratum=col_character(),   substratum=col_character(),\n",
    "                                 subround=col_character(),  fod=col_character(),\n",
    "                                 sssno=col_character(),     hhno=col_character(),\n",
    "                                 visit=col_integer(),     level=col_character(),\n",
    "                                 filler=col_character(),    infslno=col_character(),\n",
    "                                 responscd=col_character(), surveycd=col_character(),\n",
    "                                 casualtycd=col_character(), employcd1=col_character(),\n",
    "                                 employcd2=col_character(), employcd3=col_character(),\n",
    "                                 sdate=col_date(),     ddate=col_date(),\n",
    "                                 time=col_character(),      noinvest=col_character(),\n",
    "                                 remarks1=col_character(),  remarks2=col_character(),\n",
    "                                 remarks3=col_character(),  remarks4=col_character(),\n",
    "                                 blank=col_character(),    nsc=col_number(),\n",
    "                                 mlt=col_number()))\n",
    "save(Dlevel1,file=\"Dlevel1.RData\")\n",
    "\n",
    "getwd()"
   ]
  },
  {
   "cell_type": "code",
   "execution_count": null,
   "id": "15064ac7",
   "metadata": {},
   "outputs": [],
   "source": [
    "#Extraction of level 6 from NSSO 77th round\n",
    "Dlevel6<-read_fwf(file=\"D:/NSS data/Nss77/Data/Visit1/r77s331v1L06.txt\",\n",
    "                  fwf_cols(centercd=c(1,3),    fsuslno=c(4,8),\n",
    "                           round=c(9,10),      schedule=c(11,13),\n",
    "                           sample=c(14,14),    sector=c(15,15),\n",
    "                           region=c(16,18),    distcode=c(19,20),\n",
    "                           stratum=c(21,22),   substratum=c(23,24),\n",
    "                           subround=c(25,25),  fod=c(26,29),\n",
    "                           sssno=c(30,30),     hhno=c(31,32),\n",
    "                           visit=c(33,33),     leve6=c(34,35),\n",
    "                           filler=c(36,39),    slnocrp=c(40,40),\n",
    "                           cropcd=c(41,44), unitcd=c(45,45),\n",
    "                           areairr=c(46,51),quantpirr=c(52,61),\n",
    "                           areaunirr=c(62,67), quantpunirr=c(68,77),\n",
    "                           totqua=c(78,87),\n",
    "                           nsc=c(127,129), mlt=c(130,139)),\n",
    "                  col_types=cols(centercd=col_character(),       fsuslno=col_character(),\n",
    "                                 round=col_integer(),         schedule=col_character(),\n",
    "                                 sample=col_character(),         sector=col_integer(),\n",
    "                                 region=col_character(),    distcode=col_character(),\n",
    "                                 stratum=col_character(),   substratum=col_character(),\n",
    "                                 subround=col_character(),  fod=col_character(),\n",
    "                                 sssno=col_character(),     hhno=col_character(),\n",
    "                                 visit=col_integer(),     level6=col_character(),\n",
    "                                 filler=col_character(),    slnocrp=col_character(),\n",
    "                                 cropcd=col_character(), unitcd=col_character(),\n",
    "                                 areairr=col_character(), quantpirr=col_character(),\n",
    "                                 areaunirr=col_character(), quantpunirr=col_character(),\n",
    "                                 totqua=col_character(),\n",
    "                                 nsc=col_number(),\n",
    "                                 mlt=col_number()))"
   ]
  },
  {
   "cell_type": "markdown",
   "id": "357cd303",
   "metadata": {},
   "source": [
    "## Creating weights from multiplier for each of these levels\n",
    "NSSO data though it is a sample survey, but it has wonderful value of weights through which you can exactly stipulate the entire results for country as a whole for whole results."
   ]
  },
  {
   "cell_type": "code",
   "execution_count": null,
   "id": "ff6cd534",
   "metadata": {},
   "outputs": [],
   "source": [
    "Dlevel1$weight<-Dlevel1$mlt/100\n",
    "Dlevel2$weight<-Dlevel2$mlt/100\n",
    "Dlevel3$weight<-Dlevel3$mlt/100\n",
    "Dlevel4$weight<-Dlevel4$mlt/100\n",
    "Dlevel5$weight<-Dlevel5$mlt/100\n",
    "Dlevel6$weight<-Dlevel6$mlt/100\n",
    "Dlevel7$weight<-Dlevel7$mlt/100"
   ]
  },
  {
   "cell_type": "markdown",
   "id": "2351498f",
   "metadata": {},
   "source": [
    "## generation of key for merging"
   ]
  },
  {
   "cell_type": "code",
   "execution_count": null,
   "id": "377ac127",
   "metadata": {},
   "outputs": [],
   "source": [
    "Dlevel1$key<-paste0(Dlevel1$fsuslno,Dlevel1$sssno,Dlevel1$hhno)\n",
    "Dlevel6$key<-paste0(Dlevel1$fsuslno,Dlevel1$sssno,Dlevel1$hhno)\n",
    "\n",
    "\n",
    "Dlevel6$keyind<-paste0(Dlevel6$fsuslno,Dlevel6$sssno,Dlevel6$hhno,Dlevel6$slNo)\n",
    "Dlevel7$keyind<-paste0(Dlevel7$fsuslno,Dlevel7$sssno,Dlevel7$hhno,Dlevel7$slNo)"
   ]
  },
  {
   "cell_type": "markdown",
   "id": "5ae8966b",
   "metadata": {},
   "source": [
    "## Merge two levels"
   ]
  },
  {
   "cell_type": "code",
   "execution_count": null,
   "id": "13589dbb",
   "metadata": {},
   "outputs": [],
   "source": [
    "Dlevel6_7 <-merge(Dlevel6,Dlevel7, by=\"keyind\",all=TRUE)"
   ]
  },
  {
   "cell_type": "code",
   "execution_count": null,
   "id": "16ee7b0f",
   "metadata": {},
   "outputs": [],
   "source": [
    "## saving the merging files\n",
    "save(Dlevel6_7,file=\"Dlevel6_7.RData\")"
   ]
  },
  {
   "cell_type": "code",
   "execution_count": null,
   "id": "fe7cff05",
   "metadata": {},
   "outputs": [],
   "source": [
    "##checking pattern of the data\n",
    "table(Dlevel6$cropcd)\n",
    "summarise(Dlevel6,n=mean(rate,na.rm=TRUE))"
   ]
  },
  {
   "cell_type": "code",
   "execution_count": null,
   "id": "3bf47dfb",
   "metadata": {},
   "outputs": [],
   "source": [
    "#average with the use of multiplier\n",
    "Dlevel6_7%>%\n",
    "  filter(cropcd==101)%>%\n",
    "  group_by(whom_sold)%>%\n",
    "  summarise(w=weighted.mean(rate,weight.x))"
   ]
  },
  {
   "cell_type": "code",
   "execution_count": null,
   "id": "bf5f0676",
   "metadata": {},
   "outputs": [],
   "source": [
    "#count with multiplier\n",
    "Dlevel6_7%>%\n",
    "  filter(cropcode.x==101)%>%\n",
    "  group_by(whom_sold)%>%\n",
    "  count(sale_satis,wt=weight.x)"
   ]
  },
  {
   "cell_type": "code",
   "execution_count": null,
   "id": "165411ae",
   "metadata": {},
   "outputs": [],
   "source": [
    "#{R use of crosstab with pollster package}\n",
    "topline(Dlevel6_7,variable=whom_sold,weight=weight.x)\n",
    "crosstab(Dlevel6_7,x=whom_sold, y=sale_satis,weight=weight.x)\n",
    "crosstab_3way(Dlevel6_7,x=whom_sold, y=sale_satis, z=sssno.x, weight=weight.x)"
   ]
  },
  {
   "cell_type": "code",
   "execution_count": null,
   "id": "2d9eb94a",
   "metadata": {},
   "outputs": [],
   "source": [
    "library(dplyr);library(ggplot2);library(pollster);library(readr);library(xlsx)\n",
    "library(Hmisc); library(quantreg);library(tidyr); library(cowplot);\n",
    "library(collapse); library(stringr); library(ineq); library(dineq);library(reshape2)\n",
    "library(FactoMineR);library(factoextra);library(psych); library(gridExtra)"
   ]
  },
  {
   "cell_type": "code",
   "execution_count": null,
   "id": "cfcc475d",
   "metadata": {},
   "outputs": [],
   "source": [
    "#Merging two visits into single by adding the rows by rbind\n",
    "v1v2_6 <- rbind(level6,v2level6)\n",
    "v1v2_7 <- rbind(level7,v2level7)"
   ]
  },
  {
   "cell_type": "code",
   "execution_count": null,
   "id": "8a6607a6",
   "metadata": {},
   "outputs": [],
   "source": [
    "v1v2_6$key <- paste0(v1v2_6$fsuslno,v1v2_6$sssno,v1v2_6$hhno,v1v2_6$visit,v1v2_6$SlNo)\n",
    "v1v2_7$key <- paste0(v1v2_7$fsuslno,v1v2_7$sssno,v1v2_7$hhno,v1v2_7$visit,v1v2_7$SlNo)"
   ]
  },
  {
   "cell_type": "code",
   "execution_count": null,
   "id": "f504ea1e",
   "metadata": {},
   "outputs": [],
   "source": [
    "v1v2_6_7n <- merge(v1v2_6,v1v2_7,by=\"key\",all=TRUE)"
   ]
  },
  {
   "cell_type": "code",
   "execution_count": null,
   "id": "05c47ea4",
   "metadata": {},
   "outputs": [],
   "source": [
    "save(v1v2_6,file=\"v1v2_6.RData\")\n",
    "save(v1v2_7,file=\"v1v2_7.RData\")\n",
    "#To load from saved file\n",
    "load(\"C:/Users/avani/OneDrive - O. P. Jindal Global University/Documents/NSS77/v1v2_6_7ff.RData\")"
   ]
  },
  {
   "cell_type": "code",
   "execution_count": null,
   "id": "335e953a",
   "metadata": {},
   "outputs": [],
   "source": [
    "v1v2_6_7ff$weight <- as.numeric(v1v2_6_7ff$mlt.x)/100"
   ]
  },
  {
   "cell_type": "code",
   "execution_count": null,
   "id": "91010d52",
   "metadata": {},
   "outputs": [],
   "source": [
    "v1v2_6_7ff<- v1v2_6_7n%>%\n",
    "  select(-centercd.x:-sector.x,-distcode.x:-Fod.x,-filler.x,-filler.y,-nsc.x,\n",
    "         -nsc.y,-centercd.y:-Fod.y)\n",
    "save(v1v2_6_7ff,file=\"v1v2_6_7ff.RData\")"
   ]
  },
  {
   "cell_type": "code",
   "execution_count": null,
   "id": "006f7fca",
   "metadata": {},
   "outputs": [],
   "source": [
    "v1v2_6_7ff$weight <- as.numeric(v1v2_6_7ff$mlt.x)/100"
   ]
  },
  {
   "cell_type": "code",
   "execution_count": null,
   "id": "a08dfd01",
   "metadata": {},
   "outputs": [],
   "source": [
    "v1v2_6_7ff$irri_area[is.na(v1v2_6_7ff$irri_area)]<-0\n",
    "v1v2_6_7ff$unirri_area[is.na(v1v2_6_7ff$unirri_area)]<-0\n",
    "v1v2_6_7ff$tot_area <- v1v2_6_7ff$irri_area+v1v2_6_7ff$unirri_area"
   ]
  },
  {
   "cell_type": "code",
   "execution_count": null,
   "id": "de38ae3c",
   "metadata": {},
   "outputs": [],
   "source": [
    "range(v1v2_6_7ff$tot_area)"
   ]
  },
  {
   "cell_type": "code",
   "execution_count": null,
   "id": "3cf49205",
   "metadata": {},
   "outputs": [],
   "source": [
    "attach(v1v2_6_7ff)\n",
    "v1v2_6_7ff$land_cat[tot_area<=0.4]<-\"1\"\n",
    "v1v2_6_7ff$land_cat[tot_area>=0.41 & tot_area<=1.00]<-\"2\"\n",
    "v1v2_6_7ff$land_cat[tot_area>=1.01 & tot_area <=2.00]<-\"3\"\n",
    "v1v2_6_7ff$land_cat[tot_area>=2.01 & tot_area <=4.00]<-\"4\"\n",
    "v1v2_6_7ff$land_cat[tot_area>=4.01 & tot_area <=10.00]<-\"5\"\n",
    "v1v2_6_7ff$land_cat[tot_area>10]<-\"6\""
   ]
  },
  {
   "cell_type": "code",
   "execution_count": null,
   "id": "8661cbcf",
   "metadata": {},
   "outputs": [],
   "source": [
    "v1v2rice<-v1v2_6_7ff%>%\n",
    "    filter(cropcode.x==101)%>%\n",
    "    filter(!is.na(rate))"
   ]
  },
  {
   "cell_type": "code",
   "execution_count": null,
   "id": "adea09cb",
   "metadata": {},
   "outputs": [],
   "source": [
    "v1v2rice$state<-substr(v1v2rice$region.x,1,2)"
   ]
  },
  {
   "cell_type": "code",
   "execution_count": null,
   "id": "80f8c317",
   "metadata": {},
   "outputs": [],
   "source": [
    "v1v2rice%>%\n",
    "      group_by(state)%>%\n",
    "      summarise(rate=weighted.mean(rate,weight))\n",
    "      count(whom_sold,wt=weight)\n",
    "    "
   ]
  },
  {
   "cell_type": "markdown",
   "id": "df0b3969",
   "metadata": {},
   "source": [
    "## `uses pollstar package"
   ]
  },
  {
   "cell_type": "code",
   "execution_count": null,
   "id": "a4905ad2",
   "metadata": {},
   "outputs": [],
   "source": [
    "#single variable\n",
    "topline(df=v1v2rice,variable=whom_sold,weight=weight)"
   ]
  },
  {
   "cell_type": "code",
   "execution_count": null,
   "id": "793b541d",
   "metadata": {},
   "outputs": [],
   "source": [
    "#double variable\n",
    "crosstab(df=v1v2rice,x=land_cat,y=whom_sold,weight=weight)"
   ]
  },
  {
   "cell_type": "code",
   "execution_count": null,
   "id": "2ca559e0",
   "metadata": {},
   "outputs": [],
   "source": [
    "#three variable uses crosstab_3way\n",
    "crosstab_3way(df=v1v2rice,x=land_cat,y=sale_satis,z=whom_sold,weight=weight)"
   ]
  },
  {
   "cell_type": "code",
   "execution_count": 1,
   "id": "f5c7aaee",
   "metadata": {},
   "outputs": [
    {
     "ename": "ERROR",
     "evalue": "Error in v1v2rice %>% mutate(msp_p = case_when(rate >= 17.5 ~ \"1\", rate < : could not find function \"%>%\"\n",
     "output_type": "error",
     "traceback": [
      "Error in v1v2rice %>% mutate(msp_p = case_when(rate >= 17.5 ~ \"1\", rate < : could not find function \"%>%\"\nTraceback:\n"
     ]
    }
   ],
   "source": [
    "v1v2rice1<-v1v2rice %>%\n",
    "     mutate(msp_p=case_when(rate>=17.5~\"1\",rate<17.5~\"0\"))\n",
    "     topline(df=v1v2rice1,variable=msp_p,weight=weight)\n",
    "     crosstab_3way(v1v2rice,x=land_cat,y=msp_p,z=whom_sold,weight=weight)"
   ]
  }
 ],
 "metadata": {
  "kernelspec": {
   "display_name": "R",
   "language": "R",
   "name": "ir"
  },
  "language_info": {
   "codemirror_mode": "r",
   "file_extension": ".r",
   "mimetype": "text/x-r-source",
   "name": "R",
   "pygments_lexer": "r",
   "version": "4.1.2"
  }
 },
 "nbformat": 4,
 "nbformat_minor": 5
}
