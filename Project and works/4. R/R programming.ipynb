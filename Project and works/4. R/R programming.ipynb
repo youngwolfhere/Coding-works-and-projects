{
 "cells": [
  {
   "cell_type": "markdown",
   "id": "ddfdc2f0",
   "metadata": {},
   "source": [
    "## Sathish's Notebook"
   ]
  },
  {
   "cell_type": "markdown",
   "id": "359961d4",
   "metadata": {},
   "source": [
    "## \"R\" programming"
   ]
  },
  {
   "cell_type": "markdown",
   "id": "558d9d0b",
   "metadata": {},
   "source": [
    "## Objects"
   ]
  },
  {
   "cell_type": "markdown",
   "id": "584a6233",
   "metadata": {},
   "source": [
    "Object >Stores the information& can be re-used whenever they required"
   ]
  },
  {
   "cell_type": "code",
   "execution_count": 1,
   "id": "684525bf",
   "metadata": {},
   "outputs": [
    {
     "data": {
      "text/html": [
       "100"
      ],
      "text/latex": [
       "100"
      ],
      "text/markdown": [
       "100"
      ],
      "text/plain": [
       "[1] 100"
      ]
     },
     "metadata": {},
     "output_type": "display_data"
    }
   ],
   "source": [
    "#Assigning value to objects\n",
    "# <- is used to assign values\n",
    "a <- 100\n",
    "a"
   ]
  },
  {
   "cell_type": "code",
   "execution_count": 2,
   "id": "4f1b0165",
   "metadata": {},
   "outputs": [
    {
     "data": {
      "text/html": [
       "'sathish'"
      ],
      "text/latex": [
       "'sathish'"
      ],
      "text/markdown": [
       "'sathish'"
      ],
      "text/plain": [
       "[1] \"sathish\""
      ]
     },
     "metadata": {},
     "output_type": "display_data"
    }
   ],
   "source": [
    "Name <- \"sathish\"\n",
    "Name"
   ]
  },
  {
   "cell_type": "code",
   "execution_count": 3,
   "id": "5970e99e",
   "metadata": {},
   "outputs": [
    {
     "data": {
      "text/html": [
       "FALSE"
      ],
      "text/latex": [
       "FALSE"
      ],
      "text/markdown": [
       "FALSE"
      ],
      "text/plain": [
       "[1] FALSE"
      ]
     },
     "metadata": {},
     "output_type": "display_data"
    }
   ],
   "source": [
    "d = TRUE # unlike python whole true/false word is capital in R.\n",
    "D = FALSE\n",
    "D"
   ]
  },
  {
   "cell_type": "markdown",
   "id": "4a642194",
   "metadata": {},
   "source": [
    "## CLEAN UP"
   ]
  },
  {
   "cell_type": "markdown",
   "id": "4c295c2c",
   "metadata": {},
   "source": [
    "Clear environment"
   ]
  },
  {
   "cell_type": "code",
   "execution_count": 4,
   "id": "d506bc8c",
   "metadata": {},
   "outputs": [],
   "source": [
    "rm(list = ls()) \n",
    "#rm() function in R Language is used to delete objects from the memory"
   ]
  },
  {
   "cell_type": "markdown",
   "id": "b7ea0088",
   "metadata": {},
   "source": [
    "Clear console"
   ]
  },
  {
   "cell_type": "code",
   "execution_count": 5,
   "id": "3f239bf5",
   "metadata": {},
   "outputs": [
    {
     "name": "stdout",
     "output_type": "stream",
     "text": [
      "\f"
     ]
    }
   ],
   "source": [
    "cat(\"\\014\")  # ctrl+L"
   ]
  },
  {
   "cell_type": "markdown",
   "id": "0af0606d",
   "metadata": {},
   "source": [
    "## Functions in R"
   ]
  },
  {
   "cell_type": "code",
   "execution_count": 4,
   "id": "22fb6a47",
   "metadata": {},
   "outputs": [
    {
     "data": {
      "text/html": [
       "4"
      ],
      "text/latex": [
       "4"
      ],
      "text/markdown": [
       "4"
      ],
      "text/plain": [
       "[1] 4"
      ]
     },
     "metadata": {},
     "output_type": "display_data"
    }
   ],
   "source": [
    "min(10,20,30,4,5)"
   ]
  },
  {
   "cell_type": "code",
   "execution_count": 5,
   "id": "38c578b4",
   "metadata": {},
   "outputs": [
    {
     "data": {
      "text/html": [
       "30"
      ],
      "text/latex": [
       "30"
      ],
      "text/markdown": [
       "30"
      ],
      "text/plain": [
       "[1] 30"
      ]
     },
     "metadata": {},
     "output_type": "display_data"
    }
   ],
   "source": [
    "max(10,20,30,4,5)"
   ]
  },
  {
   "cell_type": "markdown",
   "id": "b7587f55",
   "metadata": {},
   "source": [
    "## Null values"
   ]
  },
  {
   "cell_type": "markdown",
   "id": "feac7bbd",
   "metadata": {},
   "source": [
    "na.rm in r refers to the logical parameter that tells the function whether or not to remove NA values from the calculation.\n",
    "It literally means NA remove. "
   ]
  },
  {
   "cell_type": "markdown",
   "id": "0d8638af",
   "metadata": {},
   "source": [
    "## args"
   ]
  },
  {
   "cell_type": "markdown",
   "id": "cac3de7e",
   "metadata": {},
   "source": [
    "args() function in R Language is used to get the required arguments by a function. It takes function name as arguments and returns the arguments that are required by that function."
   ]
  },
  {
   "cell_type": "code",
   "execution_count": 6,
   "id": "af20a100",
   "metadata": {},
   "outputs": [
    {
     "data": {
      "text/html": [
       "<pre class=language-r><code>function (..., na.rm = FALSE) \n",
       "NULL</code></pre>"
      ],
      "text/latex": [
       "\\begin{minted}{r}\n",
       "function (..., na.rm = FALSE) \n",
       "NULL\n",
       "\\end{minted}"
      ],
      "text/markdown": [
       "```r\n",
       "function (..., na.rm = FALSE) \n",
       "NULL\n",
       "```"
      ],
      "text/plain": [
       "function (..., na.rm = FALSE) \n",
       "NULL"
      ]
     },
     "metadata": {},
     "output_type": "display_data"
    }
   ],
   "source": [
    "args(max)"
   ]
  },
  {
   "cell_type": "code",
   "execution_count": 9,
   "id": "98ee361e",
   "metadata": {},
   "outputs": [
    {
     "data": {
      "text/html": [
       "<pre class=language-r><code>function (..., na.rm = FALSE) \n",
       "NULL</code></pre>"
      ],
      "text/latex": [
       "\\begin{minted}{r}\n",
       "function (..., na.rm = FALSE) \n",
       "NULL\n",
       "\\end{minted}"
      ],
      "text/markdown": [
       "```r\n",
       "function (..., na.rm = FALSE) \n",
       "NULL\n",
       "```"
      ],
      "text/plain": [
       "function (..., na.rm = FALSE) \n",
       "NULL"
      ]
     },
     "metadata": {},
     "output_type": "display_data"
    }
   ],
   "source": [
    "args(min)"
   ]
  },
  {
   "cell_type": "code",
   "execution_count": 2,
   "id": "f9043801",
   "metadata": {},
   "outputs": [
    {
     "data": {
      "text/html": [
       "&lt;NA&gt;"
      ],
      "text/latex": [
       "<NA>"
      ],
      "text/markdown": [
       "&lt;NA&gt;"
      ],
      "text/plain": [
       "[1] NA"
      ]
     },
     "metadata": {},
     "output_type": "display_data"
    }
   ],
   "source": [
    "max(10,20,30,NA,4,5) #max func will not work with NA"
   ]
  },
  {
   "cell_type": "code",
   "execution_count": 3,
   "id": "e4a4655f",
   "metadata": {},
   "outputs": [
    {
     "data": {
      "text/html": [
       "&lt;NA&gt;"
      ],
      "text/latex": [
       "<NA>"
      ],
      "text/markdown": [
       "&lt;NA&gt;"
      ],
      "text/plain": [
       "[1] NA"
      ]
     },
     "metadata": {},
     "output_type": "display_data"
    }
   ],
   "source": [
    "min(10,20,30,NA,4,5)"
   ]
  },
  {
   "cell_type": "markdown",
   "id": "94fd3976",
   "metadata": {},
   "source": [
    "Need to remove/exclude Null with function na.rm=TRUE"
   ]
  },
  {
   "cell_type": "code",
   "execution_count": 4,
   "id": "5e6acf99",
   "metadata": {},
   "outputs": [
    {
     "data": {
      "text/html": [
       "30"
      ],
      "text/latex": [
       "30"
      ],
      "text/markdown": [
       "30"
      ],
      "text/plain": [
       "[1] 30"
      ]
     },
     "metadata": {},
     "output_type": "display_data"
    }
   ],
   "source": [
    "max(10,20,30,NA,4,5, na.rm=TRUE)"
   ]
  },
  {
   "cell_type": "code",
   "execution_count": 13,
   "id": "c0898b6c",
   "metadata": {},
   "outputs": [
    {
     "data": {
      "text/html": [
       "4"
      ],
      "text/latex": [
       "4"
      ],
      "text/markdown": [
       "4"
      ],
      "text/plain": [
       "[1] 4"
      ]
     },
     "metadata": {},
     "output_type": "display_data"
    }
   ],
   "source": [
    "min(10,20,30,NA,4,5, na.rm=TRUE)"
   ]
  },
  {
   "cell_type": "markdown",
   "id": "d820b62b",
   "metadata": {},
   "source": [
    "## mathematical operation"
   ]
  },
  {
   "cell_type": "code",
   "execution_count": 14,
   "id": "5e52e954",
   "metadata": {},
   "outputs": [
    {
     "data": {
      "text/html": [
       "3"
      ],
      "text/latex": [
       "3"
      ],
      "text/markdown": [
       "3"
      ],
      "text/plain": [
       "[1] 3"
      ]
     },
     "metadata": {},
     "output_type": "display_data"
    }
   ],
   "source": [
    "round(3.147689654678)"
   ]
  },
  {
   "cell_type": "code",
   "execution_count": 15,
   "id": "f756d47f",
   "metadata": {},
   "outputs": [
    {
     "data": {
      "text/html": [
       "<pre class=language-r><code>function (x, digits = 0) \n",
       "NULL</code></pre>"
      ],
      "text/latex": [
       "\\begin{minted}{r}\n",
       "function (x, digits = 0) \n",
       "NULL\n",
       "\\end{minted}"
      ],
      "text/markdown": [
       "```r\n",
       "function (x, digits = 0) \n",
       "NULL\n",
       "```"
      ],
      "text/plain": [
       "function (x, digits = 0) \n",
       "NULL"
      ]
     },
     "metadata": {},
     "output_type": "display_data"
    }
   ],
   "source": [
    "args(round)"
   ]
  },
  {
   "cell_type": "code",
   "execution_count": 16,
   "id": "926c0d0e",
   "metadata": {},
   "outputs": [
    {
     "data": {
      "text/html": [
       "3.14"
      ],
      "text/latex": [
       "3.14"
      ],
      "text/markdown": [
       "3.14"
      ],
      "text/plain": [
       "[1] 3.14"
      ]
     },
     "metadata": {},
     "output_type": "display_data"
    }
   ],
   "source": [
    "round(3.1415, digits=2)"
   ]
  },
  {
   "cell_type": "code",
   "execution_count": 17,
   "id": "c05d3011",
   "metadata": {},
   "outputs": [
    {
     "data": {
      "text/html": [
       "120"
      ],
      "text/latex": [
       "120"
      ],
      "text/markdown": [
       "120"
      ],
      "text/plain": [
       "[1] 120"
      ]
     },
     "metadata": {},
     "output_type": "display_data"
    }
   ],
   "source": [
    "factorial(5)"
   ]
  },
  {
   "cell_type": "code",
   "execution_count": 18,
   "id": "6d16cc86",
   "metadata": {},
   "outputs": [
    {
     "data": {
      "text/html": [
       "3.5"
      ],
      "text/latex": [
       "3.5"
      ],
      "text/markdown": [
       "3.5"
      ],
      "text/plain": [
       "[1] 3.5"
      ]
     },
     "metadata": {},
     "output_type": "display_data"
    }
   ],
   "source": [
    "die <-1:6\n",
    "mean(die)"
   ]
  },
  {
   "cell_type": "code",
   "execution_count": 19,
   "id": "0359dd40",
   "metadata": {},
   "outputs": [
    {
     "data": {
      "text/html": [
       "<pre class=language-r><code>function (x, ...) \n",
       "NULL</code></pre>"
      ],
      "text/latex": [
       "\\begin{minted}{r}\n",
       "function (x, ...) \n",
       "NULL\n",
       "\\end{minted}"
      ],
      "text/markdown": [
       "```r\n",
       "function (x, ...) \n",
       "NULL\n",
       "```"
      ],
      "text/plain": [
       "function (x, ...) \n",
       "NULL"
      ]
     },
     "metadata": {},
     "output_type": "display_data"
    }
   ],
   "source": [
    "args(mean)"
   ]
  },
  {
   "cell_type": "code",
   "execution_count": 20,
   "id": "47856087",
   "metadata": {},
   "outputs": [
    {
     "data": {
      "text/html": [
       "4"
      ],
      "text/latex": [
       "4"
      ],
      "text/markdown": [
       "4"
      ],
      "text/plain": [
       "[1] 4"
      ]
     },
     "metadata": {},
     "output_type": "display_data"
    }
   ],
   "source": [
    "round(mean(die))"
   ]
  },
  {
   "cell_type": "markdown",
   "id": "e4a48ea9",
   "metadata": {},
   "source": [
    "## Working with sample"
   ]
  },
  {
   "cell_type": "markdown",
   "id": "3be7f94a",
   "metadata": {},
   "source": [
    "Sample(input,size,replace=FALSE)"
   ]
  },
  {
   "cell_type": "code",
   "execution_count": 21,
   "id": "ec56a37e",
   "metadata": {},
   "outputs": [
    {
     "data": {
      "text/html": [
       "6"
      ],
      "text/latex": [
       "6"
      ],
      "text/markdown": [
       "6"
      ],
      "text/plain": [
       "[1] 6"
      ]
     },
     "metadata": {},
     "output_type": "display_data"
    }
   ],
   "source": [
    "sample(x=1:6,size=1) "
   ]
  },
  {
   "cell_type": "code",
   "execution_count": 22,
   "id": "1211ffb9",
   "metadata": {},
   "outputs": [
    {
     "data": {
      "text/html": [
       "<ol class=list-inline>\n",
       "\t<li>2</li>\n",
       "\t<li>6</li>\n",
       "\t<li>1</li>\n",
       "</ol>\n"
      ],
      "text/latex": [
       "\\begin{enumerate*}\n",
       "\\item 2\n",
       "\\item 6\n",
       "\\item 1\n",
       "\\end{enumerate*}\n"
      ],
      "text/markdown": [
       "1. 2\n",
       "2. 6\n",
       "3. 1\n",
       "\n",
       "\n"
      ],
      "text/plain": [
       "[1] 2 6 1"
      ]
     },
     "metadata": {},
     "output_type": "display_data"
    }
   ],
   "source": [
    "sample(x=1:6,size=3) "
   ]
  },
  {
   "cell_type": "code",
   "execution_count": 23,
   "id": "8c13fcf8",
   "metadata": {},
   "outputs": [
    {
     "data": {
      "text/html": [
       "<ol class=list-inline>\n",
       "\t<li>1</li>\n",
       "\t<li>3</li>\n",
       "\t<li>5</li>\n",
       "\t<li>6</li>\n",
       "\t<li>5</li>\n",
       "\t<li>4</li>\n",
       "</ol>\n"
      ],
      "text/latex": [
       "\\begin{enumerate*}\n",
       "\\item 1\n",
       "\\item 3\n",
       "\\item 5\n",
       "\\item 6\n",
       "\\item 5\n",
       "\\item 4\n",
       "\\end{enumerate*}\n"
      ],
      "text/markdown": [
       "1. 1\n",
       "2. 3\n",
       "3. 5\n",
       "4. 6\n",
       "5. 5\n",
       "6. 4\n",
       "\n",
       "\n"
      ],
      "text/plain": [
       "[1] 1 3 5 6 5 4"
      ]
     },
     "metadata": {},
     "output_type": "display_data"
    }
   ],
   "source": [
    "die <-1:6\n",
    "sample(die,size=6, replace = TRUE)"
   ]
  },
  {
   "cell_type": "markdown",
   "id": "5c9009c9",
   "metadata": {},
   "source": [
    "## Writing a function"
   ]
  },
  {
   "cell_type": "code",
   "execution_count": 24,
   "id": "f0fb13c2",
   "metadata": {},
   "outputs": [
    {
     "data": {
      "text/html": [
       "55"
      ],
      "text/latex": [
       "55"
      ],
      "text/markdown": [
       "55"
      ],
      "text/plain": [
       "[1] 55"
      ]
     },
     "metadata": {},
     "output_type": "display_data"
    }
   ],
   "source": [
    "X <- function(){sum(1:10)}\n",
    "X()"
   ]
  },
  {
   "cell_type": "code",
   "execution_count": 25,
   "id": "5f5dc788",
   "metadata": {},
   "outputs": [
    {
     "data": {
      "text/html": [
       "45"
      ],
      "text/latex": [
       "45"
      ],
      "text/markdown": [
       "45"
      ],
      "text/plain": [
       "[1] 45"
      ]
     },
     "metadata": {},
     "output_type": "display_data"
    }
   ],
   "source": [
    "X <- function(){max(10,2,3,30,45,9,11)}\n",
    "X()"
   ]
  },
  {
   "cell_type": "code",
   "execution_count": 26,
   "id": "f5bab261",
   "metadata": {},
   "outputs": [
    {
     "data": {
      "text/html": [
       "4"
      ],
      "text/latex": [
       "4"
      ],
      "text/markdown": [
       "4"
      ],
      "text/plain": [
       "[1] 4"
      ]
     },
     "metadata": {},
     "output_type": "display_data"
    }
   ],
   "source": [
    "Y<- function(a,b,c){max(a,b,c)}\n",
    "Y(2,3,4)"
   ]
  },
  {
   "cell_type": "code",
   "execution_count": 27,
   "id": "700738a5",
   "metadata": {},
   "outputs": [
    {
     "data": {
      "text/html": [
       "<ol class=list-inline>\n",
       "\t<li>41</li>\n",
       "\t<li>25</li>\n",
       "\t<li>34</li>\n",
       "\t<li>19</li>\n",
       "\t<li>78</li>\n",
       "\t<li>90</li>\n",
       "\t<li>29</li>\n",
       "\t<li>100</li>\n",
       "</ol>\n"
      ],
      "text/latex": [
       "\\begin{enumerate*}\n",
       "\\item 41\n",
       "\\item 25\n",
       "\\item 34\n",
       "\\item 19\n",
       "\\item 78\n",
       "\\item 90\n",
       "\\item 29\n",
       "\\item 100\n",
       "\\end{enumerate*}\n"
      ],
      "text/markdown": [
       "1. 41\n",
       "2. 25\n",
       "3. 34\n",
       "4. 19\n",
       "5. 78\n",
       "6. 90\n",
       "7. 29\n",
       "8. 100\n",
       "\n",
       "\n"
      ],
      "text/plain": [
       "[1]  41  25  34  19  78  90  29 100"
      ]
     },
     "metadata": {},
     "output_type": "display_data"
    }
   ],
   "source": [
    "#In R, the c() function returns a vector (a one dimensional array)\n",
    "X<-(c(41,25,34,19,78,90,29,100))\n",
    "X"
   ]
  },
  {
   "cell_type": "code",
   "execution_count": 28,
   "id": "1589372b",
   "metadata": {},
   "outputs": [
    {
     "data": {
      "text/html": [
       "52"
      ],
      "text/latex": [
       "52"
      ],
      "text/markdown": [
       "52"
      ],
      "text/plain": [
       "[1] 52"
      ]
     },
     "metadata": {},
     "output_type": "display_data"
    }
   ],
   "source": [
    "avg <- function(y){round(sum(y)/length(y))}\n",
    "avg(X)"
   ]
  },
  {
   "cell_type": "markdown",
   "id": "78e6fba1",
   "metadata": {},
   "source": [
    "## Mode and which_max"
   ]
  },
  {
   "cell_type": "code",
   "execution_count": 29,
   "id": "46b499b8",
   "metadata": {},
   "outputs": [
    {
     "data": {
      "text/html": [
       "41"
      ],
      "text/latex": [
       "41"
      ],
      "text/markdown": [
       "41"
      ],
      "text/plain": [
       "[1] 41"
      ]
     },
     "metadata": {},
     "output_type": "display_data"
    }
   ],
   "source": [
    "getmode <- function(v){uniqv <- unique(v)\n",
    "  uniqv[which.max(tabulate(match(v, uniqv)))]}\n",
    "#which_max Return the Index of the First Maximum Value of a Numeric Vector\n",
    "#tabulate() function in R Language is used to count the frequency of occurrence of a element in the vector\n",
    "#match returns a vector of the positions of (first) matches of its first argument in its second.\n",
    "getmode(X) "
   ]
  },
  {
   "cell_type": "code",
   "execution_count": 30,
   "id": "4ff55af4",
   "metadata": {},
   "outputs": [
    {
     "data": {
      "text/html": [
       "20"
      ],
      "text/latex": [
       "20"
      ],
      "text/markdown": [
       "20"
      ],
      "text/plain": [
       "[1] 20"
      ]
     },
     "metadata": {},
     "output_type": "display_data"
    }
   ],
   "source": [
    "#If we have three variables -we use function(x,y,z){formula}\n",
    "name_targetvariable <- function(x,y,z){max(x,y,z)}\n",
    "name_targetvariable(10,20,11)"
   ]
  },
  {
   "cell_type": "markdown",
   "id": "6d2c48d9",
   "metadata": {},
   "source": [
    "## Vectors in R"
   ]
  },
  {
   "cell_type": "markdown",
   "id": "d39bf4ac",
   "metadata": {},
   "source": [
    "Single element vector"
   ]
  },
  {
   "cell_type": "code",
   "execution_count": 31,
   "id": "4625570f",
   "metadata": {},
   "outputs": [],
   "source": [
    "x<-100"
   ]
  },
  {
   "cell_type": "markdown",
   "id": "c73e617a",
   "metadata": {},
   "source": [
    "Multiple elements vector"
   ]
  },
  {
   "cell_type": "code",
   "execution_count": 32,
   "id": "0c67c621",
   "metadata": {},
   "outputs": [],
   "source": [
    "y<-c(45,50,31,12,18,10,25,41,40,32,20,19)"
   ]
  },
  {
   "cell_type": "markdown",
   "id": "001ae735",
   "metadata": {},
   "source": [
    "creating Multiple vectors by using 3 ways 1) operator, 2)seq()function and 3) c()function"
   ]
  },
  {
   "cell_type": "markdown",
   "id": "7a8cefa8",
   "metadata": {},
   "source": [
    "Way to list 123-134"
   ]
  },
  {
   "cell_type": "code",
   "execution_count": 33,
   "id": "811b19f5",
   "metadata": {},
   "outputs": [
    {
     "data": {
      "text/html": [
       "<ol class=list-inline>\n",
       "\t<li>123</li>\n",
       "\t<li>124</li>\n",
       "\t<li>125</li>\n",
       "\t<li>126</li>\n",
       "\t<li>127</li>\n",
       "\t<li>128</li>\n",
       "\t<li>129</li>\n",
       "\t<li>130</li>\n",
       "\t<li>131</li>\n",
       "\t<li>132</li>\n",
       "\t<li>133</li>\n",
       "\t<li>134</li>\n",
       "</ol>\n"
      ],
      "text/latex": [
       "\\begin{enumerate*}\n",
       "\\item 123\n",
       "\\item 124\n",
       "\\item 125\n",
       "\\item 126\n",
       "\\item 127\n",
       "\\item 128\n",
       "\\item 129\n",
       "\\item 130\n",
       "\\item 131\n",
       "\\item 132\n",
       "\\item 133\n",
       "\\item 134\n",
       "\\end{enumerate*}\n"
      ],
      "text/markdown": [
       "1. 123\n",
       "2. 124\n",
       "3. 125\n",
       "4. 126\n",
       "5. 127\n",
       "6. 128\n",
       "7. 129\n",
       "8. 130\n",
       "9. 131\n",
       "10. 132\n",
       "11. 133\n",
       "12. 134\n",
       "\n",
       "\n"
      ],
      "text/plain": [
       " [1] 123 124 125 126 127 128 129 130 131 132 133 134"
      ]
     },
     "metadata": {},
     "output_type": "display_data"
    }
   ],
   "source": [
    "c(123,124,125,126,127,128,129,130,131,132,133,134)   #c function"
   ]
  },
  {
   "cell_type": "code",
   "execution_count": 34,
   "id": "4305e7d4",
   "metadata": {},
   "outputs": [
    {
     "data": {
      "text/html": [
       "<ol class=list-inline>\n",
       "\t<li>123</li>\n",
       "\t<li>124</li>\n",
       "\t<li>125</li>\n",
       "\t<li>126</li>\n",
       "\t<li>127</li>\n",
       "\t<li>128</li>\n",
       "\t<li>129</li>\n",
       "\t<li>130</li>\n",
       "\t<li>131</li>\n",
       "\t<li>132</li>\n",
       "\t<li>133</li>\n",
       "\t<li>134</li>\n",
       "</ol>\n"
      ],
      "text/latex": [
       "\\begin{enumerate*}\n",
       "\\item 123\n",
       "\\item 124\n",
       "\\item 125\n",
       "\\item 126\n",
       "\\item 127\n",
       "\\item 128\n",
       "\\item 129\n",
       "\\item 130\n",
       "\\item 131\n",
       "\\item 132\n",
       "\\item 133\n",
       "\\item 134\n",
       "\\end{enumerate*}\n"
      ],
      "text/markdown": [
       "1. 123\n",
       "2. 124\n",
       "3. 125\n",
       "4. 126\n",
       "5. 127\n",
       "6. 128\n",
       "7. 129\n",
       "8. 130\n",
       "9. 131\n",
       "10. 132\n",
       "11. 133\n",
       "12. 134\n",
       "\n",
       "\n"
      ],
      "text/plain": [
       " [1] 123 124 125 126 127 128 129 130 131 132 133 134"
      ]
     },
     "metadata": {},
     "output_type": "display_data"
    },
    {
     "data": {
      "text/html": [
       "<ol class=list-inline>\n",
       "\t<li>123</li>\n",
       "\t<li>124</li>\n",
       "\t<li>125</li>\n",
       "\t<li>126</li>\n",
       "\t<li>127</li>\n",
       "\t<li>128</li>\n",
       "\t<li>129</li>\n",
       "\t<li>130</li>\n",
       "\t<li>131</li>\n",
       "\t<li>132</li>\n",
       "\t<li>133</li>\n",
       "\t<li>134</li>\n",
       "</ol>\n"
      ],
      "text/latex": [
       "\\begin{enumerate*}\n",
       "\\item 123\n",
       "\\item 124\n",
       "\\item 125\n",
       "\\item 126\n",
       "\\item 127\n",
       "\\item 128\n",
       "\\item 129\n",
       "\\item 130\n",
       "\\item 131\n",
       "\\item 132\n",
       "\\item 133\n",
       "\\item 134\n",
       "\\end{enumerate*}\n"
      ],
      "text/markdown": [
       "1. 123\n",
       "2. 124\n",
       "3. 125\n",
       "4. 126\n",
       "5. 127\n",
       "6. 128\n",
       "7. 129\n",
       "8. 130\n",
       "9. 131\n",
       "10. 132\n",
       "11. 133\n",
       "12. 134\n",
       "\n",
       "\n"
      ],
      "text/plain": [
       " [1] 123 124 125 126 127 128 129 130 131 132 133 134"
      ]
     },
     "metadata": {},
     "output_type": "display_data"
    }
   ],
   "source": [
    "123:134                           #operator\n",
    "c(123:134)                            "
   ]
  },
  {
   "cell_type": "code",
   "execution_count": 35,
   "id": "eee985cb",
   "metadata": {},
   "outputs": [
    {
     "data": {
      "text/html": [
       "<ol class=list-inline>\n",
       "\t<li>123</li>\n",
       "\t<li>124</li>\n",
       "\t<li>125</li>\n",
       "\t<li>126</li>\n",
       "\t<li>127</li>\n",
       "\t<li>128</li>\n",
       "\t<li>129</li>\n",
       "\t<li>130</li>\n",
       "\t<li>131</li>\n",
       "\t<li>132</li>\n",
       "\t<li>133</li>\n",
       "\t<li>134</li>\n",
       "</ol>\n"
      ],
      "text/latex": [
       "\\begin{enumerate*}\n",
       "\\item 123\n",
       "\\item 124\n",
       "\\item 125\n",
       "\\item 126\n",
       "\\item 127\n",
       "\\item 128\n",
       "\\item 129\n",
       "\\item 130\n",
       "\\item 131\n",
       "\\item 132\n",
       "\\item 133\n",
       "\\item 134\n",
       "\\end{enumerate*}\n"
      ],
      "text/markdown": [
       "1. 123\n",
       "2. 124\n",
       "3. 125\n",
       "4. 126\n",
       "5. 127\n",
       "6. 128\n",
       "7. 129\n",
       "8. 130\n",
       "9. 131\n",
       "10. 132\n",
       "11. 133\n",
       "12. 134\n",
       "\n",
       "\n"
      ],
      "text/plain": [
       " [1] 123 124 125 126 127 128 129 130 131 132 133 134"
      ]
     },
     "metadata": {},
     "output_type": "display_data"
    }
   ],
   "source": [
    "seq(from=123, to=134,by=1)  # seq() function"
   ]
  },
  {
   "cell_type": "markdown",
   "id": "d092b279",
   "metadata": {},
   "source": [
    "## Type of Vectors"
   ]
  },
  {
   "cell_type": "code",
   "execution_count": 36,
   "id": "9b15bb96",
   "metadata": {},
   "outputs": [
    {
     "data": {
      "text/html": [
       "'double'"
      ],
      "text/latex": [
       "'double'"
      ],
      "text/markdown": [
       "'double'"
      ],
      "text/plain": [
       "[1] \"double\""
      ]
     },
     "metadata": {},
     "output_type": "display_data"
    }
   ],
   "source": [
    "a <- 100                         #double  \n",
    "typeof(a)"
   ]
  },
  {
   "cell_type": "code",
   "execution_count": 37,
   "id": "ea765e36",
   "metadata": {},
   "outputs": [
    {
     "data": {
      "text/html": [
       "'character'"
      ],
      "text/latex": [
       "'character'"
      ],
      "text/markdown": [
       "'character'"
      ],
      "text/plain": [
       "[1] \"character\""
      ]
     },
     "metadata": {},
     "output_type": "display_data"
    }
   ],
   "source": [
    "b <-\"Sathish\"                     #character\n",
    "typeof(b)"
   ]
  },
  {
   "cell_type": "code",
   "execution_count": 38,
   "id": "d13c2558",
   "metadata": {},
   "outputs": [
    {
     "data": {
      "text/html": [
       "'logical'"
      ],
      "text/latex": [
       "'logical'"
      ],
      "text/markdown": [
       "'logical'"
      ],
      "text/plain": [
       "[1] \"logical\""
      ]
     },
     "metadata": {},
     "output_type": "display_data"
    }
   ],
   "source": [
    "c <- TRUE                        #Logical\n",
    "typeof(c)"
   ]
  },
  {
   "cell_type": "code",
   "execution_count": 39,
   "id": "018587c9",
   "metadata": {},
   "outputs": [
    {
     "data": {
      "text/html": [
       "'integer'"
      ],
      "text/latex": [
       "'integer'"
      ],
      "text/markdown": [
       "'integer'"
      ],
      "text/plain": [
       "[1] \"integer\""
      ]
     },
     "metadata": {},
     "output_type": "display_data"
    }
   ],
   "source": [
    "d<- 1L                          #Integer\n",
    "typeof(d)"
   ]
  },
  {
   "cell_type": "code",
   "execution_count": 40,
   "id": "3218589f",
   "metadata": {},
   "outputs": [
    {
     "data": {
      "text/html": [
       "'complex'"
      ],
      "text/latex": [
       "'complex'"
      ],
      "text/markdown": [
       "'complex'"
      ],
      "text/plain": [
       "[1] \"complex\""
      ]
     },
     "metadata": {},
     "output_type": "display_data"
    }
   ],
   "source": [
    "e <- 2+3i                       #complex\n",
    "typeof(e)"
   ]
  },
  {
   "cell_type": "markdown",
   "id": "9bb61023",
   "metadata": {},
   "source": [
    "## Arithmetic operations on Vectors"
   ]
  },
  {
   "cell_type": "code",
   "execution_count": 41,
   "id": "47cc1ac9",
   "metadata": {},
   "outputs": [
    {
     "data": {
      "text/html": [
       "<ol class=list-inline>\n",
       "\t<li>30</li>\n",
       "\t<li>32</li>\n",
       "\t<li>34</li>\n",
       "\t<li>36</li>\n",
       "\t<li>38</li>\n",
       "\t<li>40</li>\n",
       "</ol>\n"
      ],
      "text/latex": [
       "\\begin{enumerate*}\n",
       "\\item 30\n",
       "\\item 32\n",
       "\\item 34\n",
       "\\item 36\n",
       "\\item 38\n",
       "\\item 40\n",
       "\\end{enumerate*}\n"
      ],
      "text/markdown": [
       "1. 30\n",
       "2. 32\n",
       "3. 34\n",
       "4. 36\n",
       "5. 38\n",
       "6. 40\n",
       "\n",
       "\n"
      ],
      "text/plain": [
       "[1] 30 32 34 36 38 40"
      ]
     },
     "metadata": {},
     "output_type": "display_data"
    },
    {
     "data": {
      "text/html": [
       "<ol class=list-inline>\n",
       "\t<li>10</li>\n",
       "\t<li>10</li>\n",
       "\t<li>10</li>\n",
       "\t<li>10</li>\n",
       "\t<li>10</li>\n",
       "\t<li>10</li>\n",
       "</ol>\n"
      ],
      "text/latex": [
       "\\begin{enumerate*}\n",
       "\\item 10\n",
       "\\item 10\n",
       "\\item 10\n",
       "\\item 10\n",
       "\\item 10\n",
       "\\item 10\n",
       "\\end{enumerate*}\n"
      ],
      "text/markdown": [
       "1. 10\n",
       "2. 10\n",
       "3. 10\n",
       "4. 10\n",
       "5. 10\n",
       "6. 10\n",
       "\n",
       "\n"
      ],
      "text/plain": [
       "[1] 10 10 10 10 10 10"
      ]
     },
     "metadata": {},
     "output_type": "display_data"
    },
    {
     "data": {
      "text/html": [
       "<ol class=list-inline>\n",
       "\t<li>200</li>\n",
       "\t<li>231</li>\n",
       "\t<li>264</li>\n",
       "\t<li>299</li>\n",
       "\t<li>336</li>\n",
       "\t<li>375</li>\n",
       "</ol>\n"
      ],
      "text/latex": [
       "\\begin{enumerate*}\n",
       "\\item 200\n",
       "\\item 231\n",
       "\\item 264\n",
       "\\item 299\n",
       "\\item 336\n",
       "\\item 375\n",
       "\\end{enumerate*}\n"
      ],
      "text/markdown": [
       "1. 200\n",
       "2. 231\n",
       "3. 264\n",
       "4. 299\n",
       "5. 336\n",
       "6. 375\n",
       "\n",
       "\n"
      ],
      "text/plain": [
       "[1] 200 231 264 299 336 375"
      ]
     },
     "metadata": {},
     "output_type": "display_data"
    },
    {
     "data": {
      "text/html": [
       "<ol class=list-inline>\n",
       "\t<li>2</li>\n",
       "\t<li>1.90909090909091</li>\n",
       "\t<li>1.83333333333333</li>\n",
       "\t<li>1.76923076923077</li>\n",
       "\t<li>1.71428571428571</li>\n",
       "\t<li>1.66666666666667</li>\n",
       "</ol>\n"
      ],
      "text/latex": [
       "\\begin{enumerate*}\n",
       "\\item 2\n",
       "\\item 1.90909090909091\n",
       "\\item 1.83333333333333\n",
       "\\item 1.76923076923077\n",
       "\\item 1.71428571428571\n",
       "\\item 1.66666666666667\n",
       "\\end{enumerate*}\n"
      ],
      "text/markdown": [
       "1. 2\n",
       "2. 1.90909090909091\n",
       "3. 1.83333333333333\n",
       "4. 1.76923076923077\n",
       "5. 1.71428571428571\n",
       "6. 1.66666666666667\n",
       "\n",
       "\n"
      ],
      "text/plain": [
       "[1] 2.000000 1.909091 1.833333 1.769231 1.714286 1.666667"
      ]
     },
     "metadata": {},
     "output_type": "display_data"
    },
    {
     "data": {
      "text/html": [
       "<ol class=list-inline>\n",
       "\t<li>2</li>\n",
       "\t<li>2</li>\n",
       "\t<li>2</li>\n",
       "\t<li>2</li>\n",
       "\t<li>2</li>\n",
       "\t<li>2</li>\n",
       "</ol>\n"
      ],
      "text/latex": [
       "\\begin{enumerate*}\n",
       "\\item 2\n",
       "\\item 2\n",
       "\\item 2\n",
       "\\item 2\n",
       "\\item 2\n",
       "\\item 2\n",
       "\\end{enumerate*}\n"
      ],
      "text/markdown": [
       "1. 2\n",
       "2. 2\n",
       "3. 2\n",
       "4. 2\n",
       "5. 2\n",
       "6. 2\n",
       "\n",
       "\n"
      ],
      "text/plain": [
       "[1] 2 2 2 2 2 2"
      ]
     },
     "metadata": {},
     "output_type": "display_data"
    }
   ],
   "source": [
    "a<-10:15\n",
    "b<-20:25\n",
    "a+b\n",
    "b-a\n",
    "a*b\n",
    "b/a\n",
    "round(b/a)"
   ]
  },
  {
   "cell_type": "markdown",
   "id": "e8dd78c2",
   "metadata": {},
   "source": [
    "## Matrices"
   ]
  },
  {
   "cell_type": "markdown",
   "id": "e9fa49aa",
   "metadata": {},
   "source": [
    "matrix_name <-matrix(data,nrow,ncol,byrow,dimnames)"
   ]
  },
  {
   "cell_type": "code",
   "execution_count": 42,
   "id": "528f9777",
   "metadata": {},
   "outputs": [
    {
     "data": {
      "text/html": [
       "<table>\n",
       "<tbody>\n",
       "\t<tr><td>10</td><td>11</td><td>12</td></tr>\n",
       "\t<tr><td>13</td><td>14</td><td>15</td></tr>\n",
       "\t<tr><td>16</td><td>17</td><td>18</td></tr>\n",
       "</tbody>\n",
       "</table>\n"
      ],
      "text/latex": [
       "\\begin{tabular}{lll}\n",
       "\t 10 & 11 & 12\\\\\n",
       "\t 13 & 14 & 15\\\\\n",
       "\t 16 & 17 & 18\\\\\n",
       "\\end{tabular}\n"
      ],
      "text/markdown": [
       "\n",
       "| 10 | 11 | 12 |\n",
       "| 13 | 14 | 15 |\n",
       "| 16 | 17 | 18 |\n",
       "\n"
      ],
      "text/plain": [
       "     [,1] [,2] [,3]\n",
       "[1,] 10   11   12  \n",
       "[2,] 13   14   15  \n",
       "[3,] 16   17   18  "
      ]
     },
     "metadata": {},
     "output_type": "display_data"
    }
   ],
   "source": [
    "x<- matrix(c(10:18),nrow=3,byrow=TRUE)\n",
    "x"
   ]
  },
  {
   "cell_type": "code",
   "execution_count": 43,
   "id": "8c00158c",
   "metadata": {},
   "outputs": [
    {
     "data": {
      "text/html": [
       "<table>\n",
       "<tbody>\n",
       "\t<tr><td>100</td><td>101</td><td>102</td><td>103</td></tr>\n",
       "\t<tr><td>104</td><td>105</td><td>106</td><td>107</td></tr>\n",
       "\t<tr><td>108</td><td>109</td><td>110</td><td>111</td></tr>\n",
       "\t<tr><td>112</td><td>113</td><td>114</td><td>115</td></tr>\n",
       "</tbody>\n",
       "</table>\n"
      ],
      "text/latex": [
       "\\begin{tabular}{llll}\n",
       "\t 100 & 101 & 102 & 103\\\\\n",
       "\t 104 & 105 & 106 & 107\\\\\n",
       "\t 108 & 109 & 110 & 111\\\\\n",
       "\t 112 & 113 & 114 & 115\\\\\n",
       "\\end{tabular}\n"
      ],
      "text/markdown": [
       "\n",
       "| 100 | 101 | 102 | 103 |\n",
       "| 104 | 105 | 106 | 107 |\n",
       "| 108 | 109 | 110 | 111 |\n",
       "| 112 | 113 | 114 | 115 |\n",
       "\n"
      ],
      "text/plain": [
       "     [,1] [,2] [,3] [,4]\n",
       "[1,] 100  101  102  103 \n",
       "[2,] 104  105  106  107 \n",
       "[3,] 108  109  110  111 \n",
       "[4,] 112  113  114  115 "
      ]
     },
     "metadata": {},
     "output_type": "display_data"
    }
   ],
   "source": [
    "y<- matrix(c(100:115),nrow=4,byrow = TRUE)\n",
    "y"
   ]
  },
  {
   "cell_type": "code",
   "execution_count": 44,
   "id": "6f14278e",
   "metadata": {},
   "outputs": [
    {
     "data": {
      "text/html": [
       "<table>\n",
       "<tbody>\n",
       "\t<tr><td>10</td><td>14</td><td>18</td></tr>\n",
       "\t<tr><td>11</td><td>15</td><td>19</td></tr>\n",
       "\t<tr><td>12</td><td>16</td><td>20</td></tr>\n",
       "\t<tr><td>13</td><td>17</td><td>21</td></tr>\n",
       "</tbody>\n",
       "</table>\n"
      ],
      "text/latex": [
       "\\begin{tabular}{lll}\n",
       "\t 10 & 14 & 18\\\\\n",
       "\t 11 & 15 & 19\\\\\n",
       "\t 12 & 16 & 20\\\\\n",
       "\t 13 & 17 & 21\\\\\n",
       "\\end{tabular}\n"
      ],
      "text/markdown": [
       "\n",
       "| 10 | 14 | 18 |\n",
       "| 11 | 15 | 19 |\n",
       "| 12 | 16 | 20 |\n",
       "| 13 | 17 | 21 |\n",
       "\n"
      ],
      "text/plain": [
       "     [,1] [,2] [,3]\n",
       "[1,] 10   14   18  \n",
       "[2,] 11   15   19  \n",
       "[3,] 12   16   20  \n",
       "[4,] 13   17   21  "
      ]
     },
     "metadata": {},
     "output_type": "display_data"
    }
   ],
   "source": [
    "z<- matrix(c(10:21),nrow=4,byrow = FALSE)\n",
    "z"
   ]
  },
  {
   "cell_type": "markdown",
   "id": "aeecaccb",
   "metadata": {},
   "source": [
    "## Names row and columns "
   ]
  },
  {
   "cell_type": "code",
   "execution_count": 45,
   "id": "b2fd3291",
   "metadata": {},
   "outputs": [
    {
     "data": {
      "text/html": [
       "<table>\n",
       "<thead><tr><th></th><th scope=col>col1</th><th scope=col>col2</th><th scope=col>col3</th></tr></thead>\n",
       "<tbody>\n",
       "\t<tr><th scope=row>row1</th><td>10</td><td>14</td><td>18</td></tr>\n",
       "\t<tr><th scope=row>row2</th><td>11</td><td>15</td><td>19</td></tr>\n",
       "\t<tr><th scope=row>row3</th><td>12</td><td>16</td><td>20</td></tr>\n",
       "\t<tr><th scope=row>row4</th><td>13</td><td>17</td><td>21</td></tr>\n",
       "</tbody>\n",
       "</table>\n"
      ],
      "text/latex": [
       "\\begin{tabular}{r|lll}\n",
       "  & col1 & col2 & col3\\\\\n",
       "\\hline\n",
       "\trow1 & 10 & 14 & 18\\\\\n",
       "\trow2 & 11 & 15 & 19\\\\\n",
       "\trow3 & 12 & 16 & 20\\\\\n",
       "\trow4 & 13 & 17 & 21\\\\\n",
       "\\end{tabular}\n"
      ],
      "text/markdown": [
       "\n",
       "| <!--/--> | col1 | col2 | col3 |\n",
       "|---|---|---|---|\n",
       "| row1 | 10 | 14 | 18 |\n",
       "| row2 | 11 | 15 | 19 |\n",
       "| row3 | 12 | 16 | 20 |\n",
       "| row4 | 13 | 17 | 21 |\n",
       "\n"
      ],
      "text/plain": [
       "     col1 col2 col3\n",
       "row1 10   14   18  \n",
       "row2 11   15   19  \n",
       "row3 12   16   20  \n",
       "row4 13   17   21  "
      ]
     },
     "metadata": {},
     "output_type": "display_data"
    }
   ],
   "source": [
    "z<-matrix(c(10:21),nrow=4,byrow=FALSE, dimnames =list(rownames<-c(\"row1\",\"row2\",\"row3\", \"row4\"),\n",
    "                                                      colnames<-c(\"col1\",\"col2\",\"col3\")))\n",
    "z"
   ]
  },
  {
   "cell_type": "code",
   "execution_count": 46,
   "id": "525491fc",
   "metadata": {},
   "outputs": [
    {
     "data": {
      "text/html": [
       "<table>\n",
       "<tbody>\n",
       "\t<tr><td>100</td><td>101</td><td>102</td><td>103</td></tr>\n",
       "\t<tr><td>104</td><td>105</td><td>106</td><td>107</td></tr>\n",
       "\t<tr><td>108</td><td>109</td><td>110</td><td>111</td></tr>\n",
       "\t<tr><td>112</td><td>113</td><td>114</td><td>115</td></tr>\n",
       "</tbody>\n",
       "</table>\n"
      ],
      "text/latex": [
       "\\begin{tabular}{llll}\n",
       "\t 100 & 101 & 102 & 103\\\\\n",
       "\t 104 & 105 & 106 & 107\\\\\n",
       "\t 108 & 109 & 110 & 111\\\\\n",
       "\t 112 & 113 & 114 & 115\\\\\n",
       "\\end{tabular}\n"
      ],
      "text/markdown": [
       "\n",
       "| 100 | 101 | 102 | 103 |\n",
       "| 104 | 105 | 106 | 107 |\n",
       "| 108 | 109 | 110 | 111 |\n",
       "| 112 | 113 | 114 | 115 |\n",
       "\n"
      ],
      "text/plain": [
       "     [,1] [,2] [,3] [,4]\n",
       "[1,] 100  101  102  103 \n",
       "[2,] 104  105  106  107 \n",
       "[3,] 108  109  110  111 \n",
       "[4,] 112  113  114  115 "
      ]
     },
     "metadata": {},
     "output_type": "display_data"
    },
    {
     "data": {
      "text/html": [
       "106"
      ],
      "text/latex": [
       "106"
      ],
      "text/markdown": [
       "106"
      ],
      "text/plain": [
       "[1] 106"
      ]
     },
     "metadata": {},
     "output_type": "display_data"
    },
    {
     "data": {
      "text/html": [
       "<ol class=list-inline>\n",
       "\t<li>108</li>\n",
       "\t<li>109</li>\n",
       "\t<li>110</li>\n",
       "\t<li>111</li>\n",
       "</ol>\n"
      ],
      "text/latex": [
       "\\begin{enumerate*}\n",
       "\\item 108\n",
       "\\item 109\n",
       "\\item 110\n",
       "\\item 111\n",
       "\\end{enumerate*}\n"
      ],
      "text/markdown": [
       "1. 108\n",
       "2. 109\n",
       "3. 110\n",
       "4. 111\n",
       "\n",
       "\n"
      ],
      "text/plain": [
       "[1] 108 109 110 111"
      ]
     },
     "metadata": {},
     "output_type": "display_data"
    },
    {
     "data": {
      "text/html": [
       "<ol class=list-inline>\n",
       "\t<li>101</li>\n",
       "\t<li>105</li>\n",
       "\t<li>109</li>\n",
       "\t<li>113</li>\n",
       "</ol>\n"
      ],
      "text/latex": [
       "\\begin{enumerate*}\n",
       "\\item 101\n",
       "\\item 105\n",
       "\\item 109\n",
       "\\item 113\n",
       "\\end{enumerate*}\n"
      ],
      "text/markdown": [
       "1. 101\n",
       "2. 105\n",
       "3. 109\n",
       "4. 113\n",
       "\n",
       "\n"
      ],
      "text/plain": [
       "[1] 101 105 109 113"
      ]
     },
     "metadata": {},
     "output_type": "display_data"
    }
   ],
   "source": [
    "y\n",
    "y[2,3]\n",
    "y[3,] #entire third row\n",
    "y[,2] #entire second column"
   ]
  },
  {
   "cell_type": "code",
   "execution_count": 47,
   "id": "ef8955da",
   "metadata": {},
   "outputs": [
    {
     "data": {
      "text/html": [
       "<table>\n",
       "<tbody>\n",
       "\t<tr><td>10</td><td>11</td><td>12</td></tr>\n",
       "\t<tr><td>13</td><td>14</td><td>15</td></tr>\n",
       "\t<tr><td>16</td><td>17</td><td>18</td></tr>\n",
       "</tbody>\n",
       "</table>\n"
      ],
      "text/latex": [
       "\\begin{tabular}{lll}\n",
       "\t 10 & 11 & 12\\\\\n",
       "\t 13 & 14 & 15\\\\\n",
       "\t 16 & 17 & 18\\\\\n",
       "\\end{tabular}\n"
      ],
      "text/markdown": [
       "\n",
       "| 10 | 11 | 12 |\n",
       "| 13 | 14 | 15 |\n",
       "| 16 | 17 | 18 |\n",
       "\n"
      ],
      "text/plain": [
       "     [,1] [,2] [,3]\n",
       "[1,] 10   11   12  \n",
       "[2,] 13   14   15  \n",
       "[3,] 16   17   18  "
      ]
     },
     "metadata": {},
     "output_type": "display_data"
    },
    {
     "data": {
      "text/html": [
       "<table>\n",
       "<tbody>\n",
       "\t<tr><td>100</td><td>101</td><td>102</td></tr>\n",
       "\t<tr><td>103</td><td>104</td><td>105</td></tr>\n",
       "\t<tr><td>106</td><td>107</td><td>108</td></tr>\n",
       "</tbody>\n",
       "</table>\n"
      ],
      "text/latex": [
       "\\begin{tabular}{lll}\n",
       "\t 100 & 101 & 102\\\\\n",
       "\t 103 & 104 & 105\\\\\n",
       "\t 106 & 107 & 108\\\\\n",
       "\\end{tabular}\n"
      ],
      "text/markdown": [
       "\n",
       "| 100 | 101 | 102 |\n",
       "| 103 | 104 | 105 |\n",
       "| 106 | 107 | 108 |\n",
       "\n"
      ],
      "text/plain": [
       "     [,1] [,2] [,3]\n",
       "[1,] 100  101  102 \n",
       "[2,] 103  104  105 \n",
       "[3,] 106  107  108 "
      ]
     },
     "metadata": {},
     "output_type": "display_data"
    },
    {
     "data": {
      "text/html": [
       "<table>\n",
       "<tbody>\n",
       "\t<tr><td>110</td><td>112</td><td>114</td></tr>\n",
       "\t<tr><td>116</td><td>118</td><td>120</td></tr>\n",
       "\t<tr><td>122</td><td>124</td><td>126</td></tr>\n",
       "</tbody>\n",
       "</table>\n"
      ],
      "text/latex": [
       "\\begin{tabular}{lll}\n",
       "\t 110 & 112 & 114\\\\\n",
       "\t 116 & 118 & 120\\\\\n",
       "\t 122 & 124 & 126\\\\\n",
       "\\end{tabular}\n"
      ],
      "text/markdown": [
       "\n",
       "| 110 | 112 | 114 |\n",
       "| 116 | 118 | 120 |\n",
       "| 122 | 124 | 126 |\n",
       "\n"
      ],
      "text/plain": [
       "     [,1] [,2] [,3]\n",
       "[1,] 110  112  114 \n",
       "[2,] 116  118  120 \n",
       "[3,] 122  124  126 "
      ]
     },
     "metadata": {},
     "output_type": "display_data"
    },
    {
     "data": {
      "text/html": [
       "<table>\n",
       "<tbody>\n",
       "\t<tr><td>90</td><td>90</td><td>90</td></tr>\n",
       "\t<tr><td>90</td><td>90</td><td>90</td></tr>\n",
       "\t<tr><td>90</td><td>90</td><td>90</td></tr>\n",
       "</tbody>\n",
       "</table>\n"
      ],
      "text/latex": [
       "\\begin{tabular}{lll}\n",
       "\t 90 & 90 & 90\\\\\n",
       "\t 90 & 90 & 90\\\\\n",
       "\t 90 & 90 & 90\\\\\n",
       "\\end{tabular}\n"
      ],
      "text/markdown": [
       "\n",
       "| 90 | 90 | 90 |\n",
       "| 90 | 90 | 90 |\n",
       "| 90 | 90 | 90 |\n",
       "\n"
      ],
      "text/plain": [
       "     [,1] [,2] [,3]\n",
       "[1,] 90   90   90  \n",
       "[2,] 90   90   90  \n",
       "[3,] 90   90   90  "
      ]
     },
     "metadata": {},
     "output_type": "display_data"
    },
    {
     "data": {
      "text/html": [
       "<table>\n",
       "<tbody>\n",
       "\t<tr><td>1000</td><td>1111</td><td>1224</td></tr>\n",
       "\t<tr><td>1339</td><td>1456</td><td>1575</td></tr>\n",
       "\t<tr><td>1696</td><td>1819</td><td>1944</td></tr>\n",
       "</tbody>\n",
       "</table>\n"
      ],
      "text/latex": [
       "\\begin{tabular}{lll}\n",
       "\t 1000 & 1111 & 1224\\\\\n",
       "\t 1339 & 1456 & 1575\\\\\n",
       "\t 1696 & 1819 & 1944\\\\\n",
       "\\end{tabular}\n"
      ],
      "text/markdown": [
       "\n",
       "| 1000 | 1111 | 1224 |\n",
       "| 1339 | 1456 | 1575 |\n",
       "| 1696 | 1819 | 1944 |\n",
       "\n"
      ],
      "text/plain": [
       "     [,1] [,2] [,3]\n",
       "[1,] 1000 1111 1224\n",
       "[2,] 1339 1456 1575\n",
       "[3,] 1696 1819 1944"
      ]
     },
     "metadata": {},
     "output_type": "display_data"
    },
    {
     "data": {
      "text/html": [
       "<table>\n",
       "<tbody>\n",
       "\t<tr><td>10.000000</td><td>9.181818 </td><td>8.5      </td></tr>\n",
       "\t<tr><td> 7.923077</td><td>7.428571 </td><td>7.0      </td></tr>\n",
       "\t<tr><td> 6.625000</td><td>6.294118 </td><td>6.0      </td></tr>\n",
       "</tbody>\n",
       "</table>\n"
      ],
      "text/latex": [
       "\\begin{tabular}{lll}\n",
       "\t 10.000000 & 9.181818  & 8.5      \\\\\n",
       "\t  7.923077 & 7.428571  & 7.0      \\\\\n",
       "\t  6.625000 & 6.294118  & 6.0      \\\\\n",
       "\\end{tabular}\n"
      ],
      "text/markdown": [
       "\n",
       "| 10.000000 | 9.181818  | 8.5       |\n",
       "|  7.923077 | 7.428571  | 7.0       |\n",
       "|  6.625000 | 6.294118  | 6.0       |\n",
       "\n"
      ],
      "text/plain": [
       "     [,1]      [,2]     [,3]\n",
       "[1,] 10.000000 9.181818 8.5 \n",
       "[2,]  7.923077 7.428571 7.0 \n",
       "[3,]  6.625000 6.294118 6.0 "
      ]
     },
     "metadata": {},
     "output_type": "display_data"
    },
    {
     "data": {
      "text/html": [
       "<table>\n",
       "<tbody>\n",
       "\t<tr><td>10</td><td>9 </td><td>8 </td></tr>\n",
       "\t<tr><td> 8</td><td>7 </td><td>7 </td></tr>\n",
       "\t<tr><td> 7</td><td>6 </td><td>6 </td></tr>\n",
       "</tbody>\n",
       "</table>\n"
      ],
      "text/latex": [
       "\\begin{tabular}{lll}\n",
       "\t 10 & 9  & 8 \\\\\n",
       "\t  8 & 7  & 7 \\\\\n",
       "\t  7 & 6  & 6 \\\\\n",
       "\\end{tabular}\n"
      ],
      "text/markdown": [
       "\n",
       "| 10 | 9  | 8  |\n",
       "|  8 | 7  | 7  |\n",
       "|  7 | 6  | 6  |\n",
       "\n"
      ],
      "text/plain": [
       "     [,1] [,2] [,3]\n",
       "[1,] 10   9    8   \n",
       "[2,]  8   7    7   \n",
       "[3,]  7   6    6   "
      ]
     },
     "metadata": {},
     "output_type": "display_data"
    }
   ],
   "source": [
    "x<- matrix(c(10:18),nrow=3,byrow=TRUE)\n",
    "x\n",
    "\n",
    "y<- matrix(c(100:108),nrow=3,byrow = TRUE)\n",
    "y\n",
    "\n",
    "x+y\n",
    "y-x\n",
    "x*y\n",
    "y/x\n",
    "round(y/x)"
   ]
  },
  {
   "cell_type": "markdown",
   "id": "d09f9223",
   "metadata": {},
   "source": [
    "## Arrays in R"
   ]
  },
  {
   "cell_type": "markdown",
   "id": "da922412",
   "metadata": {},
   "source": [
    "syntax -> Var_names<-array(data, dim=c(row,cols,matrices),dimnames)"
   ]
  },
  {
   "cell_type": "code",
   "execution_count": 48,
   "id": "a84f6b05",
   "metadata": {},
   "outputs": [
    {
     "data": {
      "text/html": [
       "<ol class=list-inline>\n",
       "\t<li>1</li>\n",
       "\t<li>2</li>\n",
       "\t<li>3</li>\n",
       "\t<li>4</li>\n",
       "\t<li>5</li>\n",
       "\t<li>6</li>\n",
       "\t<li>7</li>\n",
       "\t<li>8</li>\n",
       "\t<li>9</li>\n",
       "\t<li>1</li>\n",
       "\t<li>2</li>\n",
       "\t<li>3</li>\n",
       "\t<li>4</li>\n",
       "\t<li>5</li>\n",
       "\t<li>6</li>\n",
       "\t<li>7</li>\n",
       "\t<li>8</li>\n",
       "\t<li>9</li>\n",
       "</ol>\n"
      ],
      "text/latex": [
       "\\begin{enumerate*}\n",
       "\\item 1\n",
       "\\item 2\n",
       "\\item 3\n",
       "\\item 4\n",
       "\\item 5\n",
       "\\item 6\n",
       "\\item 7\n",
       "\\item 8\n",
       "\\item 9\n",
       "\\item 1\n",
       "\\item 2\n",
       "\\item 3\n",
       "\\item 4\n",
       "\\item 5\n",
       "\\item 6\n",
       "\\item 7\n",
       "\\item 8\n",
       "\\item 9\n",
       "\\end{enumerate*}\n"
      ],
      "text/markdown": [
       "1. 1\n",
       "2. 2\n",
       "3. 3\n",
       "4. 4\n",
       "5. 5\n",
       "6. 6\n",
       "7. 7\n",
       "8. 8\n",
       "9. 9\n",
       "10. 1\n",
       "11. 2\n",
       "12. 3\n",
       "13. 4\n",
       "14. 5\n",
       "15. 6\n",
       "16. 7\n",
       "17. 8\n",
       "18. 9\n",
       "\n",
       "\n"
      ],
      "text/plain": [
       ", , 1\n",
       "\n",
       "     [,1] [,2] [,3]\n",
       "[1,]    1    4    7\n",
       "[2,]    2    5    8\n",
       "[3,]    3    6    9\n",
       "\n",
       ", , 2\n",
       "\n",
       "     [,1] [,2] [,3]\n",
       "[1,]    1    4    7\n",
       "[2,]    2    5    8\n",
       "[3,]    3    6    9\n"
      ]
     },
     "metadata": {},
     "output_type": "display_data"
    },
    {
     "data": {
      "text/html": [
       "<ol class=list-inline>\n",
       "\t<li>3</li>\n",
       "\t<li>3</li>\n",
       "\t<li>2</li>\n",
       "</ol>\n"
      ],
      "text/latex": [
       "\\begin{enumerate*}\n",
       "\\item 3\n",
       "\\item 3\n",
       "\\item 2\n",
       "\\end{enumerate*}\n"
      ],
      "text/markdown": [
       "1. 3\n",
       "2. 3\n",
       "3. 2\n",
       "\n",
       "\n"
      ],
      "text/plain": [
       "[1] 3 3 2"
      ]
     },
     "metadata": {},
     "output_type": "display_data"
    }
   ],
   "source": [
    "A <- array(c(1:9),dim=c(3,3,2))\n",
    "A\n",
    "dim(A)"
   ]
  },
  {
   "cell_type": "code",
   "execution_count": 49,
   "id": "a117ce48",
   "metadata": {},
   "outputs": [
    {
     "data": {
      "text/html": [
       "<ol class=list-inline>\n",
       "\t<li>11</li>\n",
       "\t<li>12</li>\n",
       "\t<li>13</li>\n",
       "\t<li>14</li>\n",
       "\t<li>15</li>\n",
       "\t<li>16</li>\n",
       "\t<li>17</li>\n",
       "\t<li>18</li>\n",
       "\t<li>19</li>\n",
       "\t<li>20</li>\n",
       "\t<li>11</li>\n",
       "\t<li>12</li>\n",
       "\t<li>13</li>\n",
       "\t<li>14</li>\n",
       "\t<li>15</li>\n",
       "\t<li>16</li>\n",
       "\t<li>17</li>\n",
       "\t<li>18</li>\n",
       "</ol>\n"
      ],
      "text/latex": [
       "\\begin{enumerate*}\n",
       "\\item 11\n",
       "\\item 12\n",
       "\\item 13\n",
       "\\item 14\n",
       "\\item 15\n",
       "\\item 16\n",
       "\\item 17\n",
       "\\item 18\n",
       "\\item 19\n",
       "\\item 20\n",
       "\\item 11\n",
       "\\item 12\n",
       "\\item 13\n",
       "\\item 14\n",
       "\\item 15\n",
       "\\item 16\n",
       "\\item 17\n",
       "\\item 18\n",
       "\\end{enumerate*}\n"
      ],
      "text/markdown": [
       "1. 11\n",
       "2. 12\n",
       "3. 13\n",
       "4. 14\n",
       "5. 15\n",
       "6. 16\n",
       "7. 17\n",
       "8. 18\n",
       "9. 19\n",
       "10. 20\n",
       "11. 11\n",
       "12. 12\n",
       "13. 13\n",
       "14. 14\n",
       "15. 15\n",
       "16. 16\n",
       "17. 17\n",
       "18. 18\n",
       "\n",
       "\n"
      ],
      "text/plain": [
       ", , 1\n",
       "\n",
       "     [,1] [,2] [,3]\n",
       "[1,]   11   14   17\n",
       "[2,]   12   15   18\n",
       "[3,]   13   16   19\n",
       "\n",
       ", , 2\n",
       "\n",
       "     [,1] [,2] [,3]\n",
       "[1,]   20   13   16\n",
       "[2,]   11   14   17\n",
       "[3,]   12   15   18\n"
      ]
     },
     "metadata": {},
     "output_type": "display_data"
    },
    {
     "data": {
      "text/html": [
       "<ol class=list-inline>\n",
       "\t<li>3</li>\n",
       "\t<li>3</li>\n",
       "\t<li>2</li>\n",
       "</ol>\n"
      ],
      "text/latex": [
       "\\begin{enumerate*}\n",
       "\\item 3\n",
       "\\item 3\n",
       "\\item 2\n",
       "\\end{enumerate*}\n"
      ],
      "text/markdown": [
       "1. 3\n",
       "2. 3\n",
       "3. 2\n",
       "\n",
       "\n"
      ],
      "text/plain": [
       "[1] 3 3 2"
      ]
     },
     "metadata": {},
     "output_type": "display_data"
    }
   ],
   "source": [
    "B <- array(c(11:20),dim=c(3,3,2))\n",
    "B\n",
    "dim(B)"
   ]
  },
  {
   "cell_type": "code",
   "execution_count": 50,
   "id": "f8fd16a0",
   "metadata": {},
   "outputs": [
    {
     "data": {
      "text/html": [
       "<ol class=list-inline>\n",
       "\t<li>11</li>\n",
       "\t<li>12</li>\n",
       "\t<li>13</li>\n",
       "\t<li>14</li>\n",
       "\t<li>21</li>\n",
       "\t<li>22</li>\n",
       "\t<li>23</li>\n",
       "\t<li>24</li>\n",
       "\t<li>31</li>\n",
       "\t<li>32</li>\n",
       "\t<li>33</li>\n",
       "\t<li>34</li>\n",
       "</ol>\n"
      ],
      "text/latex": [
       "\\begin{enumerate*}\n",
       "\\item 11\n",
       "\\item 12\n",
       "\\item 13\n",
       "\\item 14\n",
       "\\item 21\n",
       "\\item 22\n",
       "\\item 23\n",
       "\\item 24\n",
       "\\item 31\n",
       "\\item 32\n",
       "\\item 33\n",
       "\\item 34\n",
       "\\end{enumerate*}\n"
      ],
      "text/markdown": [
       "1. 11\n",
       "2. 12\n",
       "3. 13\n",
       "4. 14\n",
       "5. 21\n",
       "6. 22\n",
       "7. 23\n",
       "8. 24\n",
       "9. 31\n",
       "10. 32\n",
       "11. 33\n",
       "12. 34\n",
       "\n",
       "\n"
      ],
      "text/plain": [
       ", , 1\n",
       "\n",
       "     [,1] [,2]\n",
       "[1,]   11   13\n",
       "[2,]   12   14\n",
       "\n",
       ", , 2\n",
       "\n",
       "     [,1] [,2]\n",
       "[1,]   21   23\n",
       "[2,]   22   24\n",
       "\n",
       ", , 3\n",
       "\n",
       "     [,1] [,2]\n",
       "[1,]   31   33\n",
       "[2,]   32   34\n"
      ]
     },
     "metadata": {},
     "output_type": "display_data"
    },
    {
     "data": {
      "text/html": [
       "<ol class=list-inline>\n",
       "\t<li>2</li>\n",
       "\t<li>2</li>\n",
       "\t<li>3</li>\n",
       "</ol>\n"
      ],
      "text/latex": [
       "\\begin{enumerate*}\n",
       "\\item 2\n",
       "\\item 2\n",
       "\\item 3\n",
       "\\end{enumerate*}\n"
      ],
      "text/markdown": [
       "1. 2\n",
       "2. 2\n",
       "3. 3\n",
       "\n",
       "\n"
      ],
      "text/plain": [
       "[1] 2 2 3"
      ]
     },
     "metadata": {},
     "output_type": "display_data"
    }
   ],
   "source": [
    "C <- array(c(11:14,21:24,31:34),dim=c(2,2,3))\n",
    "C\n",
    "dim(C)"
   ]
  },
  {
   "cell_type": "code",
   "execution_count": 51,
   "id": "8bf4566c",
   "metadata": {},
   "outputs": [
    {
     "data": {
      "text/html": [
       "34"
      ],
      "text/latex": [
       "34"
      ],
      "text/markdown": [
       "34"
      ],
      "text/plain": [
       "[1] 34"
      ]
     },
     "metadata": {},
     "output_type": "display_data"
    },
    {
     "data": {
      "text/html": [
       "<table>\n",
       "<tbody>\n",
       "\t<tr><td>12</td><td>22</td><td>32</td></tr>\n",
       "\t<tr><td>14</td><td>24</td><td>34</td></tr>\n",
       "</tbody>\n",
       "</table>\n"
      ],
      "text/latex": [
       "\\begin{tabular}{lll}\n",
       "\t 12 & 22 & 32\\\\\n",
       "\t 14 & 24 & 34\\\\\n",
       "\\end{tabular}\n"
      ],
      "text/markdown": [
       "\n",
       "| 12 | 22 | 32 |\n",
       "| 14 | 24 | 34 |\n",
       "\n"
      ],
      "text/plain": [
       "     [,1] [,2] [,3]\n",
       "[1,] 12   22   32  \n",
       "[2,] 14   24   34  "
      ]
     },
     "metadata": {},
     "output_type": "display_data"
    },
    {
     "data": {
      "text/html": [
       "<table>\n",
       "<tbody>\n",
       "\t<tr><td>11</td><td>21</td><td>31</td></tr>\n",
       "\t<tr><td>12</td><td>22</td><td>32</td></tr>\n",
       "</tbody>\n",
       "</table>\n"
      ],
      "text/latex": [
       "\\begin{tabular}{lll}\n",
       "\t 11 & 21 & 31\\\\\n",
       "\t 12 & 22 & 32\\\\\n",
       "\\end{tabular}\n"
      ],
      "text/markdown": [
       "\n",
       "| 11 | 21 | 31 |\n",
       "| 12 | 22 | 32 |\n",
       "\n"
      ],
      "text/plain": [
       "     [,1] [,2] [,3]\n",
       "[1,] 11   21   31  \n",
       "[2,] 12   22   32  "
      ]
     },
     "metadata": {},
     "output_type": "display_data"
    }
   ],
   "source": [
    "C[2,2,3]   #to access 2nd row of matrices\n",
    "C[2,,]     #to access 1st column of matrices\n",
    "C[,1,]    "
   ]
  },
  {
   "cell_type": "markdown",
   "id": "c2154539",
   "metadata": {},
   "source": [
    "## Operations on Arrays"
   ]
  },
  {
   "cell_type": "markdown",
   "id": "9048c020",
   "metadata": {},
   "source": [
    "Syntax -> Var_names=apply(array_name,c(1 or 2), function)"
   ]
  },
  {
   "cell_type": "code",
   "execution_count": 52,
   "id": "354fde2e",
   "metadata": {},
   "outputs": [
    {
     "data": {
      "text/html": [
       "<ol class=list-inline>\n",
       "\t<li>33</li>\n",
       "\t<li>34</li>\n",
       "</ol>\n"
      ],
      "text/latex": [
       "\\begin{enumerate*}\n",
       "\\item 33\n",
       "\\item 34\n",
       "\\end{enumerate*}\n"
      ],
      "text/markdown": [
       "1. 33\n",
       "2. 34\n",
       "\n",
       "\n"
      ],
      "text/plain": [
       "[1] 33 34"
      ]
     },
     "metadata": {},
     "output_type": "display_data"
    },
    {
     "data": {
      "text/html": [
       "<ol class=list-inline>\n",
       "\t<li>11</li>\n",
       "\t<li>12</li>\n",
       "\t<li>13</li>\n",
       "\t<li>14</li>\n",
       "\t<li>21</li>\n",
       "\t<li>22</li>\n",
       "\t<li>23</li>\n",
       "\t<li>24</li>\n",
       "\t<li>31</li>\n",
       "\t<li>32</li>\n",
       "\t<li>33</li>\n",
       "\t<li>34</li>\n",
       "</ol>\n"
      ],
      "text/latex": [
       "\\begin{enumerate*}\n",
       "\\item 11\n",
       "\\item 12\n",
       "\\item 13\n",
       "\\item 14\n",
       "\\item 21\n",
       "\\item 22\n",
       "\\item 23\n",
       "\\item 24\n",
       "\\item 31\n",
       "\\item 32\n",
       "\\item 33\n",
       "\\item 34\n",
       "\\end{enumerate*}\n"
      ],
      "text/markdown": [
       "1. 11\n",
       "2. 12\n",
       "3. 13\n",
       "4. 14\n",
       "5. 21\n",
       "6. 22\n",
       "7. 23\n",
       "8. 24\n",
       "9. 31\n",
       "10. 32\n",
       "11. 33\n",
       "12. 34\n",
       "\n",
       "\n"
      ],
      "text/plain": [
       ", , 1\n",
       "\n",
       "     [,1] [,2]\n",
       "[1,]   11   13\n",
       "[2,]   12   14\n",
       "\n",
       ", , 2\n",
       "\n",
       "     [,1] [,2]\n",
       "[1,]   21   23\n",
       "[2,]   22   24\n",
       "\n",
       ", , 3\n",
       "\n",
       "     [,1] [,2]\n",
       "[1,]   31   33\n",
       "[2,]   32   34\n"
      ]
     },
     "metadata": {},
     "output_type": "display_data"
    }
   ],
   "source": [
    "r=apply(C,c(1),max)\n",
    "r\n",
    "C"
   ]
  },
  {
   "cell_type": "code",
   "execution_count": 53,
   "id": "c0fa723f",
   "metadata": {},
   "outputs": [
    {
     "data": {
      "text/html": [
       "<ol class=list-inline>\n",
       "\t<li>11</li>\n",
       "\t<li>12</li>\n",
       "</ol>\n"
      ],
      "text/latex": [
       "\\begin{enumerate*}\n",
       "\\item 11\n",
       "\\item 12\n",
       "\\end{enumerate*}\n"
      ],
      "text/markdown": [
       "1. 11\n",
       "2. 12\n",
       "\n",
       "\n"
      ],
      "text/plain": [
       "[1] 11 12"
      ]
     },
     "metadata": {},
     "output_type": "display_data"
    }
   ],
   "source": [
    "t=apply(C,c(1),min)\n",
    "t"
   ]
  },
  {
   "cell_type": "code",
   "execution_count": 54,
   "id": "d1e1045d",
   "metadata": {},
   "outputs": [
    {
     "data": {
      "text/html": [
       "<ol class=list-inline>\n",
       "\t<li>11</li>\n",
       "\t<li>13</li>\n",
       "</ol>\n"
      ],
      "text/latex": [
       "\\begin{enumerate*}\n",
       "\\item 11\n",
       "\\item 13\n",
       "\\end{enumerate*}\n"
      ],
      "text/markdown": [
       "1. 11\n",
       "2. 13\n",
       "\n",
       "\n"
      ],
      "text/plain": [
       "[1] 11 13"
      ]
     },
     "metadata": {},
     "output_type": "display_data"
    }
   ],
   "source": [
    "u=apply(C,c(2),min)\n",
    "u"
   ]
  },
  {
   "cell_type": "markdown",
   "id": "d78cb3c0",
   "metadata": {},
   "source": [
    "## getwd and setwd function"
   ]
  },
  {
   "cell_type": "code",
   "execution_count": 55,
   "id": "3049c47d",
   "metadata": {},
   "outputs": [
    {
     "data": {
      "text/html": [
       "'C:/Users/sathi/Videos'"
      ],
      "text/latex": [
       "'C:/Users/sathi/Videos'"
      ],
      "text/markdown": [
       "'C:/Users/sathi/Videos'"
      ],
      "text/plain": [
       "[1] \"C:/Users/sathi/Videos\""
      ]
     },
     "metadata": {},
     "output_type": "display_data"
    }
   ],
   "source": [
    "getwd() # returns an absolute filepath representing the current working directory of the R process\n",
    "#setwd(\"C:/Users/Acer/Desktop\")\n"
   ]
  },
  {
   "cell_type": "markdown",
   "id": "88dc8a4f",
   "metadata": {},
   "source": [
    "## Creating a Data Frame"
   ]
  },
  {
   "cell_type": "code",
   "execution_count": 56,
   "id": "072636d3",
   "metadata": {},
   "outputs": [
    {
     "data": {
      "text/html": [
       "'character'"
      ],
      "text/latex": [
       "'character'"
      ],
      "text/markdown": [
       "'character'"
      ],
      "text/plain": [
       "[1] \"character\""
      ]
     },
     "metadata": {},
     "output_type": "display_data"
    }
   ],
   "source": [
    "Roll_no <- seq(from=121,to=130,by=1) \n",
    "#seq generate regular sequences\n",
    "names <- c(\"A\",\"B\",\"C\",\"D\",\"E\",\"F\",\"G\",\"I\",\"J\", \"H\")\n",
    "date <- c(\"15/12/1990\",\"01/12/1990\",\"31/12/1990\",\"10/01/1991\",\"01/01/1991\",\"10/01/1991\",\"01/12/1990\",\"12/01/1991\",\n",
    "          \"01/01/1991\",\"10/01/1991\")\n",
    "class(date) # gives the class of the list"
   ]
  },
  {
   "cell_type": "code",
   "execution_count": 57,
   "id": "3797cea3",
   "metadata": {},
   "outputs": [
    {
     "data": {
      "text/html": [
       "'Date'"
      ],
      "text/latex": [
       "'Date'"
      ],
      "text/markdown": [
       "'Date'"
      ],
      "text/plain": [
       "[1] \"Date\""
      ]
     },
     "metadata": {},
     "output_type": "display_data"
    }
   ],
   "source": [
    "dob <- as.Date(date,\"%d/%m/%Y\")\n",
    "#as.Date functions to convert between character representations and objects of class \"Date\" representing calendar dates.\n",
    "class(dob)"
   ]
  },
  {
   "cell_type": "code",
   "execution_count": 58,
   "id": "eb243e24",
   "metadata": {},
   "outputs": [
    {
     "data": {
      "text/html": [
       "<table>\n",
       "<thead><tr><th scope=col>Roll_no</th><th scope=col>names</th><th scope=col>dob</th><th scope=col>bstat</th><th scope=col>btrics</th><th scope=col>micro</th><th scope=col>maths</th></tr></thead>\n",
       "<tbody>\n",
       "\t<tr><td>121       </td><td>A         </td><td>1990-12-15</td><td>28        </td><td>25        </td><td>20        </td><td> 18       </td></tr>\n",
       "\t<tr><td>122       </td><td>B         </td><td>1990-12-01</td><td>20        </td><td>21        </td><td>25        </td><td> 25       </td></tr>\n",
       "\t<tr><td>123       </td><td>C         </td><td>1990-12-31</td><td>21        </td><td>16        </td><td>14        </td><td> 22       </td></tr>\n",
       "\t<tr><td>124       </td><td>D         </td><td>1991-01-10</td><td> 6        </td><td> 9        </td><td>14        </td><td>  4       </td></tr>\n",
       "\t<tr><td>125       </td><td>E         </td><td>1991-01-01</td><td>20        </td><td>16        </td><td>11        </td><td> 15       </td></tr>\n",
       "\t<tr><td>126       </td><td>F         </td><td>1991-01-10</td><td>15        </td><td>20        </td><td>12        </td><td> 18       </td></tr>\n",
       "\t<tr><td>127       </td><td>G         </td><td>1990-12-01</td><td> 4        </td><td> 6        </td><td>10        </td><td>  2       </td></tr>\n",
       "\t<tr><td>128       </td><td>I         </td><td>1991-01-12</td><td>18        </td><td>22        </td><td>16        </td><td> 20       </td></tr>\n",
       "\t<tr><td>129       </td><td>J         </td><td>1991-01-01</td><td> 9        </td><td>12        </td><td> 9        </td><td>  8       </td></tr>\n",
       "\t<tr><td>130       </td><td>H         </td><td>1991-01-10</td><td>12        </td><td>10        </td><td>11        </td><td>NaN       </td></tr>\n",
       "</tbody>\n",
       "</table>\n"
      ],
      "text/latex": [
       "\\begin{tabular}{r|lllllll}\n",
       " Roll\\_no & names & dob & bstat & btrics & micro & maths\\\\\n",
       "\\hline\n",
       "\t 121        & A          & 1990-12-15 & 28         & 25         & 20         &  18       \\\\\n",
       "\t 122        & B          & 1990-12-01 & 20         & 21         & 25         &  25       \\\\\n",
       "\t 123        & C          & 1990-12-31 & 21         & 16         & 14         &  22       \\\\\n",
       "\t 124        & D          & 1991-01-10 &  6         &  9         & 14         &   4       \\\\\n",
       "\t 125        & E          & 1991-01-01 & 20         & 16         & 11         &  15       \\\\\n",
       "\t 126        & F          & 1991-01-10 & 15         & 20         & 12         &  18       \\\\\n",
       "\t 127        & G          & 1990-12-01 &  4         &  6         & 10         &   2       \\\\\n",
       "\t 128        & I          & 1991-01-12 & 18         & 22         & 16         &  20       \\\\\n",
       "\t 129        & J          & 1991-01-01 &  9         & 12         &  9         &   8       \\\\\n",
       "\t 130        & H          & 1991-01-10 & 12         & 10         & 11         & NaN       \\\\\n",
       "\\end{tabular}\n"
      ],
      "text/markdown": [
       "\n",
       "| Roll_no | names | dob | bstat | btrics | micro | maths |\n",
       "|---|---|---|---|---|---|---|\n",
       "| 121        | A          | 1990-12-15 | 28         | 25         | 20         |  18        |\n",
       "| 122        | B          | 1990-12-01 | 20         | 21         | 25         |  25        |\n",
       "| 123        | C          | 1990-12-31 | 21         | 16         | 14         |  22        |\n",
       "| 124        | D          | 1991-01-10 |  6         |  9         | 14         |   4        |\n",
       "| 125        | E          | 1991-01-01 | 20         | 16         | 11         |  15        |\n",
       "| 126        | F          | 1991-01-10 | 15         | 20         | 12         |  18        |\n",
       "| 127        | G          | 1990-12-01 |  4         |  6         | 10         |   2        |\n",
       "| 128        | I          | 1991-01-12 | 18         | 22         | 16         |  20        |\n",
       "| 129        | J          | 1991-01-01 |  9         | 12         |  9         |   8        |\n",
       "| 130        | H          | 1991-01-10 | 12         | 10         | 11         | NaN        |\n",
       "\n"
      ],
      "text/plain": [
       "   Roll_no names dob        bstat btrics micro maths\n",
       "1  121     A     1990-12-15 28    25     20     18  \n",
       "2  122     B     1990-12-01 20    21     25     25  \n",
       "3  123     C     1990-12-31 21    16     14     22  \n",
       "4  124     D     1991-01-10  6     9     14      4  \n",
       "5  125     E     1991-01-01 20    16     11     15  \n",
       "6  126     F     1991-01-10 15    20     12     18  \n",
       "7  127     G     1990-12-01  4     6     10      2  \n",
       "8  128     I     1991-01-12 18    22     16     20  \n",
       "9  129     J     1991-01-01  9    12      9      8  \n",
       "10 130     H     1991-01-10 12    10     11    NaN  "
      ]
     },
     "metadata": {},
     "output_type": "display_data"
    }
   ],
   "source": [
    "bstat <-c(28,20,21,6,20,15,4,18,9,12)\n",
    "btrics <- c(25,21,16,9,16,20,6,22,12,10)\n",
    "micro <- c(20,25,14,14,11,12,10,16,9,11)\n",
    "maths <- c(18,25,22,4,15,18,2,20,8,NaN)\n",
    "\n",
    "MA_First <- data.frame(Roll_no,names,dob,bstat,btrics,micro,maths)\n",
    "MA_First"
   ]
  },
  {
   "cell_type": "markdown",
   "id": "c9e5e4d2",
   "metadata": {},
   "source": [
    "## Add new variable/Object in existing data frame"
   ]
  },
  {
   "cell_type": "code",
   "execution_count": 59,
   "id": "9cb68ff8",
   "metadata": {},
   "outputs": [
    {
     "data": {
      "text/html": [
       "<table>\n",
       "<thead><tr><th scope=col>Roll_no</th><th scope=col>names</th><th scope=col>dob</th><th scope=col>bstat</th><th scope=col>btrics</th><th scope=col>micro</th><th scope=col>maths</th><th scope=col>macro</th></tr></thead>\n",
       "<tbody>\n",
       "\t<tr><td>121       </td><td>A         </td><td>1990-12-15</td><td>28        </td><td>25        </td><td>20        </td><td> 18       </td><td>18        </td></tr>\n",
       "\t<tr><td>122       </td><td>B         </td><td>1990-12-01</td><td>20        </td><td>21        </td><td>25        </td><td> 25       </td><td>25        </td></tr>\n",
       "\t<tr><td>123       </td><td>C         </td><td>1990-12-31</td><td>21        </td><td>16        </td><td>14        </td><td> 22       </td><td>22        </td></tr>\n",
       "\t<tr><td>124       </td><td>D         </td><td>1991-01-10</td><td> 6        </td><td> 9        </td><td>14        </td><td>  4       </td><td> 4        </td></tr>\n",
       "\t<tr><td>125       </td><td>E         </td><td>1991-01-01</td><td>20        </td><td>16        </td><td>11        </td><td> 15       </td><td>15        </td></tr>\n",
       "\t<tr><td>126       </td><td>F         </td><td>1991-01-10</td><td>15        </td><td>20        </td><td>12        </td><td> 18       </td><td>18        </td></tr>\n",
       "\t<tr><td>127       </td><td>G         </td><td>1990-12-01</td><td> 4        </td><td> 6        </td><td>10        </td><td>  2       </td><td> 2        </td></tr>\n",
       "\t<tr><td>128       </td><td>I         </td><td>1991-01-12</td><td>18        </td><td>22        </td><td>16        </td><td> 20       </td><td>20        </td></tr>\n",
       "\t<tr><td>129       </td><td>J         </td><td>1991-01-01</td><td> 9        </td><td>12        </td><td> 9        </td><td>  8       </td><td> 8        </td></tr>\n",
       "\t<tr><td>130       </td><td>H         </td><td>1991-01-10</td><td>12        </td><td>10        </td><td>11        </td><td>NaN       </td><td>12        </td></tr>\n",
       "</tbody>\n",
       "</table>\n"
      ],
      "text/latex": [
       "\\begin{tabular}{r|llllllll}\n",
       " Roll\\_no & names & dob & bstat & btrics & micro & maths & macro\\\\\n",
       "\\hline\n",
       "\t 121        & A          & 1990-12-15 & 28         & 25         & 20         &  18        & 18        \\\\\n",
       "\t 122        & B          & 1990-12-01 & 20         & 21         & 25         &  25        & 25        \\\\\n",
       "\t 123        & C          & 1990-12-31 & 21         & 16         & 14         &  22        & 22        \\\\\n",
       "\t 124        & D          & 1991-01-10 &  6         &  9         & 14         &   4        &  4        \\\\\n",
       "\t 125        & E          & 1991-01-01 & 20         & 16         & 11         &  15        & 15        \\\\\n",
       "\t 126        & F          & 1991-01-10 & 15         & 20         & 12         &  18        & 18        \\\\\n",
       "\t 127        & G          & 1990-12-01 &  4         &  6         & 10         &   2        &  2        \\\\\n",
       "\t 128        & I          & 1991-01-12 & 18         & 22         & 16         &  20        & 20        \\\\\n",
       "\t 129        & J          & 1991-01-01 &  9         & 12         &  9         &   8        &  8        \\\\\n",
       "\t 130        & H          & 1991-01-10 & 12         & 10         & 11         & NaN        & 12        \\\\\n",
       "\\end{tabular}\n"
      ],
      "text/markdown": [
       "\n",
       "| Roll_no | names | dob | bstat | btrics | micro | maths | macro |\n",
       "|---|---|---|---|---|---|---|---|\n",
       "| 121        | A          | 1990-12-15 | 28         | 25         | 20         |  18        | 18         |\n",
       "| 122        | B          | 1990-12-01 | 20         | 21         | 25         |  25        | 25         |\n",
       "| 123        | C          | 1990-12-31 | 21         | 16         | 14         |  22        | 22         |\n",
       "| 124        | D          | 1991-01-10 |  6         |  9         | 14         |   4        |  4         |\n",
       "| 125        | E          | 1991-01-01 | 20         | 16         | 11         |  15        | 15         |\n",
       "| 126        | F          | 1991-01-10 | 15         | 20         | 12         |  18        | 18         |\n",
       "| 127        | G          | 1990-12-01 |  4         |  6         | 10         |   2        |  2         |\n",
       "| 128        | I          | 1991-01-12 | 18         | 22         | 16         |  20        | 20         |\n",
       "| 129        | J          | 1991-01-01 |  9         | 12         |  9         |   8        |  8         |\n",
       "| 130        | H          | 1991-01-10 | 12         | 10         | 11         | NaN        | 12         |\n",
       "\n"
      ],
      "text/plain": [
       "   Roll_no names dob        bstat btrics micro maths macro\n",
       "1  121     A     1990-12-15 28    25     20     18   18   \n",
       "2  122     B     1990-12-01 20    21     25     25   25   \n",
       "3  123     C     1990-12-31 21    16     14     22   22   \n",
       "4  124     D     1991-01-10  6     9     14      4    4   \n",
       "5  125     E     1991-01-01 20    16     11     15   15   \n",
       "6  126     F     1991-01-10 15    20     12     18   18   \n",
       "7  127     G     1990-12-01  4     6     10      2    2   \n",
       "8  128     I     1991-01-12 18    22     16     20   20   \n",
       "9  129     J     1991-01-01  9    12      9      8    8   \n",
       "10 130     H     1991-01-10 12    10     11    NaN   12   "
      ]
     },
     "metadata": {},
     "output_type": "display_data"
    }
   ],
   "source": [
    "macro <- c(18,25,22,4,15,18,2,20,8,12)\n",
    "\n",
    "MA_First1 <-data.frame(MA_First, macro)\n",
    "MA_First1"
   ]
  },
  {
   "cell_type": "markdown",
   "id": "3843262a",
   "metadata": {},
   "source": [
    "## Alternative way to create Data frame"
   ]
  },
  {
   "cell_type": "code",
   "execution_count": 60,
   "id": "ff7b37a2",
   "metadata": {},
   "outputs": [
    {
     "data": {
      "text/html": [
       "<table>\n",
       "<thead><tr><th scope=col>Roll_no</th><th scope=col>names</th><th scope=col>dob</th><th scope=col>bstat</th><th scope=col>btrics</th><th scope=col>micro</th><th scope=col>maths</th><th scope=col>macro</th></tr></thead>\n",
       "<tbody>\n",
       "\t<tr><td>121       </td><td>A         </td><td>1990-12-15</td><td>28        </td><td>25        </td><td>20        </td><td>18        </td><td>18        </td></tr>\n",
       "\t<tr><td>122       </td><td>B         </td><td>1990-12-01</td><td>20        </td><td>21        </td><td>25        </td><td>25        </td><td>25        </td></tr>\n",
       "\t<tr><td>123       </td><td>C         </td><td>1990-12-31</td><td>21        </td><td>16        </td><td>14        </td><td>22        </td><td>22        </td></tr>\n",
       "\t<tr><td>124       </td><td>D         </td><td>1991-01-10</td><td> 6        </td><td> 9        </td><td>14        </td><td> 4        </td><td> 4        </td></tr>\n",
       "\t<tr><td>125       </td><td>E         </td><td>1991-01-01</td><td>20        </td><td>16        </td><td>11        </td><td>15        </td><td>15        </td></tr>\n",
       "\t<tr><td>126       </td><td>F         </td><td>1991-01-10</td><td>15        </td><td>20        </td><td>12        </td><td>18        </td><td>18        </td></tr>\n",
       "\t<tr><td>127       </td><td>G         </td><td>1990-12-01</td><td> 4        </td><td> 6        </td><td>10        </td><td> 2        </td><td> 2        </td></tr>\n",
       "\t<tr><td>128       </td><td>I         </td><td>1991-01-12</td><td>18        </td><td>22        </td><td>16        </td><td>20        </td><td>20        </td></tr>\n",
       "\t<tr><td>129       </td><td>J         </td><td>1991-01-01</td><td> 9        </td><td>12        </td><td> 9        </td><td> 8        </td><td> 8        </td></tr>\n",
       "\t<tr><td>130       </td><td>H         </td><td>1991-01-10</td><td>12        </td><td>10        </td><td>11        </td><td>12        </td><td>12        </td></tr>\n",
       "</tbody>\n",
       "</table>\n"
      ],
      "text/latex": [
       "\\begin{tabular}{r|llllllll}\n",
       " Roll\\_no & names & dob & bstat & btrics & micro & maths & macro\\\\\n",
       "\\hline\n",
       "\t 121        & A          & 1990-12-15 & 28         & 25         & 20         & 18         & 18        \\\\\n",
       "\t 122        & B          & 1990-12-01 & 20         & 21         & 25         & 25         & 25        \\\\\n",
       "\t 123        & C          & 1990-12-31 & 21         & 16         & 14         & 22         & 22        \\\\\n",
       "\t 124        & D          & 1991-01-10 &  6         &  9         & 14         &  4         &  4        \\\\\n",
       "\t 125        & E          & 1991-01-01 & 20         & 16         & 11         & 15         & 15        \\\\\n",
       "\t 126        & F          & 1991-01-10 & 15         & 20         & 12         & 18         & 18        \\\\\n",
       "\t 127        & G          & 1990-12-01 &  4         &  6         & 10         &  2         &  2        \\\\\n",
       "\t 128        & I          & 1991-01-12 & 18         & 22         & 16         & 20         & 20        \\\\\n",
       "\t 129        & J          & 1991-01-01 &  9         & 12         &  9         &  8         &  8        \\\\\n",
       "\t 130        & H          & 1991-01-10 & 12         & 10         & 11         & 12         & 12        \\\\\n",
       "\\end{tabular}\n"
      ],
      "text/markdown": [
       "\n",
       "| Roll_no | names | dob | bstat | btrics | micro | maths | macro |\n",
       "|---|---|---|---|---|---|---|---|\n",
       "| 121        | A          | 1990-12-15 | 28         | 25         | 20         | 18         | 18         |\n",
       "| 122        | B          | 1990-12-01 | 20         | 21         | 25         | 25         | 25         |\n",
       "| 123        | C          | 1990-12-31 | 21         | 16         | 14         | 22         | 22         |\n",
       "| 124        | D          | 1991-01-10 |  6         |  9         | 14         |  4         |  4         |\n",
       "| 125        | E          | 1991-01-01 | 20         | 16         | 11         | 15         | 15         |\n",
       "| 126        | F          | 1991-01-10 | 15         | 20         | 12         | 18         | 18         |\n",
       "| 127        | G          | 1990-12-01 |  4         |  6         | 10         |  2         |  2         |\n",
       "| 128        | I          | 1991-01-12 | 18         | 22         | 16         | 20         | 20         |\n",
       "| 129        | J          | 1991-01-01 |  9         | 12         |  9         |  8         |  8         |\n",
       "| 130        | H          | 1991-01-10 | 12         | 10         | 11         | 12         | 12         |\n",
       "\n"
      ],
      "text/plain": [
       "   Roll_no names dob        bstat btrics micro maths macro\n",
       "1  121     A     1990-12-15 28    25     20    18    18   \n",
       "2  122     B     1990-12-01 20    21     25    25    25   \n",
       "3  123     C     1990-12-31 21    16     14    22    22   \n",
       "4  124     D     1991-01-10  6     9     14     4     4   \n",
       "5  125     E     1991-01-01 20    16     11    15    15   \n",
       "6  126     F     1991-01-10 15    20     12    18    18   \n",
       "7  127     G     1990-12-01  4     6     10     2     2   \n",
       "8  128     I     1991-01-12 18    22     16    20    20   \n",
       "9  129     J     1991-01-01  9    12      9     8     8   \n",
       "10 130     H     1991-01-10 12    10     11    12    12   "
      ]
     },
     "metadata": {},
     "output_type": "display_data"
    }
   ],
   "source": [
    "date <- c(\"15/12/1990\",\"01/12/1990\",\"31/12/1990\",\"10/01/1991\",\n",
    "          \"01/01/1991\",\"10/01/1991\",\"01/12/1990\",\"12/01/1991\",\n",
    "          \"01/01/1991\",\"10/01/1991\")\n",
    "\n",
    "MA_First <- data.frame(\n",
    "  Roll_no = seq(from=121,to=130,by=1),\n",
    "  names = c(\"A\",\"B\",\"C\",\"D\",\"E\",\"F\",\"G\",\"I\",\"J\", \"H\"),\n",
    "  dob =as.Date(date,\"%d/%m/%Y\"),\n",
    "  bstat =c(28,20,21,6,20,15,4,18,9,12),\n",
    "  btrics = c(25,21,16,9,16,20,6,22,12,10),\n",
    "  micro = c(20,25,14,14,11,12,10,16,9,11),\n",
    "  maths = c(18,25,22,4,15,18,2,20,8,12),\n",
    "  macro = c(18,25,22,4,15,18,2,20,8,12)\n",
    "  )\n",
    "MA_First"
   ]
  },
  {
   "cell_type": "markdown",
   "id": "420dc580",
   "metadata": {},
   "source": [
    "Extracting individual rows/ columns from data frame"
   ]
  },
  {
   "cell_type": "code",
   "execution_count": 61,
   "id": "eb89b2bf",
   "metadata": {},
   "outputs": [
    {
     "data": {
      "text/html": [
       "<table>\n",
       "<thead><tr><th></th><th scope=col>Roll_no</th><th scope=col>names</th><th scope=col>dob</th><th scope=col>bstat</th><th scope=col>btrics</th><th scope=col>micro</th><th scope=col>maths</th><th scope=col>macro</th></tr></thead>\n",
       "<tbody>\n",
       "\t<tr><th scope=row>10</th><td>130       </td><td>H         </td><td>1991-01-10</td><td>12        </td><td>10        </td><td>11        </td><td>12        </td><td>12        </td></tr>\n",
       "</tbody>\n",
       "</table>\n"
      ],
      "text/latex": [
       "\\begin{tabular}{r|llllllll}\n",
       "  & Roll\\_no & names & dob & bstat & btrics & micro & maths & macro\\\\\n",
       "\\hline\n",
       "\t10 & 130        & H          & 1991-01-10 & 12         & 10         & 11         & 12         & 12        \\\\\n",
       "\\end{tabular}\n"
      ],
      "text/markdown": [
       "\n",
       "| <!--/--> | Roll_no | names | dob | bstat | btrics | micro | maths | macro |\n",
       "|---|---|---|---|---|---|---|---|---|\n",
       "| 10 | 130        | H          | 1991-01-10 | 12         | 10         | 11         | 12         | 12         |\n",
       "\n"
      ],
      "text/plain": [
       "   Roll_no names dob        bstat btrics micro maths macro\n",
       "10 130     H     1991-01-10 12    10     11    12    12   "
      ]
     },
     "metadata": {},
     "output_type": "display_data"
    },
    {
     "data": {
      "text/html": [
       "<table>\n",
       "<thead><tr><th></th><th scope=col>Roll_no</th><th scope=col>names</th><th scope=col>dob</th><th scope=col>bstat</th><th scope=col>btrics</th><th scope=col>micro</th><th scope=col>maths</th><th scope=col>macro</th></tr></thead>\n",
       "<tbody>\n",
       "\t<tr><th scope=row>3</th><td>123       </td><td>C         </td><td>1990-12-31</td><td>21        </td><td>16        </td><td>14        </td><td>22        </td><td>22        </td></tr>\n",
       "</tbody>\n",
       "</table>\n"
      ],
      "text/latex": [
       "\\begin{tabular}{r|llllllll}\n",
       "  & Roll\\_no & names & dob & bstat & btrics & micro & maths & macro\\\\\n",
       "\\hline\n",
       "\t3 & 123        & C          & 1990-12-31 & 21         & 16         & 14         & 22         & 22        \\\\\n",
       "\\end{tabular}\n"
      ],
      "text/markdown": [
       "\n",
       "| <!--/--> | Roll_no | names | dob | bstat | btrics | micro | maths | macro |\n",
       "|---|---|---|---|---|---|---|---|---|\n",
       "| 3 | 123        | C          | 1990-12-31 | 21         | 16         | 14         | 22         | 22         |\n",
       "\n"
      ],
      "text/plain": [
       "  Roll_no names dob        bstat btrics micro maths macro\n",
       "3 123     C     1990-12-31 21    16     14    22    22   "
      ]
     },
     "metadata": {},
     "output_type": "display_data"
    }
   ],
   "source": [
    "#Row\n",
    "MA_First[10,]\n",
    "MA_First[3,]"
   ]
  },
  {
   "cell_type": "code",
   "execution_count": 62,
   "id": "cf959a1f",
   "metadata": {},
   "outputs": [
    {
     "data": {
      "text/html": [
       "<ol class=list-inline>\n",
       "\t<li>25</li>\n",
       "\t<li>21</li>\n",
       "\t<li>16</li>\n",
       "\t<li>9</li>\n",
       "\t<li>16</li>\n",
       "\t<li>20</li>\n",
       "\t<li>6</li>\n",
       "\t<li>22</li>\n",
       "\t<li>12</li>\n",
       "\t<li>10</li>\n",
       "</ol>\n"
      ],
      "text/latex": [
       "\\begin{enumerate*}\n",
       "\\item 25\n",
       "\\item 21\n",
       "\\item 16\n",
       "\\item 9\n",
       "\\item 16\n",
       "\\item 20\n",
       "\\item 6\n",
       "\\item 22\n",
       "\\item 12\n",
       "\\item 10\n",
       "\\end{enumerate*}\n"
      ],
      "text/markdown": [
       "1. 25\n",
       "2. 21\n",
       "3. 16\n",
       "4. 9\n",
       "5. 16\n",
       "6. 20\n",
       "7. 6\n",
       "8. 22\n",
       "9. 12\n",
       "10. 10\n",
       "\n",
       "\n"
      ],
      "text/plain": [
       " [1] 25 21 16  9 16 20  6 22 12 10"
      ]
     },
     "metadata": {},
     "output_type": "display_data"
    },
    {
     "data": {
      "text/html": [
       "<ol class=list-inline>\n",
       "\t<li>A</li>\n",
       "\t<li>B</li>\n",
       "\t<li>C</li>\n",
       "\t<li>D</li>\n",
       "\t<li>E</li>\n",
       "\t<li>F</li>\n",
       "\t<li>G</li>\n",
       "\t<li>I</li>\n",
       "\t<li>J</li>\n",
       "\t<li>H</li>\n",
       "</ol>\n",
       "\n",
       "<details>\n",
       "\t<summary style=display:list-item;cursor:pointer>\n",
       "\t\t<strong>Levels</strong>:\n",
       "\t</summary>\n",
       "\t<ol class=list-inline>\n",
       "\t\t<li>'A'</li>\n",
       "\t\t<li>'B'</li>\n",
       "\t\t<li>'C'</li>\n",
       "\t\t<li>'D'</li>\n",
       "\t\t<li>'E'</li>\n",
       "\t\t<li>'F'</li>\n",
       "\t\t<li>'G'</li>\n",
       "\t\t<li>'H'</li>\n",
       "\t\t<li>'I'</li>\n",
       "\t\t<li>'J'</li>\n",
       "\t</ol>\n",
       "</details>"
      ],
      "text/latex": [
       "\\begin{enumerate*}\n",
       "\\item A\n",
       "\\item B\n",
       "\\item C\n",
       "\\item D\n",
       "\\item E\n",
       "\\item F\n",
       "\\item G\n",
       "\\item I\n",
       "\\item J\n",
       "\\item H\n",
       "\\end{enumerate*}\n",
       "\n",
       "\\emph{Levels}: \\begin{enumerate*}\n",
       "\\item 'A'\n",
       "\\item 'B'\n",
       "\\item 'C'\n",
       "\\item 'D'\n",
       "\\item 'E'\n",
       "\\item 'F'\n",
       "\\item 'G'\n",
       "\\item 'H'\n",
       "\\item 'I'\n",
       "\\item 'J'\n",
       "\\end{enumerate*}\n"
      ],
      "text/markdown": [
       "1. A\n",
       "2. B\n",
       "3. C\n",
       "4. D\n",
       "5. E\n",
       "6. F\n",
       "7. G\n",
       "8. I\n",
       "9. J\n",
       "10. H\n",
       "\n",
       "\n",
       "\n",
       "**Levels**: 1. 'A'\n",
       "2. 'B'\n",
       "3. 'C'\n",
       "4. 'D'\n",
       "5. 'E'\n",
       "6. 'F'\n",
       "7. 'G'\n",
       "8. 'H'\n",
       "9. 'I'\n",
       "10. 'J'\n",
       "\n",
       "\n"
      ],
      "text/plain": [
       " [1] A B C D E F G I J H\n",
       "Levels: A B C D E F G H I J"
      ]
     },
     "metadata": {},
     "output_type": "display_data"
    }
   ],
   "source": [
    "#Column\n",
    "MA_First[,5]\n",
    "MA_First[,2]"
   ]
  },
  {
   "cell_type": "code",
   "execution_count": 63,
   "id": "505d1e12",
   "metadata": {},
   "outputs": [
    {
     "data": {
      "text/html": [
       "<table>\n",
       "<thead><tr><th scope=col>btrics</th></tr></thead>\n",
       "<tbody>\n",
       "\t<tr><td>25</td></tr>\n",
       "\t<tr><td>21</td></tr>\n",
       "\t<tr><td>16</td></tr>\n",
       "\t<tr><td> 9</td></tr>\n",
       "\t<tr><td>16</td></tr>\n",
       "\t<tr><td>20</td></tr>\n",
       "\t<tr><td> 6</td></tr>\n",
       "\t<tr><td>22</td></tr>\n",
       "\t<tr><td>12</td></tr>\n",
       "\t<tr><td>10</td></tr>\n",
       "</tbody>\n",
       "</table>\n"
      ],
      "text/latex": [
       "\\begin{tabular}{r|l}\n",
       " btrics\\\\\n",
       "\\hline\n",
       "\t 25\\\\\n",
       "\t 21\\\\\n",
       "\t 16\\\\\n",
       "\t  9\\\\\n",
       "\t 16\\\\\n",
       "\t 20\\\\\n",
       "\t  6\\\\\n",
       "\t 22\\\\\n",
       "\t 12\\\\\n",
       "\t 10\\\\\n",
       "\\end{tabular}\n"
      ],
      "text/markdown": [
       "\n",
       "| btrics |\n",
       "|---|\n",
       "| 25 |\n",
       "| 21 |\n",
       "| 16 |\n",
       "|  9 |\n",
       "| 16 |\n",
       "| 20 |\n",
       "|  6 |\n",
       "| 22 |\n",
       "| 12 |\n",
       "| 10 |\n",
       "\n"
      ],
      "text/plain": [
       "   btrics\n",
       "1  25    \n",
       "2  21    \n",
       "3  16    \n",
       "4   9    \n",
       "5  16    \n",
       "6  20    \n",
       "7   6    \n",
       "8  22    \n",
       "9  12    \n",
       "10 10    "
      ]
     },
     "metadata": {},
     "output_type": "display_data"
    }
   ],
   "source": [
    "#If we dont use comma before/after will work as extracting column works \n",
    "MA_First[5]"
   ]
  },
  {
   "cell_type": "code",
   "execution_count": 64,
   "id": "75aa4732",
   "metadata": {},
   "outputs": [
    {
     "data": {
      "text/html": [
       "<table>\n",
       "<thead><tr><th></th><th scope=col>Roll_no</th><th scope=col>names</th><th scope=col>dob</th><th scope=col>bstat</th><th scope=col>btrics</th><th scope=col>micro</th><th scope=col>maths</th><th scope=col>macro</th></tr></thead>\n",
       "<tbody>\n",
       "\t<tr><th scope=row>7</th><td>127       </td><td>G         </td><td>1990-12-01</td><td> 4        </td><td> 6        </td><td>10        </td><td> 2        </td><td> 2        </td></tr>\n",
       "\t<tr><th scope=row>8</th><td>128       </td><td>I         </td><td>1991-01-12</td><td>18        </td><td>22        </td><td>16        </td><td>20        </td><td>20        </td></tr>\n",
       "\t<tr><th scope=row>9</th><td>129       </td><td>J         </td><td>1991-01-01</td><td> 9        </td><td>12        </td><td> 9        </td><td> 8        </td><td> 8        </td></tr>\n",
       "\t<tr><th scope=row>10</th><td>130       </td><td>H         </td><td>1991-01-10</td><td>12        </td><td>10        </td><td>11        </td><td>12        </td><td>12        </td></tr>\n",
       "</tbody>\n",
       "</table>\n"
      ],
      "text/latex": [
       "\\begin{tabular}{r|llllllll}\n",
       "  & Roll\\_no & names & dob & bstat & btrics & micro & maths & macro\\\\\n",
       "\\hline\n",
       "\t7 & 127        & G          & 1990-12-01 &  4         &  6         & 10         &  2         &  2        \\\\\n",
       "\t8 & 128        & I          & 1991-01-12 & 18         & 22         & 16         & 20         & 20        \\\\\n",
       "\t9 & 129        & J          & 1991-01-01 &  9         & 12         &  9         &  8         &  8        \\\\\n",
       "\t10 & 130        & H          & 1991-01-10 & 12         & 10         & 11         & 12         & 12        \\\\\n",
       "\\end{tabular}\n"
      ],
      "text/markdown": [
       "\n",
       "| <!--/--> | Roll_no | names | dob | bstat | btrics | micro | maths | macro |\n",
       "|---|---|---|---|---|---|---|---|---|\n",
       "| 7 | 127        | G          | 1990-12-01 |  4         |  6         | 10         |  2         |  2         |\n",
       "| 8 | 128        | I          | 1991-01-12 | 18         | 22         | 16         | 20         | 20         |\n",
       "| 9 | 129        | J          | 1991-01-01 |  9         | 12         |  9         |  8         |  8         |\n",
       "| 10 | 130        | H          | 1991-01-10 | 12         | 10         | 11         | 12         | 12         |\n",
       "\n"
      ],
      "text/plain": [
       "   Roll_no names dob        bstat btrics micro maths macro\n",
       "7  127     G     1990-12-01  4     6     10     2     2   \n",
       "8  128     I     1991-01-12 18    22     16    20    20   \n",
       "9  129     J     1991-01-01  9    12      9     8     8   \n",
       "10 130     H     1991-01-10 12    10     11    12    12   "
      ]
     },
     "metadata": {},
     "output_type": "display_data"
    }
   ],
   "source": [
    "#Extracting consecutive rows/columns\n",
    "MA_First[7:10,]"
   ]
  },
  {
   "cell_type": "code",
   "execution_count": 65,
   "id": "5f3b4289",
   "metadata": {},
   "outputs": [
    {
     "data": {
      "text/html": [
       "<table>\n",
       "<thead><tr><th scope=col>Roll_no</th><th scope=col>names</th><th scope=col>dob</th><th scope=col>bstat</th><th scope=col>btrics</th></tr></thead>\n",
       "<tbody>\n",
       "\t<tr><td>121       </td><td>A         </td><td>1990-12-15</td><td>28        </td><td>25        </td></tr>\n",
       "\t<tr><td>122       </td><td>B         </td><td>1990-12-01</td><td>20        </td><td>21        </td></tr>\n",
       "\t<tr><td>123       </td><td>C         </td><td>1990-12-31</td><td>21        </td><td>16        </td></tr>\n",
       "\t<tr><td>124       </td><td>D         </td><td>1991-01-10</td><td> 6        </td><td> 9        </td></tr>\n",
       "\t<tr><td>125       </td><td>E         </td><td>1991-01-01</td><td>20        </td><td>16        </td></tr>\n",
       "\t<tr><td>126       </td><td>F         </td><td>1991-01-10</td><td>15        </td><td>20        </td></tr>\n",
       "\t<tr><td>127       </td><td>G         </td><td>1990-12-01</td><td> 4        </td><td> 6        </td></tr>\n",
       "\t<tr><td>128       </td><td>I         </td><td>1991-01-12</td><td>18        </td><td>22        </td></tr>\n",
       "\t<tr><td>129       </td><td>J         </td><td>1991-01-01</td><td> 9        </td><td>12        </td></tr>\n",
       "\t<tr><td>130       </td><td>H         </td><td>1991-01-10</td><td>12        </td><td>10        </td></tr>\n",
       "</tbody>\n",
       "</table>\n"
      ],
      "text/latex": [
       "\\begin{tabular}{r|lllll}\n",
       " Roll\\_no & names & dob & bstat & btrics\\\\\n",
       "\\hline\n",
       "\t 121        & A          & 1990-12-15 & 28         & 25        \\\\\n",
       "\t 122        & B          & 1990-12-01 & 20         & 21        \\\\\n",
       "\t 123        & C          & 1990-12-31 & 21         & 16        \\\\\n",
       "\t 124        & D          & 1991-01-10 &  6         &  9        \\\\\n",
       "\t 125        & E          & 1991-01-01 & 20         & 16        \\\\\n",
       "\t 126        & F          & 1991-01-10 & 15         & 20        \\\\\n",
       "\t 127        & G          & 1990-12-01 &  4         &  6        \\\\\n",
       "\t 128        & I          & 1991-01-12 & 18         & 22        \\\\\n",
       "\t 129        & J          & 1991-01-01 &  9         & 12        \\\\\n",
       "\t 130        & H          & 1991-01-10 & 12         & 10        \\\\\n",
       "\\end{tabular}\n"
      ],
      "text/markdown": [
       "\n",
       "| Roll_no | names | dob | bstat | btrics |\n",
       "|---|---|---|---|---|\n",
       "| 121        | A          | 1990-12-15 | 28         | 25         |\n",
       "| 122        | B          | 1990-12-01 | 20         | 21         |\n",
       "| 123        | C          | 1990-12-31 | 21         | 16         |\n",
       "| 124        | D          | 1991-01-10 |  6         |  9         |\n",
       "| 125        | E          | 1991-01-01 | 20         | 16         |\n",
       "| 126        | F          | 1991-01-10 | 15         | 20         |\n",
       "| 127        | G          | 1990-12-01 |  4         |  6         |\n",
       "| 128        | I          | 1991-01-12 | 18         | 22         |\n",
       "| 129        | J          | 1991-01-01 |  9         | 12         |\n",
       "| 130        | H          | 1991-01-10 | 12         | 10         |\n",
       "\n"
      ],
      "text/plain": [
       "   Roll_no names dob        bstat btrics\n",
       "1  121     A     1990-12-15 28    25    \n",
       "2  122     B     1990-12-01 20    21    \n",
       "3  123     C     1990-12-31 21    16    \n",
       "4  124     D     1991-01-10  6     9    \n",
       "5  125     E     1991-01-01 20    16    \n",
       "6  126     F     1991-01-10 15    20    \n",
       "7  127     G     1990-12-01  4     6    \n",
       "8  128     I     1991-01-12 18    22    \n",
       "9  129     J     1991-01-01  9    12    \n",
       "10 130     H     1991-01-10 12    10    "
      ]
     },
     "metadata": {},
     "output_type": "display_data"
    }
   ],
   "source": [
    "MA_First[1:5]"
   ]
  },
  {
   "cell_type": "markdown",
   "id": "646c04af",
   "metadata": {},
   "source": [
    "Alternative way to extract column/object by names"
   ]
  },
  {
   "cell_type": "code",
   "execution_count": 66,
   "id": "ab6e65dd",
   "metadata": {},
   "outputs": [
    {
     "data": {
      "text/html": [
       "<ol class=list-inline>\n",
       "\t<li>28</li>\n",
       "\t<li>20</li>\n",
       "\t<li>21</li>\n",
       "\t<li>6</li>\n",
       "\t<li>20</li>\n",
       "\t<li>15</li>\n",
       "\t<li>4</li>\n",
       "\t<li>18</li>\n",
       "\t<li>9</li>\n",
       "\t<li>12</li>\n",
       "</ol>\n"
      ],
      "text/latex": [
       "\\begin{enumerate*}\n",
       "\\item 28\n",
       "\\item 20\n",
       "\\item 21\n",
       "\\item 6\n",
       "\\item 20\n",
       "\\item 15\n",
       "\\item 4\n",
       "\\item 18\n",
       "\\item 9\n",
       "\\item 12\n",
       "\\end{enumerate*}\n"
      ],
      "text/markdown": [
       "1. 28\n",
       "2. 20\n",
       "3. 21\n",
       "4. 6\n",
       "5. 20\n",
       "6. 15\n",
       "7. 4\n",
       "8. 18\n",
       "9. 9\n",
       "10. 12\n",
       "\n",
       "\n"
      ],
      "text/plain": [
       " [1] 28 20 21  6 20 15  4 18  9 12"
      ]
     },
     "metadata": {},
     "output_type": "display_data"
    }
   ],
   "source": [
    "MA_First$bstat"
   ]
  },
  {
   "cell_type": "code",
   "execution_count": 67,
   "id": "d7ef0efe",
   "metadata": {},
   "outputs": [
    {
     "data": {
      "text/html": [
       "<ol class=list-inline>\n",
       "\t<li>18</li>\n",
       "\t<li>25</li>\n",
       "\t<li>22</li>\n",
       "\t<li>4</li>\n",
       "\t<li>15</li>\n",
       "\t<li>18</li>\n",
       "\t<li>2</li>\n",
       "\t<li>20</li>\n",
       "\t<li>8</li>\n",
       "\t<li>12</li>\n",
       "</ol>\n"
      ],
      "text/latex": [
       "\\begin{enumerate*}\n",
       "\\item 18\n",
       "\\item 25\n",
       "\\item 22\n",
       "\\item 4\n",
       "\\item 15\n",
       "\\item 18\n",
       "\\item 2\n",
       "\\item 20\n",
       "\\item 8\n",
       "\\item 12\n",
       "\\end{enumerate*}\n"
      ],
      "text/markdown": [
       "1. 18\n",
       "2. 25\n",
       "3. 22\n",
       "4. 4\n",
       "5. 15\n",
       "6. 18\n",
       "7. 2\n",
       "8. 20\n",
       "9. 8\n",
       "10. 12\n",
       "\n",
       "\n"
      ],
      "text/plain": [
       " [1] 18 25 22  4 15 18  2 20  8 12"
      ]
     },
     "metadata": {},
     "output_type": "display_data"
    }
   ],
   "source": [
    "MA_First$macro"
   ]
  },
  {
   "cell_type": "markdown",
   "id": "90a6e920",
   "metadata": {},
   "source": [
    "## Descriptive Statistics"
   ]
  },
  {
   "cell_type": "code",
   "execution_count": 68,
   "id": "65418e71",
   "metadata": {},
   "outputs": [
    {
     "data": {
      "text/html": [
       "14.4"
      ],
      "text/latex": [
       "14.4"
      ],
      "text/markdown": [
       "14.4"
      ],
      "text/plain": [
       "[1] 14.4"
      ]
     },
     "metadata": {},
     "output_type": "display_data"
    }
   ],
   "source": [
    "#Average/ Mean\n",
    "mean(MA_First[,7])"
   ]
  },
  {
   "cell_type": "code",
   "execution_count": 69,
   "id": "9d748fbd",
   "metadata": {},
   "outputs": [
    {
     "data": {
      "text/html": [
       "15.3"
      ],
      "text/latex": [
       "15.3"
      ],
      "text/markdown": [
       "15.3"
      ],
      "text/plain": [
       "[1] 15.3"
      ]
     },
     "metadata": {},
     "output_type": "display_data"
    },
    {
     "data": {
      "text/html": [
       "15.7"
      ],
      "text/latex": [
       "15.7"
      ],
      "text/markdown": [
       "15.7"
      ],
      "text/plain": [
       "[1] 15.7"
      ]
     },
     "metadata": {},
     "output_type": "display_data"
    },
    {
     "data": {
      "text/html": [
       "14.2"
      ],
      "text/latex": [
       "14.2"
      ],
      "text/markdown": [
       "14.2"
      ],
      "text/plain": [
       "[1] 14.2"
      ]
     },
     "metadata": {},
     "output_type": "display_data"
    },
    {
     "data": {
      "text/html": [
       "NaN"
      ],
      "text/latex": [
       "NaN"
      ],
      "text/markdown": [
       "NaN"
      ],
      "text/plain": [
       "[1] NaN"
      ]
     },
     "metadata": {},
     "output_type": "display_data"
    }
   ],
   "source": [
    "mean(bstat)\n",
    "mean(btrics)\n",
    "mean(micro)\n",
    "mean(maths)"
   ]
  },
  {
   "cell_type": "code",
   "execution_count": 70,
   "id": "79440c44",
   "metadata": {},
   "outputs": [
    {
     "data": {
      "text/html": [
       "16.5"
      ],
      "text/latex": [
       "16.5"
      ],
      "text/markdown": [
       "16.5"
      ],
      "text/plain": [
       "[1] 16.5"
      ]
     },
     "metadata": {},
     "output_type": "display_data"
    },
    {
     "data": {
      "text/html": [
       "16"
      ],
      "text/latex": [
       "16"
      ],
      "text/markdown": [
       "16"
      ],
      "text/plain": [
       "[1] 16"
      ]
     },
     "metadata": {},
     "output_type": "display_data"
    },
    {
     "data": {
      "text/html": [
       "13"
      ],
      "text/latex": [
       "13"
      ],
      "text/markdown": [
       "13"
      ],
      "text/plain": [
       "[1] 13"
      ]
     },
     "metadata": {},
     "output_type": "display_data"
    },
    {
     "data": {
      "text/html": [
       "&lt;NA&gt;"
      ],
      "text/latex": [
       "<NA>"
      ],
      "text/markdown": [
       "&lt;NA&gt;"
      ],
      "text/plain": [
       "[1] NA"
      ]
     },
     "metadata": {},
     "output_type": "display_data"
    }
   ],
   "source": [
    "#Median \n",
    "median(bstat)\n",
    "median(btrics)\n",
    "median(micro)\n",
    "median(maths)"
   ]
  },
  {
   "cell_type": "code",
   "execution_count": 71,
   "id": "9efabdef",
   "metadata": {},
   "outputs": [
    {
     "data": {
      "text/html": [
       "20"
      ],
      "text/latex": [
       "20"
      ],
      "text/markdown": [
       "20"
      ],
      "text/plain": [
       "[1] 20"
      ]
     },
     "metadata": {},
     "output_type": "display_data"
    },
    {
     "data": {
      "text/html": [
       "16"
      ],
      "text/latex": [
       "16"
      ],
      "text/markdown": [
       "16"
      ],
      "text/plain": [
       "[1] 16"
      ]
     },
     "metadata": {},
     "output_type": "display_data"
    },
    {
     "data": {
      "text/html": [
       "14"
      ],
      "text/latex": [
       "14"
      ],
      "text/markdown": [
       "14"
      ],
      "text/plain": [
       "[1] 14"
      ]
     },
     "metadata": {},
     "output_type": "display_data"
    },
    {
     "data": {
      "text/html": [
       "18"
      ],
      "text/latex": [
       "18"
      ],
      "text/markdown": [
       "18"
      ],
      "text/plain": [
       "[1] 18"
      ]
     },
     "metadata": {},
     "output_type": "display_data"
    }
   ],
   "source": [
    "##mode\n",
    "getmode <- function(v) {uniqv <- unique(v)\n",
    "  uniqv[which.max(tabulate(match(v, uniqv)))]}\n",
    "getmode(bstat)\n",
    "getmode(btrics)\n",
    "getmode(micro)\n",
    "getmode(maths)"
   ]
  },
  {
   "cell_type": "code",
   "execution_count": 72,
   "id": "31fb1cbb",
   "metadata": {},
   "outputs": [
    {
     "data": {
      "text/html": [
       "7.52846450332189"
      ],
      "text/latex": [
       "7.52846450332189"
      ],
      "text/markdown": [
       "7.52846450332189"
      ],
      "text/plain": [
       "[1] 7.528465"
      ]
     },
     "metadata": {},
     "output_type": "display_data"
    },
    {
     "data": {
      "text/html": [
       "6.30784344200844"
      ],
      "text/latex": [
       "6.30784344200844"
      ],
      "text/markdown": [
       "6.30784344200844"
      ],
      "text/plain": [
       "[1] 6.307843"
      ]
     },
     "metadata": {},
     "output_type": "display_data"
    },
    {
     "data": {
      "text/html": [
       "4.98442017133833"
      ],
      "text/latex": [
       "4.98442017133833"
      ],
      "text/markdown": [
       "4.98442017133833"
      ],
      "text/plain": [
       "[1] 4.98442"
      ]
     },
     "metadata": {},
     "output_type": "display_data"
    },
    {
     "data": {
      "text/html": [
       "&lt;NA&gt;"
      ],
      "text/latex": [
       "<NA>"
      ],
      "text/markdown": [
       "&lt;NA&gt;"
      ],
      "text/plain": [
       "[1] NA"
      ]
     },
     "metadata": {},
     "output_type": "display_data"
    }
   ],
   "source": [
    "#Standard Deviation\n",
    "sd(MA_First$bstat)\n",
    "sd(btrics)\n",
    "sd(micro)\n",
    "sd(maths)"
   ]
  },
  {
   "cell_type": "code",
   "execution_count": 73,
   "id": "8821b63b",
   "metadata": {},
   "outputs": [
    {
     "data": {
      "text/html": [
       "56.6777777777778"
      ],
      "text/latex": [
       "56.6777777777778"
      ],
      "text/markdown": [
       "56.6777777777778"
      ],
      "text/plain": [
       "[1] 56.67778"
      ]
     },
     "metadata": {},
     "output_type": "display_data"
    },
    {
     "data": {
      "text/html": [
       "56.6777777777778"
      ],
      "text/latex": [
       "56.6777777777778"
      ],
      "text/markdown": [
       "56.6777777777778"
      ],
      "text/plain": [
       "[1] 56.67778"
      ]
     },
     "metadata": {},
     "output_type": "display_data"
    },
    {
     "data": {
      "text/html": [
       "39.7888888888889"
      ],
      "text/latex": [
       "39.7888888888889"
      ],
      "text/markdown": [
       "39.7888888888889"
      ],
      "text/plain": [
       "[1] 39.78889"
      ]
     },
     "metadata": {},
     "output_type": "display_data"
    },
    {
     "data": {
      "text/html": [
       "24.8444444444444"
      ],
      "text/latex": [
       "24.8444444444444"
      ],
      "text/markdown": [
       "24.8444444444444"
      ],
      "text/plain": [
       "[1] 24.84444"
      ]
     },
     "metadata": {},
     "output_type": "display_data"
    },
    {
     "data": {
      "text/html": [
       "&lt;NA&gt;"
      ],
      "text/latex": [
       "<NA>"
      ],
      "text/markdown": [
       "&lt;NA&gt;"
      ],
      "text/plain": [
       "[1] NA"
      ]
     },
     "metadata": {},
     "output_type": "display_data"
    }
   ],
   "source": [
    "#Variance\n",
    "(sd(bstat))^2\n",
    "var(bstat)\n",
    "var(btrics)\n",
    "var(micro)\n",
    "var(maths)"
   ]
  },
  {
   "cell_type": "code",
   "execution_count": 74,
   "id": "24521756",
   "metadata": {},
   "outputs": [
    {
     "data": {
      "text/html": [
       "41.7666666666667"
      ],
      "text/latex": [
       "41.7666666666667"
      ],
      "text/markdown": [
       "41.7666666666667"
      ],
      "text/plain": [
       "[1] 41.76667"
      ]
     },
     "metadata": {},
     "output_type": "display_data"
    },
    {
     "data": {
      "text/html": [
       "0.879513486715261"
      ],
      "text/latex": [
       "0.879513486715261"
      ],
      "text/markdown": [
       "0.879513486715261"
      ],
      "text/plain": [
       "[1] 0.8795135"
      ]
     },
     "metadata": {},
     "output_type": "display_data"
    }
   ],
   "source": [
    "#Covariance, Correlation\n",
    "cov(MA_First$bstat,MA_First$btrics)\n",
    "cor(MA_First$bstat,MA_First$btrics)"
   ]
  },
  {
   "cell_type": "code",
   "execution_count": 75,
   "id": "406f6db9",
   "metadata": {},
   "outputs": [
    {
     "data": {
      "text/html": [
       "<table>\n",
       "<thead><tr><th scope=col>Roll_no</th><th scope=col>names</th><th scope=col>dob</th><th scope=col>bstat</th><th scope=col>btrics</th><th scope=col>micro</th><th scope=col>maths</th><th scope=col>macro</th></tr></thead>\n",
       "<tbody>\n",
       "\t<tr><td>121       </td><td>A         </td><td>1990-12-15</td><td>28        </td><td>25        </td><td>20        </td><td>18        </td><td>18        </td></tr>\n",
       "\t<tr><td>122       </td><td>B         </td><td>1990-12-01</td><td>20        </td><td>21        </td><td>25        </td><td>25        </td><td>25        </td></tr>\n",
       "\t<tr><td>123       </td><td>C         </td><td>1990-12-31</td><td>21        </td><td>16        </td><td>14        </td><td>22        </td><td>22        </td></tr>\n",
       "\t<tr><td>124       </td><td>D         </td><td>1991-01-10</td><td> 6        </td><td> 9        </td><td>14        </td><td> 4        </td><td> 4        </td></tr>\n",
       "\t<tr><td>125       </td><td>E         </td><td>1991-01-01</td><td>20        </td><td>16        </td><td>11        </td><td>15        </td><td>15        </td></tr>\n",
       "\t<tr><td>126       </td><td>F         </td><td>1991-01-10</td><td>15        </td><td>20        </td><td>12        </td><td>18        </td><td>18        </td></tr>\n",
       "\t<tr><td>127       </td><td>G         </td><td>1990-12-01</td><td> 4        </td><td> 6        </td><td>10        </td><td> 2        </td><td> 2        </td></tr>\n",
       "\t<tr><td>128       </td><td>I         </td><td>1991-01-12</td><td>18        </td><td>22        </td><td>16        </td><td>20        </td><td>20        </td></tr>\n",
       "\t<tr><td>129       </td><td>J         </td><td>1991-01-01</td><td> 9        </td><td>12        </td><td> 9        </td><td> 8        </td><td> 8        </td></tr>\n",
       "\t<tr><td>130       </td><td>H         </td><td>1991-01-10</td><td>12        </td><td>10        </td><td>11        </td><td>12        </td><td>12        </td></tr>\n",
       "</tbody>\n",
       "</table>\n"
      ],
      "text/latex": [
       "\\begin{tabular}{r|llllllll}\n",
       " Roll\\_no & names & dob & bstat & btrics & micro & maths & macro\\\\\n",
       "\\hline\n",
       "\t 121        & A          & 1990-12-15 & 28         & 25         & 20         & 18         & 18        \\\\\n",
       "\t 122        & B          & 1990-12-01 & 20         & 21         & 25         & 25         & 25        \\\\\n",
       "\t 123        & C          & 1990-12-31 & 21         & 16         & 14         & 22         & 22        \\\\\n",
       "\t 124        & D          & 1991-01-10 &  6         &  9         & 14         &  4         &  4        \\\\\n",
       "\t 125        & E          & 1991-01-01 & 20         & 16         & 11         & 15         & 15        \\\\\n",
       "\t 126        & F          & 1991-01-10 & 15         & 20         & 12         & 18         & 18        \\\\\n",
       "\t 127        & G          & 1990-12-01 &  4         &  6         & 10         &  2         &  2        \\\\\n",
       "\t 128        & I          & 1991-01-12 & 18         & 22         & 16         & 20         & 20        \\\\\n",
       "\t 129        & J          & 1991-01-01 &  9         & 12         &  9         &  8         &  8        \\\\\n",
       "\t 130        & H          & 1991-01-10 & 12         & 10         & 11         & 12         & 12        \\\\\n",
       "\\end{tabular}\n"
      ],
      "text/markdown": [
       "\n",
       "| Roll_no | names | dob | bstat | btrics | micro | maths | macro |\n",
       "|---|---|---|---|---|---|---|---|\n",
       "| 121        | A          | 1990-12-15 | 28         | 25         | 20         | 18         | 18         |\n",
       "| 122        | B          | 1990-12-01 | 20         | 21         | 25         | 25         | 25         |\n",
       "| 123        | C          | 1990-12-31 | 21         | 16         | 14         | 22         | 22         |\n",
       "| 124        | D          | 1991-01-10 |  6         |  9         | 14         |  4         |  4         |\n",
       "| 125        | E          | 1991-01-01 | 20         | 16         | 11         | 15         | 15         |\n",
       "| 126        | F          | 1991-01-10 | 15         | 20         | 12         | 18         | 18         |\n",
       "| 127        | G          | 1990-12-01 |  4         |  6         | 10         |  2         |  2         |\n",
       "| 128        | I          | 1991-01-12 | 18         | 22         | 16         | 20         | 20         |\n",
       "| 129        | J          | 1991-01-01 |  9         | 12         |  9         |  8         |  8         |\n",
       "| 130        | H          | 1991-01-10 | 12         | 10         | 11         | 12         | 12         |\n",
       "\n"
      ],
      "text/plain": [
       "   Roll_no names dob        bstat btrics micro maths macro\n",
       "1  121     A     1990-12-15 28    25     20    18    18   \n",
       "2  122     B     1990-12-01 20    21     25    25    25   \n",
       "3  123     C     1990-12-31 21    16     14    22    22   \n",
       "4  124     D     1991-01-10  6     9     14     4     4   \n",
       "5  125     E     1991-01-01 20    16     11    15    15   \n",
       "6  126     F     1991-01-10 15    20     12    18    18   \n",
       "7  127     G     1990-12-01  4     6     10     2     2   \n",
       "8  128     I     1991-01-12 18    22     16    20    20   \n",
       "9  129     J     1991-01-01  9    12      9     8     8   \n",
       "10 130     H     1991-01-10 12    10     11    12    12   "
      ]
     },
     "metadata": {},
     "output_type": "display_data"
    }
   ],
   "source": [
    "MA_First"
   ]
  },
  {
   "cell_type": "markdown",
   "id": "760ab4b1",
   "metadata": {},
   "source": [
    "## Conditional statements"
   ]
  },
  {
   "cell_type": "markdown",
   "id": "59836d42",
   "metadata": {},
   "source": [
    "== equal, >= greater than equal, <= less than equal, > greater than only and < less than only"
   ]
  },
  {
   "cell_type": "markdown",
   "id": "b2d3bb5b",
   "metadata": {},
   "source": [
    "Creating Object/Variable with conditional statement"
   ]
  },
  {
   "cell_type": "code",
   "execution_count": 76,
   "id": "4f80660b",
   "metadata": {},
   "outputs": [
    {
     "data": {
      "text/html": [
       "<ol class=list-inline>\n",
       "\t<li>'its_true'</li>\n",
       "\t<li>'its_true'</li>\n",
       "\t<li>'its_true'</li>\n",
       "\t<li>'its_false'</li>\n",
       "\t<li>'its_true'</li>\n",
       "\t<li>'its_true'</li>\n",
       "\t<li>'its_false'</li>\n",
       "\t<li>'its_true'</li>\n",
       "\t<li>'its_false'</li>\n",
       "\t<li>'its_true'</li>\n",
       "</ol>\n"
      ],
      "text/latex": [
       "\\begin{enumerate*}\n",
       "\\item 'its\\_true'\n",
       "\\item 'its\\_true'\n",
       "\\item 'its\\_true'\n",
       "\\item 'its\\_false'\n",
       "\\item 'its\\_true'\n",
       "\\item 'its\\_true'\n",
       "\\item 'its\\_false'\n",
       "\\item 'its\\_true'\n",
       "\\item 'its\\_false'\n",
       "\\item 'its\\_true'\n",
       "\\end{enumerate*}\n"
      ],
      "text/markdown": [
       "1. 'its_true'\n",
       "2. 'its_true'\n",
       "3. 'its_true'\n",
       "4. 'its_false'\n",
       "5. 'its_true'\n",
       "6. 'its_true'\n",
       "7. 'its_false'\n",
       "8. 'its_true'\n",
       "9. 'its_false'\n",
       "10. 'its_true'\n",
       "\n",
       "\n"
      ],
      "text/plain": [
       " [1] \"its_true\"  \"its_true\"  \"its_true\"  \"its_false\" \"its_true\"  \"its_true\" \n",
       " [7] \"its_false\" \"its_true\"  \"its_false\" \"its_true\" "
      ]
     },
     "metadata": {},
     "output_type": "display_data"
    }
   ],
   "source": [
    "Result_S <- ifelse(bstat>=12, \"its_true\",\"its_false\")\n",
    "Result_S"
   ]
  },
  {
   "cell_type": "markdown",
   "id": "05276214",
   "metadata": {},
   "source": [
    "ifelse returns a value with the same shape as test which is filled with elements selected from either yes or no depending on whether the element of test is TRUE or FALSE"
   ]
  },
  {
   "cell_type": "code",
   "execution_count": 77,
   "id": "bb6b472b",
   "metadata": {},
   "outputs": [
    {
     "data": {
      "text/html": [
       "<ol class=list-inline>\n",
       "\t<li>4</li>\n",
       "\t<li>7</li>\n",
       "\t<li>9</li>\n",
       "</ol>\n"
      ],
      "text/latex": [
       "\\begin{enumerate*}\n",
       "\\item 4\n",
       "\\item 7\n",
       "\\item 9\n",
       "\\end{enumerate*}\n"
      ],
      "text/markdown": [
       "1. 4\n",
       "2. 7\n",
       "3. 9\n",
       "\n",
       "\n"
      ],
      "text/plain": [
       "[1] 4 7 9"
      ]
     },
     "metadata": {},
     "output_type": "display_data"
    }
   ],
   "source": [
    "which(bstat<12) #which(): The which function in R returns the position of the values in the logical vector"
   ]
  },
  {
   "cell_type": "code",
   "execution_count": 78,
   "id": "09d3d698",
   "metadata": {},
   "outputs": [
    {
     "data": {
      "text/html": [
       "<ol class=list-inline>\n",
       "\t<li>'PASS'</li>\n",
       "\t<li>'PASS'</li>\n",
       "\t<li>'PASS'</li>\n",
       "\t<li>'REPEAT'</li>\n",
       "\t<li>'PASS'</li>\n",
       "\t<li>'PASS'</li>\n",
       "\t<li>'REPEAT'</li>\n",
       "\t<li>'PASS'</li>\n",
       "\t<li>'PASS'</li>\n",
       "\t<li>'REPEAT'</li>\n",
       "</ol>\n"
      ],
      "text/latex": [
       "\\begin{enumerate*}\n",
       "\\item 'PASS'\n",
       "\\item 'PASS'\n",
       "\\item 'PASS'\n",
       "\\item 'REPEAT'\n",
       "\\item 'PASS'\n",
       "\\item 'PASS'\n",
       "\\item 'REPEAT'\n",
       "\\item 'PASS'\n",
       "\\item 'PASS'\n",
       "\\item 'REPEAT'\n",
       "\\end{enumerate*}\n"
      ],
      "text/markdown": [
       "1. 'PASS'\n",
       "2. 'PASS'\n",
       "3. 'PASS'\n",
       "4. 'REPEAT'\n",
       "5. 'PASS'\n",
       "6. 'PASS'\n",
       "7. 'REPEAT'\n",
       "8. 'PASS'\n",
       "9. 'PASS'\n",
       "10. 'REPEAT'\n",
       "\n",
       "\n"
      ],
      "text/plain": [
       " [1] \"PASS\"   \"PASS\"   \"PASS\"   \"REPEAT\" \"PASS\"   \"PASS\"   \"REPEAT\" \"PASS\"  \n",
       " [9] \"PASS\"   \"REPEAT\""
      ]
     },
     "metadata": {},
     "output_type": "display_data"
    }
   ],
   "source": [
    "Result_E <- ifelse(btrics>=12, \"PASS\",\"REPEAT\")\n",
    "Result_E"
   ]
  },
  {
   "cell_type": "code",
   "execution_count": 79,
   "id": "e9f38f19",
   "metadata": {},
   "outputs": [
    {
     "data": {
      "text/html": [
       "<ol class=list-inline>\n",
       "\t<li>4</li>\n",
       "\t<li>7</li>\n",
       "\t<li>10</li>\n",
       "</ol>\n"
      ],
      "text/latex": [
       "\\begin{enumerate*}\n",
       "\\item 4\n",
       "\\item 7\n",
       "\\item 10\n",
       "\\end{enumerate*}\n"
      ],
      "text/markdown": [
       "1. 4\n",
       "2. 7\n",
       "3. 10\n",
       "\n",
       "\n"
      ],
      "text/plain": [
       "[1]  4  7 10"
      ]
     },
     "metadata": {},
     "output_type": "display_data"
    }
   ],
   "source": [
    "which(btrics<12)"
   ]
  },
  {
   "cell_type": "code",
   "execution_count": 80,
   "id": "5ab4cd09",
   "metadata": {},
   "outputs": [
    {
     "data": {
      "text/html": [
       "<table>\n",
       "<thead><tr><th scope=col>Roll_no</th><th scope=col>names</th><th scope=col>dob</th><th scope=col>bstat</th><th scope=col>btrics</th><th scope=col>micro</th><th scope=col>maths</th><th scope=col>macro</th><th scope=col>Result_S</th><th scope=col>Result_E</th></tr></thead>\n",
       "<tbody>\n",
       "\t<tr><td>121       </td><td>A         </td><td>1990-12-15</td><td>28        </td><td>25        </td><td>20        </td><td>18        </td><td>18        </td><td>its_true  </td><td>PASS      </td></tr>\n",
       "\t<tr><td>122       </td><td>B         </td><td>1990-12-01</td><td>20        </td><td>21        </td><td>25        </td><td>25        </td><td>25        </td><td>its_true  </td><td>PASS      </td></tr>\n",
       "\t<tr><td>123       </td><td>C         </td><td>1990-12-31</td><td>21        </td><td>16        </td><td>14        </td><td>22        </td><td>22        </td><td>its_true  </td><td>PASS      </td></tr>\n",
       "\t<tr><td>124       </td><td>D         </td><td>1991-01-10</td><td> 6        </td><td> 9        </td><td>14        </td><td> 4        </td><td> 4        </td><td>its_false </td><td>REPEAT    </td></tr>\n",
       "\t<tr><td>125       </td><td>E         </td><td>1991-01-01</td><td>20        </td><td>16        </td><td>11        </td><td>15        </td><td>15        </td><td>its_true  </td><td>PASS      </td></tr>\n",
       "\t<tr><td>126       </td><td>F         </td><td>1991-01-10</td><td>15        </td><td>20        </td><td>12        </td><td>18        </td><td>18        </td><td>its_true  </td><td>PASS      </td></tr>\n",
       "\t<tr><td>127       </td><td>G         </td><td>1990-12-01</td><td> 4        </td><td> 6        </td><td>10        </td><td> 2        </td><td> 2        </td><td>its_false </td><td>REPEAT    </td></tr>\n",
       "\t<tr><td>128       </td><td>I         </td><td>1991-01-12</td><td>18        </td><td>22        </td><td>16        </td><td>20        </td><td>20        </td><td>its_true  </td><td>PASS      </td></tr>\n",
       "\t<tr><td>129       </td><td>J         </td><td>1991-01-01</td><td> 9        </td><td>12        </td><td> 9        </td><td> 8        </td><td> 8        </td><td>its_false </td><td>PASS      </td></tr>\n",
       "\t<tr><td>130       </td><td>H         </td><td>1991-01-10</td><td>12        </td><td>10        </td><td>11        </td><td>12        </td><td>12        </td><td>its_true  </td><td>REPEAT    </td></tr>\n",
       "</tbody>\n",
       "</table>\n"
      ],
      "text/latex": [
       "\\begin{tabular}{r|llllllllll}\n",
       " Roll\\_no & names & dob & bstat & btrics & micro & maths & macro & Result\\_S & Result\\_E\\\\\n",
       "\\hline\n",
       "\t 121         & A           & 1990-12-15  & 28          & 25          & 20          & 18          & 18          & its\\_true  & PASS       \\\\\n",
       "\t 122         & B           & 1990-12-01  & 20          & 21          & 25          & 25          & 25          & its\\_true  & PASS       \\\\\n",
       "\t 123         & C           & 1990-12-31  & 21          & 16          & 14          & 22          & 22          & its\\_true  & PASS       \\\\\n",
       "\t 124         & D           & 1991-01-10  &  6          &  9          & 14          &  4          &  4          & its\\_false & REPEAT     \\\\\n",
       "\t 125         & E           & 1991-01-01  & 20          & 16          & 11          & 15          & 15          & its\\_true  & PASS       \\\\\n",
       "\t 126         & F           & 1991-01-10  & 15          & 20          & 12          & 18          & 18          & its\\_true  & PASS       \\\\\n",
       "\t 127         & G           & 1990-12-01  &  4          &  6          & 10          &  2          &  2          & its\\_false & REPEAT     \\\\\n",
       "\t 128         & I           & 1991-01-12  & 18          & 22          & 16          & 20          & 20          & its\\_true  & PASS       \\\\\n",
       "\t 129         & J           & 1991-01-01  &  9          & 12          &  9          &  8          &  8          & its\\_false & PASS       \\\\\n",
       "\t 130         & H           & 1991-01-10  & 12          & 10          & 11          & 12          & 12          & its\\_true  & REPEAT     \\\\\n",
       "\\end{tabular}\n"
      ],
      "text/markdown": [
       "\n",
       "| Roll_no | names | dob | bstat | btrics | micro | maths | macro | Result_S | Result_E |\n",
       "|---|---|---|---|---|---|---|---|---|---|\n",
       "| 121        | A          | 1990-12-15 | 28         | 25         | 20         | 18         | 18         | its_true   | PASS       |\n",
       "| 122        | B          | 1990-12-01 | 20         | 21         | 25         | 25         | 25         | its_true   | PASS       |\n",
       "| 123        | C          | 1990-12-31 | 21         | 16         | 14         | 22         | 22         | its_true   | PASS       |\n",
       "| 124        | D          | 1991-01-10 |  6         |  9         | 14         |  4         |  4         | its_false  | REPEAT     |\n",
       "| 125        | E          | 1991-01-01 | 20         | 16         | 11         | 15         | 15         | its_true   | PASS       |\n",
       "| 126        | F          | 1991-01-10 | 15         | 20         | 12         | 18         | 18         | its_true   | PASS       |\n",
       "| 127        | G          | 1990-12-01 |  4         |  6         | 10         |  2         |  2         | its_false  | REPEAT     |\n",
       "| 128        | I          | 1991-01-12 | 18         | 22         | 16         | 20         | 20         | its_true   | PASS       |\n",
       "| 129        | J          | 1991-01-01 |  9         | 12         |  9         |  8         |  8         | its_false  | PASS       |\n",
       "| 130        | H          | 1991-01-10 | 12         | 10         | 11         | 12         | 12         | its_true   | REPEAT     |\n",
       "\n"
      ],
      "text/plain": [
       "   Roll_no names dob        bstat btrics micro maths macro Result_S  Result_E\n",
       "1  121     A     1990-12-15 28    25     20    18    18    its_true  PASS    \n",
       "2  122     B     1990-12-01 20    21     25    25    25    its_true  PASS    \n",
       "3  123     C     1990-12-31 21    16     14    22    22    its_true  PASS    \n",
       "4  124     D     1991-01-10  6     9     14     4     4    its_false REPEAT  \n",
       "5  125     E     1991-01-01 20    16     11    15    15    its_true  PASS    \n",
       "6  126     F     1991-01-10 15    20     12    18    18    its_true  PASS    \n",
       "7  127     G     1990-12-01  4     6     10     2     2    its_false REPEAT  \n",
       "8  128     I     1991-01-12 18    22     16    20    20    its_true  PASS    \n",
       "9  129     J     1991-01-01  9    12      9     8     8    its_false PASS    \n",
       "10 130     H     1991-01-10 12    10     11    12    12    its_true  REPEAT  "
      ]
     },
     "metadata": {},
     "output_type": "display_data"
    }
   ],
   "source": [
    "MA_First1 <- data.frame(MA_First, Result_S, Result_E)\n",
    "MA_First1"
   ]
  },
  {
   "cell_type": "code",
   "execution_count": 81,
   "id": "3903cd9a",
   "metadata": {},
   "outputs": [
    {
     "data": {
      "text/html": [
       "<ol class=list-inline>\n",
       "\t<li>4</li>\n",
       "\t<li>7</li>\n",
       "\t<li>9</li>\n",
       "\t<li>10</li>\n",
       "</ol>\n"
      ],
      "text/latex": [
       "\\begin{enumerate*}\n",
       "\\item 4\n",
       "\\item 7\n",
       "\\item 9\n",
       "\\item 10\n",
       "\\end{enumerate*}\n"
      ],
      "text/markdown": [
       "1. 4\n",
       "2. 7\n",
       "3. 9\n",
       "4. 10\n",
       "\n",
       "\n"
      ],
      "text/plain": [
       "[1]  4  7  9 10"
      ]
     },
     "metadata": {},
     "output_type": "display_data"
    }
   ],
   "source": [
    "Result_SE <- ifelse(bstat+btrics>=24, \"PASS\",\"REPEAT\")\n",
    "which(bstat+btrics<24)"
   ]
  },
  {
   "cell_type": "markdown",
   "id": "0ca056ef",
   "metadata": {},
   "source": [
    "## And condition"
   ]
  },
  {
   "cell_type": "code",
   "execution_count": 82,
   "id": "b776e087",
   "metadata": {},
   "outputs": [
    {
     "data": {
      "text/html": [
       "<ol class=list-inline>\n",
       "\t<li>'PASS'</li>\n",
       "\t<li>'PASS'</li>\n",
       "\t<li>'PASS'</li>\n",
       "\t<li>'REPEAT'</li>\n",
       "\t<li>'PASS'</li>\n",
       "\t<li>'PASS'</li>\n",
       "\t<li>'REPEAT'</li>\n",
       "\t<li>'PASS'</li>\n",
       "\t<li>'REPEAT'</li>\n",
       "\t<li>'REPEAT'</li>\n",
       "</ol>\n"
      ],
      "text/latex": [
       "\\begin{enumerate*}\n",
       "\\item 'PASS'\n",
       "\\item 'PASS'\n",
       "\\item 'PASS'\n",
       "\\item 'REPEAT'\n",
       "\\item 'PASS'\n",
       "\\item 'PASS'\n",
       "\\item 'REPEAT'\n",
       "\\item 'PASS'\n",
       "\\item 'REPEAT'\n",
       "\\item 'REPEAT'\n",
       "\\end{enumerate*}\n"
      ],
      "text/markdown": [
       "1. 'PASS'\n",
       "2. 'PASS'\n",
       "3. 'PASS'\n",
       "4. 'REPEAT'\n",
       "5. 'PASS'\n",
       "6. 'PASS'\n",
       "7. 'REPEAT'\n",
       "8. 'PASS'\n",
       "9. 'REPEAT'\n",
       "10. 'REPEAT'\n",
       "\n",
       "\n"
      ],
      "text/plain": [
       " [1] \"PASS\"   \"PASS\"   \"PASS\"   \"REPEAT\" \"PASS\"   \"PASS\"   \"REPEAT\" \"PASS\"  \n",
       " [9] \"REPEAT\" \"REPEAT\""
      ]
     },
     "metadata": {},
     "output_type": "display_data"
    },
    {
     "data": {
      "text/html": [
       "<ol class=list-inline>\n",
       "\t<li>1</li>\n",
       "\t<li>2</li>\n",
       "\t<li>3</li>\n",
       "\t<li>5</li>\n",
       "\t<li>6</li>\n",
       "\t<li>8</li>\n",
       "</ol>\n"
      ],
      "text/latex": [
       "\\begin{enumerate*}\n",
       "\\item 1\n",
       "\\item 2\n",
       "\\item 3\n",
       "\\item 5\n",
       "\\item 6\n",
       "\\item 8\n",
       "\\end{enumerate*}\n"
      ],
      "text/markdown": [
       "1. 1\n",
       "2. 2\n",
       "3. 3\n",
       "4. 5\n",
       "5. 6\n",
       "6. 8\n",
       "\n",
       "\n"
      ],
      "text/plain": [
       "[1] 1 2 3 5 6 8"
      ]
     },
     "metadata": {},
     "output_type": "display_data"
    }
   ],
   "source": [
    "Result_SE1 <- ifelse (bstat>=12 & btrics>=12, \"PASS\",\"REPEAT\")\n",
    "Result_SE1\n",
    "which(bstat>=12 & btrics>=12)"
   ]
  },
  {
   "cell_type": "code",
   "execution_count": 83,
   "id": "f1301ff6",
   "metadata": {},
   "outputs": [
    {
     "data": {
      "text/html": [
       "<table>\n",
       "<thead><tr><th scope=col>Roll_no</th><th scope=col>names</th><th scope=col>dob</th><th scope=col>bstat</th><th scope=col>btrics</th><th scope=col>micro</th><th scope=col>maths</th><th scope=col>macro</th><th scope=col>Result_SE1</th></tr></thead>\n",
       "<tbody>\n",
       "\t<tr><td>121       </td><td>A         </td><td>1990-12-15</td><td>28        </td><td>25        </td><td>20        </td><td>18        </td><td>18        </td><td>PASS      </td></tr>\n",
       "\t<tr><td>122       </td><td>B         </td><td>1990-12-01</td><td>20        </td><td>21        </td><td>25        </td><td>25        </td><td>25        </td><td>PASS      </td></tr>\n",
       "\t<tr><td>123       </td><td>C         </td><td>1990-12-31</td><td>21        </td><td>16        </td><td>14        </td><td>22        </td><td>22        </td><td>PASS      </td></tr>\n",
       "\t<tr><td>124       </td><td>D         </td><td>1991-01-10</td><td> 6        </td><td> 9        </td><td>14        </td><td> 4        </td><td> 4        </td><td>REPEAT    </td></tr>\n",
       "\t<tr><td>125       </td><td>E         </td><td>1991-01-01</td><td>20        </td><td>16        </td><td>11        </td><td>15        </td><td>15        </td><td>PASS      </td></tr>\n",
       "\t<tr><td>126       </td><td>F         </td><td>1991-01-10</td><td>15        </td><td>20        </td><td>12        </td><td>18        </td><td>18        </td><td>PASS      </td></tr>\n",
       "\t<tr><td>127       </td><td>G         </td><td>1990-12-01</td><td> 4        </td><td> 6        </td><td>10        </td><td> 2        </td><td> 2        </td><td>REPEAT    </td></tr>\n",
       "\t<tr><td>128       </td><td>I         </td><td>1991-01-12</td><td>18        </td><td>22        </td><td>16        </td><td>20        </td><td>20        </td><td>PASS      </td></tr>\n",
       "\t<tr><td>129       </td><td>J         </td><td>1991-01-01</td><td> 9        </td><td>12        </td><td> 9        </td><td> 8        </td><td> 8        </td><td>REPEAT    </td></tr>\n",
       "\t<tr><td>130       </td><td>H         </td><td>1991-01-10</td><td>12        </td><td>10        </td><td>11        </td><td>12        </td><td>12        </td><td>REPEAT    </td></tr>\n",
       "</tbody>\n",
       "</table>\n"
      ],
      "text/latex": [
       "\\begin{tabular}{r|lllllllll}\n",
       " Roll\\_no & names & dob & bstat & btrics & micro & maths & macro & Result\\_SE1\\\\\n",
       "\\hline\n",
       "\t 121        & A          & 1990-12-15 & 28         & 25         & 20         & 18         & 18         & PASS      \\\\\n",
       "\t 122        & B          & 1990-12-01 & 20         & 21         & 25         & 25         & 25         & PASS      \\\\\n",
       "\t 123        & C          & 1990-12-31 & 21         & 16         & 14         & 22         & 22         & PASS      \\\\\n",
       "\t 124        & D          & 1991-01-10 &  6         &  9         & 14         &  4         &  4         & REPEAT    \\\\\n",
       "\t 125        & E          & 1991-01-01 & 20         & 16         & 11         & 15         & 15         & PASS      \\\\\n",
       "\t 126        & F          & 1991-01-10 & 15         & 20         & 12         & 18         & 18         & PASS      \\\\\n",
       "\t 127        & G          & 1990-12-01 &  4         &  6         & 10         &  2         &  2         & REPEAT    \\\\\n",
       "\t 128        & I          & 1991-01-12 & 18         & 22         & 16         & 20         & 20         & PASS      \\\\\n",
       "\t 129        & J          & 1991-01-01 &  9         & 12         &  9         &  8         &  8         & REPEAT    \\\\\n",
       "\t 130        & H          & 1991-01-10 & 12         & 10         & 11         & 12         & 12         & REPEAT    \\\\\n",
       "\\end{tabular}\n"
      ],
      "text/markdown": [
       "\n",
       "| Roll_no | names | dob | bstat | btrics | micro | maths | macro | Result_SE1 |\n",
       "|---|---|---|---|---|---|---|---|---|\n",
       "| 121        | A          | 1990-12-15 | 28         | 25         | 20         | 18         | 18         | PASS       |\n",
       "| 122        | B          | 1990-12-01 | 20         | 21         | 25         | 25         | 25         | PASS       |\n",
       "| 123        | C          | 1990-12-31 | 21         | 16         | 14         | 22         | 22         | PASS       |\n",
       "| 124        | D          | 1991-01-10 |  6         |  9         | 14         |  4         |  4         | REPEAT     |\n",
       "| 125        | E          | 1991-01-01 | 20         | 16         | 11         | 15         | 15         | PASS       |\n",
       "| 126        | F          | 1991-01-10 | 15         | 20         | 12         | 18         | 18         | PASS       |\n",
       "| 127        | G          | 1990-12-01 |  4         |  6         | 10         |  2         |  2         | REPEAT     |\n",
       "| 128        | I          | 1991-01-12 | 18         | 22         | 16         | 20         | 20         | PASS       |\n",
       "| 129        | J          | 1991-01-01 |  9         | 12         |  9         |  8         |  8         | REPEAT     |\n",
       "| 130        | H          | 1991-01-10 | 12         | 10         | 11         | 12         | 12         | REPEAT     |\n",
       "\n"
      ],
      "text/plain": [
       "   Roll_no names dob        bstat btrics micro maths macro Result_SE1\n",
       "1  121     A     1990-12-15 28    25     20    18    18    PASS      \n",
       "2  122     B     1990-12-01 20    21     25    25    25    PASS      \n",
       "3  123     C     1990-12-31 21    16     14    22    22    PASS      \n",
       "4  124     D     1991-01-10  6     9     14     4     4    REPEAT    \n",
       "5  125     E     1991-01-01 20    16     11    15    15    PASS      \n",
       "6  126     F     1991-01-10 15    20     12    18    18    PASS      \n",
       "7  127     G     1990-12-01  4     6     10     2     2    REPEAT    \n",
       "8  128     I     1991-01-12 18    22     16    20    20    PASS      \n",
       "9  129     J     1991-01-01  9    12      9     8     8    REPEAT    \n",
       "10 130     H     1991-01-10 12    10     11    12    12    REPEAT    "
      ]
     },
     "metadata": {},
     "output_type": "display_data"
    }
   ],
   "source": [
    "MA_First2 <-data.frame(MA_First, Result_SE1)\n",
    "MA_First2"
   ]
  },
  {
   "cell_type": "markdown",
   "id": "8d8582a6",
   "metadata": {},
   "source": [
    "## Or condition"
   ]
  },
  {
   "cell_type": "code",
   "execution_count": 84,
   "id": "17102b2e",
   "metadata": {},
   "outputs": [
    {
     "data": {
      "text/html": [
       "<ol class=list-inline>\n",
       "\t<li>'PASS'</li>\n",
       "\t<li>'PASS'</li>\n",
       "\t<li>'PASS'</li>\n",
       "\t<li>'REPEAT'</li>\n",
       "\t<li>'PASS'</li>\n",
       "\t<li>'PASS'</li>\n",
       "\t<li>'REPEAT'</li>\n",
       "\t<li>'PASS'</li>\n",
       "\t<li>'PASS'</li>\n",
       "\t<li>'PASS'</li>\n",
       "</ol>\n"
      ],
      "text/latex": [
       "\\begin{enumerate*}\n",
       "\\item 'PASS'\n",
       "\\item 'PASS'\n",
       "\\item 'PASS'\n",
       "\\item 'REPEAT'\n",
       "\\item 'PASS'\n",
       "\\item 'PASS'\n",
       "\\item 'REPEAT'\n",
       "\\item 'PASS'\n",
       "\\item 'PASS'\n",
       "\\item 'PASS'\n",
       "\\end{enumerate*}\n"
      ],
      "text/markdown": [
       "1. 'PASS'\n",
       "2. 'PASS'\n",
       "3. 'PASS'\n",
       "4. 'REPEAT'\n",
       "5. 'PASS'\n",
       "6. 'PASS'\n",
       "7. 'REPEAT'\n",
       "8. 'PASS'\n",
       "9. 'PASS'\n",
       "10. 'PASS'\n",
       "\n",
       "\n"
      ],
      "text/plain": [
       " [1] \"PASS\"   \"PASS\"   \"PASS\"   \"REPEAT\" \"PASS\"   \"PASS\"   \"REPEAT\" \"PASS\"  \n",
       " [9] \"PASS\"   \"PASS\"  "
      ]
     },
     "metadata": {},
     "output_type": "display_data"
    },
    {
     "data": {
      "text/html": [
       "<ol class=list-inline>\n",
       "\t<li>1</li>\n",
       "\t<li>2</li>\n",
       "\t<li>3</li>\n",
       "\t<li>5</li>\n",
       "\t<li>6</li>\n",
       "\t<li>8</li>\n",
       "\t<li>9</li>\n",
       "\t<li>10</li>\n",
       "</ol>\n"
      ],
      "text/latex": [
       "\\begin{enumerate*}\n",
       "\\item 1\n",
       "\\item 2\n",
       "\\item 3\n",
       "\\item 5\n",
       "\\item 6\n",
       "\\item 8\n",
       "\\item 9\n",
       "\\item 10\n",
       "\\end{enumerate*}\n"
      ],
      "text/markdown": [
       "1. 1\n",
       "2. 2\n",
       "3. 3\n",
       "4. 5\n",
       "5. 6\n",
       "6. 8\n",
       "7. 9\n",
       "8. 10\n",
       "\n",
       "\n"
      ],
      "text/plain": [
       "[1]  1  2  3  5  6  8  9 10"
      ]
     },
     "metadata": {},
     "output_type": "display_data"
    }
   ],
   "source": [
    "Result_SE2 <- ifelse (bstat>=12 | btrics>=12, \"PASS\",\"REPEAT\") # bstat or btrics >=12\n",
    "Result_SE2\n",
    "which(bstat>=12 | btrics>=12)"
   ]
  },
  {
   "cell_type": "markdown",
   "id": "5a41b13b",
   "metadata": {},
   "source": [
    "## subset"
   ]
  },
  {
   "cell_type": "markdown",
   "id": "7502a653",
   "metadata": {},
   "source": [
    "Creating a subset of data frame with conditional statement"
   ]
  },
  {
   "cell_type": "code",
   "execution_count": 85,
   "id": "44ff325c",
   "metadata": {},
   "outputs": [
    {
     "data": {
      "text/html": [
       "<table>\n",
       "<thead><tr><th></th><th scope=col>Roll_no</th><th scope=col>names</th><th scope=col>dob</th><th scope=col>bstat</th><th scope=col>btrics</th><th scope=col>micro</th><th scope=col>maths</th><th scope=col>macro</th><th scope=col>Result_SE1</th></tr></thead>\n",
       "<tbody>\n",
       "\t<tr><th scope=row>4</th><td>124       </td><td>D         </td><td>1991-01-10</td><td>6         </td><td>9         </td><td>14        </td><td>4         </td><td>4         </td><td>REPEAT    </td></tr>\n",
       "\t<tr><th scope=row>7</th><td>127       </td><td>G         </td><td>1990-12-01</td><td>4         </td><td>6         </td><td>10        </td><td>2         </td><td>2         </td><td>REPEAT    </td></tr>\n",
       "</tbody>\n",
       "</table>\n"
      ],
      "text/latex": [
       "\\begin{tabular}{r|lllllllll}\n",
       "  & Roll\\_no & names & dob & bstat & btrics & micro & maths & macro & Result\\_SE1\\\\\n",
       "\\hline\n",
       "\t4 & 124        & D          & 1991-01-10 & 6          & 9          & 14         & 4          & 4          & REPEAT    \\\\\n",
       "\t7 & 127        & G          & 1990-12-01 & 4          & 6          & 10         & 2          & 2          & REPEAT    \\\\\n",
       "\\end{tabular}\n"
      ],
      "text/markdown": [
       "\n",
       "| <!--/--> | Roll_no | names | dob | bstat | btrics | micro | maths | macro | Result_SE1 |\n",
       "|---|---|---|---|---|---|---|---|---|---|\n",
       "| 4 | 124        | D          | 1991-01-10 | 6          | 9          | 14         | 4          | 4          | REPEAT     |\n",
       "| 7 | 127        | G          | 1990-12-01 | 4          | 6          | 10         | 2          | 2          | REPEAT     |\n",
       "\n"
      ],
      "text/plain": [
       "  Roll_no names dob        bstat btrics micro maths macro Result_SE1\n",
       "4 124     D     1991-01-10 6     9      14    4     4     REPEAT    \n",
       "7 127     G     1990-12-01 4     6      10    2     2     REPEAT    "
      ]
     },
     "metadata": {},
     "output_type": "display_data"
    }
   ],
   "source": [
    "MA_First_Repeat <- subset(MA_First2, Result_SE2==\"REPEAT\")\n",
    "MA_First_Repeat"
   ]
  },
  {
   "cell_type": "markdown",
   "id": "ced4b567",
   "metadata": {},
   "source": [
    "create a subset of data where students have failed in either Econometrics or statistics"
   ]
  },
  {
   "cell_type": "code",
   "execution_count": 86,
   "id": "d0e76855",
   "metadata": {},
   "outputs": [
    {
     "data": {
      "text/html": [
       "<table>\n",
       "<thead><tr><th></th><th scope=col>Roll_no</th><th scope=col>names</th><th scope=col>dob</th><th scope=col>bstat</th><th scope=col>btrics</th><th scope=col>micro</th><th scope=col>maths</th><th scope=col>macro</th><th scope=col>Result_SE1</th></tr></thead>\n",
       "<tbody>\n",
       "\t<tr><th scope=row>4</th><td>124       </td><td>D         </td><td>1991-01-10</td><td> 6        </td><td> 9        </td><td>14        </td><td> 4        </td><td> 4        </td><td>REPEAT    </td></tr>\n",
       "\t<tr><th scope=row>7</th><td>127       </td><td>G         </td><td>1990-12-01</td><td> 4        </td><td> 6        </td><td>10        </td><td> 2        </td><td> 2        </td><td>REPEAT    </td></tr>\n",
       "\t<tr><th scope=row>9</th><td>129       </td><td>J         </td><td>1991-01-01</td><td> 9        </td><td>12        </td><td> 9        </td><td> 8        </td><td> 8        </td><td>REPEAT    </td></tr>\n",
       "\t<tr><th scope=row>10</th><td>130       </td><td>H         </td><td>1991-01-10</td><td>12        </td><td>10        </td><td>11        </td><td>12        </td><td>12        </td><td>REPEAT    </td></tr>\n",
       "</tbody>\n",
       "</table>\n"
      ],
      "text/latex": [
       "\\begin{tabular}{r|lllllllll}\n",
       "  & Roll\\_no & names & dob & bstat & btrics & micro & maths & macro & Result\\_SE1\\\\\n",
       "\\hline\n",
       "\t4 & 124        & D          & 1991-01-10 &  6         &  9         & 14         &  4         &  4         & REPEAT    \\\\\n",
       "\t7 & 127        & G          & 1990-12-01 &  4         &  6         & 10         &  2         &  2         & REPEAT    \\\\\n",
       "\t9 & 129        & J          & 1991-01-01 &  9         & 12         &  9         &  8         &  8         & REPEAT    \\\\\n",
       "\t10 & 130        & H          & 1991-01-10 & 12         & 10         & 11         & 12         & 12         & REPEAT    \\\\\n",
       "\\end{tabular}\n"
      ],
      "text/markdown": [
       "\n",
       "| <!--/--> | Roll_no | names | dob | bstat | btrics | micro | maths | macro | Result_SE1 |\n",
       "|---|---|---|---|---|---|---|---|---|---|\n",
       "| 4 | 124        | D          | 1991-01-10 |  6         |  9         | 14         |  4         |  4         | REPEAT     |\n",
       "| 7 | 127        | G          | 1990-12-01 |  4         |  6         | 10         |  2         |  2         | REPEAT     |\n",
       "| 9 | 129        | J          | 1991-01-01 |  9         | 12         |  9         |  8         |  8         | REPEAT     |\n",
       "| 10 | 130        | H          | 1991-01-10 | 12         | 10         | 11         | 12         | 12         | REPEAT     |\n",
       "\n"
      ],
      "text/plain": [
       "   Roll_no names dob        bstat btrics micro maths macro Result_SE1\n",
       "4  124     D     1991-01-10  6     9     14     4     4    REPEAT    \n",
       "7  127     G     1990-12-01  4     6     10     2     2    REPEAT    \n",
       "9  129     J     1991-01-01  9    12      9     8     8    REPEAT    \n",
       "10 130     H     1991-01-10 12    10     11    12    12    REPEAT    "
      ]
     },
     "metadata": {},
     "output_type": "display_data"
    }
   ],
   "source": [
    "Remedial1 <-subset(MA_First2,bstat<12 |btrics <12)\n",
    "Remedial1"
   ]
  },
  {
   "cell_type": "markdown",
   "id": "dac0314c",
   "metadata": {},
   "source": [
    "Create a subset of data where students have failed in both Econometrics and statistics"
   ]
  },
  {
   "cell_type": "code",
   "execution_count": 87,
   "id": "ec8ab547",
   "metadata": {},
   "outputs": [
    {
     "data": {
      "text/html": [
       "<table>\n",
       "<thead><tr><th></th><th scope=col>Roll_no</th><th scope=col>names</th><th scope=col>dob</th><th scope=col>bstat</th><th scope=col>btrics</th><th scope=col>micro</th><th scope=col>maths</th><th scope=col>macro</th><th scope=col>Result_SE1</th></tr></thead>\n",
       "<tbody>\n",
       "\t<tr><th scope=row>4</th><td>124       </td><td>D         </td><td>1991-01-10</td><td>6         </td><td>9         </td><td>14        </td><td>4         </td><td>4         </td><td>REPEAT    </td></tr>\n",
       "\t<tr><th scope=row>7</th><td>127       </td><td>G         </td><td>1990-12-01</td><td>4         </td><td>6         </td><td>10        </td><td>2         </td><td>2         </td><td>REPEAT    </td></tr>\n",
       "</tbody>\n",
       "</table>\n"
      ],
      "text/latex": [
       "\\begin{tabular}{r|lllllllll}\n",
       "  & Roll\\_no & names & dob & bstat & btrics & micro & maths & macro & Result\\_SE1\\\\\n",
       "\\hline\n",
       "\t4 & 124        & D          & 1991-01-10 & 6          & 9          & 14         & 4          & 4          & REPEAT    \\\\\n",
       "\t7 & 127        & G          & 1990-12-01 & 4          & 6          & 10         & 2          & 2          & REPEAT    \\\\\n",
       "\\end{tabular}\n"
      ],
      "text/markdown": [
       "\n",
       "| <!--/--> | Roll_no | names | dob | bstat | btrics | micro | maths | macro | Result_SE1 |\n",
       "|---|---|---|---|---|---|---|---|---|---|\n",
       "| 4 | 124        | D          | 1991-01-10 | 6          | 9          | 14         | 4          | 4          | REPEAT     |\n",
       "| 7 | 127        | G          | 1990-12-01 | 4          | 6          | 10         | 2          | 2          | REPEAT     |\n",
       "\n"
      ],
      "text/plain": [
       "  Roll_no names dob        bstat btrics micro maths macro Result_SE1\n",
       "4 124     D     1991-01-10 6     9      14    4     4     REPEAT    \n",
       "7 127     G     1990-12-01 4     6      10    2     2     REPEAT    "
      ]
     },
     "metadata": {},
     "output_type": "display_data"
    }
   ],
   "source": [
    "Remedial1 <-subset(MA_First2,bstat<12 & btrics <12)\n",
    "Remedial1"
   ]
  },
  {
   "cell_type": "markdown",
   "id": "96e42de7",
   "metadata": {},
   "source": [
    "## wrtie.table and wrie.csv"
   ]
  },
  {
   "cell_type": "markdown",
   "id": "171da003",
   "metadata": {},
   "source": [
    "Most flexible command for exporting data from R is write.table"
   ]
  },
  {
   "cell_type": "code",
   "execution_count": 88,
   "id": "7ef3e450",
   "metadata": {},
   "outputs": [],
   "source": [
    "#Save the file in current working directory, save it as a .CSV file format\n",
    " # write.table(MA_First,file = \"MA_First.csv\",sep=\",\")"
   ]
  },
  {
   "cell_type": "code",
   "execution_count": 89,
   "id": "572a9f42",
   "metadata": {},
   "outputs": [],
   "source": [
    "#export without row names by setting the row.names=FALSE\n",
    "# write.table(MA_First,file = \"MA_First.csv\", row.names= FALSE,sep=\",\",)"
   ]
  },
  {
   "cell_type": "code",
   "execution_count": 90,
   "id": "694a6761",
   "metadata": {},
   "outputs": [],
   "source": [
    "#How to export a file from R into a different working directory\n",
    "# write.table(MA_First,file = \"C:/Users/Acer/Desktop/\", row.names= FALSE,sep=\",\")"
   ]
  },
  {
   "cell_type": "code",
   "execution_count": 91,
   "id": "6c1e85ac",
   "metadata": {},
   "outputs": [],
   "source": [
    "#To Export data from R into a comma separated value file (.CSV) use\n",
    "write.csv(MA_First,file = \"MA_First.csv\", row.names= FALSE)"
   ]
  },
  {
   "cell_type": "code",
   "execution_count": 92,
   "id": "c9733273",
   "metadata": {},
   "outputs": [],
   "source": [
    "#To Export data in Excel need to install package xlsx\n",
    "# install.packages(\"xlsx\")\n",
    "# library(xlsx)\n",
    "# write.xlsx(MA_First, file=\"MA_Firsts.xlsx\", row.names= FALSE)"
   ]
  },
  {
   "cell_type": "markdown",
   "id": "af5e3374",
   "metadata": {},
   "source": [
    "## Working with csv"
   ]
  },
  {
   "cell_type": "code",
   "execution_count": 93,
   "id": "4788233f",
   "metadata": {},
   "outputs": [
    {
     "data": {
      "text/html": [
       "<ol class=list-inline>\n",
       "\t<li>500</li>\n",
       "\t<li>3</li>\n",
       "</ol>\n"
      ],
      "text/latex": [
       "\\begin{enumerate*}\n",
       "\\item 500\n",
       "\\item 3\n",
       "\\end{enumerate*}\n"
      ],
      "text/markdown": [
       "1. 500\n",
       "2. 3\n",
       "\n",
       "\n"
      ],
      "text/plain": [
       "[1] 500   3"
      ]
     },
     "metadata": {},
     "output_type": "display_data"
    },
    {
     "data": {
      "text/html": [
       "500"
      ],
      "text/latex": [
       "500"
      ],
      "text/markdown": [
       "500"
      ],
      "text/plain": [
       "[1] 500"
      ]
     },
     "metadata": {},
     "output_type": "display_data"
    },
    {
     "data": {
      "text/html": [
       "3"
      ],
      "text/latex": [
       "3"
      ],
      "text/markdown": [
       "3"
      ],
      "text/plain": [
       "[1] 3"
      ]
     },
     "metadata": {},
     "output_type": "display_data"
    },
    {
     "data": {
      "text/plain": [
       "      City           Cases         Vaccinated   \n",
       " Min.   :  1.0   Min.   :   11   Min.   :  316  \n",
       " 1st Qu.:125.8   1st Qu.: 6095   1st Qu.:12372  \n",
       " Median :250.5   Median :12572   Median :25774  \n",
       " Mean   :250.5   Mean   :12558   Mean   :25022  \n",
       " 3rd Qu.:375.2   3rd Qu.:19271   3rd Qu.:37805  \n",
       " Max.   :500.0   Max.   :24976   Max.   :49667  "
      ]
     },
     "metadata": {},
     "output_type": "display_data"
    },
    {
     "data": {
      "text/html": [
       "<table>\n",
       "<thead><tr><th scope=col>City</th><th scope=col>Cases</th><th scope=col>Vaccinated</th></tr></thead>\n",
       "<tbody>\n",
       "\t<tr><td> 1   </td><td>20258</td><td>47774</td></tr>\n",
       "\t<tr><td> 2   </td><td>16449</td><td>26085</td></tr>\n",
       "\t<tr><td> 3   </td><td> 6666</td><td>28382</td></tr>\n",
       "\t<tr><td> 4   </td><td>19939</td><td>12349</td></tr>\n",
       "\t<tr><td> 5   </td><td>21648</td><td> 1725</td></tr>\n",
       "\t<tr><td> 6   </td><td>14702</td><td>41653</td></tr>\n",
       "\t<tr><td> 7   </td><td> 1534</td><td>37952</td></tr>\n",
       "\t<tr><td> 8   </td><td>24098</td><td> 5703</td></tr>\n",
       "\t<tr><td> 9   </td><td> 4001</td><td>23527</td></tr>\n",
       "\t<tr><td>10   </td><td>11690</td><td>11442</td></tr>\n",
       "</tbody>\n",
       "</table>\n"
      ],
      "text/latex": [
       "\\begin{tabular}{r|lll}\n",
       " City & Cases & Vaccinated\\\\\n",
       "\\hline\n",
       "\t  1    & 20258 & 47774\\\\\n",
       "\t  2    & 16449 & 26085\\\\\n",
       "\t  3    &  6666 & 28382\\\\\n",
       "\t  4    & 19939 & 12349\\\\\n",
       "\t  5    & 21648 &  1725\\\\\n",
       "\t  6    & 14702 & 41653\\\\\n",
       "\t  7    &  1534 & 37952\\\\\n",
       "\t  8    & 24098 &  5703\\\\\n",
       "\t  9    &  4001 & 23527\\\\\n",
       "\t 10    & 11690 & 11442\\\\\n",
       "\\end{tabular}\n"
      ],
      "text/markdown": [
       "\n",
       "| City | Cases | Vaccinated |\n",
       "|---|---|---|\n",
       "|  1    | 20258 | 47774 |\n",
       "|  2    | 16449 | 26085 |\n",
       "|  3    |  6666 | 28382 |\n",
       "|  4    | 19939 | 12349 |\n",
       "|  5    | 21648 |  1725 |\n",
       "|  6    | 14702 | 41653 |\n",
       "|  7    |  1534 | 37952 |\n",
       "|  8    | 24098 |  5703 |\n",
       "|  9    |  4001 | 23527 |\n",
       "| 10    | 11690 | 11442 |\n",
       "\n"
      ],
      "text/plain": [
       "   City Cases Vaccinated\n",
       "1   1   20258 47774     \n",
       "2   2   16449 26085     \n",
       "3   3    6666 28382     \n",
       "4   4   19939 12349     \n",
       "5   5   21648  1725     \n",
       "6   6   14702 41653     \n",
       "7   7    1534 37952     \n",
       "8   8   24098  5703     \n",
       "9   9    4001 23527     \n",
       "10 10   11690 11442     "
      ]
     },
     "metadata": {},
     "output_type": "display_data"
    },
    {
     "data": {
      "text/html": [
       "<table>\n",
       "<thead><tr><th></th><th scope=col>City</th><th scope=col>Cases</th><th scope=col>Vaccinated</th></tr></thead>\n",
       "<tbody>\n",
       "\t<tr><th scope=row>495</th><td>495  </td><td>17635</td><td>30360</td></tr>\n",
       "\t<tr><th scope=row>496</th><td>496  </td><td>12449</td><td>38358</td></tr>\n",
       "\t<tr><th scope=row>497</th><td>497  </td><td> 6030</td><td>19177</td></tr>\n",
       "\t<tr><th scope=row>498</th><td>498  </td><td> 7899</td><td>  382</td></tr>\n",
       "\t<tr><th scope=row>499</th><td>499  </td><td>16347</td><td>32509</td></tr>\n",
       "\t<tr><th scope=row>500</th><td>500  </td><td> 7871</td><td>39519</td></tr>\n",
       "</tbody>\n",
       "</table>\n"
      ],
      "text/latex": [
       "\\begin{tabular}{r|lll}\n",
       "  & City & Cases & Vaccinated\\\\\n",
       "\\hline\n",
       "\t495 & 495   & 17635 & 30360\\\\\n",
       "\t496 & 496   & 12449 & 38358\\\\\n",
       "\t497 & 497   &  6030 & 19177\\\\\n",
       "\t498 & 498   &  7899 &   382\\\\\n",
       "\t499 & 499   & 16347 & 32509\\\\\n",
       "\t500 & 500   &  7871 & 39519\\\\\n",
       "\\end{tabular}\n"
      ],
      "text/markdown": [
       "\n",
       "| <!--/--> | City | Cases | Vaccinated |\n",
       "|---|---|---|---|\n",
       "| 495 | 495   | 17635 | 30360 |\n",
       "| 496 | 496   | 12449 | 38358 |\n",
       "| 497 | 497   |  6030 | 19177 |\n",
       "| 498 | 498   |  7899 |   382 |\n",
       "| 499 | 499   | 16347 | 32509 |\n",
       "| 500 | 500   |  7871 | 39519 |\n",
       "\n"
      ],
      "text/plain": [
       "    City Cases Vaccinated\n",
       "495 495  17635 30360     \n",
       "496 496  12449 38358     \n",
       "497 497   6030 19177     \n",
       "498 498   7899   382     \n",
       "499 499  16347 32509     \n",
       "500 500   7871 39519     "
      ]
     },
     "metadata": {},
     "output_type": "display_data"
    },
    {
     "data": {
      "text/html": [
       "<table>\n",
       "<thead><tr><th></th><th scope=col>City</th><th scope=col>Cases</th><th scope=col>Vaccinated</th></tr></thead>\n",
       "<tbody>\n",
       "\t<tr><th scope=row>491</th><td>491  </td><td>18826</td><td>49428</td></tr>\n",
       "\t<tr><th scope=row>492</th><td>492  </td><td>10385</td><td>44836</td></tr>\n",
       "\t<tr><th scope=row>493</th><td>493  </td><td> 2331</td><td> 9361</td></tr>\n",
       "\t<tr><th scope=row>494</th><td>494  </td><td>  997</td><td>22391</td></tr>\n",
       "\t<tr><th scope=row>495</th><td>495  </td><td>17635</td><td>30360</td></tr>\n",
       "\t<tr><th scope=row>496</th><td>496  </td><td>12449</td><td>38358</td></tr>\n",
       "\t<tr><th scope=row>497</th><td>497  </td><td> 6030</td><td>19177</td></tr>\n",
       "\t<tr><th scope=row>498</th><td>498  </td><td> 7899</td><td>  382</td></tr>\n",
       "\t<tr><th scope=row>499</th><td>499  </td><td>16347</td><td>32509</td></tr>\n",
       "\t<tr><th scope=row>500</th><td>500  </td><td> 7871</td><td>39519</td></tr>\n",
       "</tbody>\n",
       "</table>\n"
      ],
      "text/latex": [
       "\\begin{tabular}{r|lll}\n",
       "  & City & Cases & Vaccinated\\\\\n",
       "\\hline\n",
       "\t491 & 491   & 18826 & 49428\\\\\n",
       "\t492 & 492   & 10385 & 44836\\\\\n",
       "\t493 & 493   &  2331 &  9361\\\\\n",
       "\t494 & 494   &   997 & 22391\\\\\n",
       "\t495 & 495   & 17635 & 30360\\\\\n",
       "\t496 & 496   & 12449 & 38358\\\\\n",
       "\t497 & 497   &  6030 & 19177\\\\\n",
       "\t498 & 498   &  7899 &   382\\\\\n",
       "\t499 & 499   & 16347 & 32509\\\\\n",
       "\t500 & 500   &  7871 & 39519\\\\\n",
       "\\end{tabular}\n"
      ],
      "text/markdown": [
       "\n",
       "| <!--/--> | City | Cases | Vaccinated |\n",
       "|---|---|---|---|\n",
       "| 491 | 491   | 18826 | 49428 |\n",
       "| 492 | 492   | 10385 | 44836 |\n",
       "| 493 | 493   |  2331 |  9361 |\n",
       "| 494 | 494   |   997 | 22391 |\n",
       "| 495 | 495   | 17635 | 30360 |\n",
       "| 496 | 496   | 12449 | 38358 |\n",
       "| 497 | 497   |  6030 | 19177 |\n",
       "| 498 | 498   |  7899 |   382 |\n",
       "| 499 | 499   | 16347 | 32509 |\n",
       "| 500 | 500   |  7871 | 39519 |\n",
       "\n"
      ],
      "text/plain": [
       "    City Cases Vaccinated\n",
       "491 491  18826 49428     \n",
       "492 492  10385 44836     \n",
       "493 493   2331  9361     \n",
       "494 494    997 22391     \n",
       "495 495  17635 30360     \n",
       "496 496  12449 38358     \n",
       "497 497   6030 19177     \n",
       "498 498   7899   382     \n",
       "499 499  16347 32509     \n",
       "500 500   7871 39519     "
      ]
     },
     "metadata": {},
     "output_type": "display_data"
    }
   ],
   "source": [
    "coviddata<- read.csv(\"F:\\\\python\\\\coviddata.csv\")\n",
    "dim(coviddata)\n",
    "nrow(coviddata)\n",
    "ncol(coviddata)\n",
    "summary(coviddata)\n",
    "head(coviddata,10)\n",
    "tail(coviddata)\n",
    "tail(coviddata,10)"
   ]
  },
  {
   "cell_type": "markdown",
   "id": "c81b6e3f",
   "metadata": {},
   "source": [
    "Assigning/renaming column names to the data if does not have"
   ]
  },
  {
   "cell_type": "code",
   "execution_count": 94,
   "id": "75701397",
   "metadata": {},
   "outputs": [
    {
     "data": {
      "text/html": [
       "<ol class=list-inline>\n",
       "\t<li>'City'</li>\n",
       "\t<li>'Cases'</li>\n",
       "\t<li>'Vaccinated'</li>\n",
       "</ol>\n"
      ],
      "text/latex": [
       "\\begin{enumerate*}\n",
       "\\item 'City'\n",
       "\\item 'Cases'\n",
       "\\item 'Vaccinated'\n",
       "\\end{enumerate*}\n"
      ],
      "text/markdown": [
       "1. 'City'\n",
       "2. 'Cases'\n",
       "3. 'Vaccinated'\n",
       "\n",
       "\n"
      ],
      "text/plain": [
       "[1] \"City\"       \"Cases\"      \"Vaccinated\""
      ]
     },
     "metadata": {},
     "output_type": "display_data"
    }
   ],
   "source": [
    "colnames(coviddata)"
   ]
  },
  {
   "cell_type": "code",
   "execution_count": 95,
   "id": "24aca624",
   "metadata": {
    "scrolled": true
   },
   "outputs": [
    {
     "data": {
      "text/html": [
       "<ol class=list-inline>\n",
       "\t<li>'State'</li>\n",
       "\t<li>'Covid case'</li>\n",
       "\t<li>'dose'</li>\n",
       "</ol>\n"
      ],
      "text/latex": [
       "\\begin{enumerate*}\n",
       "\\item 'State'\n",
       "\\item 'Covid case'\n",
       "\\item 'dose'\n",
       "\\end{enumerate*}\n"
      ],
      "text/markdown": [
       "1. 'State'\n",
       "2. 'Covid case'\n",
       "3. 'dose'\n",
       "\n",
       "\n"
      ],
      "text/plain": [
       "[1] \"State\"      \"Covid case\" \"dose\"      "
      ]
     },
     "metadata": {},
     "output_type": "display_data"
    }
   ],
   "source": [
    "colnames(coviddata) <-c(\"State\", \"Covid case\", \"dose\")\n",
    "colnames(coviddata)"
   ]
  }
 ],
 "metadata": {
  "kernelspec": {
   "display_name": "R",
   "language": "R",
   "name": "ir"
  },
  "language_info": {
   "codemirror_mode": "r",
   "file_extension": ".r",
   "mimetype": "text/x-r-source",
   "name": "R",
   "pygments_lexer": "r",
   "version": "4.1.2"
  }
 },
 "nbformat": 4,
 "nbformat_minor": 5
}
