{
 "cells": [
  {
   "cell_type": "markdown",
   "id": "9b159f16",
   "metadata": {},
   "source": [
    "## R programming"
   ]
  },
  {
   "cell_type": "markdown",
   "id": "f58abb19",
   "metadata": {},
   "source": [
    "Clear environment"
   ]
  },
  {
   "cell_type": "code",
   "execution_count": 77,
   "id": "d11300ba",
   "metadata": {},
   "outputs": [],
   "source": [
    "rm(list = ls()) "
   ]
  },
  {
   "cell_type": "markdown",
   "id": "440494c9",
   "metadata": {},
   "source": [
    "Clear console"
   ]
  },
  {
   "cell_type": "code",
   "execution_count": 78,
   "id": "d6e0fa73",
   "metadata": {},
   "outputs": [
    {
     "name": "stdout",
     "output_type": "stream",
     "text": [
      "\f"
     ]
    }
   ],
   "source": [
    "cat(\"\\014\")"
   ]
  },
  {
   "cell_type": "markdown",
   "id": "7ffccf53",
   "metadata": {},
   "source": [
    "## 1. Objects"
   ]
  },
  {
   "cell_type": "markdown",
   "id": "349f9fdc",
   "metadata": {},
   "source": [
    "Objects- Variable in other programming languages.\n",
    " Object >Stores the information& can be re-used whenever they required"
   ]
  },
  {
   "cell_type": "markdown",
   "id": "732cdf31",
   "metadata": {},
   "source": [
    "Variable name/Object_name-can be any name which \n",
    "1. Starts with character\n",
    "2. No space\n",
    "3. Does not starts with number or #, . or _\n",
    "4. A name cannot use some special symbols, like ^, !, %, &,$,@, +, -,/,*,:\n",
    "5. except _ and ."
   ]
  },
  {
   "cell_type": "markdown",
   "id": "a5e1064a",
   "metadata": {},
   "source": [
    "## Assigning value to objects"
   ]
  },
  {
   "cell_type": "code",
   "execution_count": 79,
   "id": "32dd198f",
   "metadata": {},
   "outputs": [],
   "source": [
    "a <- 100\n",
    "b <- 200\n",
    "a1 <- 10\n",
    "B1 <- 2200\n",
    "my_number1 <- 1000\n",
    "name <- \"sathish\"\n",
    "A = 10.0\n",
    "c <- \"C\"\n",
    "d = TRUE\n",
    "D = FALSE\n",
    "die <- 1:6"
   ]
  },
  {
   "cell_type": "markdown",
   "id": "7a8a8a1d",
   "metadata": {},
   "source": [
    "seq() function in R Language is used to create a sequence of elements in a Vector"
   ]
  },
  {
   "cell_type": "code",
   "execution_count": 80,
   "id": "4aa093f4",
   "metadata": {},
   "outputs": [],
   "source": [
    "Roll_no <-seq(1,20,1)"
   ]
  },
  {
   "cell_type": "markdown",
   "id": "d1d40382",
   "metadata": {},
   "source": [
    "The c() in R is used to create a vector with explicitly providing values"
   ]
  },
  {
   "cell_type": "code",
   "execution_count": 81,
   "id": "54ef985c",
   "metadata": {},
   "outputs": [],
   "source": [
    "names <- c(\"A\",\"B\",\"C\",\"D\",\"E\",\"F\",\"G\",\"I\",\"J\", \"H\",\n",
    "           \"K\",\"L\",\"M\",\"N\",\"O\",\"P\",\"Q\",\"U\",\"V\",\"W\")\n",
    "date <- c(\"15/12/1990\",\"01/12/1990\",\"31/12/1990\",\"10/01/1991\",\n",
    "          \"01/01/1991\",\"10/01/1991\",\"01/12/1990\",\"12/01/1991\",\n",
    "          \"01/01/1991\",\"10/01/1991\",\"15/12/1990\",\"01/12/1990\",\n",
    "          \"31/12/1990\",\"10/01/1991\",\n",
    "          \"01/01/1991\",\"10/01/1991\",\"01/12/1990\",\"12/01/1991\",\n",
    "          \"01/01/1991\",\"10/01/1991\")"
   ]
  },
  {
   "cell_type": "code",
   "execution_count": 82,
   "id": "6574e866",
   "metadata": {},
   "outputs": [
    {
     "data": {
      "text/html": [
       "'character'"
      ],
      "text/latex": [
       "'character'"
      ],
      "text/markdown": [
       "'character'"
      ],
      "text/plain": [
       "[1] \"character\""
      ]
     },
     "metadata": {},
     "output_type": "display_data"
    },
    {
     "data": {
      "text/html": [
       "'character'"
      ],
      "text/latex": [
       "'character'"
      ],
      "text/markdown": [
       "'character'"
      ],
      "text/plain": [
       "[1] \"character\""
      ]
     },
     "metadata": {},
     "output_type": "display_data"
    }
   ],
   "source": [
    "class(names)\n",
    "class(date)"
   ]
  },
  {
   "cell_type": "markdown",
   "id": "dd43f23d",
   "metadata": {},
   "source": [
    "## Convert a vector from Character format to data format"
   ]
  },
  {
   "cell_type": "markdown",
   "id": "67674072",
   "metadata": {},
   "source": [
    "\"as.Date\" function coverts to date from Character"
   ]
  },
  {
   "cell_type": "code",
   "execution_count": 83,
   "id": "e4d25c64",
   "metadata": {},
   "outputs": [
    {
     "data": {
      "text/html": [
       "'Date'"
      ],
      "text/latex": [
       "'Date'"
      ],
      "text/markdown": [
       "'Date'"
      ],
      "text/plain": [
       "[1] \"Date\""
      ]
     },
     "metadata": {},
     "output_type": "display_data"
    }
   ],
   "source": [
    "dob <-as.Date(date,\"%d/%m/%Y\")\n",
    "class(dob)"
   ]
  },
  {
   "cell_type": "markdown",
   "id": "bd65aff7",
   "metadata": {},
   "source": [
    "## Working directory"
   ]
  },
  {
   "cell_type": "markdown",
   "id": "e9979b34",
   "metadata": {},
   "source": [
    "1. getwd() fetches the working directory.\n",
    "2. setwd() sets the working directory"
   ]
  },
  {
   "cell_type": "markdown",
   "id": "a87caee1",
   "metadata": {},
   "source": [
    "## Basic Data types in R"
   ]
  },
  {
   "cell_type": "markdown",
   "id": "68ae4ced",
   "metadata": {},
   "source": [
    "## Integers"
   ]
  },
  {
   "cell_type": "code",
   "execution_count": 84,
   "id": "97bc9e0c",
   "metadata": {},
   "outputs": [
    {
     "data": {
      "text/html": [
       "'integer'"
      ],
      "text/latex": [
       "'integer'"
      ],
      "text/markdown": [
       "'integer'"
      ],
      "text/plain": [
       "[1] \"integer\""
      ]
     },
     "metadata": {},
     "output_type": "display_data"
    },
    {
     "data": {
      "text/html": [
       "'integer'"
      ],
      "text/latex": [
       "'integer'"
      ],
      "text/markdown": [
       "'integer'"
      ],
      "text/plain": [
       "[1] \"integer\""
      ]
     },
     "metadata": {},
     "output_type": "display_data"
    }
   ],
   "source": [
    "a<-4L # May or may not include L\n",
    "b<-as.integer(4)\n",
    "class(a)\n",
    "class(b)"
   ]
  },
  {
   "cell_type": "code",
   "execution_count": 85,
   "id": "b73c7811",
   "metadata": {},
   "outputs": [
    {
     "data": {
      "text/html": [
       "TRUE"
      ],
      "text/latex": [
       "TRUE"
      ],
      "text/markdown": [
       "TRUE"
      ],
      "text/plain": [
       "[1] TRUE"
      ]
     },
     "metadata": {},
     "output_type": "display_data"
    },
    {
     "data": {
      "text/html": [
       "TRUE"
      ],
      "text/latex": [
       "TRUE"
      ],
      "text/markdown": [
       "TRUE"
      ],
      "text/plain": [
       "[1] TRUE"
      ]
     },
     "metadata": {},
     "output_type": "display_data"
    }
   ],
   "source": [
    "is.integer(a)\n",
    "is.integer(b)"
   ]
  },
  {
   "cell_type": "code",
   "execution_count": 86,
   "id": "db1aaf87",
   "metadata": {},
   "outputs": [
    {
     "data": {
      "text/html": [
       "'integer'"
      ],
      "text/latex": [
       "'integer'"
      ],
      "text/markdown": [
       "'integer'"
      ],
      "text/plain": [
       "[1] \"integer\""
      ]
     },
     "metadata": {},
     "output_type": "display_data"
    },
    {
     "data": {
      "text/html": [
       "'integer'"
      ],
      "text/latex": [
       "'integer'"
      ],
      "text/markdown": [
       "'integer'"
      ],
      "text/plain": [
       "[1] \"integer\""
      ]
     },
     "metadata": {},
     "output_type": "display_data"
    }
   ],
   "source": [
    "typeof(a)\n",
    "typeof(b)"
   ]
  },
  {
   "cell_type": "code",
   "execution_count": 87,
   "id": "2f3a1fcb",
   "metadata": {},
   "outputs": [
    {
     "data": {
      "text/html": [
       "'integer'"
      ],
      "text/latex": [
       "'integer'"
      ],
      "text/markdown": [
       "'integer'"
      ],
      "text/plain": [
       "[1] \"integer\""
      ]
     },
     "metadata": {},
     "output_type": "display_data"
    },
    {
     "data": {
      "text/html": [
       "'integer'"
      ],
      "text/latex": [
       "'integer'"
      ],
      "text/markdown": [
       "'integer'"
      ],
      "text/plain": [
       "[1] \"integer\""
      ]
     },
     "metadata": {},
     "output_type": "display_data"
    }
   ],
   "source": [
    "c <- c(45L,3L,34L)\n",
    "d<-as.integer(c(45,3,34))\n",
    "class(c)\n",
    "class(d)"
   ]
  },
  {
   "cell_type": "markdown",
   "id": "e4f28ed4",
   "metadata": {},
   "source": [
    "## Numeric or Double"
   ]
  },
  {
   "cell_type": "code",
   "execution_count": 88,
   "id": "22dcc1fd",
   "metadata": {},
   "outputs": [
    {
     "data": {
      "text/html": [
       "'numeric'"
      ],
      "text/latex": [
       "'numeric'"
      ],
      "text/markdown": [
       "'numeric'"
      ],
      "text/plain": [
       "[1] \"numeric\""
      ]
     },
     "metadata": {},
     "output_type": "display_data"
    },
    {
     "data": {
      "text/html": [
       "'double'"
      ],
      "text/latex": [
       "'double'"
      ],
      "text/markdown": [
       "'double'"
      ],
      "text/plain": [
       "[1] \"double\""
      ]
     },
     "metadata": {},
     "output_type": "display_data"
    },
    {
     "data": {
      "text/html": [
       "TRUE"
      ],
      "text/latex": [
       "TRUE"
      ],
      "text/markdown": [
       "TRUE"
      ],
      "text/plain": [
       "[1] TRUE"
      ]
     },
     "metadata": {},
     "output_type": "display_data"
    }
   ],
   "source": [
    "e<-45\n",
    "class(e)\n",
    "typeof(e)\n",
    "is.numeric(e)"
   ]
  },
  {
   "cell_type": "markdown",
   "id": "b504366b",
   "metadata": {},
   "source": [
    "## Logical"
   ]
  },
  {
   "cell_type": "code",
   "execution_count": 89,
   "id": "8580cf33",
   "metadata": {},
   "outputs": [
    {
     "data": {
      "text/html": [
       "'logical'"
      ],
      "text/latex": [
       "'logical'"
      ],
      "text/markdown": [
       "'logical'"
      ],
      "text/plain": [
       "[1] \"logical\""
      ]
     },
     "metadata": {},
     "output_type": "display_data"
    },
    {
     "data": {
      "text/html": [
       "'logical'"
      ],
      "text/latex": [
       "'logical'"
      ],
      "text/markdown": [
       "'logical'"
      ],
      "text/plain": [
       "[1] \"logical\""
      ]
     },
     "metadata": {},
     "output_type": "display_data"
    },
    {
     "data": {
      "text/html": [
       "TRUE"
      ],
      "text/latex": [
       "TRUE"
      ],
      "text/markdown": [
       "TRUE"
      ],
      "text/plain": [
       "[1] TRUE"
      ]
     },
     "metadata": {},
     "output_type": "display_data"
    }
   ],
   "source": [
    "f <-TRUE\n",
    "g<-FALSE\n",
    "class(f)\n",
    "typeof(g)\n",
    "is.logical(f)"
   ]
  },
  {
   "cell_type": "markdown",
   "id": "a81c081b",
   "metadata": {},
   "source": [
    "## Complex"
   ]
  },
  {
   "cell_type": "code",
   "execution_count": 90,
   "id": "bb129fe7",
   "metadata": {},
   "outputs": [
    {
     "data": {
      "text/html": [
       "'complex'"
      ],
      "text/latex": [
       "'complex'"
      ],
      "text/markdown": [
       "'complex'"
      ],
      "text/plain": [
       "[1] \"complex\""
      ]
     },
     "metadata": {},
     "output_type": "display_data"
    },
    {
     "data": {
      "text/html": [
       "'complex'"
      ],
      "text/latex": [
       "'complex'"
      ],
      "text/markdown": [
       "'complex'"
      ],
      "text/plain": [
       "[1] \"complex\""
      ]
     },
     "metadata": {},
     "output_type": "display_data"
    },
    {
     "data": {
      "text/html": [
       "TRUE"
      ],
      "text/latex": [
       "TRUE"
      ],
      "text/markdown": [
       "TRUE"
      ],
      "text/plain": [
       "[1] TRUE"
      ]
     },
     "metadata": {},
     "output_type": "display_data"
    }
   ],
   "source": [
    "m<-45i\n",
    "class(m)\n",
    "typeof(m)\n",
    "is.complex(m)"
   ]
  },
  {
   "cell_type": "markdown",
   "id": "c443af1b",
   "metadata": {},
   "source": [
    "## Characters"
   ]
  },
  {
   "cell_type": "code",
   "execution_count": 91,
   "id": "3424ad78",
   "metadata": {},
   "outputs": [
    {
     "data": {
      "text/html": [
       "'character'"
      ],
      "text/latex": [
       "'character'"
      ],
      "text/markdown": [
       "'character'"
      ],
      "text/plain": [
       "[1] \"character\""
      ]
     },
     "metadata": {},
     "output_type": "display_data"
    },
    {
     "data": {
      "text/html": [
       "'character'"
      ],
      "text/latex": [
       "'character'"
      ],
      "text/markdown": [
       "'character'"
      ],
      "text/plain": [
       "[1] \"character\""
      ]
     },
     "metadata": {},
     "output_type": "display_data"
    },
    {
     "data": {
      "text/html": [
       "TRUE"
      ],
      "text/latex": [
       "TRUE"
      ],
      "text/markdown": [
       "TRUE"
      ],
      "text/plain": [
       "[1] TRUE"
      ]
     },
     "metadata": {},
     "output_type": "display_data"
    }
   ],
   "source": [
    "h <- \"Hello\"\n",
    "i <- \"World\"\n",
    "\n",
    "class(h)\n",
    "typeof(h)\n",
    "is.character(h)"
   ]
  },
  {
   "cell_type": "markdown",
   "id": "d5a13010",
   "metadata": {},
   "source": [
    "The paste() is a built-in R function used to concatenate vectors by converting them into character"
   ]
  },
  {
   "cell_type": "code",
   "execution_count": 92,
   "id": "3d3f0d6a",
   "metadata": {},
   "outputs": [
    {
     "data": {
      "text/html": [
       "'Hello World'"
      ],
      "text/latex": [
       "'Hello World'"
      ],
      "text/markdown": [
       "'Hello World'"
      ],
      "text/plain": [
       "[1] \"Hello World\""
      ]
     },
     "metadata": {},
     "output_type": "display_data"
    },
    {
     "data": {
      "text/html": [
       "'HelloWorld'"
      ],
      "text/latex": [
       "'HelloWorld'"
      ],
      "text/markdown": [
       "'HelloWorld'"
      ],
      "text/plain": [
       "[1] \"HelloWorld\""
      ]
     },
     "metadata": {},
     "output_type": "display_data"
    }
   ],
   "source": [
    "j <-paste(h,i)\n",
    "d <- paste0(h,i)\n",
    "j\n",
    "d"
   ]
  },
  {
   "cell_type": "markdown",
   "id": "9821b9da",
   "metadata": {},
   "source": [
    "1. Spaces doesn't matter in R\n",
    "2. Upper case and lower case matter in R"
   ]
  },
  {
   "cell_type": "markdown",
   "id": "b37c3707",
   "metadata": {},
   "source": [
    "## logical variables and operations"
   ]
  },
  {
   "cell_type": "code",
   "execution_count": 93,
   "id": "e43830bf",
   "metadata": {},
   "outputs": [
    {
     "data": {
      "text/html": [
       "TRUE"
      ],
      "text/latex": [
       "TRUE"
      ],
      "text/markdown": [
       "TRUE"
      ],
      "text/plain": [
       "[1] TRUE"
      ]
     },
     "metadata": {},
     "output_type": "display_data"
    },
    {
     "data": {
      "text/html": [
       "TRUE"
      ],
      "text/latex": [
       "TRUE"
      ],
      "text/markdown": [
       "TRUE"
      ],
      "text/plain": [
       "[1] TRUE"
      ]
     },
     "metadata": {},
     "output_type": "display_data"
    },
    {
     "data": {
      "text/html": [
       "TRUE"
      ],
      "text/latex": [
       "TRUE"
      ],
      "text/markdown": [
       "TRUE"
      ],
      "text/plain": [
       "[1] TRUE"
      ]
     },
     "metadata": {},
     "output_type": "display_data"
    },
    {
     "data": {
      "text/html": [
       "FALSE"
      ],
      "text/latex": [
       "FALSE"
      ],
      "text/markdown": [
       "FALSE"
      ],
      "text/plain": [
       "[1] FALSE"
      ]
     },
     "metadata": {},
     "output_type": "display_data"
    }
   ],
   "source": [
    "4==4\n",
    "4!=5\n",
    "4<=5\n",
    "5>=6"
   ]
  },
  {
   "cell_type": "markdown",
   "id": "bcc6dd13",
   "metadata": {},
   "source": [
    "R language has certain predefined reserved Key for functions. \n",
    "1. if, else, repeat, while, NA_integer_ , in , next , function , for , NA_real_ , break , TRUE , FALSE , NULL , NA_complex , Inf , NaN , NA , ... , NA_character , ..1 , ..2.\n",
    "2. you cannot use these keywords in object name"
   ]
  },
  {
   "cell_type": "markdown",
   "id": "34f7cc2b",
   "metadata": {},
   "source": [
    "## Pre defined Constants"
   ]
  },
  {
   "cell_type": "code",
   "execution_count": 94,
   "id": "52f38fee",
   "metadata": {},
   "outputs": [
    {
     "data": {
      "text/html": [
       "3.14159265358979"
      ],
      "text/latex": [
       "3.14159265358979"
      ],
      "text/markdown": [
       "3.14159265358979"
      ],
      "text/plain": [
       "[1] 3.141593"
      ]
     },
     "metadata": {},
     "output_type": "display_data"
    },
    {
     "data": {
      "text/html": [
       "<style>\n",
       ".list-inline {list-style: none; margin:0; padding: 0}\n",
       ".list-inline>li {display: inline-block}\n",
       ".list-inline>li:not(:last-child)::after {content: \"\\00b7\"; padding: 0 .5ex}\n",
       "</style>\n",
       "<ol class=list-inline><li>'a'</li><li>'b'</li><li>'c'</li><li>'d'</li><li>'e'</li><li>'f'</li><li>'g'</li><li>'h'</li><li>'i'</li><li>'j'</li><li>'k'</li><li>'l'</li><li>'m'</li><li>'n'</li><li>'o'</li><li>'p'</li><li>'q'</li><li>'r'</li><li>'s'</li><li>'t'</li><li>'u'</li><li>'v'</li><li>'w'</li><li>'x'</li><li>'y'</li><li>'z'</li></ol>\n"
      ],
      "text/latex": [
       "\\begin{enumerate*}\n",
       "\\item 'a'\n",
       "\\item 'b'\n",
       "\\item 'c'\n",
       "\\item 'd'\n",
       "\\item 'e'\n",
       "\\item 'f'\n",
       "\\item 'g'\n",
       "\\item 'h'\n",
       "\\item 'i'\n",
       "\\item 'j'\n",
       "\\item 'k'\n",
       "\\item 'l'\n",
       "\\item 'm'\n",
       "\\item 'n'\n",
       "\\item 'o'\n",
       "\\item 'p'\n",
       "\\item 'q'\n",
       "\\item 'r'\n",
       "\\item 's'\n",
       "\\item 't'\n",
       "\\item 'u'\n",
       "\\item 'v'\n",
       "\\item 'w'\n",
       "\\item 'x'\n",
       "\\item 'y'\n",
       "\\item 'z'\n",
       "\\end{enumerate*}\n"
      ],
      "text/markdown": [
       "1. 'a'\n",
       "2. 'b'\n",
       "3. 'c'\n",
       "4. 'd'\n",
       "5. 'e'\n",
       "6. 'f'\n",
       "7. 'g'\n",
       "8. 'h'\n",
       "9. 'i'\n",
       "10. 'j'\n",
       "11. 'k'\n",
       "12. 'l'\n",
       "13. 'm'\n",
       "14. 'n'\n",
       "15. 'o'\n",
       "16. 'p'\n",
       "17. 'q'\n",
       "18. 'r'\n",
       "19. 's'\n",
       "20. 't'\n",
       "21. 'u'\n",
       "22. 'v'\n",
       "23. 'w'\n",
       "24. 'x'\n",
       "25. 'y'\n",
       "26. 'z'\n",
       "\n",
       "\n"
      ],
      "text/plain": [
       " [1] \"a\" \"b\" \"c\" \"d\" \"e\" \"f\" \"g\" \"h\" \"i\" \"j\" \"k\" \"l\" \"m\" \"n\" \"o\" \"p\" \"q\" \"r\" \"s\"\n",
       "[20] \"t\" \"u\" \"v\" \"w\" \"x\" \"y\" \"z\""
      ]
     },
     "metadata": {},
     "output_type": "display_data"
    },
    {
     "data": {
      "text/html": [
       "<style>\n",
       ".list-inline {list-style: none; margin:0; padding: 0}\n",
       ".list-inline>li {display: inline-block}\n",
       ".list-inline>li:not(:last-child)::after {content: \"\\00b7\"; padding: 0 .5ex}\n",
       "</style>\n",
       "<ol class=list-inline><li>'A'</li><li>'B'</li><li>'C'</li><li>'D'</li><li>'E'</li><li>'F'</li><li>'G'</li><li>'H'</li><li>'I'</li><li>'J'</li><li>'K'</li><li>'L'</li><li>'M'</li><li>'N'</li><li>'O'</li><li>'P'</li><li>'Q'</li><li>'R'</li><li>'S'</li><li>'T'</li><li>'U'</li><li>'V'</li><li>'W'</li><li>'X'</li><li>'Y'</li><li>'Z'</li></ol>\n"
      ],
      "text/latex": [
       "\\begin{enumerate*}\n",
       "\\item 'A'\n",
       "\\item 'B'\n",
       "\\item 'C'\n",
       "\\item 'D'\n",
       "\\item 'E'\n",
       "\\item 'F'\n",
       "\\item 'G'\n",
       "\\item 'H'\n",
       "\\item 'I'\n",
       "\\item 'J'\n",
       "\\item 'K'\n",
       "\\item 'L'\n",
       "\\item 'M'\n",
       "\\item 'N'\n",
       "\\item 'O'\n",
       "\\item 'P'\n",
       "\\item 'Q'\n",
       "\\item 'R'\n",
       "\\item 'S'\n",
       "\\item 'T'\n",
       "\\item 'U'\n",
       "\\item 'V'\n",
       "\\item 'W'\n",
       "\\item 'X'\n",
       "\\item 'Y'\n",
       "\\item 'Z'\n",
       "\\end{enumerate*}\n"
      ],
      "text/markdown": [
       "1. 'A'\n",
       "2. 'B'\n",
       "3. 'C'\n",
       "4. 'D'\n",
       "5. 'E'\n",
       "6. 'F'\n",
       "7. 'G'\n",
       "8. 'H'\n",
       "9. 'I'\n",
       "10. 'J'\n",
       "11. 'K'\n",
       "12. 'L'\n",
       "13. 'M'\n",
       "14. 'N'\n",
       "15. 'O'\n",
       "16. 'P'\n",
       "17. 'Q'\n",
       "18. 'R'\n",
       "19. 'S'\n",
       "20. 'T'\n",
       "21. 'U'\n",
       "22. 'V'\n",
       "23. 'W'\n",
       "24. 'X'\n",
       "25. 'Y'\n",
       "26. 'Z'\n",
       "\n",
       "\n"
      ],
      "text/plain": [
       " [1] \"A\" \"B\" \"C\" \"D\" \"E\" \"F\" \"G\" \"H\" \"I\" \"J\" \"K\" \"L\" \"M\" \"N\" \"O\" \"P\" \"Q\" \"R\" \"S\"\n",
       "[20] \"T\" \"U\" \"V\" \"W\" \"X\" \"Y\" \"Z\""
      ]
     },
     "metadata": {},
     "output_type": "display_data"
    },
    {
     "data": {
      "text/html": [
       "<style>\n",
       ".list-inline {list-style: none; margin:0; padding: 0}\n",
       ".list-inline>li {display: inline-block}\n",
       ".list-inline>li:not(:last-child)::after {content: \"\\00b7\"; padding: 0 .5ex}\n",
       "</style>\n",
       "<ol class=list-inline><li>'January'</li><li>'February'</li><li>'March'</li><li>'April'</li><li>'May'</li><li>'June'</li><li>'July'</li><li>'August'</li><li>'September'</li><li>'October'</li><li>'November'</li><li>'December'</li></ol>\n"
      ],
      "text/latex": [
       "\\begin{enumerate*}\n",
       "\\item 'January'\n",
       "\\item 'February'\n",
       "\\item 'March'\n",
       "\\item 'April'\n",
       "\\item 'May'\n",
       "\\item 'June'\n",
       "\\item 'July'\n",
       "\\item 'August'\n",
       "\\item 'September'\n",
       "\\item 'October'\n",
       "\\item 'November'\n",
       "\\item 'December'\n",
       "\\end{enumerate*}\n"
      ],
      "text/markdown": [
       "1. 'January'\n",
       "2. 'February'\n",
       "3. 'March'\n",
       "4. 'April'\n",
       "5. 'May'\n",
       "6. 'June'\n",
       "7. 'July'\n",
       "8. 'August'\n",
       "9. 'September'\n",
       "10. 'October'\n",
       "11. 'November'\n",
       "12. 'December'\n",
       "\n",
       "\n"
      ],
      "text/plain": [
       " [1] \"January\"   \"February\"  \"March\"     \"April\"     \"May\"       \"June\"     \n",
       " [7] \"July\"      \"August\"    \"September\" \"October\"   \"November\"  \"December\" "
      ]
     },
     "metadata": {},
     "output_type": "display_data"
    },
    {
     "data": {
      "text/html": [
       "<style>\n",
       ".list-inline {list-style: none; margin:0; padding: 0}\n",
       ".list-inline>li {display: inline-block}\n",
       ".list-inline>li:not(:last-child)::after {content: \"\\00b7\"; padding: 0 .5ex}\n",
       "</style>\n",
       "<ol class=list-inline><li>'Jan'</li><li>'Feb'</li><li>'Mar'</li><li>'Apr'</li><li>'May'</li><li>'Jun'</li><li>'Jul'</li><li>'Aug'</li><li>'Sep'</li><li>'Oct'</li><li>'Nov'</li><li>'Dec'</li></ol>\n"
      ],
      "text/latex": [
       "\\begin{enumerate*}\n",
       "\\item 'Jan'\n",
       "\\item 'Feb'\n",
       "\\item 'Mar'\n",
       "\\item 'Apr'\n",
       "\\item 'May'\n",
       "\\item 'Jun'\n",
       "\\item 'Jul'\n",
       "\\item 'Aug'\n",
       "\\item 'Sep'\n",
       "\\item 'Oct'\n",
       "\\item 'Nov'\n",
       "\\item 'Dec'\n",
       "\\end{enumerate*}\n"
      ],
      "text/markdown": [
       "1. 'Jan'\n",
       "2. 'Feb'\n",
       "3. 'Mar'\n",
       "4. 'Apr'\n",
       "5. 'May'\n",
       "6. 'Jun'\n",
       "7. 'Jul'\n",
       "8. 'Aug'\n",
       "9. 'Sep'\n",
       "10. 'Oct'\n",
       "11. 'Nov'\n",
       "12. 'Dec'\n",
       "\n",
       "\n"
      ],
      "text/plain": [
       " [1] \"Jan\" \"Feb\" \"Mar\" \"Apr\" \"May\" \"Jun\" \"Jul\" \"Aug\" \"Sep\" \"Oct\" \"Nov\" \"Dec\""
      ]
     },
     "metadata": {},
     "output_type": "display_data"
    }
   ],
   "source": [
    "pi\n",
    "letters\n",
    "LETTERS\n",
    "month.name\n",
    "month.abb"
   ]
  },
  {
   "cell_type": "markdown",
   "id": "cd922b19",
   "metadata": {},
   "source": [
    "## arithmetic operations with boolean values"
   ]
  },
  {
   "cell_type": "markdown",
   "id": "9ff0bb66",
   "metadata": {},
   "source": [
    "TRUE =1 and FALSE =0"
   ]
  },
  {
   "cell_type": "code",
   "execution_count": 95,
   "id": "5ed6a7a7",
   "metadata": {},
   "outputs": [
    {
     "data": {
      "text/html": [
       "2"
      ],
      "text/latex": [
       "2"
      ],
      "text/markdown": [
       "2"
      ],
      "text/plain": [
       "[1] 2"
      ]
     },
     "metadata": {},
     "output_type": "display_data"
    },
    {
     "data": {
      "text/html": [
       "1"
      ],
      "text/latex": [
       "1"
      ],
      "text/markdown": [
       "1"
      ],
      "text/plain": [
       "[1] 1"
      ]
     },
     "metadata": {},
     "output_type": "display_data"
    },
    {
     "data": {
      "text/html": [
       "1"
      ],
      "text/latex": [
       "1"
      ],
      "text/markdown": [
       "1"
      ],
      "text/plain": [
       "[1] 1"
      ]
     },
     "metadata": {},
     "output_type": "display_data"
    },
    {
     "data": {
      "text/html": [
       "0"
      ],
      "text/latex": [
       "0"
      ],
      "text/markdown": [
       "0"
      ],
      "text/plain": [
       "[1] 0"
      ]
     },
     "metadata": {},
     "output_type": "display_data"
    }
   ],
   "source": [
    "TRUE + TRUE\n",
    "TRUE + FALSE\n",
    "FALSE + TRUE\n",
    "FALSE + FALSE "
   ]
  },
  {
   "cell_type": "markdown",
   "id": "0a6bacd6",
   "metadata": {},
   "source": [
    "## Assigning value to objects  "
   ]
  },
  {
   "cell_type": "markdown",
   "id": "a7e560f7",
   "metadata": {},
   "source": [
    "1. Assignment operator"
   ]
  },
  {
   "cell_type": "code",
   "execution_count": 96,
   "id": "a2473181",
   "metadata": {},
   "outputs": [],
   "source": [
    "marks <- 20"
   ]
  },
  {
   "cell_type": "markdown",
   "id": "2edc9f8e",
   "metadata": {},
   "source": [
    "2. Equal to operator"
   ]
  },
  {
   "cell_type": "code",
   "execution_count": 97,
   "id": "085366e3",
   "metadata": {},
   "outputs": [],
   "source": [
    "vijay = 20"
   ]
  },
  {
   "cell_type": "markdown",
   "id": "29c64d9d",
   "metadata": {},
   "source": [
    "3. assign()"
   ]
  },
  {
   "cell_type": "code",
   "execution_count": 98,
   "id": "9569926e",
   "metadata": {},
   "outputs": [],
   "source": [
    "assign('dev',20)\n",
    "assign('Ram',20L)\n",
    "assign('Shyam',2i)\n",
    "assign('name',\"Devesh\")\n",
    "assign('Answer',T)\n",
    "assign('Answer',TRUE)"
   ]
  },
  {
   "cell_type": "markdown",
   "id": "5cc25bee",
   "metadata": {},
   "source": [
    "## Vector"
   ]
  },
  {
   "cell_type": "markdown",
   "id": "c3bdaefa",
   "metadata": {},
   "source": [
    "Vector is a collection of elemments or set of elements."
   ]
  },
  {
   "cell_type": "markdown",
   "id": "3dc04e39",
   "metadata": {},
   "source": [
    "## Creating Vectors in R"
   ]
  },
  {
   "cell_type": "markdown",
   "id": "16b13a68",
   "metadata": {},
   "source": [
    "Single element vector"
   ]
  },
  {
   "cell_type": "code",
   "execution_count": 99,
   "id": "db4cc4d1",
   "metadata": {},
   "outputs": [],
   "source": [
    "a<-10\n",
    "a<-10L\n",
    "a<-10+5i\n",
    "a<-\"DEV\"\n",
    "a<-T"
   ]
  },
  {
   "cell_type": "markdown",
   "id": "59fadf83",
   "metadata": {},
   "source": [
    "Multiple elements vector"
   ]
  },
  {
   "cell_type": "code",
   "execution_count": 100,
   "id": "14497739",
   "metadata": {},
   "outputs": [],
   "source": [
    "b<-c(123,124,125,126,127,128,129,130,131,132,133,134)"
   ]
  },
  {
   "cell_type": "markdown",
   "id": "f7a250e6",
   "metadata": {},
   "source": [
    "3 ways to create Multiple vectors"
   ]
  },
  {
   "cell_type": "markdown",
   "id": "a67f6a93",
   "metadata": {},
   "source": [
    "1. operator"
   ]
  },
  {
   "cell_type": "code",
   "execution_count": 101,
   "id": "ea30076b",
   "metadata": {},
   "outputs": [
    {
     "data": {
      "text/html": [
       "<style>\n",
       ".list-inline {list-style: none; margin:0; padding: 0}\n",
       ".list-inline>li {display: inline-block}\n",
       ".list-inline>li:not(:last-child)::after {content: \"\\00b7\"; padding: 0 .5ex}\n",
       "</style>\n",
       "<ol class=list-inline><li>123</li><li>124</li><li>125</li><li>126</li><li>127</li><li>128</li><li>129</li><li>130</li><li>131</li><li>132</li><li>133</li><li>134</li></ol>\n"
      ],
      "text/latex": [
       "\\begin{enumerate*}\n",
       "\\item 123\n",
       "\\item 124\n",
       "\\item 125\n",
       "\\item 126\n",
       "\\item 127\n",
       "\\item 128\n",
       "\\item 129\n",
       "\\item 130\n",
       "\\item 131\n",
       "\\item 132\n",
       "\\item 133\n",
       "\\item 134\n",
       "\\end{enumerate*}\n"
      ],
      "text/markdown": [
       "1. 123\n",
       "2. 124\n",
       "3. 125\n",
       "4. 126\n",
       "5. 127\n",
       "6. 128\n",
       "7. 129\n",
       "8. 130\n",
       "9. 131\n",
       "10. 132\n",
       "11. 133\n",
       "12. 134\n",
       "\n",
       "\n"
      ],
      "text/plain": [
       " [1] 123 124 125 126 127 128 129 130 131 132 133 134"
      ]
     },
     "metadata": {},
     "output_type": "display_data"
    },
    {
     "data": {
      "text/html": [
       "<style>\n",
       ".list-inline {list-style: none; margin:0; padding: 0}\n",
       ".list-inline>li {display: inline-block}\n",
       ".list-inline>li:not(:last-child)::after {content: \"\\00b7\"; padding: 0 .5ex}\n",
       "</style>\n",
       "<ol class=list-inline><li>134</li><li>133</li><li>132</li><li>131</li><li>130</li><li>129</li><li>128</li><li>127</li><li>126</li><li>125</li><li>124</li><li>123</li></ol>\n"
      ],
      "text/latex": [
       "\\begin{enumerate*}\n",
       "\\item 134\n",
       "\\item 133\n",
       "\\item 132\n",
       "\\item 131\n",
       "\\item 130\n",
       "\\item 129\n",
       "\\item 128\n",
       "\\item 127\n",
       "\\item 126\n",
       "\\item 125\n",
       "\\item 124\n",
       "\\item 123\n",
       "\\end{enumerate*}\n"
      ],
      "text/markdown": [
       "1. 134\n",
       "2. 133\n",
       "3. 132\n",
       "4. 131\n",
       "5. 130\n",
       "6. 129\n",
       "7. 128\n",
       "8. 127\n",
       "9. 126\n",
       "10. 125\n",
       "11. 124\n",
       "12. 123\n",
       "\n",
       "\n"
      ],
      "text/plain": [
       " [1] 134 133 132 131 130 129 128 127 126 125 124 123"
      ]
     },
     "metadata": {},
     "output_type": "display_data"
    },
    {
     "data": {
      "text/html": [
       "<style>\n",
       ".list-inline {list-style: none; margin:0; padding: 0}\n",
       ".list-inline>li {display: inline-block}\n",
       ".list-inline>li:not(:last-child)::after {content: \"\\00b7\"; padding: 0 .5ex}\n",
       "</style>\n",
       "<ol class=list-inline><li>-10</li><li>-9</li><li>-8</li><li>-7</li><li>-6</li><li>-5</li><li>-4</li><li>-3</li><li>-2</li><li>-1</li><li>0</li><li>1</li><li>2</li><li>3</li><li>4</li><li>5</li><li>6</li><li>7</li><li>8</li><li>9</li><li>10</li></ol>\n"
      ],
      "text/latex": [
       "\\begin{enumerate*}\n",
       "\\item -10\n",
       "\\item -9\n",
       "\\item -8\n",
       "\\item -7\n",
       "\\item -6\n",
       "\\item -5\n",
       "\\item -4\n",
       "\\item -3\n",
       "\\item -2\n",
       "\\item -1\n",
       "\\item 0\n",
       "\\item 1\n",
       "\\item 2\n",
       "\\item 3\n",
       "\\item 4\n",
       "\\item 5\n",
       "\\item 6\n",
       "\\item 7\n",
       "\\item 8\n",
       "\\item 9\n",
       "\\item 10\n",
       "\\end{enumerate*}\n"
      ],
      "text/markdown": [
       "1. -10\n",
       "2. -9\n",
       "3. -8\n",
       "4. -7\n",
       "5. -6\n",
       "6. -5\n",
       "7. -4\n",
       "8. -3\n",
       "9. -2\n",
       "10. -1\n",
       "11. 0\n",
       "12. 1\n",
       "13. 2\n",
       "14. 3\n",
       "15. 4\n",
       "16. 5\n",
       "17. 6\n",
       "18. 7\n",
       "19. 8\n",
       "20. 9\n",
       "21. 10\n",
       "\n",
       "\n"
      ],
      "text/plain": [
       " [1] -10  -9  -8  -7  -6  -5  -4  -3  -2  -1   0   1   2   3   4   5   6   7   8\n",
       "[20]   9  10"
      ]
     },
     "metadata": {},
     "output_type": "display_data"
    }
   ],
   "source": [
    "d<-123:134\n",
    "e <- 134:123\n",
    "f<-1:1000\n",
    "g<- -10:10\n",
    "d\n",
    "e\n",
    "g"
   ]
  },
  {
   "cell_type": "markdown",
   "id": "cb0d72a7",
   "metadata": {},
   "source": [
    "2. seq()function"
   ]
  },
  {
   "cell_type": "code",
   "execution_count": 102,
   "id": "9664b02e",
   "metadata": {},
   "outputs": [
    {
     "data": {
      "text/html": [
       "<style>\n",
       ".list-inline {list-style: none; margin:0; padding: 0}\n",
       ".list-inline>li {display: inline-block}\n",
       ".list-inline>li:not(:last-child)::after {content: \"\\00b7\"; padding: 0 .5ex}\n",
       "</style>\n",
       "<ol class=list-inline><li>123</li><li>124</li><li>125</li><li>126</li><li>127</li><li>128</li><li>129</li><li>130</li><li>131</li><li>132</li><li>133</li><li>134</li></ol>\n"
      ],
      "text/latex": [
       "\\begin{enumerate*}\n",
       "\\item 123\n",
       "\\item 124\n",
       "\\item 125\n",
       "\\item 126\n",
       "\\item 127\n",
       "\\item 128\n",
       "\\item 129\n",
       "\\item 130\n",
       "\\item 131\n",
       "\\item 132\n",
       "\\item 133\n",
       "\\item 134\n",
       "\\end{enumerate*}\n"
      ],
      "text/markdown": [
       "1. 123\n",
       "2. 124\n",
       "3. 125\n",
       "4. 126\n",
       "5. 127\n",
       "6. 128\n",
       "7. 129\n",
       "8. 130\n",
       "9. 131\n",
       "10. 132\n",
       "11. 133\n",
       "12. 134\n",
       "\n",
       "\n"
      ],
      "text/plain": [
       " [1] 123 124 125 126 127 128 129 130 131 132 133 134"
      ]
     },
     "metadata": {},
     "output_type": "display_data"
    },
    {
     "data": {
      "text/html": [
       "<style>\n",
       ".list-inline {list-style: none; margin:0; padding: 0}\n",
       ".list-inline>li {display: inline-block}\n",
       ".list-inline>li:not(:last-child)::after {content: \"\\00b7\"; padding: 0 .5ex}\n",
       "</style>\n",
       "<ol class=list-inline><li>123</li><li>123.5</li><li>124</li><li>124.5</li><li>125</li><li>125.5</li><li>126</li><li>126.5</li><li>127</li><li>127.5</li><li>128</li><li>128.5</li><li>129</li><li>129.5</li><li>130</li><li>130.5</li><li>131</li><li>131.5</li><li>132</li><li>132.5</li><li>133</li><li>133.5</li><li>134</li></ol>\n"
      ],
      "text/latex": [
       "\\begin{enumerate*}\n",
       "\\item 123\n",
       "\\item 123.5\n",
       "\\item 124\n",
       "\\item 124.5\n",
       "\\item 125\n",
       "\\item 125.5\n",
       "\\item 126\n",
       "\\item 126.5\n",
       "\\item 127\n",
       "\\item 127.5\n",
       "\\item 128\n",
       "\\item 128.5\n",
       "\\item 129\n",
       "\\item 129.5\n",
       "\\item 130\n",
       "\\item 130.5\n",
       "\\item 131\n",
       "\\item 131.5\n",
       "\\item 132\n",
       "\\item 132.5\n",
       "\\item 133\n",
       "\\item 133.5\n",
       "\\item 134\n",
       "\\end{enumerate*}\n"
      ],
      "text/markdown": [
       "1. 123\n",
       "2. 123.5\n",
       "3. 124\n",
       "4. 124.5\n",
       "5. 125\n",
       "6. 125.5\n",
       "7. 126\n",
       "8. 126.5\n",
       "9. 127\n",
       "10. 127.5\n",
       "11. 128\n",
       "12. 128.5\n",
       "13. 129\n",
       "14. 129.5\n",
       "15. 130\n",
       "16. 130.5\n",
       "17. 131\n",
       "18. 131.5\n",
       "19. 132\n",
       "20. 132.5\n",
       "21. 133\n",
       "22. 133.5\n",
       "23. 134\n",
       "\n",
       "\n"
      ],
      "text/plain": [
       " [1] 123.0 123.5 124.0 124.5 125.0 125.5 126.0 126.5 127.0 127.5 128.0 128.5\n",
       "[13] 129.0 129.5 130.0 130.5 131.0 131.5 132.0 132.5 133.0 133.5 134.0"
      ]
     },
     "metadata": {},
     "output_type": "display_data"
    }
   ],
   "source": [
    "d<-seq(from=123,to=134,by=1)\n",
    "c<-seq(from=123,to=134,by=0.5)\n",
    "d\n",
    "c"
   ]
  },
  {
   "cell_type": "markdown",
   "id": "da79120d",
   "metadata": {},
   "source": [
    "3. c()function"
   ]
  },
  {
   "cell_type": "code",
   "execution_count": 103,
   "id": "b72e8228",
   "metadata": {},
   "outputs": [],
   "source": [
    "b<-c(123,124,125,126,127,128,129,130,131,132,133,134)"
   ]
  },
  {
   "cell_type": "markdown",
   "id": "c36eeef2",
   "metadata": {},
   "source": [
    "## Type of Vectors"
   ]
  },
  {
   "cell_type": "code",
   "execution_count": 104,
   "id": "9cba7a6d",
   "metadata": {},
   "outputs": [
    {
     "data": {
      "text/html": [
       "'numeric'"
      ],
      "text/latex": [
       "'numeric'"
      ],
      "text/markdown": [
       "'numeric'"
      ],
      "text/plain": [
       "[1] \"numeric\""
      ]
     },
     "metadata": {},
     "output_type": "display_data"
    }
   ],
   "source": [
    "#double  \n",
    "e<-45\n",
    "class(e)"
   ]
  },
  {
   "cell_type": "code",
   "execution_count": 105,
   "id": "302314ca",
   "metadata": {},
   "outputs": [],
   "source": [
    "#character\n",
    "h <- \"Hello\""
   ]
  },
  {
   "cell_type": "code",
   "execution_count": 106,
   "id": "0d5d888c",
   "metadata": {},
   "outputs": [],
   "source": [
    "#Logical\n",
    "f <-TRUE"
   ]
  },
  {
   "cell_type": "code",
   "execution_count": 107,
   "id": "6733733f",
   "metadata": {},
   "outputs": [],
   "source": [
    "#Integer\n",
    "a<-4L"
   ]
  },
  {
   "cell_type": "code",
   "execution_count": 108,
   "id": "d359b223",
   "metadata": {},
   "outputs": [],
   "source": [
    "#complex\n",
    "d<-4i"
   ]
  },
  {
   "cell_type": "markdown",
   "id": "13d96c1c",
   "metadata": {},
   "source": [
    "## Arithmetic operations on Vectors"
   ]
  },
  {
   "cell_type": "code",
   "execution_count": 109,
   "id": "f8e128e6",
   "metadata": {},
   "outputs": [
    {
     "data": {
      "text/html": [
       "<style>\n",
       ".list-inline {list-style: none; margin:0; padding: 0}\n",
       ".list-inline>li {display: inline-block}\n",
       ".list-inline>li:not(:last-child)::after {content: \"\\00b7\"; padding: 0 .5ex}\n",
       "</style>\n",
       "<ol class=list-inline><li>21</li><li>44</li><li>69</li><li>96</li><li>125</li></ol>\n"
      ],
      "text/latex": [
       "\\begin{enumerate*}\n",
       "\\item 21\n",
       "\\item 44\n",
       "\\item 69\n",
       "\\item 96\n",
       "\\item 125\n",
       "\\end{enumerate*}\n"
      ],
      "text/markdown": [
       "1. 21\n",
       "2. 44\n",
       "3. 69\n",
       "4. 96\n",
       "5. 125\n",
       "\n",
       "\n"
      ],
      "text/plain": [
       "[1]  21  44  69  96 125"
      ]
     },
     "metadata": {},
     "output_type": "display_data"
    },
    {
     "data": {
      "text/html": [
       "<style>\n",
       ".list-inline {list-style: none; margin:0; padding: 0}\n",
       ".list-inline>li {display: inline-block}\n",
       ".list-inline>li:not(:last-child)::after {content: \"\\00b7\"; padding: 0 .5ex}\n",
       "</style>\n",
       "<ol class=list-inline><li>11</li><li>24</li><li>39</li><li>56</li><li>75</li></ol>\n"
      ],
      "text/latex": [
       "\\begin{enumerate*}\n",
       "\\item 11\n",
       "\\item 24\n",
       "\\item 39\n",
       "\\item 56\n",
       "\\item 75\n",
       "\\end{enumerate*}\n"
      ],
      "text/markdown": [
       "1. 11\n",
       "2. 24\n",
       "3. 39\n",
       "4. 56\n",
       "5. 75\n",
       "\n",
       "\n"
      ],
      "text/plain": [
       "[1] 11 24 39 56 75"
      ]
     },
     "metadata": {},
     "output_type": "display_data"
    },
    {
     "data": {
      "text/html": [
       "<style>\n",
       ".list-inline {list-style: none; margin:0; padding: 0}\n",
       ".list-inline>li {display: inline-block}\n",
       ".list-inline>li:not(:last-child)::after {content: \"\\00b7\"; padding: 0 .5ex}\n",
       "</style>\n",
       "<ol class=list-inline><li>231</li><li>264</li><li>299</li><li>336</li><li>375</li></ol>\n"
      ],
      "text/latex": [
       "\\begin{enumerate*}\n",
       "\\item 231\n",
       "\\item 264\n",
       "\\item 299\n",
       "\\item 336\n",
       "\\item 375\n",
       "\\end{enumerate*}\n"
      ],
      "text/markdown": [
       "1. 231\n",
       "2. 264\n",
       "3. 299\n",
       "4. 336\n",
       "5. 375\n",
       "\n",
       "\n"
      ],
      "text/plain": [
       "[1] 231 264 299 336 375"
      ]
     },
     "metadata": {},
     "output_type": "display_data"
    },
    {
     "data": {
      "text/html": [
       "<style>\n",
       ".list-inline {list-style: none; margin:0; padding: 0}\n",
       ".list-inline>li {display: inline-block}\n",
       ".list-inline>li:not(:last-child)::after {content: \"\\00b7\"; padding: 0 .5ex}\n",
       "</style>\n",
       "<ol class=list-inline><li>32</li><li>34</li><li>36</li><li>38</li><li>40</li></ol>\n"
      ],
      "text/latex": [
       "\\begin{enumerate*}\n",
       "\\item 32\n",
       "\\item 34\n",
       "\\item 36\n",
       "\\item 38\n",
       "\\item 40\n",
       "\\end{enumerate*}\n"
      ],
      "text/markdown": [
       "1. 32\n",
       "2. 34\n",
       "3. 36\n",
       "4. 38\n",
       "5. 40\n",
       "\n",
       "\n"
      ],
      "text/plain": [
       "[1] 32 34 36 38 40"
      ]
     },
     "metadata": {},
     "output_type": "display_data"
    }
   ],
   "source": [
    "a<-1:5\n",
    "b<-11:15\n",
    "c<-21:25\n",
    "\n",
    "a*c\n",
    "a*b\n",
    "b*c\n",
    "b+c"
   ]
  },
  {
   "cell_type": "markdown",
   "id": "6d6f1737",
   "metadata": {},
   "source": [
    "## Lists"
   ]
  },
  {
   "cell_type": "markdown",
   "id": "05a73293",
   "metadata": {},
   "source": [
    "DataFrames are generic data objects of R which are used to store the tabular data. They are two-dimensional, heterogeneous data structures. A list in R, however, comprises of elements, vectors, data frames, variables, or lists that may belong to different data types."
   ]
  },
  {
   "cell_type": "markdown",
   "id": "5238d666",
   "metadata": {},
   "source": [
    "Lists are the R objects which contain elements of different types like ??? numbers, strings, vectors and another list inside it. A list can also contain a matrix or a function as its elements. List is created using list() function."
   ]
  },
  {
   "cell_type": "code",
   "execution_count": 110,
   "id": "bf581b47",
   "metadata": {},
   "outputs": [
    {
     "data": {
      "text/html": [
       "<style>\n",
       ".list-inline {list-style: none; margin:0; padding: 0}\n",
       ".list-inline>li {display: inline-block}\n",
       ".list-inline>li:not(:last-child)::after {content: \"\\00b7\"; padding: 0 .5ex}\n",
       "</style>\n",
       "<ol class=list-inline><li>'Hi'</li><li>'Data'</li><li>'5'</li><li>'20'</li></ol>\n"
      ],
      "text/latex": [
       "\\begin{enumerate*}\n",
       "\\item 'Hi'\n",
       "\\item 'Data'\n",
       "\\item '5'\n",
       "\\item '20'\n",
       "\\end{enumerate*}\n"
      ],
      "text/markdown": [
       "1. 'Hi'\n",
       "2. 'Data'\n",
       "3. '5'\n",
       "4. '20'\n",
       "\n",
       "\n"
      ],
      "text/plain": [
       "[1] \"Hi\"   \"Data\" \"5\"    \"20\"  "
      ]
     },
     "metadata": {},
     "output_type": "display_data"
    },
    {
     "data": {
      "text/html": [
       "FALSE"
      ],
      "text/latex": [
       "FALSE"
      ],
      "text/markdown": [
       "FALSE"
      ],
      "text/plain": [
       "[1] FALSE"
      ]
     },
     "metadata": {},
     "output_type": "display_data"
    },
    {
     "data": {
      "text/html": [
       "TRUE"
      ],
      "text/latex": [
       "TRUE"
      ],
      "text/markdown": [
       "TRUE"
      ],
      "text/plain": [
       "[1] TRUE"
      ]
     },
     "metadata": {},
     "output_type": "display_data"
    }
   ],
   "source": [
    "#if we made a vector with the help of two character and two numeric??\n",
    "x<-c(\"Hi\",\"Data\",5,20)              #R will convert all into characters\n",
    "x\n",
    "is.list(x)\n",
    "is.vector(x)"
   ]
  },
  {
   "cell_type": "code",
   "execution_count": 111,
   "id": "488cccfc",
   "metadata": {},
   "outputs": [],
   "source": [
    "#For similar format so we need to add them in a list\n",
    "z<-list(\"Hi\",\"bye\",5,20)"
   ]
  },
  {
   "cell_type": "code",
   "execution_count": 112,
   "id": "9db3804f",
   "metadata": {},
   "outputs": [
    {
     "data": {
      "text/html": [
       "<ol>\n",
       "\t<li>'Hi'</li>\n",
       "\t<li><style>\n",
       ".list-inline {list-style: none; margin:0; padding: 0}\n",
       ".list-inline>li {display: inline-block}\n",
       ".list-inline>li:not(:last-child)::after {content: \"\\00b7\"; padding: 0 .5ex}\n",
       "</style>\n",
       "<ol class=list-inline><li>'Hello'</li><li>'Bye'</li><li>'6'</li><li>'2'</li></ol>\n",
       "</li>\n",
       "\t<li>5</li>\n",
       "\t<li>20</li>\n",
       "</ol>\n"
      ],
      "text/latex": [
       "\\begin{enumerate}\n",
       "\\item 'Hi'\n",
       "\\item \\begin{enumerate*}\n",
       "\\item 'Hello'\n",
       "\\item 'Bye'\n",
       "\\item '6'\n",
       "\\item '2'\n",
       "\\end{enumerate*}\n",
       "\n",
       "\\item 5\n",
       "\\item 20\n",
       "\\end{enumerate}\n"
      ],
      "text/markdown": [
       "1. 'Hi'\n",
       "2. 1. 'Hello'\n",
       "2. 'Bye'\n",
       "3. '6'\n",
       "4. '2'\n",
       "\n",
       "\n",
       "\n",
       "3. 5\n",
       "4. 20\n",
       "\n",
       "\n"
      ],
      "text/plain": [
       "[[1]]\n",
       "[1] \"Hi\"\n",
       "\n",
       "[[2]]\n",
       "[1] \"Hello\" \"Bye\"   \"6\"     \"2\"    \n",
       "\n",
       "[[3]]\n",
       "[1] 5\n",
       "\n",
       "[[4]]\n",
       "[1] 20\n"
      ]
     },
     "metadata": {},
     "output_type": "display_data"
    },
    {
     "data": {
      "text/html": [
       "TRUE"
      ],
      "text/latex": [
       "TRUE"
      ],
      "text/markdown": [
       "TRUE"
      ],
      "text/plain": [
       "[1] TRUE"
      ]
     },
     "metadata": {},
     "output_type": "display_data"
    },
    {
     "data": {
      "text/html": [
       "'list'"
      ],
      "text/latex": [
       "'list'"
      ],
      "text/markdown": [
       "'list'"
      ],
      "text/plain": [
       "[1] \"list\""
      ]
     },
     "metadata": {},
     "output_type": "display_data"
    },
    {
     "data": {
      "text/html": [
       "'list'"
      ],
      "text/latex": [
       "'list'"
      ],
      "text/markdown": [
       "'list'"
      ],
      "text/plain": [
       "[1] \"list\""
      ]
     },
     "metadata": {},
     "output_type": "display_data"
    },
    {
     "name": "stdout",
     "output_type": "stream",
     "text": [
      "List of 4\n",
      " $ : chr \"Hi\"\n",
      " $ : chr [1:4] \"Hello\" \"Bye\" \"6\" \"2\"\n",
      " $ : num 5\n",
      " $ : num 20\n"
     ]
    }
   ],
   "source": [
    "#vector inside list\n",
    "y<-list(\"Hi\",c(\"Hello\",\"Bye\",6,2),5,20)\n",
    "y\n",
    "\n",
    "is.list(y)\n",
    "class(y)\n",
    "typeof(y)\n",
    "str(y)                #entire structure of list"
   ]
  },
  {
   "cell_type": "markdown",
   "id": "59cf0248",
   "metadata": {},
   "source": [
    "## Accessing List Elements"
   ]
  },
  {
   "cell_type": "code",
   "execution_count": 113,
   "id": "6442810a",
   "metadata": {},
   "outputs": [
    {
     "data": {
      "text/html": [
       "<ol>\n",
       "\t<li>'Hi'</li>\n",
       "</ol>\n"
      ],
      "text/latex": [
       "\\begin{enumerate}\n",
       "\\item 'Hi'\n",
       "\\end{enumerate}\n"
      ],
      "text/markdown": [
       "1. 'Hi'\n",
       "\n",
       "\n"
      ],
      "text/plain": [
       "[[1]]\n",
       "[1] \"Hi\"\n"
      ]
     },
     "metadata": {},
     "output_type": "display_data"
    },
    {
     "data": {
      "text/html": [
       "<ol>\n",
       "\t<li><style>\n",
       ".list-inline {list-style: none; margin:0; padding: 0}\n",
       ".list-inline>li {display: inline-block}\n",
       ".list-inline>li:not(:last-child)::after {content: \"\\00b7\"; padding: 0 .5ex}\n",
       "</style>\n",
       "<ol class=list-inline><li>'Hello'</li><li>'Bye'</li><li>'6'</li><li>'2'</li></ol>\n",
       "</li>\n",
       "</ol>\n"
      ],
      "text/latex": [
       "\\begin{enumerate}\n",
       "\\item \\begin{enumerate*}\n",
       "\\item 'Hello'\n",
       "\\item 'Bye'\n",
       "\\item '6'\n",
       "\\item '2'\n",
       "\\end{enumerate*}\n",
       "\n",
       "\\end{enumerate}\n"
      ],
      "text/markdown": [
       "1. 1. 'Hello'\n",
       "2. 'Bye'\n",
       "3. '6'\n",
       "4. '2'\n",
       "\n",
       "\n",
       "\n",
       "\n",
       "\n"
      ],
      "text/plain": [
       "[[1]]\n",
       "[1] \"Hello\" \"Bye\"   \"6\"     \"2\"    \n"
      ]
     },
     "metadata": {},
     "output_type": "display_data"
    }
   ],
   "source": [
    "#Elements of list can be accessed by index of the element in list.\n",
    "# []  results in sublist\n",
    "\n",
    "y[1]\n",
    "y[2]"
   ]
  },
  {
   "cell_type": "code",
   "execution_count": 114,
   "id": "e996cdd5",
   "metadata": {},
   "outputs": [
    {
     "data": {
      "text/html": [
       "<style>\n",
       ".list-inline {list-style: none; margin:0; padding: 0}\n",
       ".list-inline>li {display: inline-block}\n",
       ".list-inline>li:not(:last-child)::after {content: \"\\00b7\"; padding: 0 .5ex}\n",
       "</style>\n",
       "<ol class=list-inline><li>'Hello'</li><li>'Bye'</li><li>'6'</li><li>'2'</li></ol>\n"
      ],
      "text/latex": [
       "\\begin{enumerate*}\n",
       "\\item 'Hello'\n",
       "\\item 'Bye'\n",
       "\\item '6'\n",
       "\\item '2'\n",
       "\\end{enumerate*}\n"
      ],
      "text/markdown": [
       "1. 'Hello'\n",
       "2. 'Bye'\n",
       "3. '6'\n",
       "4. '2'\n",
       "\n",
       "\n"
      ],
      "text/plain": [
       "[1] \"Hello\" \"Bye\"   \"6\"     \"2\"    "
      ]
     },
     "metadata": {},
     "output_type": "display_data"
    },
    {
     "data": {
      "text/html": [
       "'Hi'"
      ],
      "text/latex": [
       "'Hi'"
      ],
      "text/markdown": [
       "'Hi'"
      ],
      "text/plain": [
       "[1] \"Hi\""
      ]
     },
     "metadata": {},
     "output_type": "display_data"
    }
   ],
   "source": [
    "# [[]] to select list elements\n",
    "y[[2]]           #second list\n",
    "y[[1]]           # first list"
   ]
  },
  {
   "cell_type": "code",
   "execution_count": 115,
   "id": "5f50c63d",
   "metadata": {},
   "outputs": [
    {
     "data": {
      "text/html": [
       "'Hello'"
      ],
      "text/latex": [
       "'Hello'"
      ],
      "text/markdown": [
       "'Hello'"
      ],
      "text/plain": [
       "[1] \"Hello\""
      ]
     },
     "metadata": {},
     "output_type": "display_data"
    }
   ],
   "source": [
    "y[[2]][1]       #second list first element"
   ]
  },
  {
   "cell_type": "code",
   "execution_count": 116,
   "id": "40b77e8a",
   "metadata": {},
   "outputs": [
    {
     "data": {
      "text/html": [
       "<ol>\n",
       "\t<li>'DA'</li>\n",
       "\t<li>'How are you'</li>\n",
       "\t<li>1000</li>\n",
       "\t<li><ol>\n",
       "\t<li>'Hi'</li>\n",
       "\t<li><style>\n",
       ".list-inline {list-style: none; margin:0; padding: 0}\n",
       ".list-inline>li {display: inline-block}\n",
       ".list-inline>li:not(:last-child)::after {content: \"\\00b7\"; padding: 0 .5ex}\n",
       "</style>\n",
       "<ol class=list-inline><li>'Hello'</li><li>'Bye'</li><li>'6'</li><li>'2'</li></ol>\n",
       "</li>\n",
       "\t<li>5</li>\n",
       "\t<li>20</li>\n",
       "</ol>\n",
       "</li>\n",
       "</ol>\n"
      ],
      "text/latex": [
       "\\begin{enumerate}\n",
       "\\item 'DA'\n",
       "\\item 'How are you'\n",
       "\\item 1000\n",
       "\\item \\begin{enumerate}\n",
       "\\item 'Hi'\n",
       "\\item \\begin{enumerate*}\n",
       "\\item 'Hello'\n",
       "\\item 'Bye'\n",
       "\\item '6'\n",
       "\\item '2'\n",
       "\\end{enumerate*}\n",
       "\n",
       "\\item 5\n",
       "\\item 20\n",
       "\\end{enumerate}\n",
       "\n",
       "\\end{enumerate}\n"
      ],
      "text/markdown": [
       "1. 'DA'\n",
       "2. 'How are you'\n",
       "3. 1000\n",
       "4. 1. 'Hi'\n",
       "2. 1. 'Hello'\n",
       "2. 'Bye'\n",
       "3. '6'\n",
       "4. '2'\n",
       "\n",
       "\n",
       "\n",
       "3. 5\n",
       "4. 20\n",
       "\n",
       "\n",
       "\n",
       "\n",
       "\n"
      ],
      "text/plain": [
       "[[1]]\n",
       "[1] \"DA\"\n",
       "\n",
       "[[2]]\n",
       "[1] \"How are you\"\n",
       "\n",
       "[[3]]\n",
       "[1] 1000\n",
       "\n",
       "[[4]]\n",
       "[[4]][[1]]\n",
       "[1] \"Hi\"\n",
       "\n",
       "[[4]][[2]]\n",
       "[1] \"Hello\" \"Bye\"   \"6\"     \"2\"    \n",
       "\n",
       "[[4]][[3]]\n",
       "[1] 5\n",
       "\n",
       "[[4]][[4]]\n",
       "[1] 20\n",
       "\n"
      ]
     },
     "metadata": {},
     "output_type": "display_data"
    }
   ],
   "source": [
    "#list of lists\n",
    "\n",
    "new_list <-list(\"DA\",\"How are you\", 1000, y)\n",
    "\n",
    "new_list"
   ]
  },
  {
   "cell_type": "code",
   "execution_count": 117,
   "id": "5d268414",
   "metadata": {},
   "outputs": [
    {
     "name": "stdout",
     "output_type": "stream",
     "text": [
      "List of 4\n",
      " $ : chr \"DA\"\n",
      " $ : chr \"How are you\"\n",
      " $ : num 1000\n",
      " $ :List of 4\n",
      "  ..$ : chr \"Hi\"\n",
      "  ..$ : chr [1:4] \"Hello\" \"Bye\" \"6\" \"2\"\n",
      "  ..$ : num 5\n",
      "  ..$ : num 20\n"
     ]
    }
   ],
   "source": [
    "str(new_list)"
   ]
  },
  {
   "cell_type": "code",
   "execution_count": 118,
   "id": "1b9a8f10",
   "metadata": {},
   "outputs": [
    {
     "data": {
      "text/html": [
       "<ol>\n",
       "\t<li><ol>\n",
       "\t<li>'Hi'</li>\n",
       "\t<li><style>\n",
       ".list-inline {list-style: none; margin:0; padding: 0}\n",
       ".list-inline>li {display: inline-block}\n",
       ".list-inline>li:not(:last-child)::after {content: \"\\00b7\"; padding: 0 .5ex}\n",
       "</style>\n",
       "<ol class=list-inline><li>'Hello'</li><li>'Bye'</li><li>'6'</li><li>'2'</li></ol>\n",
       "</li>\n",
       "\t<li>5</li>\n",
       "\t<li>20</li>\n",
       "</ol>\n",
       "</li>\n",
       "</ol>\n"
      ],
      "text/latex": [
       "\\begin{enumerate}\n",
       "\\item \\begin{enumerate}\n",
       "\\item 'Hi'\n",
       "\\item \\begin{enumerate*}\n",
       "\\item 'Hello'\n",
       "\\item 'Bye'\n",
       "\\item '6'\n",
       "\\item '2'\n",
       "\\end{enumerate*}\n",
       "\n",
       "\\item 5\n",
       "\\item 20\n",
       "\\end{enumerate}\n",
       "\n",
       "\\end{enumerate}\n"
      ],
      "text/markdown": [
       "1. 1. 'Hi'\n",
       "2. 1. 'Hello'\n",
       "2. 'Bye'\n",
       "3. '6'\n",
       "4. '2'\n",
       "\n",
       "\n",
       "\n",
       "3. 5\n",
       "4. 20\n",
       "\n",
       "\n",
       "\n",
       "\n",
       "\n"
      ],
      "text/plain": [
       "[[1]]\n",
       "[[1]][[1]]\n",
       "[1] \"Hi\"\n",
       "\n",
       "[[1]][[2]]\n",
       "[1] \"Hello\" \"Bye\"   \"6\"     \"2\"    \n",
       "\n",
       "[[1]][[3]]\n",
       "[1] 5\n",
       "\n",
       "[[1]][[4]]\n",
       "[1] 20\n",
       "\n"
      ]
     },
     "metadata": {},
     "output_type": "display_data"
    },
    {
     "data": {
      "text/html": [
       "<ol>\n",
       "\t<li>'Hi'</li>\n",
       "</ol>\n"
      ],
      "text/latex": [
       "\\begin{enumerate}\n",
       "\\item 'Hi'\n",
       "\\end{enumerate}\n"
      ],
      "text/markdown": [
       "1. 'Hi'\n",
       "\n",
       "\n"
      ],
      "text/plain": [
       "[[1]]\n",
       "[1] \"Hi\"\n"
      ]
     },
     "metadata": {},
     "output_type": "display_data"
    },
    {
     "data": {
      "text/html": [
       "<ol>\n",
       "\t<li><style>\n",
       ".list-inline {list-style: none; margin:0; padding: 0}\n",
       ".list-inline>li {display: inline-block}\n",
       ".list-inline>li:not(:last-child)::after {content: \"\\00b7\"; padding: 0 .5ex}\n",
       "</style>\n",
       "<ol class=list-inline><li>'Hello'</li><li>'Bye'</li><li>'6'</li><li>'2'</li></ol>\n",
       "</li>\n",
       "</ol>\n"
      ],
      "text/latex": [
       "\\begin{enumerate}\n",
       "\\item \\begin{enumerate*}\n",
       "\\item 'Hello'\n",
       "\\item 'Bye'\n",
       "\\item '6'\n",
       "\\item '2'\n",
       "\\end{enumerate*}\n",
       "\n",
       "\\end{enumerate}\n"
      ],
      "text/markdown": [
       "1. 1. 'Hello'\n",
       "2. 'Bye'\n",
       "3. '6'\n",
       "4. '2'\n",
       "\n",
       "\n",
       "\n",
       "\n",
       "\n"
      ],
      "text/plain": [
       "[[1]]\n",
       "[1] \"Hello\" \"Bye\"   \"6\"     \"2\"    \n"
      ]
     },
     "metadata": {},
     "output_type": "display_data"
    },
    {
     "data": {
      "text/html": [
       "<ol>\n",
       "\t<li>5</li>\n",
       "</ol>\n"
      ],
      "text/latex": [
       "\\begin{enumerate}\n",
       "\\item 5\n",
       "\\end{enumerate}\n"
      ],
      "text/markdown": [
       "1. 5\n",
       "\n",
       "\n"
      ],
      "text/plain": [
       "[[1]]\n",
       "[1] 5\n"
      ]
     },
     "metadata": {},
     "output_type": "display_data"
    },
    {
     "data": {
      "text/html": [
       "<ol>\n",
       "\t<li>20</li>\n",
       "</ol>\n"
      ],
      "text/latex": [
       "\\begin{enumerate}\n",
       "\\item 20\n",
       "\\end{enumerate}\n"
      ],
      "text/markdown": [
       "1. 20\n",
       "\n",
       "\n"
      ],
      "text/plain": [
       "[[1]]\n",
       "[1] 20\n"
      ]
     },
     "metadata": {},
     "output_type": "display_data"
    }
   ],
   "source": [
    "new_list[4]\n",
    "new_list[[4]][1]\n",
    "new_list[[4]][2]\n",
    "new_list[[4]][3]\n",
    "new_list[[4]][4]"
   ]
  },
  {
   "cell_type": "markdown",
   "id": "5f4c2a50",
   "metadata": {},
   "source": [
    "## Manipulating List Elements"
   ]
  },
  {
   "cell_type": "markdown",
   "id": "6d36bc5d",
   "metadata": {},
   "source": [
    "1. We can add, delete and update list elements. \n",
    "2. We can add and delete elements only at the end of a list. \n",
    "3. But we can update any element."
   ]
  },
  {
   "cell_type": "code",
   "execution_count": 119,
   "id": "b5531798",
   "metadata": {},
   "outputs": [
    {
     "data": {
      "text/html": [
       "<style>\n",
       ".list-inline {list-style: none; margin:0; padding: 0}\n",
       ".list-inline>li {display: inline-block}\n",
       ".list-inline>li:not(:last-child)::after {content: \"\\00b7\"; padding: 0 .5ex}\n",
       "</style>\n",
       "<ol class=list-inline><li>20</li><li>120</li></ol>\n"
      ],
      "text/latex": [
       "\\begin{enumerate*}\n",
       "\\item 20\n",
       "\\item 120\n",
       "\\end{enumerate*}\n"
      ],
      "text/markdown": [
       "1. 20\n",
       "2. 120\n",
       "\n",
       "\n"
      ],
      "text/plain": [
       "[1]  20 120"
      ]
     },
     "metadata": {},
     "output_type": "display_data"
    }
   ],
   "source": [
    "#adding new element to list\n",
    "y[[4]][2]<-120\n",
    "y[[4]]"
   ]
  },
  {
   "cell_type": "code",
   "execution_count": 120,
   "id": "51592037",
   "metadata": {},
   "outputs": [
    {
     "data": {
      "text/html": [
       "<ol>\n",
       "\t<li>'DA'</li>\n",
       "\t<li>'How are you'</li>\n",
       "\t<li>1000</li>\n",
       "\t<li><ol>\n",
       "\t<li>'Hi'</li>\n",
       "\t<li><style>\n",
       ".list-inline {list-style: none; margin:0; padding: 0}\n",
       ".list-inline>li {display: inline-block}\n",
       ".list-inline>li:not(:last-child)::after {content: \"\\00b7\"; padding: 0 .5ex}\n",
       "</style>\n",
       "<ol class=list-inline><li>'Hello'</li><li>'Bye'</li><li>'6'</li><li>'2'</li></ol>\n",
       "</li>\n",
       "\t<li>5</li>\n",
       "\t<li>20</li>\n",
       "</ol>\n",
       "</li>\n",
       "</ol>\n"
      ],
      "text/latex": [
       "\\begin{enumerate}\n",
       "\\item 'DA'\n",
       "\\item 'How are you'\n",
       "\\item 1000\n",
       "\\item \\begin{enumerate}\n",
       "\\item 'Hi'\n",
       "\\item \\begin{enumerate*}\n",
       "\\item 'Hello'\n",
       "\\item 'Bye'\n",
       "\\item '6'\n",
       "\\item '2'\n",
       "\\end{enumerate*}\n",
       "\n",
       "\\item 5\n",
       "\\item 20\n",
       "\\end{enumerate}\n",
       "\n",
       "\\end{enumerate}\n"
      ],
      "text/markdown": [
       "1. 'DA'\n",
       "2. 'How are you'\n",
       "3. 1000\n",
       "4. 1. 'Hi'\n",
       "2. 1. 'Hello'\n",
       "2. 'Bye'\n",
       "3. '6'\n",
       "4. '2'\n",
       "\n",
       "\n",
       "\n",
       "3. 5\n",
       "4. 20\n",
       "\n",
       "\n",
       "\n",
       "\n",
       "\n"
      ],
      "text/plain": [
       "[[1]]\n",
       "[1] \"DA\"\n",
       "\n",
       "[[2]]\n",
       "[1] \"How are you\"\n",
       "\n",
       "[[3]]\n",
       "[1] 1000\n",
       "\n",
       "[[4]]\n",
       "[[4]][[1]]\n",
       "[1] \"Hi\"\n",
       "\n",
       "[[4]][[2]]\n",
       "[1] \"Hello\" \"Bye\"   \"6\"     \"2\"    \n",
       "\n",
       "[[4]][[3]]\n",
       "[1] 5\n",
       "\n",
       "[[4]][[4]]\n",
       "[1] 20\n",
       "\n"
      ]
     },
     "metadata": {},
     "output_type": "display_data"
    }
   ],
   "source": [
    "new_list"
   ]
  },
  {
   "cell_type": "code",
   "execution_count": 121,
   "id": "814d1ba9",
   "metadata": {},
   "outputs": [
    {
     "data": {
      "text/html": [
       "<ol>\n",
       "\t<li><ol>\n",
       "\t<li>'Hi'</li>\n",
       "\t<li>5</li>\n",
       "\t<li>20</li>\n",
       "</ol>\n",
       "</li>\n",
       "</ol>\n"
      ],
      "text/latex": [
       "\\begin{enumerate}\n",
       "\\item \\begin{enumerate}\n",
       "\\item 'Hi'\n",
       "\\item 5\n",
       "\\item 20\n",
       "\\end{enumerate}\n",
       "\n",
       "\\end{enumerate}\n"
      ],
      "text/markdown": [
       "1. 1. 'Hi'\n",
       "2. 5\n",
       "3. 20\n",
       "\n",
       "\n",
       "\n",
       "\n",
       "\n"
      ],
      "text/plain": [
       "[[1]]\n",
       "[[1]][[1]]\n",
       "[1] \"Hi\"\n",
       "\n",
       "[[1]][[2]]\n",
       "[1] 5\n",
       "\n",
       "[[1]][[3]]\n",
       "[1] 20\n",
       "\n"
      ]
     },
     "metadata": {},
     "output_type": "display_data"
    }
   ],
   "source": [
    "new_list[[4]][2]<-NULL\n",
    "new_list[4]"
   ]
  },
  {
   "cell_type": "code",
   "execution_count": 122,
   "id": "16b7e58c",
   "metadata": {},
   "outputs": [
    {
     "data": {
      "text/html": [
       "<ol>\n",
       "\t<li><ol>\n",
       "\t<li>'Hi'</li>\n",
       "\t<li>5</li>\n",
       "\t<li>20</li>\n",
       "\t<li>NULL</li>\n",
       "</ol>\n",
       "</li>\n",
       "</ol>\n"
      ],
      "text/latex": [
       "\\begin{enumerate}\n",
       "\\item \\begin{enumerate}\n",
       "\\item 'Hi'\n",
       "\\item 5\n",
       "\\item 20\n",
       "\\item NULL\n",
       "\\end{enumerate}\n",
       "\n",
       "\\end{enumerate}\n"
      ],
      "text/markdown": [
       "1. 1. 'Hi'\n",
       "2. 5\n",
       "3. 20\n",
       "4. NULL\n",
       "\n",
       "\n",
       "\n",
       "\n",
       "\n"
      ],
      "text/plain": [
       "[[1]]\n",
       "[[1]][[1]]\n",
       "[1] \"Hi\"\n",
       "\n",
       "[[1]][[2]]\n",
       "[1] 5\n",
       "\n",
       "[[1]][[3]]\n",
       "[1] 20\n",
       "\n",
       "[[1]][[4]]\n",
       "NULL\n",
       "\n"
      ]
     },
     "metadata": {},
     "output_type": "display_data"
    }
   ],
   "source": [
    "#removing element from list\n",
    "y[5]<-120\n",
    "new_list[[4]][5]<-NULL\n",
    "new_list[4]"
   ]
  },
  {
   "cell_type": "code",
   "execution_count": 123,
   "id": "cbe4916a",
   "metadata": {},
   "outputs": [
    {
     "data": {
      "text/html": [
       "<ol>\n",
       "\t<li>'Hi'</li>\n",
       "\t<li><style>\n",
       ".list-inline {list-style: none; margin:0; padding: 0}\n",
       ".list-inline>li {display: inline-block}\n",
       ".list-inline>li:not(:last-child)::after {content: \"\\00b7\"; padding: 0 .5ex}\n",
       "</style>\n",
       "<ol class=list-inline><li>'Hello'</li><li>'Bye'</li><li>'6'</li><li>'2'</li></ol>\n",
       "</li>\n",
       "\t<li>80</li>\n",
       "\t<li><style>\n",
       ".list-inline {list-style: none; margin:0; padding: 0}\n",
       ".list-inline>li {display: inline-block}\n",
       ".list-inline>li:not(:last-child)::after {content: \"\\00b7\"; padding: 0 .5ex}\n",
       "</style>\n",
       "<ol class=list-inline><li>20</li><li>120</li></ol>\n",
       "</li>\n",
       "\t<li>120</li>\n",
       "</ol>\n"
      ],
      "text/latex": [
       "\\begin{enumerate}\n",
       "\\item 'Hi'\n",
       "\\item \\begin{enumerate*}\n",
       "\\item 'Hello'\n",
       "\\item 'Bye'\n",
       "\\item '6'\n",
       "\\item '2'\n",
       "\\end{enumerate*}\n",
       "\n",
       "\\item 80\n",
       "\\item \\begin{enumerate*}\n",
       "\\item 20\n",
       "\\item 120\n",
       "\\end{enumerate*}\n",
       "\n",
       "\\item 120\n",
       "\\end{enumerate}\n"
      ],
      "text/markdown": [
       "1. 'Hi'\n",
       "2. 1. 'Hello'\n",
       "2. 'Bye'\n",
       "3. '6'\n",
       "4. '2'\n",
       "\n",
       "\n",
       "\n",
       "3. 80\n",
       "4. 1. 20\n",
       "2. 120\n",
       "\n",
       "\n",
       "\n",
       "5. 120\n",
       "\n",
       "\n"
      ],
      "text/plain": [
       "[[1]]\n",
       "[1] \"Hi\"\n",
       "\n",
       "[[2]]\n",
       "[1] \"Hello\" \"Bye\"   \"6\"     \"2\"    \n",
       "\n",
       "[[3]]\n",
       "[1] 80\n",
       "\n",
       "[[4]]\n",
       "[1]  20 120\n",
       "\n",
       "[[5]]\n",
       "[1] 120\n"
      ]
     },
     "metadata": {},
     "output_type": "display_data"
    }
   ],
   "source": [
    "# change value of one element\n",
    "y[3]<-80          #instead of 5 need 80\n",
    "y"
   ]
  },
  {
   "cell_type": "code",
   "execution_count": 124,
   "id": "6fb5cc84",
   "metadata": {},
   "outputs": [
    {
     "data": {
      "text/html": [
       "<ol>\n",
       "\t<li><ol>\n",
       "\t<li>'Hi'</li>\n",
       "\t<li>5</li>\n",
       "\t<li>20</li>\n",
       "\t<li>NULL</li>\n",
       "</ol>\n",
       "</li>\n",
       "</ol>\n"
      ],
      "text/latex": [
       "\\begin{enumerate}\n",
       "\\item \\begin{enumerate}\n",
       "\\item 'Hi'\n",
       "\\item 5\n",
       "\\item 20\n",
       "\\item NULL\n",
       "\\end{enumerate}\n",
       "\n",
       "\\end{enumerate}\n"
      ],
      "text/markdown": [
       "1. 1. 'Hi'\n",
       "2. 5\n",
       "3. 20\n",
       "4. NULL\n",
       "\n",
       "\n",
       "\n",
       "\n",
       "\n"
      ],
      "text/plain": [
       "[[1]]\n",
       "[[1]][[1]]\n",
       "[1] \"Hi\"\n",
       "\n",
       "[[1]][[2]]\n",
       "[1] 5\n",
       "\n",
       "[[1]][[3]]\n",
       "[1] 20\n",
       "\n",
       "[[1]][[4]]\n",
       "NULL\n",
       "\n"
      ]
     },
     "metadata": {},
     "output_type": "display_data"
    }
   ],
   "source": [
    "new_list[4]"
   ]
  },
  {
   "cell_type": "markdown",
   "id": "b1ccf606",
   "metadata": {},
   "source": [
    "## Merging list"
   ]
  },
  {
   "cell_type": "markdown",
   "id": "64fd582d",
   "metadata": {},
   "source": [
    "You can merge many lists into one list by placing all the lists inside one list() function."
   ]
  },
  {
   "cell_type": "code",
   "execution_count": 125,
   "id": "c62aa1f3",
   "metadata": {},
   "outputs": [],
   "source": [
    "# Create two lists.\n",
    "list1 <- list(1,2,3)\n",
    "list2 <- list(\"Sun\",\"Mon\",\"Tue\")\n",
    "\n",
    "# Merge the two lists.\n",
    "merged.list <- c(list1,list2)"
   ]
  },
  {
   "cell_type": "code",
   "execution_count": 126,
   "id": "084c1c32",
   "metadata": {},
   "outputs": [
    {
     "data": {
      "text/html": [
       "<ol>\n",
       "\t<li>1</li>\n",
       "\t<li>2</li>\n",
       "\t<li>3</li>\n",
       "\t<li>'Sun'</li>\n",
       "\t<li>'Mon'</li>\n",
       "\t<li>'Tue'</li>\n",
       "</ol>\n"
      ],
      "text/latex": [
       "\\begin{enumerate}\n",
       "\\item 1\n",
       "\\item 2\n",
       "\\item 3\n",
       "\\item 'Sun'\n",
       "\\item 'Mon'\n",
       "\\item 'Tue'\n",
       "\\end{enumerate}\n"
      ],
      "text/markdown": [
       "1. 1\n",
       "2. 2\n",
       "3. 3\n",
       "4. 'Sun'\n",
       "5. 'Mon'\n",
       "6. 'Tue'\n",
       "\n",
       "\n"
      ],
      "text/plain": [
       "[[1]]\n",
       "[1] 1\n",
       "\n",
       "[[2]]\n",
       "[1] 2\n",
       "\n",
       "[[3]]\n",
       "[1] 3\n",
       "\n",
       "[[4]]\n",
       "[1] \"Sun\"\n",
       "\n",
       "[[5]]\n",
       "[1] \"Mon\"\n",
       "\n",
       "[[6]]\n",
       "[1] \"Tue\"\n"
      ]
     },
     "metadata": {},
     "output_type": "display_data"
    }
   ],
   "source": [
    "merged.list"
   ]
  },
  {
   "cell_type": "code",
   "execution_count": 127,
   "id": "135965f4",
   "metadata": {},
   "outputs": [
    {
     "data": {
      "text/html": [
       "<ol>\n",
       "\t<li>1</li>\n",
       "\t<li>2</li>\n",
       "\t<li>3</li>\n",
       "\t<li>'Sun'</li>\n",
       "\t<li>'Mon'</li>\n",
       "\t<li>'Tue'</li>\n",
       "</ol>\n"
      ],
      "text/latex": [
       "\\begin{enumerate}\n",
       "\\item 1\n",
       "\\item 2\n",
       "\\item 3\n",
       "\\item 'Sun'\n",
       "\\item 'Mon'\n",
       "\\item 'Tue'\n",
       "\\end{enumerate}\n"
      ],
      "text/markdown": [
       "1. 1\n",
       "2. 2\n",
       "3. 3\n",
       "4. 'Sun'\n",
       "5. 'Mon'\n",
       "6. 'Tue'\n",
       "\n",
       "\n"
      ],
      "text/plain": [
       "[[1]]\n",
       "[1] 1\n",
       "\n",
       "[[2]]\n",
       "[1] 2\n",
       "\n",
       "[[3]]\n",
       "[1] 3\n",
       "\n",
       "[[4]]\n",
       "[1] \"Sun\"\n",
       "\n",
       "[[5]]\n",
       "[1] \"Mon\"\n",
       "\n",
       "[[6]]\n",
       "[1] \"Tue\"\n"
      ]
     },
     "metadata": {},
     "output_type": "display_data"
    }
   ],
   "source": [
    "merged.list"
   ]
  },
  {
   "cell_type": "markdown",
   "id": "ca710940",
   "metadata": {},
   "source": [
    "## Converting List to Vector"
   ]
  },
  {
   "cell_type": "markdown",
   "id": "c868ff6c",
   "metadata": {},
   "source": [
    "A list can be converted to a vector so that elements of vector can be used for further manipulation. All the arithmetic operations on vectors can be applied after the list is converted into vectors."
   ]
  },
  {
   "cell_type": "markdown",
   "id": "4cb9c62c",
   "metadata": {},
   "source": [
    " To do this conversion, we use the unlist() function. It takes the list as input and produces a vector."
   ]
  },
  {
   "cell_type": "code",
   "execution_count": 128,
   "id": "adfa2bad",
   "metadata": {},
   "outputs": [
    {
     "data": {
      "text/html": [
       "<ol>\n",
       "\t<li><style>\n",
       ".list-inline {list-style: none; margin:0; padding: 0}\n",
       ".list-inline>li {display: inline-block}\n",
       ".list-inline>li:not(:last-child)::after {content: \"\\00b7\"; padding: 0 .5ex}\n",
       "</style>\n",
       "<ol class=list-inline><li>1</li><li>2</li><li>3</li><li>4</li><li>5</li></ol>\n",
       "</li>\n",
       "</ol>\n"
      ],
      "text/latex": [
       "\\begin{enumerate}\n",
       "\\item \\begin{enumerate*}\n",
       "\\item 1\n",
       "\\item 2\n",
       "\\item 3\n",
       "\\item 4\n",
       "\\item 5\n",
       "\\end{enumerate*}\n",
       "\n",
       "\\end{enumerate}\n"
      ],
      "text/markdown": [
       "1. 1. 1\n",
       "2. 2\n",
       "3. 3\n",
       "4. 4\n",
       "5. 5\n",
       "\n",
       "\n",
       "\n",
       "\n",
       "\n"
      ],
      "text/plain": [
       "[[1]]\n",
       "[1] 1 2 3 4 5\n"
      ]
     },
     "metadata": {},
     "output_type": "display_data"
    },
    {
     "data": {
      "text/html": [
       "TRUE"
      ],
      "text/latex": [
       "TRUE"
      ],
      "text/markdown": [
       "TRUE"
      ],
      "text/plain": [
       "[1] TRUE"
      ]
     },
     "metadata": {},
     "output_type": "display_data"
    }
   ],
   "source": [
    "# Create lists.\n",
    "list1 <- list(1:5)\n",
    "list1\n",
    "is.list(list1)"
   ]
  },
  {
   "cell_type": "code",
   "execution_count": 129,
   "id": "4695e371",
   "metadata": {},
   "outputs": [
    {
     "data": {
      "text/html": [
       "<ol>\n",
       "\t<li><style>\n",
       ".list-inline {list-style: none; margin:0; padding: 0}\n",
       ".list-inline>li {display: inline-block}\n",
       ".list-inline>li:not(:last-child)::after {content: \"\\00b7\"; padding: 0 .5ex}\n",
       "</style>\n",
       "<ol class=list-inline><li>10</li><li>11</li><li>12</li><li>13</li><li>14</li></ol>\n",
       "</li>\n",
       "</ol>\n"
      ],
      "text/latex": [
       "\\begin{enumerate}\n",
       "\\item \\begin{enumerate*}\n",
       "\\item 10\n",
       "\\item 11\n",
       "\\item 12\n",
       "\\item 13\n",
       "\\item 14\n",
       "\\end{enumerate*}\n",
       "\n",
       "\\end{enumerate}\n"
      ],
      "text/markdown": [
       "1. 1. 10\n",
       "2. 11\n",
       "3. 12\n",
       "4. 13\n",
       "5. 14\n",
       "\n",
       "\n",
       "\n",
       "\n",
       "\n"
      ],
      "text/plain": [
       "[[1]]\n",
       "[1] 10 11 12 13 14\n"
      ]
     },
     "metadata": {},
     "output_type": "display_data"
    }
   ],
   "source": [
    "list2 <-list(10:14)\n",
    "list2"
   ]
  },
  {
   "cell_type": "markdown",
   "id": "0a34b92a",
   "metadata": {},
   "source": [
    "Convert the lists to vectors."
   ]
  },
  {
   "cell_type": "code",
   "execution_count": 130,
   "id": "d20bda76",
   "metadata": {},
   "outputs": [],
   "source": [
    "v1 <- unlist(list1)\n",
    "v2 <- unlist(list2)"
   ]
  },
  {
   "cell_type": "code",
   "execution_count": 131,
   "id": "192c6904",
   "metadata": {},
   "outputs": [
    {
     "name": "stdout",
     "output_type": "stream",
     "text": [
      "[1] 1 2 3 4 5\n",
      "[1] 10 11 12 13 14\n"
     ]
    }
   ],
   "source": [
    "print(v1)\n",
    "print(v2)"
   ]
  },
  {
   "cell_type": "code",
   "execution_count": 132,
   "id": "dd497b67",
   "metadata": {},
   "outputs": [
    {
     "data": {
      "text/html": [
       "<style>\n",
       ".list-inline {list-style: none; margin:0; padding: 0}\n",
       ".list-inline>li {display: inline-block}\n",
       ".list-inline>li:not(:last-child)::after {content: \"\\00b7\"; padding: 0 .5ex}\n",
       "</style>\n",
       "<ol class=list-inline><li>11</li><li>13</li><li>15</li><li>17</li><li>19</li></ol>\n"
      ],
      "text/latex": [
       "\\begin{enumerate*}\n",
       "\\item 11\n",
       "\\item 13\n",
       "\\item 15\n",
       "\\item 17\n",
       "\\item 19\n",
       "\\end{enumerate*}\n"
      ],
      "text/markdown": [
       "1. 11\n",
       "2. 13\n",
       "3. 15\n",
       "4. 17\n",
       "5. 19\n",
       "\n",
       "\n"
      ],
      "text/plain": [
       "[1] 11 13 15 17 19"
      ]
     },
     "metadata": {},
     "output_type": "display_data"
    }
   ],
   "source": [
    "# Now add the vectors\n",
    "result <- v1+v2\n",
    "result"
   ]
  },
  {
   "cell_type": "markdown",
   "id": "5950c2d4",
   "metadata": {},
   "source": [
    "Create a list containing strings,numbers,vectors &logical values"
   ]
  },
  {
   "cell_type": "code",
   "execution_count": 133,
   "id": "2be9478d",
   "metadata": {},
   "outputs": [
    {
     "data": {
      "text/html": [
       "<ol>\n",
       "\t<li>'Red'</li>\n",
       "\t<li>'Green'</li>\n",
       "\t<li><style>\n",
       ".list-inline {list-style: none; margin:0; padding: 0}\n",
       ".list-inline>li {display: inline-block}\n",
       ".list-inline>li:not(:last-child)::after {content: \"\\00b7\"; padding: 0 .5ex}\n",
       "</style>\n",
       "<ol class=list-inline><li>21</li><li>32</li><li>11</li></ol>\n",
       "</li>\n",
       "\t<li>TRUE</li>\n",
       "\t<li>51.23</li>\n",
       "\t<li>119.1</li>\n",
       "</ol>\n"
      ],
      "text/latex": [
       "\\begin{enumerate}\n",
       "\\item 'Red'\n",
       "\\item 'Green'\n",
       "\\item \\begin{enumerate*}\n",
       "\\item 21\n",
       "\\item 32\n",
       "\\item 11\n",
       "\\end{enumerate*}\n",
       "\n",
       "\\item TRUE\n",
       "\\item 51.23\n",
       "\\item 119.1\n",
       "\\end{enumerate}\n"
      ],
      "text/markdown": [
       "1. 'Red'\n",
       "2. 'Green'\n",
       "3. 1. 21\n",
       "2. 32\n",
       "3. 11\n",
       "\n",
       "\n",
       "\n",
       "4. TRUE\n",
       "5. 51.23\n",
       "6. 119.1\n",
       "\n",
       "\n"
      ],
      "text/plain": [
       "[[1]]\n",
       "[1] \"Red\"\n",
       "\n",
       "[[2]]\n",
       "[1] \"Green\"\n",
       "\n",
       "[[3]]\n",
       "[1] 21 32 11\n",
       "\n",
       "[[4]]\n",
       "[1] TRUE\n",
       "\n",
       "[[5]]\n",
       "[1] 51.23\n",
       "\n",
       "[[6]]\n",
       "[1] 119.1\n"
      ]
     },
     "metadata": {},
     "output_type": "display_data"
    }
   ],
   "source": [
    "list_data <- list(\"Red\", \"Green\", c(21,32,11), TRUE, 51.23, 119.1)\n",
    "list_data"
   ]
  },
  {
   "cell_type": "markdown",
   "id": "a67dddde",
   "metadata": {},
   "source": [
    "Create a list containing a vector, a matrix and a list."
   ]
  },
  {
   "cell_type": "code",
   "execution_count": 134,
   "id": "6c2d851d",
   "metadata": {},
   "outputs": [
    {
     "data": {
      "text/html": [
       "<ol>\n",
       "\t<li><style>\n",
       ".list-inline {list-style: none; margin:0; padding: 0}\n",
       ".list-inline>li {display: inline-block}\n",
       ".list-inline>li:not(:last-child)::after {content: \"\\00b7\"; padding: 0 .5ex}\n",
       "</style>\n",
       "<ol class=list-inline><li>'Jan'</li><li>'Feb'</li><li>'Mar'</li></ol>\n",
       "</li>\n",
       "\t<li><table class=\"dataframe\">\n",
       "<caption>A matrix: 2 × 3 of type dbl</caption>\n",
       "<tbody>\n",
       "\t<tr><td>3</td><td>5</td><td>-2</td></tr>\n",
       "\t<tr><td>9</td><td>1</td><td> 8</td></tr>\n",
       "</tbody>\n",
       "</table>\n",
       "</li>\n",
       "\t<li><ol>\n",
       "\t<li>'green'</li>\n",
       "\t<li>12.3</li>\n",
       "</ol>\n",
       "</li>\n",
       "</ol>\n"
      ],
      "text/latex": [
       "\\begin{enumerate}\n",
       "\\item \\begin{enumerate*}\n",
       "\\item 'Jan'\n",
       "\\item 'Feb'\n",
       "\\item 'Mar'\n",
       "\\end{enumerate*}\n",
       "\n",
       "\\item A matrix: 2 × 3 of type dbl\n",
       "\\begin{tabular}{lll}\n",
       "\t 3 & 5 & -2\\\\\n",
       "\t 9 & 1 &  8\\\\\n",
       "\\end{tabular}\n",
       "\n",
       "\\item \\begin{enumerate}\n",
       "\\item 'green'\n",
       "\\item 12.3\n",
       "\\end{enumerate}\n",
       "\n",
       "\\end{enumerate}\n"
      ],
      "text/markdown": [
       "1. 1. 'Jan'\n",
       "2. 'Feb'\n",
       "3. 'Mar'\n",
       "\n",
       "\n",
       "\n",
       "2. \n",
       "A matrix: 2 × 3 of type dbl\n",
       "\n",
       "| 3 | 5 | -2 |\n",
       "| 9 | 1 |  8 |\n",
       "\n",
       "\n",
       "3. 1. 'green'\n",
       "2. 12.3\n",
       "\n",
       "\n",
       "\n",
       "\n",
       "\n"
      ],
      "text/plain": [
       "[[1]]\n",
       "[1] \"Jan\" \"Feb\" \"Mar\"\n",
       "\n",
       "[[2]]\n",
       "     [,1] [,2] [,3]\n",
       "[1,]    3    5   -2\n",
       "[2,]    9    1    8\n",
       "\n",
       "[[3]]\n",
       "[[3]][[1]]\n",
       "[1] \"green\"\n",
       "\n",
       "[[3]][[2]]\n",
       "[1] 12.3\n",
       "\n"
      ]
     },
     "metadata": {},
     "output_type": "display_data"
    }
   ],
   "source": [
    "list_data <- list(c(\"Jan\",\"Feb\",\"Mar\"), matrix(c(3,9,5,1,-2,8), nrow = 2),\n",
    "                  list(\"green\",12.3))\n",
    "\n",
    "list_data"
   ]
  },
  {
   "cell_type": "markdown",
   "id": "b13e66c8",
   "metadata": {},
   "source": [
    "## list elements can be given names & accessed using these names."
   ]
  },
  {
   "cell_type": "code",
   "execution_count": 135,
   "id": "108bc069",
   "metadata": {},
   "outputs": [
    {
     "data": {
      "text/html": [
       "<dl>\n",
       "\t<dt>$`1st Quarter`</dt>\n",
       "\t\t<dd><style>\n",
       ".list-inline {list-style: none; margin:0; padding: 0}\n",
       ".list-inline>li {display: inline-block}\n",
       ".list-inline>li:not(:last-child)::after {content: \"\\00b7\"; padding: 0 .5ex}\n",
       "</style>\n",
       "<ol class=list-inline><li>'Jan'</li><li>'Feb'</li><li>'Mar'</li></ol>\n",
       "</dd>\n",
       "\t<dt>$A_Matrix</dt>\n",
       "\t\t<dd><table class=\"dataframe\">\n",
       "<caption>A matrix: 2 × 3 of type dbl</caption>\n",
       "<tbody>\n",
       "\t<tr><td>3</td><td>5</td><td>-2</td></tr>\n",
       "\t<tr><td>9</td><td>1</td><td> 8</td></tr>\n",
       "</tbody>\n",
       "</table>\n",
       "</dd>\n",
       "\t<dt>$`A Inner list`</dt>\n",
       "\t\t<dd><ol>\n",
       "\t<li>'green'</li>\n",
       "\t<li>12.3</li>\n",
       "</ol>\n",
       "</dd>\n",
       "</dl>\n"
      ],
      "text/latex": [
       "\\begin{description}\n",
       "\\item[\\$`1st Quarter`] \\begin{enumerate*}\n",
       "\\item 'Jan'\n",
       "\\item 'Feb'\n",
       "\\item 'Mar'\n",
       "\\end{enumerate*}\n",
       "\n",
       "\\item[\\$A\\_Matrix] A matrix: 2 × 3 of type dbl\n",
       "\\begin{tabular}{lll}\n",
       "\t 3 & 5 & -2\\\\\n",
       "\t 9 & 1 &  8\\\\\n",
       "\\end{tabular}\n",
       "\n",
       "\\item[\\$`A Inner list`] \\begin{enumerate}\n",
       "\\item 'green'\n",
       "\\item 12.3\n",
       "\\end{enumerate}\n",
       "\n",
       "\\end{description}\n"
      ],
      "text/markdown": [
       "$`1st Quarter`\n",
       ":   1. 'Jan'\n",
       "2. 'Feb'\n",
       "3. 'Mar'\n",
       "\n",
       "\n",
       "\n",
       "$A_Matrix\n",
       ":   \n",
       "A matrix: 2 × 3 of type dbl\n",
       "\n",
       "| 3 | 5 | -2 |\n",
       "| 9 | 1 |  8 |\n",
       "\n",
       "\n",
       "$`A Inner list`\n",
       ":   1. 'green'\n",
       "2. 12.3\n",
       "\n",
       "\n",
       "\n",
       "\n",
       "\n"
      ],
      "text/plain": [
       "$`1st Quarter`\n",
       "[1] \"Jan\" \"Feb\" \"Mar\"\n",
       "\n",
       "$A_Matrix\n",
       "     [,1] [,2] [,3]\n",
       "[1,]    3    5   -2\n",
       "[2,]    9    1    8\n",
       "\n",
       "$`A Inner list`\n",
       "$`A Inner list`[[1]]\n",
       "[1] \"green\"\n",
       "\n",
       "$`A Inner list`[[2]]\n",
       "[1] 12.3\n",
       "\n"
      ]
     },
     "metadata": {},
     "output_type": "display_data"
    }
   ],
   "source": [
    "# Give names to the elements in the list.\n",
    "names(list_data) <- c(\"1st Quarter\", \"A_Matrix\", \"A Inner list\")\n",
    "list_data"
   ]
  },
  {
   "cell_type": "markdown",
   "id": "dcf12d2d",
   "metadata": {},
   "source": [
    "In case of named lists it can also be accessed using the names."
   ]
  },
  {
   "cell_type": "code",
   "execution_count": 136,
   "id": "87ce0e62",
   "metadata": {},
   "outputs": [
    {
     "data": {
      "text/html": [
       "<table class=\"dataframe\">\n",
       "<caption>A matrix: 2 × 3 of type dbl</caption>\n",
       "<tbody>\n",
       "\t<tr><td>3</td><td>5</td><td>-2</td></tr>\n",
       "\t<tr><td>9</td><td>1</td><td> 8</td></tr>\n",
       "</tbody>\n",
       "</table>\n"
      ],
      "text/latex": [
       "A matrix: 2 × 3 of type dbl\n",
       "\\begin{tabular}{lll}\n",
       "\t 3 & 5 & -2\\\\\n",
       "\t 9 & 1 &  8\\\\\n",
       "\\end{tabular}\n"
      ],
      "text/markdown": [
       "\n",
       "A matrix: 2 × 3 of type dbl\n",
       "\n",
       "| 3 | 5 | -2 |\n",
       "| 9 | 1 |  8 |\n",
       "\n"
      ],
      "text/plain": [
       "     [,1] [,2] [,3]\n",
       "[1,] 3    5    -2  \n",
       "[2,] 9    1     8  "
      ]
     },
     "metadata": {},
     "output_type": "display_data"
    }
   ],
   "source": [
    "# Access the list element using the name of the element.\n",
    "list_data$A_Matrix"
   ]
  },
  {
   "cell_type": "code",
   "execution_count": 137,
   "id": "7ae7bf2d",
   "metadata": {},
   "outputs": [
    {
     "data": {
      "text/plain": [
       "NULL"
      ]
     },
     "metadata": {},
     "output_type": "display_data"
    }
   ],
   "source": [
    "##Vectors\n",
    "age <-c(16,18,16,18,19,20)\n",
    "dim(age)"
   ]
  },
  {
   "cell_type": "code",
   "execution_count": 138,
   "id": "1dd9679b",
   "metadata": {},
   "outputs": [
    {
     "data": {
      "text/html": [
       "6"
      ],
      "text/latex": [
       "6"
      ],
      "text/markdown": [
       "6"
      ],
      "text/plain": [
       "[1] 6"
      ]
     },
     "metadata": {},
     "output_type": "display_data"
    }
   ],
   "source": [
    "#Frequencies with length command \n",
    "length(age)"
   ]
  },
  {
   "cell_type": "code",
   "execution_count": 139,
   "id": "251dd7f1",
   "metadata": {},
   "outputs": [],
   "source": [
    "#seq\n",
    "ab<- seq(1,20,2)      #first =from, second= to, third=by"
   ]
  },
  {
   "cell_type": "code",
   "execution_count": 140,
   "id": "11d44de9",
   "metadata": {},
   "outputs": [
    {
     "data": {
      "text/html": [
       "<style>\n",
       ".list-inline {list-style: none; margin:0; padding: 0}\n",
       ".list-inline>li {display: inline-block}\n",
       ".list-inline>li:not(:last-child)::after {content: \"\\00b7\"; padding: 0 .5ex}\n",
       "</style>\n",
       "<ol class=list-inline><li>5</li><li>5</li><li>5</li><li>5</li><li>5</li><li>5</li><li>5</li><li>5</li><li>5</li><li>5</li><li>5</li><li>5</li><li>5</li><li>5</li><li>5</li><li>5</li><li>5</li><li>5</li><li>5</li><li>5</li><li>5</li><li>5</li><li>5</li><li>5</li><li>5</li><li>5</li><li>5</li><li>5</li><li>5</li><li>5</li><li>5</li><li>5</li><li>5</li><li>5</li><li>5</li><li>5</li><li>5</li><li>5</li><li>5</li><li>5</li><li>5</li><li>5</li><li>5</li><li>5</li><li>5</li><li>5</li><li>5</li><li>5</li><li>5</li><li>5</li><li>5</li><li>5</li><li>5</li><li>5</li><li>5</li><li>5</li><li>5</li><li>5</li><li>5</li><li>5</li><li>5</li><li>5</li><li>5</li><li>5</li><li>5</li><li>5</li><li>5</li><li>5</li><li>5</li><li>5</li><li>5</li><li>5</li><li>5</li><li>5</li><li>5</li><li>5</li><li>5</li><li>5</li><li>5</li><li>5</li><li>5</li><li>5</li><li>5</li><li>5</li><li>5</li><li>5</li><li>5</li><li>5</li><li>5</li><li>5</li><li>5</li><li>5</li><li>5</li><li>5</li><li>5</li><li>5</li><li>5</li><li>5</li><li>5</li><li>5</li></ol>\n"
      ],
      "text/latex": [
       "\\begin{enumerate*}\n",
       "\\item 5\n",
       "\\item 5\n",
       "\\item 5\n",
       "\\item 5\n",
       "\\item 5\n",
       "\\item 5\n",
       "\\item 5\n",
       "\\item 5\n",
       "\\item 5\n",
       "\\item 5\n",
       "\\item 5\n",
       "\\item 5\n",
       "\\item 5\n",
       "\\item 5\n",
       "\\item 5\n",
       "\\item 5\n",
       "\\item 5\n",
       "\\item 5\n",
       "\\item 5\n",
       "\\item 5\n",
       "\\item 5\n",
       "\\item 5\n",
       "\\item 5\n",
       "\\item 5\n",
       "\\item 5\n",
       "\\item 5\n",
       "\\item 5\n",
       "\\item 5\n",
       "\\item 5\n",
       "\\item 5\n",
       "\\item 5\n",
       "\\item 5\n",
       "\\item 5\n",
       "\\item 5\n",
       "\\item 5\n",
       "\\item 5\n",
       "\\item 5\n",
       "\\item 5\n",
       "\\item 5\n",
       "\\item 5\n",
       "\\item 5\n",
       "\\item 5\n",
       "\\item 5\n",
       "\\item 5\n",
       "\\item 5\n",
       "\\item 5\n",
       "\\item 5\n",
       "\\item 5\n",
       "\\item 5\n",
       "\\item 5\n",
       "\\item 5\n",
       "\\item 5\n",
       "\\item 5\n",
       "\\item 5\n",
       "\\item 5\n",
       "\\item 5\n",
       "\\item 5\n",
       "\\item 5\n",
       "\\item 5\n",
       "\\item 5\n",
       "\\item 5\n",
       "\\item 5\n",
       "\\item 5\n",
       "\\item 5\n",
       "\\item 5\n",
       "\\item 5\n",
       "\\item 5\n",
       "\\item 5\n",
       "\\item 5\n",
       "\\item 5\n",
       "\\item 5\n",
       "\\item 5\n",
       "\\item 5\n",
       "\\item 5\n",
       "\\item 5\n",
       "\\item 5\n",
       "\\item 5\n",
       "\\item 5\n",
       "\\item 5\n",
       "\\item 5\n",
       "\\item 5\n",
       "\\item 5\n",
       "\\item 5\n",
       "\\item 5\n",
       "\\item 5\n",
       "\\item 5\n",
       "\\item 5\n",
       "\\item 5\n",
       "\\item 5\n",
       "\\item 5\n",
       "\\item 5\n",
       "\\item 5\n",
       "\\item 5\n",
       "\\item 5\n",
       "\\item 5\n",
       "\\item 5\n",
       "\\item 5\n",
       "\\item 5\n",
       "\\item 5\n",
       "\\item 5\n",
       "\\end{enumerate*}\n"
      ],
      "text/markdown": [
       "1. 5\n",
       "2. 5\n",
       "3. 5\n",
       "4. 5\n",
       "5. 5\n",
       "6. 5\n",
       "7. 5\n",
       "8. 5\n",
       "9. 5\n",
       "10. 5\n",
       "11. 5\n",
       "12. 5\n",
       "13. 5\n",
       "14. 5\n",
       "15. 5\n",
       "16. 5\n",
       "17. 5\n",
       "18. 5\n",
       "19. 5\n",
       "20. 5\n",
       "21. 5\n",
       "22. 5\n",
       "23. 5\n",
       "24. 5\n",
       "25. 5\n",
       "26. 5\n",
       "27. 5\n",
       "28. 5\n",
       "29. 5\n",
       "30. 5\n",
       "31. 5\n",
       "32. 5\n",
       "33. 5\n",
       "34. 5\n",
       "35. 5\n",
       "36. 5\n",
       "37. 5\n",
       "38. 5\n",
       "39. 5\n",
       "40. 5\n",
       "41. 5\n",
       "42. 5\n",
       "43. 5\n",
       "44. 5\n",
       "45. 5\n",
       "46. 5\n",
       "47. 5\n",
       "48. 5\n",
       "49. 5\n",
       "50. 5\n",
       "51. 5\n",
       "52. 5\n",
       "53. 5\n",
       "54. 5\n",
       "55. 5\n",
       "56. 5\n",
       "57. 5\n",
       "58. 5\n",
       "59. 5\n",
       "60. 5\n",
       "61. 5\n",
       "62. 5\n",
       "63. 5\n",
       "64. 5\n",
       "65. 5\n",
       "66. 5\n",
       "67. 5\n",
       "68. 5\n",
       "69. 5\n",
       "70. 5\n",
       "71. 5\n",
       "72. 5\n",
       "73. 5\n",
       "74. 5\n",
       "75. 5\n",
       "76. 5\n",
       "77. 5\n",
       "78. 5\n",
       "79. 5\n",
       "80. 5\n",
       "81. 5\n",
       "82. 5\n",
       "83. 5\n",
       "84. 5\n",
       "85. 5\n",
       "86. 5\n",
       "87. 5\n",
       "88. 5\n",
       "89. 5\n",
       "90. 5\n",
       "91. 5\n",
       "92. 5\n",
       "93. 5\n",
       "94. 5\n",
       "95. 5\n",
       "96. 5\n",
       "97. 5\n",
       "98. 5\n",
       "99. 5\n",
       "100. 5\n",
       "\n",
       "\n"
      ],
      "text/plain": [
       "  [1] 5 5 5 5 5 5 5 5 5 5 5 5 5 5 5 5 5 5 5 5 5 5 5 5 5 5 5 5 5 5 5 5 5 5 5 5 5\n",
       " [38] 5 5 5 5 5 5 5 5 5 5 5 5 5 5 5 5 5 5 5 5 5 5 5 5 5 5 5 5 5 5 5 5 5 5 5 5 5\n",
       " [75] 5 5 5 5 5 5 5 5 5 5 5 5 5 5 5 5 5 5 5 5 5 5 5 5 5 5"
      ]
     },
     "metadata": {},
     "output_type": "display_data"
    }
   ],
   "source": [
    "#rep\n",
    "\n",
    "rep(5,100)  #repeats \"5\" 100 times  "
   ]
  },
  {
   "cell_type": "markdown",
   "id": "0e465328",
   "metadata": {},
   "source": [
    "## Matrices in R \n",
    "Matrix is a collection of elements of the same type and data arranged in two dimensional. (row,column)"
   ]
  },
  {
   "cell_type": "markdown",
   "id": "48494882",
   "metadata": {},
   "source": [
    "Syntax -> matrix_name <-matrix(data,nrow,ncol,byrow,dimnames)"
   ]
  },
  {
   "cell_type": "code",
   "execution_count": 141,
   "id": "9dcd0580",
   "metadata": {},
   "outputs": [
    {
     "data": {
      "text/html": [
       "<table class=\"dataframe\">\n",
       "<caption>A matrix: 3 × 3 of type int</caption>\n",
       "<tbody>\n",
       "\t<tr><td>10</td><td>11</td><td>12</td></tr>\n",
       "\t<tr><td>13</td><td>14</td><td>15</td></tr>\n",
       "\t<tr><td>16</td><td>17</td><td>18</td></tr>\n",
       "</tbody>\n",
       "</table>\n"
      ],
      "text/latex": [
       "A matrix: 3 × 3 of type int\n",
       "\\begin{tabular}{lll}\n",
       "\t 10 & 11 & 12\\\\\n",
       "\t 13 & 14 & 15\\\\\n",
       "\t 16 & 17 & 18\\\\\n",
       "\\end{tabular}\n"
      ],
      "text/markdown": [
       "\n",
       "A matrix: 3 × 3 of type int\n",
       "\n",
       "| 10 | 11 | 12 |\n",
       "| 13 | 14 | 15 |\n",
       "| 16 | 17 | 18 |\n",
       "\n"
      ],
      "text/plain": [
       "     [,1] [,2] [,3]\n",
       "[1,] 10   11   12  \n",
       "[2,] 13   14   15  \n",
       "[3,] 16   17   18  "
      ]
     },
     "metadata": {},
     "output_type": "display_data"
    }
   ],
   "source": [
    "x<- matrix(c(10:18),nrow=3,byrow=TRUE)\n",
    "x"
   ]
  },
  {
   "cell_type": "code",
   "execution_count": 142,
   "id": "3561e37b",
   "metadata": {},
   "outputs": [
    {
     "data": {
      "text/html": [
       "<table class=\"dataframe\">\n",
       "<caption>A matrix: 4 × 4 of type int</caption>\n",
       "<tbody>\n",
       "\t<tr><td>100</td><td>101</td><td>102</td><td>103</td></tr>\n",
       "\t<tr><td>104</td><td>105</td><td>106</td><td>107</td></tr>\n",
       "\t<tr><td>108</td><td>109</td><td>110</td><td>111</td></tr>\n",
       "\t<tr><td>112</td><td>113</td><td>114</td><td>115</td></tr>\n",
       "</tbody>\n",
       "</table>\n"
      ],
      "text/latex": [
       "A matrix: 4 × 4 of type int\n",
       "\\begin{tabular}{llll}\n",
       "\t 100 & 101 & 102 & 103\\\\\n",
       "\t 104 & 105 & 106 & 107\\\\\n",
       "\t 108 & 109 & 110 & 111\\\\\n",
       "\t 112 & 113 & 114 & 115\\\\\n",
       "\\end{tabular}\n"
      ],
      "text/markdown": [
       "\n",
       "A matrix: 4 × 4 of type int\n",
       "\n",
       "| 100 | 101 | 102 | 103 |\n",
       "| 104 | 105 | 106 | 107 |\n",
       "| 108 | 109 | 110 | 111 |\n",
       "| 112 | 113 | 114 | 115 |\n",
       "\n"
      ],
      "text/plain": [
       "     [,1] [,2] [,3] [,4]\n",
       "[1,] 100  101  102  103 \n",
       "[2,] 104  105  106  107 \n",
       "[3,] 108  109  110  111 \n",
       "[4,] 112  113  114  115 "
      ]
     },
     "metadata": {},
     "output_type": "display_data"
    }
   ],
   "source": [
    "y<- matrix(c(100:115),nrow=4,byrow = TRUE)\n",
    "y"
   ]
  },
  {
   "cell_type": "code",
   "execution_count": 143,
   "id": "335fc5b0",
   "metadata": {},
   "outputs": [
    {
     "data": {
      "text/html": [
       "<table class=\"dataframe\">\n",
       "<caption>A matrix: 4 × 3 of type int</caption>\n",
       "<tbody>\n",
       "\t<tr><td>10</td><td>14</td><td>18</td></tr>\n",
       "\t<tr><td>11</td><td>15</td><td>19</td></tr>\n",
       "\t<tr><td>12</td><td>16</td><td>20</td></tr>\n",
       "\t<tr><td>13</td><td>17</td><td>21</td></tr>\n",
       "</tbody>\n",
       "</table>\n"
      ],
      "text/latex": [
       "A matrix: 4 × 3 of type int\n",
       "\\begin{tabular}{lll}\n",
       "\t 10 & 14 & 18\\\\\n",
       "\t 11 & 15 & 19\\\\\n",
       "\t 12 & 16 & 20\\\\\n",
       "\t 13 & 17 & 21\\\\\n",
       "\\end{tabular}\n"
      ],
      "text/markdown": [
       "\n",
       "A matrix: 4 × 3 of type int\n",
       "\n",
       "| 10 | 14 | 18 |\n",
       "| 11 | 15 | 19 |\n",
       "| 12 | 16 | 20 |\n",
       "| 13 | 17 | 21 |\n",
       "\n"
      ],
      "text/plain": [
       "     [,1] [,2] [,3]\n",
       "[1,] 10   14   18  \n",
       "[2,] 11   15   19  \n",
       "[3,] 12   16   20  \n",
       "[4,] 13   17   21  "
      ]
     },
     "metadata": {},
     "output_type": "display_data"
    }
   ],
   "source": [
    "z<- matrix(c(10:21),nrow=4,byrow = FALSE)\n",
    "z"
   ]
  },
  {
   "cell_type": "markdown",
   "id": "817208d0",
   "metadata": {},
   "source": [
    "## Names to row and columns "
   ]
  },
  {
   "cell_type": "code",
   "execution_count": 144,
   "id": "f13ab663",
   "metadata": {},
   "outputs": [
    {
     "data": {
      "text/html": [
       "<table class=\"dataframe\">\n",
       "<caption>A matrix: 4 × 3 of type int</caption>\n",
       "<thead>\n",
       "\t<tr><th></th><th scope=col>var1</th><th scope=col>var2</th><th scope=col>var</th></tr>\n",
       "</thead>\n",
       "<tbody>\n",
       "\t<tr><th scope=row>par1</th><td>10</td><td>14</td><td>18</td></tr>\n",
       "\t<tr><th scope=row>par2</th><td>11</td><td>15</td><td>19</td></tr>\n",
       "\t<tr><th scope=row>par3</th><td>12</td><td>16</td><td>20</td></tr>\n",
       "\t<tr><th scope=row>par4</th><td>13</td><td>17</td><td>21</td></tr>\n",
       "</tbody>\n",
       "</table>\n"
      ],
      "text/latex": [
       "A matrix: 4 × 3 of type int\n",
       "\\begin{tabular}{r|lll}\n",
       "  & var1 & var2 & var\\\\\n",
       "\\hline\n",
       "\tpar1 & 10 & 14 & 18\\\\\n",
       "\tpar2 & 11 & 15 & 19\\\\\n",
       "\tpar3 & 12 & 16 & 20\\\\\n",
       "\tpar4 & 13 & 17 & 21\\\\\n",
       "\\end{tabular}\n"
      ],
      "text/markdown": [
       "\n",
       "A matrix: 4 × 3 of type int\n",
       "\n",
       "| <!--/--> | var1 | var2 | var |\n",
       "|---|---|---|---|\n",
       "| par1 | 10 | 14 | 18 |\n",
       "| par2 | 11 | 15 | 19 |\n",
       "| par3 | 12 | 16 | 20 |\n",
       "| par4 | 13 | 17 | 21 |\n",
       "\n"
      ],
      "text/plain": [
       "     var1 var2 var\n",
       "par1 10   14   18 \n",
       "par2 11   15   19 \n",
       "par3 12   16   20 \n",
       "par4 13   17   21 "
      ]
     },
     "metadata": {},
     "output_type": "display_data"
    }
   ],
   "source": [
    "z<-matrix(c(10:21),nrow=4,byrow=FALSE)\n",
    "rownames(z) =c(\"par1\",\"par2\",\"par3\", \"par4\")\n",
    "colnames(z)=c(\"var1\",\"var2\",\"var\")\n",
    "z"
   ]
  },
  {
   "cell_type": "code",
   "execution_count": 145,
   "id": "3509199b",
   "metadata": {},
   "outputs": [
    {
     "data": {
      "text/html": [
       "<table class=\"dataframe\">\n",
       "<caption>A matrix: 4 × 3 of type int</caption>\n",
       "<thead>\n",
       "\t<tr><th></th><th scope=col>col1</th><th scope=col>col2</th><th scope=col>col3</th></tr>\n",
       "</thead>\n",
       "<tbody>\n",
       "\t<tr><th scope=row>row1</th><td>10</td><td>11</td><td>12</td></tr>\n",
       "\t<tr><th scope=row>row2</th><td>13</td><td>14</td><td>15</td></tr>\n",
       "\t<tr><th scope=row>row3</th><td>16</td><td>17</td><td>18</td></tr>\n",
       "\t<tr><th scope=row>row4</th><td>19</td><td>20</td><td>21</td></tr>\n",
       "</tbody>\n",
       "</table>\n"
      ],
      "text/latex": [
       "A matrix: 4 × 3 of type int\n",
       "\\begin{tabular}{r|lll}\n",
       "  & col1 & col2 & col3\\\\\n",
       "\\hline\n",
       "\trow1 & 10 & 11 & 12\\\\\n",
       "\trow2 & 13 & 14 & 15\\\\\n",
       "\trow3 & 16 & 17 & 18\\\\\n",
       "\trow4 & 19 & 20 & 21\\\\\n",
       "\\end{tabular}\n"
      ],
      "text/markdown": [
       "\n",
       "A matrix: 4 × 3 of type int\n",
       "\n",
       "| <!--/--> | col1 | col2 | col3 |\n",
       "|---|---|---|---|\n",
       "| row1 | 10 | 11 | 12 |\n",
       "| row2 | 13 | 14 | 15 |\n",
       "| row3 | 16 | 17 | 18 |\n",
       "| row4 | 19 | 20 | 21 |\n",
       "\n"
      ],
      "text/plain": [
       "     col1 col2 col3\n",
       "row1 10   11   12  \n",
       "row2 13   14   15  \n",
       "row3 16   17   18  \n",
       "row4 19   20   21  "
      ]
     },
     "metadata": {},
     "output_type": "display_data"
    }
   ],
   "source": [
    "z<-matrix(c(10:21),nrow=4,byrow=TRUE, \n",
    "          dimnames =list(c(\"row1\",\"row2\",\"row3\", \"row4\"),\n",
    "                         c(\"col1\",\"col2\",\"col3\")))\n",
    "z"
   ]
  },
  {
   "cell_type": "code",
   "execution_count": 146,
   "id": "0dde2545",
   "metadata": {},
   "outputs": [
    {
     "data": {
      "text/html": [
       "<table class=\"dataframe\">\n",
       "<caption>A matrix: 4 × 3 of type int</caption>\n",
       "<thead>\n",
       "\t<tr><th></th><th scope=col>col1</th><th scope=col>col2</th><th scope=col>col3</th></tr>\n",
       "</thead>\n",
       "<tbody>\n",
       "\t<tr><th scope=row>row1</th><td>10</td><td>14</td><td>18</td></tr>\n",
       "\t<tr><th scope=row>row2</th><td>11</td><td>15</td><td>19</td></tr>\n",
       "\t<tr><th scope=row>row3</th><td>12</td><td>16</td><td>20</td></tr>\n",
       "\t<tr><th scope=row>row4</th><td>13</td><td>17</td><td>21</td></tr>\n",
       "</tbody>\n",
       "</table>\n"
      ],
      "text/latex": [
       "A matrix: 4 × 3 of type int\n",
       "\\begin{tabular}{r|lll}\n",
       "  & col1 & col2 & col3\\\\\n",
       "\\hline\n",
       "\trow1 & 10 & 14 & 18\\\\\n",
       "\trow2 & 11 & 15 & 19\\\\\n",
       "\trow3 & 12 & 16 & 20\\\\\n",
       "\trow4 & 13 & 17 & 21\\\\\n",
       "\\end{tabular}\n"
      ],
      "text/markdown": [
       "\n",
       "A matrix: 4 × 3 of type int\n",
       "\n",
       "| <!--/--> | col1 | col2 | col3 |\n",
       "|---|---|---|---|\n",
       "| row1 | 10 | 14 | 18 |\n",
       "| row2 | 11 | 15 | 19 |\n",
       "| row3 | 12 | 16 | 20 |\n",
       "| row4 | 13 | 17 | 21 |\n",
       "\n"
      ],
      "text/plain": [
       "     col1 col2 col3\n",
       "row1 10   14   18  \n",
       "row2 11   15   19  \n",
       "row3 12   16   20  \n",
       "row4 13   17   21  "
      ]
     },
     "metadata": {},
     "output_type": "display_data"
    }
   ],
   "source": [
    "x<-matrix(c(10:21),nrow=4,byrow=FALSE, \n",
    "          dimnames =list(rownames<- c(\"row1\",\"row2\",\"row3\", \"row4\"),\n",
    "                         colnames<-c(\"col1\",\"col2\",\"col3\")))\n",
    "x"
   ]
  },
  {
   "cell_type": "code",
   "execution_count": 147,
   "id": "46085fe0",
   "metadata": {},
   "outputs": [
    {
     "data": {
      "text/html": [
       "15"
      ],
      "text/latex": [
       "15"
      ],
      "text/markdown": [
       "15"
      ],
      "text/plain": [
       "[1] 15"
      ]
     },
     "metadata": {},
     "output_type": "display_data"
    },
    {
     "data": {
      "text/html": [
       "17"
      ],
      "text/latex": [
       "17"
      ],
      "text/markdown": [
       "17"
      ],
      "text/plain": [
       "[1] 17"
      ]
     },
     "metadata": {},
     "output_type": "display_data"
    },
    {
     "data": {
      "text/html": [
       "<style>\n",
       ".dl-inline {width: auto; margin:0; padding: 0}\n",
       ".dl-inline>dt, .dl-inline>dd {float: none; width: auto; display: inline-block}\n",
       ".dl-inline>dt::after {content: \":\\0020\"; padding-right: .5ex}\n",
       ".dl-inline>dt:not(:first-of-type) {padding-left: .5ex}\n",
       "</style><dl class=dl-inline><dt>col1</dt><dd>16</dd><dt>col2</dt><dd>17</dd><dt>col3</dt><dd>18</dd></dl>\n"
      ],
      "text/latex": [
       "\\begin{description*}\n",
       "\\item[col1] 16\n",
       "\\item[col2] 17\n",
       "\\item[col3] 18\n",
       "\\end{description*}\n"
      ],
      "text/markdown": [
       "col1\n",
       ":   16col2\n",
       ":   17col3\n",
       ":   18\n",
       "\n"
      ],
      "text/plain": [
       "col1 col2 col3 \n",
       "  16   17   18 "
      ]
     },
     "metadata": {},
     "output_type": "display_data"
    }
   ],
   "source": [
    "z[2,3]\n",
    "z[3,2]\n",
    "z[3,]"
   ]
  },
  {
   "cell_type": "code",
   "execution_count": 148,
   "id": "842ac81f",
   "metadata": {},
   "outputs": [
    {
     "data": {
      "text/html": [
       "<table class=\"dataframe\">\n",
       "<caption>A matrix: 4 × 3 of type dbl</caption>\n",
       "<thead>\n",
       "\t<tr><th></th><th scope=col>col1</th><th scope=col>col2</th><th scope=col>col3</th></tr>\n",
       "</thead>\n",
       "<tbody>\n",
       "\t<tr><th scope=row>row1</th><td>5.0</td><td> 5.5</td><td> 6.0</td></tr>\n",
       "\t<tr><th scope=row>row2</th><td>6.5</td><td> 7.0</td><td> 7.5</td></tr>\n",
       "\t<tr><th scope=row>row3</th><td>8.0</td><td> 8.5</td><td> 9.0</td></tr>\n",
       "\t<tr><th scope=row>row4</th><td>9.5</td><td>10.0</td><td>10.5</td></tr>\n",
       "</tbody>\n",
       "</table>\n"
      ],
      "text/latex": [
       "A matrix: 4 × 3 of type dbl\n",
       "\\begin{tabular}{r|lll}\n",
       "  & col1 & col2 & col3\\\\\n",
       "\\hline\n",
       "\trow1 & 5.0 &  5.5 &  6.0\\\\\n",
       "\trow2 & 6.5 &  7.0 &  7.5\\\\\n",
       "\trow3 & 8.0 &  8.5 &  9.0\\\\\n",
       "\trow4 & 9.5 & 10.0 & 10.5\\\\\n",
       "\\end{tabular}\n"
      ],
      "text/markdown": [
       "\n",
       "A matrix: 4 × 3 of type dbl\n",
       "\n",
       "| <!--/--> | col1 | col2 | col3 |\n",
       "|---|---|---|---|\n",
       "| row1 | 5.0 |  5.5 |  6.0 |\n",
       "| row2 | 6.5 |  7.0 |  7.5 |\n",
       "| row3 | 8.0 |  8.5 |  9.0 |\n",
       "| row4 | 9.5 | 10.0 | 10.5 |\n",
       "\n"
      ],
      "text/plain": [
       "     col1 col2 col3\n",
       "row1 5.0   5.5  6.0\n",
       "row2 6.5   7.0  7.5\n",
       "row3 8.0   8.5  9.0\n",
       "row4 9.5  10.0 10.5"
      ]
     },
     "metadata": {},
     "output_type": "display_data"
    }
   ],
   "source": [
    "z/2"
   ]
  },
  {
   "cell_type": "code",
   "execution_count": 149,
   "id": "e84c3cdb",
   "metadata": {},
   "outputs": [
    {
     "data": {
      "text/html": [
       "<table class=\"dataframe\">\n",
       "<caption>A matrix: 4 × 3 of type int</caption>\n",
       "<thead>\n",
       "\t<tr><th></th><th scope=col>col1</th><th scope=col>col2</th><th scope=col>col3</th></tr>\n",
       "</thead>\n",
       "<tbody>\n",
       "\t<tr><th scope=row>row1</th><td>100</td><td>154</td><td>216</td></tr>\n",
       "\t<tr><th scope=row>row2</th><td>143</td><td>210</td><td>285</td></tr>\n",
       "\t<tr><th scope=row>row3</th><td>192</td><td>272</td><td>360</td></tr>\n",
       "\t<tr><th scope=row>row4</th><td>247</td><td>340</td><td>441</td></tr>\n",
       "</tbody>\n",
       "</table>\n"
      ],
      "text/latex": [
       "A matrix: 4 × 3 of type int\n",
       "\\begin{tabular}{r|lll}\n",
       "  & col1 & col2 & col3\\\\\n",
       "\\hline\n",
       "\trow1 & 100 & 154 & 216\\\\\n",
       "\trow2 & 143 & 210 & 285\\\\\n",
       "\trow3 & 192 & 272 & 360\\\\\n",
       "\trow4 & 247 & 340 & 441\\\\\n",
       "\\end{tabular}\n"
      ],
      "text/markdown": [
       "\n",
       "A matrix: 4 × 3 of type int\n",
       "\n",
       "| <!--/--> | col1 | col2 | col3 |\n",
       "|---|---|---|---|\n",
       "| row1 | 100 | 154 | 216 |\n",
       "| row2 | 143 | 210 | 285 |\n",
       "| row3 | 192 | 272 | 360 |\n",
       "| row4 | 247 | 340 | 441 |\n",
       "\n"
      ],
      "text/plain": [
       "     col1 col2 col3\n",
       "row1 100  154  216 \n",
       "row2 143  210  285 \n",
       "row3 192  272  360 \n",
       "row4 247  340  441 "
      ]
     },
     "metadata": {},
     "output_type": "display_data"
    }
   ],
   "source": [
    "z*x"
   ]
  },
  {
   "cell_type": "markdown",
   "id": "23eaf524",
   "metadata": {},
   "source": [
    "## mathematical operations on matrices"
   ]
  },
  {
   "cell_type": "code",
   "execution_count": 150,
   "id": "ce3c5aea",
   "metadata": {},
   "outputs": [
    {
     "data": {
      "text/html": [
       "<table class=\"dataframe\">\n",
       "<caption>A matrix: 3 × 3 of type int</caption>\n",
       "<tbody>\n",
       "\t<tr><td>10</td><td>11</td><td>12</td></tr>\n",
       "\t<tr><td>13</td><td>14</td><td>15</td></tr>\n",
       "\t<tr><td>16</td><td>17</td><td>18</td></tr>\n",
       "</tbody>\n",
       "</table>\n"
      ],
      "text/latex": [
       "A matrix: 3 × 3 of type int\n",
       "\\begin{tabular}{lll}\n",
       "\t 10 & 11 & 12\\\\\n",
       "\t 13 & 14 & 15\\\\\n",
       "\t 16 & 17 & 18\\\\\n",
       "\\end{tabular}\n"
      ],
      "text/markdown": [
       "\n",
       "A matrix: 3 × 3 of type int\n",
       "\n",
       "| 10 | 11 | 12 |\n",
       "| 13 | 14 | 15 |\n",
       "| 16 | 17 | 18 |\n",
       "\n"
      ],
      "text/plain": [
       "     [,1] [,2] [,3]\n",
       "[1,] 10   11   12  \n",
       "[2,] 13   14   15  \n",
       "[3,] 16   17   18  "
      ]
     },
     "metadata": {},
     "output_type": "display_data"
    },
    {
     "data": {
      "text/html": [
       "<table class=\"dataframe\">\n",
       "<caption>A matrix: 3 × 3 of type int</caption>\n",
       "<tbody>\n",
       "\t<tr><td>100</td><td>101</td><td>102</td></tr>\n",
       "\t<tr><td>103</td><td>104</td><td>105</td></tr>\n",
       "\t<tr><td>106</td><td>107</td><td>108</td></tr>\n",
       "</tbody>\n",
       "</table>\n"
      ],
      "text/latex": [
       "A matrix: 3 × 3 of type int\n",
       "\\begin{tabular}{lll}\n",
       "\t 100 & 101 & 102\\\\\n",
       "\t 103 & 104 & 105\\\\\n",
       "\t 106 & 107 & 108\\\\\n",
       "\\end{tabular}\n"
      ],
      "text/markdown": [
       "\n",
       "A matrix: 3 × 3 of type int\n",
       "\n",
       "| 100 | 101 | 102 |\n",
       "| 103 | 104 | 105 |\n",
       "| 106 | 107 | 108 |\n",
       "\n"
      ],
      "text/plain": [
       "     [,1] [,2] [,3]\n",
       "[1,] 100  101  102 \n",
       "[2,] 103  104  105 \n",
       "[3,] 106  107  108 "
      ]
     },
     "metadata": {},
     "output_type": "display_data"
    }
   ],
   "source": [
    "x<- matrix(c(10:18),nrow=3,byrow=TRUE)\n",
    "x\n",
    "\n",
    "y<- matrix(c(100:108),nrow=3,byrow = TRUE)\n",
    "y"
   ]
  },
  {
   "cell_type": "code",
   "execution_count": 151,
   "id": "5c576fa9",
   "metadata": {},
   "outputs": [
    {
     "data": {
      "text/html": [
       "<table class=\"dataframe\">\n",
       "<caption>A matrix: 3 × 3 of type int</caption>\n",
       "<tbody>\n",
       "\t<tr><td>110</td><td>112</td><td>114</td></tr>\n",
       "\t<tr><td>116</td><td>118</td><td>120</td></tr>\n",
       "\t<tr><td>122</td><td>124</td><td>126</td></tr>\n",
       "</tbody>\n",
       "</table>\n"
      ],
      "text/latex": [
       "A matrix: 3 × 3 of type int\n",
       "\\begin{tabular}{lll}\n",
       "\t 110 & 112 & 114\\\\\n",
       "\t 116 & 118 & 120\\\\\n",
       "\t 122 & 124 & 126\\\\\n",
       "\\end{tabular}\n"
      ],
      "text/markdown": [
       "\n",
       "A matrix: 3 × 3 of type int\n",
       "\n",
       "| 110 | 112 | 114 |\n",
       "| 116 | 118 | 120 |\n",
       "| 122 | 124 | 126 |\n",
       "\n"
      ],
      "text/plain": [
       "     [,1] [,2] [,3]\n",
       "[1,] 110  112  114 \n",
       "[2,] 116  118  120 \n",
       "[3,] 122  124  126 "
      ]
     },
     "metadata": {},
     "output_type": "display_data"
    },
    {
     "data": {
      "text/html": [
       "<table class=\"dataframe\">\n",
       "<caption>A matrix: 3 × 3 of type int</caption>\n",
       "<tbody>\n",
       "\t<tr><td>90</td><td>90</td><td>90</td></tr>\n",
       "\t<tr><td>90</td><td>90</td><td>90</td></tr>\n",
       "\t<tr><td>90</td><td>90</td><td>90</td></tr>\n",
       "</tbody>\n",
       "</table>\n"
      ],
      "text/latex": [
       "A matrix: 3 × 3 of type int\n",
       "\\begin{tabular}{lll}\n",
       "\t 90 & 90 & 90\\\\\n",
       "\t 90 & 90 & 90\\\\\n",
       "\t 90 & 90 & 90\\\\\n",
       "\\end{tabular}\n"
      ],
      "text/markdown": [
       "\n",
       "A matrix: 3 × 3 of type int\n",
       "\n",
       "| 90 | 90 | 90 |\n",
       "| 90 | 90 | 90 |\n",
       "| 90 | 90 | 90 |\n",
       "\n"
      ],
      "text/plain": [
       "     [,1] [,2] [,3]\n",
       "[1,] 90   90   90  \n",
       "[2,] 90   90   90  \n",
       "[3,] 90   90   90  "
      ]
     },
     "metadata": {},
     "output_type": "display_data"
    }
   ],
   "source": [
    "x+y\n",
    "y-x"
   ]
  },
  {
   "cell_type": "code",
   "execution_count": 152,
   "id": "0c5557e4",
   "metadata": {},
   "outputs": [
    {
     "data": {
      "text/html": [
       "<table class=\"dataframe\">\n",
       "<caption>A matrix: 3 × 3 of type int</caption>\n",
       "<tbody>\n",
       "\t<tr><td>1000</td><td>1111</td><td>1224</td></tr>\n",
       "\t<tr><td>1339</td><td>1456</td><td>1575</td></tr>\n",
       "\t<tr><td>1696</td><td>1819</td><td>1944</td></tr>\n",
       "</tbody>\n",
       "</table>\n"
      ],
      "text/latex": [
       "A matrix: 3 × 3 of type int\n",
       "\\begin{tabular}{lll}\n",
       "\t 1000 & 1111 & 1224\\\\\n",
       "\t 1339 & 1456 & 1575\\\\\n",
       "\t 1696 & 1819 & 1944\\\\\n",
       "\\end{tabular}\n"
      ],
      "text/markdown": [
       "\n",
       "A matrix: 3 × 3 of type int\n",
       "\n",
       "| 1000 | 1111 | 1224 |\n",
       "| 1339 | 1456 | 1575 |\n",
       "| 1696 | 1819 | 1944 |\n",
       "\n"
      ],
      "text/plain": [
       "     [,1] [,2] [,3]\n",
       "[1,] 1000 1111 1224\n",
       "[2,] 1339 1456 1575\n",
       "[3,] 1696 1819 1944"
      ]
     },
     "metadata": {},
     "output_type": "display_data"
    },
    {
     "data": {
      "text/html": [
       "<table class=\"dataframe\">\n",
       "<caption>A matrix: 3 × 3 of type dbl</caption>\n",
       "<tbody>\n",
       "\t<tr><td>0.1000000</td><td>0.1089109</td><td>0.1176471</td></tr>\n",
       "\t<tr><td>0.1262136</td><td>0.1346154</td><td>0.1428571</td></tr>\n",
       "\t<tr><td>0.1509434</td><td>0.1588785</td><td>0.1666667</td></tr>\n",
       "</tbody>\n",
       "</table>\n"
      ],
      "text/latex": [
       "A matrix: 3 × 3 of type dbl\n",
       "\\begin{tabular}{lll}\n",
       "\t 0.1000000 & 0.1089109 & 0.1176471\\\\\n",
       "\t 0.1262136 & 0.1346154 & 0.1428571\\\\\n",
       "\t 0.1509434 & 0.1588785 & 0.1666667\\\\\n",
       "\\end{tabular}\n"
      ],
      "text/markdown": [
       "\n",
       "A matrix: 3 × 3 of type dbl\n",
       "\n",
       "| 0.1000000 | 0.1089109 | 0.1176471 |\n",
       "| 0.1262136 | 0.1346154 | 0.1428571 |\n",
       "| 0.1509434 | 0.1588785 | 0.1666667 |\n",
       "\n"
      ],
      "text/plain": [
       "     [,1]      [,2]      [,3]     \n",
       "[1,] 0.1000000 0.1089109 0.1176471\n",
       "[2,] 0.1262136 0.1346154 0.1428571\n",
       "[3,] 0.1509434 0.1588785 0.1666667"
      ]
     },
     "metadata": {},
     "output_type": "display_data"
    }
   ],
   "source": [
    "x*y\n",
    "x/y"
   ]
  },
  {
   "cell_type": "code",
   "execution_count": 153,
   "id": "ba556f9d",
   "metadata": {},
   "outputs": [
    {
     "data": {
      "text/html": [
       "<table class=\"dataframe\">\n",
       "<caption>A matrix: 3 × 3 of type dbl</caption>\n",
       "<tbody>\n",
       "\t<tr><td>10</td><td>9</td><td>8</td></tr>\n",
       "\t<tr><td> 8</td><td>7</td><td>7</td></tr>\n",
       "\t<tr><td> 7</td><td>6</td><td>6</td></tr>\n",
       "</tbody>\n",
       "</table>\n"
      ],
      "text/latex": [
       "A matrix: 3 × 3 of type dbl\n",
       "\\begin{tabular}{lll}\n",
       "\t 10 & 9 & 8\\\\\n",
       "\t  8 & 7 & 7\\\\\n",
       "\t  7 & 6 & 6\\\\\n",
       "\\end{tabular}\n"
      ],
      "text/markdown": [
       "\n",
       "A matrix: 3 × 3 of type dbl\n",
       "\n",
       "| 10 | 9 | 8 |\n",
       "|  8 | 7 | 7 |\n",
       "|  7 | 6 | 6 |\n",
       "\n"
      ],
      "text/plain": [
       "     [,1] [,2] [,3]\n",
       "[1,] 10   9    8   \n",
       "[2,]  8   7    7   \n",
       "[3,]  7   6    6   "
      ]
     },
     "metadata": {},
     "output_type": "display_data"
    }
   ],
   "source": [
    "round(y/x)"
   ]
  },
  {
   "cell_type": "code",
   "execution_count": 154,
   "id": "c56c773c",
   "metadata": {},
   "outputs": [
    {
     "data": {
      "text/html": [
       "<table class=\"dataframe\">\n",
       "<caption>A matrix: 3 × 3 of type dbl</caption>\n",
       "<tbody>\n",
       "\t<tr><td>3405</td><td>3438</td><td>3471</td></tr>\n",
       "\t<tr><td>4332</td><td>4374</td><td>4416</td></tr>\n",
       "\t<tr><td>5259</td><td>5310</td><td>5361</td></tr>\n",
       "</tbody>\n",
       "</table>\n"
      ],
      "text/latex": [
       "A matrix: 3 × 3 of type dbl\n",
       "\\begin{tabular}{lll}\n",
       "\t 3405 & 3438 & 3471\\\\\n",
       "\t 4332 & 4374 & 4416\\\\\n",
       "\t 5259 & 5310 & 5361\\\\\n",
       "\\end{tabular}\n"
      ],
      "text/markdown": [
       "\n",
       "A matrix: 3 × 3 of type dbl\n",
       "\n",
       "| 3405 | 3438 | 3471 |\n",
       "| 4332 | 4374 | 4416 |\n",
       "| 5259 | 5310 | 5361 |\n",
       "\n"
      ],
      "text/plain": [
       "     [,1] [,2] [,3]\n",
       "[1,] 3405 3438 3471\n",
       "[2,] 4332 4374 4416\n",
       "[3,] 5259 5310 5361"
      ]
     },
     "metadata": {},
     "output_type": "display_data"
    }
   ],
   "source": [
    "x%*%y ##matrix multiplication"
   ]
  },
  {
   "cell_type": "code",
   "execution_count": 155,
   "id": "13e02562",
   "metadata": {},
   "outputs": [
    {
     "data": {
      "text/html": [
       "<table class=\"dataframe\">\n",
       "<caption>A matrix: 3 × 3 of type int</caption>\n",
       "<tbody>\n",
       "\t<tr><td>10</td><td>9</td><td>8</td></tr>\n",
       "\t<tr><td> 7</td><td>7</td><td>7</td></tr>\n",
       "\t<tr><td> 6</td><td>6</td><td>6</td></tr>\n",
       "</tbody>\n",
       "</table>\n"
      ],
      "text/latex": [
       "A matrix: 3 × 3 of type int\n",
       "\\begin{tabular}{lll}\n",
       "\t 10 & 9 & 8\\\\\n",
       "\t  7 & 7 & 7\\\\\n",
       "\t  6 & 6 & 6\\\\\n",
       "\\end{tabular}\n"
      ],
      "text/markdown": [
       "\n",
       "A matrix: 3 × 3 of type int\n",
       "\n",
       "| 10 | 9 | 8 |\n",
       "|  7 | 7 | 7 |\n",
       "|  6 | 6 | 6 |\n",
       "\n"
      ],
      "text/plain": [
       "     [,1] [,2] [,3]\n",
       "[1,] 10   9    8   \n",
       "[2,]  7   7    7   \n",
       "[3,]  6   6    6   "
      ]
     },
     "metadata": {},
     "output_type": "display_data"
    }
   ],
   "source": [
    "y%/%x #integer division"
   ]
  },
  {
   "cell_type": "code",
   "execution_count": 156,
   "id": "d21821f3",
   "metadata": {},
   "outputs": [
    {
     "data": {
      "text/html": [
       "<table class=\"dataframe\">\n",
       "<caption>A matrix: 3 × 3 of type int</caption>\n",
       "<tbody>\n",
       "\t<tr><td> 0</td><td>2</td><td>6</td></tr>\n",
       "\t<tr><td>12</td><td>6</td><td>0</td></tr>\n",
       "\t<tr><td>10</td><td>5</td><td>0</td></tr>\n",
       "</tbody>\n",
       "</table>\n"
      ],
      "text/latex": [
       "A matrix: 3 × 3 of type int\n",
       "\\begin{tabular}{lll}\n",
       "\t  0 & 2 & 6\\\\\n",
       "\t 12 & 6 & 0\\\\\n",
       "\t 10 & 5 & 0\\\\\n",
       "\\end{tabular}\n"
      ],
      "text/markdown": [
       "\n",
       "A matrix: 3 × 3 of type int\n",
       "\n",
       "|  0 | 2 | 6 |\n",
       "| 12 | 6 | 0 |\n",
       "| 10 | 5 | 0 |\n",
       "\n"
      ],
      "text/plain": [
       "     [,1] [,2] [,3]\n",
       "[1,]  0   2    6   \n",
       "[2,] 12   6    0   \n",
       "[3,] 10   5    0   "
      ]
     },
     "metadata": {},
     "output_type": "display_data"
    }
   ],
   "source": [
    "y%%x #remainder"
   ]
  },
  {
   "cell_type": "markdown",
   "id": "dce7d981",
   "metadata": {},
   "source": [
    "## Arrays in R"
   ]
  },
  {
   "cell_type": "markdown",
   "id": "73c26854",
   "metadata": {},
   "source": [
    "Arrays are the R data objects which can store data in more than two dimensions."
   ]
  },
  {
   "cell_type": "markdown",
   "id": "4a56faf1",
   "metadata": {},
   "source": [
    "## Create an n-dimensional array"
   ]
  },
  {
   "cell_type": "markdown",
   "id": "d719f05e",
   "metadata": {},
   "source": [
    "Example:- If we create an array of dimension (2,3,4) then it creates 4 rectangular matrices each with 2 rows and 3 columns. Array can store only one data type."
   ]
  },
  {
   "cell_type": "markdown",
   "id": "05bd3206",
   "metadata": {},
   "source": [
    "## creation of Array"
   ]
  },
  {
   "cell_type": "markdown",
   "id": "3c12f2c0",
   "metadata": {},
   "source": [
    "An Array can be created using array() function"
   ]
  },
  {
   "cell_type": "code",
   "execution_count": 157,
   "id": "38ae0b4c",
   "metadata": {},
   "outputs": [
    {
     "data": {
      "text/html": [
       "<style>\n",
       ".list-inline {list-style: none; margin:0; padding: 0}\n",
       ".list-inline>li {display: inline-block}\n",
       ".list-inline>li:not(:last-child)::after {content: \"\\00b7\"; padding: 0 .5ex}\n",
       "</style>\n",
       "<ol class=list-inline><li>1</li><li>2</li><li>3</li><li>4</li><li>5</li><li>6</li><li>7</li><li>8</li><li>9</li><li>1</li><li>2</li><li>3</li><li>4</li><li>5</li><li>6</li><li>7</li><li>8</li><li>9</li></ol>\n"
      ],
      "text/latex": [
       "\\begin{enumerate*}\n",
       "\\item 1\n",
       "\\item 2\n",
       "\\item 3\n",
       "\\item 4\n",
       "\\item 5\n",
       "\\item 6\n",
       "\\item 7\n",
       "\\item 8\n",
       "\\item 9\n",
       "\\item 1\n",
       "\\item 2\n",
       "\\item 3\n",
       "\\item 4\n",
       "\\item 5\n",
       "\\item 6\n",
       "\\item 7\n",
       "\\item 8\n",
       "\\item 9\n",
       "\\end{enumerate*}\n"
      ],
      "text/markdown": [
       "1. 1\n",
       "2. 2\n",
       "3. 3\n",
       "4. 4\n",
       "5. 5\n",
       "6. 6\n",
       "7. 7\n",
       "8. 8\n",
       "9. 9\n",
       "10. 1\n",
       "11. 2\n",
       "12. 3\n",
       "13. 4\n",
       "14. 5\n",
       "15. 6\n",
       "16. 7\n",
       "17. 8\n",
       "18. 9\n",
       "\n",
       "\n"
      ],
      "text/plain": [
       ", , 1\n",
       "\n",
       "     [,1] [,2] [,3]\n",
       "[1,]    1    4    7\n",
       "[2,]    2    5    8\n",
       "[3,]    3    6    9\n",
       "\n",
       ", , 2\n",
       "\n",
       "     [,1] [,2] [,3]\n",
       "[1,]    1    4    7\n",
       "[2,]    2    5    8\n",
       "[3,]    3    6    9\n"
      ]
     },
     "metadata": {},
     "output_type": "display_data"
    },
    {
     "data": {
      "text/html": [
       "<style>\n",
       ".list-inline {list-style: none; margin:0; padding: 0}\n",
       ".list-inline>li {display: inline-block}\n",
       ".list-inline>li:not(:last-child)::after {content: \"\\00b7\"; padding: 0 .5ex}\n",
       "</style>\n",
       "<ol class=list-inline><li>3</li><li>3</li><li>2</li></ol>\n"
      ],
      "text/latex": [
       "\\begin{enumerate*}\n",
       "\\item 3\n",
       "\\item 3\n",
       "\\item 2\n",
       "\\end{enumerate*}\n"
      ],
      "text/markdown": [
       "1. 3\n",
       "2. 3\n",
       "3. 2\n",
       "\n",
       "\n"
      ],
      "text/plain": [
       "[1] 3 3 2"
      ]
     },
     "metadata": {},
     "output_type": "display_data"
    }
   ],
   "source": [
    "A <- array(c(1:9),dim=c(3,3,2))\n",
    "A\n",
    "dim(A)"
   ]
  },
  {
   "cell_type": "code",
   "execution_count": 158,
   "id": "f7d15371",
   "metadata": {},
   "outputs": [
    {
     "data": {
      "text/html": [
       "<style>\n",
       ".list-inline {list-style: none; margin:0; padding: 0}\n",
       ".list-inline>li {display: inline-block}\n",
       ".list-inline>li:not(:last-child)::after {content: \"\\00b7\"; padding: 0 .5ex}\n",
       "</style>\n",
       "<ol class=list-inline><li>11</li><li>12</li><li>13</li><li>14</li><li>15</li><li>16</li><li>17</li><li>18</li><li>19</li><li>20</li><li>11</li><li>12</li><li>13</li><li>14</li><li>15</li><li>16</li><li>17</li><li>18</li></ol>\n"
      ],
      "text/latex": [
       "\\begin{enumerate*}\n",
       "\\item 11\n",
       "\\item 12\n",
       "\\item 13\n",
       "\\item 14\n",
       "\\item 15\n",
       "\\item 16\n",
       "\\item 17\n",
       "\\item 18\n",
       "\\item 19\n",
       "\\item 20\n",
       "\\item 11\n",
       "\\item 12\n",
       "\\item 13\n",
       "\\item 14\n",
       "\\item 15\n",
       "\\item 16\n",
       "\\item 17\n",
       "\\item 18\n",
       "\\end{enumerate*}\n"
      ],
      "text/markdown": [
       "1. 11\n",
       "2. 12\n",
       "3. 13\n",
       "4. 14\n",
       "5. 15\n",
       "6. 16\n",
       "7. 17\n",
       "8. 18\n",
       "9. 19\n",
       "10. 20\n",
       "11. 11\n",
       "12. 12\n",
       "13. 13\n",
       "14. 14\n",
       "15. 15\n",
       "16. 16\n",
       "17. 17\n",
       "18. 18\n",
       "\n",
       "\n"
      ],
      "text/plain": [
       ", , 1\n",
       "\n",
       "     [,1] [,2] [,3]\n",
       "[1,]   11   14   17\n",
       "[2,]   12   15   18\n",
       "[3,]   13   16   19\n",
       "\n",
       ", , 2\n",
       "\n",
       "     [,1] [,2] [,3]\n",
       "[1,]   20   13   16\n",
       "[2,]   11   14   17\n",
       "[3,]   12   15   18\n"
      ]
     },
     "metadata": {},
     "output_type": "display_data"
    }
   ],
   "source": [
    "B <- array(c(11:20),dim=c(3,3,2))\n",
    "B"
   ]
  },
  {
   "cell_type": "code",
   "execution_count": 159,
   "id": "c044fba7",
   "metadata": {},
   "outputs": [
    {
     "data": {
      "text/html": [
       "<style>\n",
       ".list-inline {list-style: none; margin:0; padding: 0}\n",
       ".list-inline>li {display: inline-block}\n",
       ".list-inline>li:not(:last-child)::after {content: \"\\00b7\"; padding: 0 .5ex}\n",
       "</style>\n",
       "<ol class=list-inline><li>11</li><li>12</li><li>13</li><li>14</li><li>21</li><li>22</li><li>23</li><li>24</li><li>31</li><li>32</li><li>33</li><li>34</li></ol>\n"
      ],
      "text/latex": [
       "\\begin{enumerate*}\n",
       "\\item 11\n",
       "\\item 12\n",
       "\\item 13\n",
       "\\item 14\n",
       "\\item 21\n",
       "\\item 22\n",
       "\\item 23\n",
       "\\item 24\n",
       "\\item 31\n",
       "\\item 32\n",
       "\\item 33\n",
       "\\item 34\n",
       "\\end{enumerate*}\n"
      ],
      "text/markdown": [
       "1. 11\n",
       "2. 12\n",
       "3. 13\n",
       "4. 14\n",
       "5. 21\n",
       "6. 22\n",
       "7. 23\n",
       "8. 24\n",
       "9. 31\n",
       "10. 32\n",
       "11. 33\n",
       "12. 34\n",
       "\n",
       "\n"
      ],
      "text/plain": [
       ", , 1\n",
       "\n",
       "     [,1] [,2]\n",
       "[1,]   11   13\n",
       "[2,]   12   14\n",
       "\n",
       ", , 2\n",
       "\n",
       "     [,1] [,2]\n",
       "[1,]   21   23\n",
       "[2,]   22   24\n",
       "\n",
       ", , 3\n",
       "\n",
       "     [,1] [,2]\n",
       "[1,]   31   33\n",
       "[2,]   32   34\n"
      ]
     },
     "metadata": {},
     "output_type": "display_data"
    }
   ],
   "source": [
    "C <- array(c(11:14,21:24,31:34),dim=c(2,2,3))\n",
    "C"
   ]
  },
  {
   "cell_type": "code",
   "execution_count": 160,
   "id": "5199417c",
   "metadata": {},
   "outputs": [
    {
     "data": {
      "text/html": [
       "5"
      ],
      "text/latex": [
       "5"
      ],
      "text/markdown": [
       "5"
      ],
      "text/plain": [
       "[1] 5"
      ]
     },
     "metadata": {},
     "output_type": "display_data"
    }
   ],
   "source": [
    "#Accessing the elements -> Access elements of array by using\n",
    "A[2,2,2]"
   ]
  },
  {
   "cell_type": "code",
   "execution_count": 161,
   "id": "136e0344",
   "metadata": {},
   "outputs": [
    {
     "data": {
      "text/html": [
       "<table class=\"dataframe\">\n",
       "<caption>A matrix: 2 × 3 of type int</caption>\n",
       "<tbody>\n",
       "\t<tr><td>12</td><td>22</td><td>32</td></tr>\n",
       "\t<tr><td>14</td><td>24</td><td>34</td></tr>\n",
       "</tbody>\n",
       "</table>\n"
      ],
      "text/latex": [
       "A matrix: 2 × 3 of type int\n",
       "\\begin{tabular}{lll}\n",
       "\t 12 & 22 & 32\\\\\n",
       "\t 14 & 24 & 34\\\\\n",
       "\\end{tabular}\n"
      ],
      "text/markdown": [
       "\n",
       "A matrix: 2 × 3 of type int\n",
       "\n",
       "| 12 | 22 | 32 |\n",
       "| 14 | 24 | 34 |\n",
       "\n"
      ],
      "text/plain": [
       "     [,1] [,2] [,3]\n",
       "[1,] 12   22   32  \n",
       "[2,] 14   24   34  "
      ]
     },
     "metadata": {},
     "output_type": "display_data"
    }
   ],
   "source": [
    "#to access 2nd row of matrices\n",
    "C[2,,]"
   ]
  },
  {
   "cell_type": "code",
   "execution_count": 162,
   "id": "414b5c3c",
   "metadata": {},
   "outputs": [
    {
     "data": {
      "text/html": [
       "<table class=\"dataframe\">\n",
       "<caption>A matrix: 3 × 2 of type int</caption>\n",
       "<tbody>\n",
       "\t<tr><td>1</td><td>1</td></tr>\n",
       "\t<tr><td>2</td><td>2</td></tr>\n",
       "\t<tr><td>3</td><td>3</td></tr>\n",
       "</tbody>\n",
       "</table>\n"
      ],
      "text/latex": [
       "A matrix: 3 × 2 of type int\n",
       "\\begin{tabular}{ll}\n",
       "\t 1 & 1\\\\\n",
       "\t 2 & 2\\\\\n",
       "\t 3 & 3\\\\\n",
       "\\end{tabular}\n"
      ],
      "text/markdown": [
       "\n",
       "A matrix: 3 × 2 of type int\n",
       "\n",
       "| 1 | 1 |\n",
       "| 2 | 2 |\n",
       "| 3 | 3 |\n",
       "\n"
      ],
      "text/plain": [
       "     [,1] [,2]\n",
       "[1,] 1    1   \n",
       "[2,] 2    2   \n",
       "[3,] 3    3   "
      ]
     },
     "metadata": {},
     "output_type": "display_data"
    }
   ],
   "source": [
    "#to access 1st column of matrices\n",
    "A[,1,]"
   ]
  },
  {
   "cell_type": "markdown",
   "id": "f96c2edb",
   "metadata": {},
   "source": [
    "## Operations on Arrays"
   ]
  },
  {
   "cell_type": "code",
   "execution_count": 163,
   "id": "91c90f5c",
   "metadata": {},
   "outputs": [
    {
     "data": {
      "text/html": [
       "<style>\n",
       ".list-inline {list-style: none; margin:0; padding: 0}\n",
       ".list-inline>li {display: inline-block}\n",
       ".list-inline>li:not(:last-child)::after {content: \"\\00b7\"; padding: 0 .5ex}\n",
       "</style>\n",
       "<ol class=list-inline><li>3</li><li>6</li><li>9</li></ol>\n"
      ],
      "text/latex": [
       "\\begin{enumerate*}\n",
       "\\item 3\n",
       "\\item 6\n",
       "\\item 9\n",
       "\\end{enumerate*}\n"
      ],
      "text/markdown": [
       "1. 3\n",
       "2. 6\n",
       "3. 9\n",
       "\n",
       "\n"
      ],
      "text/plain": [
       "[1] 3 6 9"
      ]
     },
     "metadata": {},
     "output_type": "display_data"
    }
   ],
   "source": [
    "#minimum/maximum elements of row/column\n",
    "r=apply(A,c(2),max) #maximum of dimension 2 i.e columns\n",
    "r"
   ]
  },
  {
   "cell_type": "code",
   "execution_count": 164,
   "id": "aa9852b5",
   "metadata": {},
   "outputs": [
    {
     "data": {
      "text/html": [
       "<style>\n",
       ".list-inline {list-style: none; margin:0; padding: 0}\n",
       ".list-inline>li {display: inline-block}\n",
       ".list-inline>li:not(:last-child)::after {content: \"\\00b7\"; padding: 0 .5ex}\n",
       "</style>\n",
       "<ol class=list-inline><li>7</li><li>8</li><li>9</li></ol>\n"
      ],
      "text/latex": [
       "\\begin{enumerate*}\n",
       "\\item 7\n",
       "\\item 8\n",
       "\\item 9\n",
       "\\end{enumerate*}\n"
      ],
      "text/markdown": [
       "1. 7\n",
       "2. 8\n",
       "3. 9\n",
       "\n",
       "\n"
      ],
      "text/plain": [
       "[1] 7 8 9"
      ]
     },
     "metadata": {},
     "output_type": "display_data"
    }
   ],
   "source": [
    "s=apply(A,c(1),max)    #max of dim 1. i.e rows\n",
    "s                 "
   ]
  },
  {
   "cell_type": "code",
   "execution_count": 165,
   "id": "903b1775",
   "metadata": {},
   "outputs": [
    {
     "data": {
      "text/html": [
       "<style>\n",
       ".list-inline {list-style: none; margin:0; padding: 0}\n",
       ".list-inline>li {display: inline-block}\n",
       ".list-inline>li:not(:last-child)::after {content: \"\\00b7\"; padding: 0 .5ex}\n",
       "</style>\n",
       "<ol class=list-inline><li>1</li><li>2</li><li>3</li></ol>\n"
      ],
      "text/latex": [
       "\\begin{enumerate*}\n",
       "\\item 1\n",
       "\\item 2\n",
       "\\item 3\n",
       "\\end{enumerate*}\n"
      ],
      "text/markdown": [
       "1. 1\n",
       "2. 2\n",
       "3. 3\n",
       "\n",
       "\n"
      ],
      "text/plain": [
       "[1] 1 2 3"
      ]
     },
     "metadata": {},
     "output_type": "display_data"
    }
   ],
   "source": [
    "t=apply(A,c(1),min)\n",
    "t"
   ]
  },
  {
   "cell_type": "code",
   "execution_count": 166,
   "id": "c07d7f31",
   "metadata": {},
   "outputs": [
    {
     "data": {
      "text/html": [
       "<style>\n",
       ".list-inline {list-style: none; margin:0; padding: 0}\n",
       ".list-inline>li {display: inline-block}\n",
       ".list-inline>li:not(:last-child)::after {content: \"\\00b7\"; padding: 0 .5ex}\n",
       "</style>\n",
       "<ol class=list-inline><li>1</li><li>4</li><li>7</li></ol>\n"
      ],
      "text/latex": [
       "\\begin{enumerate*}\n",
       "\\item 1\n",
       "\\item 4\n",
       "\\item 7\n",
       "\\end{enumerate*}\n"
      ],
      "text/markdown": [
       "1. 1\n",
       "2. 4\n",
       "3. 7\n",
       "\n",
       "\n"
      ],
      "text/plain": [
       "[1] 1 4 7"
      ]
     },
     "metadata": {},
     "output_type": "display_data"
    }
   ],
   "source": [
    "u=apply(A,c(2),min)\n",
    "u"
   ]
  },
  {
   "cell_type": "code",
   "execution_count": 167,
   "id": "e561de64",
   "metadata": {},
   "outputs": [
    {
     "data": {
      "text/html": [
       "<style>\n",
       ".list-inline {list-style: none; margin:0; padding: 0}\n",
       ".list-inline>li {display: inline-block}\n",
       ".list-inline>li:not(:last-child)::after {content: \"\\00b7\"; padding: 0 .5ex}\n",
       "</style>\n",
       "<ol class=list-inline><li>22</li><li>23</li></ol>\n"
      ],
      "text/latex": [
       "\\begin{enumerate*}\n",
       "\\item 22\n",
       "\\item 23\n",
       "\\end{enumerate*}\n"
      ],
      "text/markdown": [
       "1. 22\n",
       "2. 23\n",
       "\n",
       "\n"
      ],
      "text/plain": [
       "[1] 22 23"
      ]
     },
     "metadata": {},
     "output_type": "display_data"
    }
   ],
   "source": [
    "#Mean of the row or column\n",
    "v=apply(C,c(1),mean)\n",
    "v"
   ]
  },
  {
   "cell_type": "code",
   "execution_count": 168,
   "id": "202a428e",
   "metadata": {},
   "outputs": [
    {
     "data": {
      "text/html": [
       "<style>\n",
       ".list-inline {list-style: none; margin:0; padding: 0}\n",
       ".list-inline>li {display: inline-block}\n",
       ".list-inline>li:not(:last-child)::after {content: \"\\00b7\"; padding: 0 .5ex}\n",
       "</style>\n",
       "<ol class=list-inline><li>21.5</li><li>23.5</li></ol>\n"
      ],
      "text/latex": [
       "\\begin{enumerate*}\n",
       "\\item 21.5\n",
       "\\item 23.5\n",
       "\\end{enumerate*}\n"
      ],
      "text/markdown": [
       "1. 21.5\n",
       "2. 23.5\n",
       "\n",
       "\n"
      ],
      "text/plain": [
       "[1] 21.5 23.5"
      ]
     },
     "metadata": {},
     "output_type": "display_data"
    }
   ],
   "source": [
    "w=apply(C,c(2),mean)\n",
    "w"
   ]
  },
  {
   "cell_type": "markdown",
   "id": "b66bf515",
   "metadata": {},
   "source": [
    "## 2. Dataframes"
   ]
  },
  {
   "cell_type": "markdown",
   "id": "1ea334c1",
   "metadata": {},
   "source": [
    "## Creating a Data Frame"
   ]
  },
  {
   "cell_type": "markdown",
   "id": "aaac08ef",
   "metadata": {},
   "source": [
    "DataFrames are generic data objects of R which are used to store the tabular data. They are two-dimensional, heterogeneous data structures."
   ]
  },
  {
   "cell_type": "code",
   "execution_count": 169,
   "id": "d602e8b1",
   "metadata": {},
   "outputs": [],
   "source": [
    "Roll_no <-seq(1,20,1)\n",
    "names <- c(\"A\",\"B\",\"C\",\"D\",\"E\",\"F\",\"G\",\"I\",\"J\", \"H\",\n",
    "           \"K\",\"L\",\"M\",\"N\",\"O\",\"P\",\"Q\",\"U\",\"V\",\"W\")\n",
    "date <- c(\"15/12/1990\",\"01/12/1990\",\"31/12/1990\",\"10/01/1991\",\n",
    "          \"01/01/1991\",\"10/01/1991\",\"01/12/1990\",\"12/01/1991\",\n",
    "          \"01/01/1991\",\"10/01/1991\",\"15/12/1990\",\"01/12/1990\",\n",
    "          \"31/12/1990\",\"10/01/1991\",\n",
    "          \"01/01/1991\",\"10/01/1991\",\"01/12/1990\",\"12/01/1991\",\n",
    "          \"01/01/1991\",\"10/01/1991\")\n",
    "dob <-as.Date(date,\"%d/%m/%Y\")"
   ]
  },
  {
   "cell_type": "code",
   "execution_count": 170,
   "id": "73c09540",
   "metadata": {},
   "outputs": [],
   "source": [
    "Stats <-c(40,30,20,10,15,30,50,60,70,50,70,40,20,10,15,30,50,60,40,50)\n",
    "Trics <-c(10,15,30,50,60,20,10,15,30,40,50,60,20,10,15,30,50,60,40,50)\n",
    "micro <- c(20,25,14,14,11,12,10,16,9,11,50,60,20,10,15,30,50,60,40,50)\n",
    "maths <- c(18,25,22,4,15,18,2,20,8,12,50,60,20,10,15,30,50,60,40,50)\n",
    "bstat <- c(11,12,11,5,50,60,4,20,9,19,20,20,30,70,15,50,30,20,40,60)"
   ]
  },
  {
   "cell_type": "code",
   "execution_count": 171,
   "id": "bfdbb877",
   "metadata": {},
   "outputs": [],
   "source": [
    "MA_Result<-data.frame(Roll_no,names,dob,maths,Stats,Trics,micro,bstat)"
   ]
  },
  {
   "cell_type": "markdown",
   "id": "a719c41b",
   "metadata": {},
   "source": [
    "View function prints the data"
   ]
  },
  {
   "cell_type": "code",
   "execution_count": 172,
   "id": "8f74351f",
   "metadata": {},
   "outputs": [
    {
     "data": {
      "text/html": [
       "<table class=\"dataframe\">\n",
       "<caption>A data.frame: 20 × 8</caption>\n",
       "<thead>\n",
       "\t<tr><th scope=col>Roll_no</th><th scope=col>names</th><th scope=col>dob</th><th scope=col>maths</th><th scope=col>Stats</th><th scope=col>Trics</th><th scope=col>micro</th><th scope=col>bstat</th></tr>\n",
       "\t<tr><th scope=col>&lt;dbl&gt;</th><th scope=col>&lt;chr&gt;</th><th scope=col>&lt;date&gt;</th><th scope=col>&lt;dbl&gt;</th><th scope=col>&lt;dbl&gt;</th><th scope=col>&lt;dbl&gt;</th><th scope=col>&lt;dbl&gt;</th><th scope=col>&lt;dbl&gt;</th></tr>\n",
       "</thead>\n",
       "<tbody>\n",
       "\t<tr><td> 1</td><td>A</td><td>1990-12-15</td><td>18</td><td>40</td><td>10</td><td>20</td><td>11</td></tr>\n",
       "\t<tr><td> 2</td><td>B</td><td>1990-12-01</td><td>25</td><td>30</td><td>15</td><td>25</td><td>12</td></tr>\n",
       "\t<tr><td> 3</td><td>C</td><td>1990-12-31</td><td>22</td><td>20</td><td>30</td><td>14</td><td>11</td></tr>\n",
       "\t<tr><td> 4</td><td>D</td><td>1991-01-10</td><td> 4</td><td>10</td><td>50</td><td>14</td><td> 5</td></tr>\n",
       "\t<tr><td> 5</td><td>E</td><td>1991-01-01</td><td>15</td><td>15</td><td>60</td><td>11</td><td>50</td></tr>\n",
       "\t<tr><td> 6</td><td>F</td><td>1991-01-10</td><td>18</td><td>30</td><td>20</td><td>12</td><td>60</td></tr>\n",
       "\t<tr><td> 7</td><td>G</td><td>1990-12-01</td><td> 2</td><td>50</td><td>10</td><td>10</td><td> 4</td></tr>\n",
       "\t<tr><td> 8</td><td>I</td><td>1991-01-12</td><td>20</td><td>60</td><td>15</td><td>16</td><td>20</td></tr>\n",
       "\t<tr><td> 9</td><td>J</td><td>1991-01-01</td><td> 8</td><td>70</td><td>30</td><td> 9</td><td> 9</td></tr>\n",
       "\t<tr><td>10</td><td>H</td><td>1991-01-10</td><td>12</td><td>50</td><td>40</td><td>11</td><td>19</td></tr>\n",
       "\t<tr><td>11</td><td>K</td><td>1990-12-15</td><td>50</td><td>70</td><td>50</td><td>50</td><td>20</td></tr>\n",
       "\t<tr><td>12</td><td>L</td><td>1990-12-01</td><td>60</td><td>40</td><td>60</td><td>60</td><td>20</td></tr>\n",
       "\t<tr><td>13</td><td>M</td><td>1990-12-31</td><td>20</td><td>20</td><td>20</td><td>20</td><td>30</td></tr>\n",
       "\t<tr><td>14</td><td>N</td><td>1991-01-10</td><td>10</td><td>10</td><td>10</td><td>10</td><td>70</td></tr>\n",
       "\t<tr><td>15</td><td>O</td><td>1991-01-01</td><td>15</td><td>15</td><td>15</td><td>15</td><td>15</td></tr>\n",
       "\t<tr><td>16</td><td>P</td><td>1991-01-10</td><td>30</td><td>30</td><td>30</td><td>30</td><td>50</td></tr>\n",
       "\t<tr><td>17</td><td>Q</td><td>1990-12-01</td><td>50</td><td>50</td><td>50</td><td>50</td><td>30</td></tr>\n",
       "\t<tr><td>18</td><td>U</td><td>1991-01-12</td><td>60</td><td>60</td><td>60</td><td>60</td><td>20</td></tr>\n",
       "\t<tr><td>19</td><td>V</td><td>1991-01-01</td><td>40</td><td>40</td><td>40</td><td>40</td><td>40</td></tr>\n",
       "\t<tr><td>20</td><td>W</td><td>1991-01-10</td><td>50</td><td>50</td><td>50</td><td>50</td><td>60</td></tr>\n",
       "</tbody>\n",
       "</table>\n"
      ],
      "text/latex": [
       "A data.frame: 20 × 8\n",
       "\\begin{tabular}{llllllll}\n",
       " Roll\\_no & names & dob & maths & Stats & Trics & micro & bstat\\\\\n",
       " <dbl> & <chr> & <date> & <dbl> & <dbl> & <dbl> & <dbl> & <dbl>\\\\\n",
       "\\hline\n",
       "\t  1 & A & 1990-12-15 & 18 & 40 & 10 & 20 & 11\\\\\n",
       "\t  2 & B & 1990-12-01 & 25 & 30 & 15 & 25 & 12\\\\\n",
       "\t  3 & C & 1990-12-31 & 22 & 20 & 30 & 14 & 11\\\\\n",
       "\t  4 & D & 1991-01-10 &  4 & 10 & 50 & 14 &  5\\\\\n",
       "\t  5 & E & 1991-01-01 & 15 & 15 & 60 & 11 & 50\\\\\n",
       "\t  6 & F & 1991-01-10 & 18 & 30 & 20 & 12 & 60\\\\\n",
       "\t  7 & G & 1990-12-01 &  2 & 50 & 10 & 10 &  4\\\\\n",
       "\t  8 & I & 1991-01-12 & 20 & 60 & 15 & 16 & 20\\\\\n",
       "\t  9 & J & 1991-01-01 &  8 & 70 & 30 &  9 &  9\\\\\n",
       "\t 10 & H & 1991-01-10 & 12 & 50 & 40 & 11 & 19\\\\\n",
       "\t 11 & K & 1990-12-15 & 50 & 70 & 50 & 50 & 20\\\\\n",
       "\t 12 & L & 1990-12-01 & 60 & 40 & 60 & 60 & 20\\\\\n",
       "\t 13 & M & 1990-12-31 & 20 & 20 & 20 & 20 & 30\\\\\n",
       "\t 14 & N & 1991-01-10 & 10 & 10 & 10 & 10 & 70\\\\\n",
       "\t 15 & O & 1991-01-01 & 15 & 15 & 15 & 15 & 15\\\\\n",
       "\t 16 & P & 1991-01-10 & 30 & 30 & 30 & 30 & 50\\\\\n",
       "\t 17 & Q & 1990-12-01 & 50 & 50 & 50 & 50 & 30\\\\\n",
       "\t 18 & U & 1991-01-12 & 60 & 60 & 60 & 60 & 20\\\\\n",
       "\t 19 & V & 1991-01-01 & 40 & 40 & 40 & 40 & 40\\\\\n",
       "\t 20 & W & 1991-01-10 & 50 & 50 & 50 & 50 & 60\\\\\n",
       "\\end{tabular}\n"
      ],
      "text/markdown": [
       "\n",
       "A data.frame: 20 × 8\n",
       "\n",
       "| Roll_no &lt;dbl&gt; | names &lt;chr&gt; | dob &lt;date&gt; | maths &lt;dbl&gt; | Stats &lt;dbl&gt; | Trics &lt;dbl&gt; | micro &lt;dbl&gt; | bstat &lt;dbl&gt; |\n",
       "|---|---|---|---|---|---|---|---|\n",
       "|  1 | A | 1990-12-15 | 18 | 40 | 10 | 20 | 11 |\n",
       "|  2 | B | 1990-12-01 | 25 | 30 | 15 | 25 | 12 |\n",
       "|  3 | C | 1990-12-31 | 22 | 20 | 30 | 14 | 11 |\n",
       "|  4 | D | 1991-01-10 |  4 | 10 | 50 | 14 |  5 |\n",
       "|  5 | E | 1991-01-01 | 15 | 15 | 60 | 11 | 50 |\n",
       "|  6 | F | 1991-01-10 | 18 | 30 | 20 | 12 | 60 |\n",
       "|  7 | G | 1990-12-01 |  2 | 50 | 10 | 10 |  4 |\n",
       "|  8 | I | 1991-01-12 | 20 | 60 | 15 | 16 | 20 |\n",
       "|  9 | J | 1991-01-01 |  8 | 70 | 30 |  9 |  9 |\n",
       "| 10 | H | 1991-01-10 | 12 | 50 | 40 | 11 | 19 |\n",
       "| 11 | K | 1990-12-15 | 50 | 70 | 50 | 50 | 20 |\n",
       "| 12 | L | 1990-12-01 | 60 | 40 | 60 | 60 | 20 |\n",
       "| 13 | M | 1990-12-31 | 20 | 20 | 20 | 20 | 30 |\n",
       "| 14 | N | 1991-01-10 | 10 | 10 | 10 | 10 | 70 |\n",
       "| 15 | O | 1991-01-01 | 15 | 15 | 15 | 15 | 15 |\n",
       "| 16 | P | 1991-01-10 | 30 | 30 | 30 | 30 | 50 |\n",
       "| 17 | Q | 1990-12-01 | 50 | 50 | 50 | 50 | 30 |\n",
       "| 18 | U | 1991-01-12 | 60 | 60 | 60 | 60 | 20 |\n",
       "| 19 | V | 1991-01-01 | 40 | 40 | 40 | 40 | 40 |\n",
       "| 20 | W | 1991-01-10 | 50 | 50 | 50 | 50 | 60 |\n",
       "\n"
      ],
      "text/plain": [
       "   Roll_no names dob        maths Stats Trics micro bstat\n",
       "1   1      A     1990-12-15 18    40    10    20    11   \n",
       "2   2      B     1990-12-01 25    30    15    25    12   \n",
       "3   3      C     1990-12-31 22    20    30    14    11   \n",
       "4   4      D     1991-01-10  4    10    50    14     5   \n",
       "5   5      E     1991-01-01 15    15    60    11    50   \n",
       "6   6      F     1991-01-10 18    30    20    12    60   \n",
       "7   7      G     1990-12-01  2    50    10    10     4   \n",
       "8   8      I     1991-01-12 20    60    15    16    20   \n",
       "9   9      J     1991-01-01  8    70    30     9     9   \n",
       "10 10      H     1991-01-10 12    50    40    11    19   \n",
       "11 11      K     1990-12-15 50    70    50    50    20   \n",
       "12 12      L     1990-12-01 60    40    60    60    20   \n",
       "13 13      M     1990-12-31 20    20    20    20    30   \n",
       "14 14      N     1991-01-10 10    10    10    10    70   \n",
       "15 15      O     1991-01-01 15    15    15    15    15   \n",
       "16 16      P     1991-01-10 30    30    30    30    50   \n",
       "17 17      Q     1990-12-01 50    50    50    50    30   \n",
       "18 18      U     1991-01-12 60    60    60    60    20   \n",
       "19 19      V     1991-01-01 40    40    40    40    40   \n",
       "20 20      W     1991-01-10 50    50    50    50    60   "
      ]
     },
     "metadata": {},
     "output_type": "display_data"
    }
   ],
   "source": [
    "View(MA_Result)"
   ]
  },
  {
   "cell_type": "markdown",
   "id": "f81d53f3",
   "metadata": {},
   "source": [
    "Add new variable/Object in existing data frame"
   ]
  },
  {
   "cell_type": "code",
   "execution_count": 173,
   "id": "f98d77b1",
   "metadata": {},
   "outputs": [],
   "source": [
    "coding <-c (8,20,21,6,20,15,4,18,9,10,\n",
    "            25,21,16,9,16,20,6,22,12,10)\n",
    "MA_Result1<-data.frame(MA_Result,coding)"
   ]
  },
  {
   "cell_type": "code",
   "execution_count": 174,
   "id": "80d09526",
   "metadata": {},
   "outputs": [],
   "source": [
    "macro <- c(18,25,22,4,15,18,2,20,8,12)\n",
    "MA_First <- MA_Result1\n",
    "MA_First <-data.frame(MA_First, macro)"
   ]
  },
  {
   "cell_type": "markdown",
   "id": "5fc210f9",
   "metadata": {},
   "source": [
    "## Extracting individual rows/ columns from data frame"
   ]
  },
  {
   "cell_type": "code",
   "execution_count": 175,
   "id": "392e2acc",
   "metadata": {},
   "outputs": [
    {
     "data": {
      "text/html": [
       "<table class=\"dataframe\">\n",
       "<caption>A data.frame: 1 × 10</caption>\n",
       "<thead>\n",
       "\t<tr><th></th><th scope=col>Roll_no</th><th scope=col>names</th><th scope=col>dob</th><th scope=col>maths</th><th scope=col>Stats</th><th scope=col>Trics</th><th scope=col>micro</th><th scope=col>bstat</th><th scope=col>coding</th><th scope=col>macro</th></tr>\n",
       "\t<tr><th></th><th scope=col>&lt;dbl&gt;</th><th scope=col>&lt;chr&gt;</th><th scope=col>&lt;date&gt;</th><th scope=col>&lt;dbl&gt;</th><th scope=col>&lt;dbl&gt;</th><th scope=col>&lt;dbl&gt;</th><th scope=col>&lt;dbl&gt;</th><th scope=col>&lt;dbl&gt;</th><th scope=col>&lt;dbl&gt;</th><th scope=col>&lt;dbl&gt;</th></tr>\n",
       "</thead>\n",
       "<tbody>\n",
       "\t<tr><th scope=row>10</th><td>10</td><td>H</td><td>1991-01-10</td><td>12</td><td>50</td><td>40</td><td>11</td><td>19</td><td>10</td><td>12</td></tr>\n",
       "</tbody>\n",
       "</table>\n"
      ],
      "text/latex": [
       "A data.frame: 1 × 10\n",
       "\\begin{tabular}{r|llllllllll}\n",
       "  & Roll\\_no & names & dob & maths & Stats & Trics & micro & bstat & coding & macro\\\\\n",
       "  & <dbl> & <chr> & <date> & <dbl> & <dbl> & <dbl> & <dbl> & <dbl> & <dbl> & <dbl>\\\\\n",
       "\\hline\n",
       "\t10 & 10 & H & 1991-01-10 & 12 & 50 & 40 & 11 & 19 & 10 & 12\\\\\n",
       "\\end{tabular}\n"
      ],
      "text/markdown": [
       "\n",
       "A data.frame: 1 × 10\n",
       "\n",
       "| <!--/--> | Roll_no &lt;dbl&gt; | names &lt;chr&gt; | dob &lt;date&gt; | maths &lt;dbl&gt; | Stats &lt;dbl&gt; | Trics &lt;dbl&gt; | micro &lt;dbl&gt; | bstat &lt;dbl&gt; | coding &lt;dbl&gt; | macro &lt;dbl&gt; |\n",
       "|---|---|---|---|---|---|---|---|---|---|---|\n",
       "| 10 | 10 | H | 1991-01-10 | 12 | 50 | 40 | 11 | 19 | 10 | 12 |\n",
       "\n"
      ],
      "text/plain": [
       "   Roll_no names dob        maths Stats Trics micro bstat coding macro\n",
       "10 10      H     1991-01-10 12    50    40    11    19    10     12   "
      ]
     },
     "metadata": {},
     "output_type": "display_data"
    },
    {
     "data": {
      "text/html": [
       "<table class=\"dataframe\">\n",
       "<caption>A data.frame: 1 × 10</caption>\n",
       "<thead>\n",
       "\t<tr><th></th><th scope=col>Roll_no</th><th scope=col>names</th><th scope=col>dob</th><th scope=col>maths</th><th scope=col>Stats</th><th scope=col>Trics</th><th scope=col>micro</th><th scope=col>bstat</th><th scope=col>coding</th><th scope=col>macro</th></tr>\n",
       "\t<tr><th></th><th scope=col>&lt;dbl&gt;</th><th scope=col>&lt;chr&gt;</th><th scope=col>&lt;date&gt;</th><th scope=col>&lt;dbl&gt;</th><th scope=col>&lt;dbl&gt;</th><th scope=col>&lt;dbl&gt;</th><th scope=col>&lt;dbl&gt;</th><th scope=col>&lt;dbl&gt;</th><th scope=col>&lt;dbl&gt;</th><th scope=col>&lt;dbl&gt;</th></tr>\n",
       "</thead>\n",
       "<tbody>\n",
       "\t<tr><th scope=row>3</th><td>3</td><td>C</td><td>1990-12-31</td><td>22</td><td>20</td><td>30</td><td>14</td><td>11</td><td>21</td><td>22</td></tr>\n",
       "</tbody>\n",
       "</table>\n"
      ],
      "text/latex": [
       "A data.frame: 1 × 10\n",
       "\\begin{tabular}{r|llllllllll}\n",
       "  & Roll\\_no & names & dob & maths & Stats & Trics & micro & bstat & coding & macro\\\\\n",
       "  & <dbl> & <chr> & <date> & <dbl> & <dbl> & <dbl> & <dbl> & <dbl> & <dbl> & <dbl>\\\\\n",
       "\\hline\n",
       "\t3 & 3 & C & 1990-12-31 & 22 & 20 & 30 & 14 & 11 & 21 & 22\\\\\n",
       "\\end{tabular}\n"
      ],
      "text/markdown": [
       "\n",
       "A data.frame: 1 × 10\n",
       "\n",
       "| <!--/--> | Roll_no &lt;dbl&gt; | names &lt;chr&gt; | dob &lt;date&gt; | maths &lt;dbl&gt; | Stats &lt;dbl&gt; | Trics &lt;dbl&gt; | micro &lt;dbl&gt; | bstat &lt;dbl&gt; | coding &lt;dbl&gt; | macro &lt;dbl&gt; |\n",
       "|---|---|---|---|---|---|---|---|---|---|---|\n",
       "| 3 | 3 | C | 1990-12-31 | 22 | 20 | 30 | 14 | 11 | 21 | 22 |\n",
       "\n"
      ],
      "text/plain": [
       "  Roll_no names dob        maths Stats Trics micro bstat coding macro\n",
       "3 3       C     1990-12-31 22    20    30    14    11    21     22   "
      ]
     },
     "metadata": {},
     "output_type": "display_data"
    }
   ],
   "source": [
    "#Row\n",
    "MA_First[10,]\n",
    "MA_First[3,]"
   ]
  },
  {
   "cell_type": "code",
   "execution_count": 176,
   "id": "02952d4a",
   "metadata": {},
   "outputs": [
    {
     "data": {
      "text/html": [
       "<style>\n",
       ".list-inline {list-style: none; margin:0; padding: 0}\n",
       ".list-inline>li {display: inline-block}\n",
       ".list-inline>li:not(:last-child)::after {content: \"\\00b7\"; padding: 0 .5ex}\n",
       "</style>\n",
       "<ol class=list-inline><li>40</li><li>30</li><li>20</li><li>10</li><li>15</li><li>30</li><li>50</li><li>60</li><li>70</li><li>50</li><li>70</li><li>40</li><li>20</li><li>10</li><li>15</li><li>30</li><li>50</li><li>60</li><li>40</li><li>50</li></ol>\n"
      ],
      "text/latex": [
       "\\begin{enumerate*}\n",
       "\\item 40\n",
       "\\item 30\n",
       "\\item 20\n",
       "\\item 10\n",
       "\\item 15\n",
       "\\item 30\n",
       "\\item 50\n",
       "\\item 60\n",
       "\\item 70\n",
       "\\item 50\n",
       "\\item 70\n",
       "\\item 40\n",
       "\\item 20\n",
       "\\item 10\n",
       "\\item 15\n",
       "\\item 30\n",
       "\\item 50\n",
       "\\item 60\n",
       "\\item 40\n",
       "\\item 50\n",
       "\\end{enumerate*}\n"
      ],
      "text/markdown": [
       "1. 40\n",
       "2. 30\n",
       "3. 20\n",
       "4. 10\n",
       "5. 15\n",
       "6. 30\n",
       "7. 50\n",
       "8. 60\n",
       "9. 70\n",
       "10. 50\n",
       "11. 70\n",
       "12. 40\n",
       "13. 20\n",
       "14. 10\n",
       "15. 15\n",
       "16. 30\n",
       "17. 50\n",
       "18. 60\n",
       "19. 40\n",
       "20. 50\n",
       "\n",
       "\n"
      ],
      "text/plain": [
       " [1] 40 30 20 10 15 30 50 60 70 50 70 40 20 10 15 30 50 60 40 50"
      ]
     },
     "metadata": {},
     "output_type": "display_data"
    },
    {
     "data": {
      "text/html": [
       "<style>\n",
       ".list-inline {list-style: none; margin:0; padding: 0}\n",
       ".list-inline>li {display: inline-block}\n",
       ".list-inline>li:not(:last-child)::after {content: \"\\00b7\"; padding: 0 .5ex}\n",
       "</style>\n",
       "<ol class=list-inline><li>'A'</li><li>'B'</li><li>'C'</li><li>'D'</li><li>'E'</li><li>'F'</li><li>'G'</li><li>'I'</li><li>'J'</li><li>'H'</li><li>'K'</li><li>'L'</li><li>'M'</li><li>'N'</li><li>'O'</li><li>'P'</li><li>'Q'</li><li>'U'</li><li>'V'</li><li>'W'</li></ol>\n"
      ],
      "text/latex": [
       "\\begin{enumerate*}\n",
       "\\item 'A'\n",
       "\\item 'B'\n",
       "\\item 'C'\n",
       "\\item 'D'\n",
       "\\item 'E'\n",
       "\\item 'F'\n",
       "\\item 'G'\n",
       "\\item 'I'\n",
       "\\item 'J'\n",
       "\\item 'H'\n",
       "\\item 'K'\n",
       "\\item 'L'\n",
       "\\item 'M'\n",
       "\\item 'N'\n",
       "\\item 'O'\n",
       "\\item 'P'\n",
       "\\item 'Q'\n",
       "\\item 'U'\n",
       "\\item 'V'\n",
       "\\item 'W'\n",
       "\\end{enumerate*}\n"
      ],
      "text/markdown": [
       "1. 'A'\n",
       "2. 'B'\n",
       "3. 'C'\n",
       "4. 'D'\n",
       "5. 'E'\n",
       "6. 'F'\n",
       "7. 'G'\n",
       "8. 'I'\n",
       "9. 'J'\n",
       "10. 'H'\n",
       "11. 'K'\n",
       "12. 'L'\n",
       "13. 'M'\n",
       "14. 'N'\n",
       "15. 'O'\n",
       "16. 'P'\n",
       "17. 'Q'\n",
       "18. 'U'\n",
       "19. 'V'\n",
       "20. 'W'\n",
       "\n",
       "\n"
      ],
      "text/plain": [
       " [1] \"A\" \"B\" \"C\" \"D\" \"E\" \"F\" \"G\" \"I\" \"J\" \"H\" \"K\" \"L\" \"M\" \"N\" \"O\" \"P\" \"Q\" \"U\" \"V\"\n",
       "[20] \"W\""
      ]
     },
     "metadata": {},
     "output_type": "display_data"
    }
   ],
   "source": [
    "#Column\n",
    "MA_First[,5]\n",
    "MA_First[,2]"
   ]
  },
  {
   "cell_type": "code",
   "execution_count": 177,
   "id": "737b75b8",
   "metadata": {},
   "outputs": [
    {
     "data": {
      "text/html": [
       "<time datetime=\"1990-12-01\">1990-12-01</time>"
      ],
      "text/latex": [
       "1990-12-01"
      ],
      "text/markdown": [
       "1990-12-01"
      ],
      "text/plain": [
       "[1] \"1990-12-01\""
      ]
     },
     "metadata": {},
     "output_type": "display_data"
    }
   ],
   "source": [
    "##Both column and row\n",
    "MA_Result[2,3]"
   ]
  },
  {
   "cell_type": "code",
   "execution_count": 178,
   "id": "d933f552",
   "metadata": {},
   "outputs": [
    {
     "data": {
      "text/html": [
       "<table class=\"dataframe\">\n",
       "<caption>A data.frame: 4 × 10</caption>\n",
       "<thead>\n",
       "\t<tr><th></th><th scope=col>Roll_no</th><th scope=col>names</th><th scope=col>dob</th><th scope=col>maths</th><th scope=col>Stats</th><th scope=col>Trics</th><th scope=col>micro</th><th scope=col>bstat</th><th scope=col>coding</th><th scope=col>macro</th></tr>\n",
       "\t<tr><th></th><th scope=col>&lt;dbl&gt;</th><th scope=col>&lt;chr&gt;</th><th scope=col>&lt;date&gt;</th><th scope=col>&lt;dbl&gt;</th><th scope=col>&lt;dbl&gt;</th><th scope=col>&lt;dbl&gt;</th><th scope=col>&lt;dbl&gt;</th><th scope=col>&lt;dbl&gt;</th><th scope=col>&lt;dbl&gt;</th><th scope=col>&lt;dbl&gt;</th></tr>\n",
       "</thead>\n",
       "<tbody>\n",
       "\t<tr><th scope=row>7</th><td> 7</td><td>G</td><td>1990-12-01</td><td> 2</td><td>50</td><td>10</td><td>10</td><td> 4</td><td> 4</td><td> 2</td></tr>\n",
       "\t<tr><th scope=row>8</th><td> 8</td><td>I</td><td>1991-01-12</td><td>20</td><td>60</td><td>15</td><td>16</td><td>20</td><td>18</td><td>20</td></tr>\n",
       "\t<tr><th scope=row>9</th><td> 9</td><td>J</td><td>1991-01-01</td><td> 8</td><td>70</td><td>30</td><td> 9</td><td> 9</td><td> 9</td><td> 8</td></tr>\n",
       "\t<tr><th scope=row>10</th><td>10</td><td>H</td><td>1991-01-10</td><td>12</td><td>50</td><td>40</td><td>11</td><td>19</td><td>10</td><td>12</td></tr>\n",
       "</tbody>\n",
       "</table>\n"
      ],
      "text/latex": [
       "A data.frame: 4 × 10\n",
       "\\begin{tabular}{r|llllllllll}\n",
       "  & Roll\\_no & names & dob & maths & Stats & Trics & micro & bstat & coding & macro\\\\\n",
       "  & <dbl> & <chr> & <date> & <dbl> & <dbl> & <dbl> & <dbl> & <dbl> & <dbl> & <dbl>\\\\\n",
       "\\hline\n",
       "\t7 &  7 & G & 1990-12-01 &  2 & 50 & 10 & 10 &  4 &  4 &  2\\\\\n",
       "\t8 &  8 & I & 1991-01-12 & 20 & 60 & 15 & 16 & 20 & 18 & 20\\\\\n",
       "\t9 &  9 & J & 1991-01-01 &  8 & 70 & 30 &  9 &  9 &  9 &  8\\\\\n",
       "\t10 & 10 & H & 1991-01-10 & 12 & 50 & 40 & 11 & 19 & 10 & 12\\\\\n",
       "\\end{tabular}\n"
      ],
      "text/markdown": [
       "\n",
       "A data.frame: 4 × 10\n",
       "\n",
       "| <!--/--> | Roll_no &lt;dbl&gt; | names &lt;chr&gt; | dob &lt;date&gt; | maths &lt;dbl&gt; | Stats &lt;dbl&gt; | Trics &lt;dbl&gt; | micro &lt;dbl&gt; | bstat &lt;dbl&gt; | coding &lt;dbl&gt; | macro &lt;dbl&gt; |\n",
       "|---|---|---|---|---|---|---|---|---|---|---|\n",
       "| 7 |  7 | G | 1990-12-01 |  2 | 50 | 10 | 10 |  4 |  4 |  2 |\n",
       "| 8 |  8 | I | 1991-01-12 | 20 | 60 | 15 | 16 | 20 | 18 | 20 |\n",
       "| 9 |  9 | J | 1991-01-01 |  8 | 70 | 30 |  9 |  9 |  9 |  8 |\n",
       "| 10 | 10 | H | 1991-01-10 | 12 | 50 | 40 | 11 | 19 | 10 | 12 |\n",
       "\n"
      ],
      "text/plain": [
       "   Roll_no names dob        maths Stats Trics micro bstat coding macro\n",
       "7   7      G     1990-12-01  2    50    10    10     4     4      2   \n",
       "8   8      I     1991-01-12 20    60    15    16    20    18     20   \n",
       "9   9      J     1991-01-01  8    70    30     9     9     9      8   \n",
       "10 10      H     1991-01-10 12    50    40    11    19    10     12   "
      ]
     },
     "metadata": {},
     "output_type": "display_data"
    },
    {
     "data": {
      "text/html": [
       "<table class=\"dataframe\">\n",
       "<caption>A data.frame: 20 × 5</caption>\n",
       "<thead>\n",
       "\t<tr><th scope=col>Roll_no</th><th scope=col>names</th><th scope=col>dob</th><th scope=col>maths</th><th scope=col>Stats</th></tr>\n",
       "\t<tr><th scope=col>&lt;dbl&gt;</th><th scope=col>&lt;chr&gt;</th><th scope=col>&lt;date&gt;</th><th scope=col>&lt;dbl&gt;</th><th scope=col>&lt;dbl&gt;</th></tr>\n",
       "</thead>\n",
       "<tbody>\n",
       "\t<tr><td> 1</td><td>A</td><td>1990-12-15</td><td>18</td><td>40</td></tr>\n",
       "\t<tr><td> 2</td><td>B</td><td>1990-12-01</td><td>25</td><td>30</td></tr>\n",
       "\t<tr><td> 3</td><td>C</td><td>1990-12-31</td><td>22</td><td>20</td></tr>\n",
       "\t<tr><td> 4</td><td>D</td><td>1991-01-10</td><td> 4</td><td>10</td></tr>\n",
       "\t<tr><td> 5</td><td>E</td><td>1991-01-01</td><td>15</td><td>15</td></tr>\n",
       "\t<tr><td> 6</td><td>F</td><td>1991-01-10</td><td>18</td><td>30</td></tr>\n",
       "\t<tr><td> 7</td><td>G</td><td>1990-12-01</td><td> 2</td><td>50</td></tr>\n",
       "\t<tr><td> 8</td><td>I</td><td>1991-01-12</td><td>20</td><td>60</td></tr>\n",
       "\t<tr><td> 9</td><td>J</td><td>1991-01-01</td><td> 8</td><td>70</td></tr>\n",
       "\t<tr><td>10</td><td>H</td><td>1991-01-10</td><td>12</td><td>50</td></tr>\n",
       "\t<tr><td>11</td><td>K</td><td>1990-12-15</td><td>50</td><td>70</td></tr>\n",
       "\t<tr><td>12</td><td>L</td><td>1990-12-01</td><td>60</td><td>40</td></tr>\n",
       "\t<tr><td>13</td><td>M</td><td>1990-12-31</td><td>20</td><td>20</td></tr>\n",
       "\t<tr><td>14</td><td>N</td><td>1991-01-10</td><td>10</td><td>10</td></tr>\n",
       "\t<tr><td>15</td><td>O</td><td>1991-01-01</td><td>15</td><td>15</td></tr>\n",
       "\t<tr><td>16</td><td>P</td><td>1991-01-10</td><td>30</td><td>30</td></tr>\n",
       "\t<tr><td>17</td><td>Q</td><td>1990-12-01</td><td>50</td><td>50</td></tr>\n",
       "\t<tr><td>18</td><td>U</td><td>1991-01-12</td><td>60</td><td>60</td></tr>\n",
       "\t<tr><td>19</td><td>V</td><td>1991-01-01</td><td>40</td><td>40</td></tr>\n",
       "\t<tr><td>20</td><td>W</td><td>1991-01-10</td><td>50</td><td>50</td></tr>\n",
       "</tbody>\n",
       "</table>\n"
      ],
      "text/latex": [
       "A data.frame: 20 × 5\n",
       "\\begin{tabular}{lllll}\n",
       " Roll\\_no & names & dob & maths & Stats\\\\\n",
       " <dbl> & <chr> & <date> & <dbl> & <dbl>\\\\\n",
       "\\hline\n",
       "\t  1 & A & 1990-12-15 & 18 & 40\\\\\n",
       "\t  2 & B & 1990-12-01 & 25 & 30\\\\\n",
       "\t  3 & C & 1990-12-31 & 22 & 20\\\\\n",
       "\t  4 & D & 1991-01-10 &  4 & 10\\\\\n",
       "\t  5 & E & 1991-01-01 & 15 & 15\\\\\n",
       "\t  6 & F & 1991-01-10 & 18 & 30\\\\\n",
       "\t  7 & G & 1990-12-01 &  2 & 50\\\\\n",
       "\t  8 & I & 1991-01-12 & 20 & 60\\\\\n",
       "\t  9 & J & 1991-01-01 &  8 & 70\\\\\n",
       "\t 10 & H & 1991-01-10 & 12 & 50\\\\\n",
       "\t 11 & K & 1990-12-15 & 50 & 70\\\\\n",
       "\t 12 & L & 1990-12-01 & 60 & 40\\\\\n",
       "\t 13 & M & 1990-12-31 & 20 & 20\\\\\n",
       "\t 14 & N & 1991-01-10 & 10 & 10\\\\\n",
       "\t 15 & O & 1991-01-01 & 15 & 15\\\\\n",
       "\t 16 & P & 1991-01-10 & 30 & 30\\\\\n",
       "\t 17 & Q & 1990-12-01 & 50 & 50\\\\\n",
       "\t 18 & U & 1991-01-12 & 60 & 60\\\\\n",
       "\t 19 & V & 1991-01-01 & 40 & 40\\\\\n",
       "\t 20 & W & 1991-01-10 & 50 & 50\\\\\n",
       "\\end{tabular}\n"
      ],
      "text/markdown": [
       "\n",
       "A data.frame: 20 × 5\n",
       "\n",
       "| Roll_no &lt;dbl&gt; | names &lt;chr&gt; | dob &lt;date&gt; | maths &lt;dbl&gt; | Stats &lt;dbl&gt; |\n",
       "|---|---|---|---|---|\n",
       "|  1 | A | 1990-12-15 | 18 | 40 |\n",
       "|  2 | B | 1990-12-01 | 25 | 30 |\n",
       "|  3 | C | 1990-12-31 | 22 | 20 |\n",
       "|  4 | D | 1991-01-10 |  4 | 10 |\n",
       "|  5 | E | 1991-01-01 | 15 | 15 |\n",
       "|  6 | F | 1991-01-10 | 18 | 30 |\n",
       "|  7 | G | 1990-12-01 |  2 | 50 |\n",
       "|  8 | I | 1991-01-12 | 20 | 60 |\n",
       "|  9 | J | 1991-01-01 |  8 | 70 |\n",
       "| 10 | H | 1991-01-10 | 12 | 50 |\n",
       "| 11 | K | 1990-12-15 | 50 | 70 |\n",
       "| 12 | L | 1990-12-01 | 60 | 40 |\n",
       "| 13 | M | 1990-12-31 | 20 | 20 |\n",
       "| 14 | N | 1991-01-10 | 10 | 10 |\n",
       "| 15 | O | 1991-01-01 | 15 | 15 |\n",
       "| 16 | P | 1991-01-10 | 30 | 30 |\n",
       "| 17 | Q | 1990-12-01 | 50 | 50 |\n",
       "| 18 | U | 1991-01-12 | 60 | 60 |\n",
       "| 19 | V | 1991-01-01 | 40 | 40 |\n",
       "| 20 | W | 1991-01-10 | 50 | 50 |\n",
       "\n"
      ],
      "text/plain": [
       "   Roll_no names dob        maths Stats\n",
       "1   1      A     1990-12-15 18    40   \n",
       "2   2      B     1990-12-01 25    30   \n",
       "3   3      C     1990-12-31 22    20   \n",
       "4   4      D     1991-01-10  4    10   \n",
       "5   5      E     1991-01-01 15    15   \n",
       "6   6      F     1991-01-10 18    30   \n",
       "7   7      G     1990-12-01  2    50   \n",
       "8   8      I     1991-01-12 20    60   \n",
       "9   9      J     1991-01-01  8    70   \n",
       "10 10      H     1991-01-10 12    50   \n",
       "11 11      K     1990-12-15 50    70   \n",
       "12 12      L     1990-12-01 60    40   \n",
       "13 13      M     1990-12-31 20    20   \n",
       "14 14      N     1991-01-10 10    10   \n",
       "15 15      O     1991-01-01 15    15   \n",
       "16 16      P     1991-01-10 30    30   \n",
       "17 17      Q     1990-12-01 50    50   \n",
       "18 18      U     1991-01-12 60    60   \n",
       "19 19      V     1991-01-01 40    40   \n",
       "20 20      W     1991-01-10 50    50   "
      ]
     },
     "metadata": {},
     "output_type": "display_data"
    }
   ],
   "source": [
    "#Extracting consecutive rows/columns\n",
    "MA_First[7:10,]\n",
    "\n",
    "MA_First[,1:5]"
   ]
  },
  {
   "cell_type": "code",
   "execution_count": 179,
   "id": "34d7103e",
   "metadata": {},
   "outputs": [
    {
     "data": {
      "text/html": [
       "<style>\n",
       ".list-inline {list-style: none; margin:0; padding: 0}\n",
       ".list-inline>li {display: inline-block}\n",
       ".list-inline>li:not(:last-child)::after {content: \"\\00b7\"; padding: 0 .5ex}\n",
       "</style>\n",
       "<ol class=list-inline><li>11</li><li>12</li><li>11</li><li>5</li><li>50</li><li>60</li><li>4</li><li>20</li><li>9</li><li>19</li><li>20</li><li>20</li><li>30</li><li>70</li><li>15</li><li>50</li><li>30</li><li>20</li><li>40</li><li>60</li></ol>\n"
      ],
      "text/latex": [
       "\\begin{enumerate*}\n",
       "\\item 11\n",
       "\\item 12\n",
       "\\item 11\n",
       "\\item 5\n",
       "\\item 50\n",
       "\\item 60\n",
       "\\item 4\n",
       "\\item 20\n",
       "\\item 9\n",
       "\\item 19\n",
       "\\item 20\n",
       "\\item 20\n",
       "\\item 30\n",
       "\\item 70\n",
       "\\item 15\n",
       "\\item 50\n",
       "\\item 30\n",
       "\\item 20\n",
       "\\item 40\n",
       "\\item 60\n",
       "\\end{enumerate*}\n"
      ],
      "text/markdown": [
       "1. 11\n",
       "2. 12\n",
       "3. 11\n",
       "4. 5\n",
       "5. 50\n",
       "6. 60\n",
       "7. 4\n",
       "8. 20\n",
       "9. 9\n",
       "10. 19\n",
       "11. 20\n",
       "12. 20\n",
       "13. 30\n",
       "14. 70\n",
       "15. 15\n",
       "16. 50\n",
       "17. 30\n",
       "18. 20\n",
       "19. 40\n",
       "20. 60\n",
       "\n",
       "\n"
      ],
      "text/plain": [
       " [1] 11 12 11  5 50 60  4 20  9 19 20 20 30 70 15 50 30 20 40 60"
      ]
     },
     "metadata": {},
     "output_type": "display_data"
    },
    {
     "data": {
      "text/html": [
       "<style>\n",
       ".list-inline {list-style: none; margin:0; padding: 0}\n",
       ".list-inline>li {display: inline-block}\n",
       ".list-inline>li:not(:last-child)::after {content: \"\\00b7\"; padding: 0 .5ex}\n",
       "</style>\n",
       "<ol class=list-inline><li>18</li><li>25</li><li>22</li><li>4</li><li>15</li><li>18</li><li>2</li><li>20</li><li>8</li><li>12</li><li>50</li><li>60</li><li>20</li><li>10</li><li>15</li><li>30</li><li>50</li><li>60</li><li>40</li><li>50</li></ol>\n"
      ],
      "text/latex": [
       "\\begin{enumerate*}\n",
       "\\item 18\n",
       "\\item 25\n",
       "\\item 22\n",
       "\\item 4\n",
       "\\item 15\n",
       "\\item 18\n",
       "\\item 2\n",
       "\\item 20\n",
       "\\item 8\n",
       "\\item 12\n",
       "\\item 50\n",
       "\\item 60\n",
       "\\item 20\n",
       "\\item 10\n",
       "\\item 15\n",
       "\\item 30\n",
       "\\item 50\n",
       "\\item 60\n",
       "\\item 40\n",
       "\\item 50\n",
       "\\end{enumerate*}\n"
      ],
      "text/markdown": [
       "1. 18\n",
       "2. 25\n",
       "3. 22\n",
       "4. 4\n",
       "5. 15\n",
       "6. 18\n",
       "7. 2\n",
       "8. 20\n",
       "9. 8\n",
       "10. 12\n",
       "11. 50\n",
       "12. 60\n",
       "13. 20\n",
       "14. 10\n",
       "15. 15\n",
       "16. 30\n",
       "17. 50\n",
       "18. 60\n",
       "19. 40\n",
       "20. 50\n",
       "\n",
       "\n"
      ],
      "text/plain": [
       " [1] 18 25 22  4 15 18  2 20  8 12 50 60 20 10 15 30 50 60 40 50"
      ]
     },
     "metadata": {},
     "output_type": "display_data"
    },
    {
     "data": {
      "text/html": [
       "26.45"
      ],
      "text/latex": [
       "26.45"
      ],
      "text/markdown": [
       "26.45"
      ],
      "text/plain": [
       "[1] 26.45"
      ]
     },
     "metadata": {},
     "output_type": "display_data"
    },
    {
     "data": {
      "text/html": [
       "38"
      ],
      "text/latex": [
       "38"
      ],
      "text/markdown": [
       "38"
      ],
      "text/plain": [
       "[1] 38"
      ]
     },
     "metadata": {},
     "output_type": "display_data"
    }
   ],
   "source": [
    "#Alternative way to extract column/object by names\n",
    "MA_First$bstat\n",
    "\n",
    "MA_Result$maths\n",
    "\n",
    "mean(MA_Result$maths)\n",
    "mean(MA_Result$Stats)"
   ]
  },
  {
   "cell_type": "code",
   "execution_count": 180,
   "id": "9c7912e6",
   "metadata": {},
   "outputs": [
    {
     "name": "stderr",
     "output_type": "stream",
     "text": [
      "The following objects are masked _by_ .GlobalEnv:\n",
      "\n",
      "    bstat, dob, maths, micro, names, Roll_no, Stats, Trics\n",
      "\n",
      "\n"
     ]
    },
    {
     "data": {
      "text/html": [
       "<style>\n",
       ".list-inline {list-style: none; margin:0; padding: 0}\n",
       ".list-inline>li {display: inline-block}\n",
       ".list-inline>li:not(:last-child)::after {content: \"\\00b7\"; padding: 0 .5ex}\n",
       "</style>\n",
       "<ol class=list-inline><li>18</li><li>25</li><li>22</li><li>4</li><li>15</li><li>18</li><li>2</li><li>20</li><li>8</li><li>12</li><li>50</li><li>60</li><li>20</li><li>10</li><li>15</li><li>30</li><li>50</li><li>60</li><li>40</li><li>50</li></ol>\n"
      ],
      "text/latex": [
       "\\begin{enumerate*}\n",
       "\\item 18\n",
       "\\item 25\n",
       "\\item 22\n",
       "\\item 4\n",
       "\\item 15\n",
       "\\item 18\n",
       "\\item 2\n",
       "\\item 20\n",
       "\\item 8\n",
       "\\item 12\n",
       "\\item 50\n",
       "\\item 60\n",
       "\\item 20\n",
       "\\item 10\n",
       "\\item 15\n",
       "\\item 30\n",
       "\\item 50\n",
       "\\item 60\n",
       "\\item 40\n",
       "\\item 50\n",
       "\\end{enumerate*}\n"
      ],
      "text/markdown": [
       "1. 18\n",
       "2. 25\n",
       "3. 22\n",
       "4. 4\n",
       "5. 15\n",
       "6. 18\n",
       "7. 2\n",
       "8. 20\n",
       "9. 8\n",
       "10. 12\n",
       "11. 50\n",
       "12. 60\n",
       "13. 20\n",
       "14. 10\n",
       "15. 15\n",
       "16. 30\n",
       "17. 50\n",
       "18. 60\n",
       "19. 40\n",
       "20. 50\n",
       "\n",
       "\n"
      ],
      "text/plain": [
       " [1] 18 25 22  4 15 18  2 20  8 12 50 60 20 10 15 30 50 60 40 50"
      ]
     },
     "metadata": {},
     "output_type": "display_data"
    }
   ],
   "source": [
    "#You can attach data frame in your current environment working which \n",
    "#will help to use direct name of the object/Variable in syntax/command \n",
    "\n",
    "attach(MA_Result)\n",
    "maths"
   ]
  },
  {
   "cell_type": "code",
   "execution_count": 181,
   "id": "71034041",
   "metadata": {},
   "outputs": [
    {
     "data": {
      "text/html": [
       "<table class=\"dataframe\">\n",
       "<caption>A data.frame: 6 × 8</caption>\n",
       "<thead>\n",
       "\t<tr><th></th><th scope=col>Roll_no</th><th scope=col>names</th><th scope=col>dob</th><th scope=col>maths</th><th scope=col>Stats</th><th scope=col>Trics</th><th scope=col>micro</th><th scope=col>bstat</th></tr>\n",
       "\t<tr><th></th><th scope=col>&lt;dbl&gt;</th><th scope=col>&lt;chr&gt;</th><th scope=col>&lt;date&gt;</th><th scope=col>&lt;dbl&gt;</th><th scope=col>&lt;dbl&gt;</th><th scope=col>&lt;dbl&gt;</th><th scope=col>&lt;dbl&gt;</th><th scope=col>&lt;dbl&gt;</th></tr>\n",
       "</thead>\n",
       "<tbody>\n",
       "\t<tr><th scope=row>1</th><td>1</td><td>A</td><td>1990-12-15</td><td>18</td><td>40</td><td>10</td><td>20</td><td>11</td></tr>\n",
       "\t<tr><th scope=row>2</th><td>2</td><td>B</td><td>1990-12-01</td><td>25</td><td>30</td><td>15</td><td>25</td><td>12</td></tr>\n",
       "\t<tr><th scope=row>3</th><td>3</td><td>C</td><td>1990-12-31</td><td>22</td><td>20</td><td>30</td><td>14</td><td>11</td></tr>\n",
       "\t<tr><th scope=row>4</th><td>4</td><td>D</td><td>1991-01-10</td><td> 4</td><td>10</td><td>50</td><td>14</td><td> 5</td></tr>\n",
       "\t<tr><th scope=row>5</th><td>5</td><td>E</td><td>1991-01-01</td><td>15</td><td>15</td><td>60</td><td>11</td><td>50</td></tr>\n",
       "\t<tr><th scope=row>6</th><td>6</td><td>F</td><td>1991-01-10</td><td>18</td><td>30</td><td>20</td><td>12</td><td>60</td></tr>\n",
       "</tbody>\n",
       "</table>\n"
      ],
      "text/latex": [
       "A data.frame: 6 × 8\n",
       "\\begin{tabular}{r|llllllll}\n",
       "  & Roll\\_no & names & dob & maths & Stats & Trics & micro & bstat\\\\\n",
       "  & <dbl> & <chr> & <date> & <dbl> & <dbl> & <dbl> & <dbl> & <dbl>\\\\\n",
       "\\hline\n",
       "\t1 & 1 & A & 1990-12-15 & 18 & 40 & 10 & 20 & 11\\\\\n",
       "\t2 & 2 & B & 1990-12-01 & 25 & 30 & 15 & 25 & 12\\\\\n",
       "\t3 & 3 & C & 1990-12-31 & 22 & 20 & 30 & 14 & 11\\\\\n",
       "\t4 & 4 & D & 1991-01-10 &  4 & 10 & 50 & 14 &  5\\\\\n",
       "\t5 & 5 & E & 1991-01-01 & 15 & 15 & 60 & 11 & 50\\\\\n",
       "\t6 & 6 & F & 1991-01-10 & 18 & 30 & 20 & 12 & 60\\\\\n",
       "\\end{tabular}\n"
      ],
      "text/markdown": [
       "\n",
       "A data.frame: 6 × 8\n",
       "\n",
       "| <!--/--> | Roll_no &lt;dbl&gt; | names &lt;chr&gt; | dob &lt;date&gt; | maths &lt;dbl&gt; | Stats &lt;dbl&gt; | Trics &lt;dbl&gt; | micro &lt;dbl&gt; | bstat &lt;dbl&gt; |\n",
       "|---|---|---|---|---|---|---|---|---|\n",
       "| 1 | 1 | A | 1990-12-15 | 18 | 40 | 10 | 20 | 11 |\n",
       "| 2 | 2 | B | 1990-12-01 | 25 | 30 | 15 | 25 | 12 |\n",
       "| 3 | 3 | C | 1990-12-31 | 22 | 20 | 30 | 14 | 11 |\n",
       "| 4 | 4 | D | 1991-01-10 |  4 | 10 | 50 | 14 |  5 |\n",
       "| 5 | 5 | E | 1991-01-01 | 15 | 15 | 60 | 11 | 50 |\n",
       "| 6 | 6 | F | 1991-01-10 | 18 | 30 | 20 | 12 | 60 |\n",
       "\n"
      ],
      "text/plain": [
       "  Roll_no names dob        maths Stats Trics micro bstat\n",
       "1 1       A     1990-12-15 18    40    10    20    11   \n",
       "2 2       B     1990-12-01 25    30    15    25    12   \n",
       "3 3       C     1990-12-31 22    20    30    14    11   \n",
       "4 4       D     1991-01-10  4    10    50    14     5   \n",
       "5 5       E     1991-01-01 15    15    60    11    50   \n",
       "6 6       F     1991-01-10 18    30    20    12    60   "
      ]
     },
     "metadata": {},
     "output_type": "display_data"
    }
   ],
   "source": [
    "#To call first 6 observation of data frame\n",
    "head(MA_Result)"
   ]
  },
  {
   "cell_type": "code",
   "execution_count": 182,
   "id": "4c3a289e",
   "metadata": {},
   "outputs": [
    {
     "data": {
      "text/html": [
       "<table class=\"dataframe\">\n",
       "<caption>A data.frame: 10 × 8</caption>\n",
       "<thead>\n",
       "\t<tr><th></th><th scope=col>Roll_no</th><th scope=col>names</th><th scope=col>dob</th><th scope=col>maths</th><th scope=col>Stats</th><th scope=col>Trics</th><th scope=col>micro</th><th scope=col>bstat</th></tr>\n",
       "\t<tr><th></th><th scope=col>&lt;dbl&gt;</th><th scope=col>&lt;chr&gt;</th><th scope=col>&lt;date&gt;</th><th scope=col>&lt;dbl&gt;</th><th scope=col>&lt;dbl&gt;</th><th scope=col>&lt;dbl&gt;</th><th scope=col>&lt;dbl&gt;</th><th scope=col>&lt;dbl&gt;</th></tr>\n",
       "</thead>\n",
       "<tbody>\n",
       "\t<tr><th scope=row>1</th><td> 1</td><td>A</td><td>1990-12-15</td><td>18</td><td>40</td><td>10</td><td>20</td><td>11</td></tr>\n",
       "\t<tr><th scope=row>2</th><td> 2</td><td>B</td><td>1990-12-01</td><td>25</td><td>30</td><td>15</td><td>25</td><td>12</td></tr>\n",
       "\t<tr><th scope=row>3</th><td> 3</td><td>C</td><td>1990-12-31</td><td>22</td><td>20</td><td>30</td><td>14</td><td>11</td></tr>\n",
       "\t<tr><th scope=row>4</th><td> 4</td><td>D</td><td>1991-01-10</td><td> 4</td><td>10</td><td>50</td><td>14</td><td> 5</td></tr>\n",
       "\t<tr><th scope=row>5</th><td> 5</td><td>E</td><td>1991-01-01</td><td>15</td><td>15</td><td>60</td><td>11</td><td>50</td></tr>\n",
       "\t<tr><th scope=row>6</th><td> 6</td><td>F</td><td>1991-01-10</td><td>18</td><td>30</td><td>20</td><td>12</td><td>60</td></tr>\n",
       "\t<tr><th scope=row>7</th><td> 7</td><td>G</td><td>1990-12-01</td><td> 2</td><td>50</td><td>10</td><td>10</td><td> 4</td></tr>\n",
       "\t<tr><th scope=row>8</th><td> 8</td><td>I</td><td>1991-01-12</td><td>20</td><td>60</td><td>15</td><td>16</td><td>20</td></tr>\n",
       "\t<tr><th scope=row>9</th><td> 9</td><td>J</td><td>1991-01-01</td><td> 8</td><td>70</td><td>30</td><td> 9</td><td> 9</td></tr>\n",
       "\t<tr><th scope=row>10</th><td>10</td><td>H</td><td>1991-01-10</td><td>12</td><td>50</td><td>40</td><td>11</td><td>19</td></tr>\n",
       "</tbody>\n",
       "</table>\n"
      ],
      "text/latex": [
       "A data.frame: 10 × 8\n",
       "\\begin{tabular}{r|llllllll}\n",
       "  & Roll\\_no & names & dob & maths & Stats & Trics & micro & bstat\\\\\n",
       "  & <dbl> & <chr> & <date> & <dbl> & <dbl> & <dbl> & <dbl> & <dbl>\\\\\n",
       "\\hline\n",
       "\t1 &  1 & A & 1990-12-15 & 18 & 40 & 10 & 20 & 11\\\\\n",
       "\t2 &  2 & B & 1990-12-01 & 25 & 30 & 15 & 25 & 12\\\\\n",
       "\t3 &  3 & C & 1990-12-31 & 22 & 20 & 30 & 14 & 11\\\\\n",
       "\t4 &  4 & D & 1991-01-10 &  4 & 10 & 50 & 14 &  5\\\\\n",
       "\t5 &  5 & E & 1991-01-01 & 15 & 15 & 60 & 11 & 50\\\\\n",
       "\t6 &  6 & F & 1991-01-10 & 18 & 30 & 20 & 12 & 60\\\\\n",
       "\t7 &  7 & G & 1990-12-01 &  2 & 50 & 10 & 10 &  4\\\\\n",
       "\t8 &  8 & I & 1991-01-12 & 20 & 60 & 15 & 16 & 20\\\\\n",
       "\t9 &  9 & J & 1991-01-01 &  8 & 70 & 30 &  9 &  9\\\\\n",
       "\t10 & 10 & H & 1991-01-10 & 12 & 50 & 40 & 11 & 19\\\\\n",
       "\\end{tabular}\n"
      ],
      "text/markdown": [
       "\n",
       "A data.frame: 10 × 8\n",
       "\n",
       "| <!--/--> | Roll_no &lt;dbl&gt; | names &lt;chr&gt; | dob &lt;date&gt; | maths &lt;dbl&gt; | Stats &lt;dbl&gt; | Trics &lt;dbl&gt; | micro &lt;dbl&gt; | bstat &lt;dbl&gt; |\n",
       "|---|---|---|---|---|---|---|---|---|\n",
       "| 1 |  1 | A | 1990-12-15 | 18 | 40 | 10 | 20 | 11 |\n",
       "| 2 |  2 | B | 1990-12-01 | 25 | 30 | 15 | 25 | 12 |\n",
       "| 3 |  3 | C | 1990-12-31 | 22 | 20 | 30 | 14 | 11 |\n",
       "| 4 |  4 | D | 1991-01-10 |  4 | 10 | 50 | 14 |  5 |\n",
       "| 5 |  5 | E | 1991-01-01 | 15 | 15 | 60 | 11 | 50 |\n",
       "| 6 |  6 | F | 1991-01-10 | 18 | 30 | 20 | 12 | 60 |\n",
       "| 7 |  7 | G | 1990-12-01 |  2 | 50 | 10 | 10 |  4 |\n",
       "| 8 |  8 | I | 1991-01-12 | 20 | 60 | 15 | 16 | 20 |\n",
       "| 9 |  9 | J | 1991-01-01 |  8 | 70 | 30 |  9 |  9 |\n",
       "| 10 | 10 | H | 1991-01-10 | 12 | 50 | 40 | 11 | 19 |\n",
       "\n"
      ],
      "text/plain": [
       "   Roll_no names dob        maths Stats Trics micro bstat\n",
       "1   1      A     1990-12-15 18    40    10    20    11   \n",
       "2   2      B     1990-12-01 25    30    15    25    12   \n",
       "3   3      C     1990-12-31 22    20    30    14    11   \n",
       "4   4      D     1991-01-10  4    10    50    14     5   \n",
       "5   5      E     1991-01-01 15    15    60    11    50   \n",
       "6   6      F     1991-01-10 18    30    20    12    60   \n",
       "7   7      G     1990-12-01  2    50    10    10     4   \n",
       "8   8      I     1991-01-12 20    60    15    16    20   \n",
       "9   9      J     1991-01-01  8    70    30     9     9   \n",
       "10 10      H     1991-01-10 12    50    40    11    19   "
      ]
     },
     "metadata": {},
     "output_type": "display_data"
    }
   ],
   "source": [
    "# To call first 10 observation of data frame\n",
    "head(MA_Result,10)"
   ]
  },
  {
   "cell_type": "code",
   "execution_count": 183,
   "id": "2e2f8298",
   "metadata": {},
   "outputs": [
    {
     "data": {
      "text/html": [
       "<table class=\"dataframe\">\n",
       "<caption>A data.frame: 6 × 8</caption>\n",
       "<thead>\n",
       "\t<tr><th></th><th scope=col>Roll_no</th><th scope=col>names</th><th scope=col>dob</th><th scope=col>maths</th><th scope=col>Stats</th><th scope=col>Trics</th><th scope=col>micro</th><th scope=col>bstat</th></tr>\n",
       "\t<tr><th></th><th scope=col>&lt;dbl&gt;</th><th scope=col>&lt;chr&gt;</th><th scope=col>&lt;date&gt;</th><th scope=col>&lt;dbl&gt;</th><th scope=col>&lt;dbl&gt;</th><th scope=col>&lt;dbl&gt;</th><th scope=col>&lt;dbl&gt;</th><th scope=col>&lt;dbl&gt;</th></tr>\n",
       "</thead>\n",
       "<tbody>\n",
       "\t<tr><th scope=row>15</th><td>15</td><td>O</td><td>1991-01-01</td><td>15</td><td>15</td><td>15</td><td>15</td><td>15</td></tr>\n",
       "\t<tr><th scope=row>16</th><td>16</td><td>P</td><td>1991-01-10</td><td>30</td><td>30</td><td>30</td><td>30</td><td>50</td></tr>\n",
       "\t<tr><th scope=row>17</th><td>17</td><td>Q</td><td>1990-12-01</td><td>50</td><td>50</td><td>50</td><td>50</td><td>30</td></tr>\n",
       "\t<tr><th scope=row>18</th><td>18</td><td>U</td><td>1991-01-12</td><td>60</td><td>60</td><td>60</td><td>60</td><td>20</td></tr>\n",
       "\t<tr><th scope=row>19</th><td>19</td><td>V</td><td>1991-01-01</td><td>40</td><td>40</td><td>40</td><td>40</td><td>40</td></tr>\n",
       "\t<tr><th scope=row>20</th><td>20</td><td>W</td><td>1991-01-10</td><td>50</td><td>50</td><td>50</td><td>50</td><td>60</td></tr>\n",
       "</tbody>\n",
       "</table>\n"
      ],
      "text/latex": [
       "A data.frame: 6 × 8\n",
       "\\begin{tabular}{r|llllllll}\n",
       "  & Roll\\_no & names & dob & maths & Stats & Trics & micro & bstat\\\\\n",
       "  & <dbl> & <chr> & <date> & <dbl> & <dbl> & <dbl> & <dbl> & <dbl>\\\\\n",
       "\\hline\n",
       "\t15 & 15 & O & 1991-01-01 & 15 & 15 & 15 & 15 & 15\\\\\n",
       "\t16 & 16 & P & 1991-01-10 & 30 & 30 & 30 & 30 & 50\\\\\n",
       "\t17 & 17 & Q & 1990-12-01 & 50 & 50 & 50 & 50 & 30\\\\\n",
       "\t18 & 18 & U & 1991-01-12 & 60 & 60 & 60 & 60 & 20\\\\\n",
       "\t19 & 19 & V & 1991-01-01 & 40 & 40 & 40 & 40 & 40\\\\\n",
       "\t20 & 20 & W & 1991-01-10 & 50 & 50 & 50 & 50 & 60\\\\\n",
       "\\end{tabular}\n"
      ],
      "text/markdown": [
       "\n",
       "A data.frame: 6 × 8\n",
       "\n",
       "| <!--/--> | Roll_no &lt;dbl&gt; | names &lt;chr&gt; | dob &lt;date&gt; | maths &lt;dbl&gt; | Stats &lt;dbl&gt; | Trics &lt;dbl&gt; | micro &lt;dbl&gt; | bstat &lt;dbl&gt; |\n",
       "|---|---|---|---|---|---|---|---|---|\n",
       "| 15 | 15 | O | 1991-01-01 | 15 | 15 | 15 | 15 | 15 |\n",
       "| 16 | 16 | P | 1991-01-10 | 30 | 30 | 30 | 30 | 50 |\n",
       "| 17 | 17 | Q | 1990-12-01 | 50 | 50 | 50 | 50 | 30 |\n",
       "| 18 | 18 | U | 1991-01-12 | 60 | 60 | 60 | 60 | 20 |\n",
       "| 19 | 19 | V | 1991-01-01 | 40 | 40 | 40 | 40 | 40 |\n",
       "| 20 | 20 | W | 1991-01-10 | 50 | 50 | 50 | 50 | 60 |\n",
       "\n"
      ],
      "text/plain": [
       "   Roll_no names dob        maths Stats Trics micro bstat\n",
       "15 15      O     1991-01-01 15    15    15    15    15   \n",
       "16 16      P     1991-01-10 30    30    30    30    50   \n",
       "17 17      Q     1990-12-01 50    50    50    50    30   \n",
       "18 18      U     1991-01-12 60    60    60    60    20   \n",
       "19 19      V     1991-01-01 40    40    40    40    40   \n",
       "20 20      W     1991-01-10 50    50    50    50    60   "
      ]
     },
     "metadata": {},
     "output_type": "display_data"
    }
   ],
   "source": [
    "#To call last 6 observation of data frame\n",
    "tail(MA_Result)"
   ]
  },
  {
   "cell_type": "code",
   "execution_count": 184,
   "id": "eba93e0c",
   "metadata": {},
   "outputs": [
    {
     "data": {
      "text/html": [
       "<table class=\"dataframe\">\n",
       "<caption>A data.frame: 10 × 8</caption>\n",
       "<thead>\n",
       "\t<tr><th></th><th scope=col>Roll_no</th><th scope=col>names</th><th scope=col>dob</th><th scope=col>maths</th><th scope=col>Stats</th><th scope=col>Trics</th><th scope=col>micro</th><th scope=col>bstat</th></tr>\n",
       "\t<tr><th></th><th scope=col>&lt;dbl&gt;</th><th scope=col>&lt;chr&gt;</th><th scope=col>&lt;date&gt;</th><th scope=col>&lt;dbl&gt;</th><th scope=col>&lt;dbl&gt;</th><th scope=col>&lt;dbl&gt;</th><th scope=col>&lt;dbl&gt;</th><th scope=col>&lt;dbl&gt;</th></tr>\n",
       "</thead>\n",
       "<tbody>\n",
       "\t<tr><th scope=row>11</th><td>11</td><td>K</td><td>1990-12-15</td><td>50</td><td>70</td><td>50</td><td>50</td><td>20</td></tr>\n",
       "\t<tr><th scope=row>12</th><td>12</td><td>L</td><td>1990-12-01</td><td>60</td><td>40</td><td>60</td><td>60</td><td>20</td></tr>\n",
       "\t<tr><th scope=row>13</th><td>13</td><td>M</td><td>1990-12-31</td><td>20</td><td>20</td><td>20</td><td>20</td><td>30</td></tr>\n",
       "\t<tr><th scope=row>14</th><td>14</td><td>N</td><td>1991-01-10</td><td>10</td><td>10</td><td>10</td><td>10</td><td>70</td></tr>\n",
       "\t<tr><th scope=row>15</th><td>15</td><td>O</td><td>1991-01-01</td><td>15</td><td>15</td><td>15</td><td>15</td><td>15</td></tr>\n",
       "\t<tr><th scope=row>16</th><td>16</td><td>P</td><td>1991-01-10</td><td>30</td><td>30</td><td>30</td><td>30</td><td>50</td></tr>\n",
       "\t<tr><th scope=row>17</th><td>17</td><td>Q</td><td>1990-12-01</td><td>50</td><td>50</td><td>50</td><td>50</td><td>30</td></tr>\n",
       "\t<tr><th scope=row>18</th><td>18</td><td>U</td><td>1991-01-12</td><td>60</td><td>60</td><td>60</td><td>60</td><td>20</td></tr>\n",
       "\t<tr><th scope=row>19</th><td>19</td><td>V</td><td>1991-01-01</td><td>40</td><td>40</td><td>40</td><td>40</td><td>40</td></tr>\n",
       "\t<tr><th scope=row>20</th><td>20</td><td>W</td><td>1991-01-10</td><td>50</td><td>50</td><td>50</td><td>50</td><td>60</td></tr>\n",
       "</tbody>\n",
       "</table>\n"
      ],
      "text/latex": [
       "A data.frame: 10 × 8\n",
       "\\begin{tabular}{r|llllllll}\n",
       "  & Roll\\_no & names & dob & maths & Stats & Trics & micro & bstat\\\\\n",
       "  & <dbl> & <chr> & <date> & <dbl> & <dbl> & <dbl> & <dbl> & <dbl>\\\\\n",
       "\\hline\n",
       "\t11 & 11 & K & 1990-12-15 & 50 & 70 & 50 & 50 & 20\\\\\n",
       "\t12 & 12 & L & 1990-12-01 & 60 & 40 & 60 & 60 & 20\\\\\n",
       "\t13 & 13 & M & 1990-12-31 & 20 & 20 & 20 & 20 & 30\\\\\n",
       "\t14 & 14 & N & 1991-01-10 & 10 & 10 & 10 & 10 & 70\\\\\n",
       "\t15 & 15 & O & 1991-01-01 & 15 & 15 & 15 & 15 & 15\\\\\n",
       "\t16 & 16 & P & 1991-01-10 & 30 & 30 & 30 & 30 & 50\\\\\n",
       "\t17 & 17 & Q & 1990-12-01 & 50 & 50 & 50 & 50 & 30\\\\\n",
       "\t18 & 18 & U & 1991-01-12 & 60 & 60 & 60 & 60 & 20\\\\\n",
       "\t19 & 19 & V & 1991-01-01 & 40 & 40 & 40 & 40 & 40\\\\\n",
       "\t20 & 20 & W & 1991-01-10 & 50 & 50 & 50 & 50 & 60\\\\\n",
       "\\end{tabular}\n"
      ],
      "text/markdown": [
       "\n",
       "A data.frame: 10 × 8\n",
       "\n",
       "| <!--/--> | Roll_no &lt;dbl&gt; | names &lt;chr&gt; | dob &lt;date&gt; | maths &lt;dbl&gt; | Stats &lt;dbl&gt; | Trics &lt;dbl&gt; | micro &lt;dbl&gt; | bstat &lt;dbl&gt; |\n",
       "|---|---|---|---|---|---|---|---|---|\n",
       "| 11 | 11 | K | 1990-12-15 | 50 | 70 | 50 | 50 | 20 |\n",
       "| 12 | 12 | L | 1990-12-01 | 60 | 40 | 60 | 60 | 20 |\n",
       "| 13 | 13 | M | 1990-12-31 | 20 | 20 | 20 | 20 | 30 |\n",
       "| 14 | 14 | N | 1991-01-10 | 10 | 10 | 10 | 10 | 70 |\n",
       "| 15 | 15 | O | 1991-01-01 | 15 | 15 | 15 | 15 | 15 |\n",
       "| 16 | 16 | P | 1991-01-10 | 30 | 30 | 30 | 30 | 50 |\n",
       "| 17 | 17 | Q | 1990-12-01 | 50 | 50 | 50 | 50 | 30 |\n",
       "| 18 | 18 | U | 1991-01-12 | 60 | 60 | 60 | 60 | 20 |\n",
       "| 19 | 19 | V | 1991-01-01 | 40 | 40 | 40 | 40 | 40 |\n",
       "| 20 | 20 | W | 1991-01-10 | 50 | 50 | 50 | 50 | 60 |\n",
       "\n"
      ],
      "text/plain": [
       "   Roll_no names dob        maths Stats Trics micro bstat\n",
       "11 11      K     1990-12-15 50    70    50    50    20   \n",
       "12 12      L     1990-12-01 60    40    60    60    20   \n",
       "13 13      M     1990-12-31 20    20    20    20    30   \n",
       "14 14      N     1991-01-10 10    10    10    10    70   \n",
       "15 15      O     1991-01-01 15    15    15    15    15   \n",
       "16 16      P     1991-01-10 30    30    30    30    50   \n",
       "17 17      Q     1990-12-01 50    50    50    50    30   \n",
       "18 18      U     1991-01-12 60    60    60    60    20   \n",
       "19 19      V     1991-01-01 40    40    40    40    40   \n",
       "20 20      W     1991-01-10 50    50    50    50    60   "
      ]
     },
     "metadata": {},
     "output_type": "display_data"
    }
   ],
   "source": [
    "#To call last 10 observation of data frame\n",
    "tail(MA_Result,10)"
   ]
  },
  {
   "cell_type": "markdown",
   "id": "56aa5add",
   "metadata": {},
   "source": [
    "## Alternative way to create Data frame"
   ]
  },
  {
   "cell_type": "code",
   "execution_count": 2,
   "id": "4390bf1b",
   "metadata": {},
   "outputs": [
    {
     "data": {
      "text/html": [
       "<table class=\"dataframe\">\n",
       "<caption>A data.frame: 10 × 9</caption>\n",
       "<thead>\n",
       "\t<tr><th scope=col>Roll_no</th><th scope=col>names</th><th scope=col>dob</th><th scope=col>bstat</th><th scope=col>btrics</th><th scope=col>micro</th><th scope=col>maths</th><th scope=col>macro</th><th scope=col>sex</th></tr>\n",
       "\t<tr><th scope=col>&lt;dbl&gt;</th><th scope=col>&lt;chr&gt;</th><th scope=col>&lt;date&gt;</th><th scope=col>&lt;dbl&gt;</th><th scope=col>&lt;dbl&gt;</th><th scope=col>&lt;dbl&gt;</th><th scope=col>&lt;dbl&gt;</th><th scope=col>&lt;dbl&gt;</th><th scope=col>&lt;chr&gt;</th></tr>\n",
       "</thead>\n",
       "<tbody>\n",
       "\t<tr><td>121</td><td>A</td><td>1990-12-15</td><td>28</td><td>25</td><td>20</td><td>18</td><td>18</td><td>M</td></tr>\n",
       "\t<tr><td>122</td><td>B</td><td>1990-12-01</td><td>20</td><td>21</td><td>25</td><td>25</td><td>25</td><td>F</td></tr>\n",
       "\t<tr><td>123</td><td>C</td><td>1990-12-31</td><td>21</td><td>16</td><td>14</td><td>22</td><td>22</td><td>F</td></tr>\n",
       "\t<tr><td>124</td><td>D</td><td>1991-01-10</td><td> 6</td><td> 9</td><td>14</td><td> 4</td><td> 4</td><td>M</td></tr>\n",
       "\t<tr><td>125</td><td>E</td><td>1991-01-01</td><td>20</td><td>16</td><td>11</td><td>15</td><td>15</td><td>M</td></tr>\n",
       "\t<tr><td>126</td><td>F</td><td>1991-01-10</td><td>15</td><td>20</td><td>12</td><td>18</td><td>18</td><td>F</td></tr>\n",
       "\t<tr><td>127</td><td>G</td><td>1990-12-01</td><td> 4</td><td> 6</td><td>10</td><td> 2</td><td> 2</td><td>F</td></tr>\n",
       "\t<tr><td>128</td><td>I</td><td>1991-01-12</td><td>18</td><td>22</td><td>16</td><td>20</td><td>20</td><td>M</td></tr>\n",
       "\t<tr><td>129</td><td>J</td><td>1991-01-01</td><td> 9</td><td>12</td><td> 9</td><td> 8</td><td> 8</td><td>F</td></tr>\n",
       "\t<tr><td>130</td><td>H</td><td>1991-01-10</td><td>12</td><td>10</td><td>11</td><td>12</td><td>12</td><td>F</td></tr>\n",
       "</tbody>\n",
       "</table>\n"
      ],
      "text/latex": [
       "A data.frame: 10 × 9\n",
       "\\begin{tabular}{lllllllll}\n",
       " Roll\\_no & names & dob & bstat & btrics & micro & maths & macro & sex\\\\\n",
       " <dbl> & <chr> & <date> & <dbl> & <dbl> & <dbl> & <dbl> & <dbl> & <chr>\\\\\n",
       "\\hline\n",
       "\t 121 & A & 1990-12-15 & 28 & 25 & 20 & 18 & 18 & M\\\\\n",
       "\t 122 & B & 1990-12-01 & 20 & 21 & 25 & 25 & 25 & F\\\\\n",
       "\t 123 & C & 1990-12-31 & 21 & 16 & 14 & 22 & 22 & F\\\\\n",
       "\t 124 & D & 1991-01-10 &  6 &  9 & 14 &  4 &  4 & M\\\\\n",
       "\t 125 & E & 1991-01-01 & 20 & 16 & 11 & 15 & 15 & M\\\\\n",
       "\t 126 & F & 1991-01-10 & 15 & 20 & 12 & 18 & 18 & F\\\\\n",
       "\t 127 & G & 1990-12-01 &  4 &  6 & 10 &  2 &  2 & F\\\\\n",
       "\t 128 & I & 1991-01-12 & 18 & 22 & 16 & 20 & 20 & M\\\\\n",
       "\t 129 & J & 1991-01-01 &  9 & 12 &  9 &  8 &  8 & F\\\\\n",
       "\t 130 & H & 1991-01-10 & 12 & 10 & 11 & 12 & 12 & F\\\\\n",
       "\\end{tabular}\n"
      ],
      "text/markdown": [
       "\n",
       "A data.frame: 10 × 9\n",
       "\n",
       "| Roll_no &lt;dbl&gt; | names &lt;chr&gt; | dob &lt;date&gt; | bstat &lt;dbl&gt; | btrics &lt;dbl&gt; | micro &lt;dbl&gt; | maths &lt;dbl&gt; | macro &lt;dbl&gt; | sex &lt;chr&gt; |\n",
       "|---|---|---|---|---|---|---|---|---|\n",
       "| 121 | A | 1990-12-15 | 28 | 25 | 20 | 18 | 18 | M |\n",
       "| 122 | B | 1990-12-01 | 20 | 21 | 25 | 25 | 25 | F |\n",
       "| 123 | C | 1990-12-31 | 21 | 16 | 14 | 22 | 22 | F |\n",
       "| 124 | D | 1991-01-10 |  6 |  9 | 14 |  4 |  4 | M |\n",
       "| 125 | E | 1991-01-01 | 20 | 16 | 11 | 15 | 15 | M |\n",
       "| 126 | F | 1991-01-10 | 15 | 20 | 12 | 18 | 18 | F |\n",
       "| 127 | G | 1990-12-01 |  4 |  6 | 10 |  2 |  2 | F |\n",
       "| 128 | I | 1991-01-12 | 18 | 22 | 16 | 20 | 20 | M |\n",
       "| 129 | J | 1991-01-01 |  9 | 12 |  9 |  8 |  8 | F |\n",
       "| 130 | H | 1991-01-10 | 12 | 10 | 11 | 12 | 12 | F |\n",
       "\n"
      ],
      "text/plain": [
       "   Roll_no names dob        bstat btrics micro maths macro sex\n",
       "1  121     A     1990-12-15 28    25     20    18    18    M  \n",
       "2  122     B     1990-12-01 20    21     25    25    25    F  \n",
       "3  123     C     1990-12-31 21    16     14    22    22    F  \n",
       "4  124     D     1991-01-10  6     9     14     4     4    M  \n",
       "5  125     E     1991-01-01 20    16     11    15    15    M  \n",
       "6  126     F     1991-01-10 15    20     12    18    18    F  \n",
       "7  127     G     1990-12-01  4     6     10     2     2    F  \n",
       "8  128     I     1991-01-12 18    22     16    20    20    M  \n",
       "9  129     J     1991-01-01  9    12      9     8     8    F  \n",
       "10 130     H     1991-01-10 12    10     11    12    12    F  "
      ]
     },
     "metadata": {},
     "output_type": "display_data"
    }
   ],
   "source": [
    "date1 <- c(\"15/12/1990\",\"01/12/1990\",\"31/12/1990\",\"10/01/1991\",\n",
    "          \"01/01/1991\",\"10/01/1991\",\"01/12/1990\",\"12/01/1991\",\n",
    "          \"01/01/1991\",\"10/01/1991\")\n",
    "\n",
    "MA_First <- data.frame(\n",
    "  Roll_no = seq(from=121,to=130,by=1),\n",
    "  names = c(\"A\",\"B\",\"C\",\"D\",\"E\",\"F\",\"G\",\"I\",\"J\", \"H\"),\n",
    "  dob =as.Date(date1,\"%d/%m/%Y\"),\n",
    "  bstat =c(28,20,21,6,20,15,4,18,9,12),\n",
    "  btrics = c(25,21,16,9,16,20,6,22,12,10),\n",
    "  micro = c(20,25,14,14,11,12,10,16,9,11),\n",
    "  maths = c(18,25,22,4,15,18,2,20,8,12),\n",
    "  macro = c(18,25,22,4,15,18,2,20,8,12),\n",
    "  sex = c(\"M\",\"F\",\"F\",\"M\",\"M\",\"F\",\"F\",\"M\",\"F\",\"F\"))\n",
    "MA_First"
   ]
  },
  {
   "cell_type": "code",
   "execution_count": 186,
   "id": "6de4e9c6",
   "metadata": {},
   "outputs": [
    {
     "data": {
      "text/html": [
       "<table class=\"dataframe\">\n",
       "<caption>A data.frame: 10 × 11</caption>\n",
       "<thead>\n",
       "\t<tr><th scope=col>Roll_no</th><th scope=col>names</th><th scope=col>dob</th><th scope=col>bstat</th><th scope=col>btrics</th><th scope=col>micro</th><th scope=col>maths</th><th scope=col>macro</th><th scope=col>sex</th><th scope=col>V10</th><th scope=col>University</th></tr>\n",
       "\t<tr><th scope=col>&lt;dbl&gt;</th><th scope=col>&lt;chr&gt;</th><th scope=col>&lt;date&gt;</th><th scope=col>&lt;dbl&gt;</th><th scope=col>&lt;dbl&gt;</th><th scope=col>&lt;dbl&gt;</th><th scope=col>&lt;dbl&gt;</th><th scope=col>&lt;dbl&gt;</th><th scope=col>&lt;chr&gt;</th><th scope=col>&lt;chr&gt;</th><th scope=col>&lt;chr&gt;</th></tr>\n",
       "</thead>\n",
       "<tbody>\n",
       "\t<tr><td>121</td><td>A</td><td>1990-12-15</td><td>28</td><td>25</td><td>20</td><td>18</td><td>18</td><td>M</td><td>DU</td><td>DU</td></tr>\n",
       "\t<tr><td>122</td><td>B</td><td>1990-12-01</td><td>20</td><td>21</td><td>25</td><td>25</td><td>25</td><td>F</td><td>DU</td><td>DU</td></tr>\n",
       "\t<tr><td>123</td><td>C</td><td>1990-12-31</td><td>21</td><td>16</td><td>14</td><td>22</td><td>22</td><td>F</td><td>DU</td><td>DU</td></tr>\n",
       "\t<tr><td>124</td><td>D</td><td>1991-01-10</td><td> 6</td><td> 9</td><td>14</td><td> 4</td><td> 4</td><td>M</td><td>DU</td><td>DU</td></tr>\n",
       "\t<tr><td>125</td><td>E</td><td>1991-01-01</td><td>20</td><td>16</td><td>11</td><td>15</td><td>15</td><td>M</td><td>DU</td><td>DU</td></tr>\n",
       "\t<tr><td>126</td><td>F</td><td>1991-01-10</td><td>15</td><td>20</td><td>12</td><td>18</td><td>18</td><td>F</td><td>DU</td><td>DU</td></tr>\n",
       "\t<tr><td>127</td><td>G</td><td>1990-12-01</td><td> 4</td><td> 6</td><td>10</td><td> 2</td><td> 2</td><td>F</td><td>DU</td><td>DU</td></tr>\n",
       "\t<tr><td>128</td><td>I</td><td>1991-01-12</td><td>18</td><td>22</td><td>16</td><td>20</td><td>20</td><td>M</td><td>DU</td><td>DU</td></tr>\n",
       "\t<tr><td>129</td><td>J</td><td>1991-01-01</td><td> 9</td><td>12</td><td> 9</td><td> 8</td><td> 8</td><td>F</td><td>DU</td><td>DU</td></tr>\n",
       "\t<tr><td>130</td><td>H</td><td>1991-01-10</td><td>12</td><td>10</td><td>11</td><td>12</td><td>12</td><td>F</td><td>DU</td><td>DU</td></tr>\n",
       "</tbody>\n",
       "</table>\n"
      ],
      "text/latex": [
       "A data.frame: 10 × 11\n",
       "\\begin{tabular}{lllllllllll}\n",
       " Roll\\_no & names & dob & bstat & btrics & micro & maths & macro & sex & V10 & University\\\\\n",
       " <dbl> & <chr> & <date> & <dbl> & <dbl> & <dbl> & <dbl> & <dbl> & <chr> & <chr> & <chr>\\\\\n",
       "\\hline\n",
       "\t 121 & A & 1990-12-15 & 28 & 25 & 20 & 18 & 18 & M & DU & DU\\\\\n",
       "\t 122 & B & 1990-12-01 & 20 & 21 & 25 & 25 & 25 & F & DU & DU\\\\\n",
       "\t 123 & C & 1990-12-31 & 21 & 16 & 14 & 22 & 22 & F & DU & DU\\\\\n",
       "\t 124 & D & 1991-01-10 &  6 &  9 & 14 &  4 &  4 & M & DU & DU\\\\\n",
       "\t 125 & E & 1991-01-01 & 20 & 16 & 11 & 15 & 15 & M & DU & DU\\\\\n",
       "\t 126 & F & 1991-01-10 & 15 & 20 & 12 & 18 & 18 & F & DU & DU\\\\\n",
       "\t 127 & G & 1990-12-01 &  4 &  6 & 10 &  2 &  2 & F & DU & DU\\\\\n",
       "\t 128 & I & 1991-01-12 & 18 & 22 & 16 & 20 & 20 & M & DU & DU\\\\\n",
       "\t 129 & J & 1991-01-01 &  9 & 12 &  9 &  8 &  8 & F & DU & DU\\\\\n",
       "\t 130 & H & 1991-01-10 & 12 & 10 & 11 & 12 & 12 & F & DU & DU\\\\\n",
       "\\end{tabular}\n"
      ],
      "text/markdown": [
       "\n",
       "A data.frame: 10 × 11\n",
       "\n",
       "| Roll_no &lt;dbl&gt; | names &lt;chr&gt; | dob &lt;date&gt; | bstat &lt;dbl&gt; | btrics &lt;dbl&gt; | micro &lt;dbl&gt; | maths &lt;dbl&gt; | macro &lt;dbl&gt; | sex &lt;chr&gt; | V10 &lt;chr&gt; | University &lt;chr&gt; |\n",
       "|---|---|---|---|---|---|---|---|---|---|---|\n",
       "| 121 | A | 1990-12-15 | 28 | 25 | 20 | 18 | 18 | M | DU | DU |\n",
       "| 122 | B | 1990-12-01 | 20 | 21 | 25 | 25 | 25 | F | DU | DU |\n",
       "| 123 | C | 1990-12-31 | 21 | 16 | 14 | 22 | 22 | F | DU | DU |\n",
       "| 124 | D | 1991-01-10 |  6 |  9 | 14 |  4 |  4 | M | DU | DU |\n",
       "| 125 | E | 1991-01-01 | 20 | 16 | 11 | 15 | 15 | M | DU | DU |\n",
       "| 126 | F | 1991-01-10 | 15 | 20 | 12 | 18 | 18 | F | DU | DU |\n",
       "| 127 | G | 1990-12-01 |  4 |  6 | 10 |  2 |  2 | F | DU | DU |\n",
       "| 128 | I | 1991-01-12 | 18 | 22 | 16 | 20 | 20 | M | DU | DU |\n",
       "| 129 | J | 1991-01-01 |  9 | 12 |  9 |  8 |  8 | F | DU | DU |\n",
       "| 130 | H | 1991-01-10 | 12 | 10 | 11 | 12 | 12 | F | DU | DU |\n",
       "\n"
      ],
      "text/plain": [
       "   Roll_no names dob        bstat btrics micro maths macro sex V10 University\n",
       "1  121     A     1990-12-15 28    25     20    18    18    M   DU  DU        \n",
       "2  122     B     1990-12-01 20    21     25    25    25    F   DU  DU        \n",
       "3  123     C     1990-12-31 21    16     14    22    22    F   DU  DU        \n",
       "4  124     D     1991-01-10  6     9     14     4     4    M   DU  DU        \n",
       "5  125     E     1991-01-01 20    16     11    15    15    M   DU  DU        \n",
       "6  126     F     1991-01-10 15    20     12    18    18    F   DU  DU        \n",
       "7  127     G     1990-12-01  4     6     10     2     2    F   DU  DU        \n",
       "8  128     I     1991-01-12 18    22     16    20    20    M   DU  DU        \n",
       "9  129     J     1991-01-01  9    12      9     8     8    F   DU  DU        \n",
       "10 130     H     1991-01-10 12    10     11    12    12    F   DU  DU        "
      ]
     },
     "metadata": {},
     "output_type": "display_data"
    }
   ],
   "source": [
    "##add one more variable\n",
    "MA_First[10]<-\"DU\"\n",
    "#or\n",
    "MA_First[\"University\"]<-\"DU\"\n",
    "MA_First"
   ]
  },
  {
   "cell_type": "code",
   "execution_count": 187,
   "id": "ab3224f5",
   "metadata": {},
   "outputs": [],
   "source": [
    "##remove one variable\n",
    "MA_First[10]<-NULL\n",
    "#or\n",
    "MA_First$University <-NULL"
   ]
  },
  {
   "cell_type": "markdown",
   "id": "ece999b3",
   "metadata": {},
   "source": [
    "## Merging two data files"
   ]
  },
  {
   "cell_type": "code",
   "execution_count": 188,
   "id": "a5e5e158",
   "metadata": {},
   "outputs": [],
   "source": [
    "MA_First1 <- data.frame(\n",
    "  Roll_no = seq(from=121,to=130,by=1),\n",
    "  names = c(\"A\",\"B\",\"C\",\"D\",\"E\",\"F\",\"G\",\"I\",\"J\", \"H\"),\n",
    "  bstat =c(28,20,21,6,20,15,4,18,9,12),\n",
    "  btrics = c(25,21,16,9,16,20,6,22,12,10))"
   ]
  },
  {
   "cell_type": "code",
   "execution_count": 189,
   "id": "a066c04d",
   "metadata": {},
   "outputs": [],
   "source": [
    "MA_First2 <- data.frame(\n",
    "  Roll_no = seq(from=121,to=130,by=1),\n",
    "  names = c(\"A\",\"B\",\"C\",\"D\",\"E\",\"F\",\"G\",\"I\",\"J\", \"H\"),\n",
    "  micro = c(20,25,14,14,11,12,10,16,9,11),\n",
    "  maths = c(18,25,22,4,15,18,2,20,8,12),\n",
    "  macro = c(18,25,22,4,15,18,2,20,8,12))"
   ]
  },
  {
   "cell_type": "code",
   "execution_count": 190,
   "id": "a58f7568",
   "metadata": {},
   "outputs": [
    {
     "data": {
      "text/html": [
       "<table class=\"dataframe\">\n",
       "<caption>A data.frame: 10 × 7</caption>\n",
       "<thead>\n",
       "\t<tr><th scope=col>Roll_no</th><th scope=col>names</th><th scope=col>bstat</th><th scope=col>btrics</th><th scope=col>micro</th><th scope=col>maths</th><th scope=col>macro</th></tr>\n",
       "\t<tr><th scope=col>&lt;dbl&gt;</th><th scope=col>&lt;chr&gt;</th><th scope=col>&lt;dbl&gt;</th><th scope=col>&lt;dbl&gt;</th><th scope=col>&lt;dbl&gt;</th><th scope=col>&lt;dbl&gt;</th><th scope=col>&lt;dbl&gt;</th></tr>\n",
       "</thead>\n",
       "<tbody>\n",
       "\t<tr><td>121</td><td>A</td><td>28</td><td>25</td><td>20</td><td>18</td><td>18</td></tr>\n",
       "\t<tr><td>122</td><td>B</td><td>20</td><td>21</td><td>25</td><td>25</td><td>25</td></tr>\n",
       "\t<tr><td>123</td><td>C</td><td>21</td><td>16</td><td>14</td><td>22</td><td>22</td></tr>\n",
       "\t<tr><td>124</td><td>D</td><td> 6</td><td> 9</td><td>14</td><td> 4</td><td> 4</td></tr>\n",
       "\t<tr><td>125</td><td>E</td><td>20</td><td>16</td><td>11</td><td>15</td><td>15</td></tr>\n",
       "\t<tr><td>126</td><td>F</td><td>15</td><td>20</td><td>12</td><td>18</td><td>18</td></tr>\n",
       "\t<tr><td>127</td><td>G</td><td> 4</td><td> 6</td><td>10</td><td> 2</td><td> 2</td></tr>\n",
       "\t<tr><td>128</td><td>I</td><td>18</td><td>22</td><td>16</td><td>20</td><td>20</td></tr>\n",
       "\t<tr><td>129</td><td>J</td><td> 9</td><td>12</td><td> 9</td><td> 8</td><td> 8</td></tr>\n",
       "\t<tr><td>130</td><td>H</td><td>12</td><td>10</td><td>11</td><td>12</td><td>12</td></tr>\n",
       "</tbody>\n",
       "</table>\n"
      ],
      "text/latex": [
       "A data.frame: 10 × 7\n",
       "\\begin{tabular}{lllllll}\n",
       " Roll\\_no & names & bstat & btrics & micro & maths & macro\\\\\n",
       " <dbl> & <chr> & <dbl> & <dbl> & <dbl> & <dbl> & <dbl>\\\\\n",
       "\\hline\n",
       "\t 121 & A & 28 & 25 & 20 & 18 & 18\\\\\n",
       "\t 122 & B & 20 & 21 & 25 & 25 & 25\\\\\n",
       "\t 123 & C & 21 & 16 & 14 & 22 & 22\\\\\n",
       "\t 124 & D &  6 &  9 & 14 &  4 &  4\\\\\n",
       "\t 125 & E & 20 & 16 & 11 & 15 & 15\\\\\n",
       "\t 126 & F & 15 & 20 & 12 & 18 & 18\\\\\n",
       "\t 127 & G &  4 &  6 & 10 &  2 &  2\\\\\n",
       "\t 128 & I & 18 & 22 & 16 & 20 & 20\\\\\n",
       "\t 129 & J &  9 & 12 &  9 &  8 &  8\\\\\n",
       "\t 130 & H & 12 & 10 & 11 & 12 & 12\\\\\n",
       "\\end{tabular}\n"
      ],
      "text/markdown": [
       "\n",
       "A data.frame: 10 × 7\n",
       "\n",
       "| Roll_no &lt;dbl&gt; | names &lt;chr&gt; | bstat &lt;dbl&gt; | btrics &lt;dbl&gt; | micro &lt;dbl&gt; | maths &lt;dbl&gt; | macro &lt;dbl&gt; |\n",
       "|---|---|---|---|---|---|---|\n",
       "| 121 | A | 28 | 25 | 20 | 18 | 18 |\n",
       "| 122 | B | 20 | 21 | 25 | 25 | 25 |\n",
       "| 123 | C | 21 | 16 | 14 | 22 | 22 |\n",
       "| 124 | D |  6 |  9 | 14 |  4 |  4 |\n",
       "| 125 | E | 20 | 16 | 11 | 15 | 15 |\n",
       "| 126 | F | 15 | 20 | 12 | 18 | 18 |\n",
       "| 127 | G |  4 |  6 | 10 |  2 |  2 |\n",
       "| 128 | I | 18 | 22 | 16 | 20 | 20 |\n",
       "| 129 | J |  9 | 12 |  9 |  8 |  8 |\n",
       "| 130 | H | 12 | 10 | 11 | 12 | 12 |\n",
       "\n"
      ],
      "text/plain": [
       "   Roll_no names bstat btrics micro maths macro\n",
       "1  121     A     28    25     20    18    18   \n",
       "2  122     B     20    21     25    25    25   \n",
       "3  123     C     21    16     14    22    22   \n",
       "4  124     D      6     9     14     4     4   \n",
       "5  125     E     20    16     11    15    15   \n",
       "6  126     F     15    20     12    18    18   \n",
       "7  127     G      4     6     10     2     2   \n",
       "8  128     I     18    22     16    20    20   \n",
       "9  129     J      9    12      9     8     8   \n",
       "10 130     H     12    10     11    12    12   "
      ]
     },
     "metadata": {},
     "output_type": "display_data"
    },
    {
     "data": {
      "text/html": [
       "<style>\n",
       ".list-inline {list-style: none; margin:0; padding: 0}\n",
       ".list-inline>li {display: inline-block}\n",
       ".list-inline>li:not(:last-child)::after {content: \"\\00b7\"; padding: 0 .5ex}\n",
       "</style>\n",
       "<ol class=list-inline><li>'Roll_no'</li><li>'names'</li><li>'bstat'</li><li>'btrics'</li><li>'micro'</li><li>'maths'</li><li>'macro'</li></ol>\n"
      ],
      "text/latex": [
       "\\begin{enumerate*}\n",
       "\\item 'Roll\\_no'\n",
       "\\item 'names'\n",
       "\\item 'bstat'\n",
       "\\item 'btrics'\n",
       "\\item 'micro'\n",
       "\\item 'maths'\n",
       "\\item 'macro'\n",
       "\\end{enumerate*}\n"
      ],
      "text/markdown": [
       "1. 'Roll_no'\n",
       "2. 'names'\n",
       "3. 'bstat'\n",
       "4. 'btrics'\n",
       "5. 'micro'\n",
       "6. 'maths'\n",
       "7. 'macro'\n",
       "\n",
       "\n"
      ],
      "text/plain": [
       "[1] \"Roll_no\" \"names\"   \"bstat\"   \"btrics\"  \"micro\"   \"maths\"   \"macro\"  "
      ]
     },
     "metadata": {},
     "output_type": "display_data"
    }
   ],
   "source": [
    "New_MA <-merge(MA_First1,MA_First2,by.MA_First1 = \"Roll_no\",by.MA_First2=\"Roll_no\")\n",
    "\n",
    "New_MA\n",
    "colnames(New_MA)"
   ]
  },
  {
   "cell_type": "markdown",
   "id": "23d9762e",
   "metadata": {},
   "source": [
    "## Change variable names"
   ]
  },
  {
   "cell_type": "code",
   "execution_count": 191,
   "id": "5fa72295",
   "metadata": {},
   "outputs": [],
   "source": [
    "colnames(New_MA)<-c(\"Roll_no\",\"names\",\"bstat\",\"btrics\",\"micro\",\"maths\",\"macro\")"
   ]
  },
  {
   "cell_type": "markdown",
   "id": "53f16679",
   "metadata": {},
   "source": [
    "## Re-arrange data and drop one data"
   ]
  },
  {
   "cell_type": "code",
   "execution_count": 192,
   "id": "e461171d",
   "metadata": {},
   "outputs": [
    {
     "data": {
      "text/html": [
       "<table class=\"dataframe\">\n",
       "<caption>A data.frame: 10 × 6</caption>\n",
       "<thead>\n",
       "\t<tr><th scope=col>names</th><th scope=col>Roll_no</th><th scope=col>bstat</th><th scope=col>btrics</th><th scope=col>micro</th><th scope=col>maths</th></tr>\n",
       "\t<tr><th scope=col>&lt;chr&gt;</th><th scope=col>&lt;dbl&gt;</th><th scope=col>&lt;dbl&gt;</th><th scope=col>&lt;dbl&gt;</th><th scope=col>&lt;dbl&gt;</th><th scope=col>&lt;dbl&gt;</th></tr>\n",
       "</thead>\n",
       "<tbody>\n",
       "\t<tr><td>A</td><td>121</td><td>28</td><td>25</td><td>20</td><td>18</td></tr>\n",
       "\t<tr><td>B</td><td>122</td><td>20</td><td>21</td><td>25</td><td>25</td></tr>\n",
       "\t<tr><td>C</td><td>123</td><td>21</td><td>16</td><td>14</td><td>22</td></tr>\n",
       "\t<tr><td>D</td><td>124</td><td> 6</td><td> 9</td><td>14</td><td> 4</td></tr>\n",
       "\t<tr><td>E</td><td>125</td><td>20</td><td>16</td><td>11</td><td>15</td></tr>\n",
       "\t<tr><td>F</td><td>126</td><td>15</td><td>20</td><td>12</td><td>18</td></tr>\n",
       "\t<tr><td>G</td><td>127</td><td> 4</td><td> 6</td><td>10</td><td> 2</td></tr>\n",
       "\t<tr><td>I</td><td>128</td><td>18</td><td>22</td><td>16</td><td>20</td></tr>\n",
       "\t<tr><td>J</td><td>129</td><td> 9</td><td>12</td><td> 9</td><td> 8</td></tr>\n",
       "\t<tr><td>H</td><td>130</td><td>12</td><td>10</td><td>11</td><td>12</td></tr>\n",
       "</tbody>\n",
       "</table>\n"
      ],
      "text/latex": [
       "A data.frame: 10 × 6\n",
       "\\begin{tabular}{llllll}\n",
       " names & Roll\\_no & bstat & btrics & micro & maths\\\\\n",
       " <chr> & <dbl> & <dbl> & <dbl> & <dbl> & <dbl>\\\\\n",
       "\\hline\n",
       "\t A & 121 & 28 & 25 & 20 & 18\\\\\n",
       "\t B & 122 & 20 & 21 & 25 & 25\\\\\n",
       "\t C & 123 & 21 & 16 & 14 & 22\\\\\n",
       "\t D & 124 &  6 &  9 & 14 &  4\\\\\n",
       "\t E & 125 & 20 & 16 & 11 & 15\\\\\n",
       "\t F & 126 & 15 & 20 & 12 & 18\\\\\n",
       "\t G & 127 &  4 &  6 & 10 &  2\\\\\n",
       "\t I & 128 & 18 & 22 & 16 & 20\\\\\n",
       "\t J & 129 &  9 & 12 &  9 &  8\\\\\n",
       "\t H & 130 & 12 & 10 & 11 & 12\\\\\n",
       "\\end{tabular}\n"
      ],
      "text/markdown": [
       "\n",
       "A data.frame: 10 × 6\n",
       "\n",
       "| names &lt;chr&gt; | Roll_no &lt;dbl&gt; | bstat &lt;dbl&gt; | btrics &lt;dbl&gt; | micro &lt;dbl&gt; | maths &lt;dbl&gt; |\n",
       "|---|---|---|---|---|---|\n",
       "| A | 121 | 28 | 25 | 20 | 18 |\n",
       "| B | 122 | 20 | 21 | 25 | 25 |\n",
       "| C | 123 | 21 | 16 | 14 | 22 |\n",
       "| D | 124 |  6 |  9 | 14 |  4 |\n",
       "| E | 125 | 20 | 16 | 11 | 15 |\n",
       "| F | 126 | 15 | 20 | 12 | 18 |\n",
       "| G | 127 |  4 |  6 | 10 |  2 |\n",
       "| I | 128 | 18 | 22 | 16 | 20 |\n",
       "| J | 129 |  9 | 12 |  9 |  8 |\n",
       "| H | 130 | 12 | 10 | 11 | 12 |\n",
       "\n"
      ],
      "text/plain": [
       "   names Roll_no bstat btrics micro maths\n",
       "1  A     121     28    25     20    18   \n",
       "2  B     122     20    21     25    25   \n",
       "3  C     123     21    16     14    22   \n",
       "4  D     124      6     9     14     4   \n",
       "5  E     125     20    16     11    15   \n",
       "6  F     126     15    20     12    18   \n",
       "7  G     127      4     6     10     2   \n",
       "8  I     128     18    22     16    20   \n",
       "9  J     129      9    12      9     8   \n",
       "10 H     130     12    10     11    12   "
      ]
     },
     "metadata": {},
     "output_type": "display_data"
    }
   ],
   "source": [
    "New_MA1<-New_MA[,c(2,1,3,4,5,6)]\n",
    "New_MA1"
   ]
  },
  {
   "cell_type": "markdown",
   "id": "a7be9b9b",
   "metadata": {},
   "source": [
    "## Creating new variable with existing variables"
   ]
  },
  {
   "cell_type": "code",
   "execution_count": 193,
   "id": "fa36e341",
   "metadata": {},
   "outputs": [
    {
     "data": {
      "text/html": [
       "<table class=\"dataframe\">\n",
       "<caption>A data.frame: 10 × 8</caption>\n",
       "<thead>\n",
       "\t<tr><th scope=col>Roll_no</th><th scope=col>names</th><th scope=col>bstat</th><th scope=col>btrics</th><th scope=col>micro</th><th scope=col>maths</th><th scope=col>macro</th><th scope=col>BasicStats1</th></tr>\n",
       "\t<tr><th scope=col>&lt;dbl&gt;</th><th scope=col>&lt;chr&gt;</th><th scope=col>&lt;dbl&gt;</th><th scope=col>&lt;dbl&gt;</th><th scope=col>&lt;dbl&gt;</th><th scope=col>&lt;dbl&gt;</th><th scope=col>&lt;dbl&gt;</th><th scope=col>&lt;dbl&gt;</th></tr>\n",
       "</thead>\n",
       "<tbody>\n",
       "\t<tr><td>121</td><td>A</td><td>28</td><td>25</td><td>20</td><td>18</td><td>18</td><td>809</td></tr>\n",
       "\t<tr><td>122</td><td>B</td><td>20</td><td>21</td><td>25</td><td>25</td><td>25</td><td>421</td></tr>\n",
       "\t<tr><td>123</td><td>C</td><td>21</td><td>16</td><td>14</td><td>22</td><td>22</td><td>457</td></tr>\n",
       "\t<tr><td>124</td><td>D</td><td> 6</td><td> 9</td><td>14</td><td> 4</td><td> 4</td><td> 45</td></tr>\n",
       "\t<tr><td>125</td><td>E</td><td>20</td><td>16</td><td>11</td><td>15</td><td>15</td><td>416</td></tr>\n",
       "\t<tr><td>126</td><td>F</td><td>15</td><td>20</td><td>12</td><td>18</td><td>18</td><td>245</td></tr>\n",
       "\t<tr><td>127</td><td>G</td><td> 4</td><td> 6</td><td>10</td><td> 2</td><td> 2</td><td> 22</td></tr>\n",
       "\t<tr><td>128</td><td>I</td><td>18</td><td>22</td><td>16</td><td>20</td><td>20</td><td>346</td></tr>\n",
       "\t<tr><td>129</td><td>J</td><td> 9</td><td>12</td><td> 9</td><td> 8</td><td> 8</td><td> 93</td></tr>\n",
       "\t<tr><td>130</td><td>H</td><td>12</td><td>10</td><td>11</td><td>12</td><td>12</td><td>154</td></tr>\n",
       "</tbody>\n",
       "</table>\n"
      ],
      "text/latex": [
       "A data.frame: 10 × 8\n",
       "\\begin{tabular}{llllllll}\n",
       " Roll\\_no & names & bstat & btrics & micro & maths & macro & BasicStats1\\\\\n",
       " <dbl> & <chr> & <dbl> & <dbl> & <dbl> & <dbl> & <dbl> & <dbl>\\\\\n",
       "\\hline\n",
       "\t 121 & A & 28 & 25 & 20 & 18 & 18 & 809\\\\\n",
       "\t 122 & B & 20 & 21 & 25 & 25 & 25 & 421\\\\\n",
       "\t 123 & C & 21 & 16 & 14 & 22 & 22 & 457\\\\\n",
       "\t 124 & D &  6 &  9 & 14 &  4 &  4 &  45\\\\\n",
       "\t 125 & E & 20 & 16 & 11 & 15 & 15 & 416\\\\\n",
       "\t 126 & F & 15 & 20 & 12 & 18 & 18 & 245\\\\\n",
       "\t 127 & G &  4 &  6 & 10 &  2 &  2 &  22\\\\\n",
       "\t 128 & I & 18 & 22 & 16 & 20 & 20 & 346\\\\\n",
       "\t 129 & J &  9 & 12 &  9 &  8 &  8 &  93\\\\\n",
       "\t 130 & H & 12 & 10 & 11 & 12 & 12 & 154\\\\\n",
       "\\end{tabular}\n"
      ],
      "text/markdown": [
       "\n",
       "A data.frame: 10 × 8\n",
       "\n",
       "| Roll_no &lt;dbl&gt; | names &lt;chr&gt; | bstat &lt;dbl&gt; | btrics &lt;dbl&gt; | micro &lt;dbl&gt; | maths &lt;dbl&gt; | macro &lt;dbl&gt; | BasicStats1 &lt;dbl&gt; |\n",
       "|---|---|---|---|---|---|---|---|\n",
       "| 121 | A | 28 | 25 | 20 | 18 | 18 | 809 |\n",
       "| 122 | B | 20 | 21 | 25 | 25 | 25 | 421 |\n",
       "| 123 | C | 21 | 16 | 14 | 22 | 22 | 457 |\n",
       "| 124 | D |  6 |  9 | 14 |  4 |  4 |  45 |\n",
       "| 125 | E | 20 | 16 | 11 | 15 | 15 | 416 |\n",
       "| 126 | F | 15 | 20 | 12 | 18 | 18 | 245 |\n",
       "| 127 | G |  4 |  6 | 10 |  2 |  2 |  22 |\n",
       "| 128 | I | 18 | 22 | 16 | 20 | 20 | 346 |\n",
       "| 129 | J |  9 | 12 |  9 |  8 |  8 |  93 |\n",
       "| 130 | H | 12 | 10 | 11 | 12 | 12 | 154 |\n",
       "\n"
      ],
      "text/plain": [
       "   Roll_no names bstat btrics micro maths macro BasicStats1\n",
       "1  121     A     28    25     20    18    18    809        \n",
       "2  122     B     20    21     25    25    25    421        \n",
       "3  123     C     21    16     14    22    22    457        \n",
       "4  124     D      6     9     14     4     4     45        \n",
       "5  125     E     20    16     11    15    15    416        \n",
       "6  126     F     15    20     12    18    18    245        \n",
       "7  127     G      4     6     10     2     2     22        \n",
       "8  128     I     18    22     16    20    20    346        \n",
       "9  129     J      9    12      9     8     8     93        \n",
       "10 130     H     12    10     11    12    12    154        "
      ]
     },
     "metadata": {},
     "output_type": "display_data"
    }
   ],
   "source": [
    "New_MA$BasicStats1 <-New_MA$bstat^2+New_MA$btrics\n",
    "New_MA"
   ]
  },
  {
   "cell_type": "code",
   "execution_count": 194,
   "id": "a5e891f8",
   "metadata": {},
   "outputs": [
    {
     "data": {
      "text/html": [
       "<table class=\"dataframe\">\n",
       "<caption>A data.frame: 10 × 9</caption>\n",
       "<thead>\n",
       "\t<tr><th scope=col>Roll_no</th><th scope=col>names</th><th scope=col>bstat</th><th scope=col>btrics</th><th scope=col>micro</th><th scope=col>maths</th><th scope=col>macro</th><th scope=col>BasicStats1</th><th scope=col>BasicStats2</th></tr>\n",
       "\t<tr><th scope=col>&lt;dbl&gt;</th><th scope=col>&lt;chr&gt;</th><th scope=col>&lt;dbl&gt;</th><th scope=col>&lt;dbl&gt;</th><th scope=col>&lt;dbl&gt;</th><th scope=col>&lt;dbl&gt;</th><th scope=col>&lt;dbl&gt;</th><th scope=col>&lt;dbl&gt;</th><th scope=col>&lt;dbl&gt;</th></tr>\n",
       "</thead>\n",
       "<tbody>\n",
       "\t<tr><td>121</td><td>A</td><td>28</td><td>25</td><td>20</td><td>18</td><td>18</td><td>809</td><td>26.5</td></tr>\n",
       "\t<tr><td>122</td><td>B</td><td>20</td><td>21</td><td>25</td><td>25</td><td>25</td><td>421</td><td>20.5</td></tr>\n",
       "\t<tr><td>123</td><td>C</td><td>21</td><td>16</td><td>14</td><td>22</td><td>22</td><td>457</td><td>18.5</td></tr>\n",
       "\t<tr><td>124</td><td>D</td><td> 6</td><td> 9</td><td>14</td><td> 4</td><td> 4</td><td> 45</td><td> 7.5</td></tr>\n",
       "\t<tr><td>125</td><td>E</td><td>20</td><td>16</td><td>11</td><td>15</td><td>15</td><td>416</td><td>18.0</td></tr>\n",
       "\t<tr><td>126</td><td>F</td><td>15</td><td>20</td><td>12</td><td>18</td><td>18</td><td>245</td><td>17.5</td></tr>\n",
       "\t<tr><td>127</td><td>G</td><td> 4</td><td> 6</td><td>10</td><td> 2</td><td> 2</td><td> 22</td><td> 5.0</td></tr>\n",
       "\t<tr><td>128</td><td>I</td><td>18</td><td>22</td><td>16</td><td>20</td><td>20</td><td>346</td><td>20.0</td></tr>\n",
       "\t<tr><td>129</td><td>J</td><td> 9</td><td>12</td><td> 9</td><td> 8</td><td> 8</td><td> 93</td><td>10.5</td></tr>\n",
       "\t<tr><td>130</td><td>H</td><td>12</td><td>10</td><td>11</td><td>12</td><td>12</td><td>154</td><td>11.0</td></tr>\n",
       "</tbody>\n",
       "</table>\n"
      ],
      "text/latex": [
       "A data.frame: 10 × 9\n",
       "\\begin{tabular}{lllllllll}\n",
       " Roll\\_no & names & bstat & btrics & micro & maths & macro & BasicStats1 & BasicStats2\\\\\n",
       " <dbl> & <chr> & <dbl> & <dbl> & <dbl> & <dbl> & <dbl> & <dbl> & <dbl>\\\\\n",
       "\\hline\n",
       "\t 121 & A & 28 & 25 & 20 & 18 & 18 & 809 & 26.5\\\\\n",
       "\t 122 & B & 20 & 21 & 25 & 25 & 25 & 421 & 20.5\\\\\n",
       "\t 123 & C & 21 & 16 & 14 & 22 & 22 & 457 & 18.5\\\\\n",
       "\t 124 & D &  6 &  9 & 14 &  4 &  4 &  45 &  7.5\\\\\n",
       "\t 125 & E & 20 & 16 & 11 & 15 & 15 & 416 & 18.0\\\\\n",
       "\t 126 & F & 15 & 20 & 12 & 18 & 18 & 245 & 17.5\\\\\n",
       "\t 127 & G &  4 &  6 & 10 &  2 &  2 &  22 &  5.0\\\\\n",
       "\t 128 & I & 18 & 22 & 16 & 20 & 20 & 346 & 20.0\\\\\n",
       "\t 129 & J &  9 & 12 &  9 &  8 &  8 &  93 & 10.5\\\\\n",
       "\t 130 & H & 12 & 10 & 11 & 12 & 12 & 154 & 11.0\\\\\n",
       "\\end{tabular}\n"
      ],
      "text/markdown": [
       "\n",
       "A data.frame: 10 × 9\n",
       "\n",
       "| Roll_no &lt;dbl&gt; | names &lt;chr&gt; | bstat &lt;dbl&gt; | btrics &lt;dbl&gt; | micro &lt;dbl&gt; | maths &lt;dbl&gt; | macro &lt;dbl&gt; | BasicStats1 &lt;dbl&gt; | BasicStats2 &lt;dbl&gt; |\n",
       "|---|---|---|---|---|---|---|---|---|\n",
       "| 121 | A | 28 | 25 | 20 | 18 | 18 | 809 | 26.5 |\n",
       "| 122 | B | 20 | 21 | 25 | 25 | 25 | 421 | 20.5 |\n",
       "| 123 | C | 21 | 16 | 14 | 22 | 22 | 457 | 18.5 |\n",
       "| 124 | D |  6 |  9 | 14 |  4 |  4 |  45 |  7.5 |\n",
       "| 125 | E | 20 | 16 | 11 | 15 | 15 | 416 | 18.0 |\n",
       "| 126 | F | 15 | 20 | 12 | 18 | 18 | 245 | 17.5 |\n",
       "| 127 | G |  4 |  6 | 10 |  2 |  2 |  22 |  5.0 |\n",
       "| 128 | I | 18 | 22 | 16 | 20 | 20 | 346 | 20.0 |\n",
       "| 129 | J |  9 | 12 |  9 |  8 |  8 |  93 | 10.5 |\n",
       "| 130 | H | 12 | 10 | 11 | 12 | 12 | 154 | 11.0 |\n",
       "\n"
      ],
      "text/plain": [
       "   Roll_no names bstat btrics micro maths macro BasicStats1 BasicStats2\n",
       "1  121     A     28    25     20    18    18    809         26.5       \n",
       "2  122     B     20    21     25    25    25    421         20.5       \n",
       "3  123     C     21    16     14    22    22    457         18.5       \n",
       "4  124     D      6     9     14     4     4     45          7.5       \n",
       "5  125     E     20    16     11    15    15    416         18.0       \n",
       "6  126     F     15    20     12    18    18    245         17.5       \n",
       "7  127     G      4     6     10     2     2     22          5.0       \n",
       "8  128     I     18    22     16    20    20    346         20.0       \n",
       "9  129     J      9    12      9     8     8     93         10.5       \n",
       "10 130     H     12    10     11    12    12    154         11.0       "
      ]
     },
     "metadata": {},
     "output_type": "display_data"
    }
   ],
   "source": [
    "New_MA$BasicStats2 <-(New_MA$bstat+New_MA$btrics)/2\n",
    "New_MA"
   ]
  },
  {
   "cell_type": "code",
   "execution_count": 195,
   "id": "fdd3ebea",
   "metadata": {},
   "outputs": [
    {
     "data": {
      "text/html": [
       "<style>\n",
       ".list-inline {list-style: none; margin:0; padding: 0}\n",
       ".list-inline>li {display: inline-block}\n",
       ".list-inline>li:not(:last-child)::after {content: \"\\00b7\"; padding: 0 .5ex}\n",
       "</style>\n",
       "<ol class=list-inline><li>10</li><li>9</li></ol>\n"
      ],
      "text/latex": [
       "\\begin{enumerate*}\n",
       "\\item 10\n",
       "\\item 9\n",
       "\\end{enumerate*}\n"
      ],
      "text/markdown": [
       "1. 10\n",
       "2. 9\n",
       "\n",
       "\n"
      ],
      "text/plain": [
       "[1] 10  9"
      ]
     },
     "metadata": {},
     "output_type": "display_data"
    },
    {
     "data": {
      "text/html": [
       "9"
      ],
      "text/latex": [
       "9"
      ],
      "text/markdown": [
       "9"
      ],
      "text/plain": [
       "[1] 9"
      ]
     },
     "metadata": {},
     "output_type": "display_data"
    },
    {
     "data": {
      "text/html": [
       "10"
      ],
      "text/latex": [
       "10"
      ],
      "text/markdown": [
       "10"
      ],
      "text/plain": [
       "[1] 10"
      ]
     },
     "metadata": {},
     "output_type": "display_data"
    }
   ],
   "source": [
    "dim(MA_First)\n",
    "ncol(MA_First)\n",
    "nrow(MA_First)"
   ]
  },
  {
   "cell_type": "code",
   "execution_count": 196,
   "id": "604fc00f",
   "metadata": {},
   "outputs": [
    {
     "data": {
      "text/html": [
       "<table class=\"dataframe\">\n",
       "<caption>A data.frame: 3 × 9</caption>\n",
       "<thead>\n",
       "\t<tr><th></th><th scope=col>Roll_no</th><th scope=col>names</th><th scope=col>dob</th><th scope=col>bstat</th><th scope=col>btrics</th><th scope=col>micro</th><th scope=col>maths</th><th scope=col>macro</th><th scope=col>sex</th></tr>\n",
       "\t<tr><th></th><th scope=col>&lt;dbl&gt;</th><th scope=col>&lt;chr&gt;</th><th scope=col>&lt;date&gt;</th><th scope=col>&lt;dbl&gt;</th><th scope=col>&lt;dbl&gt;</th><th scope=col>&lt;dbl&gt;</th><th scope=col>&lt;dbl&gt;</th><th scope=col>&lt;dbl&gt;</th><th scope=col>&lt;chr&gt;</th></tr>\n",
       "</thead>\n",
       "<tbody>\n",
       "\t<tr><th scope=row>1</th><td>121</td><td>A</td><td>1990-12-15</td><td>28</td><td>25</td><td>20</td><td>18</td><td>18</td><td>M</td></tr>\n",
       "\t<tr><th scope=row>2</th><td>122</td><td>B</td><td>1990-12-01</td><td>20</td><td>21</td><td>25</td><td>25</td><td>25</td><td>F</td></tr>\n",
       "\t<tr><th scope=row>3</th><td>123</td><td>C</td><td>1990-12-31</td><td>21</td><td>16</td><td>14</td><td>22</td><td>22</td><td>F</td></tr>\n",
       "</tbody>\n",
       "</table>\n"
      ],
      "text/latex": [
       "A data.frame: 3 × 9\n",
       "\\begin{tabular}{r|lllllllll}\n",
       "  & Roll\\_no & names & dob & bstat & btrics & micro & maths & macro & sex\\\\\n",
       "  & <dbl> & <chr> & <date> & <dbl> & <dbl> & <dbl> & <dbl> & <dbl> & <chr>\\\\\n",
       "\\hline\n",
       "\t1 & 121 & A & 1990-12-15 & 28 & 25 & 20 & 18 & 18 & M\\\\\n",
       "\t2 & 122 & B & 1990-12-01 & 20 & 21 & 25 & 25 & 25 & F\\\\\n",
       "\t3 & 123 & C & 1990-12-31 & 21 & 16 & 14 & 22 & 22 & F\\\\\n",
       "\\end{tabular}\n"
      ],
      "text/markdown": [
       "\n",
       "A data.frame: 3 × 9\n",
       "\n",
       "| <!--/--> | Roll_no &lt;dbl&gt; | names &lt;chr&gt; | dob &lt;date&gt; | bstat &lt;dbl&gt; | btrics &lt;dbl&gt; | micro &lt;dbl&gt; | maths &lt;dbl&gt; | macro &lt;dbl&gt; | sex &lt;chr&gt; |\n",
       "|---|---|---|---|---|---|---|---|---|---|\n",
       "| 1 | 121 | A | 1990-12-15 | 28 | 25 | 20 | 18 | 18 | M |\n",
       "| 2 | 122 | B | 1990-12-01 | 20 | 21 | 25 | 25 | 25 | F |\n",
       "| 3 | 123 | C | 1990-12-31 | 21 | 16 | 14 | 22 | 22 | F |\n",
       "\n"
      ],
      "text/plain": [
       "  Roll_no names dob        bstat btrics micro maths macro sex\n",
       "1 121     A     1990-12-15 28    25     20    18    18    M  \n",
       "2 122     B     1990-12-01 20    21     25    25    25    F  \n",
       "3 123     C     1990-12-31 21    16     14    22    22    F  "
      ]
     },
     "metadata": {},
     "output_type": "display_data"
    },
    {
     "data": {
      "text/html": [
       "<table class=\"dataframe\">\n",
       "<caption>A data.frame: 2 × 9</caption>\n",
       "<thead>\n",
       "\t<tr><th></th><th scope=col>Roll_no</th><th scope=col>names</th><th scope=col>dob</th><th scope=col>bstat</th><th scope=col>btrics</th><th scope=col>micro</th><th scope=col>maths</th><th scope=col>macro</th><th scope=col>sex</th></tr>\n",
       "\t<tr><th></th><th scope=col>&lt;dbl&gt;</th><th scope=col>&lt;chr&gt;</th><th scope=col>&lt;date&gt;</th><th scope=col>&lt;dbl&gt;</th><th scope=col>&lt;dbl&gt;</th><th scope=col>&lt;dbl&gt;</th><th scope=col>&lt;dbl&gt;</th><th scope=col>&lt;dbl&gt;</th><th scope=col>&lt;chr&gt;</th></tr>\n",
       "</thead>\n",
       "<tbody>\n",
       "\t<tr><th scope=row>9</th><td>129</td><td>J</td><td>1991-01-01</td><td> 9</td><td>12</td><td> 9</td><td> 8</td><td> 8</td><td>F</td></tr>\n",
       "\t<tr><th scope=row>10</th><td>130</td><td>H</td><td>1991-01-10</td><td>12</td><td>10</td><td>11</td><td>12</td><td>12</td><td>F</td></tr>\n",
       "</tbody>\n",
       "</table>\n"
      ],
      "text/latex": [
       "A data.frame: 2 × 9\n",
       "\\begin{tabular}{r|lllllllll}\n",
       "  & Roll\\_no & names & dob & bstat & btrics & micro & maths & macro & sex\\\\\n",
       "  & <dbl> & <chr> & <date> & <dbl> & <dbl> & <dbl> & <dbl> & <dbl> & <chr>\\\\\n",
       "\\hline\n",
       "\t9 & 129 & J & 1991-01-01 &  9 & 12 &  9 &  8 &  8 & F\\\\\n",
       "\t10 & 130 & H & 1991-01-10 & 12 & 10 & 11 & 12 & 12 & F\\\\\n",
       "\\end{tabular}\n"
      ],
      "text/markdown": [
       "\n",
       "A data.frame: 2 × 9\n",
       "\n",
       "| <!--/--> | Roll_no &lt;dbl&gt; | names &lt;chr&gt; | dob &lt;date&gt; | bstat &lt;dbl&gt; | btrics &lt;dbl&gt; | micro &lt;dbl&gt; | maths &lt;dbl&gt; | macro &lt;dbl&gt; | sex &lt;chr&gt; |\n",
       "|---|---|---|---|---|---|---|---|---|---|\n",
       "| 9 | 129 | J | 1991-01-01 |  9 | 12 |  9 |  8 |  8 | F |\n",
       "| 10 | 130 | H | 1991-01-10 | 12 | 10 | 11 | 12 | 12 | F |\n",
       "\n"
      ],
      "text/plain": [
       "   Roll_no names dob        bstat btrics micro maths macro sex\n",
       "9  129     J     1991-01-01  9    12      9     8     8    F  \n",
       "10 130     H     1991-01-10 12    10     11    12    12    F  "
      ]
     },
     "metadata": {},
     "output_type": "display_data"
    }
   ],
   "source": [
    "head(MA_First,3)\n",
    "tail(MA_First,2)"
   ]
  },
  {
   "cell_type": "code",
   "execution_count": 197,
   "id": "c7bfae5b",
   "metadata": {},
   "outputs": [
    {
     "name": "stdout",
     "output_type": "stream",
     "text": [
      "'data.frame':\t10 obs. of  9 variables:\n",
      " $ Roll_no: num  121 122 123 124 125 126 127 128 129 130\n",
      " $ names  : chr  \"A\" \"B\" \"C\" \"D\" ...\n",
      " $ dob    : Date, format: \"1990-12-15\" \"1990-12-01\" ...\n",
      " $ bstat  : num  28 20 21 6 20 15 4 18 9 12\n",
      " $ btrics : num  25 21 16 9 16 20 6 22 12 10\n",
      " $ micro  : num  20 25 14 14 11 12 10 16 9 11\n",
      " $ maths  : num  18 25 22 4 15 18 2 20 8 12\n",
      " $ macro  : num  18 25 22 4 15 18 2 20 8 12\n",
      " $ sex    : chr  \"M\" \"F\" \"F\" \"M\" ...\n"
     ]
    }
   ],
   "source": [
    "str(MA_First)"
   ]
  },
  {
   "cell_type": "code",
   "execution_count": 198,
   "id": "df188dd5",
   "metadata": {},
   "outputs": [
    {
     "data": {
      "text/plain": [
       "    Roll_no         names                dob                 bstat      \n",
       " Min.   :121.0   Length:10          Min.   :1990-12-01   Min.   : 4.00  \n",
       " 1st Qu.:123.2   Class :character   1st Qu.:1990-12-19   1st Qu.: 9.75  \n",
       " Median :125.5   Mode  :character   Median :1991-01-01   Median :16.50  \n",
       " Mean   :125.5                      Mean   :1990-12-27   Mean   :15.30  \n",
       " 3rd Qu.:127.8                      3rd Qu.:1991-01-10   3rd Qu.:20.00  \n",
       " Max.   :130.0                      Max.   :1991-01-12   Max.   :28.00  \n",
       "     btrics          micro          maths          macro     \n",
       " Min.   : 6.00   Min.   : 9.0   Min.   : 2.0   Min.   : 2.0  \n",
       " 1st Qu.:10.50   1st Qu.:11.0   1st Qu.: 9.0   1st Qu.: 9.0  \n",
       " Median :16.00   Median :13.0   Median :16.5   Median :16.5  \n",
       " Mean   :15.70   Mean   :14.2   Mean   :14.4   Mean   :14.4  \n",
       " 3rd Qu.:20.75   3rd Qu.:15.5   3rd Qu.:19.5   3rd Qu.:19.5  \n",
       " Max.   :25.00   Max.   :25.0   Max.   :25.0   Max.   :25.0  \n",
       "     sex           \n",
       " Length:10         \n",
       " Class :character  \n",
       " Mode  :character  \n",
       "                   \n",
       "                   \n",
       "                   "
      ]
     },
     "metadata": {},
     "output_type": "display_data"
    }
   ],
   "source": [
    "summary(MA_First)"
   ]
  },
  {
   "cell_type": "code",
   "execution_count": 199,
   "id": "069c4c41",
   "metadata": {},
   "outputs": [
    {
     "data": {
      "text/html": [
       "<style>\n",
       ".list-inline {list-style: none; margin:0; padding: 0}\n",
       ".list-inline>li {display: inline-block}\n",
       ".list-inline>li:not(:last-child)::after {content: \"\\00b7\"; padding: 0 .5ex}\n",
       "</style>\n",
       "<ol class=list-inline><li>'Roll_no'</li><li>'names'</li><li>'dob'</li><li>'bstat'</li><li>'btrics'</li><li>'micro'</li><li>'maths'</li><li>'macro'</li><li>'sex'</li></ol>\n"
      ],
      "text/latex": [
       "\\begin{enumerate*}\n",
       "\\item 'Roll\\_no'\n",
       "\\item 'names'\n",
       "\\item 'dob'\n",
       "\\item 'bstat'\n",
       "\\item 'btrics'\n",
       "\\item 'micro'\n",
       "\\item 'maths'\n",
       "\\item 'macro'\n",
       "\\item 'sex'\n",
       "\\end{enumerate*}\n"
      ],
      "text/markdown": [
       "1. 'Roll_no'\n",
       "2. 'names'\n",
       "3. 'dob'\n",
       "4. 'bstat'\n",
       "5. 'btrics'\n",
       "6. 'micro'\n",
       "7. 'maths'\n",
       "8. 'macro'\n",
       "9. 'sex'\n",
       "\n",
       "\n"
      ],
      "text/plain": [
       "[1] \"Roll_no\" \"names\"   \"dob\"     \"bstat\"   \"btrics\"  \"micro\"   \"maths\"  \n",
       "[8] \"macro\"   \"sex\"    "
      ]
     },
     "metadata": {},
     "output_type": "display_data"
    }
   ],
   "source": [
    "names(MA_First)"
   ]
  },
  {
   "cell_type": "code",
   "execution_count": 200,
   "id": "9c7fd568",
   "metadata": {},
   "outputs": [
    {
     "data": {
      "text/html": [
       "<style>\n",
       ".list-inline {list-style: none; margin:0; padding: 0}\n",
       ".list-inline>li {display: inline-block}\n",
       ".list-inline>li:not(:last-child)::after {content: \"\\00b7\"; padding: 0 .5ex}\n",
       "</style>\n",
       "<ol class=list-inline><li>28</li><li>20</li><li>21</li><li>6</li><li>20</li><li>15</li><li>4</li><li>18</li><li>9</li><li>12</li></ol>\n"
      ],
      "text/latex": [
       "\\begin{enumerate*}\n",
       "\\item 28\n",
       "\\item 20\n",
       "\\item 21\n",
       "\\item 6\n",
       "\\item 20\n",
       "\\item 15\n",
       "\\item 4\n",
       "\\item 18\n",
       "\\item 9\n",
       "\\item 12\n",
       "\\end{enumerate*}\n"
      ],
      "text/markdown": [
       "1. 28\n",
       "2. 20\n",
       "3. 21\n",
       "4. 6\n",
       "5. 20\n",
       "6. 15\n",
       "7. 4\n",
       "8. 18\n",
       "9. 9\n",
       "10. 12\n",
       "\n",
       "\n"
      ],
      "text/plain": [
       " [1] 28 20 21  6 20 15  4 18  9 12"
      ]
     },
     "metadata": {},
     "output_type": "display_data"
    }
   ],
   "source": [
    "MA_First$bstat"
   ]
  },
  {
   "cell_type": "markdown",
   "id": "020120c1",
   "metadata": {},
   "source": [
    "## subset for observations"
   ]
  },
  {
   "cell_type": "code",
   "execution_count": 201,
   "id": "639a8c16",
   "metadata": {},
   "outputs": [
    {
     "data": {
      "text/html": [
       "<table class=\"dataframe\">\n",
       "<caption>A data.frame: 5 × 9</caption>\n",
       "<thead>\n",
       "\t<tr><th></th><th scope=col>Roll_no</th><th scope=col>names</th><th scope=col>dob</th><th scope=col>bstat</th><th scope=col>btrics</th><th scope=col>micro</th><th scope=col>maths</th><th scope=col>macro</th><th scope=col>sex</th></tr>\n",
       "\t<tr><th></th><th scope=col>&lt;dbl&gt;</th><th scope=col>&lt;chr&gt;</th><th scope=col>&lt;date&gt;</th><th scope=col>&lt;dbl&gt;</th><th scope=col>&lt;dbl&gt;</th><th scope=col>&lt;dbl&gt;</th><th scope=col>&lt;dbl&gt;</th><th scope=col>&lt;dbl&gt;</th><th scope=col>&lt;chr&gt;</th></tr>\n",
       "</thead>\n",
       "<tbody>\n",
       "\t<tr><th scope=row>1</th><td>121</td><td>A</td><td>1990-12-15</td><td>28</td><td>25</td><td>20</td><td>18</td><td>18</td><td>M</td></tr>\n",
       "\t<tr><th scope=row>3</th><td>123</td><td>C</td><td>1990-12-31</td><td>21</td><td>16</td><td>14</td><td>22</td><td>22</td><td>F</td></tr>\n",
       "\t<tr><th scope=row>8</th><td>128</td><td>I</td><td>1991-01-12</td><td>18</td><td>22</td><td>16</td><td>20</td><td>20</td><td>M</td></tr>\n",
       "\t<tr><th scope=row>9</th><td>129</td><td>J</td><td>1991-01-01</td><td> 9</td><td>12</td><td> 9</td><td> 8</td><td> 8</td><td>F</td></tr>\n",
       "\t<tr><th scope=row>10</th><td>130</td><td>H</td><td>1991-01-10</td><td>12</td><td>10</td><td>11</td><td>12</td><td>12</td><td>F</td></tr>\n",
       "</tbody>\n",
       "</table>\n"
      ],
      "text/latex": [
       "A data.frame: 5 × 9\n",
       "\\begin{tabular}{r|lllllllll}\n",
       "  & Roll\\_no & names & dob & bstat & btrics & micro & maths & macro & sex\\\\\n",
       "  & <dbl> & <chr> & <date> & <dbl> & <dbl> & <dbl> & <dbl> & <dbl> & <chr>\\\\\n",
       "\\hline\n",
       "\t1 & 121 & A & 1990-12-15 & 28 & 25 & 20 & 18 & 18 & M\\\\\n",
       "\t3 & 123 & C & 1990-12-31 & 21 & 16 & 14 & 22 & 22 & F\\\\\n",
       "\t8 & 128 & I & 1991-01-12 & 18 & 22 & 16 & 20 & 20 & M\\\\\n",
       "\t9 & 129 & J & 1991-01-01 &  9 & 12 &  9 &  8 &  8 & F\\\\\n",
       "\t10 & 130 & H & 1991-01-10 & 12 & 10 & 11 & 12 & 12 & F\\\\\n",
       "\\end{tabular}\n"
      ],
      "text/markdown": [
       "\n",
       "A data.frame: 5 × 9\n",
       "\n",
       "| <!--/--> | Roll_no &lt;dbl&gt; | names &lt;chr&gt; | dob &lt;date&gt; | bstat &lt;dbl&gt; | btrics &lt;dbl&gt; | micro &lt;dbl&gt; | maths &lt;dbl&gt; | macro &lt;dbl&gt; | sex &lt;chr&gt; |\n",
       "|---|---|---|---|---|---|---|---|---|---|\n",
       "| 1 | 121 | A | 1990-12-15 | 28 | 25 | 20 | 18 | 18 | M |\n",
       "| 3 | 123 | C | 1990-12-31 | 21 | 16 | 14 | 22 | 22 | F |\n",
       "| 8 | 128 | I | 1991-01-12 | 18 | 22 | 16 | 20 | 20 | M |\n",
       "| 9 | 129 | J | 1991-01-01 |  9 | 12 |  9 |  8 |  8 | F |\n",
       "| 10 | 130 | H | 1991-01-10 | 12 | 10 | 11 | 12 | 12 | F |\n",
       "\n"
      ],
      "text/plain": [
       "   Roll_no names dob        bstat btrics micro maths macro sex\n",
       "1  121     A     1990-12-15 28    25     20    18    18    M  \n",
       "3  123     C     1990-12-31 21    16     14    22    22    F  \n",
       "8  128     I     1991-01-12 18    22     16    20    20    M  \n",
       "9  129     J     1991-01-01  9    12      9     8     8    F  \n",
       "10 130     H     1991-01-10 12    10     11    12    12    F  "
      ]
     },
     "metadata": {},
     "output_type": "display_data"
    }
   ],
   "source": [
    "a<-MA_First[c(1,3,8:10),]\n",
    "a"
   ]
  },
  {
   "cell_type": "markdown",
   "id": "82583079",
   "metadata": {},
   "source": [
    "## Subset for variables"
   ]
  },
  {
   "cell_type": "code",
   "execution_count": 202,
   "id": "7ed3e5cf",
   "metadata": {},
   "outputs": [
    {
     "data": {
      "text/html": [
       "<table class=\"dataframe\">\n",
       "<caption>A data.frame: 10 × 1</caption>\n",
       "<thead>\n",
       "\t<tr><th scope=col>dob</th></tr>\n",
       "\t<tr><th scope=col>&lt;date&gt;</th></tr>\n",
       "</thead>\n",
       "<tbody>\n",
       "\t<tr><td>1990-12-15</td></tr>\n",
       "\t<tr><td>1990-12-01</td></tr>\n",
       "\t<tr><td>1990-12-31</td></tr>\n",
       "\t<tr><td>1991-01-10</td></tr>\n",
       "\t<tr><td>1991-01-01</td></tr>\n",
       "\t<tr><td>1991-01-10</td></tr>\n",
       "\t<tr><td>1990-12-01</td></tr>\n",
       "\t<tr><td>1991-01-12</td></tr>\n",
       "\t<tr><td>1991-01-01</td></tr>\n",
       "\t<tr><td>1991-01-10</td></tr>\n",
       "</tbody>\n",
       "</table>\n"
      ],
      "text/latex": [
       "A data.frame: 10 × 1\n",
       "\\begin{tabular}{l}\n",
       " dob\\\\\n",
       " <date>\\\\\n",
       "\\hline\n",
       "\t 1990-12-15\\\\\n",
       "\t 1990-12-01\\\\\n",
       "\t 1990-12-31\\\\\n",
       "\t 1991-01-10\\\\\n",
       "\t 1991-01-01\\\\\n",
       "\t 1991-01-10\\\\\n",
       "\t 1990-12-01\\\\\n",
       "\t 1991-01-12\\\\\n",
       "\t 1991-01-01\\\\\n",
       "\t 1991-01-10\\\\\n",
       "\\end{tabular}\n"
      ],
      "text/markdown": [
       "\n",
       "A data.frame: 10 × 1\n",
       "\n",
       "| dob &lt;date&gt; |\n",
       "|---|\n",
       "| 1990-12-15 |\n",
       "| 1990-12-01 |\n",
       "| 1990-12-31 |\n",
       "| 1991-01-10 |\n",
       "| 1991-01-01 |\n",
       "| 1991-01-10 |\n",
       "| 1990-12-01 |\n",
       "| 1991-01-12 |\n",
       "| 1991-01-01 |\n",
       "| 1991-01-10 |\n",
       "\n"
      ],
      "text/plain": [
       "   dob       \n",
       "1  1990-12-15\n",
       "2  1990-12-01\n",
       "3  1990-12-31\n",
       "4  1991-01-10\n",
       "5  1991-01-01\n",
       "6  1991-01-10\n",
       "7  1990-12-01\n",
       "8  1991-01-12\n",
       "9  1991-01-01\n",
       "10 1991-01-10"
      ]
     },
     "metadata": {},
     "output_type": "display_data"
    }
   ],
   "source": [
    "b<-MA_First[3]\n",
    "b"
   ]
  },
  {
   "cell_type": "code",
   "execution_count": 203,
   "id": "adb371cb",
   "metadata": {},
   "outputs": [
    {
     "data": {
      "text/html": [
       "<table class=\"dataframe\">\n",
       "<caption>A data.frame: 10 × 5</caption>\n",
       "<thead>\n",
       "\t<tr><th scope=col>bstat</th><th scope=col>btrics</th><th scope=col>micro</th><th scope=col>maths</th><th scope=col>macro</th></tr>\n",
       "\t<tr><th scope=col>&lt;dbl&gt;</th><th scope=col>&lt;dbl&gt;</th><th scope=col>&lt;dbl&gt;</th><th scope=col>&lt;dbl&gt;</th><th scope=col>&lt;dbl&gt;</th></tr>\n",
       "</thead>\n",
       "<tbody>\n",
       "\t<tr><td>28</td><td>25</td><td>20</td><td>18</td><td>18</td></tr>\n",
       "\t<tr><td>20</td><td>21</td><td>25</td><td>25</td><td>25</td></tr>\n",
       "\t<tr><td>21</td><td>16</td><td>14</td><td>22</td><td>22</td></tr>\n",
       "\t<tr><td> 6</td><td> 9</td><td>14</td><td> 4</td><td> 4</td></tr>\n",
       "\t<tr><td>20</td><td>16</td><td>11</td><td>15</td><td>15</td></tr>\n",
       "\t<tr><td>15</td><td>20</td><td>12</td><td>18</td><td>18</td></tr>\n",
       "\t<tr><td> 4</td><td> 6</td><td>10</td><td> 2</td><td> 2</td></tr>\n",
       "\t<tr><td>18</td><td>22</td><td>16</td><td>20</td><td>20</td></tr>\n",
       "\t<tr><td> 9</td><td>12</td><td> 9</td><td> 8</td><td> 8</td></tr>\n",
       "\t<tr><td>12</td><td>10</td><td>11</td><td>12</td><td>12</td></tr>\n",
       "</tbody>\n",
       "</table>\n"
      ],
      "text/latex": [
       "A data.frame: 10 × 5\n",
       "\\begin{tabular}{lllll}\n",
       " bstat & btrics & micro & maths & macro\\\\\n",
       " <dbl> & <dbl> & <dbl> & <dbl> & <dbl>\\\\\n",
       "\\hline\n",
       "\t 28 & 25 & 20 & 18 & 18\\\\\n",
       "\t 20 & 21 & 25 & 25 & 25\\\\\n",
       "\t 21 & 16 & 14 & 22 & 22\\\\\n",
       "\t  6 &  9 & 14 &  4 &  4\\\\\n",
       "\t 20 & 16 & 11 & 15 & 15\\\\\n",
       "\t 15 & 20 & 12 & 18 & 18\\\\\n",
       "\t  4 &  6 & 10 &  2 &  2\\\\\n",
       "\t 18 & 22 & 16 & 20 & 20\\\\\n",
       "\t  9 & 12 &  9 &  8 &  8\\\\\n",
       "\t 12 & 10 & 11 & 12 & 12\\\\\n",
       "\\end{tabular}\n"
      ],
      "text/markdown": [
       "\n",
       "A data.frame: 10 × 5\n",
       "\n",
       "| bstat &lt;dbl&gt; | btrics &lt;dbl&gt; | micro &lt;dbl&gt; | maths &lt;dbl&gt; | macro &lt;dbl&gt; |\n",
       "|---|---|---|---|---|\n",
       "| 28 | 25 | 20 | 18 | 18 |\n",
       "| 20 | 21 | 25 | 25 | 25 |\n",
       "| 21 | 16 | 14 | 22 | 22 |\n",
       "|  6 |  9 | 14 |  4 |  4 |\n",
       "| 20 | 16 | 11 | 15 | 15 |\n",
       "| 15 | 20 | 12 | 18 | 18 |\n",
       "|  4 |  6 | 10 |  2 |  2 |\n",
       "| 18 | 22 | 16 | 20 | 20 |\n",
       "|  9 | 12 |  9 |  8 |  8 |\n",
       "| 12 | 10 | 11 | 12 | 12 |\n",
       "\n"
      ],
      "text/plain": [
       "   bstat btrics micro maths macro\n",
       "1  28    25     20    18    18   \n",
       "2  20    21     25    25    25   \n",
       "3  21    16     14    22    22   \n",
       "4   6     9     14     4     4   \n",
       "5  20    16     11    15    15   \n",
       "6  15    20     12    18    18   \n",
       "7   4     6     10     2     2   \n",
       "8  18    22     16    20    20   \n",
       "9   9    12      9     8     8   \n",
       "10 12    10     11    12    12   "
      ]
     },
     "metadata": {},
     "output_type": "display_data"
    }
   ],
   "source": [
    "x<-MA_First[,c(4:8)]\n",
    "x"
   ]
  },
  {
   "cell_type": "code",
   "execution_count": 204,
   "id": "7acb33b6",
   "metadata": {},
   "outputs": [
    {
     "data": {
      "text/html": [
       "<table class=\"dataframe\">\n",
       "<caption>A data.frame: 10 × 6</caption>\n",
       "<thead>\n",
       "\t<tr><th scope=col>Roll_no</th><th scope=col>bstat</th><th scope=col>btrics</th><th scope=col>micro</th><th scope=col>maths</th><th scope=col>macro</th></tr>\n",
       "\t<tr><th scope=col>&lt;dbl&gt;</th><th scope=col>&lt;dbl&gt;</th><th scope=col>&lt;dbl&gt;</th><th scope=col>&lt;dbl&gt;</th><th scope=col>&lt;dbl&gt;</th><th scope=col>&lt;dbl&gt;</th></tr>\n",
       "</thead>\n",
       "<tbody>\n",
       "\t<tr><td>121</td><td>28</td><td>25</td><td>20</td><td>18</td><td>18</td></tr>\n",
       "\t<tr><td>122</td><td>20</td><td>21</td><td>25</td><td>25</td><td>25</td></tr>\n",
       "\t<tr><td>123</td><td>21</td><td>16</td><td>14</td><td>22</td><td>22</td></tr>\n",
       "\t<tr><td>124</td><td> 6</td><td> 9</td><td>14</td><td> 4</td><td> 4</td></tr>\n",
       "\t<tr><td>125</td><td>20</td><td>16</td><td>11</td><td>15</td><td>15</td></tr>\n",
       "\t<tr><td>126</td><td>15</td><td>20</td><td>12</td><td>18</td><td>18</td></tr>\n",
       "\t<tr><td>127</td><td> 4</td><td> 6</td><td>10</td><td> 2</td><td> 2</td></tr>\n",
       "\t<tr><td>128</td><td>18</td><td>22</td><td>16</td><td>20</td><td>20</td></tr>\n",
       "\t<tr><td>129</td><td> 9</td><td>12</td><td> 9</td><td> 8</td><td> 8</td></tr>\n",
       "\t<tr><td>130</td><td>12</td><td>10</td><td>11</td><td>12</td><td>12</td></tr>\n",
       "</tbody>\n",
       "</table>\n"
      ],
      "text/latex": [
       "A data.frame: 10 × 6\n",
       "\\begin{tabular}{llllll}\n",
       " Roll\\_no & bstat & btrics & micro & maths & macro\\\\\n",
       " <dbl> & <dbl> & <dbl> & <dbl> & <dbl> & <dbl>\\\\\n",
       "\\hline\n",
       "\t 121 & 28 & 25 & 20 & 18 & 18\\\\\n",
       "\t 122 & 20 & 21 & 25 & 25 & 25\\\\\n",
       "\t 123 & 21 & 16 & 14 & 22 & 22\\\\\n",
       "\t 124 &  6 &  9 & 14 &  4 &  4\\\\\n",
       "\t 125 & 20 & 16 & 11 & 15 & 15\\\\\n",
       "\t 126 & 15 & 20 & 12 & 18 & 18\\\\\n",
       "\t 127 &  4 &  6 & 10 &  2 &  2\\\\\n",
       "\t 128 & 18 & 22 & 16 & 20 & 20\\\\\n",
       "\t 129 &  9 & 12 &  9 &  8 &  8\\\\\n",
       "\t 130 & 12 & 10 & 11 & 12 & 12\\\\\n",
       "\\end{tabular}\n"
      ],
      "text/markdown": [
       "\n",
       "A data.frame: 10 × 6\n",
       "\n",
       "| Roll_no &lt;dbl&gt; | bstat &lt;dbl&gt; | btrics &lt;dbl&gt; | micro &lt;dbl&gt; | maths &lt;dbl&gt; | macro &lt;dbl&gt; |\n",
       "|---|---|---|---|---|---|\n",
       "| 121 | 28 | 25 | 20 | 18 | 18 |\n",
       "| 122 | 20 | 21 | 25 | 25 | 25 |\n",
       "| 123 | 21 | 16 | 14 | 22 | 22 |\n",
       "| 124 |  6 |  9 | 14 |  4 |  4 |\n",
       "| 125 | 20 | 16 | 11 | 15 | 15 |\n",
       "| 126 | 15 | 20 | 12 | 18 | 18 |\n",
       "| 127 |  4 |  6 | 10 |  2 |  2 |\n",
       "| 128 | 18 | 22 | 16 | 20 | 20 |\n",
       "| 129 |  9 | 12 |  9 |  8 |  8 |\n",
       "| 130 | 12 | 10 | 11 | 12 | 12 |\n",
       "\n"
      ],
      "text/plain": [
       "   Roll_no bstat btrics micro maths macro\n",
       "1  121     28    25     20    18    18   \n",
       "2  122     20    21     25    25    25   \n",
       "3  123     21    16     14    22    22   \n",
       "4  124      6     9     14     4     4   \n",
       "5  125     20    16     11    15    15   \n",
       "6  126     15    20     12    18    18   \n",
       "7  127      4     6     10     2     2   \n",
       "8  128     18    22     16    20    20   \n",
       "9  129      9    12      9     8     8   \n",
       "10 130     12    10     11    12    12   "
      ]
     },
     "metadata": {},
     "output_type": "display_data"
    }
   ],
   "source": [
    "y<-MA_First[,c(1,4:8)]\n",
    "y"
   ]
  },
  {
   "cell_type": "code",
   "execution_count": 205,
   "id": "368e59e2",
   "metadata": {},
   "outputs": [],
   "source": [
    "rm(a,b,x,y)"
   ]
  },
  {
   "cell_type": "markdown",
   "id": "4fe1aa96",
   "metadata": {},
   "source": [
    "## Factors"
   ]
  },
  {
   "cell_type": "markdown",
   "id": "a5e844b5",
   "metadata": {},
   "source": [
    "There are two main types of data: numerical and categorical.Categorical variables represent types of data which devided into groups. Like sex, religion, social group, educational qualification etc"
   ]
  },
  {
   "cell_type": "code",
   "execution_count": 206,
   "id": "5fede34e",
   "metadata": {},
   "outputs": [
    {
     "name": "stdout",
     "output_type": "stream",
     "text": [
      "'data.frame':\t10 obs. of  9 variables:\n",
      " $ Roll_no: num  121 122 123 124 125 126 127 128 129 130\n",
      " $ names  : chr  \"A\" \"B\" \"C\" \"D\" ...\n",
      " $ dob    : Date, format: \"1990-12-15\" \"1990-12-01\" ...\n",
      " $ bstat  : num  28 20 21 6 20 15 4 18 9 12\n",
      " $ btrics : num  25 21 16 9 16 20 6 22 12 10\n",
      " $ micro  : num  20 25 14 14 11 12 10 16 9 11\n",
      " $ maths  : num  18 25 22 4 15 18 2 20 8 12\n",
      " $ macro  : num  18 25 22 4 15 18 2 20 8 12\n",
      " $ sex    : chr  \"M\" \"F\" \"F\" \"M\" ...\n"
     ]
    }
   ],
   "source": [
    "str(MA_First)"
   ]
  },
  {
   "cell_type": "markdown",
   "id": "5aef3311",
   "metadata": {},
   "source": [
    "Telling R to treat sex as categorical variable"
   ]
  },
  {
   "cell_type": "markdown",
   "id": "c5ace486",
   "metadata": {},
   "source": [
    "The new variable Sex is called a factor; a factor is a categorical variable which takes various discrete levels in this case M & F for male and female"
   ]
  },
  {
   "cell_type": "code",
   "execution_count": 207,
   "id": "5403670e",
   "metadata": {},
   "outputs": [
    {
     "name": "stdout",
     "output_type": "stream",
     "text": [
      "'data.frame':\t10 obs. of  9 variables:\n",
      " $ Roll_no: num  121 122 123 124 125 126 127 128 129 130\n",
      " $ names  : chr  \"A\" \"B\" \"C\" \"D\" ...\n",
      " $ dob    : Date, format: \"1990-12-15\" \"1990-12-01\" ...\n",
      " $ bstat  : num  28 20 21 6 20 15 4 18 9 12\n",
      " $ btrics : num  25 21 16 9 16 20 6 22 12 10\n",
      " $ micro  : num  20 25 14 14 11 12 10 16 9 11\n",
      " $ maths  : num  18 25 22 4 15 18 2 20 8 12\n",
      " $ macro  : num  18 25 22 4 15 18 2 20 8 12\n",
      " $ sex    : Factor w/ 2 levels \"F\",\"M\": 2 1 1 2 2 1 1 2 1 1\n"
     ]
    }
   ],
   "source": [
    "MA_First$sex=as.factor(MA_First$sex)\n",
    "str(MA_First)"
   ]
  },
  {
   "cell_type": "code",
   "execution_count": 208,
   "id": "ef073f55",
   "metadata": {},
   "outputs": [
    {
     "data": {
      "image/png": "[encoded data removed]",
      "text/plain": [
       "plot without title"
      ]
     },
     "metadata": {
      "image/png": {
       "height": 420,
       "width": 420
      }
     },
     "output_type": "display_data"
    }
   ],
   "source": [
    "# R knows to do sensible things with factor\n",
    "plot (MA_First$sex,MA_First$bstat)"
   ]
  },
  {
   "cell_type": "code",
   "execution_count": 209,
   "id": "1b9fed45",
   "metadata": {},
   "outputs": [
    {
     "data": {
      "text/html": [
       "<style>\n",
       ".list-inline {list-style: none; margin:0; padding: 0}\n",
       ".list-inline>li {display: inline-block}\n",
       ".list-inline>li:not(:last-child)::after {content: \"\\00b7\"; padding: 0 .5ex}\n",
       "</style>\n",
       "<ol class=list-inline><li>2</li><li>1</li><li>1</li><li>2</li><li>2</li><li>1</li><li>1</li><li>2</li><li>1</li><li>1</li></ol>\n"
      ],
      "text/latex": [
       "\\begin{enumerate*}\n",
       "\\item 2\n",
       "\\item 1\n",
       "\\item 1\n",
       "\\item 2\n",
       "\\item 2\n",
       "\\item 1\n",
       "\\item 1\n",
       "\\item 2\n",
       "\\item 1\n",
       "\\item 1\n",
       "\\end{enumerate*}\n"
      ],
      "text/markdown": [
       "1. 2\n",
       "2. 1\n",
       "3. 1\n",
       "4. 2\n",
       "5. 2\n",
       "6. 1\n",
       "7. 1\n",
       "8. 2\n",
       "9. 1\n",
       "10. 1\n",
       "\n",
       "\n"
      ],
      "text/plain": [
       " [1] 2 1 1 2 2 1 1 2 1 1"
      ]
     },
     "metadata": {},
     "output_type": "display_data"
    }
   ],
   "source": [
    "#Information in a factor is stored as a vector of integers\n",
    "as.integer(MA_First$sex)"
   ]
  },
  {
   "cell_type": "code",
   "execution_count": 210,
   "id": "c170bf7c",
   "metadata": {},
   "outputs": [
    {
     "data": {
      "text/html": [
       "<dl>\n",
       "\t<dt>$levels</dt>\n",
       "\t\t<dd><style>\n",
       ".list-inline {list-style: none; margin:0; padding: 0}\n",
       ".list-inline>li {display: inline-block}\n",
       ".list-inline>li:not(:last-child)::after {content: \"\\00b7\"; padding: 0 .5ex}\n",
       "</style>\n",
       "<ol class=list-inline><li>'F'</li><li>'M'</li></ol>\n",
       "</dd>\n",
       "\t<dt>$class</dt>\n",
       "\t\t<dd>'factor'</dd>\n",
       "</dl>\n"
      ],
      "text/latex": [
       "\\begin{description}\n",
       "\\item[\\$levels] \\begin{enumerate*}\n",
       "\\item 'F'\n",
       "\\item 'M'\n",
       "\\end{enumerate*}\n",
       "\n",
       "\\item[\\$class] 'factor'\n",
       "\\end{description}\n"
      ],
      "text/markdown": [
       "$levels\n",
       ":   1. 'F'\n",
       "2. 'M'\n",
       "\n",
       "\n",
       "\n",
       "$class\n",
       ":   'factor'\n",
       "\n",
       "\n"
      ],
      "text/plain": [
       "$levels\n",
       "[1] \"F\" \"M\"\n",
       "\n",
       "$class\n",
       "[1] \"factor\"\n"
      ]
     },
     "metadata": {},
     "output_type": "display_data"
    }
   ],
   "source": [
    "#list of attributes\n",
    "attributes(MA_First$sex)"
   ]
  },
  {
   "cell_type": "code",
   "execution_count": 211,
   "id": "24957b42",
   "metadata": {},
   "outputs": [
    {
     "data": {
      "text/html": [
       "<style>\n",
       ".list-inline {list-style: none; margin:0; padding: 0}\n",
       ".list-inline>li {display: inline-block}\n",
       ".list-inline>li:not(:last-child)::after {content: \"\\00b7\"; padding: 0 .5ex}\n",
       "</style>\n",
       "<ol class=list-inline><li>'M'</li><li>'F'</li><li>'F'</li><li>'M'</li><li>'M'</li><li>'F'</li><li>'F'</li><li>'M'</li><li>'F'</li><li>'F'</li></ol>\n"
      ],
      "text/latex": [
       "\\begin{enumerate*}\n",
       "\\item 'M'\n",
       "\\item 'F'\n",
       "\\item 'F'\n",
       "\\item 'M'\n",
       "\\item 'M'\n",
       "\\item 'F'\n",
       "\\item 'F'\n",
       "\\item 'M'\n",
       "\\item 'F'\n",
       "\\item 'F'\n",
       "\\end{enumerate*}\n"
      ],
      "text/markdown": [
       "1. 'M'\n",
       "2. 'F'\n",
       "3. 'F'\n",
       "4. 'M'\n",
       "5. 'M'\n",
       "6. 'F'\n",
       "7. 'F'\n",
       "8. 'M'\n",
       "9. 'F'\n",
       "10. 'F'\n",
       "\n",
       "\n"
      ],
      "text/plain": [
       " [1] \"M\" \"F\" \"F\" \"M\" \"M\" \"F\" \"F\" \"M\" \"F\" \"F\""
      ]
     },
     "metadata": {},
     "output_type": "display_data"
    }
   ],
   "source": [
    "#can turn back factors in a character vector easily enough\n",
    "as.character(MA_First$sex)"
   ]
  },
  {
   "cell_type": "markdown",
   "id": "2d5fd7f8",
   "metadata": {},
   "source": [
    "## Conditional statements"
   ]
  },
  {
   "cell_type": "code",
   "execution_count": 212,
   "id": "7c51dd87",
   "metadata": {},
   "outputs": [
    {
     "data": {
      "text/html": [
       "TRUE"
      ],
      "text/latex": [
       "TRUE"
      ],
      "text/markdown": [
       "TRUE"
      ],
      "text/plain": [
       "[1] TRUE"
      ]
     },
     "metadata": {},
     "output_type": "display_data"
    },
    {
     "data": {
      "text/html": [
       "TRUE"
      ],
      "text/latex": [
       "TRUE"
      ],
      "text/markdown": [
       "TRUE"
      ],
      "text/plain": [
       "[1] TRUE"
      ]
     },
     "metadata": {},
     "output_type": "display_data"
    },
    {
     "data": {
      "text/html": [
       "TRUE"
      ],
      "text/latex": [
       "TRUE"
      ],
      "text/markdown": [
       "TRUE"
      ],
      "text/plain": [
       "[1] TRUE"
      ]
     },
     "metadata": {},
     "output_type": "display_data"
    },
    {
     "data": {
      "text/html": [
       "TRUE"
      ],
      "text/latex": [
       "TRUE"
      ],
      "text/markdown": [
       "TRUE"
      ],
      "text/plain": [
       "[1] TRUE"
      ]
     },
     "metadata": {},
     "output_type": "display_data"
    },
    {
     "data": {
      "text/html": [
       "TRUE"
      ],
      "text/latex": [
       "TRUE"
      ],
      "text/markdown": [
       "TRUE"
      ],
      "text/plain": [
       "[1] TRUE"
      ]
     },
     "metadata": {},
     "output_type": "display_data"
    },
    {
     "data": {
      "text/html": [
       "TRUE"
      ],
      "text/latex": [
       "TRUE"
      ],
      "text/markdown": [
       "TRUE"
      ],
      "text/plain": [
       "[1] TRUE"
      ]
     },
     "metadata": {},
     "output_type": "display_data"
    }
   ],
   "source": [
    "## == equal, >= greater than equal, <= less than equal, \n",
    "#  > greater than only and < less than only\n",
    "\n",
    "5==5\n",
    "4<=5\n",
    "5<=5\n",
    "6>=5\n",
    "6>5\n",
    "7<9"
   ]
  },
  {
   "cell_type": "markdown",
   "id": "ea3dd716",
   "metadata": {},
   "source": [
    "## Creating Object/Variable with conditional statement"
   ]
  },
  {
   "cell_type": "code",
   "execution_count": 213,
   "id": "d6014d53",
   "metadata": {},
   "outputs": [
    {
     "name": "stderr",
     "output_type": "stream",
     "text": [
      "The following objects are masked _by_ .GlobalEnv:\n",
      "\n",
      "    bstat, dob, macro, maths, micro, names, Roll_no\n",
      "\n",
      "\n",
      "The following objects are masked from MA_Result:\n",
      "\n",
      "    bstat, dob, maths, micro, names, Roll_no\n",
      "\n",
      "\n"
     ]
    },
    {
     "data": {
      "text/html": [
       "<style>\n",
       ".list-inline {list-style: none; margin:0; padding: 0}\n",
       ".list-inline>li {display: inline-block}\n",
       ".list-inline>li:not(:last-child)::after {content: \"\\00b7\"; padding: 0 .5ex}\n",
       "</style>\n",
       "<ol class=list-inline><li>11</li><li>12</li><li>11</li><li>5</li><li>50</li><li>60</li><li>4</li><li>20</li><li>9</li><li>19</li><li>20</li><li>20</li><li>30</li><li>70</li><li>15</li><li>50</li><li>30</li><li>20</li><li>40</li><li>60</li></ol>\n"
      ],
      "text/latex": [
       "\\begin{enumerate*}\n",
       "\\item 11\n",
       "\\item 12\n",
       "\\item 11\n",
       "\\item 5\n",
       "\\item 50\n",
       "\\item 60\n",
       "\\item 4\n",
       "\\item 20\n",
       "\\item 9\n",
       "\\item 19\n",
       "\\item 20\n",
       "\\item 20\n",
       "\\item 30\n",
       "\\item 70\n",
       "\\item 15\n",
       "\\item 50\n",
       "\\item 30\n",
       "\\item 20\n",
       "\\item 40\n",
       "\\item 60\n",
       "\\end{enumerate*}\n"
      ],
      "text/markdown": [
       "1. 11\n",
       "2. 12\n",
       "3. 11\n",
       "4. 5\n",
       "5. 50\n",
       "6. 60\n",
       "7. 4\n",
       "8. 20\n",
       "9. 9\n",
       "10. 19\n",
       "11. 20\n",
       "12. 20\n",
       "13. 30\n",
       "14. 70\n",
       "15. 15\n",
       "16. 50\n",
       "17. 30\n",
       "18. 20\n",
       "19. 40\n",
       "20. 60\n",
       "\n",
       "\n"
      ],
      "text/plain": [
       " [1] 11 12 11  5 50 60  4 20  9 19 20 20 30 70 15 50 30 20 40 60"
      ]
     },
     "metadata": {},
     "output_type": "display_data"
    }
   ],
   "source": [
    "attach(MA_First)\n",
    "bstat"
   ]
  },
  {
   "cell_type": "markdown",
   "id": "58d71727",
   "metadata": {},
   "source": [
    "## ifelse"
   ]
  },
  {
   "cell_type": "code",
   "execution_count": 214,
   "id": "1a100556",
   "metadata": {},
   "outputs": [
    {
     "data": {
      "text/html": [
       "<style>\n",
       ".list-inline {list-style: none; margin:0; padding: 0}\n",
       ".list-inline>li {display: inline-block}\n",
       ".list-inline>li:not(:last-child)::after {content: \"\\00b7\"; padding: 0 .5ex}\n",
       "</style>\n",
       "<ol class=list-inline><li>'REPEAT'</li><li>'PASS'</li><li>'REPEAT'</li><li>'REPEAT'</li><li>'PASS'</li><li>'PASS'</li><li>'REPEAT'</li><li>'PASS'</li><li>'REPEAT'</li><li>'PASS'</li><li>'PASS'</li><li>'PASS'</li><li>'PASS'</li><li>'PASS'</li><li>'PASS'</li><li>'PASS'</li><li>'PASS'</li><li>'PASS'</li><li>'PASS'</li><li>'PASS'</li></ol>\n"
      ],
      "text/latex": [
       "\\begin{enumerate*}\n",
       "\\item 'REPEAT'\n",
       "\\item 'PASS'\n",
       "\\item 'REPEAT'\n",
       "\\item 'REPEAT'\n",
       "\\item 'PASS'\n",
       "\\item 'PASS'\n",
       "\\item 'REPEAT'\n",
       "\\item 'PASS'\n",
       "\\item 'REPEAT'\n",
       "\\item 'PASS'\n",
       "\\item 'PASS'\n",
       "\\item 'PASS'\n",
       "\\item 'PASS'\n",
       "\\item 'PASS'\n",
       "\\item 'PASS'\n",
       "\\item 'PASS'\n",
       "\\item 'PASS'\n",
       "\\item 'PASS'\n",
       "\\item 'PASS'\n",
       "\\item 'PASS'\n",
       "\\end{enumerate*}\n"
      ],
      "text/markdown": [
       "1. 'REPEAT'\n",
       "2. 'PASS'\n",
       "3. 'REPEAT'\n",
       "4. 'REPEAT'\n",
       "5. 'PASS'\n",
       "6. 'PASS'\n",
       "7. 'REPEAT'\n",
       "8. 'PASS'\n",
       "9. 'REPEAT'\n",
       "10. 'PASS'\n",
       "11. 'PASS'\n",
       "12. 'PASS'\n",
       "13. 'PASS'\n",
       "14. 'PASS'\n",
       "15. 'PASS'\n",
       "16. 'PASS'\n",
       "17. 'PASS'\n",
       "18. 'PASS'\n",
       "19. 'PASS'\n",
       "20. 'PASS'\n",
       "\n",
       "\n"
      ],
      "text/plain": [
       " [1] \"REPEAT\" \"PASS\"   \"REPEAT\" \"REPEAT\" \"PASS\"   \"PASS\"   \"REPEAT\" \"PASS\"  \n",
       " [9] \"REPEAT\" \"PASS\"   \"PASS\"   \"PASS\"   \"PASS\"   \"PASS\"   \"PASS\"   \"PASS\"  \n",
       "[17] \"PASS\"   \"PASS\"   \"PASS\"   \"PASS\"  "
      ]
     },
     "metadata": {},
     "output_type": "display_data"
    },
    {
     "data": {
      "text/html": [
       "<style>\n",
       ".list-inline {list-style: none; margin:0; padding: 0}\n",
       ".list-inline>li {display: inline-block}\n",
       ".list-inline>li:not(:last-child)::after {content: \"\\00b7\"; padding: 0 .5ex}\n",
       "</style>\n",
       "<ol class=list-inline><li>1</li><li>3</li><li>4</li><li>7</li><li>9</li></ol>\n"
      ],
      "text/latex": [
       "\\begin{enumerate*}\n",
       "\\item 1\n",
       "\\item 3\n",
       "\\item 4\n",
       "\\item 7\n",
       "\\item 9\n",
       "\\end{enumerate*}\n"
      ],
      "text/markdown": [
       "1. 1\n",
       "2. 3\n",
       "3. 4\n",
       "4. 7\n",
       "5. 9\n",
       "\n",
       "\n"
      ],
      "text/plain": [
       "[1] 1 3 4 7 9"
      ]
     },
     "metadata": {},
     "output_type": "display_data"
    }
   ],
   "source": [
    "Result_S <- ifelse(bstat>=12, \"PASS\",\"REPEAT\")\n",
    "Result_S\n",
    "#index position of who failed\n",
    "which(bstat<12)"
   ]
  },
  {
   "cell_type": "code",
   "execution_count": 215,
   "id": "c15b3f39",
   "metadata": {},
   "outputs": [
    {
     "data": {
      "text/html": [
       "<style>\n",
       ".list-inline {list-style: none; margin:0; padding: 0}\n",
       ".list-inline>li {display: inline-block}\n",
       ".list-inline>li:not(:last-child)::after {content: \"\\00b7\"; padding: 0 .5ex}\n",
       "</style>\n",
       "<ol class=list-inline><li>'PASS'</li><li>'PASS'</li><li>'PASS'</li><li>'REPEAT'</li><li>'PASS'</li><li>'PASS'</li><li>'REPEAT'</li><li>'PASS'</li><li>'PASS'</li><li>'REPEAT'</li></ol>\n"
      ],
      "text/latex": [
       "\\begin{enumerate*}\n",
       "\\item 'PASS'\n",
       "\\item 'PASS'\n",
       "\\item 'PASS'\n",
       "\\item 'REPEAT'\n",
       "\\item 'PASS'\n",
       "\\item 'PASS'\n",
       "\\item 'REPEAT'\n",
       "\\item 'PASS'\n",
       "\\item 'PASS'\n",
       "\\item 'REPEAT'\n",
       "\\end{enumerate*}\n"
      ],
      "text/markdown": [
       "1. 'PASS'\n",
       "2. 'PASS'\n",
       "3. 'PASS'\n",
       "4. 'REPEAT'\n",
       "5. 'PASS'\n",
       "6. 'PASS'\n",
       "7. 'REPEAT'\n",
       "8. 'PASS'\n",
       "9. 'PASS'\n",
       "10. 'REPEAT'\n",
       "\n",
       "\n"
      ],
      "text/plain": [
       " [1] \"PASS\"   \"PASS\"   \"PASS\"   \"REPEAT\" \"PASS\"   \"PASS\"   \"REPEAT\" \"PASS\"  \n",
       " [9] \"PASS\"   \"REPEAT\""
      ]
     },
     "metadata": {},
     "output_type": "display_data"
    }
   ],
   "source": [
    "Result_E <- ifelse(btrics>=12, \"PASS\",\"REPEAT\")\n",
    "Result_E"
   ]
  },
  {
   "cell_type": "code",
   "execution_count": 216,
   "id": "264af767",
   "metadata": {},
   "outputs": [],
   "source": [
    "MA_First1 <-data.frame(MA_First, Result_E, Result_S)"
   ]
  },
  {
   "cell_type": "code",
   "execution_count": 217,
   "id": "d517a4c6",
   "metadata": {},
   "outputs": [
    {
     "data": {
      "text/html": [
       "<style>\n",
       ".list-inline {list-style: none; margin:0; padding: 0}\n",
       ".list-inline>li {display: inline-block}\n",
       ".list-inline>li:not(:last-child)::after {content: \"\\00b7\"; padding: 0 .5ex}\n",
       "</style>\n",
       "<ol class=list-inline><li>'PASS'</li><li>'PASS'</li><li>'PASS'</li><li>'REPEAT'</li><li>'PASS'</li><li>'PASS'</li><li>'REPEAT'</li><li>'PASS'</li><li>'REPEAT'</li><li>'PASS'</li><li>'PASS'</li><li>'PASS'</li><li>'PASS'</li><li>'PASS'</li><li>'PASS'</li><li>'PASS'</li><li>'PASS'</li><li>'PASS'</li><li>'PASS'</li><li>'PASS'</li></ol>\n"
      ],
      "text/latex": [
       "\\begin{enumerate*}\n",
       "\\item 'PASS'\n",
       "\\item 'PASS'\n",
       "\\item 'PASS'\n",
       "\\item 'REPEAT'\n",
       "\\item 'PASS'\n",
       "\\item 'PASS'\n",
       "\\item 'REPEAT'\n",
       "\\item 'PASS'\n",
       "\\item 'REPEAT'\n",
       "\\item 'PASS'\n",
       "\\item 'PASS'\n",
       "\\item 'PASS'\n",
       "\\item 'PASS'\n",
       "\\item 'PASS'\n",
       "\\item 'PASS'\n",
       "\\item 'PASS'\n",
       "\\item 'PASS'\n",
       "\\item 'PASS'\n",
       "\\item 'PASS'\n",
       "\\item 'PASS'\n",
       "\\end{enumerate*}\n"
      ],
      "text/markdown": [
       "1. 'PASS'\n",
       "2. 'PASS'\n",
       "3. 'PASS'\n",
       "4. 'REPEAT'\n",
       "5. 'PASS'\n",
       "6. 'PASS'\n",
       "7. 'REPEAT'\n",
       "8. 'PASS'\n",
       "9. 'REPEAT'\n",
       "10. 'PASS'\n",
       "11. 'PASS'\n",
       "12. 'PASS'\n",
       "13. 'PASS'\n",
       "14. 'PASS'\n",
       "15. 'PASS'\n",
       "16. 'PASS'\n",
       "17. 'PASS'\n",
       "18. 'PASS'\n",
       "19. 'PASS'\n",
       "20. 'PASS'\n",
       "\n",
       "\n"
      ],
      "text/plain": [
       " [1] \"PASS\"   \"PASS\"   \"PASS\"   \"REPEAT\" \"PASS\"   \"PASS\"   \"REPEAT\" \"PASS\"  \n",
       " [9] \"REPEAT\" \"PASS\"   \"PASS\"   \"PASS\"   \"PASS\"   \"PASS\"   \"PASS\"   \"PASS\"  \n",
       "[17] \"PASS\"   \"PASS\"   \"PASS\"   \"PASS\"  "
      ]
     },
     "metadata": {},
     "output_type": "display_data"
    },
    {
     "data": {
      "text/html": [
       "<style>\n",
       ".list-inline {list-style: none; margin:0; padding: 0}\n",
       ".list-inline>li {display: inline-block}\n",
       ".list-inline>li:not(:last-child)::after {content: \"\\00b7\"; padding: 0 .5ex}\n",
       "</style>\n",
       "<ol class=list-inline><li>4</li><li>7</li><li>9</li></ol>\n"
      ],
      "text/latex": [
       "\\begin{enumerate*}\n",
       "\\item 4\n",
       "\\item 7\n",
       "\\item 9\n",
       "\\end{enumerate*}\n"
      ],
      "text/markdown": [
       "1. 4\n",
       "2. 7\n",
       "3. 9\n",
       "\n",
       "\n"
      ],
      "text/plain": [
       "[1] 4 7 9"
      ]
     },
     "metadata": {},
     "output_type": "display_data"
    }
   ],
   "source": [
    "Result_SE <- ifelse(bstat+btrics>=24, \"PASS\",\"REPEAT\")\n",
    "Result_SE\n",
    "\n",
    "which(bstat+btrics<24)"
   ]
  },
  {
   "cell_type": "markdown",
   "id": "3969105c",
   "metadata": {},
   "source": [
    "## And condition"
   ]
  },
  {
   "cell_type": "code",
   "execution_count": 218,
   "id": "6c35bb90",
   "metadata": {},
   "outputs": [
    {
     "data": {
      "text/html": [
       "<style>\n",
       ".list-inline {list-style: none; margin:0; padding: 0}\n",
       ".list-inline>li {display: inline-block}\n",
       ".list-inline>li:not(:last-child)::after {content: \"\\00b7\"; padding: 0 .5ex}\n",
       "</style>\n",
       "<ol class=list-inline><li>'REPEAT'</li><li>'PASS'</li><li>'REPEAT'</li><li>'REPEAT'</li><li>'PASS'</li><li>'PASS'</li><li>'REPEAT'</li><li>'PASS'</li><li>'REPEAT'</li><li>'REPEAT'</li><li>'PASS'</li><li>'PASS'</li><li>'PASS'</li><li>'REPEAT'</li><li>'PASS'</li><li>'PASS'</li><li>'REPEAT'</li><li>'PASS'</li><li>'PASS'</li><li>'REPEAT'</li></ol>\n"
      ],
      "text/latex": [
       "\\begin{enumerate*}\n",
       "\\item 'REPEAT'\n",
       "\\item 'PASS'\n",
       "\\item 'REPEAT'\n",
       "\\item 'REPEAT'\n",
       "\\item 'PASS'\n",
       "\\item 'PASS'\n",
       "\\item 'REPEAT'\n",
       "\\item 'PASS'\n",
       "\\item 'REPEAT'\n",
       "\\item 'REPEAT'\n",
       "\\item 'PASS'\n",
       "\\item 'PASS'\n",
       "\\item 'PASS'\n",
       "\\item 'REPEAT'\n",
       "\\item 'PASS'\n",
       "\\item 'PASS'\n",
       "\\item 'REPEAT'\n",
       "\\item 'PASS'\n",
       "\\item 'PASS'\n",
       "\\item 'REPEAT'\n",
       "\\end{enumerate*}\n"
      ],
      "text/markdown": [
       "1. 'REPEAT'\n",
       "2. 'PASS'\n",
       "3. 'REPEAT'\n",
       "4. 'REPEAT'\n",
       "5. 'PASS'\n",
       "6. 'PASS'\n",
       "7. 'REPEAT'\n",
       "8. 'PASS'\n",
       "9. 'REPEAT'\n",
       "10. 'REPEAT'\n",
       "11. 'PASS'\n",
       "12. 'PASS'\n",
       "13. 'PASS'\n",
       "14. 'REPEAT'\n",
       "15. 'PASS'\n",
       "16. 'PASS'\n",
       "17. 'REPEAT'\n",
       "18. 'PASS'\n",
       "19. 'PASS'\n",
       "20. 'REPEAT'\n",
       "\n",
       "\n"
      ],
      "text/plain": [
       " [1] \"REPEAT\" \"PASS\"   \"REPEAT\" \"REPEAT\" \"PASS\"   \"PASS\"   \"REPEAT\" \"PASS\"  \n",
       " [9] \"REPEAT\" \"REPEAT\" \"PASS\"   \"PASS\"   \"PASS\"   \"REPEAT\" \"PASS\"   \"PASS\"  \n",
       "[17] \"REPEAT\" \"PASS\"   \"PASS\"   \"REPEAT\""
      ]
     },
     "metadata": {},
     "output_type": "display_data"
    },
    {
     "data": {
      "text/html": [
       "<style>\n",
       ".list-inline {list-style: none; margin:0; padding: 0}\n",
       ".list-inline>li {display: inline-block}\n",
       ".list-inline>li:not(:last-child)::after {content: \"\\00b7\"; padding: 0 .5ex}\n",
       "</style>\n",
       "<ol class=list-inline><li>1</li><li>3</li><li>4</li><li>7</li><li>9</li><li>10</li><li>14</li><li>17</li><li>20</li></ol>\n"
      ],
      "text/latex": [
       "\\begin{enumerate*}\n",
       "\\item 1\n",
       "\\item 3\n",
       "\\item 4\n",
       "\\item 7\n",
       "\\item 9\n",
       "\\item 10\n",
       "\\item 14\n",
       "\\item 17\n",
       "\\item 20\n",
       "\\end{enumerate*}\n"
      ],
      "text/markdown": [
       "1. 1\n",
       "2. 3\n",
       "3. 4\n",
       "4. 7\n",
       "5. 9\n",
       "6. 10\n",
       "7. 14\n",
       "8. 17\n",
       "9. 20\n",
       "\n",
       "\n"
      ],
      "text/plain": [
       "[1]  1  3  4  7  9 10 14 17 20"
      ]
     },
     "metadata": {},
     "output_type": "display_data"
    }
   ],
   "source": [
    "Result_SE1 <- ifelse (bstat>=12 & btrics>=12, \"PASS\",\"REPEAT\")\n",
    "Result_SE1\n",
    "which(bstat<12 | btrics<12)"
   ]
  },
  {
   "cell_type": "code",
   "execution_count": 219,
   "id": "4314feab",
   "metadata": {},
   "outputs": [],
   "source": [
    "MA_First2 <-data.frame(MA_First, Result_SE1)"
   ]
  },
  {
   "cell_type": "markdown",
   "id": "8c194b91",
   "metadata": {},
   "source": [
    "## Or condition"
   ]
  },
  {
   "cell_type": "code",
   "execution_count": 220,
   "id": "5bf61049",
   "metadata": {},
   "outputs": [
    {
     "data": {
      "text/html": [
       "<style>\n",
       ".list-inline {list-style: none; margin:0; padding: 0}\n",
       ".list-inline>li {display: inline-block}\n",
       ".list-inline>li:not(:last-child)::after {content: \"\\00b7\"; padding: 0 .5ex}\n",
       "</style>\n",
       "<ol class=list-inline><li>'PASS'</li><li>'PASS'</li><li>'PASS'</li><li>'REPEAT'</li><li>'PASS'</li><li>'PASS'</li><li>'REPEAT'</li><li>'PASS'</li><li>'PASS'</li><li>'PASS'</li><li>'PASS'</li><li>'PASS'</li><li>'PASS'</li><li>'PASS'</li><li>'PASS'</li><li>'PASS'</li><li>'PASS'</li><li>'PASS'</li><li>'PASS'</li><li>'PASS'</li></ol>\n"
      ],
      "text/latex": [
       "\\begin{enumerate*}\n",
       "\\item 'PASS'\n",
       "\\item 'PASS'\n",
       "\\item 'PASS'\n",
       "\\item 'REPEAT'\n",
       "\\item 'PASS'\n",
       "\\item 'PASS'\n",
       "\\item 'REPEAT'\n",
       "\\item 'PASS'\n",
       "\\item 'PASS'\n",
       "\\item 'PASS'\n",
       "\\item 'PASS'\n",
       "\\item 'PASS'\n",
       "\\item 'PASS'\n",
       "\\item 'PASS'\n",
       "\\item 'PASS'\n",
       "\\item 'PASS'\n",
       "\\item 'PASS'\n",
       "\\item 'PASS'\n",
       "\\item 'PASS'\n",
       "\\item 'PASS'\n",
       "\\end{enumerate*}\n"
      ],
      "text/markdown": [
       "1. 'PASS'\n",
       "2. 'PASS'\n",
       "3. 'PASS'\n",
       "4. 'REPEAT'\n",
       "5. 'PASS'\n",
       "6. 'PASS'\n",
       "7. 'REPEAT'\n",
       "8. 'PASS'\n",
       "9. 'PASS'\n",
       "10. 'PASS'\n",
       "11. 'PASS'\n",
       "12. 'PASS'\n",
       "13. 'PASS'\n",
       "14. 'PASS'\n",
       "15. 'PASS'\n",
       "16. 'PASS'\n",
       "17. 'PASS'\n",
       "18. 'PASS'\n",
       "19. 'PASS'\n",
       "20. 'PASS'\n",
       "\n",
       "\n"
      ],
      "text/plain": [
       " [1] \"PASS\"   \"PASS\"   \"PASS\"   \"REPEAT\" \"PASS\"   \"PASS\"   \"REPEAT\" \"PASS\"  \n",
       " [9] \"PASS\"   \"PASS\"   \"PASS\"   \"PASS\"   \"PASS\"   \"PASS\"   \"PASS\"   \"PASS\"  \n",
       "[17] \"PASS\"   \"PASS\"   \"PASS\"   \"PASS\"  "
      ]
     },
     "metadata": {},
     "output_type": "display_data"
    }
   ],
   "source": [
    "Result_SE2 <- ifelse (bstat>=12 | btrics>=12, \"PASS\",\"REPEAT\")\n",
    "Result_SE2"
   ]
  },
  {
   "cell_type": "markdown",
   "id": "ee21e345",
   "metadata": {},
   "source": [
    "## Creating a subset of data frmae with conditional statement"
   ]
  },
  {
   "cell_type": "code",
   "execution_count": 221,
   "id": "a982a9e8",
   "metadata": {},
   "outputs": [],
   "source": [
    "MA_First_Repeat <- subset(MA_First2, Result_SE2==\"REPEAT\")"
   ]
  },
  {
   "cell_type": "code",
   "execution_count": 222,
   "id": "94b9c1fe",
   "metadata": {},
   "outputs": [],
   "source": [
    "#create a subset of data where students have failed in either \n",
    "#Econometrics or statistics\n",
    "\n",
    "Remedial1 <-subset(MA_First2,bstat<12 |btrics <12)"
   ]
  },
  {
   "cell_type": "code",
   "execution_count": 223,
   "id": "42dc45b7",
   "metadata": {},
   "outputs": [],
   "source": [
    "#Create a subset of data where students have failed in both \n",
    "#Econometrics and statistics\n",
    "\n",
    "Remedial1 <-subset(MA_First2,bstat<12 & btrics <12)"
   ]
  },
  {
   "cell_type": "markdown",
   "id": "a7a22a11",
   "metadata": {},
   "source": [
    "## remove NA observation"
   ]
  },
  {
   "cell_type": "code",
   "execution_count": 224,
   "id": "593dc8d6",
   "metadata": {},
   "outputs": [
    {
     "data": {
      "text/html": [
       "<table class=\"dataframe\">\n",
       "<caption>A data.frame: 10 × 3</caption>\n",
       "<thead>\n",
       "\t<tr><th scope=col>Roll_no</th><th scope=col>maths</th><th scope=col>macro</th></tr>\n",
       "\t<tr><th scope=col>&lt;dbl&gt;</th><th scope=col>&lt;dbl&gt;</th><th scope=col>&lt;dbl&gt;</th></tr>\n",
       "</thead>\n",
       "<tbody>\n",
       "\t<tr><td>121</td><td>18</td><td>18</td></tr>\n",
       "\t<tr><td>122</td><td>25</td><td>25</td></tr>\n",
       "\t<tr><td>123</td><td>22</td><td>22</td></tr>\n",
       "\t<tr><td>124</td><td>NA</td><td> 4</td></tr>\n",
       "\t<tr><td>125</td><td>15</td><td>NA</td></tr>\n",
       "\t<tr><td>126</td><td>NA</td><td>18</td></tr>\n",
       "\t<tr><td>127</td><td> 2</td><td> 2</td></tr>\n",
       "\t<tr><td>128</td><td>20</td><td>20</td></tr>\n",
       "\t<tr><td>129</td><td> 8</td><td>NA</td></tr>\n",
       "\t<tr><td>130</td><td>12</td><td>12</td></tr>\n",
       "</tbody>\n",
       "</table>\n"
      ],
      "text/latex": [
       "A data.frame: 10 × 3\n",
       "\\begin{tabular}{lll}\n",
       " Roll\\_no & maths & macro\\\\\n",
       " <dbl> & <dbl> & <dbl>\\\\\n",
       "\\hline\n",
       "\t 121 & 18 & 18\\\\\n",
       "\t 122 & 25 & 25\\\\\n",
       "\t 123 & 22 & 22\\\\\n",
       "\t 124 & NA &  4\\\\\n",
       "\t 125 & 15 & NA\\\\\n",
       "\t 126 & NA & 18\\\\\n",
       "\t 127 &  2 &  2\\\\\n",
       "\t 128 & 20 & 20\\\\\n",
       "\t 129 &  8 & NA\\\\\n",
       "\t 130 & 12 & 12\\\\\n",
       "\\end{tabular}\n"
      ],
      "text/markdown": [
       "\n",
       "A data.frame: 10 × 3\n",
       "\n",
       "| Roll_no &lt;dbl&gt; | maths &lt;dbl&gt; | macro &lt;dbl&gt; |\n",
       "|---|---|---|\n",
       "| 121 | 18 | 18 |\n",
       "| 122 | 25 | 25 |\n",
       "| 123 | 22 | 22 |\n",
       "| 124 | NA |  4 |\n",
       "| 125 | 15 | NA |\n",
       "| 126 | NA | 18 |\n",
       "| 127 |  2 |  2 |\n",
       "| 128 | 20 | 20 |\n",
       "| 129 |  8 | NA |\n",
       "| 130 | 12 | 12 |\n",
       "\n"
      ],
      "text/plain": [
       "   Roll_no maths macro\n",
       "1  121     18    18   \n",
       "2  122     25    25   \n",
       "3  123     22    22   \n",
       "4  124     NA     4   \n",
       "5  125     15    NA   \n",
       "6  126     NA    18   \n",
       "7  127      2     2   \n",
       "8  128     20    20   \n",
       "9  129      8    NA   \n",
       "10 130     12    12   "
      ]
     },
     "metadata": {},
     "output_type": "display_data"
    }
   ],
   "source": [
    "MA <- data.frame(\n",
    "  Roll_no = seq(from=121,to=130,by=1),\n",
    "  maths = c(18,25,22,NA,15,NA,2,20,8,12),\n",
    "  macro = c(18,25,22,4,NA,18,2,20,NA,12))\n",
    "MA"
   ]
  },
  {
   "cell_type": "code",
   "execution_count": 225,
   "id": "92ec24ee",
   "metadata": {},
   "outputs": [
    {
     "data": {
      "text/html": [
       "<table class=\"dataframe\">\n",
       "<caption>A data.frame: 6 × 3</caption>\n",
       "<thead>\n",
       "\t<tr><th></th><th scope=col>Roll_no</th><th scope=col>maths</th><th scope=col>macro</th></tr>\n",
       "\t<tr><th></th><th scope=col>&lt;dbl&gt;</th><th scope=col>&lt;dbl&gt;</th><th scope=col>&lt;dbl&gt;</th></tr>\n",
       "</thead>\n",
       "<tbody>\n",
       "\t<tr><th scope=row>1</th><td>121</td><td>18</td><td>18</td></tr>\n",
       "\t<tr><th scope=row>2</th><td>122</td><td>25</td><td>25</td></tr>\n",
       "\t<tr><th scope=row>3</th><td>123</td><td>22</td><td>22</td></tr>\n",
       "\t<tr><th scope=row>7</th><td>127</td><td> 2</td><td> 2</td></tr>\n",
       "\t<tr><th scope=row>8</th><td>128</td><td>20</td><td>20</td></tr>\n",
       "\t<tr><th scope=row>10</th><td>130</td><td>12</td><td>12</td></tr>\n",
       "</tbody>\n",
       "</table>\n"
      ],
      "text/latex": [
       "A data.frame: 6 × 3\n",
       "\\begin{tabular}{r|lll}\n",
       "  & Roll\\_no & maths & macro\\\\\n",
       "  & <dbl> & <dbl> & <dbl>\\\\\n",
       "\\hline\n",
       "\t1 & 121 & 18 & 18\\\\\n",
       "\t2 & 122 & 25 & 25\\\\\n",
       "\t3 & 123 & 22 & 22\\\\\n",
       "\t7 & 127 &  2 &  2\\\\\n",
       "\t8 & 128 & 20 & 20\\\\\n",
       "\t10 & 130 & 12 & 12\\\\\n",
       "\\end{tabular}\n"
      ],
      "text/markdown": [
       "\n",
       "A data.frame: 6 × 3\n",
       "\n",
       "| <!--/--> | Roll_no &lt;dbl&gt; | maths &lt;dbl&gt; | macro &lt;dbl&gt; |\n",
       "|---|---|---|---|\n",
       "| 1 | 121 | 18 | 18 |\n",
       "| 2 | 122 | 25 | 25 |\n",
       "| 3 | 123 | 22 | 22 |\n",
       "| 7 | 127 |  2 |  2 |\n",
       "| 8 | 128 | 20 | 20 |\n",
       "| 10 | 130 | 12 | 12 |\n",
       "\n"
      ],
      "text/plain": [
       "   Roll_no maths macro\n",
       "1  121     18    18   \n",
       "2  122     25    25   \n",
       "3  123     22    22   \n",
       "7  127      2     2   \n",
       "8  128     20    20   \n",
       "10 130     12    12   "
      ]
     },
     "metadata": {},
     "output_type": "display_data"
    }
   ],
   "source": [
    "#Removing All NA\n",
    "data_1<-MA[complete.cases(MA),]\n",
    "#or\n",
    "data_1<-na.omit(MA)\n",
    "data_1"
   ]
  },
  {
   "cell_type": "code",
   "execution_count": 226,
   "id": "c423c193",
   "metadata": {},
   "outputs": [
    {
     "data": {
      "text/html": [
       "<table class=\"dataframe\">\n",
       "<caption>A data.frame: 8 × 3</caption>\n",
       "<thead>\n",
       "\t<tr><th></th><th scope=col>Roll_no</th><th scope=col>maths</th><th scope=col>macro</th></tr>\n",
       "\t<tr><th></th><th scope=col>&lt;dbl&gt;</th><th scope=col>&lt;dbl&gt;</th><th scope=col>&lt;dbl&gt;</th></tr>\n",
       "</thead>\n",
       "<tbody>\n",
       "\t<tr><th scope=row>1</th><td>121</td><td>18</td><td>18</td></tr>\n",
       "\t<tr><th scope=row>2</th><td>122</td><td>25</td><td>25</td></tr>\n",
       "\t<tr><th scope=row>3</th><td>123</td><td>22</td><td>22</td></tr>\n",
       "\t<tr><th scope=row>4</th><td>124</td><td>NA</td><td> 4</td></tr>\n",
       "\t<tr><th scope=row>6</th><td>126</td><td>NA</td><td>18</td></tr>\n",
       "\t<tr><th scope=row>7</th><td>127</td><td> 2</td><td> 2</td></tr>\n",
       "\t<tr><th scope=row>8</th><td>128</td><td>20</td><td>20</td></tr>\n",
       "\t<tr><th scope=row>10</th><td>130</td><td>12</td><td>12</td></tr>\n",
       "</tbody>\n",
       "</table>\n"
      ],
      "text/latex": [
       "A data.frame: 8 × 3\n",
       "\\begin{tabular}{r|lll}\n",
       "  & Roll\\_no & maths & macro\\\\\n",
       "  & <dbl> & <dbl> & <dbl>\\\\\n",
       "\\hline\n",
       "\t1 & 121 & 18 & 18\\\\\n",
       "\t2 & 122 & 25 & 25\\\\\n",
       "\t3 & 123 & 22 & 22\\\\\n",
       "\t4 & 124 & NA &  4\\\\\n",
       "\t6 & 126 & NA & 18\\\\\n",
       "\t7 & 127 &  2 &  2\\\\\n",
       "\t8 & 128 & 20 & 20\\\\\n",
       "\t10 & 130 & 12 & 12\\\\\n",
       "\\end{tabular}\n"
      ],
      "text/markdown": [
       "\n",
       "A data.frame: 8 × 3\n",
       "\n",
       "| <!--/--> | Roll_no &lt;dbl&gt; | maths &lt;dbl&gt; | macro &lt;dbl&gt; |\n",
       "|---|---|---|---|\n",
       "| 1 | 121 | 18 | 18 |\n",
       "| 2 | 122 | 25 | 25 |\n",
       "| 3 | 123 | 22 | 22 |\n",
       "| 4 | 124 | NA |  4 |\n",
       "| 6 | 126 | NA | 18 |\n",
       "| 7 | 127 |  2 |  2 |\n",
       "| 8 | 128 | 20 | 20 |\n",
       "| 10 | 130 | 12 | 12 |\n",
       "\n"
      ],
      "text/plain": [
       "   Roll_no maths macro\n",
       "1  121     18    18   \n",
       "2  122     25    25   \n",
       "3  123     22    22   \n",
       "4  124     NA     4   \n",
       "6  126     NA    18   \n",
       "7  127      2     2   \n",
       "8  128     20    20   \n",
       "10 130     12    12   "
      ]
     },
     "metadata": {},
     "output_type": "display_data"
    }
   ],
   "source": [
    "data_1<-MA[!is.na(MA$macro),]\n",
    "data_1"
   ]
  },
  {
   "cell_type": "markdown",
   "id": "6a610e0f",
   "metadata": {},
   "source": [
    "## replacing missing values with mean of the column"
   ]
  },
  {
   "cell_type": "code",
   "execution_count": 227,
   "id": "baca1f1c",
   "metadata": {},
   "outputs": [
    {
     "data": {
      "text/html": [
       "<style>\n",
       ".list-inline {list-style: none; margin:0; padding: 0}\n",
       ".list-inline>li {display: inline-block}\n",
       ".list-inline>li:not(:last-child)::after {content: \"\\00b7\"; padding: 0 .5ex}\n",
       "</style>\n",
       "<ol class=list-inline><li>&lt;NA&gt;</li><li>&lt;NA&gt;</li></ol>\n"
      ],
      "text/latex": [
       "\\begin{enumerate*}\n",
       "\\item <NA>\n",
       "\\item <NA>\n",
       "\\end{enumerate*}\n"
      ],
      "text/markdown": [
       "1. &lt;NA&gt;\n",
       "2. &lt;NA&gt;\n",
       "\n",
       "\n"
      ],
      "text/plain": [
       "[1] NA NA"
      ]
     },
     "metadata": {},
     "output_type": "display_data"
    }
   ],
   "source": [
    "MA$maths[c(4,6)]"
   ]
  },
  {
   "cell_type": "code",
   "execution_count": 228,
   "id": "98d307ea",
   "metadata": {},
   "outputs": [
    {
     "data": {
      "text/html": [
       "15.25"
      ],
      "text/latex": [
       "15.25"
      ],
      "text/markdown": [
       "15.25"
      ],
      "text/plain": [
       "[1] 15.25"
      ]
     },
     "metadata": {},
     "output_type": "display_data"
    }
   ],
   "source": [
    "MA$maths[is.na(MA$maths)]<-mean(MA$maths, na.rm=T)\n",
    "\n",
    "mean(MA$maths,na.rm=T)"
   ]
  },
  {
   "cell_type": "markdown",
   "id": "89e5d0eb",
   "metadata": {},
   "source": [
    "## Table/csv/txt/excel"
   ]
  },
  {
   "cell_type": "markdown",
   "id": "a656f518",
   "metadata": {},
   "source": [
    "Export data and save it outside R. Most flexible command for exporting data from R is write.table"
   ]
  },
  {
   "cell_type": "code",
   "execution_count": 229,
   "id": "6ae32d38",
   "metadata": {},
   "outputs": [],
   "source": [
    "#To access the help for this command\n",
    "?write.table"
   ]
  },
  {
   "cell_type": "markdown",
   "id": "4c207fcd",
   "metadata": {},
   "source": [
    "Save the file in current working directory, name it \"ExportedFileName\", and save it as a .CSV file format"
   ]
  },
  {
   "cell_type": "code",
   "execution_count": 230,
   "id": "0b7d41fa",
   "metadata": {},
   "outputs": [],
   "source": [
    "#write.table(MA_First,file = \"MA_First.csv\",sep=\",\")"
   ]
  },
  {
   "cell_type": "markdown",
   "id": "0d42725e",
   "metadata": {},
   "source": [
    "export without row names by setting the row.names=FALSE"
   ]
  },
  {
   "cell_type": "code",
   "execution_count": 231,
   "id": "3b916018",
   "metadata": {},
   "outputs": [],
   "source": [
    "#write.table(MA_First,file = \"MA_First.csv\", row.names= FALSE,sep=\",\")"
   ]
  },
  {
   "cell_type": "markdown",
   "id": "d1bec14c",
   "metadata": {},
   "source": [
    "Exporting a file from R into a different working directory"
   ]
  },
  {
   "cell_type": "code",
   "execution_count": 232,
   "id": "da5fba4f",
   "metadata": {},
   "outputs": [],
   "source": [
    "#write.table(MA_First,file = \"C:/Users/Acer/Desktop/R lab for EC003 Basic Econometrics/MA_First.csv\",row.names= FALSE,sep=\",\")"
   ]
  },
  {
   "cell_type": "markdown",
   "id": "742b429b",
   "metadata": {},
   "source": [
    "To Export data from R into a comma separated value file (.CSV) use"
   ]
  },
  {
   "cell_type": "code",
   "execution_count": 233,
   "id": "d6e35d80",
   "metadata": {},
   "outputs": [],
   "source": [
    "#write.csv(MA_First,file = \"MA_First.csv\", row.names= FALSE)"
   ]
  },
  {
   "cell_type": "markdown",
   "id": "459b193e",
   "metadata": {},
   "source": [
    "Save as tab-delimited text file,setting sep=\"\\t\" & file extension to .txt"
   ]
  },
  {
   "cell_type": "code",
   "execution_count": 234,
   "id": "7132ea43",
   "metadata": {},
   "outputs": [],
   "source": [
    "#write.table(MA_First,file = \"MA_First.txt\", row.names= FALSE,sep=\"\\t\",)"
   ]
  },
  {
   "cell_type": "markdown",
   "id": "52e4d6e1",
   "metadata": {},
   "source": [
    "Or, save it as space-delimited by setting sep=\" \""
   ]
  },
  {
   "cell_type": "code",
   "execution_count": 235,
   "id": "2569fa09",
   "metadata": {},
   "outputs": [],
   "source": [
    "write.table(MA_First,file = \"MA_Firstspace\", row.names= FALSE,sep=\" \")"
   ]
  },
  {
   "cell_type": "markdown",
   "id": "1f0a0ba1",
   "metadata": {},
   "source": [
    "To Export data in Excel need to install package xlsx"
   ]
  },
  {
   "cell_type": "code",
   "execution_count": 236,
   "id": "1c9cd04a",
   "metadata": {},
   "outputs": [],
   "source": [
    "#install.packages(\"xlsx\")\n",
    "#library(xlsx)\n",
    "#write.xlsx(MA_First, file=\"MA_Firsts.xl\", row.names= FALSE)"
   ]
  },
  {
   "cell_type": "markdown",
   "id": "900bcc3d",
   "metadata": {},
   "source": [
    "## Functions in R"
   ]
  },
  {
   "cell_type": "markdown",
   "id": "3ee833f6",
   "metadata": {},
   "source": [
    "## 1)Pre-defined functions in R"
   ]
  },
  {
   "cell_type": "code",
   "execution_count": 237,
   "id": "fd4041ee",
   "metadata": {},
   "outputs": [
    {
     "data": {
      "text/html": [
       "30"
      ],
      "text/latex": [
       "30"
      ],
      "text/markdown": [
       "30"
      ],
      "text/plain": [
       "[1] 30"
      ]
     },
     "metadata": {},
     "output_type": "display_data"
    }
   ],
   "source": [
    "max(10,20,30,4,5,NA, na.rm=T)"
   ]
  },
  {
   "cell_type": "code",
   "execution_count": 238,
   "id": "6d4e5752",
   "metadata": {},
   "outputs": [
    {
     "data": {
      "text/html": [
       "4"
      ],
      "text/latex": [
       "4"
      ],
      "text/markdown": [
       "4"
      ],
      "text/plain": [
       "[1] 4"
      ]
     },
     "metadata": {},
     "output_type": "display_data"
    },
    {
     "data": {
      "text/html": [
       "30"
      ],
      "text/latex": [
       "30"
      ],
      "text/markdown": [
       "30"
      ],
      "text/plain": [
       "[1] 30"
      ]
     },
     "metadata": {},
     "output_type": "display_data"
    }
   ],
   "source": [
    "min(10,20,30,4,5)\n",
    "max(10,20,30,4,5)"
   ]
  },
  {
   "cell_type": "code",
   "execution_count": 239,
   "id": "c25ca3c6",
   "metadata": {},
   "outputs": [
    {
     "data": {
      "text/html": [
       "3.8713"
      ],
      "text/latex": [
       "3.8713"
      ],
      "text/markdown": [
       "3.8713"
      ],
      "text/plain": [
       "[1] 3.8713"
      ]
     },
     "metadata": {},
     "output_type": "display_data"
    },
    {
     "data": {
      "text/html": [
       "3"
      ],
      "text/latex": [
       "3"
      ],
      "text/markdown": [
       "3"
      ],
      "text/plain": [
       "[1] 3"
      ]
     },
     "metadata": {},
     "output_type": "display_data"
    }
   ],
   "source": [
    "round(3.8712871239264926498235423541938463,digits = 4)\n",
    "round(3.147689654678)"
   ]
  },
  {
   "cell_type": "code",
   "execution_count": 240,
   "id": "ac410ac0",
   "metadata": {},
   "outputs": [
    {
     "data": {
      "text/html": [
       "<pre class=language-r><code>function (x, digits = 0) \n",
       "NULL</code></pre>"
      ],
      "text/latex": [
       "\\begin{minted}{r}\n",
       "function (x, digits = 0) \n",
       "NULL\n",
       "\\end{minted}"
      ],
      "text/markdown": [
       "```r\n",
       "function (x, digits = 0) \n",
       "NULL\n",
       "```"
      ],
      "text/plain": [
       "function (x, digits = 0) \n",
       "NULL"
      ]
     },
     "metadata": {},
     "output_type": "display_data"
    }
   ],
   "source": [
    "args(round)"
   ]
  },
  {
   "cell_type": "code",
   "execution_count": 241,
   "id": "dcd2e9c3",
   "metadata": {},
   "outputs": [
    {
     "data": {
      "text/html": [
       "3.14"
      ],
      "text/latex": [
       "3.14"
      ],
      "text/markdown": [
       "3.14"
      ],
      "text/plain": [
       "[1] 3.14"
      ]
     },
     "metadata": {},
     "output_type": "display_data"
    },
    {
     "data": {
      "text/html": [
       "1307674368000"
      ],
      "text/latex": [
       "1307674368000"
      ],
      "text/markdown": [
       "1307674368000"
      ],
      "text/plain": [
       "[1] 1.307674e+12"
      ]
     },
     "metadata": {},
     "output_type": "display_data"
    },
    {
     "data": {
      "text/html": [
       "3.5"
      ],
      "text/latex": [
       "3.5"
      ],
      "text/markdown": [
       "3.5"
      ],
      "text/plain": [
       "[1] 3.5"
      ]
     },
     "metadata": {},
     "output_type": "display_data"
    },
    {
     "data": {
      "text/html": [
       "4"
      ],
      "text/latex": [
       "4"
      ],
      "text/markdown": [
       "4"
      ],
      "text/plain": [
       "[1] 4"
      ]
     },
     "metadata": {},
     "output_type": "display_data"
    }
   ],
   "source": [
    "round(3.1415, digits=2)\n",
    "factorial(15)\n",
    "die <-1:6\n",
    "mean(die)\n",
    "round(mean(die))"
   ]
  },
  {
   "cell_type": "markdown",
   "id": "92f1994c",
   "metadata": {},
   "source": [
    "## 2) Working with sample"
   ]
  },
  {
   "cell_type": "code",
   "execution_count": 242,
   "id": "c16fc3ee",
   "metadata": {},
   "outputs": [
    {
     "data": {
      "text/html": [
       "<pre class=language-r><code>function (x, size, replace = FALSE, prob = NULL) \n",
       "NULL</code></pre>"
      ],
      "text/latex": [
       "\\begin{minted}{r}\n",
       "function (x, size, replace = FALSE, prob = NULL) \n",
       "NULL\n",
       "\\end{minted}"
      ],
      "text/markdown": [
       "```r\n",
       "function (x, size, replace = FALSE, prob = NULL) \n",
       "NULL\n",
       "```"
      ],
      "text/plain": [
       "function (x, size, replace = FALSE, prob = NULL) \n",
       "NULL"
      ]
     },
     "metadata": {},
     "output_type": "display_data"
    }
   ],
   "source": [
    "args(sample)"
   ]
  },
  {
   "cell_type": "code",
   "execution_count": 243,
   "id": "7ede7448",
   "metadata": {},
   "outputs": [
    {
     "data": {
      "text/html": [
       "6"
      ],
      "text/latex": [
       "6"
      ],
      "text/markdown": [
       "6"
      ],
      "text/plain": [
       "[1] 6"
      ]
     },
     "metadata": {},
     "output_type": "display_data"
    },
    {
     "data": {
      "text/html": [
       "<style>\n",
       ".list-inline {list-style: none; margin:0; padding: 0}\n",
       ".list-inline>li {display: inline-block}\n",
       ".list-inline>li:not(:last-child)::after {content: \"\\00b7\"; padding: 0 .5ex}\n",
       "</style>\n",
       "<ol class=list-inline><li>2</li><li>6</li></ol>\n"
      ],
      "text/latex": [
       "\\begin{enumerate*}\n",
       "\\item 2\n",
       "\\item 6\n",
       "\\end{enumerate*}\n"
      ],
      "text/markdown": [
       "1. 2\n",
       "2. 6\n",
       "\n",
       "\n"
      ],
      "text/plain": [
       "[1] 2 6"
      ]
     },
     "metadata": {},
     "output_type": "display_data"
    }
   ],
   "source": [
    "#fetches random from the interval\n",
    "sample(x=1:6,size=1,replace = T)        \n",
    "sample(x=1:6,size=2,replace = T, prob = c(0.2,0.2,0.2,0.2,0.2,1))"
   ]
  },
  {
   "cell_type": "code",
   "execution_count": 244,
   "id": "e500b978",
   "metadata": {},
   "outputs": [
    {
     "data": {
      "text/html": [
       "1"
      ],
      "text/latex": [
       "1"
      ],
      "text/markdown": [
       "1"
      ],
      "text/plain": [
       "[1] 1"
      ]
     },
     "metadata": {},
     "output_type": "display_data"
    },
    {
     "data": {
      "text/html": [
       "<style>\n",
       ".list-inline {list-style: none; margin:0; padding: 0}\n",
       ".list-inline>li {display: inline-block}\n",
       ".list-inline>li:not(:last-child)::after {content: \"\\00b7\"; padding: 0 .5ex}\n",
       "</style>\n",
       "<ol class=list-inline><li>1</li><li>2</li></ol>\n"
      ],
      "text/latex": [
       "\\begin{enumerate*}\n",
       "\\item 1\n",
       "\\item 2\n",
       "\\end{enumerate*}\n"
      ],
      "text/markdown": [
       "1. 1\n",
       "2. 2\n",
       "\n",
       "\n"
      ],
      "text/plain": [
       "[1] 1 2"
      ]
     },
     "metadata": {},
     "output_type": "display_data"
    }
   ],
   "source": [
    "#fetches differnent random from the interval\n",
    "sample(x=1:6,size=1, replace = FALSE)        \n",
    "sample(x=1:6,size=2, replace = FALSE)"
   ]
  },
  {
   "cell_type": "code",
   "execution_count": 245,
   "id": "5bdc9ed8",
   "metadata": {},
   "outputs": [
    {
     "data": {
      "text/html": [
       "<style>\n",
       ".list-inline {list-style: none; margin:0; padding: 0}\n",
       ".list-inline>li {display: inline-block}\n",
       ".list-inline>li:not(:last-child)::after {content: \"\\00b7\"; padding: 0 .5ex}\n",
       "</style>\n",
       "<ol class=list-inline><li>2</li><li>3</li></ol>\n"
      ],
      "text/latex": [
       "\\begin{enumerate*}\n",
       "\\item 2\n",
       "\\item 3\n",
       "\\end{enumerate*}\n"
      ],
      "text/markdown": [
       "1. 2\n",
       "2. 3\n",
       "\n",
       "\n"
      ],
      "text/plain": [
       "[1] 2 3"
      ]
     },
     "metadata": {},
     "output_type": "display_data"
    }
   ],
   "source": [
    "die <-1:6\n",
    "sample(die,size=2, replace = TRUE)"
   ]
  },
  {
   "cell_type": "markdown",
   "id": "00c37505",
   "metadata": {},
   "source": [
    "## Writing a function"
   ]
  },
  {
   "cell_type": "markdown",
   "id": "0e7c9081",
   "metadata": {},
   "source": [
    "function_name <- function(arguments)\n",
    "                 {body of the function}"
   ]
  },
  {
   "cell_type": "code",
   "execution_count": 246,
   "id": "078968cf",
   "metadata": {},
   "outputs": [
    {
     "data": {
      "text/html": [
       "55"
      ],
      "text/latex": [
       "55"
      ],
      "text/markdown": [
       "55"
      ],
      "text/plain": [
       "[1] 55"
      ]
     },
     "metadata": {},
     "output_type": "display_data"
    }
   ],
   "source": [
    "X <- function()\n",
    "{\n",
    "  sum(1:10)\n",
    "}\n",
    "\n",
    "X()"
   ]
  },
  {
   "cell_type": "code",
   "execution_count": 247,
   "id": "c17a9bd6",
   "metadata": {},
   "outputs": [
    {
     "data": {
      "text/html": [
       "456"
      ],
      "text/latex": [
       "456"
      ],
      "text/markdown": [
       "456"
      ],
      "text/plain": [
       "[1] 456"
      ]
     },
     "metadata": {},
     "output_type": "display_data"
    }
   ],
   "source": [
    "X <- function()\n",
    "{\n",
    "  max(10,456,3,30,45,9,11)\n",
    "}\n",
    "\n",
    "X()"
   ]
  },
  {
   "cell_type": "code",
   "execution_count": 248,
   "id": "2a030941",
   "metadata": {},
   "outputs": [
    {
     "data": {
      "text/html": [
       "130"
      ],
      "text/latex": [
       "130"
      ],
      "text/markdown": [
       "130"
      ],
      "text/plain": [
       "[1] 130"
      ]
     },
     "metadata": {},
     "output_type": "display_data"
    }
   ],
   "source": [
    "A<-c(120,110,90,56,44,55) \n",
    "B<-c(130,110,90,120,110,90)\n",
    "X<- function(x,y)\n",
    "{\n",
    "  max(x,y)\n",
    "}\n",
    "X(A,B) "
   ]
  },
  {
   "cell_type": "code",
   "execution_count": 249,
   "id": "31485d68",
   "metadata": {},
   "outputs": [
    {
     "data": {
      "text/html": [
       "79.17"
      ],
      "text/latex": [
       "79.17"
      ],
      "text/markdown": [
       "79.17"
      ],
      "text/plain": [
       "[1] 79.17"
      ]
     },
     "metadata": {},
     "output_type": "display_data"
    },
    {
     "data": {
      "text/html": [
       "79.1666666666667"
      ],
      "text/latex": [
       "79.1666666666667"
      ],
      "text/markdown": [
       "79.1666666666667"
      ],
      "text/plain": [
       "[1] 79.16667"
      ]
     },
     "metadata": {},
     "output_type": "display_data"
    }
   ],
   "source": [
    "avg <- function(x)\n",
    "{\n",
    "  round(sum(x)/length(x),digits = 2)\n",
    "}\n",
    "avg(A)\n",
    "mean(A)"
   ]
  },
  {
   "cell_type": "markdown",
   "id": "78fec052",
   "metadata": {},
   "source": [
    "## if statement"
   ]
  },
  {
   "cell_type": "code",
   "execution_count": 250,
   "id": "c9951d71",
   "metadata": {},
   "outputs": [
    {
     "name": "stdout",
     "output_type": "stream",
     "text": [
      "[1] \"Positive Number\"\n"
     ]
    }
   ],
   "source": [
    "x<-100\n",
    "if(x>0){\n",
    "  print(\"Positive Number\")\n",
    "}"
   ]
  },
  {
   "cell_type": "code",
   "execution_count": 251,
   "id": "20e28c98",
   "metadata": {},
   "outputs": [
    {
     "data": {
      "text/html": [
       "10"
      ],
      "text/latex": [
       "10"
      ],
      "text/markdown": [
       "10"
      ],
      "text/plain": [
       "[1] 10"
      ]
     },
     "metadata": {},
     "output_type": "display_data"
    },
    {
     "name": "stdout",
     "output_type": "stream",
     "text": [
      "[1] \"Negative Number\"\n"
     ]
    }
   ],
   "source": [
    "x<-10L\n",
    "x\n",
    "if(x>0){\n",
    "  print(\"Negative Number\")\n",
    "}"
   ]
  },
  {
   "cell_type": "markdown",
   "id": "fa4ce809",
   "metadata": {},
   "source": [
    "## ifelse function"
   ]
  },
  {
   "cell_type": "code",
   "execution_count": 252,
   "id": "09129af0",
   "metadata": {},
   "outputs": [
    {
     "name": "stdout",
     "output_type": "stream",
     "text": [
      "[1] \"Negative Number\"\n"
     ]
    }
   ],
   "source": [
    "x<- -100\n",
    "if(x>0){\n",
    "  print(\"Positive Number\")\n",
    "} else{\n",
    "  print(\"Negative Number\")\n",
    "}"
   ]
  },
  {
   "cell_type": "code",
   "execution_count": 253,
   "id": "6579287e",
   "metadata": {},
   "outputs": [
    {
     "name": "stdout",
     "output_type": "stream",
     "text": [
      "[1] \"Positive Number\"\n"
     ]
    }
   ],
   "source": [
    "x<- 100\n",
    "if(x>0){\n",
    "  print(\"Positive Number\")\n",
    "} else{\n",
    "  print(\"Negative Number\")\n",
    "}"
   ]
  },
  {
   "cell_type": "markdown",
   "id": "927231e9",
   "metadata": {},
   "source": [
    "## else if function"
   ]
  },
  {
   "cell_type": "code",
   "execution_count": 254,
   "id": "2b02c72a",
   "metadata": {},
   "outputs": [
    {
     "name": "stdout",
     "output_type": "stream",
     "text": [
      "[1] \"x is a zero\"\n"
     ]
    }
   ],
   "source": [
    "x<- 0\n",
    "if(x>0){\n",
    "  print(\"x is a positive number\")\n",
    "} else if(x<0){\n",
    "  print(\"x is a negative number\")\n",
    "} else {\n",
    "  print(\"x is a zero\")\n",
    "}"
   ]
  },
  {
   "cell_type": "markdown",
   "id": "a98a7b4a",
   "metadata": {},
   "source": [
    "## ifelse function"
   ]
  },
  {
   "cell_type": "markdown",
   "id": "07c5ebb7",
   "metadata": {},
   "source": [
    "First value captures the true and second value captures the false"
   ]
  },
  {
   "cell_type": "code",
   "execution_count": 255,
   "id": "911b034a",
   "metadata": {},
   "outputs": [
    {
     "data": {
      "text/html": [
       "1"
      ],
      "text/latex": [
       "1"
      ],
      "text/markdown": [
       "1"
      ],
      "text/plain": [
       "[1] 1"
      ]
     },
     "metadata": {},
     "output_type": "display_data"
    },
    {
     "data": {
      "text/html": [
       "'odd'"
      ],
      "text/latex": [
       "'odd'"
      ],
      "text/markdown": [
       "'odd'"
      ],
      "text/plain": [
       "[1] \"odd\""
      ]
     },
     "metadata": {},
     "output_type": "display_data"
    }
   ],
   "source": [
    "#Want to test x is even or odd number\n",
    "x<-7\n",
    "7%%2      \n",
    "ifelse(x%%2==0,\"even\",\"odd\") #getting a remainder use %%"
   ]
  },
  {
   "cell_type": "code",
   "execution_count": 256,
   "id": "168db15a",
   "metadata": {},
   "outputs": [
    {
     "data": {
      "text/html": [
       "'positive'"
      ],
      "text/latex": [
       "'positive'"
      ],
      "text/markdown": [
       "'positive'"
      ],
      "text/plain": [
       "[1] \"positive\""
      ]
     },
     "metadata": {},
     "output_type": "display_data"
    }
   ],
   "source": [
    "x<-100\n",
    "ifelse(x<0,\"negative\",\"positive\")"
   ]
  },
  {
   "cell_type": "markdown",
   "id": "fc0cc488",
   "metadata": {},
   "source": [
    "## loops"
   ]
  },
  {
   "cell_type": "markdown",
   "id": "cd9e134a",
   "metadata": {},
   "source": [
    "In R we have three types of control structure\n",
    "1. Sequential \n",
    "2. Selective or selection  -  if, if else\n",
    "3. Iterative or Iteration in R  - in which we do loops means repeatedly "
   ]
  },
  {
   "cell_type": "markdown",
   "id": "180c8434",
   "metadata": {},
   "source": [
    "## for loop"
   ]
  },
  {
   "cell_type": "code",
   "execution_count": 257,
   "id": "f2e8d4f5",
   "metadata": {},
   "outputs": [
    {
     "name": "stdout",
     "output_type": "stream",
     "text": [
      "[1] 1\n",
      "[1] 2\n",
      "[1] 3\n",
      "[1] 4\n",
      "[1] 5\n",
      "[1] 6\n",
      "[1] 7\n",
      "[1] 8\n",
      "[1] 9\n",
      "[1] 10\n"
     ]
    }
   ],
   "source": [
    "for(i in 1:10){\n",
    "  print(i)\n",
    "  }"
   ]
  },
  {
   "cell_type": "code",
   "execution_count": 258,
   "id": "ef805fa0",
   "metadata": {},
   "outputs": [
    {
     "name": "stdout",
     "output_type": "stream",
     "text": [
      "[1] 1\n",
      "[1] 2\n",
      "[1] 3\n",
      "[1] 4\n",
      "[1] 5\n",
      "[1] 6\n",
      "[1] 7\n",
      "[1] 8\n",
      "[1] 9\n",
      "[1] 10\n"
     ]
    }
   ],
   "source": [
    "#another way you can create a vector and use loop\n",
    "x<-1:10\n",
    "\n",
    "for(i in x){\n",
    "  print(i)\n",
    "}"
   ]
  },
  {
   "cell_type": "markdown",
   "id": "4b99145e",
   "metadata": {},
   "source": [
    "for loop on vectors"
   ]
  },
  {
   "cell_type": "code",
   "execution_count": 259,
   "id": "2879f9d0",
   "metadata": {},
   "outputs": [
    {
     "name": "stdout",
     "output_type": "stream",
     "text": [
      "[1] 8\n",
      "[1] 125\n",
      "[1] 343\n",
      "[1] 512\n",
      "[1] 729\n"
     ]
    }
   ],
   "source": [
    "a<-c(2,5,7,8,9)\n",
    "for (i in a){\n",
    "  print(i^3)\n",
    "}"
   ]
  },
  {
   "cell_type": "markdown",
   "id": "ad63b122",
   "metadata": {},
   "source": [
    "for loop on characters"
   ]
  },
  {
   "cell_type": "code",
   "execution_count": 260,
   "id": "69ad06fd",
   "metadata": {},
   "outputs": [
    {
     "name": "stdout",
     "output_type": "stream",
     "text": [
      "[1] \"a\"\n",
      "[1] \"b\"\n",
      "[1] \"c\"\n",
      "[1] \"d\"\n",
      "[1] \"e\"\n",
      "[1] \"f\"\n",
      "[1] \"g\"\n",
      "[1] \"h\"\n",
      "[1] \"i\"\n",
      "[1] \"j\"\n",
      "[1] \"k\"\n",
      "[1] \"l\"\n",
      "[1] \"m\"\n",
      "[1] \"n\"\n",
      "[1] \"o\"\n",
      "[1] \"p\"\n",
      "[1] \"q\"\n",
      "[1] \"r\"\n",
      "[1] \"s\"\n",
      "[1] \"t\"\n",
      "[1] \"u\"\n",
      "[1] \"v\"\n",
      "[1] \"w\"\n",
      "[1] \"x\"\n",
      "[1] \"y\"\n",
      "[1] \"z\"\n"
     ]
    }
   ],
   "source": [
    "for(i in letters){\n",
    "  print(i)\n",
    "}"
   ]
  },
  {
   "cell_type": "code",
   "execution_count": 261,
   "id": "d58b4688",
   "metadata": {},
   "outputs": [
    {
     "name": "stdout",
     "output_type": "stream",
     "text": [
      "[1] \"a\"\n",
      "[1] \"b\"\n",
      "[1] \"c\"\n",
      "[1] \"d\"\n",
      "[1] \"e\"\n",
      "[1] \"f\"\n"
     ]
    }
   ],
   "source": [
    "#Subset of elements of y vector\n",
    "y <- letters\n",
    "yy<- y[1:6]\n",
    "for(i in yy){\n",
    "  print(i)\n",
    "}"
   ]
  },
  {
   "cell_type": "markdown",
   "id": "55dc37b8",
   "metadata": {},
   "source": [
    "## while loop"
   ]
  },
  {
   "cell_type": "code",
   "execution_count": 262,
   "id": "af5354f4",
   "metadata": {},
   "outputs": [
    {
     "name": "stdout",
     "output_type": "stream",
     "text": [
      "[1] 1\n",
      "[1] 4\n",
      "[1] 9\n",
      "[1] 16\n",
      "[1] 25\n"
     ]
    }
   ],
   "source": [
    "i<-1\n",
    "while(i<=5){\n",
    "  print(i^2)\n",
    "  i<-i+1       #modifying condition\n",
    "}"
   ]
  },
  {
   "cell_type": "code",
   "execution_count": 263,
   "id": "ba63bd3b",
   "metadata": {},
   "outputs": [
    {
     "name": "stdout",
     "output_type": "stream",
     "text": [
      "[1] 1\n",
      "[1] 2\n",
      "[1] 3\n",
      "[1] 4\n",
      "[1] 5\n"
     ]
    }
   ],
   "source": [
    "i<-1\n",
    "while(i<=5){\n",
    "  print(i)\n",
    "  i<-i+1       #modifying condition\n",
    "}"
   ]
  },
  {
   "cell_type": "markdown",
   "id": "6ca4e23e",
   "metadata": {},
   "source": [
    "## break"
   ]
  },
  {
   "cell_type": "code",
   "execution_count": 264,
   "id": "64ae15d1",
   "metadata": {},
   "outputs": [
    {
     "name": "stdout",
     "output_type": "stream",
     "text": [
      "[1] 1\n",
      "[1] 2\n",
      "[1] 3\n",
      "[1] 4\n",
      "[1] 5\n",
      "[1] 6\n"
     ]
    }
   ],
   "source": [
    "i<-1\n",
    "while(i){\n",
    "  print(i)\n",
    "  if (i>5)\n",
    "    break        #using break loop will terminate \n",
    "  i<-i+1\n",
    "}"
   ]
  },
  {
   "cell_type": "markdown",
   "id": "64040614",
   "metadata": {},
   "source": [
    "## next"
   ]
  },
  {
   "cell_type": "code",
   "execution_count": 265,
   "id": "9d8a1215",
   "metadata": {},
   "outputs": [
    {
     "name": "stdout",
     "output_type": "stream",
     "text": [
      "[1] 2\n",
      "[1] 4\n",
      "[1] 6\n",
      "[1] 8\n",
      "[1] 10\n"
     ]
    }
   ],
   "source": [
    "for(i in 1:10){\n",
    "  if(i %% 2 > 0)\n",
    "    next          #skips only that value. Loop wont stop\n",
    "    print(i)  \n",
    "  } "
   ]
  },
  {
   "cell_type": "markdown",
   "id": "5999785c",
   "metadata": {},
   "source": [
    "## Reading data from an CSV/text sheet into R"
   ]
  },
  {
   "cell_type": "markdown",
   "id": "f41fff6d",
   "metadata": {},
   "source": [
    "Option 1 when working directory and csv file are in same locations"
   ]
  },
  {
   "cell_type": "code",
   "execution_count": 266,
   "id": "c7d35de5",
   "metadata": {},
   "outputs": [],
   "source": [
    "#data <- read.csv(\"Data.csv\")"
   ]
  },
  {
   "cell_type": "markdown",
   "id": "bb5a101c",
   "metadata": {},
   "source": [
    "Option 2- if your script file and csv file are in different locations"
   ]
  },
  {
   "cell_type": "code",
   "execution_count": 267,
   "id": "74cf3295",
   "metadata": {},
   "outputs": [],
   "source": [
    "#data <- read.csv(\"C:/Users/Acer/Desktop/Data.csv\")"
   ]
  },
  {
   "cell_type": "markdown",
   "id": "1251aa18",
   "metadata": {},
   "source": [
    "use Header=True to use first row as variable name otherwise R will take first row as first observation"
   ]
  },
  {
   "cell_type": "code",
   "execution_count": 268,
   "id": "977ce3f2",
   "metadata": {},
   "outputs": [],
   "source": [
    "#Option 3- Read coviddata.csv\n",
    "#this command will open a dialogue box from where we can choose \n",
    "#the file\n",
    "\n",
    "data <-read.csv(file.choose())"
   ]
  },
  {
   "cell_type": "markdown",
   "id": "a85dd00d",
   "metadata": {},
   "source": [
    "## Check for data anomalies with loops"
   ]
  },
  {
   "cell_type": "code",
   "execution_count": 269,
   "id": "da160a47",
   "metadata": {},
   "outputs": [
    {
     "name": "stdout",
     "output_type": "stream",
     "text": [
      "[1] 11\n",
      "[1] 12\n",
      "[1] 13\n",
      "[1] 15\n"
     ]
    }
   ],
   "source": [
    "##checking for negative prices \n",
    "\n",
    "for(i in 1:20){\n",
    "  if(data$Price[i]<0)\n",
    "    print(i)\n",
    "}"
   ]
  },
  {
   "cell_type": "code",
   "execution_count": 270,
   "id": "bba421d2",
   "metadata": {},
   "outputs": [
    {
     "name": "stdout",
     "output_type": "stream",
     "text": [
      "[1] 11\n",
      "[1] 12\n",
      "[1] 13\n",
      "[1] 15\n"
     ]
    }
   ],
   "source": [
    "for(i in 1:nrow(data)){   #nrow gives the number of row\n",
    "  if(data$Price[i]<0)\n",
    "    print(i)\n",
    "}"
   ]
  },
  {
   "cell_type": "code",
   "execution_count": 271,
   "id": "8827892b",
   "metadata": {},
   "outputs": [
    {
     "data": {
      "text/html": [
       "<style>\n",
       ".list-inline {list-style: none; margin:0; padding: 0}\n",
       ".list-inline>li {display: inline-block}\n",
       ".list-inline>li:not(:last-child)::after {content: \"\\00b7\"; padding: 0 .5ex}\n",
       "</style>\n",
       "<ol class=list-inline><li>29</li><li>27</li><li>25</li><li>27</li><li>18</li><li>27</li><li>20</li><li>19</li><li>30</li><li>29</li><li>1</li><li>1</li><li>1</li><li>30</li><li>1</li><li>40</li><li>50</li><li>20</li><li>21</li><li>28</li></ol>\n"
      ],
      "text/latex": [
       "\\begin{enumerate*}\n",
       "\\item 29\n",
       "\\item 27\n",
       "\\item 25\n",
       "\\item 27\n",
       "\\item 18\n",
       "\\item 27\n",
       "\\item 20\n",
       "\\item 19\n",
       "\\item 30\n",
       "\\item 29\n",
       "\\item 1\n",
       "\\item 1\n",
       "\\item 1\n",
       "\\item 30\n",
       "\\item 1\n",
       "\\item 40\n",
       "\\item 50\n",
       "\\item 20\n",
       "\\item 21\n",
       "\\item 28\n",
       "\\end{enumerate*}\n"
      ],
      "text/markdown": [
       "1. 29\n",
       "2. 27\n",
       "3. 25\n",
       "4. 27\n",
       "5. 18\n",
       "6. 27\n",
       "7. 20\n",
       "8. 19\n",
       "9. 30\n",
       "10. 29\n",
       "11. 1\n",
       "12. 1\n",
       "13. 1\n",
       "14. 30\n",
       "15. 1\n",
       "16. 40\n",
       "17. 50\n",
       "18. 20\n",
       "19. 21\n",
       "20. 28\n",
       "\n",
       "\n"
      ],
      "text/plain": [
       " [1] 29 27 25 27 18 27 20 19 30 29  1  1  1 30  1 40 50 20 21 28"
      ]
     },
     "metadata": {},
     "output_type": "display_data"
    }
   ],
   "source": [
    "#treating negative price values\n",
    "\n",
    "data$Price_n<-ifelse(data$Price<0, 1, data$Price) \n",
    "# replace the true values with 1 and false with pevious values\n",
    "data$Price_n"
   ]
  },
  {
   "cell_type": "markdown",
   "id": "8ea589c0",
   "metadata": {},
   "source": [
    "## Working with R inbuilt data and dplyr"
   ]
  },
  {
   "cell_type": "code",
   "execution_count": 272,
   "id": "0832041e",
   "metadata": {},
   "outputs": [
    {
     "name": "stderr",
     "output_type": "stream",
     "text": [
      "\n",
      "Attaching package: 'dplyr'\n",
      "\n",
      "\n",
      "The following objects are masked from 'package:stats':\n",
      "\n",
      "    filter, lag\n",
      "\n",
      "\n",
      "The following objects are masked from 'package:base':\n",
      "\n",
      "    intersect, setdiff, setequal, union\n",
      "\n",
      "\n"
     ]
    }
   ],
   "source": [
    "#How to install packages\n",
    "#install.packages('dplyr')\n",
    "library(dplyr)\n",
    "#To check list of inbuilt datasets in R\n",
    "data()"
   ]
  },
  {
   "cell_type": "code",
   "execution_count": 273,
   "id": "e2cea240",
   "metadata": {},
   "outputs": [
    {
     "data": {
      "text/html": [
       "<table class=\"dataframe\">\n",
       "<caption>A data.frame: 32 × 11</caption>\n",
       "<thead>\n",
       "\t<tr><th></th><th scope=col>mpg</th><th scope=col>cyl</th><th scope=col>disp</th><th scope=col>hp</th><th scope=col>drat</th><th scope=col>wt</th><th scope=col>qsec</th><th scope=col>vs</th><th scope=col>am</th><th scope=col>gear</th><th scope=col>carb</th></tr>\n",
       "\t<tr><th></th><th scope=col>&lt;dbl&gt;</th><th scope=col>&lt;dbl&gt;</th><th scope=col>&lt;dbl&gt;</th><th scope=col>&lt;dbl&gt;</th><th scope=col>&lt;dbl&gt;</th><th scope=col>&lt;dbl&gt;</th><th scope=col>&lt;dbl&gt;</th><th scope=col>&lt;dbl&gt;</th><th scope=col>&lt;dbl&gt;</th><th scope=col>&lt;dbl&gt;</th><th scope=col>&lt;dbl&gt;</th></tr>\n",
       "</thead>\n",
       "<tbody>\n",
       "\t<tr><th scope=row>Mazda RX4</th><td>21.0</td><td>6</td><td>160.0</td><td>110</td><td>3.90</td><td>2.620</td><td>16.46</td><td>0</td><td>1</td><td>4</td><td>4</td></tr>\n",
       "\t<tr><th scope=row>Mazda RX4 Wag</th><td>21.0</td><td>6</td><td>160.0</td><td>110</td><td>3.90</td><td>2.875</td><td>17.02</td><td>0</td><td>1</td><td>4</td><td>4</td></tr>\n",
       "\t<tr><th scope=row>Datsun 710</th><td>22.8</td><td>4</td><td>108.0</td><td> 93</td><td>3.85</td><td>2.320</td><td>18.61</td><td>1</td><td>1</td><td>4</td><td>1</td></tr>\n",
       "\t<tr><th scope=row>Hornet 4 Drive</th><td>21.4</td><td>6</td><td>258.0</td><td>110</td><td>3.08</td><td>3.215</td><td>19.44</td><td>1</td><td>0</td><td>3</td><td>1</td></tr>\n",
       "\t<tr><th scope=row>Hornet Sportabout</th><td>18.7</td><td>8</td><td>360.0</td><td>175</td><td>3.15</td><td>3.440</td><td>17.02</td><td>0</td><td>0</td><td>3</td><td>2</td></tr>\n",
       "\t<tr><th scope=row>Valiant</th><td>18.1</td><td>6</td><td>225.0</td><td>105</td><td>2.76</td><td>3.460</td><td>20.22</td><td>1</td><td>0</td><td>3</td><td>1</td></tr>\n",
       "\t<tr><th scope=row>Duster 360</th><td>14.3</td><td>8</td><td>360.0</td><td>245</td><td>3.21</td><td>3.570</td><td>15.84</td><td>0</td><td>0</td><td>3</td><td>4</td></tr>\n",
       "\t<tr><th scope=row>Merc 240D</th><td>24.4</td><td>4</td><td>146.7</td><td> 62</td><td>3.69</td><td>3.190</td><td>20.00</td><td>1</td><td>0</td><td>4</td><td>2</td></tr>\n",
       "\t<tr><th scope=row>Merc 230</th><td>22.8</td><td>4</td><td>140.8</td><td> 95</td><td>3.92</td><td>3.150</td><td>22.90</td><td>1</td><td>0</td><td>4</td><td>2</td></tr>\n",
       "\t<tr><th scope=row>Merc 280</th><td>19.2</td><td>6</td><td>167.6</td><td>123</td><td>3.92</td><td>3.440</td><td>18.30</td><td>1</td><td>0</td><td>4</td><td>4</td></tr>\n",
       "\t<tr><th scope=row>Merc 280C</th><td>17.8</td><td>6</td><td>167.6</td><td>123</td><td>3.92</td><td>3.440</td><td>18.90</td><td>1</td><td>0</td><td>4</td><td>4</td></tr>\n",
       "\t<tr><th scope=row>Merc 450SE</th><td>16.4</td><td>8</td><td>275.8</td><td>180</td><td>3.07</td><td>4.070</td><td>17.40</td><td>0</td><td>0</td><td>3</td><td>3</td></tr>\n",
       "\t<tr><th scope=row>Merc 450SL</th><td>17.3</td><td>8</td><td>275.8</td><td>180</td><td>3.07</td><td>3.730</td><td>17.60</td><td>0</td><td>0</td><td>3</td><td>3</td></tr>\n",
       "\t<tr><th scope=row>Merc 450SLC</th><td>15.2</td><td>8</td><td>275.8</td><td>180</td><td>3.07</td><td>3.780</td><td>18.00</td><td>0</td><td>0</td><td>3</td><td>3</td></tr>\n",
       "\t<tr><th scope=row>Cadillac Fleetwood</th><td>10.4</td><td>8</td><td>472.0</td><td>205</td><td>2.93</td><td>5.250</td><td>17.98</td><td>0</td><td>0</td><td>3</td><td>4</td></tr>\n",
       "\t<tr><th scope=row>Lincoln Continental</th><td>10.4</td><td>8</td><td>460.0</td><td>215</td><td>3.00</td><td>5.424</td><td>17.82</td><td>0</td><td>0</td><td>3</td><td>4</td></tr>\n",
       "\t<tr><th scope=row>Chrysler Imperial</th><td>14.7</td><td>8</td><td>440.0</td><td>230</td><td>3.23</td><td>5.345</td><td>17.42</td><td>0</td><td>0</td><td>3</td><td>4</td></tr>\n",
       "\t<tr><th scope=row>Fiat 128</th><td>32.4</td><td>4</td><td> 78.7</td><td> 66</td><td>4.08</td><td>2.200</td><td>19.47</td><td>1</td><td>1</td><td>4</td><td>1</td></tr>\n",
       "\t<tr><th scope=row>Honda Civic</th><td>30.4</td><td>4</td><td> 75.7</td><td> 52</td><td>4.93</td><td>1.615</td><td>18.52</td><td>1</td><td>1</td><td>4</td><td>2</td></tr>\n",
       "\t<tr><th scope=row>Toyota Corolla</th><td>33.9</td><td>4</td><td> 71.1</td><td> 65</td><td>4.22</td><td>1.835</td><td>19.90</td><td>1</td><td>1</td><td>4</td><td>1</td></tr>\n",
       "\t<tr><th scope=row>Toyota Corona</th><td>21.5</td><td>4</td><td>120.1</td><td> 97</td><td>3.70</td><td>2.465</td><td>20.01</td><td>1</td><td>0</td><td>3</td><td>1</td></tr>\n",
       "\t<tr><th scope=row>Dodge Challenger</th><td>15.5</td><td>8</td><td>318.0</td><td>150</td><td>2.76</td><td>3.520</td><td>16.87</td><td>0</td><td>0</td><td>3</td><td>2</td></tr>\n",
       "\t<tr><th scope=row>AMC Javelin</th><td>15.2</td><td>8</td><td>304.0</td><td>150</td><td>3.15</td><td>3.435</td><td>17.30</td><td>0</td><td>0</td><td>3</td><td>2</td></tr>\n",
       "\t<tr><th scope=row>Camaro Z28</th><td>13.3</td><td>8</td><td>350.0</td><td>245</td><td>3.73</td><td>3.840</td><td>15.41</td><td>0</td><td>0</td><td>3</td><td>4</td></tr>\n",
       "\t<tr><th scope=row>Pontiac Firebird</th><td>19.2</td><td>8</td><td>400.0</td><td>175</td><td>3.08</td><td>3.845</td><td>17.05</td><td>0</td><td>0</td><td>3</td><td>2</td></tr>\n",
       "\t<tr><th scope=row>Fiat X1-9</th><td>27.3</td><td>4</td><td> 79.0</td><td> 66</td><td>4.08</td><td>1.935</td><td>18.90</td><td>1</td><td>1</td><td>4</td><td>1</td></tr>\n",
       "\t<tr><th scope=row>Porsche 914-2</th><td>26.0</td><td>4</td><td>120.3</td><td> 91</td><td>4.43</td><td>2.140</td><td>16.70</td><td>0</td><td>1</td><td>5</td><td>2</td></tr>\n",
       "\t<tr><th scope=row>Lotus Europa</th><td>30.4</td><td>4</td><td> 95.1</td><td>113</td><td>3.77</td><td>1.513</td><td>16.90</td><td>1</td><td>1</td><td>5</td><td>2</td></tr>\n",
       "\t<tr><th scope=row>Ford Pantera L</th><td>15.8</td><td>8</td><td>351.0</td><td>264</td><td>4.22</td><td>3.170</td><td>14.50</td><td>0</td><td>1</td><td>5</td><td>4</td></tr>\n",
       "\t<tr><th scope=row>Ferrari Dino</th><td>19.7</td><td>6</td><td>145.0</td><td>175</td><td>3.62</td><td>2.770</td><td>15.50</td><td>0</td><td>1</td><td>5</td><td>6</td></tr>\n",
       "\t<tr><th scope=row>Maserati Bora</th><td>15.0</td><td>8</td><td>301.0</td><td>335</td><td>3.54</td><td>3.570</td><td>14.60</td><td>0</td><td>1</td><td>5</td><td>8</td></tr>\n",
       "\t<tr><th scope=row>Volvo 142E</th><td>21.4</td><td>4</td><td>121.0</td><td>109</td><td>4.11</td><td>2.780</td><td>18.60</td><td>1</td><td>1</td><td>4</td><td>2</td></tr>\n",
       "</tbody>\n",
       "</table>\n"
      ],
      "text/latex": [
       "A data.frame: 32 × 11\n",
       "\\begin{tabular}{r|lllllllllll}\n",
       "  & mpg & cyl & disp & hp & drat & wt & qsec & vs & am & gear & carb\\\\\n",
       "  & <dbl> & <dbl> & <dbl> & <dbl> & <dbl> & <dbl> & <dbl> & <dbl> & <dbl> & <dbl> & <dbl>\\\\\n",
       "\\hline\n",
       "\tMazda RX4 & 21.0 & 6 & 160.0 & 110 & 3.90 & 2.620 & 16.46 & 0 & 1 & 4 & 4\\\\\n",
       "\tMazda RX4 Wag & 21.0 & 6 & 160.0 & 110 & 3.90 & 2.875 & 17.02 & 0 & 1 & 4 & 4\\\\\n",
       "\tDatsun 710 & 22.8 & 4 & 108.0 &  93 & 3.85 & 2.320 & 18.61 & 1 & 1 & 4 & 1\\\\\n",
       "\tHornet 4 Drive & 21.4 & 6 & 258.0 & 110 & 3.08 & 3.215 & 19.44 & 1 & 0 & 3 & 1\\\\\n",
       "\tHornet Sportabout & 18.7 & 8 & 360.0 & 175 & 3.15 & 3.440 & 17.02 & 0 & 0 & 3 & 2\\\\\n",
       "\tValiant & 18.1 & 6 & 225.0 & 105 & 2.76 & 3.460 & 20.22 & 1 & 0 & 3 & 1\\\\\n",
       "\tDuster 360 & 14.3 & 8 & 360.0 & 245 & 3.21 & 3.570 & 15.84 & 0 & 0 & 3 & 4\\\\\n",
       "\tMerc 240D & 24.4 & 4 & 146.7 &  62 & 3.69 & 3.190 & 20.00 & 1 & 0 & 4 & 2\\\\\n",
       "\tMerc 230 & 22.8 & 4 & 140.8 &  95 & 3.92 & 3.150 & 22.90 & 1 & 0 & 4 & 2\\\\\n",
       "\tMerc 280 & 19.2 & 6 & 167.6 & 123 & 3.92 & 3.440 & 18.30 & 1 & 0 & 4 & 4\\\\\n",
       "\tMerc 280C & 17.8 & 6 & 167.6 & 123 & 3.92 & 3.440 & 18.90 & 1 & 0 & 4 & 4\\\\\n",
       "\tMerc 450SE & 16.4 & 8 & 275.8 & 180 & 3.07 & 4.070 & 17.40 & 0 & 0 & 3 & 3\\\\\n",
       "\tMerc 450SL & 17.3 & 8 & 275.8 & 180 & 3.07 & 3.730 & 17.60 & 0 & 0 & 3 & 3\\\\\n",
       "\tMerc 450SLC & 15.2 & 8 & 275.8 & 180 & 3.07 & 3.780 & 18.00 & 0 & 0 & 3 & 3\\\\\n",
       "\tCadillac Fleetwood & 10.4 & 8 & 472.0 & 205 & 2.93 & 5.250 & 17.98 & 0 & 0 & 3 & 4\\\\\n",
       "\tLincoln Continental & 10.4 & 8 & 460.0 & 215 & 3.00 & 5.424 & 17.82 & 0 & 0 & 3 & 4\\\\\n",
       "\tChrysler Imperial & 14.7 & 8 & 440.0 & 230 & 3.23 & 5.345 & 17.42 & 0 & 0 & 3 & 4\\\\\n",
       "\tFiat 128 & 32.4 & 4 &  78.7 &  66 & 4.08 & 2.200 & 19.47 & 1 & 1 & 4 & 1\\\\\n",
       "\tHonda Civic & 30.4 & 4 &  75.7 &  52 & 4.93 & 1.615 & 18.52 & 1 & 1 & 4 & 2\\\\\n",
       "\tToyota Corolla & 33.9 & 4 &  71.1 &  65 & 4.22 & 1.835 & 19.90 & 1 & 1 & 4 & 1\\\\\n",
       "\tToyota Corona & 21.5 & 4 & 120.1 &  97 & 3.70 & 2.465 & 20.01 & 1 & 0 & 3 & 1\\\\\n",
       "\tDodge Challenger & 15.5 & 8 & 318.0 & 150 & 2.76 & 3.520 & 16.87 & 0 & 0 & 3 & 2\\\\\n",
       "\tAMC Javelin & 15.2 & 8 & 304.0 & 150 & 3.15 & 3.435 & 17.30 & 0 & 0 & 3 & 2\\\\\n",
       "\tCamaro Z28 & 13.3 & 8 & 350.0 & 245 & 3.73 & 3.840 & 15.41 & 0 & 0 & 3 & 4\\\\\n",
       "\tPontiac Firebird & 19.2 & 8 & 400.0 & 175 & 3.08 & 3.845 & 17.05 & 0 & 0 & 3 & 2\\\\\n",
       "\tFiat X1-9 & 27.3 & 4 &  79.0 &  66 & 4.08 & 1.935 & 18.90 & 1 & 1 & 4 & 1\\\\\n",
       "\tPorsche 914-2 & 26.0 & 4 & 120.3 &  91 & 4.43 & 2.140 & 16.70 & 0 & 1 & 5 & 2\\\\\n",
       "\tLotus Europa & 30.4 & 4 &  95.1 & 113 & 3.77 & 1.513 & 16.90 & 1 & 1 & 5 & 2\\\\\n",
       "\tFord Pantera L & 15.8 & 8 & 351.0 & 264 & 4.22 & 3.170 & 14.50 & 0 & 1 & 5 & 4\\\\\n",
       "\tFerrari Dino & 19.7 & 6 & 145.0 & 175 & 3.62 & 2.770 & 15.50 & 0 & 1 & 5 & 6\\\\\n",
       "\tMaserati Bora & 15.0 & 8 & 301.0 & 335 & 3.54 & 3.570 & 14.60 & 0 & 1 & 5 & 8\\\\\n",
       "\tVolvo 142E & 21.4 & 4 & 121.0 & 109 & 4.11 & 2.780 & 18.60 & 1 & 1 & 4 & 2\\\\\n",
       "\\end{tabular}\n"
      ],
      "text/markdown": [
       "\n",
       "A data.frame: 32 × 11\n",
       "\n",
       "| <!--/--> | mpg &lt;dbl&gt; | cyl &lt;dbl&gt; | disp &lt;dbl&gt; | hp &lt;dbl&gt; | drat &lt;dbl&gt; | wt &lt;dbl&gt; | qsec &lt;dbl&gt; | vs &lt;dbl&gt; | am &lt;dbl&gt; | gear &lt;dbl&gt; | carb &lt;dbl&gt; |\n",
       "|---|---|---|---|---|---|---|---|---|---|---|---|\n",
       "| Mazda RX4 | 21.0 | 6 | 160.0 | 110 | 3.90 | 2.620 | 16.46 | 0 | 1 | 4 | 4 |\n",
       "| Mazda RX4 Wag | 21.0 | 6 | 160.0 | 110 | 3.90 | 2.875 | 17.02 | 0 | 1 | 4 | 4 |\n",
       "| Datsun 710 | 22.8 | 4 | 108.0 |  93 | 3.85 | 2.320 | 18.61 | 1 | 1 | 4 | 1 |\n",
       "| Hornet 4 Drive | 21.4 | 6 | 258.0 | 110 | 3.08 | 3.215 | 19.44 | 1 | 0 | 3 | 1 |\n",
       "| Hornet Sportabout | 18.7 | 8 | 360.0 | 175 | 3.15 | 3.440 | 17.02 | 0 | 0 | 3 | 2 |\n",
       "| Valiant | 18.1 | 6 | 225.0 | 105 | 2.76 | 3.460 | 20.22 | 1 | 0 | 3 | 1 |\n",
       "| Duster 360 | 14.3 | 8 | 360.0 | 245 | 3.21 | 3.570 | 15.84 | 0 | 0 | 3 | 4 |\n",
       "| Merc 240D | 24.4 | 4 | 146.7 |  62 | 3.69 | 3.190 | 20.00 | 1 | 0 | 4 | 2 |\n",
       "| Merc 230 | 22.8 | 4 | 140.8 |  95 | 3.92 | 3.150 | 22.90 | 1 | 0 | 4 | 2 |\n",
       "| Merc 280 | 19.2 | 6 | 167.6 | 123 | 3.92 | 3.440 | 18.30 | 1 | 0 | 4 | 4 |\n",
       "| Merc 280C | 17.8 | 6 | 167.6 | 123 | 3.92 | 3.440 | 18.90 | 1 | 0 | 4 | 4 |\n",
       "| Merc 450SE | 16.4 | 8 | 275.8 | 180 | 3.07 | 4.070 | 17.40 | 0 | 0 | 3 | 3 |\n",
       "| Merc 450SL | 17.3 | 8 | 275.8 | 180 | 3.07 | 3.730 | 17.60 | 0 | 0 | 3 | 3 |\n",
       "| Merc 450SLC | 15.2 | 8 | 275.8 | 180 | 3.07 | 3.780 | 18.00 | 0 | 0 | 3 | 3 |\n",
       "| Cadillac Fleetwood | 10.4 | 8 | 472.0 | 205 | 2.93 | 5.250 | 17.98 | 0 | 0 | 3 | 4 |\n",
       "| Lincoln Continental | 10.4 | 8 | 460.0 | 215 | 3.00 | 5.424 | 17.82 | 0 | 0 | 3 | 4 |\n",
       "| Chrysler Imperial | 14.7 | 8 | 440.0 | 230 | 3.23 | 5.345 | 17.42 | 0 | 0 | 3 | 4 |\n",
       "| Fiat 128 | 32.4 | 4 |  78.7 |  66 | 4.08 | 2.200 | 19.47 | 1 | 1 | 4 | 1 |\n",
       "| Honda Civic | 30.4 | 4 |  75.7 |  52 | 4.93 | 1.615 | 18.52 | 1 | 1 | 4 | 2 |\n",
       "| Toyota Corolla | 33.9 | 4 |  71.1 |  65 | 4.22 | 1.835 | 19.90 | 1 | 1 | 4 | 1 |\n",
       "| Toyota Corona | 21.5 | 4 | 120.1 |  97 | 3.70 | 2.465 | 20.01 | 1 | 0 | 3 | 1 |\n",
       "| Dodge Challenger | 15.5 | 8 | 318.0 | 150 | 2.76 | 3.520 | 16.87 | 0 | 0 | 3 | 2 |\n",
       "| AMC Javelin | 15.2 | 8 | 304.0 | 150 | 3.15 | 3.435 | 17.30 | 0 | 0 | 3 | 2 |\n",
       "| Camaro Z28 | 13.3 | 8 | 350.0 | 245 | 3.73 | 3.840 | 15.41 | 0 | 0 | 3 | 4 |\n",
       "| Pontiac Firebird | 19.2 | 8 | 400.0 | 175 | 3.08 | 3.845 | 17.05 | 0 | 0 | 3 | 2 |\n",
       "| Fiat X1-9 | 27.3 | 4 |  79.0 |  66 | 4.08 | 1.935 | 18.90 | 1 | 1 | 4 | 1 |\n",
       "| Porsche 914-2 | 26.0 | 4 | 120.3 |  91 | 4.43 | 2.140 | 16.70 | 0 | 1 | 5 | 2 |\n",
       "| Lotus Europa | 30.4 | 4 |  95.1 | 113 | 3.77 | 1.513 | 16.90 | 1 | 1 | 5 | 2 |\n",
       "| Ford Pantera L | 15.8 | 8 | 351.0 | 264 | 4.22 | 3.170 | 14.50 | 0 | 1 | 5 | 4 |\n",
       "| Ferrari Dino | 19.7 | 6 | 145.0 | 175 | 3.62 | 2.770 | 15.50 | 0 | 1 | 5 | 6 |\n",
       "| Maserati Bora | 15.0 | 8 | 301.0 | 335 | 3.54 | 3.570 | 14.60 | 0 | 1 | 5 | 8 |\n",
       "| Volvo 142E | 21.4 | 4 | 121.0 | 109 | 4.11 | 2.780 | 18.60 | 1 | 1 | 4 | 2 |\n",
       "\n"
      ],
      "text/plain": [
       "                    mpg  cyl disp  hp  drat wt    qsec  vs am gear carb\n",
       "Mazda RX4           21.0 6   160.0 110 3.90 2.620 16.46 0  1  4    4   \n",
       "Mazda RX4 Wag       21.0 6   160.0 110 3.90 2.875 17.02 0  1  4    4   \n",
       "Datsun 710          22.8 4   108.0  93 3.85 2.320 18.61 1  1  4    1   \n",
       "Hornet 4 Drive      21.4 6   258.0 110 3.08 3.215 19.44 1  0  3    1   \n",
       "Hornet Sportabout   18.7 8   360.0 175 3.15 3.440 17.02 0  0  3    2   \n",
       "Valiant             18.1 6   225.0 105 2.76 3.460 20.22 1  0  3    1   \n",
       "Duster 360          14.3 8   360.0 245 3.21 3.570 15.84 0  0  3    4   \n",
       "Merc 240D           24.4 4   146.7  62 3.69 3.190 20.00 1  0  4    2   \n",
       "Merc 230            22.8 4   140.8  95 3.92 3.150 22.90 1  0  4    2   \n",
       "Merc 280            19.2 6   167.6 123 3.92 3.440 18.30 1  0  4    4   \n",
       "Merc 280C           17.8 6   167.6 123 3.92 3.440 18.90 1  0  4    4   \n",
       "Merc 450SE          16.4 8   275.8 180 3.07 4.070 17.40 0  0  3    3   \n",
       "Merc 450SL          17.3 8   275.8 180 3.07 3.730 17.60 0  0  3    3   \n",
       "Merc 450SLC         15.2 8   275.8 180 3.07 3.780 18.00 0  0  3    3   \n",
       "Cadillac Fleetwood  10.4 8   472.0 205 2.93 5.250 17.98 0  0  3    4   \n",
       "Lincoln Continental 10.4 8   460.0 215 3.00 5.424 17.82 0  0  3    4   \n",
       "Chrysler Imperial   14.7 8   440.0 230 3.23 5.345 17.42 0  0  3    4   \n",
       "Fiat 128            32.4 4    78.7  66 4.08 2.200 19.47 1  1  4    1   \n",
       "Honda Civic         30.4 4    75.7  52 4.93 1.615 18.52 1  1  4    2   \n",
       "Toyota Corolla      33.9 4    71.1  65 4.22 1.835 19.90 1  1  4    1   \n",
       "Toyota Corona       21.5 4   120.1  97 3.70 2.465 20.01 1  0  3    1   \n",
       "Dodge Challenger    15.5 8   318.0 150 2.76 3.520 16.87 0  0  3    2   \n",
       "AMC Javelin         15.2 8   304.0 150 3.15 3.435 17.30 0  0  3    2   \n",
       "Camaro Z28          13.3 8   350.0 245 3.73 3.840 15.41 0  0  3    4   \n",
       "Pontiac Firebird    19.2 8   400.0 175 3.08 3.845 17.05 0  0  3    2   \n",
       "Fiat X1-9           27.3 4    79.0  66 4.08 1.935 18.90 1  1  4    1   \n",
       "Porsche 914-2       26.0 4   120.3  91 4.43 2.140 16.70 0  1  5    2   \n",
       "Lotus Europa        30.4 4    95.1 113 3.77 1.513 16.90 1  1  5    2   \n",
       "Ford Pantera L      15.8 8   351.0 264 4.22 3.170 14.50 0  1  5    4   \n",
       "Ferrari Dino        19.7 6   145.0 175 3.62 2.770 15.50 0  1  5    6   \n",
       "Maserati Bora       15.0 8   301.0 335 3.54 3.570 14.60 0  1  5    8   \n",
       "Volvo 142E          21.4 4   121.0 109 4.11 2.780 18.60 1  1  4    2   "
      ]
     },
     "metadata": {},
     "output_type": "display_data"
    }
   ],
   "source": [
    "mtcars"
   ]
  },
  {
   "cell_type": "markdown",
   "id": "7af3a939",
   "metadata": {},
   "source": [
    "## as_tibble"
   ]
  },
  {
   "cell_type": "markdown",
   "id": "26a34b70",
   "metadata": {},
   "source": [
    "as_tibble() method turns an existing R object, such as a data frame or matrix, into a Tibble, a data frame with class tbl_df"
   ]
  },
  {
   "cell_type": "code",
   "execution_count": 1,
   "id": "eaaaa92d",
   "metadata": {},
   "outputs": [],
   "source": [
    "#install.packages(\"tidyverse\")"
   ]
  },
  {
   "cell_type": "code",
   "execution_count": 274,
   "id": "335f93f2",
   "metadata": {},
   "outputs": [],
   "source": [
    "mtcars <- as_tibble(mtcars)"
   ]
  },
  {
   "cell_type": "code",
   "execution_count": 275,
   "id": "1c9d6e99",
   "metadata": {},
   "outputs": [],
   "source": [
    "iris <- as_tibble(iris)"
   ]
  },
  {
   "cell_type": "markdown",
   "id": "a74d89d3",
   "metadata": {},
   "source": [
    "%>% is called the forward pipe operator in R. It provides a mechanism for chaining commands with a new forward-pipe operator, %>%. This operator will forward a value, or the result of an expression, into the next function call/expression."
   ]
  },
  {
   "cell_type": "code",
   "execution_count": 276,
   "id": "6c7d48eb",
   "metadata": {},
   "outputs": [],
   "source": [
    "#dplyr::arrange() orders the rows of a data frame by the values of one or more columns:\n",
    "a<-dplyr::arrange(mtcars %>% arrange(cyl,disp)) #first order it based on 1st command then second one\n",
    "head(a,2)\n",
    "tail(a,2)"
   ]
  },
  {
   "cell_type": "code",
   "execution_count": 2,
   "id": "c9bda005",
   "metadata": {},
   "outputs": [
    {
     "ename": "ERROR",
     "evalue": "Error in mtcars %>% arrange(desc(cyl), desc(disp)): could not find function \"%>%\"\n",
     "output_type": "error",
     "traceback": [
      "Error in mtcars %>% arrange(desc(cyl), desc(disp)): could not find function \"%>%\"\nTraceback:\n",
      "1. dplyr::arrange(mtcars %>% arrange(desc(cyl), desc(disp)))"
     ]
    }
   ],
   "source": [
    "#The desc() allows you to order selected variables in descending order:\n",
    "c<-dplyr::arrange(mtcars %>% arrange(desc(cyl),desc(disp)))\n",
    "head(c,2)\n",
    "tail(c,2)"
   ]
  },
  {
   "cell_type": "code",
   "execution_count": 278,
   "id": "de884eef",
   "metadata": {},
   "outputs": [],
   "source": [
    "#alternate way to write the code\n",
    "b<-mtcars %>% dplyr::arrange(desc(cyl), desc(disp))"
   ]
  },
  {
   "cell_type": "markdown",
   "id": "93a26c50",
   "metadata": {},
   "source": [
    "We can replicate in base R by using with order():"
   ]
  },
  {
   "cell_type": "code",
   "execution_count": null,
   "id": "6127eee7",
   "metadata": {},
   "outputs": [],
   "source": [
    "# mtcars[order(mtcars$cyl, mtcars$disp),]"
   ]
  },
  {
   "cell_type": "markdown",
   "id": "255d46b4",
   "metadata": {},
   "source": [
    "## drop"
   ]
  },
  {
   "cell_type": "markdown",
   "id": "fd9c1932",
   "metadata": {},
   "source": [
    "Note the use of drop = FALSE. If you forget this, and the input is a data frame with a single column, the output will be a vector, not a data frame. This is a source of subtle bugs."
   ]
  },
  {
   "cell_type": "code",
   "execution_count": 280,
   "id": "b014af79",
   "metadata": {},
   "outputs": [],
   "source": [
    "# mtcars[order(mtcars$cyl, mtcars$disp), , drop = FALSE]"
   ]
  },
  {
   "cell_type": "markdown",
   "id": "28a8fdd2",
   "metadata": {},
   "source": [
    "variables in descending order, so you have two options:"
   ]
  },
  {
   "cell_type": "markdown",
   "id": "a79121c9",
   "metadata": {},
   "source": [
    "1) For numeric variables, you can use -x."
   ]
  },
  {
   "cell_type": "code",
   "execution_count": 281,
   "id": "860388d3",
   "metadata": {},
   "outputs": [],
   "source": [
    "# mtcars[order(-mtcars$cyl, -mtcars$disp), , drop = FALSE]"
   ]
  },
  {
   "cell_type": "markdown",
   "id": "19cc07aa",
   "metadata": {},
   "source": [
    "2) You can request order() to sort all variables in descending order."
   ]
  },
  {
   "cell_type": "code",
   "execution_count": 282,
   "id": "62aef8f4",
   "metadata": {},
   "outputs": [],
   "source": [
    "# mtcars[order(mtcars$cyl, mtcars$disp, decreasing = TRUE), , drop = FALSE]"
   ]
  },
  {
   "cell_type": "markdown",
   "id": "a954b0e8",
   "metadata": {},
   "source": [
    "## dplyr::distinct():\n",
    "Select distinct/unique rows:"
   ]
  },
  {
   "cell_type": "code",
   "execution_count": 283,
   "id": "4e934896",
   "metadata": {},
   "outputs": [],
   "source": [
    "df <- tibble(\n",
    "    x = sample(10, 100, rep = TRUE),\n",
    "    y = sample(10, 100, rep = TRUE))"
   ]
  },
  {
   "cell_type": "code",
   "execution_count": 284,
   "id": "3c4c2402",
   "metadata": {},
   "outputs": [
    {
     "data": {
      "text/html": [
       "<table class=\"dataframe\">\n",
       "<caption>A tibble: 10 × 1</caption>\n",
       "<thead>\n",
       "\t<tr><th scope=col>x</th></tr>\n",
       "\t<tr><th scope=col>&lt;int&gt;</th></tr>\n",
       "</thead>\n",
       "<tbody>\n",
       "\t<tr><td> 4</td></tr>\n",
       "\t<tr><td> 1</td></tr>\n",
       "\t<tr><td> 7</td></tr>\n",
       "\t<tr><td>10</td></tr>\n",
       "\t<tr><td> 3</td></tr>\n",
       "\t<tr><td> 5</td></tr>\n",
       "\t<tr><td> 2</td></tr>\n",
       "\t<tr><td> 6</td></tr>\n",
       "\t<tr><td> 9</td></tr>\n",
       "\t<tr><td> 8</td></tr>\n",
       "</tbody>\n",
       "</table>\n"
      ],
      "text/latex": [
       "A tibble: 10 × 1\n",
       "\\begin{tabular}{l}\n",
       " x\\\\\n",
       " <int>\\\\\n",
       "\\hline\n",
       "\t  4\\\\\n",
       "\t  1\\\\\n",
       "\t  7\\\\\n",
       "\t 10\\\\\n",
       "\t  3\\\\\n",
       "\t  5\\\\\n",
       "\t  2\\\\\n",
       "\t  6\\\\\n",
       "\t  9\\\\\n",
       "\t  8\\\\\n",
       "\\end{tabular}\n"
      ],
      "text/markdown": [
       "\n",
       "A tibble: 10 × 1\n",
       "\n",
       "| x &lt;int&gt; |\n",
       "|---|\n",
       "|  4 |\n",
       "|  1 |\n",
       "|  7 |\n",
       "| 10 |\n",
       "|  3 |\n",
       "|  5 |\n",
       "|  2 |\n",
       "|  6 |\n",
       "|  9 |\n",
       "|  8 |\n",
       "\n"
      ],
      "text/plain": [
       "   x \n",
       "1   4\n",
       "2   1\n",
       "3   7\n",
       "4  10\n",
       "5   3\n",
       "6   5\n",
       "7   2\n",
       "8   6\n",
       "9   9\n",
       "10  8"
      ]
     },
     "metadata": {},
     "output_type": "display_data"
    }
   ],
   "source": [
    "df %>% distinct(x) # selected columns"
   ]
  },
  {
   "cell_type": "code",
   "execution_count": 285,
   "id": "6fef67d9",
   "metadata": {},
   "outputs": [
    {
     "data": {
      "text/html": [
       "<table class=\"dataframe\">\n",
       "<caption>A tibble: 10 × 2</caption>\n",
       "<thead>\n",
       "\t<tr><th scope=col>x</th><th scope=col>y</th></tr>\n",
       "\t<tr><th scope=col>&lt;int&gt;</th><th scope=col>&lt;int&gt;</th></tr>\n",
       "</thead>\n",
       "<tbody>\n",
       "\t<tr><td> 4</td><td>8</td></tr>\n",
       "\t<tr><td> 1</td><td>4</td></tr>\n",
       "\t<tr><td> 7</td><td>1</td></tr>\n",
       "\t<tr><td>10</td><td>5</td></tr>\n",
       "\t<tr><td> 3</td><td>5</td></tr>\n",
       "\t<tr><td> 5</td><td>6</td></tr>\n",
       "\t<tr><td> 2</td><td>1</td></tr>\n",
       "\t<tr><td> 6</td><td>5</td></tr>\n",
       "\t<tr><td> 9</td><td>9</td></tr>\n",
       "\t<tr><td> 8</td><td>7</td></tr>\n",
       "</tbody>\n",
       "</table>\n"
      ],
      "text/latex": [
       "A tibble: 10 × 2\n",
       "\\begin{tabular}{ll}\n",
       " x & y\\\\\n",
       " <int> & <int>\\\\\n",
       "\\hline\n",
       "\t  4 & 8\\\\\n",
       "\t  1 & 4\\\\\n",
       "\t  7 & 1\\\\\n",
       "\t 10 & 5\\\\\n",
       "\t  3 & 5\\\\\n",
       "\t  5 & 6\\\\\n",
       "\t  2 & 1\\\\\n",
       "\t  6 & 5\\\\\n",
       "\t  9 & 9\\\\\n",
       "\t  8 & 7\\\\\n",
       "\\end{tabular}\n"
      ],
      "text/markdown": [
       "\n",
       "A tibble: 10 × 2\n",
       "\n",
       "| x &lt;int&gt; | y &lt;int&gt; |\n",
       "|---|---|\n",
       "|  4 | 8 |\n",
       "|  1 | 4 |\n",
       "|  7 | 1 |\n",
       "| 10 | 5 |\n",
       "|  3 | 5 |\n",
       "|  5 | 6 |\n",
       "|  2 | 1 |\n",
       "|  6 | 5 |\n",
       "|  9 | 9 |\n",
       "|  8 | 7 |\n",
       "\n"
      ],
      "text/plain": [
       "   x  y\n",
       "1   4 8\n",
       "2   1 4\n",
       "3   7 1\n",
       "4  10 5\n",
       "5   3 5\n",
       "6   5 6\n",
       "7   2 1\n",
       "8   6 5\n",
       "9   9 9\n",
       "10  8 7"
      ]
     },
     "metadata": {},
     "output_type": "display_data"
    }
   ],
   "source": [
    "df %>% distinct(x, .keep_all = TRUE)"
   ]
  },
  {
   "cell_type": "markdown",
   "id": "5461ee55",
   "metadata": {},
   "source": [
    "There are two equivalents in base R, depending on whether you want the whole data frame, or just selected variables:"
   ]
  },
  {
   "cell_type": "code",
   "execution_count": 286,
   "id": "ef019672",
   "metadata": {},
   "outputs": [
    {
     "data": {
      "text/html": [
       "<table class=\"dataframe\">\n",
       "<caption>A tibble: 10 × 1</caption>\n",
       "<thead>\n",
       "\t<tr><th scope=col>x</th></tr>\n",
       "\t<tr><th scope=col>&lt;int&gt;</th></tr>\n",
       "</thead>\n",
       "<tbody>\n",
       "\t<tr><td> 4</td></tr>\n",
       "\t<tr><td> 1</td></tr>\n",
       "\t<tr><td> 7</td></tr>\n",
       "\t<tr><td>10</td></tr>\n",
       "\t<tr><td> 3</td></tr>\n",
       "\t<tr><td> 5</td></tr>\n",
       "\t<tr><td> 2</td></tr>\n",
       "\t<tr><td> 6</td></tr>\n",
       "\t<tr><td> 9</td></tr>\n",
       "\t<tr><td> 8</td></tr>\n",
       "</tbody>\n",
       "</table>\n"
      ],
      "text/latex": [
       "A tibble: 10 × 1\n",
       "\\begin{tabular}{l}\n",
       " x\\\\\n",
       " <int>\\\\\n",
       "\\hline\n",
       "\t  4\\\\\n",
       "\t  1\\\\\n",
       "\t  7\\\\\n",
       "\t 10\\\\\n",
       "\t  3\\\\\n",
       "\t  5\\\\\n",
       "\t  2\\\\\n",
       "\t  6\\\\\n",
       "\t  9\\\\\n",
       "\t  8\\\\\n",
       "\\end{tabular}\n"
      ],
      "text/markdown": [
       "\n",
       "A tibble: 10 × 1\n",
       "\n",
       "| x &lt;int&gt; |\n",
       "|---|\n",
       "|  4 |\n",
       "|  1 |\n",
       "|  7 |\n",
       "| 10 |\n",
       "|  3 |\n",
       "|  5 |\n",
       "|  2 |\n",
       "|  6 |\n",
       "|  9 |\n",
       "|  8 |\n",
       "\n"
      ],
      "text/plain": [
       "   x \n",
       "1   4\n",
       "2   1\n",
       "3   7\n",
       "4  10\n",
       "5   3\n",
       "6   5\n",
       "7   2\n",
       "8   6\n",
       "9   9\n",
       "10  8"
      ]
     },
     "metadata": {},
     "output_type": "display_data"
    }
   ],
   "source": [
    "unique(df[\"x\"]) # selected columns"
   ]
  },
  {
   "cell_type": "code",
   "execution_count": 287,
   "id": "aac30007",
   "metadata": {},
   "outputs": [
    {
     "data": {
      "text/html": [
       "<table class=\"dataframe\">\n",
       "<caption>A tibble: 10 × 2</caption>\n",
       "<thead>\n",
       "\t<tr><th scope=col>x</th><th scope=col>y</th></tr>\n",
       "\t<tr><th scope=col>&lt;int&gt;</th><th scope=col>&lt;int&gt;</th></tr>\n",
       "</thead>\n",
       "<tbody>\n",
       "\t<tr><td> 4</td><td>8</td></tr>\n",
       "\t<tr><td> 1</td><td>4</td></tr>\n",
       "\t<tr><td> 7</td><td>1</td></tr>\n",
       "\t<tr><td>10</td><td>5</td></tr>\n",
       "\t<tr><td> 3</td><td>5</td></tr>\n",
       "\t<tr><td> 5</td><td>6</td></tr>\n",
       "\t<tr><td> 2</td><td>1</td></tr>\n",
       "\t<tr><td> 6</td><td>5</td></tr>\n",
       "\t<tr><td> 9</td><td>9</td></tr>\n",
       "\t<tr><td> 8</td><td>7</td></tr>\n",
       "</tbody>\n",
       "</table>\n"
      ],
      "text/latex": [
       "A tibble: 10 × 2\n",
       "\\begin{tabular}{ll}\n",
       " x & y\\\\\n",
       " <int> & <int>\\\\\n",
       "\\hline\n",
       "\t  4 & 8\\\\\n",
       "\t  1 & 4\\\\\n",
       "\t  7 & 1\\\\\n",
       "\t 10 & 5\\\\\n",
       "\t  3 & 5\\\\\n",
       "\t  5 & 6\\\\\n",
       "\t  2 & 1\\\\\n",
       "\t  6 & 5\\\\\n",
       "\t  9 & 9\\\\\n",
       "\t  8 & 7\\\\\n",
       "\\end{tabular}\n"
      ],
      "text/markdown": [
       "\n",
       "A tibble: 10 × 2\n",
       "\n",
       "| x &lt;int&gt; | y &lt;int&gt; |\n",
       "|---|---|\n",
       "|  4 | 8 |\n",
       "|  1 | 4 |\n",
       "|  7 | 1 |\n",
       "| 10 | 5 |\n",
       "|  3 | 5 |\n",
       "|  5 | 6 |\n",
       "|  2 | 1 |\n",
       "|  6 | 5 |\n",
       "|  9 | 9 |\n",
       "|  8 | 7 |\n",
       "\n"
      ],
      "text/plain": [
       "   x  y\n",
       "1   4 8\n",
       "2   1 4\n",
       "3   7 1\n",
       "4  10 5\n",
       "5   3 5\n",
       "6   5 6\n",
       "7   2 1\n",
       "8   6 5\n",
       "9   9 9\n",
       "10  8 7"
      ]
     },
     "metadata": {},
     "output_type": "display_data"
    }
   ],
   "source": [
    "df[!duplicated(df$x), , drop = FALSE] # whole data frame"
   ]
  },
  {
   "cell_type": "markdown",
   "id": "aad4314b",
   "metadata": {},
   "source": [
    "## dplyr::filter()\n",
    "selects rows where an expression is TRUE:"
   ]
  },
  {
   "cell_type": "code",
   "execution_count": 288,
   "id": "673ae342",
   "metadata": {},
   "outputs": [],
   "source": [
    "#data()\n",
    "a<-starwars"
   ]
  },
  {
   "cell_type": "code",
   "execution_count": 289,
   "id": "a39199ab",
   "metadata": {},
   "outputs": [],
   "source": [
    "b <- a %>% filter(species == \"Human\")"
   ]
  },
  {
   "cell_type": "code",
   "execution_count": 290,
   "id": "bf08e285",
   "metadata": {},
   "outputs": [],
   "source": [
    "b<-starwars %>% filter(mass > 1000)"
   ]
  },
  {
   "cell_type": "code",
   "execution_count": 291,
   "id": "83ea0dbc",
   "metadata": {},
   "outputs": [],
   "source": [
    "C<-starwars %>% filter(hair_color == \"none\" & eye_color == \"black\")"
   ]
  },
  {
   "cell_type": "markdown",
   "id": "132fe9fe",
   "metadata": {},
   "source": [
    "The closest base equivalent is subset():"
   ]
  },
  {
   "cell_type": "code",
   "execution_count": 292,
   "id": "7eaeb828",
   "metadata": {},
   "outputs": [
    {
     "data": {
      "text/html": [
       "<table class=\"dataframe\">\n",
       "<caption>A tibble: 35 × 14</caption>\n",
       "<thead>\n",
       "\t<tr><th scope=col>name</th><th scope=col>height</th><th scope=col>mass</th><th scope=col>hair_color</th><th scope=col>skin_color</th><th scope=col>eye_color</th><th scope=col>birth_year</th><th scope=col>sex</th><th scope=col>gender</th><th scope=col>homeworld</th><th scope=col>species</th><th scope=col>films</th><th scope=col>vehicles</th><th scope=col>starships</th></tr>\n",
       "\t<tr><th scope=col>&lt;chr&gt;</th><th scope=col>&lt;int&gt;</th><th scope=col>&lt;dbl&gt;</th><th scope=col>&lt;chr&gt;</th><th scope=col>&lt;chr&gt;</th><th scope=col>&lt;chr&gt;</th><th scope=col>&lt;dbl&gt;</th><th scope=col>&lt;chr&gt;</th><th scope=col>&lt;chr&gt;</th><th scope=col>&lt;chr&gt;</th><th scope=col>&lt;chr&gt;</th><th scope=col>&lt;list&gt;</th><th scope=col>&lt;list&gt;</th><th scope=col>&lt;list&gt;</th></tr>\n",
       "</thead>\n",
       "<tbody>\n",
       "\t<tr><td>Luke Skywalker     </td><td>172</td><td> 77.0</td><td>blond        </td><td>fair </td><td>blue     </td><td> 19.0</td><td>male  </td><td>masculine</td><td>Tatooine    </td><td>Human</td><td>The Empire Strikes Back, Revenge of the Sith    , Return of the Jedi     , A New Hope             , The Force Awakens      </td><td>Snowspeeder          , Imperial Speeder Bike</td><td>X-wing          , Imperial shuttle</td></tr>\n",
       "\t<tr><td>Darth Vader        </td><td>202</td><td>136.0</td><td>none         </td><td>white</td><td>yellow   </td><td> 41.9</td><td>male  </td><td>masculine</td><td>Tatooine    </td><td>Human</td><td>The Empire Strikes Back, Revenge of the Sith    , Return of the Jedi     , A New Hope             </td><td></td><td>TIE Advanced x1</td></tr>\n",
       "\t<tr><td>Leia Organa        </td><td>150</td><td> 49.0</td><td>brown        </td><td>light</td><td>brown    </td><td> 19.0</td><td>female</td><td>feminine </td><td>Alderaan    </td><td>Human</td><td>The Empire Strikes Back, Revenge of the Sith    , Return of the Jedi     , A New Hope             , The Force Awakens      </td><td>Imperial Speeder Bike</td><td></td></tr>\n",
       "\t<tr><td>Owen Lars          </td><td>178</td><td>120.0</td><td>brown, grey  </td><td>light</td><td>blue     </td><td> 52.0</td><td>male  </td><td>masculine</td><td>Tatooine    </td><td>Human</td><td>Attack of the Clones, Revenge of the Sith , A New Hope          </td><td></td><td></td></tr>\n",
       "\t<tr><td>Beru Whitesun lars </td><td>165</td><td> 75.0</td><td>brown        </td><td>light</td><td>blue     </td><td> 47.0</td><td>female</td><td>feminine </td><td>Tatooine    </td><td>Human</td><td>Attack of the Clones, Revenge of the Sith , A New Hope          </td><td></td><td></td></tr>\n",
       "\t<tr><td>Biggs Darklighter  </td><td>183</td><td> 84.0</td><td>black        </td><td>light</td><td>brown    </td><td> 24.0</td><td>male  </td><td>masculine</td><td>Tatooine    </td><td>Human</td><td>A New Hope</td><td></td><td>X-wing</td></tr>\n",
       "\t<tr><td>Obi-Wan Kenobi     </td><td>182</td><td> 77.0</td><td>auburn, white</td><td>fair </td><td>blue-gray</td><td> 57.0</td><td>male  </td><td>masculine</td><td>Stewjon     </td><td>Human</td><td>The Empire Strikes Back, Attack of the Clones   , The Phantom Menace     , Revenge of the Sith    , Return of the Jedi     , A New Hope             </td><td>Tribubble bongo</td><td>Jedi starfighter        , Trade Federation cruiser, Naboo star skiff        , Jedi Interceptor        , Belbullab-22 starfighter</td></tr>\n",
       "\t<tr><td>Anakin Skywalker   </td><td>188</td><td> 84.0</td><td>blond        </td><td>fair </td><td>blue     </td><td> 41.9</td><td>male  </td><td>masculine</td><td>Tatooine    </td><td>Human</td><td>Attack of the Clones, The Phantom Menace  , Revenge of the Sith </td><td>Zephyr-G swoop bike, XJ-6 airspeeder    </td><td>Trade Federation cruiser, Jedi Interceptor        , Naboo fighter           </td></tr>\n",
       "\t<tr><td>Wilhuff Tarkin     </td><td>180</td><td>   NA</td><td>auburn, grey </td><td>fair </td><td>blue     </td><td> 64.0</td><td>male  </td><td>masculine</td><td>Eriadu      </td><td>Human</td><td>Revenge of the Sith, A New Hope         </td><td></td><td></td></tr>\n",
       "\t<tr><td>Han Solo           </td><td>180</td><td> 80.0</td><td>brown        </td><td>fair </td><td>brown    </td><td> 29.0</td><td>male  </td><td>masculine</td><td>Corellia    </td><td>Human</td><td>The Empire Strikes Back, Return of the Jedi     , A New Hope             , The Force Awakens      </td><td></td><td>Millennium Falcon, Imperial shuttle </td></tr>\n",
       "\t<tr><td>Wedge Antilles     </td><td>170</td><td> 77.0</td><td>brown        </td><td>fair </td><td>hazel    </td><td> 21.0</td><td>male  </td><td>masculine</td><td>Corellia    </td><td>Human</td><td>The Empire Strikes Back, Return of the Jedi     , A New Hope             </td><td>Snowspeeder</td><td>X-wing</td></tr>\n",
       "\t<tr><td>Jek Tono Porkins   </td><td>180</td><td>110.0</td><td>brown        </td><td>fair </td><td>blue     </td><td>   NA</td><td>male  </td><td>masculine</td><td>Bestine IV  </td><td>Human</td><td>A New Hope</td><td></td><td>X-wing</td></tr>\n",
       "\t<tr><td>Palpatine          </td><td>170</td><td> 75.0</td><td>grey         </td><td>pale </td><td>yellow   </td><td> 82.0</td><td>male  </td><td>masculine</td><td>Naboo       </td><td>Human</td><td>The Empire Strikes Back, Attack of the Clones   , The Phantom Menace     , Revenge of the Sith    , Return of the Jedi     </td><td></td><td></td></tr>\n",
       "\t<tr><td>Boba Fett          </td><td>183</td><td> 78.2</td><td>black        </td><td>fair </td><td>brown    </td><td> 31.5</td><td>male  </td><td>masculine</td><td>Kamino      </td><td>Human</td><td>The Empire Strikes Back, Attack of the Clones   , Return of the Jedi     </td><td></td><td>Slave 1</td></tr>\n",
       "\t<tr><td>Lando Calrissian   </td><td>177</td><td> 79.0</td><td>black        </td><td>dark </td><td>brown    </td><td> 31.0</td><td>male  </td><td>masculine</td><td>Socorro     </td><td>Human</td><td>The Empire Strikes Back, Return of the Jedi     </td><td></td><td>Millennium Falcon</td></tr>\n",
       "\t<tr><td>Lobot              </td><td>175</td><td> 79.0</td><td>none         </td><td>light</td><td>blue     </td><td> 37.0</td><td>male  </td><td>masculine</td><td>Bespin      </td><td>Human</td><td>The Empire Strikes Back</td><td></td><td></td></tr>\n",
       "\t<tr><td>Mon Mothma         </td><td>150</td><td>   NA</td><td>auburn       </td><td>fair </td><td>blue     </td><td> 48.0</td><td>female</td><td>feminine </td><td>Chandrila   </td><td>Human</td><td>Return of the Jedi</td><td></td><td></td></tr>\n",
       "\t<tr><td>Arvel Crynyd       </td><td> NA</td><td>   NA</td><td>brown        </td><td>fair </td><td>brown    </td><td>   NA</td><td>male  </td><td>masculine</td><td>NA          </td><td>Human</td><td>Return of the Jedi</td><td></td><td>A-wing</td></tr>\n",
       "\t<tr><td>Qui-Gon Jinn       </td><td>193</td><td> 89.0</td><td>brown        </td><td>fair </td><td>blue     </td><td> 92.0</td><td>male  </td><td>masculine</td><td>NA          </td><td>Human</td><td>The Phantom Menace</td><td>Tribubble bongo</td><td></td></tr>\n",
       "\t<tr><td>Finis Valorum      </td><td>170</td><td>   NA</td><td>blond        </td><td>fair </td><td>blue     </td><td> 91.0</td><td>male  </td><td>masculine</td><td>Coruscant   </td><td>Human</td><td>The Phantom Menace</td><td></td><td></td></tr>\n",
       "\t<tr><td>Shmi Skywalker     </td><td>163</td><td>   NA</td><td>black        </td><td>fair </td><td>brown    </td><td> 72.0</td><td>female</td><td>feminine </td><td>Tatooine    </td><td>Human</td><td>Attack of the Clones, The Phantom Menace  </td><td></td><td></td></tr>\n",
       "\t<tr><td>Mace Windu         </td><td>188</td><td> 84.0</td><td>none         </td><td>dark </td><td>brown    </td><td> 72.0</td><td>male  </td><td>masculine</td><td>Haruun Kal  </td><td>Human</td><td>Attack of the Clones, The Phantom Menace  , Revenge of the Sith </td><td></td><td></td></tr>\n",
       "\t<tr><td>Gregar Typho       </td><td>185</td><td> 85.0</td><td>black        </td><td>dark </td><td>brown    </td><td>   NA</td><td>male  </td><td>masculine</td><td>Naboo       </td><td>Human</td><td>Attack of the Clones</td><td></td><td>Naboo fighter</td></tr>\n",
       "\t<tr><td>Cordé              </td><td>157</td><td>   NA</td><td>brown        </td><td>light</td><td>brown    </td><td>   NA</td><td>female</td><td>feminine </td><td>Naboo       </td><td>Human</td><td>Attack of the Clones</td><td></td><td></td></tr>\n",
       "\t<tr><td>Cliegg Lars        </td><td>183</td><td>   NA</td><td>brown        </td><td>fair </td><td>blue     </td><td> 82.0</td><td>male  </td><td>masculine</td><td>Tatooine    </td><td>Human</td><td>Attack of the Clones</td><td></td><td></td></tr>\n",
       "\t<tr><td>Dormé              </td><td>165</td><td>   NA</td><td>brown        </td><td>light</td><td>brown    </td><td>   NA</td><td>female</td><td>feminine </td><td>Naboo       </td><td>Human</td><td>Attack of the Clones</td><td></td><td></td></tr>\n",
       "\t<tr><td>Dooku              </td><td>193</td><td> 80.0</td><td>white        </td><td>fair </td><td>brown    </td><td>102.0</td><td>male  </td><td>masculine</td><td>Serenno     </td><td>Human</td><td>Attack of the Clones, Revenge of the Sith </td><td>Flitknot speeder</td><td></td></tr>\n",
       "\t<tr><td>Bail Prestor Organa</td><td>191</td><td>   NA</td><td>black        </td><td>tan  </td><td>brown    </td><td> 67.0</td><td>male  </td><td>masculine</td><td>Alderaan    </td><td>Human</td><td>Attack of the Clones, Revenge of the Sith </td><td></td><td></td></tr>\n",
       "\t<tr><td>Jango Fett         </td><td>183</td><td> 79.0</td><td>black        </td><td>tan  </td><td>brown    </td><td> 66.0</td><td>male  </td><td>masculine</td><td>Concord Dawn</td><td>Human</td><td>Attack of the Clones</td><td></td><td></td></tr>\n",
       "\t<tr><td>Jocasta Nu         </td><td>167</td><td>   NA</td><td>white        </td><td>fair </td><td>blue     </td><td>   NA</td><td>female</td><td>feminine </td><td>Coruscant   </td><td>Human</td><td>Attack of the Clones</td><td></td><td></td></tr>\n",
       "\t<tr><td>Raymus Antilles    </td><td>188</td><td> 79.0</td><td>brown        </td><td>light</td><td>brown    </td><td>   NA</td><td>male  </td><td>masculine</td><td>Alderaan    </td><td>Human</td><td>Revenge of the Sith, A New Hope         </td><td></td><td></td></tr>\n",
       "\t<tr><td>Finn               </td><td> NA</td><td>   NA</td><td>black        </td><td>dark </td><td>dark     </td><td>   NA</td><td>male  </td><td>masculine</td><td>NA          </td><td>Human</td><td>The Force Awakens</td><td></td><td></td></tr>\n",
       "\t<tr><td>Rey                </td><td> NA</td><td>   NA</td><td>brown        </td><td>light</td><td>hazel    </td><td>   NA</td><td>female</td><td>feminine </td><td>NA          </td><td>Human</td><td>The Force Awakens</td><td></td><td></td></tr>\n",
       "\t<tr><td>Poe Dameron        </td><td> NA</td><td>   NA</td><td>brown        </td><td>light</td><td>brown    </td><td>   NA</td><td>male  </td><td>masculine</td><td>NA          </td><td>Human</td><td>The Force Awakens</td><td></td><td>T-70 X-wing fighter</td></tr>\n",
       "\t<tr><td>Padmé Amidala      </td><td>165</td><td> 45.0</td><td>brown        </td><td>light</td><td>brown    </td><td> 46.0</td><td>female</td><td>feminine </td><td>Naboo       </td><td>Human</td><td>Attack of the Clones, The Phantom Menace  , Revenge of the Sith </td><td></td><td>H-type Nubian yacht, Naboo star skiff   , Naboo fighter      </td></tr>\n",
       "</tbody>\n",
       "</table>\n"
      ],
      "text/latex": [
       "A tibble: 35 × 14\n",
       "\\begin{tabular}{llllllllllllll}\n",
       " name & height & mass & hair\\_color & skin\\_color & eye\\_color & birth\\_year & sex & gender & homeworld & species & films & vehicles & starships\\\\\n",
       " <chr> & <int> & <dbl> & <chr> & <chr> & <chr> & <dbl> & <chr> & <chr> & <chr> & <chr> & <list> & <list> & <list>\\\\\n",
       "\\hline\n",
       "\t Luke Skywalker      & 172 &  77.0 & blond         & fair  & blue      &  19.0 & male   & masculine & Tatooine     & Human & The Empire Strikes Back, Revenge of the Sith    , Return of the Jedi     , A New Hope             , The Force Awakens       & Snowspeeder          , Imperial Speeder Bike & X-wing          , Imperial shuttle\\\\\n",
       "\t Darth Vader         & 202 & 136.0 & none          & white & yellow    &  41.9 & male   & masculine & Tatooine     & Human & The Empire Strikes Back, Revenge of the Sith    , Return of the Jedi     , A New Hope              &  & TIE Advanced x1\\\\\n",
       "\t Leia Organa         & 150 &  49.0 & brown         & light & brown     &  19.0 & female & feminine  & Alderaan     & Human & The Empire Strikes Back, Revenge of the Sith    , Return of the Jedi     , A New Hope             , The Force Awakens       & Imperial Speeder Bike & \\\\\n",
       "\t Owen Lars           & 178 & 120.0 & brown, grey   & light & blue      &  52.0 & male   & masculine & Tatooine     & Human & Attack of the Clones, Revenge of the Sith , A New Hope           &  & \\\\\n",
       "\t Beru Whitesun lars  & 165 &  75.0 & brown         & light & blue      &  47.0 & female & feminine  & Tatooine     & Human & Attack of the Clones, Revenge of the Sith , A New Hope           &  & \\\\\n",
       "\t Biggs Darklighter   & 183 &  84.0 & black         & light & brown     &  24.0 & male   & masculine & Tatooine     & Human & A New Hope &  & X-wing\\\\\n",
       "\t Obi-Wan Kenobi      & 182 &  77.0 & auburn, white & fair  & blue-gray &  57.0 & male   & masculine & Stewjon      & Human & The Empire Strikes Back, Attack of the Clones   , The Phantom Menace     , Revenge of the Sith    , Return of the Jedi     , A New Hope              & Tribubble bongo & Jedi starfighter        , Trade Federation cruiser, Naboo star skiff        , Jedi Interceptor        , Belbullab-22 starfighter\\\\\n",
       "\t Anakin Skywalker    & 188 &  84.0 & blond         & fair  & blue      &  41.9 & male   & masculine & Tatooine     & Human & Attack of the Clones, The Phantom Menace  , Revenge of the Sith  & Zephyr-G swoop bike, XJ-6 airspeeder     & Trade Federation cruiser, Jedi Interceptor        , Naboo fighter           \\\\\n",
       "\t Wilhuff Tarkin      & 180 &    NA & auburn, grey  & fair  & blue      &  64.0 & male   & masculine & Eriadu       & Human & Revenge of the Sith, A New Hope          &  & \\\\\n",
       "\t Han Solo            & 180 &  80.0 & brown         & fair  & brown     &  29.0 & male   & masculine & Corellia     & Human & The Empire Strikes Back, Return of the Jedi     , A New Hope             , The Force Awakens       &  & Millennium Falcon, Imperial shuttle \\\\\n",
       "\t Wedge Antilles      & 170 &  77.0 & brown         & fair  & hazel     &  21.0 & male   & masculine & Corellia     & Human & The Empire Strikes Back, Return of the Jedi     , A New Hope              & Snowspeeder & X-wing\\\\\n",
       "\t Jek Tono Porkins    & 180 & 110.0 & brown         & fair  & blue      &    NA & male   & masculine & Bestine IV   & Human & A New Hope &  & X-wing\\\\\n",
       "\t Palpatine           & 170 &  75.0 & grey          & pale  & yellow    &  82.0 & male   & masculine & Naboo        & Human & The Empire Strikes Back, Attack of the Clones   , The Phantom Menace     , Revenge of the Sith    , Return of the Jedi      &  & \\\\\n",
       "\t Boba Fett           & 183 &  78.2 & black         & fair  & brown     &  31.5 & male   & masculine & Kamino       & Human & The Empire Strikes Back, Attack of the Clones   , Return of the Jedi      &  & Slave 1\\\\\n",
       "\t Lando Calrissian    & 177 &  79.0 & black         & dark  & brown     &  31.0 & male   & masculine & Socorro      & Human & The Empire Strikes Back, Return of the Jedi      &  & Millennium Falcon\\\\\n",
       "\t Lobot               & 175 &  79.0 & none          & light & blue      &  37.0 & male   & masculine & Bespin       & Human & The Empire Strikes Back &  & \\\\\n",
       "\t Mon Mothma          & 150 &    NA & auburn        & fair  & blue      &  48.0 & female & feminine  & Chandrila    & Human & Return of the Jedi &  & \\\\\n",
       "\t Arvel Crynyd        &  NA &    NA & brown         & fair  & brown     &    NA & male   & masculine & NA           & Human & Return of the Jedi &  & A-wing\\\\\n",
       "\t Qui-Gon Jinn        & 193 &  89.0 & brown         & fair  & blue      &  92.0 & male   & masculine & NA           & Human & The Phantom Menace & Tribubble bongo & \\\\\n",
       "\t Finis Valorum       & 170 &    NA & blond         & fair  & blue      &  91.0 & male   & masculine & Coruscant    & Human & The Phantom Menace &  & \\\\\n",
       "\t Shmi Skywalker      & 163 &    NA & black         & fair  & brown     &  72.0 & female & feminine  & Tatooine     & Human & Attack of the Clones, The Phantom Menace   &  & \\\\\n",
       "\t Mace Windu          & 188 &  84.0 & none          & dark  & brown     &  72.0 & male   & masculine & Haruun Kal   & Human & Attack of the Clones, The Phantom Menace  , Revenge of the Sith  &  & \\\\\n",
       "\t Gregar Typho        & 185 &  85.0 & black         & dark  & brown     &    NA & male   & masculine & Naboo        & Human & Attack of the Clones &  & Naboo fighter\\\\\n",
       "\t Cordé               & 157 &    NA & brown         & light & brown     &    NA & female & feminine  & Naboo        & Human & Attack of the Clones &  & \\\\\n",
       "\t Cliegg Lars         & 183 &    NA & brown         & fair  & blue      &  82.0 & male   & masculine & Tatooine     & Human & Attack of the Clones &  & \\\\\n",
       "\t Dormé               & 165 &    NA & brown         & light & brown     &    NA & female & feminine  & Naboo        & Human & Attack of the Clones &  & \\\\\n",
       "\t Dooku               & 193 &  80.0 & white         & fair  & brown     & 102.0 & male   & masculine & Serenno      & Human & Attack of the Clones, Revenge of the Sith  & Flitknot speeder & \\\\\n",
       "\t Bail Prestor Organa & 191 &    NA & black         & tan   & brown     &  67.0 & male   & masculine & Alderaan     & Human & Attack of the Clones, Revenge of the Sith  &  & \\\\\n",
       "\t Jango Fett          & 183 &  79.0 & black         & tan   & brown     &  66.0 & male   & masculine & Concord Dawn & Human & Attack of the Clones &  & \\\\\n",
       "\t Jocasta Nu          & 167 &    NA & white         & fair  & blue      &    NA & female & feminine  & Coruscant    & Human & Attack of the Clones &  & \\\\\n",
       "\t Raymus Antilles     & 188 &  79.0 & brown         & light & brown     &    NA & male   & masculine & Alderaan     & Human & Revenge of the Sith, A New Hope          &  & \\\\\n",
       "\t Finn                &  NA &    NA & black         & dark  & dark      &    NA & male   & masculine & NA           & Human & The Force Awakens &  & \\\\\n",
       "\t Rey                 &  NA &    NA & brown         & light & hazel     &    NA & female & feminine  & NA           & Human & The Force Awakens &  & \\\\\n",
       "\t Poe Dameron         &  NA &    NA & brown         & light & brown     &    NA & male   & masculine & NA           & Human & The Force Awakens &  & T-70 X-wing fighter\\\\\n",
       "\t Padmé Amidala       & 165 &  45.0 & brown         & light & brown     &  46.0 & female & feminine  & Naboo        & Human & Attack of the Clones, The Phantom Menace  , Revenge of the Sith  &  & H-type Nubian yacht, Naboo star skiff   , Naboo fighter      \\\\\n",
       "\\end{tabular}\n"
      ],
      "text/markdown": [
       "\n",
       "A tibble: 35 × 14\n",
       "\n",
       "| name &lt;chr&gt; | height &lt;int&gt; | mass &lt;dbl&gt; | hair_color &lt;chr&gt; | skin_color &lt;chr&gt; | eye_color &lt;chr&gt; | birth_year &lt;dbl&gt; | sex &lt;chr&gt; | gender &lt;chr&gt; | homeworld &lt;chr&gt; | species &lt;chr&gt; | films &lt;list&gt; | vehicles &lt;list&gt; | starships &lt;list&gt; |\n",
       "|---|---|---|---|---|---|---|---|---|---|---|---|---|---|\n",
       "| Luke Skywalker      | 172 |  77.0 | blond         | fair  | blue      |  19.0 | male   | masculine | Tatooine     | Human | The Empire Strikes Back, Revenge of the Sith    , Return of the Jedi     , A New Hope             , The Force Awakens       | Snowspeeder          , Imperial Speeder Bike | X-wing          , Imperial shuttle |\n",
       "| Darth Vader         | 202 | 136.0 | none          | white | yellow    |  41.9 | male   | masculine | Tatooine     | Human | The Empire Strikes Back, Revenge of the Sith    , Return of the Jedi     , A New Hope              | <!----> | TIE Advanced x1 |\n",
       "| Leia Organa         | 150 |  49.0 | brown         | light | brown     |  19.0 | female | feminine  | Alderaan     | Human | The Empire Strikes Back, Revenge of the Sith    , Return of the Jedi     , A New Hope             , The Force Awakens       | Imperial Speeder Bike | <!----> |\n",
       "| Owen Lars           | 178 | 120.0 | brown, grey   | light | blue      |  52.0 | male   | masculine | Tatooine     | Human | Attack of the Clones, Revenge of the Sith , A New Hope           | <!----> | <!----> |\n",
       "| Beru Whitesun lars  | 165 |  75.0 | brown         | light | blue      |  47.0 | female | feminine  | Tatooine     | Human | Attack of the Clones, Revenge of the Sith , A New Hope           | <!----> | <!----> |\n",
       "| Biggs Darklighter   | 183 |  84.0 | black         | light | brown     |  24.0 | male   | masculine | Tatooine     | Human | A New Hope | <!----> | X-wing |\n",
       "| Obi-Wan Kenobi      | 182 |  77.0 | auburn, white | fair  | blue-gray |  57.0 | male   | masculine | Stewjon      | Human | The Empire Strikes Back, Attack of the Clones   , The Phantom Menace     , Revenge of the Sith    , Return of the Jedi     , A New Hope              | Tribubble bongo | Jedi starfighter        , Trade Federation cruiser, Naboo star skiff        , Jedi Interceptor        , Belbullab-22 starfighter |\n",
       "| Anakin Skywalker    | 188 |  84.0 | blond         | fair  | blue      |  41.9 | male   | masculine | Tatooine     | Human | Attack of the Clones, The Phantom Menace  , Revenge of the Sith  | Zephyr-G swoop bike, XJ-6 airspeeder     | Trade Federation cruiser, Jedi Interceptor        , Naboo fighter            |\n",
       "| Wilhuff Tarkin      | 180 |    NA | auburn, grey  | fair  | blue      |  64.0 | male   | masculine | Eriadu       | Human | Revenge of the Sith, A New Hope          | <!----> | <!----> |\n",
       "| Han Solo            | 180 |  80.0 | brown         | fair  | brown     |  29.0 | male   | masculine | Corellia     | Human | The Empire Strikes Back, Return of the Jedi     , A New Hope             , The Force Awakens       | <!----> | Millennium Falcon, Imperial shuttle  |\n",
       "| Wedge Antilles      | 170 |  77.0 | brown         | fair  | hazel     |  21.0 | male   | masculine | Corellia     | Human | The Empire Strikes Back, Return of the Jedi     , A New Hope              | Snowspeeder | X-wing |\n",
       "| Jek Tono Porkins    | 180 | 110.0 | brown         | fair  | blue      |    NA | male   | masculine | Bestine IV   | Human | A New Hope | <!----> | X-wing |\n",
       "| Palpatine           | 170 |  75.0 | grey          | pale  | yellow    |  82.0 | male   | masculine | Naboo        | Human | The Empire Strikes Back, Attack of the Clones   , The Phantom Menace     , Revenge of the Sith    , Return of the Jedi      | <!----> | <!----> |\n",
       "| Boba Fett           | 183 |  78.2 | black         | fair  | brown     |  31.5 | male   | masculine | Kamino       | Human | The Empire Strikes Back, Attack of the Clones   , Return of the Jedi      | <!----> | Slave 1 |\n",
       "| Lando Calrissian    | 177 |  79.0 | black         | dark  | brown     |  31.0 | male   | masculine | Socorro      | Human | The Empire Strikes Back, Return of the Jedi      | <!----> | Millennium Falcon |\n",
       "| Lobot               | 175 |  79.0 | none          | light | blue      |  37.0 | male   | masculine | Bespin       | Human | The Empire Strikes Back | <!----> | <!----> |\n",
       "| Mon Mothma          | 150 |    NA | auburn        | fair  | blue      |  48.0 | female | feminine  | Chandrila    | Human | Return of the Jedi | <!----> | <!----> |\n",
       "| Arvel Crynyd        |  NA |    NA | brown         | fair  | brown     |    NA | male   | masculine | NA           | Human | Return of the Jedi | <!----> | A-wing |\n",
       "| Qui-Gon Jinn        | 193 |  89.0 | brown         | fair  | blue      |  92.0 | male   | masculine | NA           | Human | The Phantom Menace | Tribubble bongo | <!----> |\n",
       "| Finis Valorum       | 170 |    NA | blond         | fair  | blue      |  91.0 | male   | masculine | Coruscant    | Human | The Phantom Menace | <!----> | <!----> |\n",
       "| Shmi Skywalker      | 163 |    NA | black         | fair  | brown     |  72.0 | female | feminine  | Tatooine     | Human | Attack of the Clones, The Phantom Menace   | <!----> | <!----> |\n",
       "| Mace Windu          | 188 |  84.0 | none          | dark  | brown     |  72.0 | male   | masculine | Haruun Kal   | Human | Attack of the Clones, The Phantom Menace  , Revenge of the Sith  | <!----> | <!----> |\n",
       "| Gregar Typho        | 185 |  85.0 | black         | dark  | brown     |    NA | male   | masculine | Naboo        | Human | Attack of the Clones | <!----> | Naboo fighter |\n",
       "| Cordé               | 157 |    NA | brown         | light | brown     |    NA | female | feminine  | Naboo        | Human | Attack of the Clones | <!----> | <!----> |\n",
       "| Cliegg Lars         | 183 |    NA | brown         | fair  | blue      |  82.0 | male   | masculine | Tatooine     | Human | Attack of the Clones | <!----> | <!----> |\n",
       "| Dormé               | 165 |    NA | brown         | light | brown     |    NA | female | feminine  | Naboo        | Human | Attack of the Clones | <!----> | <!----> |\n",
       "| Dooku               | 193 |  80.0 | white         | fair  | brown     | 102.0 | male   | masculine | Serenno      | Human | Attack of the Clones, Revenge of the Sith  | Flitknot speeder | <!----> |\n",
       "| Bail Prestor Organa | 191 |    NA | black         | tan   | brown     |  67.0 | male   | masculine | Alderaan     | Human | Attack of the Clones, Revenge of the Sith  | <!----> | <!----> |\n",
       "| Jango Fett          | 183 |  79.0 | black         | tan   | brown     |  66.0 | male   | masculine | Concord Dawn | Human | Attack of the Clones | <!----> | <!----> |\n",
       "| Jocasta Nu          | 167 |    NA | white         | fair  | blue      |    NA | female | feminine  | Coruscant    | Human | Attack of the Clones | <!----> | <!----> |\n",
       "| Raymus Antilles     | 188 |  79.0 | brown         | light | brown     |    NA | male   | masculine | Alderaan     | Human | Revenge of the Sith, A New Hope          | <!----> | <!----> |\n",
       "| Finn                |  NA |    NA | black         | dark  | dark      |    NA | male   | masculine | NA           | Human | The Force Awakens | <!----> | <!----> |\n",
       "| Rey                 |  NA |    NA | brown         | light | hazel     |    NA | female | feminine  | NA           | Human | The Force Awakens | <!----> | <!----> |\n",
       "| Poe Dameron         |  NA |    NA | brown         | light | brown     |    NA | male   | masculine | NA           | Human | The Force Awakens | <!----> | T-70 X-wing fighter |\n",
       "| Padmé Amidala       | 165 |  45.0 | brown         | light | brown     |  46.0 | female | feminine  | Naboo        | Human | Attack of the Clones, The Phantom Menace  , Revenge of the Sith  | <!----> | H-type Nubian yacht, Naboo star skiff   , Naboo fighter       |\n",
       "\n"
      ],
      "text/plain": [
       "   name                height mass  hair_color    skin_color eye_color\n",
       "1  Luke Skywalker      172     77.0 blond         fair       blue     \n",
       "2  Darth Vader         202    136.0 none          white      yellow   \n",
       "3  Leia Organa         150     49.0 brown         light      brown    \n",
       "4  Owen Lars           178    120.0 brown, grey   light      blue     \n",
       "5  Beru Whitesun lars  165     75.0 brown         light      blue     \n",
       "6  Biggs Darklighter   183     84.0 black         light      brown    \n",
       "7  Obi-Wan Kenobi      182     77.0 auburn, white fair       blue-gray\n",
       "8  Anakin Skywalker    188     84.0 blond         fair       blue     \n",
       "9  Wilhuff Tarkin      180       NA auburn, grey  fair       blue     \n",
       "10 Han Solo            180     80.0 brown         fair       brown    \n",
       "11 Wedge Antilles      170     77.0 brown         fair       hazel    \n",
       "12 Jek Tono Porkins    180    110.0 brown         fair       blue     \n",
       "13 Palpatine           170     75.0 grey          pale       yellow   \n",
       "14 Boba Fett           183     78.2 black         fair       brown    \n",
       "15 Lando Calrissian    177     79.0 black         dark       brown    \n",
       "16 Lobot               175     79.0 none          light      blue     \n",
       "17 Mon Mothma          150       NA auburn        fair       blue     \n",
       "18 Arvel Crynyd         NA       NA brown         fair       brown    \n",
       "19 Qui-Gon Jinn        193     89.0 brown         fair       blue     \n",
       "20 Finis Valorum       170       NA blond         fair       blue     \n",
       "21 Shmi Skywalker      163       NA black         fair       brown    \n",
       "22 Mace Windu          188     84.0 none          dark       brown    \n",
       "23 Gregar Typho        185     85.0 black         dark       brown    \n",
       "24 Cordé               157       NA brown         light      brown    \n",
       "25 Cliegg Lars         183       NA brown         fair       blue     \n",
       "26 Dormé               165       NA brown         light      brown    \n",
       "27 Dooku               193     80.0 white         fair       brown    \n",
       "28 Bail Prestor Organa 191       NA black         tan        brown    \n",
       "29 Jango Fett          183     79.0 black         tan        brown    \n",
       "30 Jocasta Nu          167       NA white         fair       blue     \n",
       "31 Raymus Antilles     188     79.0 brown         light      brown    \n",
       "32 Finn                 NA       NA black         dark       dark     \n",
       "33 Rey                  NA       NA brown         light      hazel    \n",
       "34 Poe Dameron          NA       NA brown         light      brown    \n",
       "35 Padmé Amidala       165     45.0 brown         light      brown    \n",
       "   birth_year sex    gender    homeworld    species\n",
       "1   19.0      male   masculine Tatooine     Human  \n",
       "2   41.9      male   masculine Tatooine     Human  \n",
       "3   19.0      female feminine  Alderaan     Human  \n",
       "4   52.0      male   masculine Tatooine     Human  \n",
       "5   47.0      female feminine  Tatooine     Human  \n",
       "6   24.0      male   masculine Tatooine     Human  \n",
       "7   57.0      male   masculine Stewjon      Human  \n",
       "8   41.9      male   masculine Tatooine     Human  \n",
       "9   64.0      male   masculine Eriadu       Human  \n",
       "10  29.0      male   masculine Corellia     Human  \n",
       "11  21.0      male   masculine Corellia     Human  \n",
       "12    NA      male   masculine Bestine IV   Human  \n",
       "13  82.0      male   masculine Naboo        Human  \n",
       "14  31.5      male   masculine Kamino       Human  \n",
       "15  31.0      male   masculine Socorro      Human  \n",
       "16  37.0      male   masculine Bespin       Human  \n",
       "17  48.0      female feminine  Chandrila    Human  \n",
       "18    NA      male   masculine NA           Human  \n",
       "19  92.0      male   masculine NA           Human  \n",
       "20  91.0      male   masculine Coruscant    Human  \n",
       "21  72.0      female feminine  Tatooine     Human  \n",
       "22  72.0      male   masculine Haruun Kal   Human  \n",
       "23    NA      male   masculine Naboo        Human  \n",
       "24    NA      female feminine  Naboo        Human  \n",
       "25  82.0      male   masculine Tatooine     Human  \n",
       "26    NA      female feminine  Naboo        Human  \n",
       "27 102.0      male   masculine Serenno      Human  \n",
       "28  67.0      male   masculine Alderaan     Human  \n",
       "29  66.0      male   masculine Concord Dawn Human  \n",
       "30    NA      female feminine  Coruscant    Human  \n",
       "31    NA      male   masculine Alderaan     Human  \n",
       "32    NA      male   masculine NA           Human  \n",
       "33    NA      female feminine  NA           Human  \n",
       "34    NA      male   masculine NA           Human  \n",
       "35  46.0      female feminine  Naboo        Human  \n",
       "   films                                                                                                                                               \n",
       "1  The Empire Strikes Back, Revenge of the Sith    , Return of the Jedi     , A New Hope             , The Force Awakens                               \n",
       "2  The Empire Strikes Back, Revenge of the Sith    , Return of the Jedi     , A New Hope                                                               \n",
       "3  The Empire Strikes Back, Revenge of the Sith    , Return of the Jedi     , A New Hope             , The Force Awakens                               \n",
       "4  Attack of the Clones, Revenge of the Sith , A New Hope                                                                                              \n",
       "5  Attack of the Clones, Revenge of the Sith , A New Hope                                                                                              \n",
       "6  A New Hope                                                                                                                                          \n",
       "7  The Empire Strikes Back, Attack of the Clones   , The Phantom Menace     , Revenge of the Sith    , Return of the Jedi     , A New Hope             \n",
       "8  Attack of the Clones, The Phantom Menace  , Revenge of the Sith                                                                                     \n",
       "9  Revenge of the Sith, A New Hope                                                                                                                     \n",
       "10 The Empire Strikes Back, Return of the Jedi     , A New Hope             , The Force Awakens                                                        \n",
       "11 The Empire Strikes Back, Return of the Jedi     , A New Hope                                                                                        \n",
       "12 A New Hope                                                                                                                                          \n",
       "13 The Empire Strikes Back, Attack of the Clones   , The Phantom Menace     , Revenge of the Sith    , Return of the Jedi                              \n",
       "14 The Empire Strikes Back, Attack of the Clones   , Return of the Jedi                                                                                \n",
       "15 The Empire Strikes Back, Return of the Jedi                                                                                                         \n",
       "16 The Empire Strikes Back                                                                                                                             \n",
       "17 Return of the Jedi                                                                                                                                  \n",
       "18 Return of the Jedi                                                                                                                                  \n",
       "19 The Phantom Menace                                                                                                                                  \n",
       "20 The Phantom Menace                                                                                                                                  \n",
       "21 Attack of the Clones, The Phantom Menace                                                                                                            \n",
       "22 Attack of the Clones, The Phantom Menace  , Revenge of the Sith                                                                                     \n",
       "23 Attack of the Clones                                                                                                                                \n",
       "24 Attack of the Clones                                                                                                                                \n",
       "25 Attack of the Clones                                                                                                                                \n",
       "26 Attack of the Clones                                                                                                                                \n",
       "27 Attack of the Clones, Revenge of the Sith                                                                                                           \n",
       "28 Attack of the Clones, Revenge of the Sith                                                                                                           \n",
       "29 Attack of the Clones                                                                                                                                \n",
       "30 Attack of the Clones                                                                                                                                \n",
       "31 Revenge of the Sith, A New Hope                                                                                                                     \n",
       "32 The Force Awakens                                                                                                                                   \n",
       "33 The Force Awakens                                                                                                                                   \n",
       "34 The Force Awakens                                                                                                                                   \n",
       "35 Attack of the Clones, The Phantom Menace  , Revenge of the Sith                                                                                     \n",
       "   vehicles                                    \n",
       "1  Snowspeeder          , Imperial Speeder Bike\n",
       "2                                              \n",
       "3  Imperial Speeder Bike                       \n",
       "4                                              \n",
       "5                                              \n",
       "6                                              \n",
       "7  Tribubble bongo                             \n",
       "8  Zephyr-G swoop bike, XJ-6 airspeeder        \n",
       "9                                              \n",
       "10                                             \n",
       "11 Snowspeeder                                 \n",
       "12                                             \n",
       "13                                             \n",
       "14                                             \n",
       "15                                             \n",
       "16                                             \n",
       "17                                             \n",
       "18                                             \n",
       "19 Tribubble bongo                             \n",
       "20                                             \n",
       "21                                             \n",
       "22                                             \n",
       "23                                             \n",
       "24                                             \n",
       "25                                             \n",
       "26                                             \n",
       "27 Flitknot speeder                            \n",
       "28                                             \n",
       "29                                             \n",
       "30                                             \n",
       "31                                             \n",
       "32                                             \n",
       "33                                             \n",
       "34                                             \n",
       "35                                             \n",
       "   starships                                                                                                                       \n",
       "1  X-wing          , Imperial shuttle                                                                                              \n",
       "2  TIE Advanced x1                                                                                                                 \n",
       "3                                                                                                                                  \n",
       "4                                                                                                                                  \n",
       "5                                                                                                                                  \n",
       "6  X-wing                                                                                                                          \n",
       "7  Jedi starfighter        , Trade Federation cruiser, Naboo star skiff        , Jedi Interceptor        , Belbullab-22 starfighter\n",
       "8  Trade Federation cruiser, Jedi Interceptor        , Naboo fighter                                                               \n",
       "9                                                                                                                                  \n",
       "10 Millennium Falcon, Imperial shuttle                                                                                             \n",
       "11 X-wing                                                                                                                          \n",
       "12 X-wing                                                                                                                          \n",
       "13                                                                                                                                 \n",
       "14 Slave 1                                                                                                                         \n",
       "15 Millennium Falcon                                                                                                               \n",
       "16                                                                                                                                 \n",
       "17                                                                                                                                 \n",
       "18 A-wing                                                                                                                          \n",
       "19                                                                                                                                 \n",
       "20                                                                                                                                 \n",
       "21                                                                                                                                 \n",
       "22                                                                                                                                 \n",
       "23 Naboo fighter                                                                                                                   \n",
       "24                                                                                                                                 \n",
       "25                                                                                                                                 \n",
       "26                                                                                                                                 \n",
       "27                                                                                                                                 \n",
       "28                                                                                                                                 \n",
       "29                                                                                                                                 \n",
       "30                                                                                                                                 \n",
       "31                                                                                                                                 \n",
       "32                                                                                                                                 \n",
       "33                                                                                                                                 \n",
       "34 T-70 X-wing fighter                                                                                                             \n",
       "35 H-type Nubian yacht, Naboo star skiff   , Naboo fighter                                                                         "
      ]
     },
     "metadata": {},
     "output_type": "display_data"
    }
   ],
   "source": [
    "subset(starwars, species == \"Human\")"
   ]
  },
  {
   "cell_type": "code",
   "execution_count": 293,
   "id": "6f7cc35b",
   "metadata": {},
   "outputs": [
    {
     "data": {
      "text/html": [
       "<table class=\"dataframe\">\n",
       "<caption>A tibble: 1 × 14</caption>\n",
       "<thead>\n",
       "\t<tr><th scope=col>name</th><th scope=col>height</th><th scope=col>mass</th><th scope=col>hair_color</th><th scope=col>skin_color</th><th scope=col>eye_color</th><th scope=col>birth_year</th><th scope=col>sex</th><th scope=col>gender</th><th scope=col>homeworld</th><th scope=col>species</th><th scope=col>films</th><th scope=col>vehicles</th><th scope=col>starships</th></tr>\n",
       "\t<tr><th scope=col>&lt;chr&gt;</th><th scope=col>&lt;int&gt;</th><th scope=col>&lt;dbl&gt;</th><th scope=col>&lt;chr&gt;</th><th scope=col>&lt;chr&gt;</th><th scope=col>&lt;chr&gt;</th><th scope=col>&lt;dbl&gt;</th><th scope=col>&lt;chr&gt;</th><th scope=col>&lt;chr&gt;</th><th scope=col>&lt;chr&gt;</th><th scope=col>&lt;chr&gt;</th><th scope=col>&lt;list&gt;</th><th scope=col>&lt;list&gt;</th><th scope=col>&lt;list&gt;</th></tr>\n",
       "</thead>\n",
       "<tbody>\n",
       "\t<tr><td>Jabba Desilijic Tiure</td><td>175</td><td>1358</td><td>NA</td><td>green-tan, brown</td><td>orange</td><td>600</td><td>hermaphroditic</td><td>masculine</td><td>Nal Hutta</td><td>Hutt</td><td>The Phantom Menace, Return of the Jedi, A New Hope        </td><td></td><td></td></tr>\n",
       "</tbody>\n",
       "</table>\n"
      ],
      "text/latex": [
       "A tibble: 1 × 14\n",
       "\\begin{tabular}{llllllllllllll}\n",
       " name & height & mass & hair\\_color & skin\\_color & eye\\_color & birth\\_year & sex & gender & homeworld & species & films & vehicles & starships\\\\\n",
       " <chr> & <int> & <dbl> & <chr> & <chr> & <chr> & <dbl> & <chr> & <chr> & <chr> & <chr> & <list> & <list> & <list>\\\\\n",
       "\\hline\n",
       "\t Jabba Desilijic Tiure & 175 & 1358 & NA & green-tan, brown & orange & 600 & hermaphroditic & masculine & Nal Hutta & Hutt & The Phantom Menace, Return of the Jedi, A New Hope         &  & \\\\\n",
       "\\end{tabular}\n"
      ],
      "text/markdown": [
       "\n",
       "A tibble: 1 × 14\n",
       "\n",
       "| name &lt;chr&gt; | height &lt;int&gt; | mass &lt;dbl&gt; | hair_color &lt;chr&gt; | skin_color &lt;chr&gt; | eye_color &lt;chr&gt; | birth_year &lt;dbl&gt; | sex &lt;chr&gt; | gender &lt;chr&gt; | homeworld &lt;chr&gt; | species &lt;chr&gt; | films &lt;list&gt; | vehicles &lt;list&gt; | starships &lt;list&gt; |\n",
       "|---|---|---|---|---|---|---|---|---|---|---|---|---|---|\n",
       "| Jabba Desilijic Tiure | 175 | 1358 | NA | green-tan, brown | orange | 600 | hermaphroditic | masculine | Nal Hutta | Hutt | The Phantom Menace, Return of the Jedi, A New Hope         | <!----> | <!----> |\n",
       "\n"
      ],
      "text/plain": [
       "  name                  height mass hair_color skin_color       eye_color\n",
       "1 Jabba Desilijic Tiure 175    1358 NA         green-tan, brown orange   \n",
       "  birth_year sex            gender    homeworld species\n",
       "1 600        hermaphroditic masculine Nal Hutta Hutt   \n",
       "  films                                                      vehicles starships\n",
       "1 The Phantom Menace, Return of the Jedi, A New Hope                           "
      ]
     },
     "metadata": {},
     "output_type": "display_data"
    }
   ],
   "source": [
    "subset(starwars, mass > 1000)"
   ]
  },
  {
   "cell_type": "code",
   "execution_count": 294,
   "id": "3f3d9196",
   "metadata": {},
   "outputs": [
    {
     "data": {
      "text/html": [
       "<table class=\"dataframe\">\n",
       "<caption>A tibble: 9 × 14</caption>\n",
       "<thead>\n",
       "\t<tr><th scope=col>name</th><th scope=col>height</th><th scope=col>mass</th><th scope=col>hair_color</th><th scope=col>skin_color</th><th scope=col>eye_color</th><th scope=col>birth_year</th><th scope=col>sex</th><th scope=col>gender</th><th scope=col>homeworld</th><th scope=col>species</th><th scope=col>films</th><th scope=col>vehicles</th><th scope=col>starships</th></tr>\n",
       "\t<tr><th scope=col>&lt;chr&gt;</th><th scope=col>&lt;int&gt;</th><th scope=col>&lt;dbl&gt;</th><th scope=col>&lt;chr&gt;</th><th scope=col>&lt;chr&gt;</th><th scope=col>&lt;chr&gt;</th><th scope=col>&lt;dbl&gt;</th><th scope=col>&lt;chr&gt;</th><th scope=col>&lt;chr&gt;</th><th scope=col>&lt;chr&gt;</th><th scope=col>&lt;chr&gt;</th><th scope=col>&lt;list&gt;</th><th scope=col>&lt;list&gt;</th><th scope=col>&lt;list&gt;</th></tr>\n",
       "</thead>\n",
       "<tbody>\n",
       "\t<tr><td>Nien Nunb </td><td>160</td><td>68</td><td>none</td><td>grey            </td><td>black</td><td>NA</td><td>male  </td><td>masculine</td><td>Sullust    </td><td>Sullustan</td><td>Return of the Jedi</td><td></td><td>Millennium Falcon</td></tr>\n",
       "\t<tr><td>Gasgano   </td><td>122</td><td>NA</td><td>none</td><td>white, blue     </td><td>black</td><td>NA</td><td>male  </td><td>masculine</td><td>Troiken    </td><td>Xexto    </td><td>The Phantom Menace</td><td></td><td></td></tr>\n",
       "\t<tr><td>Kit Fisto </td><td>196</td><td>87</td><td>none</td><td>green           </td><td>black</td><td>NA</td><td>male  </td><td>masculine</td><td>Glee Anselm</td><td>Nautolan </td><td>Attack of the Clones, The Phantom Menace  , Revenge of the Sith </td><td></td><td></td></tr>\n",
       "\t<tr><td>Plo Koon  </td><td>188</td><td>80</td><td>none</td><td>orange          </td><td>black</td><td>22</td><td>male  </td><td>masculine</td><td>Dorin      </td><td>Kel Dor  </td><td>Attack of the Clones, The Phantom Menace  , Revenge of the Sith </td><td></td><td>Jedi starfighter</td></tr>\n",
       "\t<tr><td>Lama Su   </td><td>229</td><td>88</td><td>none</td><td>grey            </td><td>black</td><td>NA</td><td>male  </td><td>masculine</td><td>Kamino     </td><td>Kaminoan </td><td>Attack of the Clones</td><td></td><td></td></tr>\n",
       "\t<tr><td>Taun We   </td><td>213</td><td>NA</td><td>none</td><td>grey            </td><td>black</td><td>NA</td><td>female</td><td>feminine </td><td>Kamino     </td><td>Kaminoan </td><td>Attack of the Clones</td><td></td><td></td></tr>\n",
       "\t<tr><td>Shaak Ti  </td><td>178</td><td>57</td><td>none</td><td>red, blue, white</td><td>black</td><td>NA</td><td>female</td><td>feminine </td><td>Shili      </td><td>Togruta  </td><td>Attack of the Clones, Revenge of the Sith </td><td></td><td></td></tr>\n",
       "\t<tr><td>Tion Medon</td><td>206</td><td>80</td><td>none</td><td>grey            </td><td>black</td><td>NA</td><td>male  </td><td>masculine</td><td>Utapau     </td><td>Pau'an   </td><td>Revenge of the Sith</td><td></td><td></td></tr>\n",
       "\t<tr><td>BB8       </td><td> NA</td><td>NA</td><td>none</td><td>none            </td><td>black</td><td>NA</td><td>none  </td><td>masculine</td><td>NA         </td><td>Droid    </td><td>The Force Awakens</td><td></td><td></td></tr>\n",
       "</tbody>\n",
       "</table>\n"
      ],
      "text/latex": [
       "A tibble: 9 × 14\n",
       "\\begin{tabular}{llllllllllllll}\n",
       " name & height & mass & hair\\_color & skin\\_color & eye\\_color & birth\\_year & sex & gender & homeworld & species & films & vehicles & starships\\\\\n",
       " <chr> & <int> & <dbl> & <chr> & <chr> & <chr> & <dbl> & <chr> & <chr> & <chr> & <chr> & <list> & <list> & <list>\\\\\n",
       "\\hline\n",
       "\t Nien Nunb  & 160 & 68 & none & grey             & black & NA & male   & masculine & Sullust     & Sullustan & Return of the Jedi &  & Millennium Falcon\\\\\n",
       "\t Gasgano    & 122 & NA & none & white, blue      & black & NA & male   & masculine & Troiken     & Xexto     & The Phantom Menace &  & \\\\\n",
       "\t Kit Fisto  & 196 & 87 & none & green            & black & NA & male   & masculine & Glee Anselm & Nautolan  & Attack of the Clones, The Phantom Menace  , Revenge of the Sith  &  & \\\\\n",
       "\t Plo Koon   & 188 & 80 & none & orange           & black & 22 & male   & masculine & Dorin       & Kel Dor   & Attack of the Clones, The Phantom Menace  , Revenge of the Sith  &  & Jedi starfighter\\\\\n",
       "\t Lama Su    & 229 & 88 & none & grey             & black & NA & male   & masculine & Kamino      & Kaminoan  & Attack of the Clones &  & \\\\\n",
       "\t Taun We    & 213 & NA & none & grey             & black & NA & female & feminine  & Kamino      & Kaminoan  & Attack of the Clones &  & \\\\\n",
       "\t Shaak Ti   & 178 & 57 & none & red, blue, white & black & NA & female & feminine  & Shili       & Togruta   & Attack of the Clones, Revenge of the Sith  &  & \\\\\n",
       "\t Tion Medon & 206 & 80 & none & grey             & black & NA & male   & masculine & Utapau      & Pau'an    & Revenge of the Sith &  & \\\\\n",
       "\t BB8        &  NA & NA & none & none             & black & NA & none   & masculine & NA          & Droid     & The Force Awakens &  & \\\\\n",
       "\\end{tabular}\n"
      ],
      "text/markdown": [
       "\n",
       "A tibble: 9 × 14\n",
       "\n",
       "| name &lt;chr&gt; | height &lt;int&gt; | mass &lt;dbl&gt; | hair_color &lt;chr&gt; | skin_color &lt;chr&gt; | eye_color &lt;chr&gt; | birth_year &lt;dbl&gt; | sex &lt;chr&gt; | gender &lt;chr&gt; | homeworld &lt;chr&gt; | species &lt;chr&gt; | films &lt;list&gt; | vehicles &lt;list&gt; | starships &lt;list&gt; |\n",
       "|---|---|---|---|---|---|---|---|---|---|---|---|---|---|\n",
       "| Nien Nunb  | 160 | 68 | none | grey             | black | NA | male   | masculine | Sullust     | Sullustan | Return of the Jedi | <!----> | Millennium Falcon |\n",
       "| Gasgano    | 122 | NA | none | white, blue      | black | NA | male   | masculine | Troiken     | Xexto     | The Phantom Menace | <!----> | <!----> |\n",
       "| Kit Fisto  | 196 | 87 | none | green            | black | NA | male   | masculine | Glee Anselm | Nautolan  | Attack of the Clones, The Phantom Menace  , Revenge of the Sith  | <!----> | <!----> |\n",
       "| Plo Koon   | 188 | 80 | none | orange           | black | 22 | male   | masculine | Dorin       | Kel Dor   | Attack of the Clones, The Phantom Menace  , Revenge of the Sith  | <!----> | Jedi starfighter |\n",
       "| Lama Su    | 229 | 88 | none | grey             | black | NA | male   | masculine | Kamino      | Kaminoan  | Attack of the Clones | <!----> | <!----> |\n",
       "| Taun We    | 213 | NA | none | grey             | black | NA | female | feminine  | Kamino      | Kaminoan  | Attack of the Clones | <!----> | <!----> |\n",
       "| Shaak Ti   | 178 | 57 | none | red, blue, white | black | NA | female | feminine  | Shili       | Togruta   | Attack of the Clones, Revenge of the Sith  | <!----> | <!----> |\n",
       "| Tion Medon | 206 | 80 | none | grey             | black | NA | male   | masculine | Utapau      | Pau'an    | Revenge of the Sith | <!----> | <!----> |\n",
       "| BB8        |  NA | NA | none | none             | black | NA | none   | masculine | NA          | Droid     | The Force Awakens | <!----> | <!----> |\n",
       "\n"
      ],
      "text/plain": [
       "  name       height mass hair_color skin_color       eye_color birth_year\n",
       "1 Nien Nunb  160    68   none       grey             black     NA        \n",
       "2 Gasgano    122    NA   none       white, blue      black     NA        \n",
       "3 Kit Fisto  196    87   none       green            black     NA        \n",
       "4 Plo Koon   188    80   none       orange           black     22        \n",
       "5 Lama Su    229    88   none       grey             black     NA        \n",
       "6 Taun We    213    NA   none       grey             black     NA        \n",
       "7 Shaak Ti   178    57   none       red, blue, white black     NA        \n",
       "8 Tion Medon 206    80   none       grey             black     NA        \n",
       "9 BB8         NA    NA   none       none             black     NA        \n",
       "  sex    gender    homeworld   species  \n",
       "1 male   masculine Sullust     Sullustan\n",
       "2 male   masculine Troiken     Xexto    \n",
       "3 male   masculine Glee Anselm Nautolan \n",
       "4 male   masculine Dorin       Kel Dor  \n",
       "5 male   masculine Kamino      Kaminoan \n",
       "6 female feminine  Kamino      Kaminoan \n",
       "7 female feminine  Shili       Togruta  \n",
       "8 male   masculine Utapau      Pau'an   \n",
       "9 none   masculine NA          Droid    \n",
       "  films                                                            vehicles\n",
       "1 Return of the Jedi                                                       \n",
       "2 The Phantom Menace                                                       \n",
       "3 Attack of the Clones, The Phantom Menace  , Revenge of the Sith          \n",
       "4 Attack of the Clones, The Phantom Menace  , Revenge of the Sith          \n",
       "5 Attack of the Clones                                                     \n",
       "6 Attack of the Clones                                                     \n",
       "7 Attack of the Clones, Revenge of the Sith                                \n",
       "8 Revenge of the Sith                                                      \n",
       "9 The Force Awakens                                                        \n",
       "  starships        \n",
       "1 Millennium Falcon\n",
       "2                  \n",
       "3                  \n",
       "4 Jedi starfighter \n",
       "5                  \n",
       "6                  \n",
       "7                  \n",
       "8                  \n",
       "9                  "
      ]
     },
     "metadata": {},
     "output_type": "display_data"
    }
   ],
   "source": [
    "subset(starwars, hair_color == \"none\" & eye_color == \"black\")"
   ]
  },
  {
   "cell_type": "code",
   "execution_count": 295,
   "id": "7af65930",
   "metadata": {},
   "outputs": [
    {
     "data": {
      "text/html": [
       "<table class=\"dataframe\">\n",
       "<caption>A tibble: 35 × 14</caption>\n",
       "<thead>\n",
       "\t<tr><th scope=col>name</th><th scope=col>height</th><th scope=col>mass</th><th scope=col>hair_color</th><th scope=col>skin_color</th><th scope=col>eye_color</th><th scope=col>birth_year</th><th scope=col>sex</th><th scope=col>gender</th><th scope=col>homeworld</th><th scope=col>species</th><th scope=col>films</th><th scope=col>vehicles</th><th scope=col>starships</th></tr>\n",
       "\t<tr><th scope=col>&lt;chr&gt;</th><th scope=col>&lt;int&gt;</th><th scope=col>&lt;dbl&gt;</th><th scope=col>&lt;chr&gt;</th><th scope=col>&lt;chr&gt;</th><th scope=col>&lt;chr&gt;</th><th scope=col>&lt;dbl&gt;</th><th scope=col>&lt;chr&gt;</th><th scope=col>&lt;chr&gt;</th><th scope=col>&lt;chr&gt;</th><th scope=col>&lt;chr&gt;</th><th scope=col>&lt;list&gt;</th><th scope=col>&lt;list&gt;</th><th scope=col>&lt;list&gt;</th></tr>\n",
       "</thead>\n",
       "<tbody>\n",
       "\t<tr><td>Luke Skywalker     </td><td>172</td><td> 77.0</td><td>blond        </td><td>fair </td><td>blue     </td><td> 19.0</td><td>male  </td><td>masculine</td><td>Tatooine    </td><td>Human</td><td>The Empire Strikes Back, Revenge of the Sith    , Return of the Jedi     , A New Hope             , The Force Awakens      </td><td>Snowspeeder          , Imperial Speeder Bike</td><td>X-wing          , Imperial shuttle</td></tr>\n",
       "\t<tr><td>Darth Vader        </td><td>202</td><td>136.0</td><td>none         </td><td>white</td><td>yellow   </td><td> 41.9</td><td>male  </td><td>masculine</td><td>Tatooine    </td><td>Human</td><td>The Empire Strikes Back, Revenge of the Sith    , Return of the Jedi     , A New Hope             </td><td></td><td>TIE Advanced x1</td></tr>\n",
       "\t<tr><td>Leia Organa        </td><td>150</td><td> 49.0</td><td>brown        </td><td>light</td><td>brown    </td><td> 19.0</td><td>female</td><td>feminine </td><td>Alderaan    </td><td>Human</td><td>The Empire Strikes Back, Revenge of the Sith    , Return of the Jedi     , A New Hope             , The Force Awakens      </td><td>Imperial Speeder Bike</td><td></td></tr>\n",
       "\t<tr><td>Owen Lars          </td><td>178</td><td>120.0</td><td>brown, grey  </td><td>light</td><td>blue     </td><td> 52.0</td><td>male  </td><td>masculine</td><td>Tatooine    </td><td>Human</td><td>Attack of the Clones, Revenge of the Sith , A New Hope          </td><td></td><td></td></tr>\n",
       "\t<tr><td>Beru Whitesun lars </td><td>165</td><td> 75.0</td><td>brown        </td><td>light</td><td>blue     </td><td> 47.0</td><td>female</td><td>feminine </td><td>Tatooine    </td><td>Human</td><td>Attack of the Clones, Revenge of the Sith , A New Hope          </td><td></td><td></td></tr>\n",
       "\t<tr><td>Biggs Darklighter  </td><td>183</td><td> 84.0</td><td>black        </td><td>light</td><td>brown    </td><td> 24.0</td><td>male  </td><td>masculine</td><td>Tatooine    </td><td>Human</td><td>A New Hope</td><td></td><td>X-wing</td></tr>\n",
       "\t<tr><td>Obi-Wan Kenobi     </td><td>182</td><td> 77.0</td><td>auburn, white</td><td>fair </td><td>blue-gray</td><td> 57.0</td><td>male  </td><td>masculine</td><td>Stewjon     </td><td>Human</td><td>The Empire Strikes Back, Attack of the Clones   , The Phantom Menace     , Revenge of the Sith    , Return of the Jedi     , A New Hope             </td><td>Tribubble bongo</td><td>Jedi starfighter        , Trade Federation cruiser, Naboo star skiff        , Jedi Interceptor        , Belbullab-22 starfighter</td></tr>\n",
       "\t<tr><td>Anakin Skywalker   </td><td>188</td><td> 84.0</td><td>blond        </td><td>fair </td><td>blue     </td><td> 41.9</td><td>male  </td><td>masculine</td><td>Tatooine    </td><td>Human</td><td>Attack of the Clones, The Phantom Menace  , Revenge of the Sith </td><td>Zephyr-G swoop bike, XJ-6 airspeeder    </td><td>Trade Federation cruiser, Jedi Interceptor        , Naboo fighter           </td></tr>\n",
       "\t<tr><td>Wilhuff Tarkin     </td><td>180</td><td>   NA</td><td>auburn, grey </td><td>fair </td><td>blue     </td><td> 64.0</td><td>male  </td><td>masculine</td><td>Eriadu      </td><td>Human</td><td>Revenge of the Sith, A New Hope         </td><td></td><td></td></tr>\n",
       "\t<tr><td>Han Solo           </td><td>180</td><td> 80.0</td><td>brown        </td><td>fair </td><td>brown    </td><td> 29.0</td><td>male  </td><td>masculine</td><td>Corellia    </td><td>Human</td><td>The Empire Strikes Back, Return of the Jedi     , A New Hope             , The Force Awakens      </td><td></td><td>Millennium Falcon, Imperial shuttle </td></tr>\n",
       "\t<tr><td>Wedge Antilles     </td><td>170</td><td> 77.0</td><td>brown        </td><td>fair </td><td>hazel    </td><td> 21.0</td><td>male  </td><td>masculine</td><td>Corellia    </td><td>Human</td><td>The Empire Strikes Back, Return of the Jedi     , A New Hope             </td><td>Snowspeeder</td><td>X-wing</td></tr>\n",
       "\t<tr><td>Jek Tono Porkins   </td><td>180</td><td>110.0</td><td>brown        </td><td>fair </td><td>blue     </td><td>   NA</td><td>male  </td><td>masculine</td><td>Bestine IV  </td><td>Human</td><td>A New Hope</td><td></td><td>X-wing</td></tr>\n",
       "\t<tr><td>Palpatine          </td><td>170</td><td> 75.0</td><td>grey         </td><td>pale </td><td>yellow   </td><td> 82.0</td><td>male  </td><td>masculine</td><td>Naboo       </td><td>Human</td><td>The Empire Strikes Back, Attack of the Clones   , The Phantom Menace     , Revenge of the Sith    , Return of the Jedi     </td><td></td><td></td></tr>\n",
       "\t<tr><td>Boba Fett          </td><td>183</td><td> 78.2</td><td>black        </td><td>fair </td><td>brown    </td><td> 31.5</td><td>male  </td><td>masculine</td><td>Kamino      </td><td>Human</td><td>The Empire Strikes Back, Attack of the Clones   , Return of the Jedi     </td><td></td><td>Slave 1</td></tr>\n",
       "\t<tr><td>Lando Calrissian   </td><td>177</td><td> 79.0</td><td>black        </td><td>dark </td><td>brown    </td><td> 31.0</td><td>male  </td><td>masculine</td><td>Socorro     </td><td>Human</td><td>The Empire Strikes Back, Return of the Jedi     </td><td></td><td>Millennium Falcon</td></tr>\n",
       "\t<tr><td>Lobot              </td><td>175</td><td> 79.0</td><td>none         </td><td>light</td><td>blue     </td><td> 37.0</td><td>male  </td><td>masculine</td><td>Bespin      </td><td>Human</td><td>The Empire Strikes Back</td><td></td><td></td></tr>\n",
       "\t<tr><td>Mon Mothma         </td><td>150</td><td>   NA</td><td>auburn       </td><td>fair </td><td>blue     </td><td> 48.0</td><td>female</td><td>feminine </td><td>Chandrila   </td><td>Human</td><td>Return of the Jedi</td><td></td><td></td></tr>\n",
       "\t<tr><td>Arvel Crynyd       </td><td> NA</td><td>   NA</td><td>brown        </td><td>fair </td><td>brown    </td><td>   NA</td><td>male  </td><td>masculine</td><td>NA          </td><td>Human</td><td>Return of the Jedi</td><td></td><td>A-wing</td></tr>\n",
       "\t<tr><td>Qui-Gon Jinn       </td><td>193</td><td> 89.0</td><td>brown        </td><td>fair </td><td>blue     </td><td> 92.0</td><td>male  </td><td>masculine</td><td>NA          </td><td>Human</td><td>The Phantom Menace</td><td>Tribubble bongo</td><td></td></tr>\n",
       "\t<tr><td>Finis Valorum      </td><td>170</td><td>   NA</td><td>blond        </td><td>fair </td><td>blue     </td><td> 91.0</td><td>male  </td><td>masculine</td><td>Coruscant   </td><td>Human</td><td>The Phantom Menace</td><td></td><td></td></tr>\n",
       "\t<tr><td>Shmi Skywalker     </td><td>163</td><td>   NA</td><td>black        </td><td>fair </td><td>brown    </td><td> 72.0</td><td>female</td><td>feminine </td><td>Tatooine    </td><td>Human</td><td>Attack of the Clones, The Phantom Menace  </td><td></td><td></td></tr>\n",
       "\t<tr><td>Mace Windu         </td><td>188</td><td> 84.0</td><td>none         </td><td>dark </td><td>brown    </td><td> 72.0</td><td>male  </td><td>masculine</td><td>Haruun Kal  </td><td>Human</td><td>Attack of the Clones, The Phantom Menace  , Revenge of the Sith </td><td></td><td></td></tr>\n",
       "\t<tr><td>Gregar Typho       </td><td>185</td><td> 85.0</td><td>black        </td><td>dark </td><td>brown    </td><td>   NA</td><td>male  </td><td>masculine</td><td>Naboo       </td><td>Human</td><td>Attack of the Clones</td><td></td><td>Naboo fighter</td></tr>\n",
       "\t<tr><td>Cordé              </td><td>157</td><td>   NA</td><td>brown        </td><td>light</td><td>brown    </td><td>   NA</td><td>female</td><td>feminine </td><td>Naboo       </td><td>Human</td><td>Attack of the Clones</td><td></td><td></td></tr>\n",
       "\t<tr><td>Cliegg Lars        </td><td>183</td><td>   NA</td><td>brown        </td><td>fair </td><td>blue     </td><td> 82.0</td><td>male  </td><td>masculine</td><td>Tatooine    </td><td>Human</td><td>Attack of the Clones</td><td></td><td></td></tr>\n",
       "\t<tr><td>Dormé              </td><td>165</td><td>   NA</td><td>brown        </td><td>light</td><td>brown    </td><td>   NA</td><td>female</td><td>feminine </td><td>Naboo       </td><td>Human</td><td>Attack of the Clones</td><td></td><td></td></tr>\n",
       "\t<tr><td>Dooku              </td><td>193</td><td> 80.0</td><td>white        </td><td>fair </td><td>brown    </td><td>102.0</td><td>male  </td><td>masculine</td><td>Serenno     </td><td>Human</td><td>Attack of the Clones, Revenge of the Sith </td><td>Flitknot speeder</td><td></td></tr>\n",
       "\t<tr><td>Bail Prestor Organa</td><td>191</td><td>   NA</td><td>black        </td><td>tan  </td><td>brown    </td><td> 67.0</td><td>male  </td><td>masculine</td><td>Alderaan    </td><td>Human</td><td>Attack of the Clones, Revenge of the Sith </td><td></td><td></td></tr>\n",
       "\t<tr><td>Jango Fett         </td><td>183</td><td> 79.0</td><td>black        </td><td>tan  </td><td>brown    </td><td> 66.0</td><td>male  </td><td>masculine</td><td>Concord Dawn</td><td>Human</td><td>Attack of the Clones</td><td></td><td></td></tr>\n",
       "\t<tr><td>Jocasta Nu         </td><td>167</td><td>   NA</td><td>white        </td><td>fair </td><td>blue     </td><td>   NA</td><td>female</td><td>feminine </td><td>Coruscant   </td><td>Human</td><td>Attack of the Clones</td><td></td><td></td></tr>\n",
       "\t<tr><td>Raymus Antilles    </td><td>188</td><td> 79.0</td><td>brown        </td><td>light</td><td>brown    </td><td>   NA</td><td>male  </td><td>masculine</td><td>Alderaan    </td><td>Human</td><td>Revenge of the Sith, A New Hope         </td><td></td><td></td></tr>\n",
       "\t<tr><td>Finn               </td><td> NA</td><td>   NA</td><td>black        </td><td>dark </td><td>dark     </td><td>   NA</td><td>male  </td><td>masculine</td><td>NA          </td><td>Human</td><td>The Force Awakens</td><td></td><td></td></tr>\n",
       "\t<tr><td>Rey                </td><td> NA</td><td>   NA</td><td>brown        </td><td>light</td><td>hazel    </td><td>   NA</td><td>female</td><td>feminine </td><td>NA          </td><td>Human</td><td>The Force Awakens</td><td></td><td></td></tr>\n",
       "\t<tr><td>Poe Dameron        </td><td> NA</td><td>   NA</td><td>brown        </td><td>light</td><td>brown    </td><td>   NA</td><td>male  </td><td>masculine</td><td>NA          </td><td>Human</td><td>The Force Awakens</td><td></td><td>T-70 X-wing fighter</td></tr>\n",
       "\t<tr><td>Padmé Amidala      </td><td>165</td><td> 45.0</td><td>brown        </td><td>light</td><td>brown    </td><td> 46.0</td><td>female</td><td>feminine </td><td>Naboo       </td><td>Human</td><td>Attack of the Clones, The Phantom Menace  , Revenge of the Sith </td><td></td><td>H-type Nubian yacht, Naboo star skiff   , Naboo fighter      </td></tr>\n",
       "</tbody>\n",
       "</table>\n"
      ],
      "text/latex": [
       "A tibble: 35 × 14\n",
       "\\begin{tabular}{llllllllllllll}\n",
       " name & height & mass & hair\\_color & skin\\_color & eye\\_color & birth\\_year & sex & gender & homeworld & species & films & vehicles & starships\\\\\n",
       " <chr> & <int> & <dbl> & <chr> & <chr> & <chr> & <dbl> & <chr> & <chr> & <chr> & <chr> & <list> & <list> & <list>\\\\\n",
       "\\hline\n",
       "\t Luke Skywalker      & 172 &  77.0 & blond         & fair  & blue      &  19.0 & male   & masculine & Tatooine     & Human & The Empire Strikes Back, Revenge of the Sith    , Return of the Jedi     , A New Hope             , The Force Awakens       & Snowspeeder          , Imperial Speeder Bike & X-wing          , Imperial shuttle\\\\\n",
       "\t Darth Vader         & 202 & 136.0 & none          & white & yellow    &  41.9 & male   & masculine & Tatooine     & Human & The Empire Strikes Back, Revenge of the Sith    , Return of the Jedi     , A New Hope              &  & TIE Advanced x1\\\\\n",
       "\t Leia Organa         & 150 &  49.0 & brown         & light & brown     &  19.0 & female & feminine  & Alderaan     & Human & The Empire Strikes Back, Revenge of the Sith    , Return of the Jedi     , A New Hope             , The Force Awakens       & Imperial Speeder Bike & \\\\\n",
       "\t Owen Lars           & 178 & 120.0 & brown, grey   & light & blue      &  52.0 & male   & masculine & Tatooine     & Human & Attack of the Clones, Revenge of the Sith , A New Hope           &  & \\\\\n",
       "\t Beru Whitesun lars  & 165 &  75.0 & brown         & light & blue      &  47.0 & female & feminine  & Tatooine     & Human & Attack of the Clones, Revenge of the Sith , A New Hope           &  & \\\\\n",
       "\t Biggs Darklighter   & 183 &  84.0 & black         & light & brown     &  24.0 & male   & masculine & Tatooine     & Human & A New Hope &  & X-wing\\\\\n",
       "\t Obi-Wan Kenobi      & 182 &  77.0 & auburn, white & fair  & blue-gray &  57.0 & male   & masculine & Stewjon      & Human & The Empire Strikes Back, Attack of the Clones   , The Phantom Menace     , Revenge of the Sith    , Return of the Jedi     , A New Hope              & Tribubble bongo & Jedi starfighter        , Trade Federation cruiser, Naboo star skiff        , Jedi Interceptor        , Belbullab-22 starfighter\\\\\n",
       "\t Anakin Skywalker    & 188 &  84.0 & blond         & fair  & blue      &  41.9 & male   & masculine & Tatooine     & Human & Attack of the Clones, The Phantom Menace  , Revenge of the Sith  & Zephyr-G swoop bike, XJ-6 airspeeder     & Trade Federation cruiser, Jedi Interceptor        , Naboo fighter           \\\\\n",
       "\t Wilhuff Tarkin      & 180 &    NA & auburn, grey  & fair  & blue      &  64.0 & male   & masculine & Eriadu       & Human & Revenge of the Sith, A New Hope          &  & \\\\\n",
       "\t Han Solo            & 180 &  80.0 & brown         & fair  & brown     &  29.0 & male   & masculine & Corellia     & Human & The Empire Strikes Back, Return of the Jedi     , A New Hope             , The Force Awakens       &  & Millennium Falcon, Imperial shuttle \\\\\n",
       "\t Wedge Antilles      & 170 &  77.0 & brown         & fair  & hazel     &  21.0 & male   & masculine & Corellia     & Human & The Empire Strikes Back, Return of the Jedi     , A New Hope              & Snowspeeder & X-wing\\\\\n",
       "\t Jek Tono Porkins    & 180 & 110.0 & brown         & fair  & blue      &    NA & male   & masculine & Bestine IV   & Human & A New Hope &  & X-wing\\\\\n",
       "\t Palpatine           & 170 &  75.0 & grey          & pale  & yellow    &  82.0 & male   & masculine & Naboo        & Human & The Empire Strikes Back, Attack of the Clones   , The Phantom Menace     , Revenge of the Sith    , Return of the Jedi      &  & \\\\\n",
       "\t Boba Fett           & 183 &  78.2 & black         & fair  & brown     &  31.5 & male   & masculine & Kamino       & Human & The Empire Strikes Back, Attack of the Clones   , Return of the Jedi      &  & Slave 1\\\\\n",
       "\t Lando Calrissian    & 177 &  79.0 & black         & dark  & brown     &  31.0 & male   & masculine & Socorro      & Human & The Empire Strikes Back, Return of the Jedi      &  & Millennium Falcon\\\\\n",
       "\t Lobot               & 175 &  79.0 & none          & light & blue      &  37.0 & male   & masculine & Bespin       & Human & The Empire Strikes Back &  & \\\\\n",
       "\t Mon Mothma          & 150 &    NA & auburn        & fair  & blue      &  48.0 & female & feminine  & Chandrila    & Human & Return of the Jedi &  & \\\\\n",
       "\t Arvel Crynyd        &  NA &    NA & brown         & fair  & brown     &    NA & male   & masculine & NA           & Human & Return of the Jedi &  & A-wing\\\\\n",
       "\t Qui-Gon Jinn        & 193 &  89.0 & brown         & fair  & blue      &  92.0 & male   & masculine & NA           & Human & The Phantom Menace & Tribubble bongo & \\\\\n",
       "\t Finis Valorum       & 170 &    NA & blond         & fair  & blue      &  91.0 & male   & masculine & Coruscant    & Human & The Phantom Menace &  & \\\\\n",
       "\t Shmi Skywalker      & 163 &    NA & black         & fair  & brown     &  72.0 & female & feminine  & Tatooine     & Human & Attack of the Clones, The Phantom Menace   &  & \\\\\n",
       "\t Mace Windu          & 188 &  84.0 & none          & dark  & brown     &  72.0 & male   & masculine & Haruun Kal   & Human & Attack of the Clones, The Phantom Menace  , Revenge of the Sith  &  & \\\\\n",
       "\t Gregar Typho        & 185 &  85.0 & black         & dark  & brown     &    NA & male   & masculine & Naboo        & Human & Attack of the Clones &  & Naboo fighter\\\\\n",
       "\t Cordé               & 157 &    NA & brown         & light & brown     &    NA & female & feminine  & Naboo        & Human & Attack of the Clones &  & \\\\\n",
       "\t Cliegg Lars         & 183 &    NA & brown         & fair  & blue      &  82.0 & male   & masculine & Tatooine     & Human & Attack of the Clones &  & \\\\\n",
       "\t Dormé               & 165 &    NA & brown         & light & brown     &    NA & female & feminine  & Naboo        & Human & Attack of the Clones &  & \\\\\n",
       "\t Dooku               & 193 &  80.0 & white         & fair  & brown     & 102.0 & male   & masculine & Serenno      & Human & Attack of the Clones, Revenge of the Sith  & Flitknot speeder & \\\\\n",
       "\t Bail Prestor Organa & 191 &    NA & black         & tan   & brown     &  67.0 & male   & masculine & Alderaan     & Human & Attack of the Clones, Revenge of the Sith  &  & \\\\\n",
       "\t Jango Fett          & 183 &  79.0 & black         & tan   & brown     &  66.0 & male   & masculine & Concord Dawn & Human & Attack of the Clones &  & \\\\\n",
       "\t Jocasta Nu          & 167 &    NA & white         & fair  & blue      &    NA & female & feminine  & Coruscant    & Human & Attack of the Clones &  & \\\\\n",
       "\t Raymus Antilles     & 188 &  79.0 & brown         & light & brown     &    NA & male   & masculine & Alderaan     & Human & Revenge of the Sith, A New Hope          &  & \\\\\n",
       "\t Finn                &  NA &    NA & black         & dark  & dark      &    NA & male   & masculine & NA           & Human & The Force Awakens &  & \\\\\n",
       "\t Rey                 &  NA &    NA & brown         & light & hazel     &    NA & female & feminine  & NA           & Human & The Force Awakens &  & \\\\\n",
       "\t Poe Dameron         &  NA &    NA & brown         & light & brown     &    NA & male   & masculine & NA           & Human & The Force Awakens &  & T-70 X-wing fighter\\\\\n",
       "\t Padmé Amidala       & 165 &  45.0 & brown         & light & brown     &  46.0 & female & feminine  & Naboo        & Human & Attack of the Clones, The Phantom Menace  , Revenge of the Sith  &  & H-type Nubian yacht, Naboo star skiff   , Naboo fighter      \\\\\n",
       "\\end{tabular}\n"
      ],
      "text/markdown": [
       "\n",
       "A tibble: 35 × 14\n",
       "\n",
       "| name &lt;chr&gt; | height &lt;int&gt; | mass &lt;dbl&gt; | hair_color &lt;chr&gt; | skin_color &lt;chr&gt; | eye_color &lt;chr&gt; | birth_year &lt;dbl&gt; | sex &lt;chr&gt; | gender &lt;chr&gt; | homeworld &lt;chr&gt; | species &lt;chr&gt; | films &lt;list&gt; | vehicles &lt;list&gt; | starships &lt;list&gt; |\n",
       "|---|---|---|---|---|---|---|---|---|---|---|---|---|---|\n",
       "| Luke Skywalker      | 172 |  77.0 | blond         | fair  | blue      |  19.0 | male   | masculine | Tatooine     | Human | The Empire Strikes Back, Revenge of the Sith    , Return of the Jedi     , A New Hope             , The Force Awakens       | Snowspeeder          , Imperial Speeder Bike | X-wing          , Imperial shuttle |\n",
       "| Darth Vader         | 202 | 136.0 | none          | white | yellow    |  41.9 | male   | masculine | Tatooine     | Human | The Empire Strikes Back, Revenge of the Sith    , Return of the Jedi     , A New Hope              | <!----> | TIE Advanced x1 |\n",
       "| Leia Organa         | 150 |  49.0 | brown         | light | brown     |  19.0 | female | feminine  | Alderaan     | Human | The Empire Strikes Back, Revenge of the Sith    , Return of the Jedi     , A New Hope             , The Force Awakens       | Imperial Speeder Bike | <!----> |\n",
       "| Owen Lars           | 178 | 120.0 | brown, grey   | light | blue      |  52.0 | male   | masculine | Tatooine     | Human | Attack of the Clones, Revenge of the Sith , A New Hope           | <!----> | <!----> |\n",
       "| Beru Whitesun lars  | 165 |  75.0 | brown         | light | blue      |  47.0 | female | feminine  | Tatooine     | Human | Attack of the Clones, Revenge of the Sith , A New Hope           | <!----> | <!----> |\n",
       "| Biggs Darklighter   | 183 |  84.0 | black         | light | brown     |  24.0 | male   | masculine | Tatooine     | Human | A New Hope | <!----> | X-wing |\n",
       "| Obi-Wan Kenobi      | 182 |  77.0 | auburn, white | fair  | blue-gray |  57.0 | male   | masculine | Stewjon      | Human | The Empire Strikes Back, Attack of the Clones   , The Phantom Menace     , Revenge of the Sith    , Return of the Jedi     , A New Hope              | Tribubble bongo | Jedi starfighter        , Trade Federation cruiser, Naboo star skiff        , Jedi Interceptor        , Belbullab-22 starfighter |\n",
       "| Anakin Skywalker    | 188 |  84.0 | blond         | fair  | blue      |  41.9 | male   | masculine | Tatooine     | Human | Attack of the Clones, The Phantom Menace  , Revenge of the Sith  | Zephyr-G swoop bike, XJ-6 airspeeder     | Trade Federation cruiser, Jedi Interceptor        , Naboo fighter            |\n",
       "| Wilhuff Tarkin      | 180 |    NA | auburn, grey  | fair  | blue      |  64.0 | male   | masculine | Eriadu       | Human | Revenge of the Sith, A New Hope          | <!----> | <!----> |\n",
       "| Han Solo            | 180 |  80.0 | brown         | fair  | brown     |  29.0 | male   | masculine | Corellia     | Human | The Empire Strikes Back, Return of the Jedi     , A New Hope             , The Force Awakens       | <!----> | Millennium Falcon, Imperial shuttle  |\n",
       "| Wedge Antilles      | 170 |  77.0 | brown         | fair  | hazel     |  21.0 | male   | masculine | Corellia     | Human | The Empire Strikes Back, Return of the Jedi     , A New Hope              | Snowspeeder | X-wing |\n",
       "| Jek Tono Porkins    | 180 | 110.0 | brown         | fair  | blue      |    NA | male   | masculine | Bestine IV   | Human | A New Hope | <!----> | X-wing |\n",
       "| Palpatine           | 170 |  75.0 | grey          | pale  | yellow    |  82.0 | male   | masculine | Naboo        | Human | The Empire Strikes Back, Attack of the Clones   , The Phantom Menace     , Revenge of the Sith    , Return of the Jedi      | <!----> | <!----> |\n",
       "| Boba Fett           | 183 |  78.2 | black         | fair  | brown     |  31.5 | male   | masculine | Kamino       | Human | The Empire Strikes Back, Attack of the Clones   , Return of the Jedi      | <!----> | Slave 1 |\n",
       "| Lando Calrissian    | 177 |  79.0 | black         | dark  | brown     |  31.0 | male   | masculine | Socorro      | Human | The Empire Strikes Back, Return of the Jedi      | <!----> | Millennium Falcon |\n",
       "| Lobot               | 175 |  79.0 | none          | light | blue      |  37.0 | male   | masculine | Bespin       | Human | The Empire Strikes Back | <!----> | <!----> |\n",
       "| Mon Mothma          | 150 |    NA | auburn        | fair  | blue      |  48.0 | female | feminine  | Chandrila    | Human | Return of the Jedi | <!----> | <!----> |\n",
       "| Arvel Crynyd        |  NA |    NA | brown         | fair  | brown     |    NA | male   | masculine | NA           | Human | Return of the Jedi | <!----> | A-wing |\n",
       "| Qui-Gon Jinn        | 193 |  89.0 | brown         | fair  | blue      |  92.0 | male   | masculine | NA           | Human | The Phantom Menace | Tribubble bongo | <!----> |\n",
       "| Finis Valorum       | 170 |    NA | blond         | fair  | blue      |  91.0 | male   | masculine | Coruscant    | Human | The Phantom Menace | <!----> | <!----> |\n",
       "| Shmi Skywalker      | 163 |    NA | black         | fair  | brown     |  72.0 | female | feminine  | Tatooine     | Human | Attack of the Clones, The Phantom Menace   | <!----> | <!----> |\n",
       "| Mace Windu          | 188 |  84.0 | none          | dark  | brown     |  72.0 | male   | masculine | Haruun Kal   | Human | Attack of the Clones, The Phantom Menace  , Revenge of the Sith  | <!----> | <!----> |\n",
       "| Gregar Typho        | 185 |  85.0 | black         | dark  | brown     |    NA | male   | masculine | Naboo        | Human | Attack of the Clones | <!----> | Naboo fighter |\n",
       "| Cordé               | 157 |    NA | brown         | light | brown     |    NA | female | feminine  | Naboo        | Human | Attack of the Clones | <!----> | <!----> |\n",
       "| Cliegg Lars         | 183 |    NA | brown         | fair  | blue      |  82.0 | male   | masculine | Tatooine     | Human | Attack of the Clones | <!----> | <!----> |\n",
       "| Dormé               | 165 |    NA | brown         | light | brown     |    NA | female | feminine  | Naboo        | Human | Attack of the Clones | <!----> | <!----> |\n",
       "| Dooku               | 193 |  80.0 | white         | fair  | brown     | 102.0 | male   | masculine | Serenno      | Human | Attack of the Clones, Revenge of the Sith  | Flitknot speeder | <!----> |\n",
       "| Bail Prestor Organa | 191 |    NA | black         | tan   | brown     |  67.0 | male   | masculine | Alderaan     | Human | Attack of the Clones, Revenge of the Sith  | <!----> | <!----> |\n",
       "| Jango Fett          | 183 |  79.0 | black         | tan   | brown     |  66.0 | male   | masculine | Concord Dawn | Human | Attack of the Clones | <!----> | <!----> |\n",
       "| Jocasta Nu          | 167 |    NA | white         | fair  | blue      |    NA | female | feminine  | Coruscant    | Human | Attack of the Clones | <!----> | <!----> |\n",
       "| Raymus Antilles     | 188 |  79.0 | brown         | light | brown     |    NA | male   | masculine | Alderaan     | Human | Revenge of the Sith, A New Hope          | <!----> | <!----> |\n",
       "| Finn                |  NA |    NA | black         | dark  | dark      |    NA | male   | masculine | NA           | Human | The Force Awakens | <!----> | <!----> |\n",
       "| Rey                 |  NA |    NA | brown         | light | hazel     |    NA | female | feminine  | NA           | Human | The Force Awakens | <!----> | <!----> |\n",
       "| Poe Dameron         |  NA |    NA | brown         | light | brown     |    NA | male   | masculine | NA           | Human | The Force Awakens | <!----> | T-70 X-wing fighter |\n",
       "| Padmé Amidala       | 165 |  45.0 | brown         | light | brown     |  46.0 | female | feminine  | Naboo        | Human | Attack of the Clones, The Phantom Menace  , Revenge of the Sith  | <!----> | H-type Nubian yacht, Naboo star skiff   , Naboo fighter       |\n",
       "\n"
      ],
      "text/plain": [
       "   name                height mass  hair_color    skin_color eye_color\n",
       "1  Luke Skywalker      172     77.0 blond         fair       blue     \n",
       "2  Darth Vader         202    136.0 none          white      yellow   \n",
       "3  Leia Organa         150     49.0 brown         light      brown    \n",
       "4  Owen Lars           178    120.0 brown, grey   light      blue     \n",
       "5  Beru Whitesun lars  165     75.0 brown         light      blue     \n",
       "6  Biggs Darklighter   183     84.0 black         light      brown    \n",
       "7  Obi-Wan Kenobi      182     77.0 auburn, white fair       blue-gray\n",
       "8  Anakin Skywalker    188     84.0 blond         fair       blue     \n",
       "9  Wilhuff Tarkin      180       NA auburn, grey  fair       blue     \n",
       "10 Han Solo            180     80.0 brown         fair       brown    \n",
       "11 Wedge Antilles      170     77.0 brown         fair       hazel    \n",
       "12 Jek Tono Porkins    180    110.0 brown         fair       blue     \n",
       "13 Palpatine           170     75.0 grey          pale       yellow   \n",
       "14 Boba Fett           183     78.2 black         fair       brown    \n",
       "15 Lando Calrissian    177     79.0 black         dark       brown    \n",
       "16 Lobot               175     79.0 none          light      blue     \n",
       "17 Mon Mothma          150       NA auburn        fair       blue     \n",
       "18 Arvel Crynyd         NA       NA brown         fair       brown    \n",
       "19 Qui-Gon Jinn        193     89.0 brown         fair       blue     \n",
       "20 Finis Valorum       170       NA blond         fair       blue     \n",
       "21 Shmi Skywalker      163       NA black         fair       brown    \n",
       "22 Mace Windu          188     84.0 none          dark       brown    \n",
       "23 Gregar Typho        185     85.0 black         dark       brown    \n",
       "24 Cordé               157       NA brown         light      brown    \n",
       "25 Cliegg Lars         183       NA brown         fair       blue     \n",
       "26 Dormé               165       NA brown         light      brown    \n",
       "27 Dooku               193     80.0 white         fair       brown    \n",
       "28 Bail Prestor Organa 191       NA black         tan        brown    \n",
       "29 Jango Fett          183     79.0 black         tan        brown    \n",
       "30 Jocasta Nu          167       NA white         fair       blue     \n",
       "31 Raymus Antilles     188     79.0 brown         light      brown    \n",
       "32 Finn                 NA       NA black         dark       dark     \n",
       "33 Rey                  NA       NA brown         light      hazel    \n",
       "34 Poe Dameron          NA       NA brown         light      brown    \n",
       "35 Padmé Amidala       165     45.0 brown         light      brown    \n",
       "   birth_year sex    gender    homeworld    species\n",
       "1   19.0      male   masculine Tatooine     Human  \n",
       "2   41.9      male   masculine Tatooine     Human  \n",
       "3   19.0      female feminine  Alderaan     Human  \n",
       "4   52.0      male   masculine Tatooine     Human  \n",
       "5   47.0      female feminine  Tatooine     Human  \n",
       "6   24.0      male   masculine Tatooine     Human  \n",
       "7   57.0      male   masculine Stewjon      Human  \n",
       "8   41.9      male   masculine Tatooine     Human  \n",
       "9   64.0      male   masculine Eriadu       Human  \n",
       "10  29.0      male   masculine Corellia     Human  \n",
       "11  21.0      male   masculine Corellia     Human  \n",
       "12    NA      male   masculine Bestine IV   Human  \n",
       "13  82.0      male   masculine Naboo        Human  \n",
       "14  31.5      male   masculine Kamino       Human  \n",
       "15  31.0      male   masculine Socorro      Human  \n",
       "16  37.0      male   masculine Bespin       Human  \n",
       "17  48.0      female feminine  Chandrila    Human  \n",
       "18    NA      male   masculine NA           Human  \n",
       "19  92.0      male   masculine NA           Human  \n",
       "20  91.0      male   masculine Coruscant    Human  \n",
       "21  72.0      female feminine  Tatooine     Human  \n",
       "22  72.0      male   masculine Haruun Kal   Human  \n",
       "23    NA      male   masculine Naboo        Human  \n",
       "24    NA      female feminine  Naboo        Human  \n",
       "25  82.0      male   masculine Tatooine     Human  \n",
       "26    NA      female feminine  Naboo        Human  \n",
       "27 102.0      male   masculine Serenno      Human  \n",
       "28  67.0      male   masculine Alderaan     Human  \n",
       "29  66.0      male   masculine Concord Dawn Human  \n",
       "30    NA      female feminine  Coruscant    Human  \n",
       "31    NA      male   masculine Alderaan     Human  \n",
       "32    NA      male   masculine NA           Human  \n",
       "33    NA      female feminine  NA           Human  \n",
       "34    NA      male   masculine NA           Human  \n",
       "35  46.0      female feminine  Naboo        Human  \n",
       "   films                                                                                                                                               \n",
       "1  The Empire Strikes Back, Revenge of the Sith    , Return of the Jedi     , A New Hope             , The Force Awakens                               \n",
       "2  The Empire Strikes Back, Revenge of the Sith    , Return of the Jedi     , A New Hope                                                               \n",
       "3  The Empire Strikes Back, Revenge of the Sith    , Return of the Jedi     , A New Hope             , The Force Awakens                               \n",
       "4  Attack of the Clones, Revenge of the Sith , A New Hope                                                                                              \n",
       "5  Attack of the Clones, Revenge of the Sith , A New Hope                                                                                              \n",
       "6  A New Hope                                                                                                                                          \n",
       "7  The Empire Strikes Back, Attack of the Clones   , The Phantom Menace     , Revenge of the Sith    , Return of the Jedi     , A New Hope             \n",
       "8  Attack of the Clones, The Phantom Menace  , Revenge of the Sith                                                                                     \n",
       "9  Revenge of the Sith, A New Hope                                                                                                                     \n",
       "10 The Empire Strikes Back, Return of the Jedi     , A New Hope             , The Force Awakens                                                        \n",
       "11 The Empire Strikes Back, Return of the Jedi     , A New Hope                                                                                        \n",
       "12 A New Hope                                                                                                                                          \n",
       "13 The Empire Strikes Back, Attack of the Clones   , The Phantom Menace     , Revenge of the Sith    , Return of the Jedi                              \n",
       "14 The Empire Strikes Back, Attack of the Clones   , Return of the Jedi                                                                                \n",
       "15 The Empire Strikes Back, Return of the Jedi                                                                                                         \n",
       "16 The Empire Strikes Back                                                                                                                             \n",
       "17 Return of the Jedi                                                                                                                                  \n",
       "18 Return of the Jedi                                                                                                                                  \n",
       "19 The Phantom Menace                                                                                                                                  \n",
       "20 The Phantom Menace                                                                                                                                  \n",
       "21 Attack of the Clones, The Phantom Menace                                                                                                            \n",
       "22 Attack of the Clones, The Phantom Menace  , Revenge of the Sith                                                                                     \n",
       "23 Attack of the Clones                                                                                                                                \n",
       "24 Attack of the Clones                                                                                                                                \n",
       "25 Attack of the Clones                                                                                                                                \n",
       "26 Attack of the Clones                                                                                                                                \n",
       "27 Attack of the Clones, Revenge of the Sith                                                                                                           \n",
       "28 Attack of the Clones, Revenge of the Sith                                                                                                           \n",
       "29 Attack of the Clones                                                                                                                                \n",
       "30 Attack of the Clones                                                                                                                                \n",
       "31 Revenge of the Sith, A New Hope                                                                                                                     \n",
       "32 The Force Awakens                                                                                                                                   \n",
       "33 The Force Awakens                                                                                                                                   \n",
       "34 The Force Awakens                                                                                                                                   \n",
       "35 Attack of the Clones, The Phantom Menace  , Revenge of the Sith                                                                                     \n",
       "   vehicles                                    \n",
       "1  Snowspeeder          , Imperial Speeder Bike\n",
       "2                                              \n",
       "3  Imperial Speeder Bike                       \n",
       "4                                              \n",
       "5                                              \n",
       "6                                              \n",
       "7  Tribubble bongo                             \n",
       "8  Zephyr-G swoop bike, XJ-6 airspeeder        \n",
       "9                                              \n",
       "10                                             \n",
       "11 Snowspeeder                                 \n",
       "12                                             \n",
       "13                                             \n",
       "14                                             \n",
       "15                                             \n",
       "16                                             \n",
       "17                                             \n",
       "18                                             \n",
       "19 Tribubble bongo                             \n",
       "20                                             \n",
       "21                                             \n",
       "22                                             \n",
       "23                                             \n",
       "24                                             \n",
       "25                                             \n",
       "26                                             \n",
       "27 Flitknot speeder                            \n",
       "28                                             \n",
       "29                                             \n",
       "30                                             \n",
       "31                                             \n",
       "32                                             \n",
       "33                                             \n",
       "34                                             \n",
       "35                                             \n",
       "   starships                                                                                                                       \n",
       "1  X-wing          , Imperial shuttle                                                                                              \n",
       "2  TIE Advanced x1                                                                                                                 \n",
       "3                                                                                                                                  \n",
       "4                                                                                                                                  \n",
       "5                                                                                                                                  \n",
       "6  X-wing                                                                                                                          \n",
       "7  Jedi starfighter        , Trade Federation cruiser, Naboo star skiff        , Jedi Interceptor        , Belbullab-22 starfighter\n",
       "8  Trade Federation cruiser, Jedi Interceptor        , Naboo fighter                                                               \n",
       "9                                                                                                                                  \n",
       "10 Millennium Falcon, Imperial shuttle                                                                                             \n",
       "11 X-wing                                                                                                                          \n",
       "12 X-wing                                                                                                                          \n",
       "13                                                                                                                                 \n",
       "14 Slave 1                                                                                                                         \n",
       "15 Millennium Falcon                                                                                                               \n",
       "16                                                                                                                                 \n",
       "17                                                                                                                                 \n",
       "18 A-wing                                                                                                                          \n",
       "19                                                                                                                                 \n",
       "20                                                                                                                                 \n",
       "21                                                                                                                                 \n",
       "22                                                                                                                                 \n",
       "23 Naboo fighter                                                                                                                   \n",
       "24                                                                                                                                 \n",
       "25                                                                                                                                 \n",
       "26                                                                                                                                 \n",
       "27                                                                                                                                 \n",
       "28                                                                                                                                 \n",
       "29                                                                                                                                 \n",
       "30                                                                                                                                 \n",
       "31                                                                                                                                 \n",
       "32                                                                                                                                 \n",
       "33                                                                                                                                 \n",
       "34 T-70 X-wing fighter                                                                                                             \n",
       "35 H-type Nubian yacht, Naboo star skiff   , Naboo fighter                                                                         "
      ]
     },
     "metadata": {},
     "output_type": "display_data"
    },
    {
     "data": {
      "text/html": [
       "<table class=\"dataframe\">\n",
       "<caption>A tibble: 1 × 14</caption>\n",
       "<thead>\n",
       "\t<tr><th scope=col>name</th><th scope=col>height</th><th scope=col>mass</th><th scope=col>hair_color</th><th scope=col>skin_color</th><th scope=col>eye_color</th><th scope=col>birth_year</th><th scope=col>sex</th><th scope=col>gender</th><th scope=col>homeworld</th><th scope=col>species</th><th scope=col>films</th><th scope=col>vehicles</th><th scope=col>starships</th></tr>\n",
       "\t<tr><th scope=col>&lt;chr&gt;</th><th scope=col>&lt;int&gt;</th><th scope=col>&lt;dbl&gt;</th><th scope=col>&lt;chr&gt;</th><th scope=col>&lt;chr&gt;</th><th scope=col>&lt;chr&gt;</th><th scope=col>&lt;dbl&gt;</th><th scope=col>&lt;chr&gt;</th><th scope=col>&lt;chr&gt;</th><th scope=col>&lt;chr&gt;</th><th scope=col>&lt;chr&gt;</th><th scope=col>&lt;list&gt;</th><th scope=col>&lt;list&gt;</th><th scope=col>&lt;list&gt;</th></tr>\n",
       "</thead>\n",
       "<tbody>\n",
       "\t<tr><td>Jabba Desilijic Tiure</td><td>175</td><td>1358</td><td>NA</td><td>green-tan, brown</td><td>orange</td><td>600</td><td>hermaphroditic</td><td>masculine</td><td>Nal Hutta</td><td>Hutt</td><td>The Phantom Menace, Return of the Jedi, A New Hope        </td><td></td><td></td></tr>\n",
       "</tbody>\n",
       "</table>\n"
      ],
      "text/latex": [
       "A tibble: 1 × 14\n",
       "\\begin{tabular}{llllllllllllll}\n",
       " name & height & mass & hair\\_color & skin\\_color & eye\\_color & birth\\_year & sex & gender & homeworld & species & films & vehicles & starships\\\\\n",
       " <chr> & <int> & <dbl> & <chr> & <chr> & <chr> & <dbl> & <chr> & <chr> & <chr> & <chr> & <list> & <list> & <list>\\\\\n",
       "\\hline\n",
       "\t Jabba Desilijic Tiure & 175 & 1358 & NA & green-tan, brown & orange & 600 & hermaphroditic & masculine & Nal Hutta & Hutt & The Phantom Menace, Return of the Jedi, A New Hope         &  & \\\\\n",
       "\\end{tabular}\n"
      ],
      "text/markdown": [
       "\n",
       "A tibble: 1 × 14\n",
       "\n",
       "| name &lt;chr&gt; | height &lt;int&gt; | mass &lt;dbl&gt; | hair_color &lt;chr&gt; | skin_color &lt;chr&gt; | eye_color &lt;chr&gt; | birth_year &lt;dbl&gt; | sex &lt;chr&gt; | gender &lt;chr&gt; | homeworld &lt;chr&gt; | species &lt;chr&gt; | films &lt;list&gt; | vehicles &lt;list&gt; | starships &lt;list&gt; |\n",
       "|---|---|---|---|---|---|---|---|---|---|---|---|---|---|\n",
       "| Jabba Desilijic Tiure | 175 | 1358 | NA | green-tan, brown | orange | 600 | hermaphroditic | masculine | Nal Hutta | Hutt | The Phantom Menace, Return of the Jedi, A New Hope         | <!----> | <!----> |\n",
       "\n"
      ],
      "text/plain": [
       "  name                  height mass hair_color skin_color       eye_color\n",
       "1 Jabba Desilijic Tiure 175    1358 NA         green-tan, brown orange   \n",
       "  birth_year sex            gender    homeworld species\n",
       "1 600        hermaphroditic masculine Nal Hutta Hutt   \n",
       "  films                                                      vehicles starships\n",
       "1 The Phantom Menace, Return of the Jedi, A New Hope                           "
      ]
     },
     "metadata": {},
     "output_type": "display_data"
    },
    {
     "data": {
      "text/html": [
       "<table class=\"dataframe\">\n",
       "<caption>A tibble: 9 × 14</caption>\n",
       "<thead>\n",
       "\t<tr><th scope=col>name</th><th scope=col>height</th><th scope=col>mass</th><th scope=col>hair_color</th><th scope=col>skin_color</th><th scope=col>eye_color</th><th scope=col>birth_year</th><th scope=col>sex</th><th scope=col>gender</th><th scope=col>homeworld</th><th scope=col>species</th><th scope=col>films</th><th scope=col>vehicles</th><th scope=col>starships</th></tr>\n",
       "\t<tr><th scope=col>&lt;chr&gt;</th><th scope=col>&lt;int&gt;</th><th scope=col>&lt;dbl&gt;</th><th scope=col>&lt;chr&gt;</th><th scope=col>&lt;chr&gt;</th><th scope=col>&lt;chr&gt;</th><th scope=col>&lt;dbl&gt;</th><th scope=col>&lt;chr&gt;</th><th scope=col>&lt;chr&gt;</th><th scope=col>&lt;chr&gt;</th><th scope=col>&lt;chr&gt;</th><th scope=col>&lt;list&gt;</th><th scope=col>&lt;list&gt;</th><th scope=col>&lt;list&gt;</th></tr>\n",
       "</thead>\n",
       "<tbody>\n",
       "\t<tr><td>Nien Nunb </td><td>160</td><td>68</td><td>none</td><td>grey            </td><td>black</td><td>NA</td><td>male  </td><td>masculine</td><td>Sullust    </td><td>Sullustan</td><td>Return of the Jedi</td><td></td><td>Millennium Falcon</td></tr>\n",
       "\t<tr><td>Gasgano   </td><td>122</td><td>NA</td><td>none</td><td>white, blue     </td><td>black</td><td>NA</td><td>male  </td><td>masculine</td><td>Troiken    </td><td>Xexto    </td><td>The Phantom Menace</td><td></td><td></td></tr>\n",
       "\t<tr><td>Kit Fisto </td><td>196</td><td>87</td><td>none</td><td>green           </td><td>black</td><td>NA</td><td>male  </td><td>masculine</td><td>Glee Anselm</td><td>Nautolan </td><td>Attack of the Clones, The Phantom Menace  , Revenge of the Sith </td><td></td><td></td></tr>\n",
       "\t<tr><td>Plo Koon  </td><td>188</td><td>80</td><td>none</td><td>orange          </td><td>black</td><td>22</td><td>male  </td><td>masculine</td><td>Dorin      </td><td>Kel Dor  </td><td>Attack of the Clones, The Phantom Menace  , Revenge of the Sith </td><td></td><td>Jedi starfighter</td></tr>\n",
       "\t<tr><td>Lama Su   </td><td>229</td><td>88</td><td>none</td><td>grey            </td><td>black</td><td>NA</td><td>male  </td><td>masculine</td><td>Kamino     </td><td>Kaminoan </td><td>Attack of the Clones</td><td></td><td></td></tr>\n",
       "\t<tr><td>Taun We   </td><td>213</td><td>NA</td><td>none</td><td>grey            </td><td>black</td><td>NA</td><td>female</td><td>feminine </td><td>Kamino     </td><td>Kaminoan </td><td>Attack of the Clones</td><td></td><td></td></tr>\n",
       "\t<tr><td>Shaak Ti  </td><td>178</td><td>57</td><td>none</td><td>red, blue, white</td><td>black</td><td>NA</td><td>female</td><td>feminine </td><td>Shili      </td><td>Togruta  </td><td>Attack of the Clones, Revenge of the Sith </td><td></td><td></td></tr>\n",
       "\t<tr><td>Tion Medon</td><td>206</td><td>80</td><td>none</td><td>grey            </td><td>black</td><td>NA</td><td>male  </td><td>masculine</td><td>Utapau     </td><td>Pau'an   </td><td>Revenge of the Sith</td><td></td><td></td></tr>\n",
       "\t<tr><td>BB8       </td><td> NA</td><td>NA</td><td>none</td><td>none            </td><td>black</td><td>NA</td><td>none  </td><td>masculine</td><td>NA         </td><td>Droid    </td><td>The Force Awakens</td><td></td><td></td></tr>\n",
       "</tbody>\n",
       "</table>\n"
      ],
      "text/latex": [
       "A tibble: 9 × 14\n",
       "\\begin{tabular}{llllllllllllll}\n",
       " name & height & mass & hair\\_color & skin\\_color & eye\\_color & birth\\_year & sex & gender & homeworld & species & films & vehicles & starships\\\\\n",
       " <chr> & <int> & <dbl> & <chr> & <chr> & <chr> & <dbl> & <chr> & <chr> & <chr> & <chr> & <list> & <list> & <list>\\\\\n",
       "\\hline\n",
       "\t Nien Nunb  & 160 & 68 & none & grey             & black & NA & male   & masculine & Sullust     & Sullustan & Return of the Jedi &  & Millennium Falcon\\\\\n",
       "\t Gasgano    & 122 & NA & none & white, blue      & black & NA & male   & masculine & Troiken     & Xexto     & The Phantom Menace &  & \\\\\n",
       "\t Kit Fisto  & 196 & 87 & none & green            & black & NA & male   & masculine & Glee Anselm & Nautolan  & Attack of the Clones, The Phantom Menace  , Revenge of the Sith  &  & \\\\\n",
       "\t Plo Koon   & 188 & 80 & none & orange           & black & 22 & male   & masculine & Dorin       & Kel Dor   & Attack of the Clones, The Phantom Menace  , Revenge of the Sith  &  & Jedi starfighter\\\\\n",
       "\t Lama Su    & 229 & 88 & none & grey             & black & NA & male   & masculine & Kamino      & Kaminoan  & Attack of the Clones &  & \\\\\n",
       "\t Taun We    & 213 & NA & none & grey             & black & NA & female & feminine  & Kamino      & Kaminoan  & Attack of the Clones &  & \\\\\n",
       "\t Shaak Ti   & 178 & 57 & none & red, blue, white & black & NA & female & feminine  & Shili       & Togruta   & Attack of the Clones, Revenge of the Sith  &  & \\\\\n",
       "\t Tion Medon & 206 & 80 & none & grey             & black & NA & male   & masculine & Utapau      & Pau'an    & Revenge of the Sith &  & \\\\\n",
       "\t BB8        &  NA & NA & none & none             & black & NA & none   & masculine & NA          & Droid     & The Force Awakens &  & \\\\\n",
       "\\end{tabular}\n"
      ],
      "text/markdown": [
       "\n",
       "A tibble: 9 × 14\n",
       "\n",
       "| name &lt;chr&gt; | height &lt;int&gt; | mass &lt;dbl&gt; | hair_color &lt;chr&gt; | skin_color &lt;chr&gt; | eye_color &lt;chr&gt; | birth_year &lt;dbl&gt; | sex &lt;chr&gt; | gender &lt;chr&gt; | homeworld &lt;chr&gt; | species &lt;chr&gt; | films &lt;list&gt; | vehicles &lt;list&gt; | starships &lt;list&gt; |\n",
       "|---|---|---|---|---|---|---|---|---|---|---|---|---|---|\n",
       "| Nien Nunb  | 160 | 68 | none | grey             | black | NA | male   | masculine | Sullust     | Sullustan | Return of the Jedi | <!----> | Millennium Falcon |\n",
       "| Gasgano    | 122 | NA | none | white, blue      | black | NA | male   | masculine | Troiken     | Xexto     | The Phantom Menace | <!----> | <!----> |\n",
       "| Kit Fisto  | 196 | 87 | none | green            | black | NA | male   | masculine | Glee Anselm | Nautolan  | Attack of the Clones, The Phantom Menace  , Revenge of the Sith  | <!----> | <!----> |\n",
       "| Plo Koon   | 188 | 80 | none | orange           | black | 22 | male   | masculine | Dorin       | Kel Dor   | Attack of the Clones, The Phantom Menace  , Revenge of the Sith  | <!----> | Jedi starfighter |\n",
       "| Lama Su    | 229 | 88 | none | grey             | black | NA | male   | masculine | Kamino      | Kaminoan  | Attack of the Clones | <!----> | <!----> |\n",
       "| Taun We    | 213 | NA | none | grey             | black | NA | female | feminine  | Kamino      | Kaminoan  | Attack of the Clones | <!----> | <!----> |\n",
       "| Shaak Ti   | 178 | 57 | none | red, blue, white | black | NA | female | feminine  | Shili       | Togruta   | Attack of the Clones, Revenge of the Sith  | <!----> | <!----> |\n",
       "| Tion Medon | 206 | 80 | none | grey             | black | NA | male   | masculine | Utapau      | Pau'an    | Revenge of the Sith | <!----> | <!----> |\n",
       "| BB8        |  NA | NA | none | none             | black | NA | none   | masculine | NA          | Droid     | The Force Awakens | <!----> | <!----> |\n",
       "\n"
      ],
      "text/plain": [
       "  name       height mass hair_color skin_color       eye_color birth_year\n",
       "1 Nien Nunb  160    68   none       grey             black     NA        \n",
       "2 Gasgano    122    NA   none       white, blue      black     NA        \n",
       "3 Kit Fisto  196    87   none       green            black     NA        \n",
       "4 Plo Koon   188    80   none       orange           black     22        \n",
       "5 Lama Su    229    88   none       grey             black     NA        \n",
       "6 Taun We    213    NA   none       grey             black     NA        \n",
       "7 Shaak Ti   178    57   none       red, blue, white black     NA        \n",
       "8 Tion Medon 206    80   none       grey             black     NA        \n",
       "9 BB8         NA    NA   none       none             black     NA        \n",
       "  sex    gender    homeworld   species  \n",
       "1 male   masculine Sullust     Sullustan\n",
       "2 male   masculine Troiken     Xexto    \n",
       "3 male   masculine Glee Anselm Nautolan \n",
       "4 male   masculine Dorin       Kel Dor  \n",
       "5 male   masculine Kamino      Kaminoan \n",
       "6 female feminine  Kamino      Kaminoan \n",
       "7 female feminine  Shili       Togruta  \n",
       "8 male   masculine Utapau      Pau'an   \n",
       "9 none   masculine NA          Droid    \n",
       "  films                                                            vehicles\n",
       "1 Return of the Jedi                                                       \n",
       "2 The Phantom Menace                                                       \n",
       "3 Attack of the Clones, The Phantom Menace  , Revenge of the Sith          \n",
       "4 Attack of the Clones, The Phantom Menace  , Revenge of the Sith          \n",
       "5 Attack of the Clones                                                     \n",
       "6 Attack of the Clones                                                     \n",
       "7 Attack of the Clones, Revenge of the Sith                                \n",
       "8 Revenge of the Sith                                                      \n",
       "9 The Force Awakens                                                        \n",
       "  starships        \n",
       "1 Millennium Falcon\n",
       "2                  \n",
       "3                  \n",
       "4 Jedi starfighter \n",
       "5                  \n",
       "6                  \n",
       "7                  \n",
       "8                  \n",
       "9                  "
      ]
     },
     "metadata": {},
     "output_type": "display_data"
    }
   ],
   "source": [
    "#You can also use  but this also requires the use of which() to remove NAs:\n",
    "\n",
    "starwars[which(starwars$species == \"Human\"), , drop = FALSE]\n",
    "\n",
    "starwars[which(starwars$mass > 1000), , drop = FALSE]\n",
    "\n",
    "starwars[which(starwars$hair_color == \"none\" & starwars$eye_color == \"black\"), , drop = FALSE]"
   ]
  },
  {
   "cell_type": "markdown",
   "id": "eba4dc74",
   "metadata": {},
   "source": [
    "## dplyr::mutate()\n",
    "Creates new variables from existing variables:"
   ]
  },
  {
   "cell_type": "code",
   "execution_count": 296,
   "id": "7930388e",
   "metadata": {},
   "outputs": [
    {
     "data": {
      "text/html": [
       "<table class=\"dataframe\">\n",
       "<caption>A tibble: 6 × 4</caption>\n",
       "<thead>\n",
       "\t<tr><th scope=col>x</th><th scope=col>y</th><th scope=col>z</th><th scope=col>z2</th></tr>\n",
       "\t<tr><th scope=col>&lt;int&gt;</th><th scope=col>&lt;int&gt;</th><th scope=col>&lt;int&gt;</th><th scope=col>&lt;dbl&gt;</th></tr>\n",
       "</thead>\n",
       "<tbody>\n",
       "\t<tr><td> 4</td><td>8</td><td>12</td><td>144</td></tr>\n",
       "\t<tr><td> 1</td><td>4</td><td> 5</td><td> 25</td></tr>\n",
       "\t<tr><td> 4</td><td>6</td><td>10</td><td>100</td></tr>\n",
       "\t<tr><td> 7</td><td>1</td><td> 8</td><td> 64</td></tr>\n",
       "\t<tr><td>10</td><td>5</td><td>15</td><td>225</td></tr>\n",
       "\t<tr><td> 3</td><td>5</td><td> 8</td><td> 64</td></tr>\n",
       "</tbody>\n",
       "</table>\n"
      ],
      "text/latex": [
       "A tibble: 6 × 4\n",
       "\\begin{tabular}{llll}\n",
       " x & y & z & z2\\\\\n",
       " <int> & <int> & <int> & <dbl>\\\\\n",
       "\\hline\n",
       "\t  4 & 8 & 12 & 144\\\\\n",
       "\t  1 & 4 &  5 &  25\\\\\n",
       "\t  4 & 6 & 10 & 100\\\\\n",
       "\t  7 & 1 &  8 &  64\\\\\n",
       "\t 10 & 5 & 15 & 225\\\\\n",
       "\t  3 & 5 &  8 &  64\\\\\n",
       "\\end{tabular}\n"
      ],
      "text/markdown": [
       "\n",
       "A tibble: 6 × 4\n",
       "\n",
       "| x &lt;int&gt; | y &lt;int&gt; | z &lt;int&gt; | z2 &lt;dbl&gt; |\n",
       "|---|---|---|---|\n",
       "|  4 | 8 | 12 | 144 |\n",
       "|  1 | 4 |  5 |  25 |\n",
       "|  4 | 6 | 10 | 100 |\n",
       "|  7 | 1 |  8 |  64 |\n",
       "| 10 | 5 | 15 | 225 |\n",
       "|  3 | 5 |  8 |  64 |\n",
       "\n"
      ],
      "text/plain": [
       "  x  y z  z2 \n",
       "1  4 8 12 144\n",
       "2  1 4  5  25\n",
       "3  4 6 10 100\n",
       "4  7 1  8  64\n",
       "5 10 5 15 225\n",
       "6  3 5  8  64"
      ]
     },
     "metadata": {},
     "output_type": "display_data"
    }
   ],
   "source": [
    "# df\n",
    "df1 = df %>% mutate(z = x + y, z2 = z ^ 2)  #added two variable z and z2\n",
    "head(df1)"
   ]
  },
  {
   "cell_type": "markdown",
   "id": "8ac940fb",
   "metadata": {},
   "source": [
    "The closest base equivalent is transform()"
   ]
  },
  {
   "cell_type": "code",
   "execution_count": 297,
   "id": "388ed6b5",
   "metadata": {},
   "outputs": [
    {
     "data": {
      "text/html": [
       "<table class=\"dataframe\">\n",
       "<caption>A data.frame: 6 × 4</caption>\n",
       "<thead>\n",
       "\t<tr><th></th><th scope=col>x</th><th scope=col>y</th><th scope=col>z</th><th scope=col>z2</th></tr>\n",
       "\t<tr><th></th><th scope=col>&lt;int&gt;</th><th scope=col>&lt;int&gt;</th><th scope=col>&lt;int&gt;</th><th scope=col>&lt;dbl&gt;</th></tr>\n",
       "</thead>\n",
       "<tbody>\n",
       "\t<tr><th scope=row>1</th><td> 4</td><td>8</td><td>12</td><td>144</td></tr>\n",
       "\t<tr><th scope=row>2</th><td> 1</td><td>4</td><td> 5</td><td> 25</td></tr>\n",
       "\t<tr><th scope=row>3</th><td> 4</td><td>6</td><td>10</td><td>100</td></tr>\n",
       "\t<tr><th scope=row>4</th><td> 7</td><td>1</td><td> 8</td><td> 64</td></tr>\n",
       "\t<tr><th scope=row>5</th><td>10</td><td>5</td><td>15</td><td>225</td></tr>\n",
       "\t<tr><th scope=row>6</th><td> 3</td><td>5</td><td> 8</td><td> 64</td></tr>\n",
       "</tbody>\n",
       "</table>\n"
      ],
      "text/latex": [
       "A data.frame: 6 × 4\n",
       "\\begin{tabular}{r|llll}\n",
       "  & x & y & z & z2\\\\\n",
       "  & <int> & <int> & <int> & <dbl>\\\\\n",
       "\\hline\n",
       "\t1 &  4 & 8 & 12 & 144\\\\\n",
       "\t2 &  1 & 4 &  5 &  25\\\\\n",
       "\t3 &  4 & 6 & 10 & 100\\\\\n",
       "\t4 &  7 & 1 &  8 &  64\\\\\n",
       "\t5 & 10 & 5 & 15 & 225\\\\\n",
       "\t6 &  3 & 5 &  8 &  64\\\\\n",
       "\\end{tabular}\n"
      ],
      "text/markdown": [
       "\n",
       "A data.frame: 6 × 4\n",
       "\n",
       "| <!--/--> | x &lt;int&gt; | y &lt;int&gt; | z &lt;int&gt; | z2 &lt;dbl&gt; |\n",
       "|---|---|---|---|---|\n",
       "| 1 |  4 | 8 | 12 | 144 |\n",
       "| 2 |  1 | 4 |  5 |  25 |\n",
       "| 3 |  4 | 6 | 10 | 100 |\n",
       "| 4 |  7 | 1 |  8 |  64 |\n",
       "| 5 | 10 | 5 | 15 | 225 |\n",
       "| 6 |  3 | 5 |  8 |  64 |\n",
       "\n"
      ],
      "text/plain": [
       "  x  y z  z2 \n",
       "1  4 8 12 144\n",
       "2  1 4  5  25\n",
       "3  4 6 10 100\n",
       "4  7 1  8  64\n",
       "5 10 5 15 225\n",
       "6  3 5  8  64"
      ]
     },
     "metadata": {},
     "output_type": "display_data"
    }
   ],
   "source": [
    "#but note that it cannot use freshly created variables:\n",
    "head(transform(df, z = x + y, z2 = (x + y) ^ 2))"
   ]
  },
  {
   "cell_type": "code",
   "execution_count": 298,
   "id": "a4b94c6c",
   "metadata": {},
   "outputs": [],
   "source": [
    "#Alternatively, you can use $<-\n",
    "mtcars$cyl2 <- mtcars$cyl * 2\n",
    "mtcars$cyl4 <- mtcars$cyl2 * 2"
   ]
  },
  {
   "cell_type": "markdown",
   "id": "da69f8cf",
   "metadata": {},
   "source": [
    "## In Grouped dataframe\n",
    "When applied to a grouped data frame, dplyr::mutate() computes new variable once per group:"
   ]
  },
  {
   "cell_type": "code",
   "execution_count": 299,
   "id": "b7afec2e",
   "metadata": {},
   "outputs": [],
   "source": [
    "gf <- tibble(g = c(1, 1, 2, 2), x = c(0.5, 1.5, 2.5, 3.5))"
   ]
  },
  {
   "cell_type": "code",
   "execution_count": 300,
   "id": "1f7e68d1",
   "metadata": {},
   "outputs": [
    {
     "data": {
      "text/html": [
       "<table class=\"dataframe\">\n",
       "<caption>A grouped_df: 4 × 4</caption>\n",
       "<thead>\n",
       "\t<tr><th scope=col>g</th><th scope=col>x</th><th scope=col>x_mean</th><th scope=col>x_rank</th></tr>\n",
       "\t<tr><th scope=col>&lt;dbl&gt;</th><th scope=col>&lt;dbl&gt;</th><th scope=col>&lt;dbl&gt;</th><th scope=col>&lt;dbl&gt;</th></tr>\n",
       "</thead>\n",
       "<tbody>\n",
       "\t<tr><td>1</td><td>0.5</td><td>1</td><td>1</td></tr>\n",
       "\t<tr><td>1</td><td>1.5</td><td>1</td><td>2</td></tr>\n",
       "\t<tr><td>2</td><td>2.5</td><td>3</td><td>1</td></tr>\n",
       "\t<tr><td>2</td><td>3.5</td><td>3</td><td>2</td></tr>\n",
       "</tbody>\n",
       "</table>\n"
      ],
      "text/latex": [
       "A grouped\\_df: 4 × 4\n",
       "\\begin{tabular}{llll}\n",
       " g & x & x\\_mean & x\\_rank\\\\\n",
       " <dbl> & <dbl> & <dbl> & <dbl>\\\\\n",
       "\\hline\n",
       "\t 1 & 0.5 & 1 & 1\\\\\n",
       "\t 1 & 1.5 & 1 & 2\\\\\n",
       "\t 2 & 2.5 & 3 & 1\\\\\n",
       "\t 2 & 3.5 & 3 & 2\\\\\n",
       "\\end{tabular}\n"
      ],
      "text/markdown": [
       "\n",
       "A grouped_df: 4 × 4\n",
       "\n",
       "| g &lt;dbl&gt; | x &lt;dbl&gt; | x_mean &lt;dbl&gt; | x_rank &lt;dbl&gt; |\n",
       "|---|---|---|---|\n",
       "| 1 | 0.5 | 1 | 1 |\n",
       "| 1 | 1.5 | 1 | 2 |\n",
       "| 2 | 2.5 | 3 | 1 |\n",
       "| 2 | 3.5 | 3 | 2 |\n",
       "\n"
      ],
      "text/plain": [
       "  g x   x_mean x_rank\n",
       "1 1 0.5 1      1     \n",
       "2 1 1.5 1      2     \n",
       "3 2 2.5 3      1     \n",
       "4 2 3.5 3      2     "
      ]
     },
     "metadata": {},
     "output_type": "display_data"
    }
   ],
   "source": [
    "gf %>% \n",
    "  group_by(g) %>% \n",
    "  mutate(x_mean = mean(x), x_rank = rank(x)) #gives the mean after grouping by g"
   ]
  },
  {
   "cell_type": "markdown",
   "id": "655d58cd",
   "metadata": {},
   "source": [
    "To replicate this in base R, you can use ave():"
   ]
  },
  {
   "cell_type": "code",
   "execution_count": 301,
   "id": "5da8123e",
   "metadata": {},
   "outputs": [
    {
     "data": {
      "text/html": [
       "<table class=\"dataframe\">\n",
       "<caption>A data.frame: 4 × 4</caption>\n",
       "<thead>\n",
       "\t<tr><th scope=col>g</th><th scope=col>x</th><th scope=col>x_mean</th><th scope=col>x_rank</th></tr>\n",
       "\t<tr><th scope=col>&lt;dbl&gt;</th><th scope=col>&lt;dbl&gt;</th><th scope=col>&lt;dbl&gt;</th><th scope=col>&lt;dbl&gt;</th></tr>\n",
       "</thead>\n",
       "<tbody>\n",
       "\t<tr><td>1</td><td>0.5</td><td>1</td><td>1</td></tr>\n",
       "\t<tr><td>1</td><td>1.5</td><td>1</td><td>2</td></tr>\n",
       "\t<tr><td>2</td><td>2.5</td><td>3</td><td>1</td></tr>\n",
       "\t<tr><td>2</td><td>3.5</td><td>3</td><td>2</td></tr>\n",
       "</tbody>\n",
       "</table>\n"
      ],
      "text/latex": [
       "A data.frame: 4 × 4\n",
       "\\begin{tabular}{llll}\n",
       " g & x & x\\_mean & x\\_rank\\\\\n",
       " <dbl> & <dbl> & <dbl> & <dbl>\\\\\n",
       "\\hline\n",
       "\t 1 & 0.5 & 1 & 1\\\\\n",
       "\t 1 & 1.5 & 1 & 2\\\\\n",
       "\t 2 & 2.5 & 3 & 1\\\\\n",
       "\t 2 & 3.5 & 3 & 2\\\\\n",
       "\\end{tabular}\n"
      ],
      "text/markdown": [
       "\n",
       "A data.frame: 4 × 4\n",
       "\n",
       "| g &lt;dbl&gt; | x &lt;dbl&gt; | x_mean &lt;dbl&gt; | x_rank &lt;dbl&gt; |\n",
       "|---|---|---|---|\n",
       "| 1 | 0.5 | 1 | 1 |\n",
       "| 1 | 1.5 | 1 | 2 |\n",
       "| 2 | 2.5 | 3 | 1 |\n",
       "| 2 | 3.5 | 3 | 2 |\n",
       "\n"
      ],
      "text/plain": [
       "  g x   x_mean x_rank\n",
       "1 1 0.5 1      1     \n",
       "2 1 1.5 1      2     \n",
       "3 2 2.5 3      1     \n",
       "4 2 3.5 3      2     "
      ]
     },
     "metadata": {},
     "output_type": "display_data"
    }
   ],
   "source": [
    "transform(gf, \n",
    "          x_mean = ave(x, g, FUN = mean), \n",
    "          x_rank = ave(x, g, FUN = rank)\n",
    ")"
   ]
  },
  {
   "cell_type": "markdown",
   "id": "3fadd450",
   "metadata": {},
   "source": [
    "## dplyr::pull()\n",
    "extracts a variable either by name or position:"
   ]
  },
  {
   "cell_type": "code",
   "execution_count": 302,
   "id": "c0131124",
   "metadata": {},
   "outputs": [
    {
     "data": {
      "text/html": [
       "<style>\n",
       ".list-inline {list-style: none; margin:0; padding: 0}\n",
       ".list-inline>li {display: inline-block}\n",
       ".list-inline>li:not(:last-child)::after {content: \"\\00b7\"; padding: 0 .5ex}\n",
       "</style>\n",
       "<ol class=list-inline><li>21</li><li>21</li><li>22.8</li><li>21.4</li><li>18.7</li><li>18.1</li><li>14.3</li><li>24.4</li><li>22.8</li><li>19.2</li><li>17.8</li><li>16.4</li><li>17.3</li><li>15.2</li><li>10.4</li><li>10.4</li><li>14.7</li><li>32.4</li><li>30.4</li><li>33.9</li><li>21.5</li><li>15.5</li><li>15.2</li><li>13.3</li><li>19.2</li><li>27.3</li><li>26</li><li>30.4</li><li>15.8</li><li>19.7</li><li>15</li><li>21.4</li></ol>\n"
      ],
      "text/latex": [
       "\\begin{enumerate*}\n",
       "\\item 21\n",
       "\\item 21\n",
       "\\item 22.8\n",
       "\\item 21.4\n",
       "\\item 18.7\n",
       "\\item 18.1\n",
       "\\item 14.3\n",
       "\\item 24.4\n",
       "\\item 22.8\n",
       "\\item 19.2\n",
       "\\item 17.8\n",
       "\\item 16.4\n",
       "\\item 17.3\n",
       "\\item 15.2\n",
       "\\item 10.4\n",
       "\\item 10.4\n",
       "\\item 14.7\n",
       "\\item 32.4\n",
       "\\item 30.4\n",
       "\\item 33.9\n",
       "\\item 21.5\n",
       "\\item 15.5\n",
       "\\item 15.2\n",
       "\\item 13.3\n",
       "\\item 19.2\n",
       "\\item 27.3\n",
       "\\item 26\n",
       "\\item 30.4\n",
       "\\item 15.8\n",
       "\\item 19.7\n",
       "\\item 15\n",
       "\\item 21.4\n",
       "\\end{enumerate*}\n"
      ],
      "text/markdown": [
       "1. 21\n",
       "2. 21\n",
       "3. 22.8\n",
       "4. 21.4\n",
       "5. 18.7\n",
       "6. 18.1\n",
       "7. 14.3\n",
       "8. 24.4\n",
       "9. 22.8\n",
       "10. 19.2\n",
       "11. 17.8\n",
       "12. 16.4\n",
       "13. 17.3\n",
       "14. 15.2\n",
       "15. 10.4\n",
       "16. 10.4\n",
       "17. 14.7\n",
       "18. 32.4\n",
       "19. 30.4\n",
       "20. 33.9\n",
       "21. 21.5\n",
       "22. 15.5\n",
       "23. 15.2\n",
       "24. 13.3\n",
       "25. 19.2\n",
       "26. 27.3\n",
       "27. 26\n",
       "28. 30.4\n",
       "29. 15.8\n",
       "30. 19.7\n",
       "31. 15\n",
       "32. 21.4\n",
       "\n",
       "\n"
      ],
      "text/plain": [
       " [1] 21.0 21.0 22.8 21.4 18.7 18.1 14.3 24.4 22.8 19.2 17.8 16.4 17.3 15.2 10.4\n",
       "[16] 10.4 14.7 32.4 30.4 33.9 21.5 15.5 15.2 13.3 19.2 27.3 26.0 30.4 15.8 19.7\n",
       "[31] 15.0 21.4"
      ]
     },
     "metadata": {},
     "output_type": "display_data"
    },
    {
     "data": {
      "text/html": [
       "<style>\n",
       ".list-inline {list-style: none; margin:0; padding: 0}\n",
       ".list-inline>li {display: inline-block}\n",
       ".list-inline>li:not(:last-child)::after {content: \"\\00b7\"; padding: 0 .5ex}\n",
       "</style>\n",
       "<ol class=list-inline><li>6</li><li>6</li><li>4</li><li>6</li><li>8</li><li>6</li><li>8</li><li>4</li><li>4</li><li>6</li><li>6</li><li>8</li><li>8</li><li>8</li><li>8</li><li>8</li><li>8</li><li>4</li><li>4</li><li>4</li><li>4</li><li>8</li><li>8</li><li>8</li><li>8</li><li>4</li><li>4</li><li>4</li><li>8</li><li>6</li><li>8</li><li>4</li></ol>\n"
      ],
      "text/latex": [
       "\\begin{enumerate*}\n",
       "\\item 6\n",
       "\\item 6\n",
       "\\item 4\n",
       "\\item 6\n",
       "\\item 8\n",
       "\\item 6\n",
       "\\item 8\n",
       "\\item 4\n",
       "\\item 4\n",
       "\\item 6\n",
       "\\item 6\n",
       "\\item 8\n",
       "\\item 8\n",
       "\\item 8\n",
       "\\item 8\n",
       "\\item 8\n",
       "\\item 8\n",
       "\\item 4\n",
       "\\item 4\n",
       "\\item 4\n",
       "\\item 4\n",
       "\\item 8\n",
       "\\item 8\n",
       "\\item 8\n",
       "\\item 8\n",
       "\\item 4\n",
       "\\item 4\n",
       "\\item 4\n",
       "\\item 8\n",
       "\\item 6\n",
       "\\item 8\n",
       "\\item 4\n",
       "\\end{enumerate*}\n"
      ],
      "text/markdown": [
       "1. 6\n",
       "2. 6\n",
       "3. 4\n",
       "4. 6\n",
       "5. 8\n",
       "6. 6\n",
       "7. 8\n",
       "8. 4\n",
       "9. 4\n",
       "10. 6\n",
       "11. 6\n",
       "12. 8\n",
       "13. 8\n",
       "14. 8\n",
       "15. 8\n",
       "16. 8\n",
       "17. 8\n",
       "18. 4\n",
       "19. 4\n",
       "20. 4\n",
       "21. 4\n",
       "22. 8\n",
       "23. 8\n",
       "24. 8\n",
       "25. 8\n",
       "26. 4\n",
       "27. 4\n",
       "28. 4\n",
       "29. 8\n",
       "30. 6\n",
       "31. 8\n",
       "32. 4\n",
       "\n",
       "\n"
      ],
      "text/plain": [
       " [1] 6 6 4 6 8 6 8 4 4 6 6 8 8 8 8 8 8 4 4 4 4 8 8 8 8 4 4 4 8 6 8 4"
      ]
     },
     "metadata": {},
     "output_type": "display_data"
    }
   ],
   "source": [
    "mtcars %>% pull(1)\n",
    "mtcars %>% pull(cyl)"
   ]
  },
  {
   "cell_type": "code",
   "execution_count": 303,
   "id": "d025ff35",
   "metadata": {},
   "outputs": [
    {
     "data": {
      "text/html": [
       "<style>\n",
       ".list-inline {list-style: none; margin:0; padding: 0}\n",
       ".list-inline>li {display: inline-block}\n",
       ".list-inline>li:not(:last-child)::after {content: \"\\00b7\"; padding: 0 .5ex}\n",
       "</style>\n",
       "<ol class=list-inline><li>21</li><li>21</li><li>22.8</li><li>21.4</li><li>18.7</li><li>18.1</li><li>14.3</li><li>24.4</li><li>22.8</li><li>19.2</li><li>17.8</li><li>16.4</li><li>17.3</li><li>15.2</li><li>10.4</li><li>10.4</li><li>14.7</li><li>32.4</li><li>30.4</li><li>33.9</li><li>21.5</li><li>15.5</li><li>15.2</li><li>13.3</li><li>19.2</li><li>27.3</li><li>26</li><li>30.4</li><li>15.8</li><li>19.7</li><li>15</li><li>21.4</li></ol>\n"
      ],
      "text/latex": [
       "\\begin{enumerate*}\n",
       "\\item 21\n",
       "\\item 21\n",
       "\\item 22.8\n",
       "\\item 21.4\n",
       "\\item 18.7\n",
       "\\item 18.1\n",
       "\\item 14.3\n",
       "\\item 24.4\n",
       "\\item 22.8\n",
       "\\item 19.2\n",
       "\\item 17.8\n",
       "\\item 16.4\n",
       "\\item 17.3\n",
       "\\item 15.2\n",
       "\\item 10.4\n",
       "\\item 10.4\n",
       "\\item 14.7\n",
       "\\item 32.4\n",
       "\\item 30.4\n",
       "\\item 33.9\n",
       "\\item 21.5\n",
       "\\item 15.5\n",
       "\\item 15.2\n",
       "\\item 13.3\n",
       "\\item 19.2\n",
       "\\item 27.3\n",
       "\\item 26\n",
       "\\item 30.4\n",
       "\\item 15.8\n",
       "\\item 19.7\n",
       "\\item 15\n",
       "\\item 21.4\n",
       "\\end{enumerate*}\n"
      ],
      "text/markdown": [
       "1. 21\n",
       "2. 21\n",
       "3. 22.8\n",
       "4. 21.4\n",
       "5. 18.7\n",
       "6. 18.1\n",
       "7. 14.3\n",
       "8. 24.4\n",
       "9. 22.8\n",
       "10. 19.2\n",
       "11. 17.8\n",
       "12. 16.4\n",
       "13. 17.3\n",
       "14. 15.2\n",
       "15. 10.4\n",
       "16. 10.4\n",
       "17. 14.7\n",
       "18. 32.4\n",
       "19. 30.4\n",
       "20. 33.9\n",
       "21. 21.5\n",
       "22. 15.5\n",
       "23. 15.2\n",
       "24. 13.3\n",
       "25. 19.2\n",
       "26. 27.3\n",
       "27. 26\n",
       "28. 30.4\n",
       "29. 15.8\n",
       "30. 19.7\n",
       "31. 15\n",
       "32. 21.4\n",
       "\n",
       "\n"
      ],
      "text/plain": [
       " [1] 21.0 21.0 22.8 21.4 18.7 18.1 14.3 24.4 22.8 19.2 17.8 16.4 17.3 15.2 10.4\n",
       "[16] 10.4 14.7 32.4 30.4 33.9 21.5 15.5 15.2 13.3 19.2 27.3 26.0 30.4 15.8 19.7\n",
       "[31] 15.0 21.4"
      ]
     },
     "metadata": {},
     "output_type": "display_data"
    },
    {
     "data": {
      "text/html": [
       "<style>\n",
       ".list-inline {list-style: none; margin:0; padding: 0}\n",
       ".list-inline>li {display: inline-block}\n",
       ".list-inline>li:not(:last-child)::after {content: \"\\00b7\"; padding: 0 .5ex}\n",
       "</style>\n",
       "<ol class=list-inline><li>6</li><li>6</li><li>4</li><li>6</li><li>8</li><li>6</li><li>8</li><li>4</li><li>4</li><li>6</li><li>6</li><li>8</li><li>8</li><li>8</li><li>8</li><li>8</li><li>8</li><li>4</li><li>4</li><li>4</li><li>4</li><li>8</li><li>8</li><li>8</li><li>8</li><li>4</li><li>4</li><li>4</li><li>8</li><li>6</li><li>8</li><li>4</li></ol>\n"
      ],
      "text/latex": [
       "\\begin{enumerate*}\n",
       "\\item 6\n",
       "\\item 6\n",
       "\\item 4\n",
       "\\item 6\n",
       "\\item 8\n",
       "\\item 6\n",
       "\\item 8\n",
       "\\item 4\n",
       "\\item 4\n",
       "\\item 6\n",
       "\\item 6\n",
       "\\item 8\n",
       "\\item 8\n",
       "\\item 8\n",
       "\\item 8\n",
       "\\item 8\n",
       "\\item 8\n",
       "\\item 4\n",
       "\\item 4\n",
       "\\item 4\n",
       "\\item 4\n",
       "\\item 8\n",
       "\\item 8\n",
       "\\item 8\n",
       "\\item 8\n",
       "\\item 4\n",
       "\\item 4\n",
       "\\item 4\n",
       "\\item 8\n",
       "\\item 6\n",
       "\\item 8\n",
       "\\item 4\n",
       "\\end{enumerate*}\n"
      ],
      "text/markdown": [
       "1. 6\n",
       "2. 6\n",
       "3. 4\n",
       "4. 6\n",
       "5. 8\n",
       "6. 6\n",
       "7. 8\n",
       "8. 4\n",
       "9. 4\n",
       "10. 6\n",
       "11. 6\n",
       "12. 8\n",
       "13. 8\n",
       "14. 8\n",
       "15. 8\n",
       "16. 8\n",
       "17. 8\n",
       "18. 4\n",
       "19. 4\n",
       "20. 4\n",
       "21. 4\n",
       "22. 8\n",
       "23. 8\n",
       "24. 8\n",
       "25. 8\n",
       "26. 4\n",
       "27. 4\n",
       "28. 4\n",
       "29. 8\n",
       "30. 6\n",
       "31. 8\n",
       "32. 4\n",
       "\n",
       "\n"
      ],
      "text/plain": [
       " [1] 6 6 4 6 8 6 8 4 4 6 6 8 8 8 8 8 8 4 4 4 4 8 8 8 8 4 4 4 8 6 8 4"
      ]
     },
     "metadata": {},
     "output_type": "display_data"
    }
   ],
   "source": [
    "#This equivalent to [[ for positions and $ for names:\n",
    "mtcars[[1]]                                               \n",
    "mtcars$cyl"
   ]
  },
  {
   "cell_type": "markdown",
   "id": "bdb7d232",
   "metadata": {},
   "source": [
    "## dplyr::relocate() \n",
    "makes it easy to move a set of columns to a new position (by default, the front):"
   ]
  },
  {
   "cell_type": "code",
   "execution_count": 304,
   "id": "7c39d27e",
   "metadata": {},
   "outputs": [
    {
     "data": {
      "text/html": [
       "<table class=\"dataframe\">\n",
       "<caption>A tibble: 32 × 13</caption>\n",
       "<thead>\n",
       "\t<tr><th scope=col>gear</th><th scope=col>carb</th><th scope=col>mpg</th><th scope=col>cyl</th><th scope=col>disp</th><th scope=col>hp</th><th scope=col>drat</th><th scope=col>wt</th><th scope=col>qsec</th><th scope=col>vs</th><th scope=col>am</th><th scope=col>cyl2</th><th scope=col>cyl4</th></tr>\n",
       "\t<tr><th scope=col>&lt;dbl&gt;</th><th scope=col>&lt;dbl&gt;</th><th scope=col>&lt;dbl&gt;</th><th scope=col>&lt;dbl&gt;</th><th scope=col>&lt;dbl&gt;</th><th scope=col>&lt;dbl&gt;</th><th scope=col>&lt;dbl&gt;</th><th scope=col>&lt;dbl&gt;</th><th scope=col>&lt;dbl&gt;</th><th scope=col>&lt;dbl&gt;</th><th scope=col>&lt;dbl&gt;</th><th scope=col>&lt;dbl&gt;</th><th scope=col>&lt;dbl&gt;</th></tr>\n",
       "</thead>\n",
       "<tbody>\n",
       "\t<tr><td>4</td><td>4</td><td>21.0</td><td>6</td><td>160.0</td><td>110</td><td>3.90</td><td>2.620</td><td>16.46</td><td>0</td><td>1</td><td>12</td><td>24</td></tr>\n",
       "\t<tr><td>4</td><td>4</td><td>21.0</td><td>6</td><td>160.0</td><td>110</td><td>3.90</td><td>2.875</td><td>17.02</td><td>0</td><td>1</td><td>12</td><td>24</td></tr>\n",
       "\t<tr><td>4</td><td>1</td><td>22.8</td><td>4</td><td>108.0</td><td> 93</td><td>3.85</td><td>2.320</td><td>18.61</td><td>1</td><td>1</td><td> 8</td><td>16</td></tr>\n",
       "\t<tr><td>3</td><td>1</td><td>21.4</td><td>6</td><td>258.0</td><td>110</td><td>3.08</td><td>3.215</td><td>19.44</td><td>1</td><td>0</td><td>12</td><td>24</td></tr>\n",
       "\t<tr><td>3</td><td>2</td><td>18.7</td><td>8</td><td>360.0</td><td>175</td><td>3.15</td><td>3.440</td><td>17.02</td><td>0</td><td>0</td><td>16</td><td>32</td></tr>\n",
       "\t<tr><td>3</td><td>1</td><td>18.1</td><td>6</td><td>225.0</td><td>105</td><td>2.76</td><td>3.460</td><td>20.22</td><td>1</td><td>0</td><td>12</td><td>24</td></tr>\n",
       "\t<tr><td>3</td><td>4</td><td>14.3</td><td>8</td><td>360.0</td><td>245</td><td>3.21</td><td>3.570</td><td>15.84</td><td>0</td><td>0</td><td>16</td><td>32</td></tr>\n",
       "\t<tr><td>4</td><td>2</td><td>24.4</td><td>4</td><td>146.7</td><td> 62</td><td>3.69</td><td>3.190</td><td>20.00</td><td>1</td><td>0</td><td> 8</td><td>16</td></tr>\n",
       "\t<tr><td>4</td><td>2</td><td>22.8</td><td>4</td><td>140.8</td><td> 95</td><td>3.92</td><td>3.150</td><td>22.90</td><td>1</td><td>0</td><td> 8</td><td>16</td></tr>\n",
       "\t<tr><td>4</td><td>4</td><td>19.2</td><td>6</td><td>167.6</td><td>123</td><td>3.92</td><td>3.440</td><td>18.30</td><td>1</td><td>0</td><td>12</td><td>24</td></tr>\n",
       "\t<tr><td>4</td><td>4</td><td>17.8</td><td>6</td><td>167.6</td><td>123</td><td>3.92</td><td>3.440</td><td>18.90</td><td>1</td><td>0</td><td>12</td><td>24</td></tr>\n",
       "\t<tr><td>3</td><td>3</td><td>16.4</td><td>8</td><td>275.8</td><td>180</td><td>3.07</td><td>4.070</td><td>17.40</td><td>0</td><td>0</td><td>16</td><td>32</td></tr>\n",
       "\t<tr><td>3</td><td>3</td><td>17.3</td><td>8</td><td>275.8</td><td>180</td><td>3.07</td><td>3.730</td><td>17.60</td><td>0</td><td>0</td><td>16</td><td>32</td></tr>\n",
       "\t<tr><td>3</td><td>3</td><td>15.2</td><td>8</td><td>275.8</td><td>180</td><td>3.07</td><td>3.780</td><td>18.00</td><td>0</td><td>0</td><td>16</td><td>32</td></tr>\n",
       "\t<tr><td>3</td><td>4</td><td>10.4</td><td>8</td><td>472.0</td><td>205</td><td>2.93</td><td>5.250</td><td>17.98</td><td>0</td><td>0</td><td>16</td><td>32</td></tr>\n",
       "\t<tr><td>3</td><td>4</td><td>10.4</td><td>8</td><td>460.0</td><td>215</td><td>3.00</td><td>5.424</td><td>17.82</td><td>0</td><td>0</td><td>16</td><td>32</td></tr>\n",
       "\t<tr><td>3</td><td>4</td><td>14.7</td><td>8</td><td>440.0</td><td>230</td><td>3.23</td><td>5.345</td><td>17.42</td><td>0</td><td>0</td><td>16</td><td>32</td></tr>\n",
       "\t<tr><td>4</td><td>1</td><td>32.4</td><td>4</td><td> 78.7</td><td> 66</td><td>4.08</td><td>2.200</td><td>19.47</td><td>1</td><td>1</td><td> 8</td><td>16</td></tr>\n",
       "\t<tr><td>4</td><td>2</td><td>30.4</td><td>4</td><td> 75.7</td><td> 52</td><td>4.93</td><td>1.615</td><td>18.52</td><td>1</td><td>1</td><td> 8</td><td>16</td></tr>\n",
       "\t<tr><td>4</td><td>1</td><td>33.9</td><td>4</td><td> 71.1</td><td> 65</td><td>4.22</td><td>1.835</td><td>19.90</td><td>1</td><td>1</td><td> 8</td><td>16</td></tr>\n",
       "\t<tr><td>3</td><td>1</td><td>21.5</td><td>4</td><td>120.1</td><td> 97</td><td>3.70</td><td>2.465</td><td>20.01</td><td>1</td><td>0</td><td> 8</td><td>16</td></tr>\n",
       "\t<tr><td>3</td><td>2</td><td>15.5</td><td>8</td><td>318.0</td><td>150</td><td>2.76</td><td>3.520</td><td>16.87</td><td>0</td><td>0</td><td>16</td><td>32</td></tr>\n",
       "\t<tr><td>3</td><td>2</td><td>15.2</td><td>8</td><td>304.0</td><td>150</td><td>3.15</td><td>3.435</td><td>17.30</td><td>0</td><td>0</td><td>16</td><td>32</td></tr>\n",
       "\t<tr><td>3</td><td>4</td><td>13.3</td><td>8</td><td>350.0</td><td>245</td><td>3.73</td><td>3.840</td><td>15.41</td><td>0</td><td>0</td><td>16</td><td>32</td></tr>\n",
       "\t<tr><td>3</td><td>2</td><td>19.2</td><td>8</td><td>400.0</td><td>175</td><td>3.08</td><td>3.845</td><td>17.05</td><td>0</td><td>0</td><td>16</td><td>32</td></tr>\n",
       "\t<tr><td>4</td><td>1</td><td>27.3</td><td>4</td><td> 79.0</td><td> 66</td><td>4.08</td><td>1.935</td><td>18.90</td><td>1</td><td>1</td><td> 8</td><td>16</td></tr>\n",
       "\t<tr><td>5</td><td>2</td><td>26.0</td><td>4</td><td>120.3</td><td> 91</td><td>4.43</td><td>2.140</td><td>16.70</td><td>0</td><td>1</td><td> 8</td><td>16</td></tr>\n",
       "\t<tr><td>5</td><td>2</td><td>30.4</td><td>4</td><td> 95.1</td><td>113</td><td>3.77</td><td>1.513</td><td>16.90</td><td>1</td><td>1</td><td> 8</td><td>16</td></tr>\n",
       "\t<tr><td>5</td><td>4</td><td>15.8</td><td>8</td><td>351.0</td><td>264</td><td>4.22</td><td>3.170</td><td>14.50</td><td>0</td><td>1</td><td>16</td><td>32</td></tr>\n",
       "\t<tr><td>5</td><td>6</td><td>19.7</td><td>6</td><td>145.0</td><td>175</td><td>3.62</td><td>2.770</td><td>15.50</td><td>0</td><td>1</td><td>12</td><td>24</td></tr>\n",
       "\t<tr><td>5</td><td>8</td><td>15.0</td><td>8</td><td>301.0</td><td>335</td><td>3.54</td><td>3.570</td><td>14.60</td><td>0</td><td>1</td><td>16</td><td>32</td></tr>\n",
       "\t<tr><td>4</td><td>2</td><td>21.4</td><td>4</td><td>121.0</td><td>109</td><td>4.11</td><td>2.780</td><td>18.60</td><td>1</td><td>1</td><td> 8</td><td>16</td></tr>\n",
       "</tbody>\n",
       "</table>\n"
      ],
      "text/latex": [
       "A tibble: 32 × 13\n",
       "\\begin{tabular}{lllllllllllll}\n",
       " gear & carb & mpg & cyl & disp & hp & drat & wt & qsec & vs & am & cyl2 & cyl4\\\\\n",
       " <dbl> & <dbl> & <dbl> & <dbl> & <dbl> & <dbl> & <dbl> & <dbl> & <dbl> & <dbl> & <dbl> & <dbl> & <dbl>\\\\\n",
       "\\hline\n",
       "\t 4 & 4 & 21.0 & 6 & 160.0 & 110 & 3.90 & 2.620 & 16.46 & 0 & 1 & 12 & 24\\\\\n",
       "\t 4 & 4 & 21.0 & 6 & 160.0 & 110 & 3.90 & 2.875 & 17.02 & 0 & 1 & 12 & 24\\\\\n",
       "\t 4 & 1 & 22.8 & 4 & 108.0 &  93 & 3.85 & 2.320 & 18.61 & 1 & 1 &  8 & 16\\\\\n",
       "\t 3 & 1 & 21.4 & 6 & 258.0 & 110 & 3.08 & 3.215 & 19.44 & 1 & 0 & 12 & 24\\\\\n",
       "\t 3 & 2 & 18.7 & 8 & 360.0 & 175 & 3.15 & 3.440 & 17.02 & 0 & 0 & 16 & 32\\\\\n",
       "\t 3 & 1 & 18.1 & 6 & 225.0 & 105 & 2.76 & 3.460 & 20.22 & 1 & 0 & 12 & 24\\\\\n",
       "\t 3 & 4 & 14.3 & 8 & 360.0 & 245 & 3.21 & 3.570 & 15.84 & 0 & 0 & 16 & 32\\\\\n",
       "\t 4 & 2 & 24.4 & 4 & 146.7 &  62 & 3.69 & 3.190 & 20.00 & 1 & 0 &  8 & 16\\\\\n",
       "\t 4 & 2 & 22.8 & 4 & 140.8 &  95 & 3.92 & 3.150 & 22.90 & 1 & 0 &  8 & 16\\\\\n",
       "\t 4 & 4 & 19.2 & 6 & 167.6 & 123 & 3.92 & 3.440 & 18.30 & 1 & 0 & 12 & 24\\\\\n",
       "\t 4 & 4 & 17.8 & 6 & 167.6 & 123 & 3.92 & 3.440 & 18.90 & 1 & 0 & 12 & 24\\\\\n",
       "\t 3 & 3 & 16.4 & 8 & 275.8 & 180 & 3.07 & 4.070 & 17.40 & 0 & 0 & 16 & 32\\\\\n",
       "\t 3 & 3 & 17.3 & 8 & 275.8 & 180 & 3.07 & 3.730 & 17.60 & 0 & 0 & 16 & 32\\\\\n",
       "\t 3 & 3 & 15.2 & 8 & 275.8 & 180 & 3.07 & 3.780 & 18.00 & 0 & 0 & 16 & 32\\\\\n",
       "\t 3 & 4 & 10.4 & 8 & 472.0 & 205 & 2.93 & 5.250 & 17.98 & 0 & 0 & 16 & 32\\\\\n",
       "\t 3 & 4 & 10.4 & 8 & 460.0 & 215 & 3.00 & 5.424 & 17.82 & 0 & 0 & 16 & 32\\\\\n",
       "\t 3 & 4 & 14.7 & 8 & 440.0 & 230 & 3.23 & 5.345 & 17.42 & 0 & 0 & 16 & 32\\\\\n",
       "\t 4 & 1 & 32.4 & 4 &  78.7 &  66 & 4.08 & 2.200 & 19.47 & 1 & 1 &  8 & 16\\\\\n",
       "\t 4 & 2 & 30.4 & 4 &  75.7 &  52 & 4.93 & 1.615 & 18.52 & 1 & 1 &  8 & 16\\\\\n",
       "\t 4 & 1 & 33.9 & 4 &  71.1 &  65 & 4.22 & 1.835 & 19.90 & 1 & 1 &  8 & 16\\\\\n",
       "\t 3 & 1 & 21.5 & 4 & 120.1 &  97 & 3.70 & 2.465 & 20.01 & 1 & 0 &  8 & 16\\\\\n",
       "\t 3 & 2 & 15.5 & 8 & 318.0 & 150 & 2.76 & 3.520 & 16.87 & 0 & 0 & 16 & 32\\\\\n",
       "\t 3 & 2 & 15.2 & 8 & 304.0 & 150 & 3.15 & 3.435 & 17.30 & 0 & 0 & 16 & 32\\\\\n",
       "\t 3 & 4 & 13.3 & 8 & 350.0 & 245 & 3.73 & 3.840 & 15.41 & 0 & 0 & 16 & 32\\\\\n",
       "\t 3 & 2 & 19.2 & 8 & 400.0 & 175 & 3.08 & 3.845 & 17.05 & 0 & 0 & 16 & 32\\\\\n",
       "\t 4 & 1 & 27.3 & 4 &  79.0 &  66 & 4.08 & 1.935 & 18.90 & 1 & 1 &  8 & 16\\\\\n",
       "\t 5 & 2 & 26.0 & 4 & 120.3 &  91 & 4.43 & 2.140 & 16.70 & 0 & 1 &  8 & 16\\\\\n",
       "\t 5 & 2 & 30.4 & 4 &  95.1 & 113 & 3.77 & 1.513 & 16.90 & 1 & 1 &  8 & 16\\\\\n",
       "\t 5 & 4 & 15.8 & 8 & 351.0 & 264 & 4.22 & 3.170 & 14.50 & 0 & 1 & 16 & 32\\\\\n",
       "\t 5 & 6 & 19.7 & 6 & 145.0 & 175 & 3.62 & 2.770 & 15.50 & 0 & 1 & 12 & 24\\\\\n",
       "\t 5 & 8 & 15.0 & 8 & 301.0 & 335 & 3.54 & 3.570 & 14.60 & 0 & 1 & 16 & 32\\\\\n",
       "\t 4 & 2 & 21.4 & 4 & 121.0 & 109 & 4.11 & 2.780 & 18.60 & 1 & 1 &  8 & 16\\\\\n",
       "\\end{tabular}\n"
      ],
      "text/markdown": [
       "\n",
       "A tibble: 32 × 13\n",
       "\n",
       "| gear &lt;dbl&gt; | carb &lt;dbl&gt; | mpg &lt;dbl&gt; | cyl &lt;dbl&gt; | disp &lt;dbl&gt; | hp &lt;dbl&gt; | drat &lt;dbl&gt; | wt &lt;dbl&gt; | qsec &lt;dbl&gt; | vs &lt;dbl&gt; | am &lt;dbl&gt; | cyl2 &lt;dbl&gt; | cyl4 &lt;dbl&gt; |\n",
       "|---|---|---|---|---|---|---|---|---|---|---|---|---|\n",
       "| 4 | 4 | 21.0 | 6 | 160.0 | 110 | 3.90 | 2.620 | 16.46 | 0 | 1 | 12 | 24 |\n",
       "| 4 | 4 | 21.0 | 6 | 160.0 | 110 | 3.90 | 2.875 | 17.02 | 0 | 1 | 12 | 24 |\n",
       "| 4 | 1 | 22.8 | 4 | 108.0 |  93 | 3.85 | 2.320 | 18.61 | 1 | 1 |  8 | 16 |\n",
       "| 3 | 1 | 21.4 | 6 | 258.0 | 110 | 3.08 | 3.215 | 19.44 | 1 | 0 | 12 | 24 |\n",
       "| 3 | 2 | 18.7 | 8 | 360.0 | 175 | 3.15 | 3.440 | 17.02 | 0 | 0 | 16 | 32 |\n",
       "| 3 | 1 | 18.1 | 6 | 225.0 | 105 | 2.76 | 3.460 | 20.22 | 1 | 0 | 12 | 24 |\n",
       "| 3 | 4 | 14.3 | 8 | 360.0 | 245 | 3.21 | 3.570 | 15.84 | 0 | 0 | 16 | 32 |\n",
       "| 4 | 2 | 24.4 | 4 | 146.7 |  62 | 3.69 | 3.190 | 20.00 | 1 | 0 |  8 | 16 |\n",
       "| 4 | 2 | 22.8 | 4 | 140.8 |  95 | 3.92 | 3.150 | 22.90 | 1 | 0 |  8 | 16 |\n",
       "| 4 | 4 | 19.2 | 6 | 167.6 | 123 | 3.92 | 3.440 | 18.30 | 1 | 0 | 12 | 24 |\n",
       "| 4 | 4 | 17.8 | 6 | 167.6 | 123 | 3.92 | 3.440 | 18.90 | 1 | 0 | 12 | 24 |\n",
       "| 3 | 3 | 16.4 | 8 | 275.8 | 180 | 3.07 | 4.070 | 17.40 | 0 | 0 | 16 | 32 |\n",
       "| 3 | 3 | 17.3 | 8 | 275.8 | 180 | 3.07 | 3.730 | 17.60 | 0 | 0 | 16 | 32 |\n",
       "| 3 | 3 | 15.2 | 8 | 275.8 | 180 | 3.07 | 3.780 | 18.00 | 0 | 0 | 16 | 32 |\n",
       "| 3 | 4 | 10.4 | 8 | 472.0 | 205 | 2.93 | 5.250 | 17.98 | 0 | 0 | 16 | 32 |\n",
       "| 3 | 4 | 10.4 | 8 | 460.0 | 215 | 3.00 | 5.424 | 17.82 | 0 | 0 | 16 | 32 |\n",
       "| 3 | 4 | 14.7 | 8 | 440.0 | 230 | 3.23 | 5.345 | 17.42 | 0 | 0 | 16 | 32 |\n",
       "| 4 | 1 | 32.4 | 4 |  78.7 |  66 | 4.08 | 2.200 | 19.47 | 1 | 1 |  8 | 16 |\n",
       "| 4 | 2 | 30.4 | 4 |  75.7 |  52 | 4.93 | 1.615 | 18.52 | 1 | 1 |  8 | 16 |\n",
       "| 4 | 1 | 33.9 | 4 |  71.1 |  65 | 4.22 | 1.835 | 19.90 | 1 | 1 |  8 | 16 |\n",
       "| 3 | 1 | 21.5 | 4 | 120.1 |  97 | 3.70 | 2.465 | 20.01 | 1 | 0 |  8 | 16 |\n",
       "| 3 | 2 | 15.5 | 8 | 318.0 | 150 | 2.76 | 3.520 | 16.87 | 0 | 0 | 16 | 32 |\n",
       "| 3 | 2 | 15.2 | 8 | 304.0 | 150 | 3.15 | 3.435 | 17.30 | 0 | 0 | 16 | 32 |\n",
       "| 3 | 4 | 13.3 | 8 | 350.0 | 245 | 3.73 | 3.840 | 15.41 | 0 | 0 | 16 | 32 |\n",
       "| 3 | 2 | 19.2 | 8 | 400.0 | 175 | 3.08 | 3.845 | 17.05 | 0 | 0 | 16 | 32 |\n",
       "| 4 | 1 | 27.3 | 4 |  79.0 |  66 | 4.08 | 1.935 | 18.90 | 1 | 1 |  8 | 16 |\n",
       "| 5 | 2 | 26.0 | 4 | 120.3 |  91 | 4.43 | 2.140 | 16.70 | 0 | 1 |  8 | 16 |\n",
       "| 5 | 2 | 30.4 | 4 |  95.1 | 113 | 3.77 | 1.513 | 16.90 | 1 | 1 |  8 | 16 |\n",
       "| 5 | 4 | 15.8 | 8 | 351.0 | 264 | 4.22 | 3.170 | 14.50 | 0 | 1 | 16 | 32 |\n",
       "| 5 | 6 | 19.7 | 6 | 145.0 | 175 | 3.62 | 2.770 | 15.50 | 0 | 1 | 12 | 24 |\n",
       "| 5 | 8 | 15.0 | 8 | 301.0 | 335 | 3.54 | 3.570 | 14.60 | 0 | 1 | 16 | 32 |\n",
       "| 4 | 2 | 21.4 | 4 | 121.0 | 109 | 4.11 | 2.780 | 18.60 | 1 | 1 |  8 | 16 |\n",
       "\n"
      ],
      "text/plain": [
       "   gear carb mpg  cyl disp  hp  drat wt    qsec  vs am cyl2 cyl4\n",
       "1  4    4    21.0 6   160.0 110 3.90 2.620 16.46 0  1  12   24  \n",
       "2  4    4    21.0 6   160.0 110 3.90 2.875 17.02 0  1  12   24  \n",
       "3  4    1    22.8 4   108.0  93 3.85 2.320 18.61 1  1   8   16  \n",
       "4  3    1    21.4 6   258.0 110 3.08 3.215 19.44 1  0  12   24  \n",
       "5  3    2    18.7 8   360.0 175 3.15 3.440 17.02 0  0  16   32  \n",
       "6  3    1    18.1 6   225.0 105 2.76 3.460 20.22 1  0  12   24  \n",
       "7  3    4    14.3 8   360.0 245 3.21 3.570 15.84 0  0  16   32  \n",
       "8  4    2    24.4 4   146.7  62 3.69 3.190 20.00 1  0   8   16  \n",
       "9  4    2    22.8 4   140.8  95 3.92 3.150 22.90 1  0   8   16  \n",
       "10 4    4    19.2 6   167.6 123 3.92 3.440 18.30 1  0  12   24  \n",
       "11 4    4    17.8 6   167.6 123 3.92 3.440 18.90 1  0  12   24  \n",
       "12 3    3    16.4 8   275.8 180 3.07 4.070 17.40 0  0  16   32  \n",
       "13 3    3    17.3 8   275.8 180 3.07 3.730 17.60 0  0  16   32  \n",
       "14 3    3    15.2 8   275.8 180 3.07 3.780 18.00 0  0  16   32  \n",
       "15 3    4    10.4 8   472.0 205 2.93 5.250 17.98 0  0  16   32  \n",
       "16 3    4    10.4 8   460.0 215 3.00 5.424 17.82 0  0  16   32  \n",
       "17 3    4    14.7 8   440.0 230 3.23 5.345 17.42 0  0  16   32  \n",
       "18 4    1    32.4 4    78.7  66 4.08 2.200 19.47 1  1   8   16  \n",
       "19 4    2    30.4 4    75.7  52 4.93 1.615 18.52 1  1   8   16  \n",
       "20 4    1    33.9 4    71.1  65 4.22 1.835 19.90 1  1   8   16  \n",
       "21 3    1    21.5 4   120.1  97 3.70 2.465 20.01 1  0   8   16  \n",
       "22 3    2    15.5 8   318.0 150 2.76 3.520 16.87 0  0  16   32  \n",
       "23 3    2    15.2 8   304.0 150 3.15 3.435 17.30 0  0  16   32  \n",
       "24 3    4    13.3 8   350.0 245 3.73 3.840 15.41 0  0  16   32  \n",
       "25 3    2    19.2 8   400.0 175 3.08 3.845 17.05 0  0  16   32  \n",
       "26 4    1    27.3 4    79.0  66 4.08 1.935 18.90 1  1   8   16  \n",
       "27 5    2    26.0 4   120.3  91 4.43 2.140 16.70 0  1   8   16  \n",
       "28 5    2    30.4 4    95.1 113 3.77 1.513 16.90 1  1   8   16  \n",
       "29 5    4    15.8 8   351.0 264 4.22 3.170 14.50 0  1  16   32  \n",
       "30 5    6    19.7 6   145.0 175 3.62 2.770 15.50 0  1  12   24  \n",
       "31 5    8    15.0 8   301.0 335 3.54 3.570 14.60 0  1  16   32  \n",
       "32 4    2    21.4 4   121.0 109 4.11 2.780 18.60 1  1   8   16  "
      ]
     },
     "metadata": {},
     "output_type": "display_data"
    }
   ],
   "source": [
    "# to front\n",
    "mtcars %>% relocate(gear, carb)"
   ]
  },
  {
   "cell_type": "code",
   "execution_count": 305,
   "id": "1dab210b",
   "metadata": {},
   "outputs": [
    {
     "data": {
      "text/html": [
       "<table class=\"dataframe\">\n",
       "<caption>A tibble: 32 × 13</caption>\n",
       "<thead>\n",
       "\t<tr><th scope=col>disp</th><th scope=col>hp</th><th scope=col>drat</th><th scope=col>wt</th><th scope=col>qsec</th><th scope=col>vs</th><th scope=col>am</th><th scope=col>gear</th><th scope=col>carb</th><th scope=col>cyl2</th><th scope=col>cyl4</th><th scope=col>mpg</th><th scope=col>cyl</th></tr>\n",
       "\t<tr><th scope=col>&lt;dbl&gt;</th><th scope=col>&lt;dbl&gt;</th><th scope=col>&lt;dbl&gt;</th><th scope=col>&lt;dbl&gt;</th><th scope=col>&lt;dbl&gt;</th><th scope=col>&lt;dbl&gt;</th><th scope=col>&lt;dbl&gt;</th><th scope=col>&lt;dbl&gt;</th><th scope=col>&lt;dbl&gt;</th><th scope=col>&lt;dbl&gt;</th><th scope=col>&lt;dbl&gt;</th><th scope=col>&lt;dbl&gt;</th><th scope=col>&lt;dbl&gt;</th></tr>\n",
       "</thead>\n",
       "<tbody>\n",
       "\t<tr><td>160.0</td><td>110</td><td>3.90</td><td>2.620</td><td>16.46</td><td>0</td><td>1</td><td>4</td><td>4</td><td>12</td><td>24</td><td>21.0</td><td>6</td></tr>\n",
       "\t<tr><td>160.0</td><td>110</td><td>3.90</td><td>2.875</td><td>17.02</td><td>0</td><td>1</td><td>4</td><td>4</td><td>12</td><td>24</td><td>21.0</td><td>6</td></tr>\n",
       "\t<tr><td>108.0</td><td> 93</td><td>3.85</td><td>2.320</td><td>18.61</td><td>1</td><td>1</td><td>4</td><td>1</td><td> 8</td><td>16</td><td>22.8</td><td>4</td></tr>\n",
       "\t<tr><td>258.0</td><td>110</td><td>3.08</td><td>3.215</td><td>19.44</td><td>1</td><td>0</td><td>3</td><td>1</td><td>12</td><td>24</td><td>21.4</td><td>6</td></tr>\n",
       "\t<tr><td>360.0</td><td>175</td><td>3.15</td><td>3.440</td><td>17.02</td><td>0</td><td>0</td><td>3</td><td>2</td><td>16</td><td>32</td><td>18.7</td><td>8</td></tr>\n",
       "\t<tr><td>225.0</td><td>105</td><td>2.76</td><td>3.460</td><td>20.22</td><td>1</td><td>0</td><td>3</td><td>1</td><td>12</td><td>24</td><td>18.1</td><td>6</td></tr>\n",
       "\t<tr><td>360.0</td><td>245</td><td>3.21</td><td>3.570</td><td>15.84</td><td>0</td><td>0</td><td>3</td><td>4</td><td>16</td><td>32</td><td>14.3</td><td>8</td></tr>\n",
       "\t<tr><td>146.7</td><td> 62</td><td>3.69</td><td>3.190</td><td>20.00</td><td>1</td><td>0</td><td>4</td><td>2</td><td> 8</td><td>16</td><td>24.4</td><td>4</td></tr>\n",
       "\t<tr><td>140.8</td><td> 95</td><td>3.92</td><td>3.150</td><td>22.90</td><td>1</td><td>0</td><td>4</td><td>2</td><td> 8</td><td>16</td><td>22.8</td><td>4</td></tr>\n",
       "\t<tr><td>167.6</td><td>123</td><td>3.92</td><td>3.440</td><td>18.30</td><td>1</td><td>0</td><td>4</td><td>4</td><td>12</td><td>24</td><td>19.2</td><td>6</td></tr>\n",
       "\t<tr><td>167.6</td><td>123</td><td>3.92</td><td>3.440</td><td>18.90</td><td>1</td><td>0</td><td>4</td><td>4</td><td>12</td><td>24</td><td>17.8</td><td>6</td></tr>\n",
       "\t<tr><td>275.8</td><td>180</td><td>3.07</td><td>4.070</td><td>17.40</td><td>0</td><td>0</td><td>3</td><td>3</td><td>16</td><td>32</td><td>16.4</td><td>8</td></tr>\n",
       "\t<tr><td>275.8</td><td>180</td><td>3.07</td><td>3.730</td><td>17.60</td><td>0</td><td>0</td><td>3</td><td>3</td><td>16</td><td>32</td><td>17.3</td><td>8</td></tr>\n",
       "\t<tr><td>275.8</td><td>180</td><td>3.07</td><td>3.780</td><td>18.00</td><td>0</td><td>0</td><td>3</td><td>3</td><td>16</td><td>32</td><td>15.2</td><td>8</td></tr>\n",
       "\t<tr><td>472.0</td><td>205</td><td>2.93</td><td>5.250</td><td>17.98</td><td>0</td><td>0</td><td>3</td><td>4</td><td>16</td><td>32</td><td>10.4</td><td>8</td></tr>\n",
       "\t<tr><td>460.0</td><td>215</td><td>3.00</td><td>5.424</td><td>17.82</td><td>0</td><td>0</td><td>3</td><td>4</td><td>16</td><td>32</td><td>10.4</td><td>8</td></tr>\n",
       "\t<tr><td>440.0</td><td>230</td><td>3.23</td><td>5.345</td><td>17.42</td><td>0</td><td>0</td><td>3</td><td>4</td><td>16</td><td>32</td><td>14.7</td><td>8</td></tr>\n",
       "\t<tr><td> 78.7</td><td> 66</td><td>4.08</td><td>2.200</td><td>19.47</td><td>1</td><td>1</td><td>4</td><td>1</td><td> 8</td><td>16</td><td>32.4</td><td>4</td></tr>\n",
       "\t<tr><td> 75.7</td><td> 52</td><td>4.93</td><td>1.615</td><td>18.52</td><td>1</td><td>1</td><td>4</td><td>2</td><td> 8</td><td>16</td><td>30.4</td><td>4</td></tr>\n",
       "\t<tr><td> 71.1</td><td> 65</td><td>4.22</td><td>1.835</td><td>19.90</td><td>1</td><td>1</td><td>4</td><td>1</td><td> 8</td><td>16</td><td>33.9</td><td>4</td></tr>\n",
       "\t<tr><td>120.1</td><td> 97</td><td>3.70</td><td>2.465</td><td>20.01</td><td>1</td><td>0</td><td>3</td><td>1</td><td> 8</td><td>16</td><td>21.5</td><td>4</td></tr>\n",
       "\t<tr><td>318.0</td><td>150</td><td>2.76</td><td>3.520</td><td>16.87</td><td>0</td><td>0</td><td>3</td><td>2</td><td>16</td><td>32</td><td>15.5</td><td>8</td></tr>\n",
       "\t<tr><td>304.0</td><td>150</td><td>3.15</td><td>3.435</td><td>17.30</td><td>0</td><td>0</td><td>3</td><td>2</td><td>16</td><td>32</td><td>15.2</td><td>8</td></tr>\n",
       "\t<tr><td>350.0</td><td>245</td><td>3.73</td><td>3.840</td><td>15.41</td><td>0</td><td>0</td><td>3</td><td>4</td><td>16</td><td>32</td><td>13.3</td><td>8</td></tr>\n",
       "\t<tr><td>400.0</td><td>175</td><td>3.08</td><td>3.845</td><td>17.05</td><td>0</td><td>0</td><td>3</td><td>2</td><td>16</td><td>32</td><td>19.2</td><td>8</td></tr>\n",
       "\t<tr><td> 79.0</td><td> 66</td><td>4.08</td><td>1.935</td><td>18.90</td><td>1</td><td>1</td><td>4</td><td>1</td><td> 8</td><td>16</td><td>27.3</td><td>4</td></tr>\n",
       "\t<tr><td>120.3</td><td> 91</td><td>4.43</td><td>2.140</td><td>16.70</td><td>0</td><td>1</td><td>5</td><td>2</td><td> 8</td><td>16</td><td>26.0</td><td>4</td></tr>\n",
       "\t<tr><td> 95.1</td><td>113</td><td>3.77</td><td>1.513</td><td>16.90</td><td>1</td><td>1</td><td>5</td><td>2</td><td> 8</td><td>16</td><td>30.4</td><td>4</td></tr>\n",
       "\t<tr><td>351.0</td><td>264</td><td>4.22</td><td>3.170</td><td>14.50</td><td>0</td><td>1</td><td>5</td><td>4</td><td>16</td><td>32</td><td>15.8</td><td>8</td></tr>\n",
       "\t<tr><td>145.0</td><td>175</td><td>3.62</td><td>2.770</td><td>15.50</td><td>0</td><td>1</td><td>5</td><td>6</td><td>12</td><td>24</td><td>19.7</td><td>6</td></tr>\n",
       "\t<tr><td>301.0</td><td>335</td><td>3.54</td><td>3.570</td><td>14.60</td><td>0</td><td>1</td><td>5</td><td>8</td><td>16</td><td>32</td><td>15.0</td><td>8</td></tr>\n",
       "\t<tr><td>121.0</td><td>109</td><td>4.11</td><td>2.780</td><td>18.60</td><td>1</td><td>1</td><td>4</td><td>2</td><td> 8</td><td>16</td><td>21.4</td><td>4</td></tr>\n",
       "</tbody>\n",
       "</table>\n"
      ],
      "text/latex": [
       "A tibble: 32 × 13\n",
       "\\begin{tabular}{lllllllllllll}\n",
       " disp & hp & drat & wt & qsec & vs & am & gear & carb & cyl2 & cyl4 & mpg & cyl\\\\\n",
       " <dbl> & <dbl> & <dbl> & <dbl> & <dbl> & <dbl> & <dbl> & <dbl> & <dbl> & <dbl> & <dbl> & <dbl> & <dbl>\\\\\n",
       "\\hline\n",
       "\t 160.0 & 110 & 3.90 & 2.620 & 16.46 & 0 & 1 & 4 & 4 & 12 & 24 & 21.0 & 6\\\\\n",
       "\t 160.0 & 110 & 3.90 & 2.875 & 17.02 & 0 & 1 & 4 & 4 & 12 & 24 & 21.0 & 6\\\\\n",
       "\t 108.0 &  93 & 3.85 & 2.320 & 18.61 & 1 & 1 & 4 & 1 &  8 & 16 & 22.8 & 4\\\\\n",
       "\t 258.0 & 110 & 3.08 & 3.215 & 19.44 & 1 & 0 & 3 & 1 & 12 & 24 & 21.4 & 6\\\\\n",
       "\t 360.0 & 175 & 3.15 & 3.440 & 17.02 & 0 & 0 & 3 & 2 & 16 & 32 & 18.7 & 8\\\\\n",
       "\t 225.0 & 105 & 2.76 & 3.460 & 20.22 & 1 & 0 & 3 & 1 & 12 & 24 & 18.1 & 6\\\\\n",
       "\t 360.0 & 245 & 3.21 & 3.570 & 15.84 & 0 & 0 & 3 & 4 & 16 & 32 & 14.3 & 8\\\\\n",
       "\t 146.7 &  62 & 3.69 & 3.190 & 20.00 & 1 & 0 & 4 & 2 &  8 & 16 & 24.4 & 4\\\\\n",
       "\t 140.8 &  95 & 3.92 & 3.150 & 22.90 & 1 & 0 & 4 & 2 &  8 & 16 & 22.8 & 4\\\\\n",
       "\t 167.6 & 123 & 3.92 & 3.440 & 18.30 & 1 & 0 & 4 & 4 & 12 & 24 & 19.2 & 6\\\\\n",
       "\t 167.6 & 123 & 3.92 & 3.440 & 18.90 & 1 & 0 & 4 & 4 & 12 & 24 & 17.8 & 6\\\\\n",
       "\t 275.8 & 180 & 3.07 & 4.070 & 17.40 & 0 & 0 & 3 & 3 & 16 & 32 & 16.4 & 8\\\\\n",
       "\t 275.8 & 180 & 3.07 & 3.730 & 17.60 & 0 & 0 & 3 & 3 & 16 & 32 & 17.3 & 8\\\\\n",
       "\t 275.8 & 180 & 3.07 & 3.780 & 18.00 & 0 & 0 & 3 & 3 & 16 & 32 & 15.2 & 8\\\\\n",
       "\t 472.0 & 205 & 2.93 & 5.250 & 17.98 & 0 & 0 & 3 & 4 & 16 & 32 & 10.4 & 8\\\\\n",
       "\t 460.0 & 215 & 3.00 & 5.424 & 17.82 & 0 & 0 & 3 & 4 & 16 & 32 & 10.4 & 8\\\\\n",
       "\t 440.0 & 230 & 3.23 & 5.345 & 17.42 & 0 & 0 & 3 & 4 & 16 & 32 & 14.7 & 8\\\\\n",
       "\t  78.7 &  66 & 4.08 & 2.200 & 19.47 & 1 & 1 & 4 & 1 &  8 & 16 & 32.4 & 4\\\\\n",
       "\t  75.7 &  52 & 4.93 & 1.615 & 18.52 & 1 & 1 & 4 & 2 &  8 & 16 & 30.4 & 4\\\\\n",
       "\t  71.1 &  65 & 4.22 & 1.835 & 19.90 & 1 & 1 & 4 & 1 &  8 & 16 & 33.9 & 4\\\\\n",
       "\t 120.1 &  97 & 3.70 & 2.465 & 20.01 & 1 & 0 & 3 & 1 &  8 & 16 & 21.5 & 4\\\\\n",
       "\t 318.0 & 150 & 2.76 & 3.520 & 16.87 & 0 & 0 & 3 & 2 & 16 & 32 & 15.5 & 8\\\\\n",
       "\t 304.0 & 150 & 3.15 & 3.435 & 17.30 & 0 & 0 & 3 & 2 & 16 & 32 & 15.2 & 8\\\\\n",
       "\t 350.0 & 245 & 3.73 & 3.840 & 15.41 & 0 & 0 & 3 & 4 & 16 & 32 & 13.3 & 8\\\\\n",
       "\t 400.0 & 175 & 3.08 & 3.845 & 17.05 & 0 & 0 & 3 & 2 & 16 & 32 & 19.2 & 8\\\\\n",
       "\t  79.0 &  66 & 4.08 & 1.935 & 18.90 & 1 & 1 & 4 & 1 &  8 & 16 & 27.3 & 4\\\\\n",
       "\t 120.3 &  91 & 4.43 & 2.140 & 16.70 & 0 & 1 & 5 & 2 &  8 & 16 & 26.0 & 4\\\\\n",
       "\t  95.1 & 113 & 3.77 & 1.513 & 16.90 & 1 & 1 & 5 & 2 &  8 & 16 & 30.4 & 4\\\\\n",
       "\t 351.0 & 264 & 4.22 & 3.170 & 14.50 & 0 & 1 & 5 & 4 & 16 & 32 & 15.8 & 8\\\\\n",
       "\t 145.0 & 175 & 3.62 & 2.770 & 15.50 & 0 & 1 & 5 & 6 & 12 & 24 & 19.7 & 6\\\\\n",
       "\t 301.0 & 335 & 3.54 & 3.570 & 14.60 & 0 & 1 & 5 & 8 & 16 & 32 & 15.0 & 8\\\\\n",
       "\t 121.0 & 109 & 4.11 & 2.780 & 18.60 & 1 & 1 & 4 & 2 &  8 & 16 & 21.4 & 4\\\\\n",
       "\\end{tabular}\n"
      ],
      "text/markdown": [
       "\n",
       "A tibble: 32 × 13\n",
       "\n",
       "| disp &lt;dbl&gt; | hp &lt;dbl&gt; | drat &lt;dbl&gt; | wt &lt;dbl&gt; | qsec &lt;dbl&gt; | vs &lt;dbl&gt; | am &lt;dbl&gt; | gear &lt;dbl&gt; | carb &lt;dbl&gt; | cyl2 &lt;dbl&gt; | cyl4 &lt;dbl&gt; | mpg &lt;dbl&gt; | cyl &lt;dbl&gt; |\n",
       "|---|---|---|---|---|---|---|---|---|---|---|---|---|\n",
       "| 160.0 | 110 | 3.90 | 2.620 | 16.46 | 0 | 1 | 4 | 4 | 12 | 24 | 21.0 | 6 |\n",
       "| 160.0 | 110 | 3.90 | 2.875 | 17.02 | 0 | 1 | 4 | 4 | 12 | 24 | 21.0 | 6 |\n",
       "| 108.0 |  93 | 3.85 | 2.320 | 18.61 | 1 | 1 | 4 | 1 |  8 | 16 | 22.8 | 4 |\n",
       "| 258.0 | 110 | 3.08 | 3.215 | 19.44 | 1 | 0 | 3 | 1 | 12 | 24 | 21.4 | 6 |\n",
       "| 360.0 | 175 | 3.15 | 3.440 | 17.02 | 0 | 0 | 3 | 2 | 16 | 32 | 18.7 | 8 |\n",
       "| 225.0 | 105 | 2.76 | 3.460 | 20.22 | 1 | 0 | 3 | 1 | 12 | 24 | 18.1 | 6 |\n",
       "| 360.0 | 245 | 3.21 | 3.570 | 15.84 | 0 | 0 | 3 | 4 | 16 | 32 | 14.3 | 8 |\n",
       "| 146.7 |  62 | 3.69 | 3.190 | 20.00 | 1 | 0 | 4 | 2 |  8 | 16 | 24.4 | 4 |\n",
       "| 140.8 |  95 | 3.92 | 3.150 | 22.90 | 1 | 0 | 4 | 2 |  8 | 16 | 22.8 | 4 |\n",
       "| 167.6 | 123 | 3.92 | 3.440 | 18.30 | 1 | 0 | 4 | 4 | 12 | 24 | 19.2 | 6 |\n",
       "| 167.6 | 123 | 3.92 | 3.440 | 18.90 | 1 | 0 | 4 | 4 | 12 | 24 | 17.8 | 6 |\n",
       "| 275.8 | 180 | 3.07 | 4.070 | 17.40 | 0 | 0 | 3 | 3 | 16 | 32 | 16.4 | 8 |\n",
       "| 275.8 | 180 | 3.07 | 3.730 | 17.60 | 0 | 0 | 3 | 3 | 16 | 32 | 17.3 | 8 |\n",
       "| 275.8 | 180 | 3.07 | 3.780 | 18.00 | 0 | 0 | 3 | 3 | 16 | 32 | 15.2 | 8 |\n",
       "| 472.0 | 205 | 2.93 | 5.250 | 17.98 | 0 | 0 | 3 | 4 | 16 | 32 | 10.4 | 8 |\n",
       "| 460.0 | 215 | 3.00 | 5.424 | 17.82 | 0 | 0 | 3 | 4 | 16 | 32 | 10.4 | 8 |\n",
       "| 440.0 | 230 | 3.23 | 5.345 | 17.42 | 0 | 0 | 3 | 4 | 16 | 32 | 14.7 | 8 |\n",
       "|  78.7 |  66 | 4.08 | 2.200 | 19.47 | 1 | 1 | 4 | 1 |  8 | 16 | 32.4 | 4 |\n",
       "|  75.7 |  52 | 4.93 | 1.615 | 18.52 | 1 | 1 | 4 | 2 |  8 | 16 | 30.4 | 4 |\n",
       "|  71.1 |  65 | 4.22 | 1.835 | 19.90 | 1 | 1 | 4 | 1 |  8 | 16 | 33.9 | 4 |\n",
       "| 120.1 |  97 | 3.70 | 2.465 | 20.01 | 1 | 0 | 3 | 1 |  8 | 16 | 21.5 | 4 |\n",
       "| 318.0 | 150 | 2.76 | 3.520 | 16.87 | 0 | 0 | 3 | 2 | 16 | 32 | 15.5 | 8 |\n",
       "| 304.0 | 150 | 3.15 | 3.435 | 17.30 | 0 | 0 | 3 | 2 | 16 | 32 | 15.2 | 8 |\n",
       "| 350.0 | 245 | 3.73 | 3.840 | 15.41 | 0 | 0 | 3 | 4 | 16 | 32 | 13.3 | 8 |\n",
       "| 400.0 | 175 | 3.08 | 3.845 | 17.05 | 0 | 0 | 3 | 2 | 16 | 32 | 19.2 | 8 |\n",
       "|  79.0 |  66 | 4.08 | 1.935 | 18.90 | 1 | 1 | 4 | 1 |  8 | 16 | 27.3 | 4 |\n",
       "| 120.3 |  91 | 4.43 | 2.140 | 16.70 | 0 | 1 | 5 | 2 |  8 | 16 | 26.0 | 4 |\n",
       "|  95.1 | 113 | 3.77 | 1.513 | 16.90 | 1 | 1 | 5 | 2 |  8 | 16 | 30.4 | 4 |\n",
       "| 351.0 | 264 | 4.22 | 3.170 | 14.50 | 0 | 1 | 5 | 4 | 16 | 32 | 15.8 | 8 |\n",
       "| 145.0 | 175 | 3.62 | 2.770 | 15.50 | 0 | 1 | 5 | 6 | 12 | 24 | 19.7 | 6 |\n",
       "| 301.0 | 335 | 3.54 | 3.570 | 14.60 | 0 | 1 | 5 | 8 | 16 | 32 | 15.0 | 8 |\n",
       "| 121.0 | 109 | 4.11 | 2.780 | 18.60 | 1 | 1 | 4 | 2 |  8 | 16 | 21.4 | 4 |\n",
       "\n"
      ],
      "text/plain": [
       "   disp  hp  drat wt    qsec  vs am gear carb cyl2 cyl4 mpg  cyl\n",
       "1  160.0 110 3.90 2.620 16.46 0  1  4    4    12   24   21.0 6  \n",
       "2  160.0 110 3.90 2.875 17.02 0  1  4    4    12   24   21.0 6  \n",
       "3  108.0  93 3.85 2.320 18.61 1  1  4    1     8   16   22.8 4  \n",
       "4  258.0 110 3.08 3.215 19.44 1  0  3    1    12   24   21.4 6  \n",
       "5  360.0 175 3.15 3.440 17.02 0  0  3    2    16   32   18.7 8  \n",
       "6  225.0 105 2.76 3.460 20.22 1  0  3    1    12   24   18.1 6  \n",
       "7  360.0 245 3.21 3.570 15.84 0  0  3    4    16   32   14.3 8  \n",
       "8  146.7  62 3.69 3.190 20.00 1  0  4    2     8   16   24.4 4  \n",
       "9  140.8  95 3.92 3.150 22.90 1  0  4    2     8   16   22.8 4  \n",
       "10 167.6 123 3.92 3.440 18.30 1  0  4    4    12   24   19.2 6  \n",
       "11 167.6 123 3.92 3.440 18.90 1  0  4    4    12   24   17.8 6  \n",
       "12 275.8 180 3.07 4.070 17.40 0  0  3    3    16   32   16.4 8  \n",
       "13 275.8 180 3.07 3.730 17.60 0  0  3    3    16   32   17.3 8  \n",
       "14 275.8 180 3.07 3.780 18.00 0  0  3    3    16   32   15.2 8  \n",
       "15 472.0 205 2.93 5.250 17.98 0  0  3    4    16   32   10.4 8  \n",
       "16 460.0 215 3.00 5.424 17.82 0  0  3    4    16   32   10.4 8  \n",
       "17 440.0 230 3.23 5.345 17.42 0  0  3    4    16   32   14.7 8  \n",
       "18  78.7  66 4.08 2.200 19.47 1  1  4    1     8   16   32.4 4  \n",
       "19  75.7  52 4.93 1.615 18.52 1  1  4    2     8   16   30.4 4  \n",
       "20  71.1  65 4.22 1.835 19.90 1  1  4    1     8   16   33.9 4  \n",
       "21 120.1  97 3.70 2.465 20.01 1  0  3    1     8   16   21.5 4  \n",
       "22 318.0 150 2.76 3.520 16.87 0  0  3    2    16   32   15.5 8  \n",
       "23 304.0 150 3.15 3.435 17.30 0  0  3    2    16   32   15.2 8  \n",
       "24 350.0 245 3.73 3.840 15.41 0  0  3    4    16   32   13.3 8  \n",
       "25 400.0 175 3.08 3.845 17.05 0  0  3    2    16   32   19.2 8  \n",
       "26  79.0  66 4.08 1.935 18.90 1  1  4    1     8   16   27.3 4  \n",
       "27 120.3  91 4.43 2.140 16.70 0  1  5    2     8   16   26.0 4  \n",
       "28  95.1 113 3.77 1.513 16.90 1  1  5    2     8   16   30.4 4  \n",
       "29 351.0 264 4.22 3.170 14.50 0  1  5    4    16   32   15.8 8  \n",
       "30 145.0 175 3.62 2.770 15.50 0  1  5    6    12   24   19.7 6  \n",
       "31 301.0 335 3.54 3.570 14.60 0  1  5    8    16   32   15.0 8  \n",
       "32 121.0 109 4.11 2.780 18.60 1  1  4    2     8   16   21.4 4  "
      ]
     },
     "metadata": {},
     "output_type": "display_data"
    }
   ],
   "source": [
    "# to back\n",
    "mtcars %>% relocate(mpg, cyl, .after = last_col()) "
   ]
  },
  {
   "cell_type": "markdown",
   "id": "1a10a278",
   "metadata": {},
   "source": [
    "We can replicate this in base R with a little set manipulation:"
   ]
  },
  {
   "cell_type": "code",
   "execution_count": 306,
   "id": "2bb8cad4",
   "metadata": {},
   "outputs": [
    {
     "data": {
      "text/html": [
       "<table class=\"dataframe\">\n",
       "<caption>A tibble: 32 × 13</caption>\n",
       "<thead>\n",
       "\t<tr><th scope=col>gear</th><th scope=col>carb</th><th scope=col>mpg</th><th scope=col>cyl</th><th scope=col>disp</th><th scope=col>hp</th><th scope=col>drat</th><th scope=col>wt</th><th scope=col>qsec</th><th scope=col>vs</th><th scope=col>am</th><th scope=col>cyl2</th><th scope=col>cyl4</th></tr>\n",
       "\t<tr><th scope=col>&lt;dbl&gt;</th><th scope=col>&lt;dbl&gt;</th><th scope=col>&lt;dbl&gt;</th><th scope=col>&lt;dbl&gt;</th><th scope=col>&lt;dbl&gt;</th><th scope=col>&lt;dbl&gt;</th><th scope=col>&lt;dbl&gt;</th><th scope=col>&lt;dbl&gt;</th><th scope=col>&lt;dbl&gt;</th><th scope=col>&lt;dbl&gt;</th><th scope=col>&lt;dbl&gt;</th><th scope=col>&lt;dbl&gt;</th><th scope=col>&lt;dbl&gt;</th></tr>\n",
       "</thead>\n",
       "<tbody>\n",
       "\t<tr><td>4</td><td>4</td><td>21.0</td><td>6</td><td>160.0</td><td>110</td><td>3.90</td><td>2.620</td><td>16.46</td><td>0</td><td>1</td><td>12</td><td>24</td></tr>\n",
       "\t<tr><td>4</td><td>4</td><td>21.0</td><td>6</td><td>160.0</td><td>110</td><td>3.90</td><td>2.875</td><td>17.02</td><td>0</td><td>1</td><td>12</td><td>24</td></tr>\n",
       "\t<tr><td>4</td><td>1</td><td>22.8</td><td>4</td><td>108.0</td><td> 93</td><td>3.85</td><td>2.320</td><td>18.61</td><td>1</td><td>1</td><td> 8</td><td>16</td></tr>\n",
       "\t<tr><td>3</td><td>1</td><td>21.4</td><td>6</td><td>258.0</td><td>110</td><td>3.08</td><td>3.215</td><td>19.44</td><td>1</td><td>0</td><td>12</td><td>24</td></tr>\n",
       "\t<tr><td>3</td><td>2</td><td>18.7</td><td>8</td><td>360.0</td><td>175</td><td>3.15</td><td>3.440</td><td>17.02</td><td>0</td><td>0</td><td>16</td><td>32</td></tr>\n",
       "\t<tr><td>3</td><td>1</td><td>18.1</td><td>6</td><td>225.0</td><td>105</td><td>2.76</td><td>3.460</td><td>20.22</td><td>1</td><td>0</td><td>12</td><td>24</td></tr>\n",
       "\t<tr><td>3</td><td>4</td><td>14.3</td><td>8</td><td>360.0</td><td>245</td><td>3.21</td><td>3.570</td><td>15.84</td><td>0</td><td>0</td><td>16</td><td>32</td></tr>\n",
       "\t<tr><td>4</td><td>2</td><td>24.4</td><td>4</td><td>146.7</td><td> 62</td><td>3.69</td><td>3.190</td><td>20.00</td><td>1</td><td>0</td><td> 8</td><td>16</td></tr>\n",
       "\t<tr><td>4</td><td>2</td><td>22.8</td><td>4</td><td>140.8</td><td> 95</td><td>3.92</td><td>3.150</td><td>22.90</td><td>1</td><td>0</td><td> 8</td><td>16</td></tr>\n",
       "\t<tr><td>4</td><td>4</td><td>19.2</td><td>6</td><td>167.6</td><td>123</td><td>3.92</td><td>3.440</td><td>18.30</td><td>1</td><td>0</td><td>12</td><td>24</td></tr>\n",
       "\t<tr><td>4</td><td>4</td><td>17.8</td><td>6</td><td>167.6</td><td>123</td><td>3.92</td><td>3.440</td><td>18.90</td><td>1</td><td>0</td><td>12</td><td>24</td></tr>\n",
       "\t<tr><td>3</td><td>3</td><td>16.4</td><td>8</td><td>275.8</td><td>180</td><td>3.07</td><td>4.070</td><td>17.40</td><td>0</td><td>0</td><td>16</td><td>32</td></tr>\n",
       "\t<tr><td>3</td><td>3</td><td>17.3</td><td>8</td><td>275.8</td><td>180</td><td>3.07</td><td>3.730</td><td>17.60</td><td>0</td><td>0</td><td>16</td><td>32</td></tr>\n",
       "\t<tr><td>3</td><td>3</td><td>15.2</td><td>8</td><td>275.8</td><td>180</td><td>3.07</td><td>3.780</td><td>18.00</td><td>0</td><td>0</td><td>16</td><td>32</td></tr>\n",
       "\t<tr><td>3</td><td>4</td><td>10.4</td><td>8</td><td>472.0</td><td>205</td><td>2.93</td><td>5.250</td><td>17.98</td><td>0</td><td>0</td><td>16</td><td>32</td></tr>\n",
       "\t<tr><td>3</td><td>4</td><td>10.4</td><td>8</td><td>460.0</td><td>215</td><td>3.00</td><td>5.424</td><td>17.82</td><td>0</td><td>0</td><td>16</td><td>32</td></tr>\n",
       "\t<tr><td>3</td><td>4</td><td>14.7</td><td>8</td><td>440.0</td><td>230</td><td>3.23</td><td>5.345</td><td>17.42</td><td>0</td><td>0</td><td>16</td><td>32</td></tr>\n",
       "\t<tr><td>4</td><td>1</td><td>32.4</td><td>4</td><td> 78.7</td><td> 66</td><td>4.08</td><td>2.200</td><td>19.47</td><td>1</td><td>1</td><td> 8</td><td>16</td></tr>\n",
       "\t<tr><td>4</td><td>2</td><td>30.4</td><td>4</td><td> 75.7</td><td> 52</td><td>4.93</td><td>1.615</td><td>18.52</td><td>1</td><td>1</td><td> 8</td><td>16</td></tr>\n",
       "\t<tr><td>4</td><td>1</td><td>33.9</td><td>4</td><td> 71.1</td><td> 65</td><td>4.22</td><td>1.835</td><td>19.90</td><td>1</td><td>1</td><td> 8</td><td>16</td></tr>\n",
       "\t<tr><td>3</td><td>1</td><td>21.5</td><td>4</td><td>120.1</td><td> 97</td><td>3.70</td><td>2.465</td><td>20.01</td><td>1</td><td>0</td><td> 8</td><td>16</td></tr>\n",
       "\t<tr><td>3</td><td>2</td><td>15.5</td><td>8</td><td>318.0</td><td>150</td><td>2.76</td><td>3.520</td><td>16.87</td><td>0</td><td>0</td><td>16</td><td>32</td></tr>\n",
       "\t<tr><td>3</td><td>2</td><td>15.2</td><td>8</td><td>304.0</td><td>150</td><td>3.15</td><td>3.435</td><td>17.30</td><td>0</td><td>0</td><td>16</td><td>32</td></tr>\n",
       "\t<tr><td>3</td><td>4</td><td>13.3</td><td>8</td><td>350.0</td><td>245</td><td>3.73</td><td>3.840</td><td>15.41</td><td>0</td><td>0</td><td>16</td><td>32</td></tr>\n",
       "\t<tr><td>3</td><td>2</td><td>19.2</td><td>8</td><td>400.0</td><td>175</td><td>3.08</td><td>3.845</td><td>17.05</td><td>0</td><td>0</td><td>16</td><td>32</td></tr>\n",
       "\t<tr><td>4</td><td>1</td><td>27.3</td><td>4</td><td> 79.0</td><td> 66</td><td>4.08</td><td>1.935</td><td>18.90</td><td>1</td><td>1</td><td> 8</td><td>16</td></tr>\n",
       "\t<tr><td>5</td><td>2</td><td>26.0</td><td>4</td><td>120.3</td><td> 91</td><td>4.43</td><td>2.140</td><td>16.70</td><td>0</td><td>1</td><td> 8</td><td>16</td></tr>\n",
       "\t<tr><td>5</td><td>2</td><td>30.4</td><td>4</td><td> 95.1</td><td>113</td><td>3.77</td><td>1.513</td><td>16.90</td><td>1</td><td>1</td><td> 8</td><td>16</td></tr>\n",
       "\t<tr><td>5</td><td>4</td><td>15.8</td><td>8</td><td>351.0</td><td>264</td><td>4.22</td><td>3.170</td><td>14.50</td><td>0</td><td>1</td><td>16</td><td>32</td></tr>\n",
       "\t<tr><td>5</td><td>6</td><td>19.7</td><td>6</td><td>145.0</td><td>175</td><td>3.62</td><td>2.770</td><td>15.50</td><td>0</td><td>1</td><td>12</td><td>24</td></tr>\n",
       "\t<tr><td>5</td><td>8</td><td>15.0</td><td>8</td><td>301.0</td><td>335</td><td>3.54</td><td>3.570</td><td>14.60</td><td>0</td><td>1</td><td>16</td><td>32</td></tr>\n",
       "\t<tr><td>4</td><td>2</td><td>21.4</td><td>4</td><td>121.0</td><td>109</td><td>4.11</td><td>2.780</td><td>18.60</td><td>1</td><td>1</td><td> 8</td><td>16</td></tr>\n",
       "</tbody>\n",
       "</table>\n"
      ],
      "text/latex": [
       "A tibble: 32 × 13\n",
       "\\begin{tabular}{lllllllllllll}\n",
       " gear & carb & mpg & cyl & disp & hp & drat & wt & qsec & vs & am & cyl2 & cyl4\\\\\n",
       " <dbl> & <dbl> & <dbl> & <dbl> & <dbl> & <dbl> & <dbl> & <dbl> & <dbl> & <dbl> & <dbl> & <dbl> & <dbl>\\\\\n",
       "\\hline\n",
       "\t 4 & 4 & 21.0 & 6 & 160.0 & 110 & 3.90 & 2.620 & 16.46 & 0 & 1 & 12 & 24\\\\\n",
       "\t 4 & 4 & 21.0 & 6 & 160.0 & 110 & 3.90 & 2.875 & 17.02 & 0 & 1 & 12 & 24\\\\\n",
       "\t 4 & 1 & 22.8 & 4 & 108.0 &  93 & 3.85 & 2.320 & 18.61 & 1 & 1 &  8 & 16\\\\\n",
       "\t 3 & 1 & 21.4 & 6 & 258.0 & 110 & 3.08 & 3.215 & 19.44 & 1 & 0 & 12 & 24\\\\\n",
       "\t 3 & 2 & 18.7 & 8 & 360.0 & 175 & 3.15 & 3.440 & 17.02 & 0 & 0 & 16 & 32\\\\\n",
       "\t 3 & 1 & 18.1 & 6 & 225.0 & 105 & 2.76 & 3.460 & 20.22 & 1 & 0 & 12 & 24\\\\\n",
       "\t 3 & 4 & 14.3 & 8 & 360.0 & 245 & 3.21 & 3.570 & 15.84 & 0 & 0 & 16 & 32\\\\\n",
       "\t 4 & 2 & 24.4 & 4 & 146.7 &  62 & 3.69 & 3.190 & 20.00 & 1 & 0 &  8 & 16\\\\\n",
       "\t 4 & 2 & 22.8 & 4 & 140.8 &  95 & 3.92 & 3.150 & 22.90 & 1 & 0 &  8 & 16\\\\\n",
       "\t 4 & 4 & 19.2 & 6 & 167.6 & 123 & 3.92 & 3.440 & 18.30 & 1 & 0 & 12 & 24\\\\\n",
       "\t 4 & 4 & 17.8 & 6 & 167.6 & 123 & 3.92 & 3.440 & 18.90 & 1 & 0 & 12 & 24\\\\\n",
       "\t 3 & 3 & 16.4 & 8 & 275.8 & 180 & 3.07 & 4.070 & 17.40 & 0 & 0 & 16 & 32\\\\\n",
       "\t 3 & 3 & 17.3 & 8 & 275.8 & 180 & 3.07 & 3.730 & 17.60 & 0 & 0 & 16 & 32\\\\\n",
       "\t 3 & 3 & 15.2 & 8 & 275.8 & 180 & 3.07 & 3.780 & 18.00 & 0 & 0 & 16 & 32\\\\\n",
       "\t 3 & 4 & 10.4 & 8 & 472.0 & 205 & 2.93 & 5.250 & 17.98 & 0 & 0 & 16 & 32\\\\\n",
       "\t 3 & 4 & 10.4 & 8 & 460.0 & 215 & 3.00 & 5.424 & 17.82 & 0 & 0 & 16 & 32\\\\\n",
       "\t 3 & 4 & 14.7 & 8 & 440.0 & 230 & 3.23 & 5.345 & 17.42 & 0 & 0 & 16 & 32\\\\\n",
       "\t 4 & 1 & 32.4 & 4 &  78.7 &  66 & 4.08 & 2.200 & 19.47 & 1 & 1 &  8 & 16\\\\\n",
       "\t 4 & 2 & 30.4 & 4 &  75.7 &  52 & 4.93 & 1.615 & 18.52 & 1 & 1 &  8 & 16\\\\\n",
       "\t 4 & 1 & 33.9 & 4 &  71.1 &  65 & 4.22 & 1.835 & 19.90 & 1 & 1 &  8 & 16\\\\\n",
       "\t 3 & 1 & 21.5 & 4 & 120.1 &  97 & 3.70 & 2.465 & 20.01 & 1 & 0 &  8 & 16\\\\\n",
       "\t 3 & 2 & 15.5 & 8 & 318.0 & 150 & 2.76 & 3.520 & 16.87 & 0 & 0 & 16 & 32\\\\\n",
       "\t 3 & 2 & 15.2 & 8 & 304.0 & 150 & 3.15 & 3.435 & 17.30 & 0 & 0 & 16 & 32\\\\\n",
       "\t 3 & 4 & 13.3 & 8 & 350.0 & 245 & 3.73 & 3.840 & 15.41 & 0 & 0 & 16 & 32\\\\\n",
       "\t 3 & 2 & 19.2 & 8 & 400.0 & 175 & 3.08 & 3.845 & 17.05 & 0 & 0 & 16 & 32\\\\\n",
       "\t 4 & 1 & 27.3 & 4 &  79.0 &  66 & 4.08 & 1.935 & 18.90 & 1 & 1 &  8 & 16\\\\\n",
       "\t 5 & 2 & 26.0 & 4 & 120.3 &  91 & 4.43 & 2.140 & 16.70 & 0 & 1 &  8 & 16\\\\\n",
       "\t 5 & 2 & 30.4 & 4 &  95.1 & 113 & 3.77 & 1.513 & 16.90 & 1 & 1 &  8 & 16\\\\\n",
       "\t 5 & 4 & 15.8 & 8 & 351.0 & 264 & 4.22 & 3.170 & 14.50 & 0 & 1 & 16 & 32\\\\\n",
       "\t 5 & 6 & 19.7 & 6 & 145.0 & 175 & 3.62 & 2.770 & 15.50 & 0 & 1 & 12 & 24\\\\\n",
       "\t 5 & 8 & 15.0 & 8 & 301.0 & 335 & 3.54 & 3.570 & 14.60 & 0 & 1 & 16 & 32\\\\\n",
       "\t 4 & 2 & 21.4 & 4 & 121.0 & 109 & 4.11 & 2.780 & 18.60 & 1 & 1 &  8 & 16\\\\\n",
       "\\end{tabular}\n"
      ],
      "text/markdown": [
       "\n",
       "A tibble: 32 × 13\n",
       "\n",
       "| gear &lt;dbl&gt; | carb &lt;dbl&gt; | mpg &lt;dbl&gt; | cyl &lt;dbl&gt; | disp &lt;dbl&gt; | hp &lt;dbl&gt; | drat &lt;dbl&gt; | wt &lt;dbl&gt; | qsec &lt;dbl&gt; | vs &lt;dbl&gt; | am &lt;dbl&gt; | cyl2 &lt;dbl&gt; | cyl4 &lt;dbl&gt; |\n",
       "|---|---|---|---|---|---|---|---|---|---|---|---|---|\n",
       "| 4 | 4 | 21.0 | 6 | 160.0 | 110 | 3.90 | 2.620 | 16.46 | 0 | 1 | 12 | 24 |\n",
       "| 4 | 4 | 21.0 | 6 | 160.0 | 110 | 3.90 | 2.875 | 17.02 | 0 | 1 | 12 | 24 |\n",
       "| 4 | 1 | 22.8 | 4 | 108.0 |  93 | 3.85 | 2.320 | 18.61 | 1 | 1 |  8 | 16 |\n",
       "| 3 | 1 | 21.4 | 6 | 258.0 | 110 | 3.08 | 3.215 | 19.44 | 1 | 0 | 12 | 24 |\n",
       "| 3 | 2 | 18.7 | 8 | 360.0 | 175 | 3.15 | 3.440 | 17.02 | 0 | 0 | 16 | 32 |\n",
       "| 3 | 1 | 18.1 | 6 | 225.0 | 105 | 2.76 | 3.460 | 20.22 | 1 | 0 | 12 | 24 |\n",
       "| 3 | 4 | 14.3 | 8 | 360.0 | 245 | 3.21 | 3.570 | 15.84 | 0 | 0 | 16 | 32 |\n",
       "| 4 | 2 | 24.4 | 4 | 146.7 |  62 | 3.69 | 3.190 | 20.00 | 1 | 0 |  8 | 16 |\n",
       "| 4 | 2 | 22.8 | 4 | 140.8 |  95 | 3.92 | 3.150 | 22.90 | 1 | 0 |  8 | 16 |\n",
       "| 4 | 4 | 19.2 | 6 | 167.6 | 123 | 3.92 | 3.440 | 18.30 | 1 | 0 | 12 | 24 |\n",
       "| 4 | 4 | 17.8 | 6 | 167.6 | 123 | 3.92 | 3.440 | 18.90 | 1 | 0 | 12 | 24 |\n",
       "| 3 | 3 | 16.4 | 8 | 275.8 | 180 | 3.07 | 4.070 | 17.40 | 0 | 0 | 16 | 32 |\n",
       "| 3 | 3 | 17.3 | 8 | 275.8 | 180 | 3.07 | 3.730 | 17.60 | 0 | 0 | 16 | 32 |\n",
       "| 3 | 3 | 15.2 | 8 | 275.8 | 180 | 3.07 | 3.780 | 18.00 | 0 | 0 | 16 | 32 |\n",
       "| 3 | 4 | 10.4 | 8 | 472.0 | 205 | 2.93 | 5.250 | 17.98 | 0 | 0 | 16 | 32 |\n",
       "| 3 | 4 | 10.4 | 8 | 460.0 | 215 | 3.00 | 5.424 | 17.82 | 0 | 0 | 16 | 32 |\n",
       "| 3 | 4 | 14.7 | 8 | 440.0 | 230 | 3.23 | 5.345 | 17.42 | 0 | 0 | 16 | 32 |\n",
       "| 4 | 1 | 32.4 | 4 |  78.7 |  66 | 4.08 | 2.200 | 19.47 | 1 | 1 |  8 | 16 |\n",
       "| 4 | 2 | 30.4 | 4 |  75.7 |  52 | 4.93 | 1.615 | 18.52 | 1 | 1 |  8 | 16 |\n",
       "| 4 | 1 | 33.9 | 4 |  71.1 |  65 | 4.22 | 1.835 | 19.90 | 1 | 1 |  8 | 16 |\n",
       "| 3 | 1 | 21.5 | 4 | 120.1 |  97 | 3.70 | 2.465 | 20.01 | 1 | 0 |  8 | 16 |\n",
       "| 3 | 2 | 15.5 | 8 | 318.0 | 150 | 2.76 | 3.520 | 16.87 | 0 | 0 | 16 | 32 |\n",
       "| 3 | 2 | 15.2 | 8 | 304.0 | 150 | 3.15 | 3.435 | 17.30 | 0 | 0 | 16 | 32 |\n",
       "| 3 | 4 | 13.3 | 8 | 350.0 | 245 | 3.73 | 3.840 | 15.41 | 0 | 0 | 16 | 32 |\n",
       "| 3 | 2 | 19.2 | 8 | 400.0 | 175 | 3.08 | 3.845 | 17.05 | 0 | 0 | 16 | 32 |\n",
       "| 4 | 1 | 27.3 | 4 |  79.0 |  66 | 4.08 | 1.935 | 18.90 | 1 | 1 |  8 | 16 |\n",
       "| 5 | 2 | 26.0 | 4 | 120.3 |  91 | 4.43 | 2.140 | 16.70 | 0 | 1 |  8 | 16 |\n",
       "| 5 | 2 | 30.4 | 4 |  95.1 | 113 | 3.77 | 1.513 | 16.90 | 1 | 1 |  8 | 16 |\n",
       "| 5 | 4 | 15.8 | 8 | 351.0 | 264 | 4.22 | 3.170 | 14.50 | 0 | 1 | 16 | 32 |\n",
       "| 5 | 6 | 19.7 | 6 | 145.0 | 175 | 3.62 | 2.770 | 15.50 | 0 | 1 | 12 | 24 |\n",
       "| 5 | 8 | 15.0 | 8 | 301.0 | 335 | 3.54 | 3.570 | 14.60 | 0 | 1 | 16 | 32 |\n",
       "| 4 | 2 | 21.4 | 4 | 121.0 | 109 | 4.11 | 2.780 | 18.60 | 1 | 1 |  8 | 16 |\n",
       "\n"
      ],
      "text/plain": [
       "   gear carb mpg  cyl disp  hp  drat wt    qsec  vs am cyl2 cyl4\n",
       "1  4    4    21.0 6   160.0 110 3.90 2.620 16.46 0  1  12   24  \n",
       "2  4    4    21.0 6   160.0 110 3.90 2.875 17.02 0  1  12   24  \n",
       "3  4    1    22.8 4   108.0  93 3.85 2.320 18.61 1  1   8   16  \n",
       "4  3    1    21.4 6   258.0 110 3.08 3.215 19.44 1  0  12   24  \n",
       "5  3    2    18.7 8   360.0 175 3.15 3.440 17.02 0  0  16   32  \n",
       "6  3    1    18.1 6   225.0 105 2.76 3.460 20.22 1  0  12   24  \n",
       "7  3    4    14.3 8   360.0 245 3.21 3.570 15.84 0  0  16   32  \n",
       "8  4    2    24.4 4   146.7  62 3.69 3.190 20.00 1  0   8   16  \n",
       "9  4    2    22.8 4   140.8  95 3.92 3.150 22.90 1  0   8   16  \n",
       "10 4    4    19.2 6   167.6 123 3.92 3.440 18.30 1  0  12   24  \n",
       "11 4    4    17.8 6   167.6 123 3.92 3.440 18.90 1  0  12   24  \n",
       "12 3    3    16.4 8   275.8 180 3.07 4.070 17.40 0  0  16   32  \n",
       "13 3    3    17.3 8   275.8 180 3.07 3.730 17.60 0  0  16   32  \n",
       "14 3    3    15.2 8   275.8 180 3.07 3.780 18.00 0  0  16   32  \n",
       "15 3    4    10.4 8   472.0 205 2.93 5.250 17.98 0  0  16   32  \n",
       "16 3    4    10.4 8   460.0 215 3.00 5.424 17.82 0  0  16   32  \n",
       "17 3    4    14.7 8   440.0 230 3.23 5.345 17.42 0  0  16   32  \n",
       "18 4    1    32.4 4    78.7  66 4.08 2.200 19.47 1  1   8   16  \n",
       "19 4    2    30.4 4    75.7  52 4.93 1.615 18.52 1  1   8   16  \n",
       "20 4    1    33.9 4    71.1  65 4.22 1.835 19.90 1  1   8   16  \n",
       "21 3    1    21.5 4   120.1  97 3.70 2.465 20.01 1  0   8   16  \n",
       "22 3    2    15.5 8   318.0 150 2.76 3.520 16.87 0  0  16   32  \n",
       "23 3    2    15.2 8   304.0 150 3.15 3.435 17.30 0  0  16   32  \n",
       "24 3    4    13.3 8   350.0 245 3.73 3.840 15.41 0  0  16   32  \n",
       "25 3    2    19.2 8   400.0 175 3.08 3.845 17.05 0  0  16   32  \n",
       "26 4    1    27.3 4    79.0  66 4.08 1.935 18.90 1  1   8   16  \n",
       "27 5    2    26.0 4   120.3  91 4.43 2.140 16.70 0  1   8   16  \n",
       "28 5    2    30.4 4    95.1 113 3.77 1.513 16.90 1  1   8   16  \n",
       "29 5    4    15.8 8   351.0 264 4.22 3.170 14.50 0  1  16   32  \n",
       "30 5    6    19.7 6   145.0 175 3.62 2.770 15.50 0  1  12   24  \n",
       "31 5    8    15.0 8   301.0 335 3.54 3.570 14.60 0  1  16   32  \n",
       "32 4    2    21.4 4   121.0 109 4.11 2.780 18.60 1  1   8   16  "
      ]
     },
     "metadata": {},
     "output_type": "display_data"
    },
    {
     "data": {
      "text/html": [
       "<table class=\"dataframe\">\n",
       "<caption>A tibble: 32 × 13</caption>\n",
       "<thead>\n",
       "\t<tr><th scope=col>disp</th><th scope=col>hp</th><th scope=col>drat</th><th scope=col>wt</th><th scope=col>qsec</th><th scope=col>vs</th><th scope=col>am</th><th scope=col>gear</th><th scope=col>carb</th><th scope=col>cyl2</th><th scope=col>cyl4</th><th scope=col>mpg</th><th scope=col>cyl</th></tr>\n",
       "\t<tr><th scope=col>&lt;dbl&gt;</th><th scope=col>&lt;dbl&gt;</th><th scope=col>&lt;dbl&gt;</th><th scope=col>&lt;dbl&gt;</th><th scope=col>&lt;dbl&gt;</th><th scope=col>&lt;dbl&gt;</th><th scope=col>&lt;dbl&gt;</th><th scope=col>&lt;dbl&gt;</th><th scope=col>&lt;dbl&gt;</th><th scope=col>&lt;dbl&gt;</th><th scope=col>&lt;dbl&gt;</th><th scope=col>&lt;dbl&gt;</th><th scope=col>&lt;dbl&gt;</th></tr>\n",
       "</thead>\n",
       "<tbody>\n",
       "\t<tr><td>160.0</td><td>110</td><td>3.90</td><td>2.620</td><td>16.46</td><td>0</td><td>1</td><td>4</td><td>4</td><td>12</td><td>24</td><td>21.0</td><td>6</td></tr>\n",
       "\t<tr><td>160.0</td><td>110</td><td>3.90</td><td>2.875</td><td>17.02</td><td>0</td><td>1</td><td>4</td><td>4</td><td>12</td><td>24</td><td>21.0</td><td>6</td></tr>\n",
       "\t<tr><td>108.0</td><td> 93</td><td>3.85</td><td>2.320</td><td>18.61</td><td>1</td><td>1</td><td>4</td><td>1</td><td> 8</td><td>16</td><td>22.8</td><td>4</td></tr>\n",
       "\t<tr><td>258.0</td><td>110</td><td>3.08</td><td>3.215</td><td>19.44</td><td>1</td><td>0</td><td>3</td><td>1</td><td>12</td><td>24</td><td>21.4</td><td>6</td></tr>\n",
       "\t<tr><td>360.0</td><td>175</td><td>3.15</td><td>3.440</td><td>17.02</td><td>0</td><td>0</td><td>3</td><td>2</td><td>16</td><td>32</td><td>18.7</td><td>8</td></tr>\n",
       "\t<tr><td>225.0</td><td>105</td><td>2.76</td><td>3.460</td><td>20.22</td><td>1</td><td>0</td><td>3</td><td>1</td><td>12</td><td>24</td><td>18.1</td><td>6</td></tr>\n",
       "\t<tr><td>360.0</td><td>245</td><td>3.21</td><td>3.570</td><td>15.84</td><td>0</td><td>0</td><td>3</td><td>4</td><td>16</td><td>32</td><td>14.3</td><td>8</td></tr>\n",
       "\t<tr><td>146.7</td><td> 62</td><td>3.69</td><td>3.190</td><td>20.00</td><td>1</td><td>0</td><td>4</td><td>2</td><td> 8</td><td>16</td><td>24.4</td><td>4</td></tr>\n",
       "\t<tr><td>140.8</td><td> 95</td><td>3.92</td><td>3.150</td><td>22.90</td><td>1</td><td>0</td><td>4</td><td>2</td><td> 8</td><td>16</td><td>22.8</td><td>4</td></tr>\n",
       "\t<tr><td>167.6</td><td>123</td><td>3.92</td><td>3.440</td><td>18.30</td><td>1</td><td>0</td><td>4</td><td>4</td><td>12</td><td>24</td><td>19.2</td><td>6</td></tr>\n",
       "\t<tr><td>167.6</td><td>123</td><td>3.92</td><td>3.440</td><td>18.90</td><td>1</td><td>0</td><td>4</td><td>4</td><td>12</td><td>24</td><td>17.8</td><td>6</td></tr>\n",
       "\t<tr><td>275.8</td><td>180</td><td>3.07</td><td>4.070</td><td>17.40</td><td>0</td><td>0</td><td>3</td><td>3</td><td>16</td><td>32</td><td>16.4</td><td>8</td></tr>\n",
       "\t<tr><td>275.8</td><td>180</td><td>3.07</td><td>3.730</td><td>17.60</td><td>0</td><td>0</td><td>3</td><td>3</td><td>16</td><td>32</td><td>17.3</td><td>8</td></tr>\n",
       "\t<tr><td>275.8</td><td>180</td><td>3.07</td><td>3.780</td><td>18.00</td><td>0</td><td>0</td><td>3</td><td>3</td><td>16</td><td>32</td><td>15.2</td><td>8</td></tr>\n",
       "\t<tr><td>472.0</td><td>205</td><td>2.93</td><td>5.250</td><td>17.98</td><td>0</td><td>0</td><td>3</td><td>4</td><td>16</td><td>32</td><td>10.4</td><td>8</td></tr>\n",
       "\t<tr><td>460.0</td><td>215</td><td>3.00</td><td>5.424</td><td>17.82</td><td>0</td><td>0</td><td>3</td><td>4</td><td>16</td><td>32</td><td>10.4</td><td>8</td></tr>\n",
       "\t<tr><td>440.0</td><td>230</td><td>3.23</td><td>5.345</td><td>17.42</td><td>0</td><td>0</td><td>3</td><td>4</td><td>16</td><td>32</td><td>14.7</td><td>8</td></tr>\n",
       "\t<tr><td> 78.7</td><td> 66</td><td>4.08</td><td>2.200</td><td>19.47</td><td>1</td><td>1</td><td>4</td><td>1</td><td> 8</td><td>16</td><td>32.4</td><td>4</td></tr>\n",
       "\t<tr><td> 75.7</td><td> 52</td><td>4.93</td><td>1.615</td><td>18.52</td><td>1</td><td>1</td><td>4</td><td>2</td><td> 8</td><td>16</td><td>30.4</td><td>4</td></tr>\n",
       "\t<tr><td> 71.1</td><td> 65</td><td>4.22</td><td>1.835</td><td>19.90</td><td>1</td><td>1</td><td>4</td><td>1</td><td> 8</td><td>16</td><td>33.9</td><td>4</td></tr>\n",
       "\t<tr><td>120.1</td><td> 97</td><td>3.70</td><td>2.465</td><td>20.01</td><td>1</td><td>0</td><td>3</td><td>1</td><td> 8</td><td>16</td><td>21.5</td><td>4</td></tr>\n",
       "\t<tr><td>318.0</td><td>150</td><td>2.76</td><td>3.520</td><td>16.87</td><td>0</td><td>0</td><td>3</td><td>2</td><td>16</td><td>32</td><td>15.5</td><td>8</td></tr>\n",
       "\t<tr><td>304.0</td><td>150</td><td>3.15</td><td>3.435</td><td>17.30</td><td>0</td><td>0</td><td>3</td><td>2</td><td>16</td><td>32</td><td>15.2</td><td>8</td></tr>\n",
       "\t<tr><td>350.0</td><td>245</td><td>3.73</td><td>3.840</td><td>15.41</td><td>0</td><td>0</td><td>3</td><td>4</td><td>16</td><td>32</td><td>13.3</td><td>8</td></tr>\n",
       "\t<tr><td>400.0</td><td>175</td><td>3.08</td><td>3.845</td><td>17.05</td><td>0</td><td>0</td><td>3</td><td>2</td><td>16</td><td>32</td><td>19.2</td><td>8</td></tr>\n",
       "\t<tr><td> 79.0</td><td> 66</td><td>4.08</td><td>1.935</td><td>18.90</td><td>1</td><td>1</td><td>4</td><td>1</td><td> 8</td><td>16</td><td>27.3</td><td>4</td></tr>\n",
       "\t<tr><td>120.3</td><td> 91</td><td>4.43</td><td>2.140</td><td>16.70</td><td>0</td><td>1</td><td>5</td><td>2</td><td> 8</td><td>16</td><td>26.0</td><td>4</td></tr>\n",
       "\t<tr><td> 95.1</td><td>113</td><td>3.77</td><td>1.513</td><td>16.90</td><td>1</td><td>1</td><td>5</td><td>2</td><td> 8</td><td>16</td><td>30.4</td><td>4</td></tr>\n",
       "\t<tr><td>351.0</td><td>264</td><td>4.22</td><td>3.170</td><td>14.50</td><td>0</td><td>1</td><td>5</td><td>4</td><td>16</td><td>32</td><td>15.8</td><td>8</td></tr>\n",
       "\t<tr><td>145.0</td><td>175</td><td>3.62</td><td>2.770</td><td>15.50</td><td>0</td><td>1</td><td>5</td><td>6</td><td>12</td><td>24</td><td>19.7</td><td>6</td></tr>\n",
       "\t<tr><td>301.0</td><td>335</td><td>3.54</td><td>3.570</td><td>14.60</td><td>0</td><td>1</td><td>5</td><td>8</td><td>16</td><td>32</td><td>15.0</td><td>8</td></tr>\n",
       "\t<tr><td>121.0</td><td>109</td><td>4.11</td><td>2.780</td><td>18.60</td><td>1</td><td>1</td><td>4</td><td>2</td><td> 8</td><td>16</td><td>21.4</td><td>4</td></tr>\n",
       "</tbody>\n",
       "</table>\n"
      ],
      "text/latex": [
       "A tibble: 32 × 13\n",
       "\\begin{tabular}{lllllllllllll}\n",
       " disp & hp & drat & wt & qsec & vs & am & gear & carb & cyl2 & cyl4 & mpg & cyl\\\\\n",
       " <dbl> & <dbl> & <dbl> & <dbl> & <dbl> & <dbl> & <dbl> & <dbl> & <dbl> & <dbl> & <dbl> & <dbl> & <dbl>\\\\\n",
       "\\hline\n",
       "\t 160.0 & 110 & 3.90 & 2.620 & 16.46 & 0 & 1 & 4 & 4 & 12 & 24 & 21.0 & 6\\\\\n",
       "\t 160.0 & 110 & 3.90 & 2.875 & 17.02 & 0 & 1 & 4 & 4 & 12 & 24 & 21.0 & 6\\\\\n",
       "\t 108.0 &  93 & 3.85 & 2.320 & 18.61 & 1 & 1 & 4 & 1 &  8 & 16 & 22.8 & 4\\\\\n",
       "\t 258.0 & 110 & 3.08 & 3.215 & 19.44 & 1 & 0 & 3 & 1 & 12 & 24 & 21.4 & 6\\\\\n",
       "\t 360.0 & 175 & 3.15 & 3.440 & 17.02 & 0 & 0 & 3 & 2 & 16 & 32 & 18.7 & 8\\\\\n",
       "\t 225.0 & 105 & 2.76 & 3.460 & 20.22 & 1 & 0 & 3 & 1 & 12 & 24 & 18.1 & 6\\\\\n",
       "\t 360.0 & 245 & 3.21 & 3.570 & 15.84 & 0 & 0 & 3 & 4 & 16 & 32 & 14.3 & 8\\\\\n",
       "\t 146.7 &  62 & 3.69 & 3.190 & 20.00 & 1 & 0 & 4 & 2 &  8 & 16 & 24.4 & 4\\\\\n",
       "\t 140.8 &  95 & 3.92 & 3.150 & 22.90 & 1 & 0 & 4 & 2 &  8 & 16 & 22.8 & 4\\\\\n",
       "\t 167.6 & 123 & 3.92 & 3.440 & 18.30 & 1 & 0 & 4 & 4 & 12 & 24 & 19.2 & 6\\\\\n",
       "\t 167.6 & 123 & 3.92 & 3.440 & 18.90 & 1 & 0 & 4 & 4 & 12 & 24 & 17.8 & 6\\\\\n",
       "\t 275.8 & 180 & 3.07 & 4.070 & 17.40 & 0 & 0 & 3 & 3 & 16 & 32 & 16.4 & 8\\\\\n",
       "\t 275.8 & 180 & 3.07 & 3.730 & 17.60 & 0 & 0 & 3 & 3 & 16 & 32 & 17.3 & 8\\\\\n",
       "\t 275.8 & 180 & 3.07 & 3.780 & 18.00 & 0 & 0 & 3 & 3 & 16 & 32 & 15.2 & 8\\\\\n",
       "\t 472.0 & 205 & 2.93 & 5.250 & 17.98 & 0 & 0 & 3 & 4 & 16 & 32 & 10.4 & 8\\\\\n",
       "\t 460.0 & 215 & 3.00 & 5.424 & 17.82 & 0 & 0 & 3 & 4 & 16 & 32 & 10.4 & 8\\\\\n",
       "\t 440.0 & 230 & 3.23 & 5.345 & 17.42 & 0 & 0 & 3 & 4 & 16 & 32 & 14.7 & 8\\\\\n",
       "\t  78.7 &  66 & 4.08 & 2.200 & 19.47 & 1 & 1 & 4 & 1 &  8 & 16 & 32.4 & 4\\\\\n",
       "\t  75.7 &  52 & 4.93 & 1.615 & 18.52 & 1 & 1 & 4 & 2 &  8 & 16 & 30.4 & 4\\\\\n",
       "\t  71.1 &  65 & 4.22 & 1.835 & 19.90 & 1 & 1 & 4 & 1 &  8 & 16 & 33.9 & 4\\\\\n",
       "\t 120.1 &  97 & 3.70 & 2.465 & 20.01 & 1 & 0 & 3 & 1 &  8 & 16 & 21.5 & 4\\\\\n",
       "\t 318.0 & 150 & 2.76 & 3.520 & 16.87 & 0 & 0 & 3 & 2 & 16 & 32 & 15.5 & 8\\\\\n",
       "\t 304.0 & 150 & 3.15 & 3.435 & 17.30 & 0 & 0 & 3 & 2 & 16 & 32 & 15.2 & 8\\\\\n",
       "\t 350.0 & 245 & 3.73 & 3.840 & 15.41 & 0 & 0 & 3 & 4 & 16 & 32 & 13.3 & 8\\\\\n",
       "\t 400.0 & 175 & 3.08 & 3.845 & 17.05 & 0 & 0 & 3 & 2 & 16 & 32 & 19.2 & 8\\\\\n",
       "\t  79.0 &  66 & 4.08 & 1.935 & 18.90 & 1 & 1 & 4 & 1 &  8 & 16 & 27.3 & 4\\\\\n",
       "\t 120.3 &  91 & 4.43 & 2.140 & 16.70 & 0 & 1 & 5 & 2 &  8 & 16 & 26.0 & 4\\\\\n",
       "\t  95.1 & 113 & 3.77 & 1.513 & 16.90 & 1 & 1 & 5 & 2 &  8 & 16 & 30.4 & 4\\\\\n",
       "\t 351.0 & 264 & 4.22 & 3.170 & 14.50 & 0 & 1 & 5 & 4 & 16 & 32 & 15.8 & 8\\\\\n",
       "\t 145.0 & 175 & 3.62 & 2.770 & 15.50 & 0 & 1 & 5 & 6 & 12 & 24 & 19.7 & 6\\\\\n",
       "\t 301.0 & 335 & 3.54 & 3.570 & 14.60 & 0 & 1 & 5 & 8 & 16 & 32 & 15.0 & 8\\\\\n",
       "\t 121.0 & 109 & 4.11 & 2.780 & 18.60 & 1 & 1 & 4 & 2 &  8 & 16 & 21.4 & 4\\\\\n",
       "\\end{tabular}\n"
      ],
      "text/markdown": [
       "\n",
       "A tibble: 32 × 13\n",
       "\n",
       "| disp &lt;dbl&gt; | hp &lt;dbl&gt; | drat &lt;dbl&gt; | wt &lt;dbl&gt; | qsec &lt;dbl&gt; | vs &lt;dbl&gt; | am &lt;dbl&gt; | gear &lt;dbl&gt; | carb &lt;dbl&gt; | cyl2 &lt;dbl&gt; | cyl4 &lt;dbl&gt; | mpg &lt;dbl&gt; | cyl &lt;dbl&gt; |\n",
       "|---|---|---|---|---|---|---|---|---|---|---|---|---|\n",
       "| 160.0 | 110 | 3.90 | 2.620 | 16.46 | 0 | 1 | 4 | 4 | 12 | 24 | 21.0 | 6 |\n",
       "| 160.0 | 110 | 3.90 | 2.875 | 17.02 | 0 | 1 | 4 | 4 | 12 | 24 | 21.0 | 6 |\n",
       "| 108.0 |  93 | 3.85 | 2.320 | 18.61 | 1 | 1 | 4 | 1 |  8 | 16 | 22.8 | 4 |\n",
       "| 258.0 | 110 | 3.08 | 3.215 | 19.44 | 1 | 0 | 3 | 1 | 12 | 24 | 21.4 | 6 |\n",
       "| 360.0 | 175 | 3.15 | 3.440 | 17.02 | 0 | 0 | 3 | 2 | 16 | 32 | 18.7 | 8 |\n",
       "| 225.0 | 105 | 2.76 | 3.460 | 20.22 | 1 | 0 | 3 | 1 | 12 | 24 | 18.1 | 6 |\n",
       "| 360.0 | 245 | 3.21 | 3.570 | 15.84 | 0 | 0 | 3 | 4 | 16 | 32 | 14.3 | 8 |\n",
       "| 146.7 |  62 | 3.69 | 3.190 | 20.00 | 1 | 0 | 4 | 2 |  8 | 16 | 24.4 | 4 |\n",
       "| 140.8 |  95 | 3.92 | 3.150 | 22.90 | 1 | 0 | 4 | 2 |  8 | 16 | 22.8 | 4 |\n",
       "| 167.6 | 123 | 3.92 | 3.440 | 18.30 | 1 | 0 | 4 | 4 | 12 | 24 | 19.2 | 6 |\n",
       "| 167.6 | 123 | 3.92 | 3.440 | 18.90 | 1 | 0 | 4 | 4 | 12 | 24 | 17.8 | 6 |\n",
       "| 275.8 | 180 | 3.07 | 4.070 | 17.40 | 0 | 0 | 3 | 3 | 16 | 32 | 16.4 | 8 |\n",
       "| 275.8 | 180 | 3.07 | 3.730 | 17.60 | 0 | 0 | 3 | 3 | 16 | 32 | 17.3 | 8 |\n",
       "| 275.8 | 180 | 3.07 | 3.780 | 18.00 | 0 | 0 | 3 | 3 | 16 | 32 | 15.2 | 8 |\n",
       "| 472.0 | 205 | 2.93 | 5.250 | 17.98 | 0 | 0 | 3 | 4 | 16 | 32 | 10.4 | 8 |\n",
       "| 460.0 | 215 | 3.00 | 5.424 | 17.82 | 0 | 0 | 3 | 4 | 16 | 32 | 10.4 | 8 |\n",
       "| 440.0 | 230 | 3.23 | 5.345 | 17.42 | 0 | 0 | 3 | 4 | 16 | 32 | 14.7 | 8 |\n",
       "|  78.7 |  66 | 4.08 | 2.200 | 19.47 | 1 | 1 | 4 | 1 |  8 | 16 | 32.4 | 4 |\n",
       "|  75.7 |  52 | 4.93 | 1.615 | 18.52 | 1 | 1 | 4 | 2 |  8 | 16 | 30.4 | 4 |\n",
       "|  71.1 |  65 | 4.22 | 1.835 | 19.90 | 1 | 1 | 4 | 1 |  8 | 16 | 33.9 | 4 |\n",
       "| 120.1 |  97 | 3.70 | 2.465 | 20.01 | 1 | 0 | 3 | 1 |  8 | 16 | 21.5 | 4 |\n",
       "| 318.0 | 150 | 2.76 | 3.520 | 16.87 | 0 | 0 | 3 | 2 | 16 | 32 | 15.5 | 8 |\n",
       "| 304.0 | 150 | 3.15 | 3.435 | 17.30 | 0 | 0 | 3 | 2 | 16 | 32 | 15.2 | 8 |\n",
       "| 350.0 | 245 | 3.73 | 3.840 | 15.41 | 0 | 0 | 3 | 4 | 16 | 32 | 13.3 | 8 |\n",
       "| 400.0 | 175 | 3.08 | 3.845 | 17.05 | 0 | 0 | 3 | 2 | 16 | 32 | 19.2 | 8 |\n",
       "|  79.0 |  66 | 4.08 | 1.935 | 18.90 | 1 | 1 | 4 | 1 |  8 | 16 | 27.3 | 4 |\n",
       "| 120.3 |  91 | 4.43 | 2.140 | 16.70 | 0 | 1 | 5 | 2 |  8 | 16 | 26.0 | 4 |\n",
       "|  95.1 | 113 | 3.77 | 1.513 | 16.90 | 1 | 1 | 5 | 2 |  8 | 16 | 30.4 | 4 |\n",
       "| 351.0 | 264 | 4.22 | 3.170 | 14.50 | 0 | 1 | 5 | 4 | 16 | 32 | 15.8 | 8 |\n",
       "| 145.0 | 175 | 3.62 | 2.770 | 15.50 | 0 | 1 | 5 | 6 | 12 | 24 | 19.7 | 6 |\n",
       "| 301.0 | 335 | 3.54 | 3.570 | 14.60 | 0 | 1 | 5 | 8 | 16 | 32 | 15.0 | 8 |\n",
       "| 121.0 | 109 | 4.11 | 2.780 | 18.60 | 1 | 1 | 4 | 2 |  8 | 16 | 21.4 | 4 |\n",
       "\n"
      ],
      "text/plain": [
       "   disp  hp  drat wt    qsec  vs am gear carb cyl2 cyl4 mpg  cyl\n",
       "1  160.0 110 3.90 2.620 16.46 0  1  4    4    12   24   21.0 6  \n",
       "2  160.0 110 3.90 2.875 17.02 0  1  4    4    12   24   21.0 6  \n",
       "3  108.0  93 3.85 2.320 18.61 1  1  4    1     8   16   22.8 4  \n",
       "4  258.0 110 3.08 3.215 19.44 1  0  3    1    12   24   21.4 6  \n",
       "5  360.0 175 3.15 3.440 17.02 0  0  3    2    16   32   18.7 8  \n",
       "6  225.0 105 2.76 3.460 20.22 1  0  3    1    12   24   18.1 6  \n",
       "7  360.0 245 3.21 3.570 15.84 0  0  3    4    16   32   14.3 8  \n",
       "8  146.7  62 3.69 3.190 20.00 1  0  4    2     8   16   24.4 4  \n",
       "9  140.8  95 3.92 3.150 22.90 1  0  4    2     8   16   22.8 4  \n",
       "10 167.6 123 3.92 3.440 18.30 1  0  4    4    12   24   19.2 6  \n",
       "11 167.6 123 3.92 3.440 18.90 1  0  4    4    12   24   17.8 6  \n",
       "12 275.8 180 3.07 4.070 17.40 0  0  3    3    16   32   16.4 8  \n",
       "13 275.8 180 3.07 3.730 17.60 0  0  3    3    16   32   17.3 8  \n",
       "14 275.8 180 3.07 3.780 18.00 0  0  3    3    16   32   15.2 8  \n",
       "15 472.0 205 2.93 5.250 17.98 0  0  3    4    16   32   10.4 8  \n",
       "16 460.0 215 3.00 5.424 17.82 0  0  3    4    16   32   10.4 8  \n",
       "17 440.0 230 3.23 5.345 17.42 0  0  3    4    16   32   14.7 8  \n",
       "18  78.7  66 4.08 2.200 19.47 1  1  4    1     8   16   32.4 4  \n",
       "19  75.7  52 4.93 1.615 18.52 1  1  4    2     8   16   30.4 4  \n",
       "20  71.1  65 4.22 1.835 19.90 1  1  4    1     8   16   33.9 4  \n",
       "21 120.1  97 3.70 2.465 20.01 1  0  3    1     8   16   21.5 4  \n",
       "22 318.0 150 2.76 3.520 16.87 0  0  3    2    16   32   15.5 8  \n",
       "23 304.0 150 3.15 3.435 17.30 0  0  3    2    16   32   15.2 8  \n",
       "24 350.0 245 3.73 3.840 15.41 0  0  3    4    16   32   13.3 8  \n",
       "25 400.0 175 3.08 3.845 17.05 0  0  3    2    16   32   19.2 8  \n",
       "26  79.0  66 4.08 1.935 18.90 1  1  4    1     8   16   27.3 4  \n",
       "27 120.3  91 4.43 2.140 16.70 0  1  5    2     8   16   26.0 4  \n",
       "28  95.1 113 3.77 1.513 16.90 1  1  5    2     8   16   30.4 4  \n",
       "29 351.0 264 4.22 3.170 14.50 0  1  5    4    16   32   15.8 8  \n",
       "30 145.0 175 3.62 2.770 15.50 0  1  5    6    12   24   19.7 6  \n",
       "31 301.0 335 3.54 3.570 14.60 0  1  5    8    16   32   15.0 8  \n",
       "32 121.0 109 4.11 2.780 18.60 1  1  4    2     8   16   21.4 4  "
      ]
     },
     "metadata": {},
     "output_type": "display_data"
    }
   ],
   "source": [
    "mtcars[union(c(\"gear\", \"carb\"), names(mtcars))]\n",
    "\n",
    "to_back <- c(\"mpg\", \"cyl\")\n",
    "mtcars[c(setdiff(names(mtcars), to_back), to_back)]"
   ]
  },
  {
   "cell_type": "markdown",
   "id": "dfd4312f",
   "metadata": {},
   "source": [
    "## dplyr::rename()\n",
    "allows you to rename variables by name or position:"
   ]
  },
  {
   "cell_type": "code",
   "execution_count": 307,
   "id": "a959218e",
   "metadata": {},
   "outputs": [
    {
     "data": {
      "text/html": [
       "<table class=\"dataframe\">\n",
       "<caption>A tibble: 150 × 5</caption>\n",
       "<thead>\n",
       "\t<tr><th scope=col>Sepal.Length</th><th scope=col>Sepal.Width</th><th scope=col>Petal.Length</th><th scope=col>Petal.Width</th><th scope=col>Species</th></tr>\n",
       "\t<tr><th scope=col>&lt;dbl&gt;</th><th scope=col>&lt;dbl&gt;</th><th scope=col>&lt;dbl&gt;</th><th scope=col>&lt;dbl&gt;</th><th scope=col>&lt;fct&gt;</th></tr>\n",
       "</thead>\n",
       "<tbody>\n",
       "\t<tr><td>5.1</td><td>3.5</td><td>1.4</td><td>0.2</td><td>setosa</td></tr>\n",
       "\t<tr><td>4.9</td><td>3.0</td><td>1.4</td><td>0.2</td><td>setosa</td></tr>\n",
       "\t<tr><td>4.7</td><td>3.2</td><td>1.3</td><td>0.2</td><td>setosa</td></tr>\n",
       "\t<tr><td>4.6</td><td>3.1</td><td>1.5</td><td>0.2</td><td>setosa</td></tr>\n",
       "\t<tr><td>5.0</td><td>3.6</td><td>1.4</td><td>0.2</td><td>setosa</td></tr>\n",
       "\t<tr><td>5.4</td><td>3.9</td><td>1.7</td><td>0.4</td><td>setosa</td></tr>\n",
       "\t<tr><td>4.6</td><td>3.4</td><td>1.4</td><td>0.3</td><td>setosa</td></tr>\n",
       "\t<tr><td>5.0</td><td>3.4</td><td>1.5</td><td>0.2</td><td>setosa</td></tr>\n",
       "\t<tr><td>4.4</td><td>2.9</td><td>1.4</td><td>0.2</td><td>setosa</td></tr>\n",
       "\t<tr><td>4.9</td><td>3.1</td><td>1.5</td><td>0.1</td><td>setosa</td></tr>\n",
       "\t<tr><td>5.4</td><td>3.7</td><td>1.5</td><td>0.2</td><td>setosa</td></tr>\n",
       "\t<tr><td>4.8</td><td>3.4</td><td>1.6</td><td>0.2</td><td>setosa</td></tr>\n",
       "\t<tr><td>4.8</td><td>3.0</td><td>1.4</td><td>0.1</td><td>setosa</td></tr>\n",
       "\t<tr><td>4.3</td><td>3.0</td><td>1.1</td><td>0.1</td><td>setosa</td></tr>\n",
       "\t<tr><td>5.8</td><td>4.0</td><td>1.2</td><td>0.2</td><td>setosa</td></tr>\n",
       "\t<tr><td>5.7</td><td>4.4</td><td>1.5</td><td>0.4</td><td>setosa</td></tr>\n",
       "\t<tr><td>5.4</td><td>3.9</td><td>1.3</td><td>0.4</td><td>setosa</td></tr>\n",
       "\t<tr><td>5.1</td><td>3.5</td><td>1.4</td><td>0.3</td><td>setosa</td></tr>\n",
       "\t<tr><td>5.7</td><td>3.8</td><td>1.7</td><td>0.3</td><td>setosa</td></tr>\n",
       "\t<tr><td>5.1</td><td>3.8</td><td>1.5</td><td>0.3</td><td>setosa</td></tr>\n",
       "\t<tr><td>5.4</td><td>3.4</td><td>1.7</td><td>0.2</td><td>setosa</td></tr>\n",
       "\t<tr><td>5.1</td><td>3.7</td><td>1.5</td><td>0.4</td><td>setosa</td></tr>\n",
       "\t<tr><td>4.6</td><td>3.6</td><td>1.0</td><td>0.2</td><td>setosa</td></tr>\n",
       "\t<tr><td>5.1</td><td>3.3</td><td>1.7</td><td>0.5</td><td>setosa</td></tr>\n",
       "\t<tr><td>4.8</td><td>3.4</td><td>1.9</td><td>0.2</td><td>setosa</td></tr>\n",
       "\t<tr><td>5.0</td><td>3.0</td><td>1.6</td><td>0.2</td><td>setosa</td></tr>\n",
       "\t<tr><td>5.0</td><td>3.4</td><td>1.6</td><td>0.4</td><td>setosa</td></tr>\n",
       "\t<tr><td>5.2</td><td>3.5</td><td>1.5</td><td>0.2</td><td>setosa</td></tr>\n",
       "\t<tr><td>5.2</td><td>3.4</td><td>1.4</td><td>0.2</td><td>setosa</td></tr>\n",
       "\t<tr><td>4.7</td><td>3.2</td><td>1.6</td><td>0.2</td><td>setosa</td></tr>\n",
       "\t<tr><td>...</td><td>...</td><td>...</td><td>...</td><td>...</td></tr>\n",
       "\t<tr><td>6.9</td><td>3.2</td><td>5.7</td><td>2.3</td><td>virginica</td></tr>\n",
       "\t<tr><td>5.6</td><td>2.8</td><td>4.9</td><td>2.0</td><td>virginica</td></tr>\n",
       "\t<tr><td>7.7</td><td>2.8</td><td>6.7</td><td>2.0</td><td>virginica</td></tr>\n",
       "\t<tr><td>6.3</td><td>2.7</td><td>4.9</td><td>1.8</td><td>virginica</td></tr>\n",
       "\t<tr><td>6.7</td><td>3.3</td><td>5.7</td><td>2.1</td><td>virginica</td></tr>\n",
       "\t<tr><td>7.2</td><td>3.2</td><td>6.0</td><td>1.8</td><td>virginica</td></tr>\n",
       "\t<tr><td>6.2</td><td>2.8</td><td>4.8</td><td>1.8</td><td>virginica</td></tr>\n",
       "\t<tr><td>6.1</td><td>3.0</td><td>4.9</td><td>1.8</td><td>virginica</td></tr>\n",
       "\t<tr><td>6.4</td><td>2.8</td><td>5.6</td><td>2.1</td><td>virginica</td></tr>\n",
       "\t<tr><td>7.2</td><td>3.0</td><td>5.8</td><td>1.6</td><td>virginica</td></tr>\n",
       "\t<tr><td>7.4</td><td>2.8</td><td>6.1</td><td>1.9</td><td>virginica</td></tr>\n",
       "\t<tr><td>7.9</td><td>3.8</td><td>6.4</td><td>2.0</td><td>virginica</td></tr>\n",
       "\t<tr><td>6.4</td><td>2.8</td><td>5.6</td><td>2.2</td><td>virginica</td></tr>\n",
       "\t<tr><td>6.3</td><td>2.8</td><td>5.1</td><td>1.5</td><td>virginica</td></tr>\n",
       "\t<tr><td>6.1</td><td>2.6</td><td>5.6</td><td>1.4</td><td>virginica</td></tr>\n",
       "\t<tr><td>7.7</td><td>3.0</td><td>6.1</td><td>2.3</td><td>virginica</td></tr>\n",
       "\t<tr><td>6.3</td><td>3.4</td><td>5.6</td><td>2.4</td><td>virginica</td></tr>\n",
       "\t<tr><td>6.4</td><td>3.1</td><td>5.5</td><td>1.8</td><td>virginica</td></tr>\n",
       "\t<tr><td>6.0</td><td>3.0</td><td>4.8</td><td>1.8</td><td>virginica</td></tr>\n",
       "\t<tr><td>6.9</td><td>3.1</td><td>5.4</td><td>2.1</td><td>virginica</td></tr>\n",
       "\t<tr><td>6.7</td><td>3.1</td><td>5.6</td><td>2.4</td><td>virginica</td></tr>\n",
       "\t<tr><td>6.9</td><td>3.1</td><td>5.1</td><td>2.3</td><td>virginica</td></tr>\n",
       "\t<tr><td>5.8</td><td>2.7</td><td>5.1</td><td>1.9</td><td>virginica</td></tr>\n",
       "\t<tr><td>6.8</td><td>3.2</td><td>5.9</td><td>2.3</td><td>virginica</td></tr>\n",
       "\t<tr><td>6.7</td><td>3.3</td><td>5.7</td><td>2.5</td><td>virginica</td></tr>\n",
       "\t<tr><td>6.7</td><td>3.0</td><td>5.2</td><td>2.3</td><td>virginica</td></tr>\n",
       "\t<tr><td>6.3</td><td>2.5</td><td>5.0</td><td>1.9</td><td>virginica</td></tr>\n",
       "\t<tr><td>6.5</td><td>3.0</td><td>5.2</td><td>2.0</td><td>virginica</td></tr>\n",
       "\t<tr><td>6.2</td><td>3.4</td><td>5.4</td><td>2.3</td><td>virginica</td></tr>\n",
       "\t<tr><td>5.9</td><td>3.0</td><td>5.1</td><td>1.8</td><td>virginica</td></tr>\n",
       "</tbody>\n",
       "</table>\n"
      ],
      "text/latex": [
       "A tibble: 150 × 5\n",
       "\\begin{tabular}{lllll}\n",
       " Sepal.Length & Sepal.Width & Petal.Length & Petal.Width & Species\\\\\n",
       " <dbl> & <dbl> & <dbl> & <dbl> & <fct>\\\\\n",
       "\\hline\n",
       "\t 5.1 & 3.5 & 1.4 & 0.2 & setosa\\\\\n",
       "\t 4.9 & 3.0 & 1.4 & 0.2 & setosa\\\\\n",
       "\t 4.7 & 3.2 & 1.3 & 0.2 & setosa\\\\\n",
       "\t 4.6 & 3.1 & 1.5 & 0.2 & setosa\\\\\n",
       "\t 5.0 & 3.6 & 1.4 & 0.2 & setosa\\\\\n",
       "\t 5.4 & 3.9 & 1.7 & 0.4 & setosa\\\\\n",
       "\t 4.6 & 3.4 & 1.4 & 0.3 & setosa\\\\\n",
       "\t 5.0 & 3.4 & 1.5 & 0.2 & setosa\\\\\n",
       "\t 4.4 & 2.9 & 1.4 & 0.2 & setosa\\\\\n",
       "\t 4.9 & 3.1 & 1.5 & 0.1 & setosa\\\\\n",
       "\t 5.4 & 3.7 & 1.5 & 0.2 & setosa\\\\\n",
       "\t 4.8 & 3.4 & 1.6 & 0.2 & setosa\\\\\n",
       "\t 4.8 & 3.0 & 1.4 & 0.1 & setosa\\\\\n",
       "\t 4.3 & 3.0 & 1.1 & 0.1 & setosa\\\\\n",
       "\t 5.8 & 4.0 & 1.2 & 0.2 & setosa\\\\\n",
       "\t 5.7 & 4.4 & 1.5 & 0.4 & setosa\\\\\n",
       "\t 5.4 & 3.9 & 1.3 & 0.4 & setosa\\\\\n",
       "\t 5.1 & 3.5 & 1.4 & 0.3 & setosa\\\\\n",
       "\t 5.7 & 3.8 & 1.7 & 0.3 & setosa\\\\\n",
       "\t 5.1 & 3.8 & 1.5 & 0.3 & setosa\\\\\n",
       "\t 5.4 & 3.4 & 1.7 & 0.2 & setosa\\\\\n",
       "\t 5.1 & 3.7 & 1.5 & 0.4 & setosa\\\\\n",
       "\t 4.6 & 3.6 & 1.0 & 0.2 & setosa\\\\\n",
       "\t 5.1 & 3.3 & 1.7 & 0.5 & setosa\\\\\n",
       "\t 4.8 & 3.4 & 1.9 & 0.2 & setosa\\\\\n",
       "\t 5.0 & 3.0 & 1.6 & 0.2 & setosa\\\\\n",
       "\t 5.0 & 3.4 & 1.6 & 0.4 & setosa\\\\\n",
       "\t 5.2 & 3.5 & 1.5 & 0.2 & setosa\\\\\n",
       "\t 5.2 & 3.4 & 1.4 & 0.2 & setosa\\\\\n",
       "\t 4.7 & 3.2 & 1.6 & 0.2 & setosa\\\\\n",
       "\t ... & ... & ... & ... & ...\\\\\n",
       "\t 6.9 & 3.2 & 5.7 & 2.3 & virginica\\\\\n",
       "\t 5.6 & 2.8 & 4.9 & 2.0 & virginica\\\\\n",
       "\t 7.7 & 2.8 & 6.7 & 2.0 & virginica\\\\\n",
       "\t 6.3 & 2.7 & 4.9 & 1.8 & virginica\\\\\n",
       "\t 6.7 & 3.3 & 5.7 & 2.1 & virginica\\\\\n",
       "\t 7.2 & 3.2 & 6.0 & 1.8 & virginica\\\\\n",
       "\t 6.2 & 2.8 & 4.8 & 1.8 & virginica\\\\\n",
       "\t 6.1 & 3.0 & 4.9 & 1.8 & virginica\\\\\n",
       "\t 6.4 & 2.8 & 5.6 & 2.1 & virginica\\\\\n",
       "\t 7.2 & 3.0 & 5.8 & 1.6 & virginica\\\\\n",
       "\t 7.4 & 2.8 & 6.1 & 1.9 & virginica\\\\\n",
       "\t 7.9 & 3.8 & 6.4 & 2.0 & virginica\\\\\n",
       "\t 6.4 & 2.8 & 5.6 & 2.2 & virginica\\\\\n",
       "\t 6.3 & 2.8 & 5.1 & 1.5 & virginica\\\\\n",
       "\t 6.1 & 2.6 & 5.6 & 1.4 & virginica\\\\\n",
       "\t 7.7 & 3.0 & 6.1 & 2.3 & virginica\\\\\n",
       "\t 6.3 & 3.4 & 5.6 & 2.4 & virginica\\\\\n",
       "\t 6.4 & 3.1 & 5.5 & 1.8 & virginica\\\\\n",
       "\t 6.0 & 3.0 & 4.8 & 1.8 & virginica\\\\\n",
       "\t 6.9 & 3.1 & 5.4 & 2.1 & virginica\\\\\n",
       "\t 6.7 & 3.1 & 5.6 & 2.4 & virginica\\\\\n",
       "\t 6.9 & 3.1 & 5.1 & 2.3 & virginica\\\\\n",
       "\t 5.8 & 2.7 & 5.1 & 1.9 & virginica\\\\\n",
       "\t 6.8 & 3.2 & 5.9 & 2.3 & virginica\\\\\n",
       "\t 6.7 & 3.3 & 5.7 & 2.5 & virginica\\\\\n",
       "\t 6.7 & 3.0 & 5.2 & 2.3 & virginica\\\\\n",
       "\t 6.3 & 2.5 & 5.0 & 1.9 & virginica\\\\\n",
       "\t 6.5 & 3.0 & 5.2 & 2.0 & virginica\\\\\n",
       "\t 6.2 & 3.4 & 5.4 & 2.3 & virginica\\\\\n",
       "\t 5.9 & 3.0 & 5.1 & 1.8 & virginica\\\\\n",
       "\\end{tabular}\n"
      ],
      "text/markdown": [
       "\n",
       "A tibble: 150 × 5\n",
       "\n",
       "| Sepal.Length &lt;dbl&gt; | Sepal.Width &lt;dbl&gt; | Petal.Length &lt;dbl&gt; | Petal.Width &lt;dbl&gt; | Species &lt;fct&gt; |\n",
       "|---|---|---|---|---|\n",
       "| 5.1 | 3.5 | 1.4 | 0.2 | setosa |\n",
       "| 4.9 | 3.0 | 1.4 | 0.2 | setosa |\n",
       "| 4.7 | 3.2 | 1.3 | 0.2 | setosa |\n",
       "| 4.6 | 3.1 | 1.5 | 0.2 | setosa |\n",
       "| 5.0 | 3.6 | 1.4 | 0.2 | setosa |\n",
       "| 5.4 | 3.9 | 1.7 | 0.4 | setosa |\n",
       "| 4.6 | 3.4 | 1.4 | 0.3 | setosa |\n",
       "| 5.0 | 3.4 | 1.5 | 0.2 | setosa |\n",
       "| 4.4 | 2.9 | 1.4 | 0.2 | setosa |\n",
       "| 4.9 | 3.1 | 1.5 | 0.1 | setosa |\n",
       "| 5.4 | 3.7 | 1.5 | 0.2 | setosa |\n",
       "| 4.8 | 3.4 | 1.6 | 0.2 | setosa |\n",
       "| 4.8 | 3.0 | 1.4 | 0.1 | setosa |\n",
       "| 4.3 | 3.0 | 1.1 | 0.1 | setosa |\n",
       "| 5.8 | 4.0 | 1.2 | 0.2 | setosa |\n",
       "| 5.7 | 4.4 | 1.5 | 0.4 | setosa |\n",
       "| 5.4 | 3.9 | 1.3 | 0.4 | setosa |\n",
       "| 5.1 | 3.5 | 1.4 | 0.3 | setosa |\n",
       "| 5.7 | 3.8 | 1.7 | 0.3 | setosa |\n",
       "| 5.1 | 3.8 | 1.5 | 0.3 | setosa |\n",
       "| 5.4 | 3.4 | 1.7 | 0.2 | setosa |\n",
       "| 5.1 | 3.7 | 1.5 | 0.4 | setosa |\n",
       "| 4.6 | 3.6 | 1.0 | 0.2 | setosa |\n",
       "| 5.1 | 3.3 | 1.7 | 0.5 | setosa |\n",
       "| 4.8 | 3.4 | 1.9 | 0.2 | setosa |\n",
       "| 5.0 | 3.0 | 1.6 | 0.2 | setosa |\n",
       "| 5.0 | 3.4 | 1.6 | 0.4 | setosa |\n",
       "| 5.2 | 3.5 | 1.5 | 0.2 | setosa |\n",
       "| 5.2 | 3.4 | 1.4 | 0.2 | setosa |\n",
       "| 4.7 | 3.2 | 1.6 | 0.2 | setosa |\n",
       "| ... | ... | ... | ... | ... |\n",
       "| 6.9 | 3.2 | 5.7 | 2.3 | virginica |\n",
       "| 5.6 | 2.8 | 4.9 | 2.0 | virginica |\n",
       "| 7.7 | 2.8 | 6.7 | 2.0 | virginica |\n",
       "| 6.3 | 2.7 | 4.9 | 1.8 | virginica |\n",
       "| 6.7 | 3.3 | 5.7 | 2.1 | virginica |\n",
       "| 7.2 | 3.2 | 6.0 | 1.8 | virginica |\n",
       "| 6.2 | 2.8 | 4.8 | 1.8 | virginica |\n",
       "| 6.1 | 3.0 | 4.9 | 1.8 | virginica |\n",
       "| 6.4 | 2.8 | 5.6 | 2.1 | virginica |\n",
       "| 7.2 | 3.0 | 5.8 | 1.6 | virginica |\n",
       "| 7.4 | 2.8 | 6.1 | 1.9 | virginica |\n",
       "| 7.9 | 3.8 | 6.4 | 2.0 | virginica |\n",
       "| 6.4 | 2.8 | 5.6 | 2.2 | virginica |\n",
       "| 6.3 | 2.8 | 5.1 | 1.5 | virginica |\n",
       "| 6.1 | 2.6 | 5.6 | 1.4 | virginica |\n",
       "| 7.7 | 3.0 | 6.1 | 2.3 | virginica |\n",
       "| 6.3 | 3.4 | 5.6 | 2.4 | virginica |\n",
       "| 6.4 | 3.1 | 5.5 | 1.8 | virginica |\n",
       "| 6.0 | 3.0 | 4.8 | 1.8 | virginica |\n",
       "| 6.9 | 3.1 | 5.4 | 2.1 | virginica |\n",
       "| 6.7 | 3.1 | 5.6 | 2.4 | virginica |\n",
       "| 6.9 | 3.1 | 5.1 | 2.3 | virginica |\n",
       "| 5.8 | 2.7 | 5.1 | 1.9 | virginica |\n",
       "| 6.8 | 3.2 | 5.9 | 2.3 | virginica |\n",
       "| 6.7 | 3.3 | 5.7 | 2.5 | virginica |\n",
       "| 6.7 | 3.0 | 5.2 | 2.3 | virginica |\n",
       "| 6.3 | 2.5 | 5.0 | 1.9 | virginica |\n",
       "| 6.5 | 3.0 | 5.2 | 2.0 | virginica |\n",
       "| 6.2 | 3.4 | 5.4 | 2.3 | virginica |\n",
       "| 5.9 | 3.0 | 5.1 | 1.8 | virginica |\n",
       "\n"
      ],
      "text/plain": [
       "    Sepal.Length Sepal.Width Petal.Length Petal.Width Species  \n",
       "1   5.1          3.5         1.4          0.2         setosa   \n",
       "2   4.9          3.0         1.4          0.2         setosa   \n",
       "3   4.7          3.2         1.3          0.2         setosa   \n",
       "4   4.6          3.1         1.5          0.2         setosa   \n",
       "5   5.0          3.6         1.4          0.2         setosa   \n",
       "6   5.4          3.9         1.7          0.4         setosa   \n",
       "7   4.6          3.4         1.4          0.3         setosa   \n",
       "8   5.0          3.4         1.5          0.2         setosa   \n",
       "9   4.4          2.9         1.4          0.2         setosa   \n",
       "10  4.9          3.1         1.5          0.1         setosa   \n",
       "11  5.4          3.7         1.5          0.2         setosa   \n",
       "12  4.8          3.4         1.6          0.2         setosa   \n",
       "13  4.8          3.0         1.4          0.1         setosa   \n",
       "14  4.3          3.0         1.1          0.1         setosa   \n",
       "15  5.8          4.0         1.2          0.2         setosa   \n",
       "16  5.7          4.4         1.5          0.4         setosa   \n",
       "17  5.4          3.9         1.3          0.4         setosa   \n",
       "18  5.1          3.5         1.4          0.3         setosa   \n",
       "19  5.7          3.8         1.7          0.3         setosa   \n",
       "20  5.1          3.8         1.5          0.3         setosa   \n",
       "21  5.4          3.4         1.7          0.2         setosa   \n",
       "22  5.1          3.7         1.5          0.4         setosa   \n",
       "23  4.6          3.6         1.0          0.2         setosa   \n",
       "24  5.1          3.3         1.7          0.5         setosa   \n",
       "25  4.8          3.4         1.9          0.2         setosa   \n",
       "26  5.0          3.0         1.6          0.2         setosa   \n",
       "27  5.0          3.4         1.6          0.4         setosa   \n",
       "28  5.2          3.5         1.5          0.2         setosa   \n",
       "29  5.2          3.4         1.4          0.2         setosa   \n",
       "30  4.7          3.2         1.6          0.2         setosa   \n",
       "... ...          ...         ...          ...         ...      \n",
       "121 6.9          3.2         5.7          2.3         virginica\n",
       "122 5.6          2.8         4.9          2.0         virginica\n",
       "123 7.7          2.8         6.7          2.0         virginica\n",
       "124 6.3          2.7         4.9          1.8         virginica\n",
       "125 6.7          3.3         5.7          2.1         virginica\n",
       "126 7.2          3.2         6.0          1.8         virginica\n",
       "127 6.2          2.8         4.8          1.8         virginica\n",
       "128 6.1          3.0         4.9          1.8         virginica\n",
       "129 6.4          2.8         5.6          2.1         virginica\n",
       "130 7.2          3.0         5.8          1.6         virginica\n",
       "131 7.4          2.8         6.1          1.9         virginica\n",
       "132 7.9          3.8         6.4          2.0         virginica\n",
       "133 6.4          2.8         5.6          2.2         virginica\n",
       "134 6.3          2.8         5.1          1.5         virginica\n",
       "135 6.1          2.6         5.6          1.4         virginica\n",
       "136 7.7          3.0         6.1          2.3         virginica\n",
       "137 6.3          3.4         5.6          2.4         virginica\n",
       "138 6.4          3.1         5.5          1.8         virginica\n",
       "139 6.0          3.0         4.8          1.8         virginica\n",
       "140 6.9          3.1         5.4          2.1         virginica\n",
       "141 6.7          3.1         5.6          2.4         virginica\n",
       "142 6.9          3.1         5.1          2.3         virginica\n",
       "143 5.8          2.7         5.1          1.9         virginica\n",
       "144 6.8          3.2         5.9          2.3         virginica\n",
       "145 6.7          3.3         5.7          2.5         virginica\n",
       "146 6.7          3.0         5.2          2.3         virginica\n",
       "147 6.3          2.5         5.0          1.9         virginica\n",
       "148 6.5          3.0         5.2          2.0         virginica\n",
       "149 6.2          3.4         5.4          2.3         virginica\n",
       "150 5.9          3.0         5.1          1.8         virginica"
      ]
     },
     "metadata": {},
     "output_type": "display_data"
    },
    {
     "data": {
      "text/html": [
       "<table class=\"dataframe\">\n",
       "<caption>A tibble: 150 × 5</caption>\n",
       "<thead>\n",
       "\t<tr><th scope=col>sepal_length</th><th scope=col>sepal_width</th><th scope=col>Petal.Length</th><th scope=col>Petal.Width</th><th scope=col>Species</th></tr>\n",
       "\t<tr><th scope=col>&lt;dbl&gt;</th><th scope=col>&lt;dbl&gt;</th><th scope=col>&lt;dbl&gt;</th><th scope=col>&lt;dbl&gt;</th><th scope=col>&lt;fct&gt;</th></tr>\n",
       "</thead>\n",
       "<tbody>\n",
       "\t<tr><td>5.1</td><td>3.5</td><td>1.4</td><td>0.2</td><td>setosa</td></tr>\n",
       "\t<tr><td>4.9</td><td>3.0</td><td>1.4</td><td>0.2</td><td>setosa</td></tr>\n",
       "\t<tr><td>4.7</td><td>3.2</td><td>1.3</td><td>0.2</td><td>setosa</td></tr>\n",
       "\t<tr><td>4.6</td><td>3.1</td><td>1.5</td><td>0.2</td><td>setosa</td></tr>\n",
       "\t<tr><td>5.0</td><td>3.6</td><td>1.4</td><td>0.2</td><td>setosa</td></tr>\n",
       "\t<tr><td>5.4</td><td>3.9</td><td>1.7</td><td>0.4</td><td>setosa</td></tr>\n",
       "\t<tr><td>4.6</td><td>3.4</td><td>1.4</td><td>0.3</td><td>setosa</td></tr>\n",
       "\t<tr><td>5.0</td><td>3.4</td><td>1.5</td><td>0.2</td><td>setosa</td></tr>\n",
       "\t<tr><td>4.4</td><td>2.9</td><td>1.4</td><td>0.2</td><td>setosa</td></tr>\n",
       "\t<tr><td>4.9</td><td>3.1</td><td>1.5</td><td>0.1</td><td>setosa</td></tr>\n",
       "\t<tr><td>5.4</td><td>3.7</td><td>1.5</td><td>0.2</td><td>setosa</td></tr>\n",
       "\t<tr><td>4.8</td><td>3.4</td><td>1.6</td><td>0.2</td><td>setosa</td></tr>\n",
       "\t<tr><td>4.8</td><td>3.0</td><td>1.4</td><td>0.1</td><td>setosa</td></tr>\n",
       "\t<tr><td>4.3</td><td>3.0</td><td>1.1</td><td>0.1</td><td>setosa</td></tr>\n",
       "\t<tr><td>5.8</td><td>4.0</td><td>1.2</td><td>0.2</td><td>setosa</td></tr>\n",
       "\t<tr><td>5.7</td><td>4.4</td><td>1.5</td><td>0.4</td><td>setosa</td></tr>\n",
       "\t<tr><td>5.4</td><td>3.9</td><td>1.3</td><td>0.4</td><td>setosa</td></tr>\n",
       "\t<tr><td>5.1</td><td>3.5</td><td>1.4</td><td>0.3</td><td>setosa</td></tr>\n",
       "\t<tr><td>5.7</td><td>3.8</td><td>1.7</td><td>0.3</td><td>setosa</td></tr>\n",
       "\t<tr><td>5.1</td><td>3.8</td><td>1.5</td><td>0.3</td><td>setosa</td></tr>\n",
       "\t<tr><td>5.4</td><td>3.4</td><td>1.7</td><td>0.2</td><td>setosa</td></tr>\n",
       "\t<tr><td>5.1</td><td>3.7</td><td>1.5</td><td>0.4</td><td>setosa</td></tr>\n",
       "\t<tr><td>4.6</td><td>3.6</td><td>1.0</td><td>0.2</td><td>setosa</td></tr>\n",
       "\t<tr><td>5.1</td><td>3.3</td><td>1.7</td><td>0.5</td><td>setosa</td></tr>\n",
       "\t<tr><td>4.8</td><td>3.4</td><td>1.9</td><td>0.2</td><td>setosa</td></tr>\n",
       "\t<tr><td>5.0</td><td>3.0</td><td>1.6</td><td>0.2</td><td>setosa</td></tr>\n",
       "\t<tr><td>5.0</td><td>3.4</td><td>1.6</td><td>0.4</td><td>setosa</td></tr>\n",
       "\t<tr><td>5.2</td><td>3.5</td><td>1.5</td><td>0.2</td><td>setosa</td></tr>\n",
       "\t<tr><td>5.2</td><td>3.4</td><td>1.4</td><td>0.2</td><td>setosa</td></tr>\n",
       "\t<tr><td>4.7</td><td>3.2</td><td>1.6</td><td>0.2</td><td>setosa</td></tr>\n",
       "\t<tr><td>...</td><td>...</td><td>...</td><td>...</td><td>...</td></tr>\n",
       "\t<tr><td>6.9</td><td>3.2</td><td>5.7</td><td>2.3</td><td>virginica</td></tr>\n",
       "\t<tr><td>5.6</td><td>2.8</td><td>4.9</td><td>2.0</td><td>virginica</td></tr>\n",
       "\t<tr><td>7.7</td><td>2.8</td><td>6.7</td><td>2.0</td><td>virginica</td></tr>\n",
       "\t<tr><td>6.3</td><td>2.7</td><td>4.9</td><td>1.8</td><td>virginica</td></tr>\n",
       "\t<tr><td>6.7</td><td>3.3</td><td>5.7</td><td>2.1</td><td>virginica</td></tr>\n",
       "\t<tr><td>7.2</td><td>3.2</td><td>6.0</td><td>1.8</td><td>virginica</td></tr>\n",
       "\t<tr><td>6.2</td><td>2.8</td><td>4.8</td><td>1.8</td><td>virginica</td></tr>\n",
       "\t<tr><td>6.1</td><td>3.0</td><td>4.9</td><td>1.8</td><td>virginica</td></tr>\n",
       "\t<tr><td>6.4</td><td>2.8</td><td>5.6</td><td>2.1</td><td>virginica</td></tr>\n",
       "\t<tr><td>7.2</td><td>3.0</td><td>5.8</td><td>1.6</td><td>virginica</td></tr>\n",
       "\t<tr><td>7.4</td><td>2.8</td><td>6.1</td><td>1.9</td><td>virginica</td></tr>\n",
       "\t<tr><td>7.9</td><td>3.8</td><td>6.4</td><td>2.0</td><td>virginica</td></tr>\n",
       "\t<tr><td>6.4</td><td>2.8</td><td>5.6</td><td>2.2</td><td>virginica</td></tr>\n",
       "\t<tr><td>6.3</td><td>2.8</td><td>5.1</td><td>1.5</td><td>virginica</td></tr>\n",
       "\t<tr><td>6.1</td><td>2.6</td><td>5.6</td><td>1.4</td><td>virginica</td></tr>\n",
       "\t<tr><td>7.7</td><td>3.0</td><td>6.1</td><td>2.3</td><td>virginica</td></tr>\n",
       "\t<tr><td>6.3</td><td>3.4</td><td>5.6</td><td>2.4</td><td>virginica</td></tr>\n",
       "\t<tr><td>6.4</td><td>3.1</td><td>5.5</td><td>1.8</td><td>virginica</td></tr>\n",
       "\t<tr><td>6.0</td><td>3.0</td><td>4.8</td><td>1.8</td><td>virginica</td></tr>\n",
       "\t<tr><td>6.9</td><td>3.1</td><td>5.4</td><td>2.1</td><td>virginica</td></tr>\n",
       "\t<tr><td>6.7</td><td>3.1</td><td>5.6</td><td>2.4</td><td>virginica</td></tr>\n",
       "\t<tr><td>6.9</td><td>3.1</td><td>5.1</td><td>2.3</td><td>virginica</td></tr>\n",
       "\t<tr><td>5.8</td><td>2.7</td><td>5.1</td><td>1.9</td><td>virginica</td></tr>\n",
       "\t<tr><td>6.8</td><td>3.2</td><td>5.9</td><td>2.3</td><td>virginica</td></tr>\n",
       "\t<tr><td>6.7</td><td>3.3</td><td>5.7</td><td>2.5</td><td>virginica</td></tr>\n",
       "\t<tr><td>6.7</td><td>3.0</td><td>5.2</td><td>2.3</td><td>virginica</td></tr>\n",
       "\t<tr><td>6.3</td><td>2.5</td><td>5.0</td><td>1.9</td><td>virginica</td></tr>\n",
       "\t<tr><td>6.5</td><td>3.0</td><td>5.2</td><td>2.0</td><td>virginica</td></tr>\n",
       "\t<tr><td>6.2</td><td>3.4</td><td>5.4</td><td>2.3</td><td>virginica</td></tr>\n",
       "\t<tr><td>5.9</td><td>3.0</td><td>5.1</td><td>1.8</td><td>virginica</td></tr>\n",
       "</tbody>\n",
       "</table>\n"
      ],
      "text/latex": [
       "A tibble: 150 × 5\n",
       "\\begin{tabular}{lllll}\n",
       " sepal\\_length & sepal\\_width & Petal.Length & Petal.Width & Species\\\\\n",
       " <dbl> & <dbl> & <dbl> & <dbl> & <fct>\\\\\n",
       "\\hline\n",
       "\t 5.1 & 3.5 & 1.4 & 0.2 & setosa\\\\\n",
       "\t 4.9 & 3.0 & 1.4 & 0.2 & setosa\\\\\n",
       "\t 4.7 & 3.2 & 1.3 & 0.2 & setosa\\\\\n",
       "\t 4.6 & 3.1 & 1.5 & 0.2 & setosa\\\\\n",
       "\t 5.0 & 3.6 & 1.4 & 0.2 & setosa\\\\\n",
       "\t 5.4 & 3.9 & 1.7 & 0.4 & setosa\\\\\n",
       "\t 4.6 & 3.4 & 1.4 & 0.3 & setosa\\\\\n",
       "\t 5.0 & 3.4 & 1.5 & 0.2 & setosa\\\\\n",
       "\t 4.4 & 2.9 & 1.4 & 0.2 & setosa\\\\\n",
       "\t 4.9 & 3.1 & 1.5 & 0.1 & setosa\\\\\n",
       "\t 5.4 & 3.7 & 1.5 & 0.2 & setosa\\\\\n",
       "\t 4.8 & 3.4 & 1.6 & 0.2 & setosa\\\\\n",
       "\t 4.8 & 3.0 & 1.4 & 0.1 & setosa\\\\\n",
       "\t 4.3 & 3.0 & 1.1 & 0.1 & setosa\\\\\n",
       "\t 5.8 & 4.0 & 1.2 & 0.2 & setosa\\\\\n",
       "\t 5.7 & 4.4 & 1.5 & 0.4 & setosa\\\\\n",
       "\t 5.4 & 3.9 & 1.3 & 0.4 & setosa\\\\\n",
       "\t 5.1 & 3.5 & 1.4 & 0.3 & setosa\\\\\n",
       "\t 5.7 & 3.8 & 1.7 & 0.3 & setosa\\\\\n",
       "\t 5.1 & 3.8 & 1.5 & 0.3 & setosa\\\\\n",
       "\t 5.4 & 3.4 & 1.7 & 0.2 & setosa\\\\\n",
       "\t 5.1 & 3.7 & 1.5 & 0.4 & setosa\\\\\n",
       "\t 4.6 & 3.6 & 1.0 & 0.2 & setosa\\\\\n",
       "\t 5.1 & 3.3 & 1.7 & 0.5 & setosa\\\\\n",
       "\t 4.8 & 3.4 & 1.9 & 0.2 & setosa\\\\\n",
       "\t 5.0 & 3.0 & 1.6 & 0.2 & setosa\\\\\n",
       "\t 5.0 & 3.4 & 1.6 & 0.4 & setosa\\\\\n",
       "\t 5.2 & 3.5 & 1.5 & 0.2 & setosa\\\\\n",
       "\t 5.2 & 3.4 & 1.4 & 0.2 & setosa\\\\\n",
       "\t 4.7 & 3.2 & 1.6 & 0.2 & setosa\\\\\n",
       "\t ... & ... & ... & ... & ...\\\\\n",
       "\t 6.9 & 3.2 & 5.7 & 2.3 & virginica\\\\\n",
       "\t 5.6 & 2.8 & 4.9 & 2.0 & virginica\\\\\n",
       "\t 7.7 & 2.8 & 6.7 & 2.0 & virginica\\\\\n",
       "\t 6.3 & 2.7 & 4.9 & 1.8 & virginica\\\\\n",
       "\t 6.7 & 3.3 & 5.7 & 2.1 & virginica\\\\\n",
       "\t 7.2 & 3.2 & 6.0 & 1.8 & virginica\\\\\n",
       "\t 6.2 & 2.8 & 4.8 & 1.8 & virginica\\\\\n",
       "\t 6.1 & 3.0 & 4.9 & 1.8 & virginica\\\\\n",
       "\t 6.4 & 2.8 & 5.6 & 2.1 & virginica\\\\\n",
       "\t 7.2 & 3.0 & 5.8 & 1.6 & virginica\\\\\n",
       "\t 7.4 & 2.8 & 6.1 & 1.9 & virginica\\\\\n",
       "\t 7.9 & 3.8 & 6.4 & 2.0 & virginica\\\\\n",
       "\t 6.4 & 2.8 & 5.6 & 2.2 & virginica\\\\\n",
       "\t 6.3 & 2.8 & 5.1 & 1.5 & virginica\\\\\n",
       "\t 6.1 & 2.6 & 5.6 & 1.4 & virginica\\\\\n",
       "\t 7.7 & 3.0 & 6.1 & 2.3 & virginica\\\\\n",
       "\t 6.3 & 3.4 & 5.6 & 2.4 & virginica\\\\\n",
       "\t 6.4 & 3.1 & 5.5 & 1.8 & virginica\\\\\n",
       "\t 6.0 & 3.0 & 4.8 & 1.8 & virginica\\\\\n",
       "\t 6.9 & 3.1 & 5.4 & 2.1 & virginica\\\\\n",
       "\t 6.7 & 3.1 & 5.6 & 2.4 & virginica\\\\\n",
       "\t 6.9 & 3.1 & 5.1 & 2.3 & virginica\\\\\n",
       "\t 5.8 & 2.7 & 5.1 & 1.9 & virginica\\\\\n",
       "\t 6.8 & 3.2 & 5.9 & 2.3 & virginica\\\\\n",
       "\t 6.7 & 3.3 & 5.7 & 2.5 & virginica\\\\\n",
       "\t 6.7 & 3.0 & 5.2 & 2.3 & virginica\\\\\n",
       "\t 6.3 & 2.5 & 5.0 & 1.9 & virginica\\\\\n",
       "\t 6.5 & 3.0 & 5.2 & 2.0 & virginica\\\\\n",
       "\t 6.2 & 3.4 & 5.4 & 2.3 & virginica\\\\\n",
       "\t 5.9 & 3.0 & 5.1 & 1.8 & virginica\\\\\n",
       "\\end{tabular}\n"
      ],
      "text/markdown": [
       "\n",
       "A tibble: 150 × 5\n",
       "\n",
       "| sepal_length &lt;dbl&gt; | sepal_width &lt;dbl&gt; | Petal.Length &lt;dbl&gt; | Petal.Width &lt;dbl&gt; | Species &lt;fct&gt; |\n",
       "|---|---|---|---|---|\n",
       "| 5.1 | 3.5 | 1.4 | 0.2 | setosa |\n",
       "| 4.9 | 3.0 | 1.4 | 0.2 | setosa |\n",
       "| 4.7 | 3.2 | 1.3 | 0.2 | setosa |\n",
       "| 4.6 | 3.1 | 1.5 | 0.2 | setosa |\n",
       "| 5.0 | 3.6 | 1.4 | 0.2 | setosa |\n",
       "| 5.4 | 3.9 | 1.7 | 0.4 | setosa |\n",
       "| 4.6 | 3.4 | 1.4 | 0.3 | setosa |\n",
       "| 5.0 | 3.4 | 1.5 | 0.2 | setosa |\n",
       "| 4.4 | 2.9 | 1.4 | 0.2 | setosa |\n",
       "| 4.9 | 3.1 | 1.5 | 0.1 | setosa |\n",
       "| 5.4 | 3.7 | 1.5 | 0.2 | setosa |\n",
       "| 4.8 | 3.4 | 1.6 | 0.2 | setosa |\n",
       "| 4.8 | 3.0 | 1.4 | 0.1 | setosa |\n",
       "| 4.3 | 3.0 | 1.1 | 0.1 | setosa |\n",
       "| 5.8 | 4.0 | 1.2 | 0.2 | setosa |\n",
       "| 5.7 | 4.4 | 1.5 | 0.4 | setosa |\n",
       "| 5.4 | 3.9 | 1.3 | 0.4 | setosa |\n",
       "| 5.1 | 3.5 | 1.4 | 0.3 | setosa |\n",
       "| 5.7 | 3.8 | 1.7 | 0.3 | setosa |\n",
       "| 5.1 | 3.8 | 1.5 | 0.3 | setosa |\n",
       "| 5.4 | 3.4 | 1.7 | 0.2 | setosa |\n",
       "| 5.1 | 3.7 | 1.5 | 0.4 | setosa |\n",
       "| 4.6 | 3.6 | 1.0 | 0.2 | setosa |\n",
       "| 5.1 | 3.3 | 1.7 | 0.5 | setosa |\n",
       "| 4.8 | 3.4 | 1.9 | 0.2 | setosa |\n",
       "| 5.0 | 3.0 | 1.6 | 0.2 | setosa |\n",
       "| 5.0 | 3.4 | 1.6 | 0.4 | setosa |\n",
       "| 5.2 | 3.5 | 1.5 | 0.2 | setosa |\n",
       "| 5.2 | 3.4 | 1.4 | 0.2 | setosa |\n",
       "| 4.7 | 3.2 | 1.6 | 0.2 | setosa |\n",
       "| ... | ... | ... | ... | ... |\n",
       "| 6.9 | 3.2 | 5.7 | 2.3 | virginica |\n",
       "| 5.6 | 2.8 | 4.9 | 2.0 | virginica |\n",
       "| 7.7 | 2.8 | 6.7 | 2.0 | virginica |\n",
       "| 6.3 | 2.7 | 4.9 | 1.8 | virginica |\n",
       "| 6.7 | 3.3 | 5.7 | 2.1 | virginica |\n",
       "| 7.2 | 3.2 | 6.0 | 1.8 | virginica |\n",
       "| 6.2 | 2.8 | 4.8 | 1.8 | virginica |\n",
       "| 6.1 | 3.0 | 4.9 | 1.8 | virginica |\n",
       "| 6.4 | 2.8 | 5.6 | 2.1 | virginica |\n",
       "| 7.2 | 3.0 | 5.8 | 1.6 | virginica |\n",
       "| 7.4 | 2.8 | 6.1 | 1.9 | virginica |\n",
       "| 7.9 | 3.8 | 6.4 | 2.0 | virginica |\n",
       "| 6.4 | 2.8 | 5.6 | 2.2 | virginica |\n",
       "| 6.3 | 2.8 | 5.1 | 1.5 | virginica |\n",
       "| 6.1 | 2.6 | 5.6 | 1.4 | virginica |\n",
       "| 7.7 | 3.0 | 6.1 | 2.3 | virginica |\n",
       "| 6.3 | 3.4 | 5.6 | 2.4 | virginica |\n",
       "| 6.4 | 3.1 | 5.5 | 1.8 | virginica |\n",
       "| 6.0 | 3.0 | 4.8 | 1.8 | virginica |\n",
       "| 6.9 | 3.1 | 5.4 | 2.1 | virginica |\n",
       "| 6.7 | 3.1 | 5.6 | 2.4 | virginica |\n",
       "| 6.9 | 3.1 | 5.1 | 2.3 | virginica |\n",
       "| 5.8 | 2.7 | 5.1 | 1.9 | virginica |\n",
       "| 6.8 | 3.2 | 5.9 | 2.3 | virginica |\n",
       "| 6.7 | 3.3 | 5.7 | 2.5 | virginica |\n",
       "| 6.7 | 3.0 | 5.2 | 2.3 | virginica |\n",
       "| 6.3 | 2.5 | 5.0 | 1.9 | virginica |\n",
       "| 6.5 | 3.0 | 5.2 | 2.0 | virginica |\n",
       "| 6.2 | 3.4 | 5.4 | 2.3 | virginica |\n",
       "| 5.9 | 3.0 | 5.1 | 1.8 | virginica |\n",
       "\n"
      ],
      "text/plain": [
       "    sepal_length sepal_width Petal.Length Petal.Width Species  \n",
       "1   5.1          3.5         1.4          0.2         setosa   \n",
       "2   4.9          3.0         1.4          0.2         setosa   \n",
       "3   4.7          3.2         1.3          0.2         setosa   \n",
       "4   4.6          3.1         1.5          0.2         setosa   \n",
       "5   5.0          3.6         1.4          0.2         setosa   \n",
       "6   5.4          3.9         1.7          0.4         setosa   \n",
       "7   4.6          3.4         1.4          0.3         setosa   \n",
       "8   5.0          3.4         1.5          0.2         setosa   \n",
       "9   4.4          2.9         1.4          0.2         setosa   \n",
       "10  4.9          3.1         1.5          0.1         setosa   \n",
       "11  5.4          3.7         1.5          0.2         setosa   \n",
       "12  4.8          3.4         1.6          0.2         setosa   \n",
       "13  4.8          3.0         1.4          0.1         setosa   \n",
       "14  4.3          3.0         1.1          0.1         setosa   \n",
       "15  5.8          4.0         1.2          0.2         setosa   \n",
       "16  5.7          4.4         1.5          0.4         setosa   \n",
       "17  5.4          3.9         1.3          0.4         setosa   \n",
       "18  5.1          3.5         1.4          0.3         setosa   \n",
       "19  5.7          3.8         1.7          0.3         setosa   \n",
       "20  5.1          3.8         1.5          0.3         setosa   \n",
       "21  5.4          3.4         1.7          0.2         setosa   \n",
       "22  5.1          3.7         1.5          0.4         setosa   \n",
       "23  4.6          3.6         1.0          0.2         setosa   \n",
       "24  5.1          3.3         1.7          0.5         setosa   \n",
       "25  4.8          3.4         1.9          0.2         setosa   \n",
       "26  5.0          3.0         1.6          0.2         setosa   \n",
       "27  5.0          3.4         1.6          0.4         setosa   \n",
       "28  5.2          3.5         1.5          0.2         setosa   \n",
       "29  5.2          3.4         1.4          0.2         setosa   \n",
       "30  4.7          3.2         1.6          0.2         setosa   \n",
       "... ...          ...         ...          ...         ...      \n",
       "121 6.9          3.2         5.7          2.3         virginica\n",
       "122 5.6          2.8         4.9          2.0         virginica\n",
       "123 7.7          2.8         6.7          2.0         virginica\n",
       "124 6.3          2.7         4.9          1.8         virginica\n",
       "125 6.7          3.3         5.7          2.1         virginica\n",
       "126 7.2          3.2         6.0          1.8         virginica\n",
       "127 6.2          2.8         4.8          1.8         virginica\n",
       "128 6.1          3.0         4.9          1.8         virginica\n",
       "129 6.4          2.8         5.6          2.1         virginica\n",
       "130 7.2          3.0         5.8          1.6         virginica\n",
       "131 7.4          2.8         6.1          1.9         virginica\n",
       "132 7.9          3.8         6.4          2.0         virginica\n",
       "133 6.4          2.8         5.6          2.2         virginica\n",
       "134 6.3          2.8         5.1          1.5         virginica\n",
       "135 6.1          2.6         5.6          1.4         virginica\n",
       "136 7.7          3.0         6.1          2.3         virginica\n",
       "137 6.3          3.4         5.6          2.4         virginica\n",
       "138 6.4          3.1         5.5          1.8         virginica\n",
       "139 6.0          3.0         4.8          1.8         virginica\n",
       "140 6.9          3.1         5.4          2.1         virginica\n",
       "141 6.7          3.1         5.6          2.4         virginica\n",
       "142 6.9          3.1         5.1          2.3         virginica\n",
       "143 5.8          2.7         5.1          1.9         virginica\n",
       "144 6.8          3.2         5.9          2.3         virginica\n",
       "145 6.7          3.3         5.7          2.5         virginica\n",
       "146 6.7          3.0         5.2          2.3         virginica\n",
       "147 6.3          2.5         5.0          1.9         virginica\n",
       "148 6.5          3.0         5.2          2.0         virginica\n",
       "149 6.2          3.4         5.4          2.3         virginica\n",
       "150 5.9          3.0         5.1          1.8         virginica"
      ]
     },
     "metadata": {},
     "output_type": "display_data"
    }
   ],
   "source": [
    "iris\n",
    "iris %>% rename(sepal_length = Sepal.Length, sepal_width = 2) #2 represents index of the column"
   ]
  },
  {
   "cell_type": "markdown",
   "id": "02e20b4e",
   "metadata": {},
   "source": [
    "Renaming variables by position is straight forward in base R:"
   ]
  },
  {
   "cell_type": "code",
   "execution_count": 308,
   "id": "288c3be1",
   "metadata": {},
   "outputs": [],
   "source": [
    "iris2 <- iris\n",
    "names(iris2)[2] <- \"sepal_width\""
   ]
  },
  {
   "cell_type": "markdown",
   "id": "04bf6cb8",
   "metadata": {},
   "source": [
    "Renaming variables by name requires a bit more work:"
   ]
  },
  {
   "cell_type": "code",
   "execution_count": 309,
   "id": "3e42b7b9",
   "metadata": {},
   "outputs": [],
   "source": [
    "names(iris2)[names(iris2) == \"Sepal.Length\"] <- \"sepal_length\""
   ]
  },
  {
   "cell_type": "markdown",
   "id": "9bf046ff",
   "metadata": {},
   "source": [
    "## dplyr::rename_with()\n",
    "transform column names with a function:"
   ]
  },
  {
   "cell_type": "code",
   "execution_count": 310,
   "id": "76282147",
   "metadata": {},
   "outputs": [
    {
     "data": {
      "text/html": [
       "<table class=\"dataframe\">\n",
       "<caption>A tibble: 150 × 5</caption>\n",
       "<thead>\n",
       "\t<tr><th scope=col>SEPAL.LENGTH</th><th scope=col>SEPAL.WIDTH</th><th scope=col>PETAL.LENGTH</th><th scope=col>PETAL.WIDTH</th><th scope=col>SPECIES</th></tr>\n",
       "\t<tr><th scope=col>&lt;dbl&gt;</th><th scope=col>&lt;dbl&gt;</th><th scope=col>&lt;dbl&gt;</th><th scope=col>&lt;dbl&gt;</th><th scope=col>&lt;fct&gt;</th></tr>\n",
       "</thead>\n",
       "<tbody>\n",
       "\t<tr><td>5.1</td><td>3.5</td><td>1.4</td><td>0.2</td><td>setosa</td></tr>\n",
       "\t<tr><td>4.9</td><td>3.0</td><td>1.4</td><td>0.2</td><td>setosa</td></tr>\n",
       "\t<tr><td>4.7</td><td>3.2</td><td>1.3</td><td>0.2</td><td>setosa</td></tr>\n",
       "\t<tr><td>4.6</td><td>3.1</td><td>1.5</td><td>0.2</td><td>setosa</td></tr>\n",
       "\t<tr><td>5.0</td><td>3.6</td><td>1.4</td><td>0.2</td><td>setosa</td></tr>\n",
       "\t<tr><td>5.4</td><td>3.9</td><td>1.7</td><td>0.4</td><td>setosa</td></tr>\n",
       "\t<tr><td>4.6</td><td>3.4</td><td>1.4</td><td>0.3</td><td>setosa</td></tr>\n",
       "\t<tr><td>5.0</td><td>3.4</td><td>1.5</td><td>0.2</td><td>setosa</td></tr>\n",
       "\t<tr><td>4.4</td><td>2.9</td><td>1.4</td><td>0.2</td><td>setosa</td></tr>\n",
       "\t<tr><td>4.9</td><td>3.1</td><td>1.5</td><td>0.1</td><td>setosa</td></tr>\n",
       "\t<tr><td>5.4</td><td>3.7</td><td>1.5</td><td>0.2</td><td>setosa</td></tr>\n",
       "\t<tr><td>4.8</td><td>3.4</td><td>1.6</td><td>0.2</td><td>setosa</td></tr>\n",
       "\t<tr><td>4.8</td><td>3.0</td><td>1.4</td><td>0.1</td><td>setosa</td></tr>\n",
       "\t<tr><td>4.3</td><td>3.0</td><td>1.1</td><td>0.1</td><td>setosa</td></tr>\n",
       "\t<tr><td>5.8</td><td>4.0</td><td>1.2</td><td>0.2</td><td>setosa</td></tr>\n",
       "\t<tr><td>5.7</td><td>4.4</td><td>1.5</td><td>0.4</td><td>setosa</td></tr>\n",
       "\t<tr><td>5.4</td><td>3.9</td><td>1.3</td><td>0.4</td><td>setosa</td></tr>\n",
       "\t<tr><td>5.1</td><td>3.5</td><td>1.4</td><td>0.3</td><td>setosa</td></tr>\n",
       "\t<tr><td>5.7</td><td>3.8</td><td>1.7</td><td>0.3</td><td>setosa</td></tr>\n",
       "\t<tr><td>5.1</td><td>3.8</td><td>1.5</td><td>0.3</td><td>setosa</td></tr>\n",
       "\t<tr><td>5.4</td><td>3.4</td><td>1.7</td><td>0.2</td><td>setosa</td></tr>\n",
       "\t<tr><td>5.1</td><td>3.7</td><td>1.5</td><td>0.4</td><td>setosa</td></tr>\n",
       "\t<tr><td>4.6</td><td>3.6</td><td>1.0</td><td>0.2</td><td>setosa</td></tr>\n",
       "\t<tr><td>5.1</td><td>3.3</td><td>1.7</td><td>0.5</td><td>setosa</td></tr>\n",
       "\t<tr><td>4.8</td><td>3.4</td><td>1.9</td><td>0.2</td><td>setosa</td></tr>\n",
       "\t<tr><td>5.0</td><td>3.0</td><td>1.6</td><td>0.2</td><td>setosa</td></tr>\n",
       "\t<tr><td>5.0</td><td>3.4</td><td>1.6</td><td>0.4</td><td>setosa</td></tr>\n",
       "\t<tr><td>5.2</td><td>3.5</td><td>1.5</td><td>0.2</td><td>setosa</td></tr>\n",
       "\t<tr><td>5.2</td><td>3.4</td><td>1.4</td><td>0.2</td><td>setosa</td></tr>\n",
       "\t<tr><td>4.7</td><td>3.2</td><td>1.6</td><td>0.2</td><td>setosa</td></tr>\n",
       "\t<tr><td>...</td><td>...</td><td>...</td><td>...</td><td>...</td></tr>\n",
       "\t<tr><td>6.9</td><td>3.2</td><td>5.7</td><td>2.3</td><td>virginica</td></tr>\n",
       "\t<tr><td>5.6</td><td>2.8</td><td>4.9</td><td>2.0</td><td>virginica</td></tr>\n",
       "\t<tr><td>7.7</td><td>2.8</td><td>6.7</td><td>2.0</td><td>virginica</td></tr>\n",
       "\t<tr><td>6.3</td><td>2.7</td><td>4.9</td><td>1.8</td><td>virginica</td></tr>\n",
       "\t<tr><td>6.7</td><td>3.3</td><td>5.7</td><td>2.1</td><td>virginica</td></tr>\n",
       "\t<tr><td>7.2</td><td>3.2</td><td>6.0</td><td>1.8</td><td>virginica</td></tr>\n",
       "\t<tr><td>6.2</td><td>2.8</td><td>4.8</td><td>1.8</td><td>virginica</td></tr>\n",
       "\t<tr><td>6.1</td><td>3.0</td><td>4.9</td><td>1.8</td><td>virginica</td></tr>\n",
       "\t<tr><td>6.4</td><td>2.8</td><td>5.6</td><td>2.1</td><td>virginica</td></tr>\n",
       "\t<tr><td>7.2</td><td>3.0</td><td>5.8</td><td>1.6</td><td>virginica</td></tr>\n",
       "\t<tr><td>7.4</td><td>2.8</td><td>6.1</td><td>1.9</td><td>virginica</td></tr>\n",
       "\t<tr><td>7.9</td><td>3.8</td><td>6.4</td><td>2.0</td><td>virginica</td></tr>\n",
       "\t<tr><td>6.4</td><td>2.8</td><td>5.6</td><td>2.2</td><td>virginica</td></tr>\n",
       "\t<tr><td>6.3</td><td>2.8</td><td>5.1</td><td>1.5</td><td>virginica</td></tr>\n",
       "\t<tr><td>6.1</td><td>2.6</td><td>5.6</td><td>1.4</td><td>virginica</td></tr>\n",
       "\t<tr><td>7.7</td><td>3.0</td><td>6.1</td><td>2.3</td><td>virginica</td></tr>\n",
       "\t<tr><td>6.3</td><td>3.4</td><td>5.6</td><td>2.4</td><td>virginica</td></tr>\n",
       "\t<tr><td>6.4</td><td>3.1</td><td>5.5</td><td>1.8</td><td>virginica</td></tr>\n",
       "\t<tr><td>6.0</td><td>3.0</td><td>4.8</td><td>1.8</td><td>virginica</td></tr>\n",
       "\t<tr><td>6.9</td><td>3.1</td><td>5.4</td><td>2.1</td><td>virginica</td></tr>\n",
       "\t<tr><td>6.7</td><td>3.1</td><td>5.6</td><td>2.4</td><td>virginica</td></tr>\n",
       "\t<tr><td>6.9</td><td>3.1</td><td>5.1</td><td>2.3</td><td>virginica</td></tr>\n",
       "\t<tr><td>5.8</td><td>2.7</td><td>5.1</td><td>1.9</td><td>virginica</td></tr>\n",
       "\t<tr><td>6.8</td><td>3.2</td><td>5.9</td><td>2.3</td><td>virginica</td></tr>\n",
       "\t<tr><td>6.7</td><td>3.3</td><td>5.7</td><td>2.5</td><td>virginica</td></tr>\n",
       "\t<tr><td>6.7</td><td>3.0</td><td>5.2</td><td>2.3</td><td>virginica</td></tr>\n",
       "\t<tr><td>6.3</td><td>2.5</td><td>5.0</td><td>1.9</td><td>virginica</td></tr>\n",
       "\t<tr><td>6.5</td><td>3.0</td><td>5.2</td><td>2.0</td><td>virginica</td></tr>\n",
       "\t<tr><td>6.2</td><td>3.4</td><td>5.4</td><td>2.3</td><td>virginica</td></tr>\n",
       "\t<tr><td>5.9</td><td>3.0</td><td>5.1</td><td>1.8</td><td>virginica</td></tr>\n",
       "</tbody>\n",
       "</table>\n"
      ],
      "text/latex": [
       "A tibble: 150 × 5\n",
       "\\begin{tabular}{lllll}\n",
       " SEPAL.LENGTH & SEPAL.WIDTH & PETAL.LENGTH & PETAL.WIDTH & SPECIES\\\\\n",
       " <dbl> & <dbl> & <dbl> & <dbl> & <fct>\\\\\n",
       "\\hline\n",
       "\t 5.1 & 3.5 & 1.4 & 0.2 & setosa\\\\\n",
       "\t 4.9 & 3.0 & 1.4 & 0.2 & setosa\\\\\n",
       "\t 4.7 & 3.2 & 1.3 & 0.2 & setosa\\\\\n",
       "\t 4.6 & 3.1 & 1.5 & 0.2 & setosa\\\\\n",
       "\t 5.0 & 3.6 & 1.4 & 0.2 & setosa\\\\\n",
       "\t 5.4 & 3.9 & 1.7 & 0.4 & setosa\\\\\n",
       "\t 4.6 & 3.4 & 1.4 & 0.3 & setosa\\\\\n",
       "\t 5.0 & 3.4 & 1.5 & 0.2 & setosa\\\\\n",
       "\t 4.4 & 2.9 & 1.4 & 0.2 & setosa\\\\\n",
       "\t 4.9 & 3.1 & 1.5 & 0.1 & setosa\\\\\n",
       "\t 5.4 & 3.7 & 1.5 & 0.2 & setosa\\\\\n",
       "\t 4.8 & 3.4 & 1.6 & 0.2 & setosa\\\\\n",
       "\t 4.8 & 3.0 & 1.4 & 0.1 & setosa\\\\\n",
       "\t 4.3 & 3.0 & 1.1 & 0.1 & setosa\\\\\n",
       "\t 5.8 & 4.0 & 1.2 & 0.2 & setosa\\\\\n",
       "\t 5.7 & 4.4 & 1.5 & 0.4 & setosa\\\\\n",
       "\t 5.4 & 3.9 & 1.3 & 0.4 & setosa\\\\\n",
       "\t 5.1 & 3.5 & 1.4 & 0.3 & setosa\\\\\n",
       "\t 5.7 & 3.8 & 1.7 & 0.3 & setosa\\\\\n",
       "\t 5.1 & 3.8 & 1.5 & 0.3 & setosa\\\\\n",
       "\t 5.4 & 3.4 & 1.7 & 0.2 & setosa\\\\\n",
       "\t 5.1 & 3.7 & 1.5 & 0.4 & setosa\\\\\n",
       "\t 4.6 & 3.6 & 1.0 & 0.2 & setosa\\\\\n",
       "\t 5.1 & 3.3 & 1.7 & 0.5 & setosa\\\\\n",
       "\t 4.8 & 3.4 & 1.9 & 0.2 & setosa\\\\\n",
       "\t 5.0 & 3.0 & 1.6 & 0.2 & setosa\\\\\n",
       "\t 5.0 & 3.4 & 1.6 & 0.4 & setosa\\\\\n",
       "\t 5.2 & 3.5 & 1.5 & 0.2 & setosa\\\\\n",
       "\t 5.2 & 3.4 & 1.4 & 0.2 & setosa\\\\\n",
       "\t 4.7 & 3.2 & 1.6 & 0.2 & setosa\\\\\n",
       "\t ... & ... & ... & ... & ...\\\\\n",
       "\t 6.9 & 3.2 & 5.7 & 2.3 & virginica\\\\\n",
       "\t 5.6 & 2.8 & 4.9 & 2.0 & virginica\\\\\n",
       "\t 7.7 & 2.8 & 6.7 & 2.0 & virginica\\\\\n",
       "\t 6.3 & 2.7 & 4.9 & 1.8 & virginica\\\\\n",
       "\t 6.7 & 3.3 & 5.7 & 2.1 & virginica\\\\\n",
       "\t 7.2 & 3.2 & 6.0 & 1.8 & virginica\\\\\n",
       "\t 6.2 & 2.8 & 4.8 & 1.8 & virginica\\\\\n",
       "\t 6.1 & 3.0 & 4.9 & 1.8 & virginica\\\\\n",
       "\t 6.4 & 2.8 & 5.6 & 2.1 & virginica\\\\\n",
       "\t 7.2 & 3.0 & 5.8 & 1.6 & virginica\\\\\n",
       "\t 7.4 & 2.8 & 6.1 & 1.9 & virginica\\\\\n",
       "\t 7.9 & 3.8 & 6.4 & 2.0 & virginica\\\\\n",
       "\t 6.4 & 2.8 & 5.6 & 2.2 & virginica\\\\\n",
       "\t 6.3 & 2.8 & 5.1 & 1.5 & virginica\\\\\n",
       "\t 6.1 & 2.6 & 5.6 & 1.4 & virginica\\\\\n",
       "\t 7.7 & 3.0 & 6.1 & 2.3 & virginica\\\\\n",
       "\t 6.3 & 3.4 & 5.6 & 2.4 & virginica\\\\\n",
       "\t 6.4 & 3.1 & 5.5 & 1.8 & virginica\\\\\n",
       "\t 6.0 & 3.0 & 4.8 & 1.8 & virginica\\\\\n",
       "\t 6.9 & 3.1 & 5.4 & 2.1 & virginica\\\\\n",
       "\t 6.7 & 3.1 & 5.6 & 2.4 & virginica\\\\\n",
       "\t 6.9 & 3.1 & 5.1 & 2.3 & virginica\\\\\n",
       "\t 5.8 & 2.7 & 5.1 & 1.9 & virginica\\\\\n",
       "\t 6.8 & 3.2 & 5.9 & 2.3 & virginica\\\\\n",
       "\t 6.7 & 3.3 & 5.7 & 2.5 & virginica\\\\\n",
       "\t 6.7 & 3.0 & 5.2 & 2.3 & virginica\\\\\n",
       "\t 6.3 & 2.5 & 5.0 & 1.9 & virginica\\\\\n",
       "\t 6.5 & 3.0 & 5.2 & 2.0 & virginica\\\\\n",
       "\t 6.2 & 3.4 & 5.4 & 2.3 & virginica\\\\\n",
       "\t 5.9 & 3.0 & 5.1 & 1.8 & virginica\\\\\n",
       "\\end{tabular}\n"
      ],
      "text/markdown": [
       "\n",
       "A tibble: 150 × 5\n",
       "\n",
       "| SEPAL.LENGTH &lt;dbl&gt; | SEPAL.WIDTH &lt;dbl&gt; | PETAL.LENGTH &lt;dbl&gt; | PETAL.WIDTH &lt;dbl&gt; | SPECIES &lt;fct&gt; |\n",
       "|---|---|---|---|---|\n",
       "| 5.1 | 3.5 | 1.4 | 0.2 | setosa |\n",
       "| 4.9 | 3.0 | 1.4 | 0.2 | setosa |\n",
       "| 4.7 | 3.2 | 1.3 | 0.2 | setosa |\n",
       "| 4.6 | 3.1 | 1.5 | 0.2 | setosa |\n",
       "| 5.0 | 3.6 | 1.4 | 0.2 | setosa |\n",
       "| 5.4 | 3.9 | 1.7 | 0.4 | setosa |\n",
       "| 4.6 | 3.4 | 1.4 | 0.3 | setosa |\n",
       "| 5.0 | 3.4 | 1.5 | 0.2 | setosa |\n",
       "| 4.4 | 2.9 | 1.4 | 0.2 | setosa |\n",
       "| 4.9 | 3.1 | 1.5 | 0.1 | setosa |\n",
       "| 5.4 | 3.7 | 1.5 | 0.2 | setosa |\n",
       "| 4.8 | 3.4 | 1.6 | 0.2 | setosa |\n",
       "| 4.8 | 3.0 | 1.4 | 0.1 | setosa |\n",
       "| 4.3 | 3.0 | 1.1 | 0.1 | setosa |\n",
       "| 5.8 | 4.0 | 1.2 | 0.2 | setosa |\n",
       "| 5.7 | 4.4 | 1.5 | 0.4 | setosa |\n",
       "| 5.4 | 3.9 | 1.3 | 0.4 | setosa |\n",
       "| 5.1 | 3.5 | 1.4 | 0.3 | setosa |\n",
       "| 5.7 | 3.8 | 1.7 | 0.3 | setosa |\n",
       "| 5.1 | 3.8 | 1.5 | 0.3 | setosa |\n",
       "| 5.4 | 3.4 | 1.7 | 0.2 | setosa |\n",
       "| 5.1 | 3.7 | 1.5 | 0.4 | setosa |\n",
       "| 4.6 | 3.6 | 1.0 | 0.2 | setosa |\n",
       "| 5.1 | 3.3 | 1.7 | 0.5 | setosa |\n",
       "| 4.8 | 3.4 | 1.9 | 0.2 | setosa |\n",
       "| 5.0 | 3.0 | 1.6 | 0.2 | setosa |\n",
       "| 5.0 | 3.4 | 1.6 | 0.4 | setosa |\n",
       "| 5.2 | 3.5 | 1.5 | 0.2 | setosa |\n",
       "| 5.2 | 3.4 | 1.4 | 0.2 | setosa |\n",
       "| 4.7 | 3.2 | 1.6 | 0.2 | setosa |\n",
       "| ... | ... | ... | ... | ... |\n",
       "| 6.9 | 3.2 | 5.7 | 2.3 | virginica |\n",
       "| 5.6 | 2.8 | 4.9 | 2.0 | virginica |\n",
       "| 7.7 | 2.8 | 6.7 | 2.0 | virginica |\n",
       "| 6.3 | 2.7 | 4.9 | 1.8 | virginica |\n",
       "| 6.7 | 3.3 | 5.7 | 2.1 | virginica |\n",
       "| 7.2 | 3.2 | 6.0 | 1.8 | virginica |\n",
       "| 6.2 | 2.8 | 4.8 | 1.8 | virginica |\n",
       "| 6.1 | 3.0 | 4.9 | 1.8 | virginica |\n",
       "| 6.4 | 2.8 | 5.6 | 2.1 | virginica |\n",
       "| 7.2 | 3.0 | 5.8 | 1.6 | virginica |\n",
       "| 7.4 | 2.8 | 6.1 | 1.9 | virginica |\n",
       "| 7.9 | 3.8 | 6.4 | 2.0 | virginica |\n",
       "| 6.4 | 2.8 | 5.6 | 2.2 | virginica |\n",
       "| 6.3 | 2.8 | 5.1 | 1.5 | virginica |\n",
       "| 6.1 | 2.6 | 5.6 | 1.4 | virginica |\n",
       "| 7.7 | 3.0 | 6.1 | 2.3 | virginica |\n",
       "| 6.3 | 3.4 | 5.6 | 2.4 | virginica |\n",
       "| 6.4 | 3.1 | 5.5 | 1.8 | virginica |\n",
       "| 6.0 | 3.0 | 4.8 | 1.8 | virginica |\n",
       "| 6.9 | 3.1 | 5.4 | 2.1 | virginica |\n",
       "| 6.7 | 3.1 | 5.6 | 2.4 | virginica |\n",
       "| 6.9 | 3.1 | 5.1 | 2.3 | virginica |\n",
       "| 5.8 | 2.7 | 5.1 | 1.9 | virginica |\n",
       "| 6.8 | 3.2 | 5.9 | 2.3 | virginica |\n",
       "| 6.7 | 3.3 | 5.7 | 2.5 | virginica |\n",
       "| 6.7 | 3.0 | 5.2 | 2.3 | virginica |\n",
       "| 6.3 | 2.5 | 5.0 | 1.9 | virginica |\n",
       "| 6.5 | 3.0 | 5.2 | 2.0 | virginica |\n",
       "| 6.2 | 3.4 | 5.4 | 2.3 | virginica |\n",
       "| 5.9 | 3.0 | 5.1 | 1.8 | virginica |\n",
       "\n"
      ],
      "text/plain": [
       "    SEPAL.LENGTH SEPAL.WIDTH PETAL.LENGTH PETAL.WIDTH SPECIES  \n",
       "1   5.1          3.5         1.4          0.2         setosa   \n",
       "2   4.9          3.0         1.4          0.2         setosa   \n",
       "3   4.7          3.2         1.3          0.2         setosa   \n",
       "4   4.6          3.1         1.5          0.2         setosa   \n",
       "5   5.0          3.6         1.4          0.2         setosa   \n",
       "6   5.4          3.9         1.7          0.4         setosa   \n",
       "7   4.6          3.4         1.4          0.3         setosa   \n",
       "8   5.0          3.4         1.5          0.2         setosa   \n",
       "9   4.4          2.9         1.4          0.2         setosa   \n",
       "10  4.9          3.1         1.5          0.1         setosa   \n",
       "11  5.4          3.7         1.5          0.2         setosa   \n",
       "12  4.8          3.4         1.6          0.2         setosa   \n",
       "13  4.8          3.0         1.4          0.1         setosa   \n",
       "14  4.3          3.0         1.1          0.1         setosa   \n",
       "15  5.8          4.0         1.2          0.2         setosa   \n",
       "16  5.7          4.4         1.5          0.4         setosa   \n",
       "17  5.4          3.9         1.3          0.4         setosa   \n",
       "18  5.1          3.5         1.4          0.3         setosa   \n",
       "19  5.7          3.8         1.7          0.3         setosa   \n",
       "20  5.1          3.8         1.5          0.3         setosa   \n",
       "21  5.4          3.4         1.7          0.2         setosa   \n",
       "22  5.1          3.7         1.5          0.4         setosa   \n",
       "23  4.6          3.6         1.0          0.2         setosa   \n",
       "24  5.1          3.3         1.7          0.5         setosa   \n",
       "25  4.8          3.4         1.9          0.2         setosa   \n",
       "26  5.0          3.0         1.6          0.2         setosa   \n",
       "27  5.0          3.4         1.6          0.4         setosa   \n",
       "28  5.2          3.5         1.5          0.2         setosa   \n",
       "29  5.2          3.4         1.4          0.2         setosa   \n",
       "30  4.7          3.2         1.6          0.2         setosa   \n",
       "... ...          ...         ...          ...         ...      \n",
       "121 6.9          3.2         5.7          2.3         virginica\n",
       "122 5.6          2.8         4.9          2.0         virginica\n",
       "123 7.7          2.8         6.7          2.0         virginica\n",
       "124 6.3          2.7         4.9          1.8         virginica\n",
       "125 6.7          3.3         5.7          2.1         virginica\n",
       "126 7.2          3.2         6.0          1.8         virginica\n",
       "127 6.2          2.8         4.8          1.8         virginica\n",
       "128 6.1          3.0         4.9          1.8         virginica\n",
       "129 6.4          2.8         5.6          2.1         virginica\n",
       "130 7.2          3.0         5.8          1.6         virginica\n",
       "131 7.4          2.8         6.1          1.9         virginica\n",
       "132 7.9          3.8         6.4          2.0         virginica\n",
       "133 6.4          2.8         5.6          2.2         virginica\n",
       "134 6.3          2.8         5.1          1.5         virginica\n",
       "135 6.1          2.6         5.6          1.4         virginica\n",
       "136 7.7          3.0         6.1          2.3         virginica\n",
       "137 6.3          3.4         5.6          2.4         virginica\n",
       "138 6.4          3.1         5.5          1.8         virginica\n",
       "139 6.0          3.0         4.8          1.8         virginica\n",
       "140 6.9          3.1         5.4          2.1         virginica\n",
       "141 6.7          3.1         5.6          2.4         virginica\n",
       "142 6.9          3.1         5.1          2.3         virginica\n",
       "143 5.8          2.7         5.1          1.9         virginica\n",
       "144 6.8          3.2         5.9          2.3         virginica\n",
       "145 6.7          3.3         5.7          2.5         virginica\n",
       "146 6.7          3.0         5.2          2.3         virginica\n",
       "147 6.3          2.5         5.0          1.9         virginica\n",
       "148 6.5          3.0         5.2          2.0         virginica\n",
       "149 6.2          3.4         5.4          2.3         virginica\n",
       "150 5.9          3.0         5.1          1.8         virginica"
      ]
     },
     "metadata": {},
     "output_type": "display_data"
    }
   ],
   "source": [
    "iris %>% rename_with(toupper)    #change all into uppercase character of name"
   ]
  },
  {
   "cell_type": "markdown",
   "id": "054cd2bc",
   "metadata": {},
   "source": [
    "A similar effect can be achieved with setNames() in base R:"
   ]
  },
  {
   "cell_type": "code",
   "execution_count": 311,
   "id": "6bf8a4c3",
   "metadata": {},
   "outputs": [
    {
     "data": {
      "text/html": [
       "<table class=\"dataframe\">\n",
       "<caption>A tibble: 150 × 5</caption>\n",
       "<thead>\n",
       "\t<tr><th scope=col>SEPAL.LENGTH</th><th scope=col>SEPAL.WIDTH</th><th scope=col>PETAL.LENGTH</th><th scope=col>PETAL.WIDTH</th><th scope=col>SPECIES</th></tr>\n",
       "\t<tr><th scope=col>&lt;dbl&gt;</th><th scope=col>&lt;dbl&gt;</th><th scope=col>&lt;dbl&gt;</th><th scope=col>&lt;dbl&gt;</th><th scope=col>&lt;fct&gt;</th></tr>\n",
       "</thead>\n",
       "<tbody>\n",
       "\t<tr><td>5.1</td><td>3.5</td><td>1.4</td><td>0.2</td><td>setosa</td></tr>\n",
       "\t<tr><td>4.9</td><td>3.0</td><td>1.4</td><td>0.2</td><td>setosa</td></tr>\n",
       "\t<tr><td>4.7</td><td>3.2</td><td>1.3</td><td>0.2</td><td>setosa</td></tr>\n",
       "\t<tr><td>4.6</td><td>3.1</td><td>1.5</td><td>0.2</td><td>setosa</td></tr>\n",
       "\t<tr><td>5.0</td><td>3.6</td><td>1.4</td><td>0.2</td><td>setosa</td></tr>\n",
       "\t<tr><td>5.4</td><td>3.9</td><td>1.7</td><td>0.4</td><td>setosa</td></tr>\n",
       "\t<tr><td>4.6</td><td>3.4</td><td>1.4</td><td>0.3</td><td>setosa</td></tr>\n",
       "\t<tr><td>5.0</td><td>3.4</td><td>1.5</td><td>0.2</td><td>setosa</td></tr>\n",
       "\t<tr><td>4.4</td><td>2.9</td><td>1.4</td><td>0.2</td><td>setosa</td></tr>\n",
       "\t<tr><td>4.9</td><td>3.1</td><td>1.5</td><td>0.1</td><td>setosa</td></tr>\n",
       "\t<tr><td>5.4</td><td>3.7</td><td>1.5</td><td>0.2</td><td>setosa</td></tr>\n",
       "\t<tr><td>4.8</td><td>3.4</td><td>1.6</td><td>0.2</td><td>setosa</td></tr>\n",
       "\t<tr><td>4.8</td><td>3.0</td><td>1.4</td><td>0.1</td><td>setosa</td></tr>\n",
       "\t<tr><td>4.3</td><td>3.0</td><td>1.1</td><td>0.1</td><td>setosa</td></tr>\n",
       "\t<tr><td>5.8</td><td>4.0</td><td>1.2</td><td>0.2</td><td>setosa</td></tr>\n",
       "\t<tr><td>5.7</td><td>4.4</td><td>1.5</td><td>0.4</td><td>setosa</td></tr>\n",
       "\t<tr><td>5.4</td><td>3.9</td><td>1.3</td><td>0.4</td><td>setosa</td></tr>\n",
       "\t<tr><td>5.1</td><td>3.5</td><td>1.4</td><td>0.3</td><td>setosa</td></tr>\n",
       "\t<tr><td>5.7</td><td>3.8</td><td>1.7</td><td>0.3</td><td>setosa</td></tr>\n",
       "\t<tr><td>5.1</td><td>3.8</td><td>1.5</td><td>0.3</td><td>setosa</td></tr>\n",
       "\t<tr><td>5.4</td><td>3.4</td><td>1.7</td><td>0.2</td><td>setosa</td></tr>\n",
       "\t<tr><td>5.1</td><td>3.7</td><td>1.5</td><td>0.4</td><td>setosa</td></tr>\n",
       "\t<tr><td>4.6</td><td>3.6</td><td>1.0</td><td>0.2</td><td>setosa</td></tr>\n",
       "\t<tr><td>5.1</td><td>3.3</td><td>1.7</td><td>0.5</td><td>setosa</td></tr>\n",
       "\t<tr><td>4.8</td><td>3.4</td><td>1.9</td><td>0.2</td><td>setosa</td></tr>\n",
       "\t<tr><td>5.0</td><td>3.0</td><td>1.6</td><td>0.2</td><td>setosa</td></tr>\n",
       "\t<tr><td>5.0</td><td>3.4</td><td>1.6</td><td>0.4</td><td>setosa</td></tr>\n",
       "\t<tr><td>5.2</td><td>3.5</td><td>1.5</td><td>0.2</td><td>setosa</td></tr>\n",
       "\t<tr><td>5.2</td><td>3.4</td><td>1.4</td><td>0.2</td><td>setosa</td></tr>\n",
       "\t<tr><td>4.7</td><td>3.2</td><td>1.6</td><td>0.2</td><td>setosa</td></tr>\n",
       "\t<tr><td>...</td><td>...</td><td>...</td><td>...</td><td>...</td></tr>\n",
       "\t<tr><td>6.9</td><td>3.2</td><td>5.7</td><td>2.3</td><td>virginica</td></tr>\n",
       "\t<tr><td>5.6</td><td>2.8</td><td>4.9</td><td>2.0</td><td>virginica</td></tr>\n",
       "\t<tr><td>7.7</td><td>2.8</td><td>6.7</td><td>2.0</td><td>virginica</td></tr>\n",
       "\t<tr><td>6.3</td><td>2.7</td><td>4.9</td><td>1.8</td><td>virginica</td></tr>\n",
       "\t<tr><td>6.7</td><td>3.3</td><td>5.7</td><td>2.1</td><td>virginica</td></tr>\n",
       "\t<tr><td>7.2</td><td>3.2</td><td>6.0</td><td>1.8</td><td>virginica</td></tr>\n",
       "\t<tr><td>6.2</td><td>2.8</td><td>4.8</td><td>1.8</td><td>virginica</td></tr>\n",
       "\t<tr><td>6.1</td><td>3.0</td><td>4.9</td><td>1.8</td><td>virginica</td></tr>\n",
       "\t<tr><td>6.4</td><td>2.8</td><td>5.6</td><td>2.1</td><td>virginica</td></tr>\n",
       "\t<tr><td>7.2</td><td>3.0</td><td>5.8</td><td>1.6</td><td>virginica</td></tr>\n",
       "\t<tr><td>7.4</td><td>2.8</td><td>6.1</td><td>1.9</td><td>virginica</td></tr>\n",
       "\t<tr><td>7.9</td><td>3.8</td><td>6.4</td><td>2.0</td><td>virginica</td></tr>\n",
       "\t<tr><td>6.4</td><td>2.8</td><td>5.6</td><td>2.2</td><td>virginica</td></tr>\n",
       "\t<tr><td>6.3</td><td>2.8</td><td>5.1</td><td>1.5</td><td>virginica</td></tr>\n",
       "\t<tr><td>6.1</td><td>2.6</td><td>5.6</td><td>1.4</td><td>virginica</td></tr>\n",
       "\t<tr><td>7.7</td><td>3.0</td><td>6.1</td><td>2.3</td><td>virginica</td></tr>\n",
       "\t<tr><td>6.3</td><td>3.4</td><td>5.6</td><td>2.4</td><td>virginica</td></tr>\n",
       "\t<tr><td>6.4</td><td>3.1</td><td>5.5</td><td>1.8</td><td>virginica</td></tr>\n",
       "\t<tr><td>6.0</td><td>3.0</td><td>4.8</td><td>1.8</td><td>virginica</td></tr>\n",
       "\t<tr><td>6.9</td><td>3.1</td><td>5.4</td><td>2.1</td><td>virginica</td></tr>\n",
       "\t<tr><td>6.7</td><td>3.1</td><td>5.6</td><td>2.4</td><td>virginica</td></tr>\n",
       "\t<tr><td>6.9</td><td>3.1</td><td>5.1</td><td>2.3</td><td>virginica</td></tr>\n",
       "\t<tr><td>5.8</td><td>2.7</td><td>5.1</td><td>1.9</td><td>virginica</td></tr>\n",
       "\t<tr><td>6.8</td><td>3.2</td><td>5.9</td><td>2.3</td><td>virginica</td></tr>\n",
       "\t<tr><td>6.7</td><td>3.3</td><td>5.7</td><td>2.5</td><td>virginica</td></tr>\n",
       "\t<tr><td>6.7</td><td>3.0</td><td>5.2</td><td>2.3</td><td>virginica</td></tr>\n",
       "\t<tr><td>6.3</td><td>2.5</td><td>5.0</td><td>1.9</td><td>virginica</td></tr>\n",
       "\t<tr><td>6.5</td><td>3.0</td><td>5.2</td><td>2.0</td><td>virginica</td></tr>\n",
       "\t<tr><td>6.2</td><td>3.4</td><td>5.4</td><td>2.3</td><td>virginica</td></tr>\n",
       "\t<tr><td>5.9</td><td>3.0</td><td>5.1</td><td>1.8</td><td>virginica</td></tr>\n",
       "</tbody>\n",
       "</table>\n"
      ],
      "text/latex": [
       "A tibble: 150 × 5\n",
       "\\begin{tabular}{lllll}\n",
       " SEPAL.LENGTH & SEPAL.WIDTH & PETAL.LENGTH & PETAL.WIDTH & SPECIES\\\\\n",
       " <dbl> & <dbl> & <dbl> & <dbl> & <fct>\\\\\n",
       "\\hline\n",
       "\t 5.1 & 3.5 & 1.4 & 0.2 & setosa\\\\\n",
       "\t 4.9 & 3.0 & 1.4 & 0.2 & setosa\\\\\n",
       "\t 4.7 & 3.2 & 1.3 & 0.2 & setosa\\\\\n",
       "\t 4.6 & 3.1 & 1.5 & 0.2 & setosa\\\\\n",
       "\t 5.0 & 3.6 & 1.4 & 0.2 & setosa\\\\\n",
       "\t 5.4 & 3.9 & 1.7 & 0.4 & setosa\\\\\n",
       "\t 4.6 & 3.4 & 1.4 & 0.3 & setosa\\\\\n",
       "\t 5.0 & 3.4 & 1.5 & 0.2 & setosa\\\\\n",
       "\t 4.4 & 2.9 & 1.4 & 0.2 & setosa\\\\\n",
       "\t 4.9 & 3.1 & 1.5 & 0.1 & setosa\\\\\n",
       "\t 5.4 & 3.7 & 1.5 & 0.2 & setosa\\\\\n",
       "\t 4.8 & 3.4 & 1.6 & 0.2 & setosa\\\\\n",
       "\t 4.8 & 3.0 & 1.4 & 0.1 & setosa\\\\\n",
       "\t 4.3 & 3.0 & 1.1 & 0.1 & setosa\\\\\n",
       "\t 5.8 & 4.0 & 1.2 & 0.2 & setosa\\\\\n",
       "\t 5.7 & 4.4 & 1.5 & 0.4 & setosa\\\\\n",
       "\t 5.4 & 3.9 & 1.3 & 0.4 & setosa\\\\\n",
       "\t 5.1 & 3.5 & 1.4 & 0.3 & setosa\\\\\n",
       "\t 5.7 & 3.8 & 1.7 & 0.3 & setosa\\\\\n",
       "\t 5.1 & 3.8 & 1.5 & 0.3 & setosa\\\\\n",
       "\t 5.4 & 3.4 & 1.7 & 0.2 & setosa\\\\\n",
       "\t 5.1 & 3.7 & 1.5 & 0.4 & setosa\\\\\n",
       "\t 4.6 & 3.6 & 1.0 & 0.2 & setosa\\\\\n",
       "\t 5.1 & 3.3 & 1.7 & 0.5 & setosa\\\\\n",
       "\t 4.8 & 3.4 & 1.9 & 0.2 & setosa\\\\\n",
       "\t 5.0 & 3.0 & 1.6 & 0.2 & setosa\\\\\n",
       "\t 5.0 & 3.4 & 1.6 & 0.4 & setosa\\\\\n",
       "\t 5.2 & 3.5 & 1.5 & 0.2 & setosa\\\\\n",
       "\t 5.2 & 3.4 & 1.4 & 0.2 & setosa\\\\\n",
       "\t 4.7 & 3.2 & 1.6 & 0.2 & setosa\\\\\n",
       "\t ... & ... & ... & ... & ...\\\\\n",
       "\t 6.9 & 3.2 & 5.7 & 2.3 & virginica\\\\\n",
       "\t 5.6 & 2.8 & 4.9 & 2.0 & virginica\\\\\n",
       "\t 7.7 & 2.8 & 6.7 & 2.0 & virginica\\\\\n",
       "\t 6.3 & 2.7 & 4.9 & 1.8 & virginica\\\\\n",
       "\t 6.7 & 3.3 & 5.7 & 2.1 & virginica\\\\\n",
       "\t 7.2 & 3.2 & 6.0 & 1.8 & virginica\\\\\n",
       "\t 6.2 & 2.8 & 4.8 & 1.8 & virginica\\\\\n",
       "\t 6.1 & 3.0 & 4.9 & 1.8 & virginica\\\\\n",
       "\t 6.4 & 2.8 & 5.6 & 2.1 & virginica\\\\\n",
       "\t 7.2 & 3.0 & 5.8 & 1.6 & virginica\\\\\n",
       "\t 7.4 & 2.8 & 6.1 & 1.9 & virginica\\\\\n",
       "\t 7.9 & 3.8 & 6.4 & 2.0 & virginica\\\\\n",
       "\t 6.4 & 2.8 & 5.6 & 2.2 & virginica\\\\\n",
       "\t 6.3 & 2.8 & 5.1 & 1.5 & virginica\\\\\n",
       "\t 6.1 & 2.6 & 5.6 & 1.4 & virginica\\\\\n",
       "\t 7.7 & 3.0 & 6.1 & 2.3 & virginica\\\\\n",
       "\t 6.3 & 3.4 & 5.6 & 2.4 & virginica\\\\\n",
       "\t 6.4 & 3.1 & 5.5 & 1.8 & virginica\\\\\n",
       "\t 6.0 & 3.0 & 4.8 & 1.8 & virginica\\\\\n",
       "\t 6.9 & 3.1 & 5.4 & 2.1 & virginica\\\\\n",
       "\t 6.7 & 3.1 & 5.6 & 2.4 & virginica\\\\\n",
       "\t 6.9 & 3.1 & 5.1 & 2.3 & virginica\\\\\n",
       "\t 5.8 & 2.7 & 5.1 & 1.9 & virginica\\\\\n",
       "\t 6.8 & 3.2 & 5.9 & 2.3 & virginica\\\\\n",
       "\t 6.7 & 3.3 & 5.7 & 2.5 & virginica\\\\\n",
       "\t 6.7 & 3.0 & 5.2 & 2.3 & virginica\\\\\n",
       "\t 6.3 & 2.5 & 5.0 & 1.9 & virginica\\\\\n",
       "\t 6.5 & 3.0 & 5.2 & 2.0 & virginica\\\\\n",
       "\t 6.2 & 3.4 & 5.4 & 2.3 & virginica\\\\\n",
       "\t 5.9 & 3.0 & 5.1 & 1.8 & virginica\\\\\n",
       "\\end{tabular}\n"
      ],
      "text/markdown": [
       "\n",
       "A tibble: 150 × 5\n",
       "\n",
       "| SEPAL.LENGTH &lt;dbl&gt; | SEPAL.WIDTH &lt;dbl&gt; | PETAL.LENGTH &lt;dbl&gt; | PETAL.WIDTH &lt;dbl&gt; | SPECIES &lt;fct&gt; |\n",
       "|---|---|---|---|---|\n",
       "| 5.1 | 3.5 | 1.4 | 0.2 | setosa |\n",
       "| 4.9 | 3.0 | 1.4 | 0.2 | setosa |\n",
       "| 4.7 | 3.2 | 1.3 | 0.2 | setosa |\n",
       "| 4.6 | 3.1 | 1.5 | 0.2 | setosa |\n",
       "| 5.0 | 3.6 | 1.4 | 0.2 | setosa |\n",
       "| 5.4 | 3.9 | 1.7 | 0.4 | setosa |\n",
       "| 4.6 | 3.4 | 1.4 | 0.3 | setosa |\n",
       "| 5.0 | 3.4 | 1.5 | 0.2 | setosa |\n",
       "| 4.4 | 2.9 | 1.4 | 0.2 | setosa |\n",
       "| 4.9 | 3.1 | 1.5 | 0.1 | setosa |\n",
       "| 5.4 | 3.7 | 1.5 | 0.2 | setosa |\n",
       "| 4.8 | 3.4 | 1.6 | 0.2 | setosa |\n",
       "| 4.8 | 3.0 | 1.4 | 0.1 | setosa |\n",
       "| 4.3 | 3.0 | 1.1 | 0.1 | setosa |\n",
       "| 5.8 | 4.0 | 1.2 | 0.2 | setosa |\n",
       "| 5.7 | 4.4 | 1.5 | 0.4 | setosa |\n",
       "| 5.4 | 3.9 | 1.3 | 0.4 | setosa |\n",
       "| 5.1 | 3.5 | 1.4 | 0.3 | setosa |\n",
       "| 5.7 | 3.8 | 1.7 | 0.3 | setosa |\n",
       "| 5.1 | 3.8 | 1.5 | 0.3 | setosa |\n",
       "| 5.4 | 3.4 | 1.7 | 0.2 | setosa |\n",
       "| 5.1 | 3.7 | 1.5 | 0.4 | setosa |\n",
       "| 4.6 | 3.6 | 1.0 | 0.2 | setosa |\n",
       "| 5.1 | 3.3 | 1.7 | 0.5 | setosa |\n",
       "| 4.8 | 3.4 | 1.9 | 0.2 | setosa |\n",
       "| 5.0 | 3.0 | 1.6 | 0.2 | setosa |\n",
       "| 5.0 | 3.4 | 1.6 | 0.4 | setosa |\n",
       "| 5.2 | 3.5 | 1.5 | 0.2 | setosa |\n",
       "| 5.2 | 3.4 | 1.4 | 0.2 | setosa |\n",
       "| 4.7 | 3.2 | 1.6 | 0.2 | setosa |\n",
       "| ... | ... | ... | ... | ... |\n",
       "| 6.9 | 3.2 | 5.7 | 2.3 | virginica |\n",
       "| 5.6 | 2.8 | 4.9 | 2.0 | virginica |\n",
       "| 7.7 | 2.8 | 6.7 | 2.0 | virginica |\n",
       "| 6.3 | 2.7 | 4.9 | 1.8 | virginica |\n",
       "| 6.7 | 3.3 | 5.7 | 2.1 | virginica |\n",
       "| 7.2 | 3.2 | 6.0 | 1.8 | virginica |\n",
       "| 6.2 | 2.8 | 4.8 | 1.8 | virginica |\n",
       "| 6.1 | 3.0 | 4.9 | 1.8 | virginica |\n",
       "| 6.4 | 2.8 | 5.6 | 2.1 | virginica |\n",
       "| 7.2 | 3.0 | 5.8 | 1.6 | virginica |\n",
       "| 7.4 | 2.8 | 6.1 | 1.9 | virginica |\n",
       "| 7.9 | 3.8 | 6.4 | 2.0 | virginica |\n",
       "| 6.4 | 2.8 | 5.6 | 2.2 | virginica |\n",
       "| 6.3 | 2.8 | 5.1 | 1.5 | virginica |\n",
       "| 6.1 | 2.6 | 5.6 | 1.4 | virginica |\n",
       "| 7.7 | 3.0 | 6.1 | 2.3 | virginica |\n",
       "| 6.3 | 3.4 | 5.6 | 2.4 | virginica |\n",
       "| 6.4 | 3.1 | 5.5 | 1.8 | virginica |\n",
       "| 6.0 | 3.0 | 4.8 | 1.8 | virginica |\n",
       "| 6.9 | 3.1 | 5.4 | 2.1 | virginica |\n",
       "| 6.7 | 3.1 | 5.6 | 2.4 | virginica |\n",
       "| 6.9 | 3.1 | 5.1 | 2.3 | virginica |\n",
       "| 5.8 | 2.7 | 5.1 | 1.9 | virginica |\n",
       "| 6.8 | 3.2 | 5.9 | 2.3 | virginica |\n",
       "| 6.7 | 3.3 | 5.7 | 2.5 | virginica |\n",
       "| 6.7 | 3.0 | 5.2 | 2.3 | virginica |\n",
       "| 6.3 | 2.5 | 5.0 | 1.9 | virginica |\n",
       "| 6.5 | 3.0 | 5.2 | 2.0 | virginica |\n",
       "| 6.2 | 3.4 | 5.4 | 2.3 | virginica |\n",
       "| 5.9 | 3.0 | 5.1 | 1.8 | virginica |\n",
       "\n"
      ],
      "text/plain": [
       "    SEPAL.LENGTH SEPAL.WIDTH PETAL.LENGTH PETAL.WIDTH SPECIES  \n",
       "1   5.1          3.5         1.4          0.2         setosa   \n",
       "2   4.9          3.0         1.4          0.2         setosa   \n",
       "3   4.7          3.2         1.3          0.2         setosa   \n",
       "4   4.6          3.1         1.5          0.2         setosa   \n",
       "5   5.0          3.6         1.4          0.2         setosa   \n",
       "6   5.4          3.9         1.7          0.4         setosa   \n",
       "7   4.6          3.4         1.4          0.3         setosa   \n",
       "8   5.0          3.4         1.5          0.2         setosa   \n",
       "9   4.4          2.9         1.4          0.2         setosa   \n",
       "10  4.9          3.1         1.5          0.1         setosa   \n",
       "11  5.4          3.7         1.5          0.2         setosa   \n",
       "12  4.8          3.4         1.6          0.2         setosa   \n",
       "13  4.8          3.0         1.4          0.1         setosa   \n",
       "14  4.3          3.0         1.1          0.1         setosa   \n",
       "15  5.8          4.0         1.2          0.2         setosa   \n",
       "16  5.7          4.4         1.5          0.4         setosa   \n",
       "17  5.4          3.9         1.3          0.4         setosa   \n",
       "18  5.1          3.5         1.4          0.3         setosa   \n",
       "19  5.7          3.8         1.7          0.3         setosa   \n",
       "20  5.1          3.8         1.5          0.3         setosa   \n",
       "21  5.4          3.4         1.7          0.2         setosa   \n",
       "22  5.1          3.7         1.5          0.4         setosa   \n",
       "23  4.6          3.6         1.0          0.2         setosa   \n",
       "24  5.1          3.3         1.7          0.5         setosa   \n",
       "25  4.8          3.4         1.9          0.2         setosa   \n",
       "26  5.0          3.0         1.6          0.2         setosa   \n",
       "27  5.0          3.4         1.6          0.4         setosa   \n",
       "28  5.2          3.5         1.5          0.2         setosa   \n",
       "29  5.2          3.4         1.4          0.2         setosa   \n",
       "30  4.7          3.2         1.6          0.2         setosa   \n",
       "... ...          ...         ...          ...         ...      \n",
       "121 6.9          3.2         5.7          2.3         virginica\n",
       "122 5.6          2.8         4.9          2.0         virginica\n",
       "123 7.7          2.8         6.7          2.0         virginica\n",
       "124 6.3          2.7         4.9          1.8         virginica\n",
       "125 6.7          3.3         5.7          2.1         virginica\n",
       "126 7.2          3.2         6.0          1.8         virginica\n",
       "127 6.2          2.8         4.8          1.8         virginica\n",
       "128 6.1          3.0         4.9          1.8         virginica\n",
       "129 6.4          2.8         5.6          2.1         virginica\n",
       "130 7.2          3.0         5.8          1.6         virginica\n",
       "131 7.4          2.8         6.1          1.9         virginica\n",
       "132 7.9          3.8         6.4          2.0         virginica\n",
       "133 6.4          2.8         5.6          2.2         virginica\n",
       "134 6.3          2.8         5.1          1.5         virginica\n",
       "135 6.1          2.6         5.6          1.4         virginica\n",
       "136 7.7          3.0         6.1          2.3         virginica\n",
       "137 6.3          3.4         5.6          2.4         virginica\n",
       "138 6.4          3.1         5.5          1.8         virginica\n",
       "139 6.0          3.0         4.8          1.8         virginica\n",
       "140 6.9          3.1         5.4          2.1         virginica\n",
       "141 6.7          3.1         5.6          2.4         virginica\n",
       "142 6.9          3.1         5.1          2.3         virginica\n",
       "143 5.8          2.7         5.1          1.9         virginica\n",
       "144 6.8          3.2         5.9          2.3         virginica\n",
       "145 6.7          3.3         5.7          2.5         virginica\n",
       "146 6.7          3.0         5.2          2.3         virginica\n",
       "147 6.3          2.5         5.0          1.9         virginica\n",
       "148 6.5          3.0         5.2          2.0         virginica\n",
       "149 6.2          3.4         5.4          2.3         virginica\n",
       "150 5.9          3.0         5.1          1.8         virginica"
      ]
     },
     "metadata": {},
     "output_type": "display_data"
    }
   ],
   "source": [
    "setNames(iris, toupper(names(iris)))"
   ]
  },
  {
   "cell_type": "markdown",
   "id": "bee8c131",
   "metadata": {},
   "source": [
    "## dplyr::select()\n",
    "subsets columns by position, name, function of name,or other property"
   ]
  },
  {
   "cell_type": "code",
   "execution_count": 312,
   "id": "4d85613c",
   "metadata": {},
   "outputs": [
    {
     "data": {
      "text/html": [
       "<table class=\"dataframe\">\n",
       "<caption>A tibble: 150 × 3</caption>\n",
       "<thead>\n",
       "\t<tr><th scope=col>Sepal.Length</th><th scope=col>Sepal.Width</th><th scope=col>Petal.Length</th></tr>\n",
       "\t<tr><th scope=col>&lt;dbl&gt;</th><th scope=col>&lt;dbl&gt;</th><th scope=col>&lt;dbl&gt;</th></tr>\n",
       "</thead>\n",
       "<tbody>\n",
       "\t<tr><td>5.1</td><td>3.5</td><td>1.4</td></tr>\n",
       "\t<tr><td>4.9</td><td>3.0</td><td>1.4</td></tr>\n",
       "\t<tr><td>4.7</td><td>3.2</td><td>1.3</td></tr>\n",
       "\t<tr><td>4.6</td><td>3.1</td><td>1.5</td></tr>\n",
       "\t<tr><td>5.0</td><td>3.6</td><td>1.4</td></tr>\n",
       "\t<tr><td>5.4</td><td>3.9</td><td>1.7</td></tr>\n",
       "\t<tr><td>4.6</td><td>3.4</td><td>1.4</td></tr>\n",
       "\t<tr><td>5.0</td><td>3.4</td><td>1.5</td></tr>\n",
       "\t<tr><td>4.4</td><td>2.9</td><td>1.4</td></tr>\n",
       "\t<tr><td>4.9</td><td>3.1</td><td>1.5</td></tr>\n",
       "\t<tr><td>5.4</td><td>3.7</td><td>1.5</td></tr>\n",
       "\t<tr><td>4.8</td><td>3.4</td><td>1.6</td></tr>\n",
       "\t<tr><td>4.8</td><td>3.0</td><td>1.4</td></tr>\n",
       "\t<tr><td>4.3</td><td>3.0</td><td>1.1</td></tr>\n",
       "\t<tr><td>5.8</td><td>4.0</td><td>1.2</td></tr>\n",
       "\t<tr><td>5.7</td><td>4.4</td><td>1.5</td></tr>\n",
       "\t<tr><td>5.4</td><td>3.9</td><td>1.3</td></tr>\n",
       "\t<tr><td>5.1</td><td>3.5</td><td>1.4</td></tr>\n",
       "\t<tr><td>5.7</td><td>3.8</td><td>1.7</td></tr>\n",
       "\t<tr><td>5.1</td><td>3.8</td><td>1.5</td></tr>\n",
       "\t<tr><td>5.4</td><td>3.4</td><td>1.7</td></tr>\n",
       "\t<tr><td>5.1</td><td>3.7</td><td>1.5</td></tr>\n",
       "\t<tr><td>4.6</td><td>3.6</td><td>1.0</td></tr>\n",
       "\t<tr><td>5.1</td><td>3.3</td><td>1.7</td></tr>\n",
       "\t<tr><td>4.8</td><td>3.4</td><td>1.9</td></tr>\n",
       "\t<tr><td>5.0</td><td>3.0</td><td>1.6</td></tr>\n",
       "\t<tr><td>5.0</td><td>3.4</td><td>1.6</td></tr>\n",
       "\t<tr><td>5.2</td><td>3.5</td><td>1.5</td></tr>\n",
       "\t<tr><td>5.2</td><td>3.4</td><td>1.4</td></tr>\n",
       "\t<tr><td>4.7</td><td>3.2</td><td>1.6</td></tr>\n",
       "\t<tr><td>...</td><td>...</td><td>...</td></tr>\n",
       "\t<tr><td>6.9</td><td>3.2</td><td>5.7</td></tr>\n",
       "\t<tr><td>5.6</td><td>2.8</td><td>4.9</td></tr>\n",
       "\t<tr><td>7.7</td><td>2.8</td><td>6.7</td></tr>\n",
       "\t<tr><td>6.3</td><td>2.7</td><td>4.9</td></tr>\n",
       "\t<tr><td>6.7</td><td>3.3</td><td>5.7</td></tr>\n",
       "\t<tr><td>7.2</td><td>3.2</td><td>6.0</td></tr>\n",
       "\t<tr><td>6.2</td><td>2.8</td><td>4.8</td></tr>\n",
       "\t<tr><td>6.1</td><td>3.0</td><td>4.9</td></tr>\n",
       "\t<tr><td>6.4</td><td>2.8</td><td>5.6</td></tr>\n",
       "\t<tr><td>7.2</td><td>3.0</td><td>5.8</td></tr>\n",
       "\t<tr><td>7.4</td><td>2.8</td><td>6.1</td></tr>\n",
       "\t<tr><td>7.9</td><td>3.8</td><td>6.4</td></tr>\n",
       "\t<tr><td>6.4</td><td>2.8</td><td>5.6</td></tr>\n",
       "\t<tr><td>6.3</td><td>2.8</td><td>5.1</td></tr>\n",
       "\t<tr><td>6.1</td><td>2.6</td><td>5.6</td></tr>\n",
       "\t<tr><td>7.7</td><td>3.0</td><td>6.1</td></tr>\n",
       "\t<tr><td>6.3</td><td>3.4</td><td>5.6</td></tr>\n",
       "\t<tr><td>6.4</td><td>3.1</td><td>5.5</td></tr>\n",
       "\t<tr><td>6.0</td><td>3.0</td><td>4.8</td></tr>\n",
       "\t<tr><td>6.9</td><td>3.1</td><td>5.4</td></tr>\n",
       "\t<tr><td>6.7</td><td>3.1</td><td>5.6</td></tr>\n",
       "\t<tr><td>6.9</td><td>3.1</td><td>5.1</td></tr>\n",
       "\t<tr><td>5.8</td><td>2.7</td><td>5.1</td></tr>\n",
       "\t<tr><td>6.8</td><td>3.2</td><td>5.9</td></tr>\n",
       "\t<tr><td>6.7</td><td>3.3</td><td>5.7</td></tr>\n",
       "\t<tr><td>6.7</td><td>3.0</td><td>5.2</td></tr>\n",
       "\t<tr><td>6.3</td><td>2.5</td><td>5.0</td></tr>\n",
       "\t<tr><td>6.5</td><td>3.0</td><td>5.2</td></tr>\n",
       "\t<tr><td>6.2</td><td>3.4</td><td>5.4</td></tr>\n",
       "\t<tr><td>5.9</td><td>3.0</td><td>5.1</td></tr>\n",
       "</tbody>\n",
       "</table>\n"
      ],
      "text/latex": [
       "A tibble: 150 × 3\n",
       "\\begin{tabular}{lll}\n",
       " Sepal.Length & Sepal.Width & Petal.Length\\\\\n",
       " <dbl> & <dbl> & <dbl>\\\\\n",
       "\\hline\n",
       "\t 5.1 & 3.5 & 1.4\\\\\n",
       "\t 4.9 & 3.0 & 1.4\\\\\n",
       "\t 4.7 & 3.2 & 1.3\\\\\n",
       "\t 4.6 & 3.1 & 1.5\\\\\n",
       "\t 5.0 & 3.6 & 1.4\\\\\n",
       "\t 5.4 & 3.9 & 1.7\\\\\n",
       "\t 4.6 & 3.4 & 1.4\\\\\n",
       "\t 5.0 & 3.4 & 1.5\\\\\n",
       "\t 4.4 & 2.9 & 1.4\\\\\n",
       "\t 4.9 & 3.1 & 1.5\\\\\n",
       "\t 5.4 & 3.7 & 1.5\\\\\n",
       "\t 4.8 & 3.4 & 1.6\\\\\n",
       "\t 4.8 & 3.0 & 1.4\\\\\n",
       "\t 4.3 & 3.0 & 1.1\\\\\n",
       "\t 5.8 & 4.0 & 1.2\\\\\n",
       "\t 5.7 & 4.4 & 1.5\\\\\n",
       "\t 5.4 & 3.9 & 1.3\\\\\n",
       "\t 5.1 & 3.5 & 1.4\\\\\n",
       "\t 5.7 & 3.8 & 1.7\\\\\n",
       "\t 5.1 & 3.8 & 1.5\\\\\n",
       "\t 5.4 & 3.4 & 1.7\\\\\n",
       "\t 5.1 & 3.7 & 1.5\\\\\n",
       "\t 4.6 & 3.6 & 1.0\\\\\n",
       "\t 5.1 & 3.3 & 1.7\\\\\n",
       "\t 4.8 & 3.4 & 1.9\\\\\n",
       "\t 5.0 & 3.0 & 1.6\\\\\n",
       "\t 5.0 & 3.4 & 1.6\\\\\n",
       "\t 5.2 & 3.5 & 1.5\\\\\n",
       "\t 5.2 & 3.4 & 1.4\\\\\n",
       "\t 4.7 & 3.2 & 1.6\\\\\n",
       "\t ... & ... & ...\\\\\n",
       "\t 6.9 & 3.2 & 5.7\\\\\n",
       "\t 5.6 & 2.8 & 4.9\\\\\n",
       "\t 7.7 & 2.8 & 6.7\\\\\n",
       "\t 6.3 & 2.7 & 4.9\\\\\n",
       "\t 6.7 & 3.3 & 5.7\\\\\n",
       "\t 7.2 & 3.2 & 6.0\\\\\n",
       "\t 6.2 & 2.8 & 4.8\\\\\n",
       "\t 6.1 & 3.0 & 4.9\\\\\n",
       "\t 6.4 & 2.8 & 5.6\\\\\n",
       "\t 7.2 & 3.0 & 5.8\\\\\n",
       "\t 7.4 & 2.8 & 6.1\\\\\n",
       "\t 7.9 & 3.8 & 6.4\\\\\n",
       "\t 6.4 & 2.8 & 5.6\\\\\n",
       "\t 6.3 & 2.8 & 5.1\\\\\n",
       "\t 6.1 & 2.6 & 5.6\\\\\n",
       "\t 7.7 & 3.0 & 6.1\\\\\n",
       "\t 6.3 & 3.4 & 5.6\\\\\n",
       "\t 6.4 & 3.1 & 5.5\\\\\n",
       "\t 6.0 & 3.0 & 4.8\\\\\n",
       "\t 6.9 & 3.1 & 5.4\\\\\n",
       "\t 6.7 & 3.1 & 5.6\\\\\n",
       "\t 6.9 & 3.1 & 5.1\\\\\n",
       "\t 5.8 & 2.7 & 5.1\\\\\n",
       "\t 6.8 & 3.2 & 5.9\\\\\n",
       "\t 6.7 & 3.3 & 5.7\\\\\n",
       "\t 6.7 & 3.0 & 5.2\\\\\n",
       "\t 6.3 & 2.5 & 5.0\\\\\n",
       "\t 6.5 & 3.0 & 5.2\\\\\n",
       "\t 6.2 & 3.4 & 5.4\\\\\n",
       "\t 5.9 & 3.0 & 5.1\\\\\n",
       "\\end{tabular}\n"
      ],
      "text/markdown": [
       "\n",
       "A tibble: 150 × 3\n",
       "\n",
       "| Sepal.Length &lt;dbl&gt; | Sepal.Width &lt;dbl&gt; | Petal.Length &lt;dbl&gt; |\n",
       "|---|---|---|\n",
       "| 5.1 | 3.5 | 1.4 |\n",
       "| 4.9 | 3.0 | 1.4 |\n",
       "| 4.7 | 3.2 | 1.3 |\n",
       "| 4.6 | 3.1 | 1.5 |\n",
       "| 5.0 | 3.6 | 1.4 |\n",
       "| 5.4 | 3.9 | 1.7 |\n",
       "| 4.6 | 3.4 | 1.4 |\n",
       "| 5.0 | 3.4 | 1.5 |\n",
       "| 4.4 | 2.9 | 1.4 |\n",
       "| 4.9 | 3.1 | 1.5 |\n",
       "| 5.4 | 3.7 | 1.5 |\n",
       "| 4.8 | 3.4 | 1.6 |\n",
       "| 4.8 | 3.0 | 1.4 |\n",
       "| 4.3 | 3.0 | 1.1 |\n",
       "| 5.8 | 4.0 | 1.2 |\n",
       "| 5.7 | 4.4 | 1.5 |\n",
       "| 5.4 | 3.9 | 1.3 |\n",
       "| 5.1 | 3.5 | 1.4 |\n",
       "| 5.7 | 3.8 | 1.7 |\n",
       "| 5.1 | 3.8 | 1.5 |\n",
       "| 5.4 | 3.4 | 1.7 |\n",
       "| 5.1 | 3.7 | 1.5 |\n",
       "| 4.6 | 3.6 | 1.0 |\n",
       "| 5.1 | 3.3 | 1.7 |\n",
       "| 4.8 | 3.4 | 1.9 |\n",
       "| 5.0 | 3.0 | 1.6 |\n",
       "| 5.0 | 3.4 | 1.6 |\n",
       "| 5.2 | 3.5 | 1.5 |\n",
       "| 5.2 | 3.4 | 1.4 |\n",
       "| 4.7 | 3.2 | 1.6 |\n",
       "| ... | ... | ... |\n",
       "| 6.9 | 3.2 | 5.7 |\n",
       "| 5.6 | 2.8 | 4.9 |\n",
       "| 7.7 | 2.8 | 6.7 |\n",
       "| 6.3 | 2.7 | 4.9 |\n",
       "| 6.7 | 3.3 | 5.7 |\n",
       "| 7.2 | 3.2 | 6.0 |\n",
       "| 6.2 | 2.8 | 4.8 |\n",
       "| 6.1 | 3.0 | 4.9 |\n",
       "| 6.4 | 2.8 | 5.6 |\n",
       "| 7.2 | 3.0 | 5.8 |\n",
       "| 7.4 | 2.8 | 6.1 |\n",
       "| 7.9 | 3.8 | 6.4 |\n",
       "| 6.4 | 2.8 | 5.6 |\n",
       "| 6.3 | 2.8 | 5.1 |\n",
       "| 6.1 | 2.6 | 5.6 |\n",
       "| 7.7 | 3.0 | 6.1 |\n",
       "| 6.3 | 3.4 | 5.6 |\n",
       "| 6.4 | 3.1 | 5.5 |\n",
       "| 6.0 | 3.0 | 4.8 |\n",
       "| 6.9 | 3.1 | 5.4 |\n",
       "| 6.7 | 3.1 | 5.6 |\n",
       "| 6.9 | 3.1 | 5.1 |\n",
       "| 5.8 | 2.7 | 5.1 |\n",
       "| 6.8 | 3.2 | 5.9 |\n",
       "| 6.7 | 3.3 | 5.7 |\n",
       "| 6.7 | 3.0 | 5.2 |\n",
       "| 6.3 | 2.5 | 5.0 |\n",
       "| 6.5 | 3.0 | 5.2 |\n",
       "| 6.2 | 3.4 | 5.4 |\n",
       "| 5.9 | 3.0 | 5.1 |\n",
       "\n"
      ],
      "text/plain": [
       "    Sepal.Length Sepal.Width Petal.Length\n",
       "1   5.1          3.5         1.4         \n",
       "2   4.9          3.0         1.4         \n",
       "3   4.7          3.2         1.3         \n",
       "4   4.6          3.1         1.5         \n",
       "5   5.0          3.6         1.4         \n",
       "6   5.4          3.9         1.7         \n",
       "7   4.6          3.4         1.4         \n",
       "8   5.0          3.4         1.5         \n",
       "9   4.4          2.9         1.4         \n",
       "10  4.9          3.1         1.5         \n",
       "11  5.4          3.7         1.5         \n",
       "12  4.8          3.4         1.6         \n",
       "13  4.8          3.0         1.4         \n",
       "14  4.3          3.0         1.1         \n",
       "15  5.8          4.0         1.2         \n",
       "16  5.7          4.4         1.5         \n",
       "17  5.4          3.9         1.3         \n",
       "18  5.1          3.5         1.4         \n",
       "19  5.7          3.8         1.7         \n",
       "20  5.1          3.8         1.5         \n",
       "21  5.4          3.4         1.7         \n",
       "22  5.1          3.7         1.5         \n",
       "23  4.6          3.6         1.0         \n",
       "24  5.1          3.3         1.7         \n",
       "25  4.8          3.4         1.9         \n",
       "26  5.0          3.0         1.6         \n",
       "27  5.0          3.4         1.6         \n",
       "28  5.2          3.5         1.5         \n",
       "29  5.2          3.4         1.4         \n",
       "30  4.7          3.2         1.6         \n",
       "... ...          ...         ...         \n",
       "121 6.9          3.2         5.7         \n",
       "122 5.6          2.8         4.9         \n",
       "123 7.7          2.8         6.7         \n",
       "124 6.3          2.7         4.9         \n",
       "125 6.7          3.3         5.7         \n",
       "126 7.2          3.2         6.0         \n",
       "127 6.2          2.8         4.8         \n",
       "128 6.1          3.0         4.9         \n",
       "129 6.4          2.8         5.6         \n",
       "130 7.2          3.0         5.8         \n",
       "131 7.4          2.8         6.1         \n",
       "132 7.9          3.8         6.4         \n",
       "133 6.4          2.8         5.6         \n",
       "134 6.3          2.8         5.1         \n",
       "135 6.1          2.6         5.6         \n",
       "136 7.7          3.0         6.1         \n",
       "137 6.3          3.4         5.6         \n",
       "138 6.4          3.1         5.5         \n",
       "139 6.0          3.0         4.8         \n",
       "140 6.9          3.1         5.4         \n",
       "141 6.7          3.1         5.6         \n",
       "142 6.9          3.1         5.1         \n",
       "143 5.8          2.7         5.1         \n",
       "144 6.8          3.2         5.9         \n",
       "145 6.7          3.3         5.7         \n",
       "146 6.7          3.0         5.2         \n",
       "147 6.3          2.5         5.0         \n",
       "148 6.5          3.0         5.2         \n",
       "149 6.2          3.4         5.4         \n",
       "150 5.9          3.0         5.1         "
      ]
     },
     "metadata": {},
     "output_type": "display_data"
    },
    {
     "data": {
      "text/html": [
       "<table class=\"dataframe\">\n",
       "<caption>A tibble: 150 × 2</caption>\n",
       "<thead>\n",
       "\t<tr><th scope=col>Species</th><th scope=col>Sepal.Length</th></tr>\n",
       "\t<tr><th scope=col>&lt;fct&gt;</th><th scope=col>&lt;dbl&gt;</th></tr>\n",
       "</thead>\n",
       "<tbody>\n",
       "\t<tr><td>setosa</td><td>5.1</td></tr>\n",
       "\t<tr><td>setosa</td><td>4.9</td></tr>\n",
       "\t<tr><td>setosa</td><td>4.7</td></tr>\n",
       "\t<tr><td>setosa</td><td>4.6</td></tr>\n",
       "\t<tr><td>setosa</td><td>5.0</td></tr>\n",
       "\t<tr><td>setosa</td><td>5.4</td></tr>\n",
       "\t<tr><td>setosa</td><td>4.6</td></tr>\n",
       "\t<tr><td>setosa</td><td>5.0</td></tr>\n",
       "\t<tr><td>setosa</td><td>4.4</td></tr>\n",
       "\t<tr><td>setosa</td><td>4.9</td></tr>\n",
       "\t<tr><td>setosa</td><td>5.4</td></tr>\n",
       "\t<tr><td>setosa</td><td>4.8</td></tr>\n",
       "\t<tr><td>setosa</td><td>4.8</td></tr>\n",
       "\t<tr><td>setosa</td><td>4.3</td></tr>\n",
       "\t<tr><td>setosa</td><td>5.8</td></tr>\n",
       "\t<tr><td>setosa</td><td>5.7</td></tr>\n",
       "\t<tr><td>setosa</td><td>5.4</td></tr>\n",
       "\t<tr><td>setosa</td><td>5.1</td></tr>\n",
       "\t<tr><td>setosa</td><td>5.7</td></tr>\n",
       "\t<tr><td>setosa</td><td>5.1</td></tr>\n",
       "\t<tr><td>setosa</td><td>5.4</td></tr>\n",
       "\t<tr><td>setosa</td><td>5.1</td></tr>\n",
       "\t<tr><td>setosa</td><td>4.6</td></tr>\n",
       "\t<tr><td>setosa</td><td>5.1</td></tr>\n",
       "\t<tr><td>setosa</td><td>4.8</td></tr>\n",
       "\t<tr><td>setosa</td><td>5.0</td></tr>\n",
       "\t<tr><td>setosa</td><td>5.0</td></tr>\n",
       "\t<tr><td>setosa</td><td>5.2</td></tr>\n",
       "\t<tr><td>setosa</td><td>5.2</td></tr>\n",
       "\t<tr><td>setosa</td><td>4.7</td></tr>\n",
       "\t<tr><td>...</td><td>...</td></tr>\n",
       "\t<tr><td>virginica</td><td>6.9</td></tr>\n",
       "\t<tr><td>virginica</td><td>5.6</td></tr>\n",
       "\t<tr><td>virginica</td><td>7.7</td></tr>\n",
       "\t<tr><td>virginica</td><td>6.3</td></tr>\n",
       "\t<tr><td>virginica</td><td>6.7</td></tr>\n",
       "\t<tr><td>virginica</td><td>7.2</td></tr>\n",
       "\t<tr><td>virginica</td><td>6.2</td></tr>\n",
       "\t<tr><td>virginica</td><td>6.1</td></tr>\n",
       "\t<tr><td>virginica</td><td>6.4</td></tr>\n",
       "\t<tr><td>virginica</td><td>7.2</td></tr>\n",
       "\t<tr><td>virginica</td><td>7.4</td></tr>\n",
       "\t<tr><td>virginica</td><td>7.9</td></tr>\n",
       "\t<tr><td>virginica</td><td>6.4</td></tr>\n",
       "\t<tr><td>virginica</td><td>6.3</td></tr>\n",
       "\t<tr><td>virginica</td><td>6.1</td></tr>\n",
       "\t<tr><td>virginica</td><td>7.7</td></tr>\n",
       "\t<tr><td>virginica</td><td>6.3</td></tr>\n",
       "\t<tr><td>virginica</td><td>6.4</td></tr>\n",
       "\t<tr><td>virginica</td><td>6.0</td></tr>\n",
       "\t<tr><td>virginica</td><td>6.9</td></tr>\n",
       "\t<tr><td>virginica</td><td>6.7</td></tr>\n",
       "\t<tr><td>virginica</td><td>6.9</td></tr>\n",
       "\t<tr><td>virginica</td><td>5.8</td></tr>\n",
       "\t<tr><td>virginica</td><td>6.8</td></tr>\n",
       "\t<tr><td>virginica</td><td>6.7</td></tr>\n",
       "\t<tr><td>virginica</td><td>6.7</td></tr>\n",
       "\t<tr><td>virginica</td><td>6.3</td></tr>\n",
       "\t<tr><td>virginica</td><td>6.5</td></tr>\n",
       "\t<tr><td>virginica</td><td>6.2</td></tr>\n",
       "\t<tr><td>virginica</td><td>5.9</td></tr>\n",
       "</tbody>\n",
       "</table>\n"
      ],
      "text/latex": [
       "A tibble: 150 × 2\n",
       "\\begin{tabular}{ll}\n",
       " Species & Sepal.Length\\\\\n",
       " <fct> & <dbl>\\\\\n",
       "\\hline\n",
       "\t setosa & 5.1\\\\\n",
       "\t setosa & 4.9\\\\\n",
       "\t setosa & 4.7\\\\\n",
       "\t setosa & 4.6\\\\\n",
       "\t setosa & 5.0\\\\\n",
       "\t setosa & 5.4\\\\\n",
       "\t setosa & 4.6\\\\\n",
       "\t setosa & 5.0\\\\\n",
       "\t setosa & 4.4\\\\\n",
       "\t setosa & 4.9\\\\\n",
       "\t setosa & 5.4\\\\\n",
       "\t setosa & 4.8\\\\\n",
       "\t setosa & 4.8\\\\\n",
       "\t setosa & 4.3\\\\\n",
       "\t setosa & 5.8\\\\\n",
       "\t setosa & 5.7\\\\\n",
       "\t setosa & 5.4\\\\\n",
       "\t setosa & 5.1\\\\\n",
       "\t setosa & 5.7\\\\\n",
       "\t setosa & 5.1\\\\\n",
       "\t setosa & 5.4\\\\\n",
       "\t setosa & 5.1\\\\\n",
       "\t setosa & 4.6\\\\\n",
       "\t setosa & 5.1\\\\\n",
       "\t setosa & 4.8\\\\\n",
       "\t setosa & 5.0\\\\\n",
       "\t setosa & 5.0\\\\\n",
       "\t setosa & 5.2\\\\\n",
       "\t setosa & 5.2\\\\\n",
       "\t setosa & 4.7\\\\\n",
       "\t ... & ...\\\\\n",
       "\t virginica & 6.9\\\\\n",
       "\t virginica & 5.6\\\\\n",
       "\t virginica & 7.7\\\\\n",
       "\t virginica & 6.3\\\\\n",
       "\t virginica & 6.7\\\\\n",
       "\t virginica & 7.2\\\\\n",
       "\t virginica & 6.2\\\\\n",
       "\t virginica & 6.1\\\\\n",
       "\t virginica & 6.4\\\\\n",
       "\t virginica & 7.2\\\\\n",
       "\t virginica & 7.4\\\\\n",
       "\t virginica & 7.9\\\\\n",
       "\t virginica & 6.4\\\\\n",
       "\t virginica & 6.3\\\\\n",
       "\t virginica & 6.1\\\\\n",
       "\t virginica & 7.7\\\\\n",
       "\t virginica & 6.3\\\\\n",
       "\t virginica & 6.4\\\\\n",
       "\t virginica & 6.0\\\\\n",
       "\t virginica & 6.9\\\\\n",
       "\t virginica & 6.7\\\\\n",
       "\t virginica & 6.9\\\\\n",
       "\t virginica & 5.8\\\\\n",
       "\t virginica & 6.8\\\\\n",
       "\t virginica & 6.7\\\\\n",
       "\t virginica & 6.7\\\\\n",
       "\t virginica & 6.3\\\\\n",
       "\t virginica & 6.5\\\\\n",
       "\t virginica & 6.2\\\\\n",
       "\t virginica & 5.9\\\\\n",
       "\\end{tabular}\n"
      ],
      "text/markdown": [
       "\n",
       "A tibble: 150 × 2\n",
       "\n",
       "| Species &lt;fct&gt; | Sepal.Length &lt;dbl&gt; |\n",
       "|---|---|\n",
       "| setosa | 5.1 |\n",
       "| setosa | 4.9 |\n",
       "| setosa | 4.7 |\n",
       "| setosa | 4.6 |\n",
       "| setosa | 5.0 |\n",
       "| setosa | 5.4 |\n",
       "| setosa | 4.6 |\n",
       "| setosa | 5.0 |\n",
       "| setosa | 4.4 |\n",
       "| setosa | 4.9 |\n",
       "| setosa | 5.4 |\n",
       "| setosa | 4.8 |\n",
       "| setosa | 4.8 |\n",
       "| setosa | 4.3 |\n",
       "| setosa | 5.8 |\n",
       "| setosa | 5.7 |\n",
       "| setosa | 5.4 |\n",
       "| setosa | 5.1 |\n",
       "| setosa | 5.7 |\n",
       "| setosa | 5.1 |\n",
       "| setosa | 5.4 |\n",
       "| setosa | 5.1 |\n",
       "| setosa | 4.6 |\n",
       "| setosa | 5.1 |\n",
       "| setosa | 4.8 |\n",
       "| setosa | 5.0 |\n",
       "| setosa | 5.0 |\n",
       "| setosa | 5.2 |\n",
       "| setosa | 5.2 |\n",
       "| setosa | 4.7 |\n",
       "| ... | ... |\n",
       "| virginica | 6.9 |\n",
       "| virginica | 5.6 |\n",
       "| virginica | 7.7 |\n",
       "| virginica | 6.3 |\n",
       "| virginica | 6.7 |\n",
       "| virginica | 7.2 |\n",
       "| virginica | 6.2 |\n",
       "| virginica | 6.1 |\n",
       "| virginica | 6.4 |\n",
       "| virginica | 7.2 |\n",
       "| virginica | 7.4 |\n",
       "| virginica | 7.9 |\n",
       "| virginica | 6.4 |\n",
       "| virginica | 6.3 |\n",
       "| virginica | 6.1 |\n",
       "| virginica | 7.7 |\n",
       "| virginica | 6.3 |\n",
       "| virginica | 6.4 |\n",
       "| virginica | 6.0 |\n",
       "| virginica | 6.9 |\n",
       "| virginica | 6.7 |\n",
       "| virginica | 6.9 |\n",
       "| virginica | 5.8 |\n",
       "| virginica | 6.8 |\n",
       "| virginica | 6.7 |\n",
       "| virginica | 6.7 |\n",
       "| virginica | 6.3 |\n",
       "| virginica | 6.5 |\n",
       "| virginica | 6.2 |\n",
       "| virginica | 5.9 |\n",
       "\n"
      ],
      "text/plain": [
       "    Species   Sepal.Length\n",
       "1   setosa    5.1         \n",
       "2   setosa    4.9         \n",
       "3   setosa    4.7         \n",
       "4   setosa    4.6         \n",
       "5   setosa    5.0         \n",
       "6   setosa    5.4         \n",
       "7   setosa    4.6         \n",
       "8   setosa    5.0         \n",
       "9   setosa    4.4         \n",
       "10  setosa    4.9         \n",
       "11  setosa    5.4         \n",
       "12  setosa    4.8         \n",
       "13  setosa    4.8         \n",
       "14  setosa    4.3         \n",
       "15  setosa    5.8         \n",
       "16  setosa    5.7         \n",
       "17  setosa    5.4         \n",
       "18  setosa    5.1         \n",
       "19  setosa    5.7         \n",
       "20  setosa    5.1         \n",
       "21  setosa    5.4         \n",
       "22  setosa    5.1         \n",
       "23  setosa    4.6         \n",
       "24  setosa    5.1         \n",
       "25  setosa    4.8         \n",
       "26  setosa    5.0         \n",
       "27  setosa    5.0         \n",
       "28  setosa    5.2         \n",
       "29  setosa    5.2         \n",
       "30  setosa    4.7         \n",
       "... ...       ...         \n",
       "121 virginica 6.9         \n",
       "122 virginica 5.6         \n",
       "123 virginica 7.7         \n",
       "124 virginica 6.3         \n",
       "125 virginica 6.7         \n",
       "126 virginica 7.2         \n",
       "127 virginica 6.2         \n",
       "128 virginica 6.1         \n",
       "129 virginica 6.4         \n",
       "130 virginica 7.2         \n",
       "131 virginica 7.4         \n",
       "132 virginica 7.9         \n",
       "133 virginica 6.4         \n",
       "134 virginica 6.3         \n",
       "135 virginica 6.1         \n",
       "136 virginica 7.7         \n",
       "137 virginica 6.3         \n",
       "138 virginica 6.4         \n",
       "139 virginica 6.0         \n",
       "140 virginica 6.9         \n",
       "141 virginica 6.7         \n",
       "142 virginica 6.9         \n",
       "143 virginica 5.8         \n",
       "144 virginica 6.8         \n",
       "145 virginica 6.7         \n",
       "146 virginica 6.7         \n",
       "147 virginica 6.3         \n",
       "148 virginica 6.5         \n",
       "149 virginica 6.2         \n",
       "150 virginica 5.9         "
      ]
     },
     "metadata": {},
     "output_type": "display_data"
    },
    {
     "data": {
      "text/html": [
       "<table class=\"dataframe\">\n",
       "<caption>A tibble: 150 × 2</caption>\n",
       "<thead>\n",
       "\t<tr><th scope=col>Petal.Length</th><th scope=col>Petal.Width</th></tr>\n",
       "\t<tr><th scope=col>&lt;dbl&gt;</th><th scope=col>&lt;dbl&gt;</th></tr>\n",
       "</thead>\n",
       "<tbody>\n",
       "\t<tr><td>1.4</td><td>0.2</td></tr>\n",
       "\t<tr><td>1.4</td><td>0.2</td></tr>\n",
       "\t<tr><td>1.3</td><td>0.2</td></tr>\n",
       "\t<tr><td>1.5</td><td>0.2</td></tr>\n",
       "\t<tr><td>1.4</td><td>0.2</td></tr>\n",
       "\t<tr><td>1.7</td><td>0.4</td></tr>\n",
       "\t<tr><td>1.4</td><td>0.3</td></tr>\n",
       "\t<tr><td>1.5</td><td>0.2</td></tr>\n",
       "\t<tr><td>1.4</td><td>0.2</td></tr>\n",
       "\t<tr><td>1.5</td><td>0.1</td></tr>\n",
       "\t<tr><td>1.5</td><td>0.2</td></tr>\n",
       "\t<tr><td>1.6</td><td>0.2</td></tr>\n",
       "\t<tr><td>1.4</td><td>0.1</td></tr>\n",
       "\t<tr><td>1.1</td><td>0.1</td></tr>\n",
       "\t<tr><td>1.2</td><td>0.2</td></tr>\n",
       "\t<tr><td>1.5</td><td>0.4</td></tr>\n",
       "\t<tr><td>1.3</td><td>0.4</td></tr>\n",
       "\t<tr><td>1.4</td><td>0.3</td></tr>\n",
       "\t<tr><td>1.7</td><td>0.3</td></tr>\n",
       "\t<tr><td>1.5</td><td>0.3</td></tr>\n",
       "\t<tr><td>1.7</td><td>0.2</td></tr>\n",
       "\t<tr><td>1.5</td><td>0.4</td></tr>\n",
       "\t<tr><td>1.0</td><td>0.2</td></tr>\n",
       "\t<tr><td>1.7</td><td>0.5</td></tr>\n",
       "\t<tr><td>1.9</td><td>0.2</td></tr>\n",
       "\t<tr><td>1.6</td><td>0.2</td></tr>\n",
       "\t<tr><td>1.6</td><td>0.4</td></tr>\n",
       "\t<tr><td>1.5</td><td>0.2</td></tr>\n",
       "\t<tr><td>1.4</td><td>0.2</td></tr>\n",
       "\t<tr><td>1.6</td><td>0.2</td></tr>\n",
       "\t<tr><td>...</td><td>...</td></tr>\n",
       "\t<tr><td>5.7</td><td>2.3</td></tr>\n",
       "\t<tr><td>4.9</td><td>2.0</td></tr>\n",
       "\t<tr><td>6.7</td><td>2.0</td></tr>\n",
       "\t<tr><td>4.9</td><td>1.8</td></tr>\n",
       "\t<tr><td>5.7</td><td>2.1</td></tr>\n",
       "\t<tr><td>6.0</td><td>1.8</td></tr>\n",
       "\t<tr><td>4.8</td><td>1.8</td></tr>\n",
       "\t<tr><td>4.9</td><td>1.8</td></tr>\n",
       "\t<tr><td>5.6</td><td>2.1</td></tr>\n",
       "\t<tr><td>5.8</td><td>1.6</td></tr>\n",
       "\t<tr><td>6.1</td><td>1.9</td></tr>\n",
       "\t<tr><td>6.4</td><td>2.0</td></tr>\n",
       "\t<tr><td>5.6</td><td>2.2</td></tr>\n",
       "\t<tr><td>5.1</td><td>1.5</td></tr>\n",
       "\t<tr><td>5.6</td><td>1.4</td></tr>\n",
       "\t<tr><td>6.1</td><td>2.3</td></tr>\n",
       "\t<tr><td>5.6</td><td>2.4</td></tr>\n",
       "\t<tr><td>5.5</td><td>1.8</td></tr>\n",
       "\t<tr><td>4.8</td><td>1.8</td></tr>\n",
       "\t<tr><td>5.4</td><td>2.1</td></tr>\n",
       "\t<tr><td>5.6</td><td>2.4</td></tr>\n",
       "\t<tr><td>5.1</td><td>2.3</td></tr>\n",
       "\t<tr><td>5.1</td><td>1.9</td></tr>\n",
       "\t<tr><td>5.9</td><td>2.3</td></tr>\n",
       "\t<tr><td>5.7</td><td>2.5</td></tr>\n",
       "\t<tr><td>5.2</td><td>2.3</td></tr>\n",
       "\t<tr><td>5.0</td><td>1.9</td></tr>\n",
       "\t<tr><td>5.2</td><td>2.0</td></tr>\n",
       "\t<tr><td>5.4</td><td>2.3</td></tr>\n",
       "\t<tr><td>5.1</td><td>1.8</td></tr>\n",
       "</tbody>\n",
       "</table>\n"
      ],
      "text/latex": [
       "A tibble: 150 × 2\n",
       "\\begin{tabular}{ll}\n",
       " Petal.Length & Petal.Width\\\\\n",
       " <dbl> & <dbl>\\\\\n",
       "\\hline\n",
       "\t 1.4 & 0.2\\\\\n",
       "\t 1.4 & 0.2\\\\\n",
       "\t 1.3 & 0.2\\\\\n",
       "\t 1.5 & 0.2\\\\\n",
       "\t 1.4 & 0.2\\\\\n",
       "\t 1.7 & 0.4\\\\\n",
       "\t 1.4 & 0.3\\\\\n",
       "\t 1.5 & 0.2\\\\\n",
       "\t 1.4 & 0.2\\\\\n",
       "\t 1.5 & 0.1\\\\\n",
       "\t 1.5 & 0.2\\\\\n",
       "\t 1.6 & 0.2\\\\\n",
       "\t 1.4 & 0.1\\\\\n",
       "\t 1.1 & 0.1\\\\\n",
       "\t 1.2 & 0.2\\\\\n",
       "\t 1.5 & 0.4\\\\\n",
       "\t 1.3 & 0.4\\\\\n",
       "\t 1.4 & 0.3\\\\\n",
       "\t 1.7 & 0.3\\\\\n",
       "\t 1.5 & 0.3\\\\\n",
       "\t 1.7 & 0.2\\\\\n",
       "\t 1.5 & 0.4\\\\\n",
       "\t 1.0 & 0.2\\\\\n",
       "\t 1.7 & 0.5\\\\\n",
       "\t 1.9 & 0.2\\\\\n",
       "\t 1.6 & 0.2\\\\\n",
       "\t 1.6 & 0.4\\\\\n",
       "\t 1.5 & 0.2\\\\\n",
       "\t 1.4 & 0.2\\\\\n",
       "\t 1.6 & 0.2\\\\\n",
       "\t ... & ...\\\\\n",
       "\t 5.7 & 2.3\\\\\n",
       "\t 4.9 & 2.0\\\\\n",
       "\t 6.7 & 2.0\\\\\n",
       "\t 4.9 & 1.8\\\\\n",
       "\t 5.7 & 2.1\\\\\n",
       "\t 6.0 & 1.8\\\\\n",
       "\t 4.8 & 1.8\\\\\n",
       "\t 4.9 & 1.8\\\\\n",
       "\t 5.6 & 2.1\\\\\n",
       "\t 5.8 & 1.6\\\\\n",
       "\t 6.1 & 1.9\\\\\n",
       "\t 6.4 & 2.0\\\\\n",
       "\t 5.6 & 2.2\\\\\n",
       "\t 5.1 & 1.5\\\\\n",
       "\t 5.6 & 1.4\\\\\n",
       "\t 6.1 & 2.3\\\\\n",
       "\t 5.6 & 2.4\\\\\n",
       "\t 5.5 & 1.8\\\\\n",
       "\t 4.8 & 1.8\\\\\n",
       "\t 5.4 & 2.1\\\\\n",
       "\t 5.6 & 2.4\\\\\n",
       "\t 5.1 & 2.3\\\\\n",
       "\t 5.1 & 1.9\\\\\n",
       "\t 5.9 & 2.3\\\\\n",
       "\t 5.7 & 2.5\\\\\n",
       "\t 5.2 & 2.3\\\\\n",
       "\t 5.0 & 1.9\\\\\n",
       "\t 5.2 & 2.0\\\\\n",
       "\t 5.4 & 2.3\\\\\n",
       "\t 5.1 & 1.8\\\\\n",
       "\\end{tabular}\n"
      ],
      "text/markdown": [
       "\n",
       "A tibble: 150 × 2\n",
       "\n",
       "| Petal.Length &lt;dbl&gt; | Petal.Width &lt;dbl&gt; |\n",
       "|---|---|\n",
       "| 1.4 | 0.2 |\n",
       "| 1.4 | 0.2 |\n",
       "| 1.3 | 0.2 |\n",
       "| 1.5 | 0.2 |\n",
       "| 1.4 | 0.2 |\n",
       "| 1.7 | 0.4 |\n",
       "| 1.4 | 0.3 |\n",
       "| 1.5 | 0.2 |\n",
       "| 1.4 | 0.2 |\n",
       "| 1.5 | 0.1 |\n",
       "| 1.5 | 0.2 |\n",
       "| 1.6 | 0.2 |\n",
       "| 1.4 | 0.1 |\n",
       "| 1.1 | 0.1 |\n",
       "| 1.2 | 0.2 |\n",
       "| 1.5 | 0.4 |\n",
       "| 1.3 | 0.4 |\n",
       "| 1.4 | 0.3 |\n",
       "| 1.7 | 0.3 |\n",
       "| 1.5 | 0.3 |\n",
       "| 1.7 | 0.2 |\n",
       "| 1.5 | 0.4 |\n",
       "| 1.0 | 0.2 |\n",
       "| 1.7 | 0.5 |\n",
       "| 1.9 | 0.2 |\n",
       "| 1.6 | 0.2 |\n",
       "| 1.6 | 0.4 |\n",
       "| 1.5 | 0.2 |\n",
       "| 1.4 | 0.2 |\n",
       "| 1.6 | 0.2 |\n",
       "| ... | ... |\n",
       "| 5.7 | 2.3 |\n",
       "| 4.9 | 2.0 |\n",
       "| 6.7 | 2.0 |\n",
       "| 4.9 | 1.8 |\n",
       "| 5.7 | 2.1 |\n",
       "| 6.0 | 1.8 |\n",
       "| 4.8 | 1.8 |\n",
       "| 4.9 | 1.8 |\n",
       "| 5.6 | 2.1 |\n",
       "| 5.8 | 1.6 |\n",
       "| 6.1 | 1.9 |\n",
       "| 6.4 | 2.0 |\n",
       "| 5.6 | 2.2 |\n",
       "| 5.1 | 1.5 |\n",
       "| 5.6 | 1.4 |\n",
       "| 6.1 | 2.3 |\n",
       "| 5.6 | 2.4 |\n",
       "| 5.5 | 1.8 |\n",
       "| 4.8 | 1.8 |\n",
       "| 5.4 | 2.1 |\n",
       "| 5.6 | 2.4 |\n",
       "| 5.1 | 2.3 |\n",
       "| 5.1 | 1.9 |\n",
       "| 5.9 | 2.3 |\n",
       "| 5.7 | 2.5 |\n",
       "| 5.2 | 2.3 |\n",
       "| 5.0 | 1.9 |\n",
       "| 5.2 | 2.0 |\n",
       "| 5.4 | 2.3 |\n",
       "| 5.1 | 1.8 |\n",
       "\n"
      ],
      "text/plain": [
       "    Petal.Length Petal.Width\n",
       "1   1.4          0.2        \n",
       "2   1.4          0.2        \n",
       "3   1.3          0.2        \n",
       "4   1.5          0.2        \n",
       "5   1.4          0.2        \n",
       "6   1.7          0.4        \n",
       "7   1.4          0.3        \n",
       "8   1.5          0.2        \n",
       "9   1.4          0.2        \n",
       "10  1.5          0.1        \n",
       "11  1.5          0.2        \n",
       "12  1.6          0.2        \n",
       "13  1.4          0.1        \n",
       "14  1.1          0.1        \n",
       "15  1.2          0.2        \n",
       "16  1.5          0.4        \n",
       "17  1.3          0.4        \n",
       "18  1.4          0.3        \n",
       "19  1.7          0.3        \n",
       "20  1.5          0.3        \n",
       "21  1.7          0.2        \n",
       "22  1.5          0.4        \n",
       "23  1.0          0.2        \n",
       "24  1.7          0.5        \n",
       "25  1.9          0.2        \n",
       "26  1.6          0.2        \n",
       "27  1.6          0.4        \n",
       "28  1.5          0.2        \n",
       "29  1.4          0.2        \n",
       "30  1.6          0.2        \n",
       "... ...          ...        \n",
       "121 5.7          2.3        \n",
       "122 4.9          2.0        \n",
       "123 6.7          2.0        \n",
       "124 4.9          1.8        \n",
       "125 5.7          2.1        \n",
       "126 6.0          1.8        \n",
       "127 4.8          1.8        \n",
       "128 4.9          1.8        \n",
       "129 5.6          2.1        \n",
       "130 5.8          1.6        \n",
       "131 6.1          1.9        \n",
       "132 6.4          2.0        \n",
       "133 5.6          2.2        \n",
       "134 5.1          1.5        \n",
       "135 5.6          1.4        \n",
       "136 6.1          2.3        \n",
       "137 5.6          2.4        \n",
       "138 5.5          1.8        \n",
       "139 4.8          1.8        \n",
       "140 5.4          2.1        \n",
       "141 5.6          2.4        \n",
       "142 5.1          2.3        \n",
       "143 5.1          1.9        \n",
       "144 5.9          2.3        \n",
       "145 5.7          2.5        \n",
       "146 5.2          2.3        \n",
       "147 5.0          1.9        \n",
       "148 5.2          2.0        \n",
       "149 5.4          2.3        \n",
       "150 5.1          1.8        "
      ]
     },
     "metadata": {},
     "output_type": "display_data"
    },
    {
     "data": {
      "text/html": [
       "<table class=\"dataframe\">\n",
       "<caption>A tibble: 150 × 1</caption>\n",
       "<thead>\n",
       "\t<tr><th scope=col>Species</th></tr>\n",
       "\t<tr><th scope=col>&lt;fct&gt;</th></tr>\n",
       "</thead>\n",
       "<tbody>\n",
       "\t<tr><td>setosa</td></tr>\n",
       "\t<tr><td>setosa</td></tr>\n",
       "\t<tr><td>setosa</td></tr>\n",
       "\t<tr><td>setosa</td></tr>\n",
       "\t<tr><td>setosa</td></tr>\n",
       "\t<tr><td>setosa</td></tr>\n",
       "\t<tr><td>setosa</td></tr>\n",
       "\t<tr><td>setosa</td></tr>\n",
       "\t<tr><td>setosa</td></tr>\n",
       "\t<tr><td>setosa</td></tr>\n",
       "\t<tr><td>setosa</td></tr>\n",
       "\t<tr><td>setosa</td></tr>\n",
       "\t<tr><td>setosa</td></tr>\n",
       "\t<tr><td>setosa</td></tr>\n",
       "\t<tr><td>setosa</td></tr>\n",
       "\t<tr><td>setosa</td></tr>\n",
       "\t<tr><td>setosa</td></tr>\n",
       "\t<tr><td>setosa</td></tr>\n",
       "\t<tr><td>setosa</td></tr>\n",
       "\t<tr><td>setosa</td></tr>\n",
       "\t<tr><td>setosa</td></tr>\n",
       "\t<tr><td>setosa</td></tr>\n",
       "\t<tr><td>setosa</td></tr>\n",
       "\t<tr><td>setosa</td></tr>\n",
       "\t<tr><td>setosa</td></tr>\n",
       "\t<tr><td>setosa</td></tr>\n",
       "\t<tr><td>setosa</td></tr>\n",
       "\t<tr><td>setosa</td></tr>\n",
       "\t<tr><td>setosa</td></tr>\n",
       "\t<tr><td>setosa</td></tr>\n",
       "\t<tr><td>...</td></tr>\n",
       "\t<tr><td>virginica</td></tr>\n",
       "\t<tr><td>virginica</td></tr>\n",
       "\t<tr><td>virginica</td></tr>\n",
       "\t<tr><td>virginica</td></tr>\n",
       "\t<tr><td>virginica</td></tr>\n",
       "\t<tr><td>virginica</td></tr>\n",
       "\t<tr><td>virginica</td></tr>\n",
       "\t<tr><td>virginica</td></tr>\n",
       "\t<tr><td>virginica</td></tr>\n",
       "\t<tr><td>virginica</td></tr>\n",
       "\t<tr><td>virginica</td></tr>\n",
       "\t<tr><td>virginica</td></tr>\n",
       "\t<tr><td>virginica</td></tr>\n",
       "\t<tr><td>virginica</td></tr>\n",
       "\t<tr><td>virginica</td></tr>\n",
       "\t<tr><td>virginica</td></tr>\n",
       "\t<tr><td>virginica</td></tr>\n",
       "\t<tr><td>virginica</td></tr>\n",
       "\t<tr><td>virginica</td></tr>\n",
       "\t<tr><td>virginica</td></tr>\n",
       "\t<tr><td>virginica</td></tr>\n",
       "\t<tr><td>virginica</td></tr>\n",
       "\t<tr><td>virginica</td></tr>\n",
       "\t<tr><td>virginica</td></tr>\n",
       "\t<tr><td>virginica</td></tr>\n",
       "\t<tr><td>virginica</td></tr>\n",
       "\t<tr><td>virginica</td></tr>\n",
       "\t<tr><td>virginica</td></tr>\n",
       "\t<tr><td>virginica</td></tr>\n",
       "\t<tr><td>virginica</td></tr>\n",
       "</tbody>\n",
       "</table>\n"
      ],
      "text/latex": [
       "A tibble: 150 × 1\n",
       "\\begin{tabular}{l}\n",
       " Species\\\\\n",
       " <fct>\\\\\n",
       "\\hline\n",
       "\t setosa\\\\\n",
       "\t setosa\\\\\n",
       "\t setosa\\\\\n",
       "\t setosa\\\\\n",
       "\t setosa\\\\\n",
       "\t setosa\\\\\n",
       "\t setosa\\\\\n",
       "\t setosa\\\\\n",
       "\t setosa\\\\\n",
       "\t setosa\\\\\n",
       "\t setosa\\\\\n",
       "\t setosa\\\\\n",
       "\t setosa\\\\\n",
       "\t setosa\\\\\n",
       "\t setosa\\\\\n",
       "\t setosa\\\\\n",
       "\t setosa\\\\\n",
       "\t setosa\\\\\n",
       "\t setosa\\\\\n",
       "\t setosa\\\\\n",
       "\t setosa\\\\\n",
       "\t setosa\\\\\n",
       "\t setosa\\\\\n",
       "\t setosa\\\\\n",
       "\t setosa\\\\\n",
       "\t setosa\\\\\n",
       "\t setosa\\\\\n",
       "\t setosa\\\\\n",
       "\t setosa\\\\\n",
       "\t setosa\\\\\n",
       "\t ...\\\\\n",
       "\t virginica\\\\\n",
       "\t virginica\\\\\n",
       "\t virginica\\\\\n",
       "\t virginica\\\\\n",
       "\t virginica\\\\\n",
       "\t virginica\\\\\n",
       "\t virginica\\\\\n",
       "\t virginica\\\\\n",
       "\t virginica\\\\\n",
       "\t virginica\\\\\n",
       "\t virginica\\\\\n",
       "\t virginica\\\\\n",
       "\t virginica\\\\\n",
       "\t virginica\\\\\n",
       "\t virginica\\\\\n",
       "\t virginica\\\\\n",
       "\t virginica\\\\\n",
       "\t virginica\\\\\n",
       "\t virginica\\\\\n",
       "\t virginica\\\\\n",
       "\t virginica\\\\\n",
       "\t virginica\\\\\n",
       "\t virginica\\\\\n",
       "\t virginica\\\\\n",
       "\t virginica\\\\\n",
       "\t virginica\\\\\n",
       "\t virginica\\\\\n",
       "\t virginica\\\\\n",
       "\t virginica\\\\\n",
       "\t virginica\\\\\n",
       "\\end{tabular}\n"
      ],
      "text/markdown": [
       "\n",
       "A tibble: 150 × 1\n",
       "\n",
       "| Species &lt;fct&gt; |\n",
       "|---|\n",
       "| setosa |\n",
       "| setosa |\n",
       "| setosa |\n",
       "| setosa |\n",
       "| setosa |\n",
       "| setosa |\n",
       "| setosa |\n",
       "| setosa |\n",
       "| setosa |\n",
       "| setosa |\n",
       "| setosa |\n",
       "| setosa |\n",
       "| setosa |\n",
       "| setosa |\n",
       "| setosa |\n",
       "| setosa |\n",
       "| setosa |\n",
       "| setosa |\n",
       "| setosa |\n",
       "| setosa |\n",
       "| setosa |\n",
       "| setosa |\n",
       "| setosa |\n",
       "| setosa |\n",
       "| setosa |\n",
       "| setosa |\n",
       "| setosa |\n",
       "| setosa |\n",
       "| setosa |\n",
       "| setosa |\n",
       "| ... |\n",
       "| virginica |\n",
       "| virginica |\n",
       "| virginica |\n",
       "| virginica |\n",
       "| virginica |\n",
       "| virginica |\n",
       "| virginica |\n",
       "| virginica |\n",
       "| virginica |\n",
       "| virginica |\n",
       "| virginica |\n",
       "| virginica |\n",
       "| virginica |\n",
       "| virginica |\n",
       "| virginica |\n",
       "| virginica |\n",
       "| virginica |\n",
       "| virginica |\n",
       "| virginica |\n",
       "| virginica |\n",
       "| virginica |\n",
       "| virginica |\n",
       "| virginica |\n",
       "| virginica |\n",
       "| virginica |\n",
       "| virginica |\n",
       "| virginica |\n",
       "| virginica |\n",
       "| virginica |\n",
       "| virginica |\n",
       "\n"
      ],
      "text/plain": [
       "    Species  \n",
       "1   setosa   \n",
       "2   setosa   \n",
       "3   setosa   \n",
       "4   setosa   \n",
       "5   setosa   \n",
       "6   setosa   \n",
       "7   setosa   \n",
       "8   setosa   \n",
       "9   setosa   \n",
       "10  setosa   \n",
       "11  setosa   \n",
       "12  setosa   \n",
       "13  setosa   \n",
       "14  setosa   \n",
       "15  setosa   \n",
       "16  setosa   \n",
       "17  setosa   \n",
       "18  setosa   \n",
       "19  setosa   \n",
       "20  setosa   \n",
       "21  setosa   \n",
       "22  setosa   \n",
       "23  setosa   \n",
       "24  setosa   \n",
       "25  setosa   \n",
       "26  setosa   \n",
       "27  setosa   \n",
       "28  setosa   \n",
       "29  setosa   \n",
       "30  setosa   \n",
       "... ...      \n",
       "121 virginica\n",
       "122 virginica\n",
       "123 virginica\n",
       "124 virginica\n",
       "125 virginica\n",
       "126 virginica\n",
       "127 virginica\n",
       "128 virginica\n",
       "129 virginica\n",
       "130 virginica\n",
       "131 virginica\n",
       "132 virginica\n",
       "133 virginica\n",
       "134 virginica\n",
       "135 virginica\n",
       "136 virginica\n",
       "137 virginica\n",
       "138 virginica\n",
       "139 virginica\n",
       "140 virginica\n",
       "141 virginica\n",
       "142 virginica\n",
       "143 virginica\n",
       "144 virginica\n",
       "145 virginica\n",
       "146 virginica\n",
       "147 virginica\n",
       "148 virginica\n",
       "149 virginica\n",
       "150 virginica"
      ]
     },
     "metadata": {},
     "output_type": "display_data"
    }
   ],
   "source": [
    "iris %>% select(1:3)\n",
    "iris %>% select(Species, Sepal.Length)\n",
    "iris %>% select(starts_with(\"Petal\")) #fetches column name starts with Petal\n",
    "iris %>% select(where(is.factor)) #fetches catogorical columns"
   ]
  },
  {
   "cell_type": "markdown",
   "id": "bb7af1a6",
   "metadata": {},
   "source": [
    "Subsetting variables by position is straightforward in base R"
   ]
  },
  {
   "cell_type": "code",
   "execution_count": 313,
   "id": "676eff41",
   "metadata": {},
   "outputs": [
    {
     "data": {
      "text/html": [
       "<table class=\"dataframe\">\n",
       "<caption>A tibble: 150 × 3</caption>\n",
       "<thead>\n",
       "\t<tr><th scope=col>Sepal.Length</th><th scope=col>Sepal.Width</th><th scope=col>Petal.Length</th></tr>\n",
       "\t<tr><th scope=col>&lt;dbl&gt;</th><th scope=col>&lt;dbl&gt;</th><th scope=col>&lt;dbl&gt;</th></tr>\n",
       "</thead>\n",
       "<tbody>\n",
       "\t<tr><td>5.1</td><td>3.5</td><td>1.4</td></tr>\n",
       "\t<tr><td>4.9</td><td>3.0</td><td>1.4</td></tr>\n",
       "\t<tr><td>4.7</td><td>3.2</td><td>1.3</td></tr>\n",
       "\t<tr><td>4.6</td><td>3.1</td><td>1.5</td></tr>\n",
       "\t<tr><td>5.0</td><td>3.6</td><td>1.4</td></tr>\n",
       "\t<tr><td>5.4</td><td>3.9</td><td>1.7</td></tr>\n",
       "\t<tr><td>4.6</td><td>3.4</td><td>1.4</td></tr>\n",
       "\t<tr><td>5.0</td><td>3.4</td><td>1.5</td></tr>\n",
       "\t<tr><td>4.4</td><td>2.9</td><td>1.4</td></tr>\n",
       "\t<tr><td>4.9</td><td>3.1</td><td>1.5</td></tr>\n",
       "\t<tr><td>5.4</td><td>3.7</td><td>1.5</td></tr>\n",
       "\t<tr><td>4.8</td><td>3.4</td><td>1.6</td></tr>\n",
       "\t<tr><td>4.8</td><td>3.0</td><td>1.4</td></tr>\n",
       "\t<tr><td>4.3</td><td>3.0</td><td>1.1</td></tr>\n",
       "\t<tr><td>5.8</td><td>4.0</td><td>1.2</td></tr>\n",
       "\t<tr><td>5.7</td><td>4.4</td><td>1.5</td></tr>\n",
       "\t<tr><td>5.4</td><td>3.9</td><td>1.3</td></tr>\n",
       "\t<tr><td>5.1</td><td>3.5</td><td>1.4</td></tr>\n",
       "\t<tr><td>5.7</td><td>3.8</td><td>1.7</td></tr>\n",
       "\t<tr><td>5.1</td><td>3.8</td><td>1.5</td></tr>\n",
       "\t<tr><td>5.4</td><td>3.4</td><td>1.7</td></tr>\n",
       "\t<tr><td>5.1</td><td>3.7</td><td>1.5</td></tr>\n",
       "\t<tr><td>4.6</td><td>3.6</td><td>1.0</td></tr>\n",
       "\t<tr><td>5.1</td><td>3.3</td><td>1.7</td></tr>\n",
       "\t<tr><td>4.8</td><td>3.4</td><td>1.9</td></tr>\n",
       "\t<tr><td>5.0</td><td>3.0</td><td>1.6</td></tr>\n",
       "\t<tr><td>5.0</td><td>3.4</td><td>1.6</td></tr>\n",
       "\t<tr><td>5.2</td><td>3.5</td><td>1.5</td></tr>\n",
       "\t<tr><td>5.2</td><td>3.4</td><td>1.4</td></tr>\n",
       "\t<tr><td>4.7</td><td>3.2</td><td>1.6</td></tr>\n",
       "\t<tr><td>...</td><td>...</td><td>...</td></tr>\n",
       "\t<tr><td>6.9</td><td>3.2</td><td>5.7</td></tr>\n",
       "\t<tr><td>5.6</td><td>2.8</td><td>4.9</td></tr>\n",
       "\t<tr><td>7.7</td><td>2.8</td><td>6.7</td></tr>\n",
       "\t<tr><td>6.3</td><td>2.7</td><td>4.9</td></tr>\n",
       "\t<tr><td>6.7</td><td>3.3</td><td>5.7</td></tr>\n",
       "\t<tr><td>7.2</td><td>3.2</td><td>6.0</td></tr>\n",
       "\t<tr><td>6.2</td><td>2.8</td><td>4.8</td></tr>\n",
       "\t<tr><td>6.1</td><td>3.0</td><td>4.9</td></tr>\n",
       "\t<tr><td>6.4</td><td>2.8</td><td>5.6</td></tr>\n",
       "\t<tr><td>7.2</td><td>3.0</td><td>5.8</td></tr>\n",
       "\t<tr><td>7.4</td><td>2.8</td><td>6.1</td></tr>\n",
       "\t<tr><td>7.9</td><td>3.8</td><td>6.4</td></tr>\n",
       "\t<tr><td>6.4</td><td>2.8</td><td>5.6</td></tr>\n",
       "\t<tr><td>6.3</td><td>2.8</td><td>5.1</td></tr>\n",
       "\t<tr><td>6.1</td><td>2.6</td><td>5.6</td></tr>\n",
       "\t<tr><td>7.7</td><td>3.0</td><td>6.1</td></tr>\n",
       "\t<tr><td>6.3</td><td>3.4</td><td>5.6</td></tr>\n",
       "\t<tr><td>6.4</td><td>3.1</td><td>5.5</td></tr>\n",
       "\t<tr><td>6.0</td><td>3.0</td><td>4.8</td></tr>\n",
       "\t<tr><td>6.9</td><td>3.1</td><td>5.4</td></tr>\n",
       "\t<tr><td>6.7</td><td>3.1</td><td>5.6</td></tr>\n",
       "\t<tr><td>6.9</td><td>3.1</td><td>5.1</td></tr>\n",
       "\t<tr><td>5.8</td><td>2.7</td><td>5.1</td></tr>\n",
       "\t<tr><td>6.8</td><td>3.2</td><td>5.9</td></tr>\n",
       "\t<tr><td>6.7</td><td>3.3</td><td>5.7</td></tr>\n",
       "\t<tr><td>6.7</td><td>3.0</td><td>5.2</td></tr>\n",
       "\t<tr><td>6.3</td><td>2.5</td><td>5.0</td></tr>\n",
       "\t<tr><td>6.5</td><td>3.0</td><td>5.2</td></tr>\n",
       "\t<tr><td>6.2</td><td>3.4</td><td>5.4</td></tr>\n",
       "\t<tr><td>5.9</td><td>3.0</td><td>5.1</td></tr>\n",
       "</tbody>\n",
       "</table>\n"
      ],
      "text/latex": [
       "A tibble: 150 × 3\n",
       "\\begin{tabular}{lll}\n",
       " Sepal.Length & Sepal.Width & Petal.Length\\\\\n",
       " <dbl> & <dbl> & <dbl>\\\\\n",
       "\\hline\n",
       "\t 5.1 & 3.5 & 1.4\\\\\n",
       "\t 4.9 & 3.0 & 1.4\\\\\n",
       "\t 4.7 & 3.2 & 1.3\\\\\n",
       "\t 4.6 & 3.1 & 1.5\\\\\n",
       "\t 5.0 & 3.6 & 1.4\\\\\n",
       "\t 5.4 & 3.9 & 1.7\\\\\n",
       "\t 4.6 & 3.4 & 1.4\\\\\n",
       "\t 5.0 & 3.4 & 1.5\\\\\n",
       "\t 4.4 & 2.9 & 1.4\\\\\n",
       "\t 4.9 & 3.1 & 1.5\\\\\n",
       "\t 5.4 & 3.7 & 1.5\\\\\n",
       "\t 4.8 & 3.4 & 1.6\\\\\n",
       "\t 4.8 & 3.0 & 1.4\\\\\n",
       "\t 4.3 & 3.0 & 1.1\\\\\n",
       "\t 5.8 & 4.0 & 1.2\\\\\n",
       "\t 5.7 & 4.4 & 1.5\\\\\n",
       "\t 5.4 & 3.9 & 1.3\\\\\n",
       "\t 5.1 & 3.5 & 1.4\\\\\n",
       "\t 5.7 & 3.8 & 1.7\\\\\n",
       "\t 5.1 & 3.8 & 1.5\\\\\n",
       "\t 5.4 & 3.4 & 1.7\\\\\n",
       "\t 5.1 & 3.7 & 1.5\\\\\n",
       "\t 4.6 & 3.6 & 1.0\\\\\n",
       "\t 5.1 & 3.3 & 1.7\\\\\n",
       "\t 4.8 & 3.4 & 1.9\\\\\n",
       "\t 5.0 & 3.0 & 1.6\\\\\n",
       "\t 5.0 & 3.4 & 1.6\\\\\n",
       "\t 5.2 & 3.5 & 1.5\\\\\n",
       "\t 5.2 & 3.4 & 1.4\\\\\n",
       "\t 4.7 & 3.2 & 1.6\\\\\n",
       "\t ... & ... & ...\\\\\n",
       "\t 6.9 & 3.2 & 5.7\\\\\n",
       "\t 5.6 & 2.8 & 4.9\\\\\n",
       "\t 7.7 & 2.8 & 6.7\\\\\n",
       "\t 6.3 & 2.7 & 4.9\\\\\n",
       "\t 6.7 & 3.3 & 5.7\\\\\n",
       "\t 7.2 & 3.2 & 6.0\\\\\n",
       "\t 6.2 & 2.8 & 4.8\\\\\n",
       "\t 6.1 & 3.0 & 4.9\\\\\n",
       "\t 6.4 & 2.8 & 5.6\\\\\n",
       "\t 7.2 & 3.0 & 5.8\\\\\n",
       "\t 7.4 & 2.8 & 6.1\\\\\n",
       "\t 7.9 & 3.8 & 6.4\\\\\n",
       "\t 6.4 & 2.8 & 5.6\\\\\n",
       "\t 6.3 & 2.8 & 5.1\\\\\n",
       "\t 6.1 & 2.6 & 5.6\\\\\n",
       "\t 7.7 & 3.0 & 6.1\\\\\n",
       "\t 6.3 & 3.4 & 5.6\\\\\n",
       "\t 6.4 & 3.1 & 5.5\\\\\n",
       "\t 6.0 & 3.0 & 4.8\\\\\n",
       "\t 6.9 & 3.1 & 5.4\\\\\n",
       "\t 6.7 & 3.1 & 5.6\\\\\n",
       "\t 6.9 & 3.1 & 5.1\\\\\n",
       "\t 5.8 & 2.7 & 5.1\\\\\n",
       "\t 6.8 & 3.2 & 5.9\\\\\n",
       "\t 6.7 & 3.3 & 5.7\\\\\n",
       "\t 6.7 & 3.0 & 5.2\\\\\n",
       "\t 6.3 & 2.5 & 5.0\\\\\n",
       "\t 6.5 & 3.0 & 5.2\\\\\n",
       "\t 6.2 & 3.4 & 5.4\\\\\n",
       "\t 5.9 & 3.0 & 5.1\\\\\n",
       "\\end{tabular}\n"
      ],
      "text/markdown": [
       "\n",
       "A tibble: 150 × 3\n",
       "\n",
       "| Sepal.Length &lt;dbl&gt; | Sepal.Width &lt;dbl&gt; | Petal.Length &lt;dbl&gt; |\n",
       "|---|---|---|\n",
       "| 5.1 | 3.5 | 1.4 |\n",
       "| 4.9 | 3.0 | 1.4 |\n",
       "| 4.7 | 3.2 | 1.3 |\n",
       "| 4.6 | 3.1 | 1.5 |\n",
       "| 5.0 | 3.6 | 1.4 |\n",
       "| 5.4 | 3.9 | 1.7 |\n",
       "| 4.6 | 3.4 | 1.4 |\n",
       "| 5.0 | 3.4 | 1.5 |\n",
       "| 4.4 | 2.9 | 1.4 |\n",
       "| 4.9 | 3.1 | 1.5 |\n",
       "| 5.4 | 3.7 | 1.5 |\n",
       "| 4.8 | 3.4 | 1.6 |\n",
       "| 4.8 | 3.0 | 1.4 |\n",
       "| 4.3 | 3.0 | 1.1 |\n",
       "| 5.8 | 4.0 | 1.2 |\n",
       "| 5.7 | 4.4 | 1.5 |\n",
       "| 5.4 | 3.9 | 1.3 |\n",
       "| 5.1 | 3.5 | 1.4 |\n",
       "| 5.7 | 3.8 | 1.7 |\n",
       "| 5.1 | 3.8 | 1.5 |\n",
       "| 5.4 | 3.4 | 1.7 |\n",
       "| 5.1 | 3.7 | 1.5 |\n",
       "| 4.6 | 3.6 | 1.0 |\n",
       "| 5.1 | 3.3 | 1.7 |\n",
       "| 4.8 | 3.4 | 1.9 |\n",
       "| 5.0 | 3.0 | 1.6 |\n",
       "| 5.0 | 3.4 | 1.6 |\n",
       "| 5.2 | 3.5 | 1.5 |\n",
       "| 5.2 | 3.4 | 1.4 |\n",
       "| 4.7 | 3.2 | 1.6 |\n",
       "| ... | ... | ... |\n",
       "| 6.9 | 3.2 | 5.7 |\n",
       "| 5.6 | 2.8 | 4.9 |\n",
       "| 7.7 | 2.8 | 6.7 |\n",
       "| 6.3 | 2.7 | 4.9 |\n",
       "| 6.7 | 3.3 | 5.7 |\n",
       "| 7.2 | 3.2 | 6.0 |\n",
       "| 6.2 | 2.8 | 4.8 |\n",
       "| 6.1 | 3.0 | 4.9 |\n",
       "| 6.4 | 2.8 | 5.6 |\n",
       "| 7.2 | 3.0 | 5.8 |\n",
       "| 7.4 | 2.8 | 6.1 |\n",
       "| 7.9 | 3.8 | 6.4 |\n",
       "| 6.4 | 2.8 | 5.6 |\n",
       "| 6.3 | 2.8 | 5.1 |\n",
       "| 6.1 | 2.6 | 5.6 |\n",
       "| 7.7 | 3.0 | 6.1 |\n",
       "| 6.3 | 3.4 | 5.6 |\n",
       "| 6.4 | 3.1 | 5.5 |\n",
       "| 6.0 | 3.0 | 4.8 |\n",
       "| 6.9 | 3.1 | 5.4 |\n",
       "| 6.7 | 3.1 | 5.6 |\n",
       "| 6.9 | 3.1 | 5.1 |\n",
       "| 5.8 | 2.7 | 5.1 |\n",
       "| 6.8 | 3.2 | 5.9 |\n",
       "| 6.7 | 3.3 | 5.7 |\n",
       "| 6.7 | 3.0 | 5.2 |\n",
       "| 6.3 | 2.5 | 5.0 |\n",
       "| 6.5 | 3.0 | 5.2 |\n",
       "| 6.2 | 3.4 | 5.4 |\n",
       "| 5.9 | 3.0 | 5.1 |\n",
       "\n"
      ],
      "text/plain": [
       "    Sepal.Length Sepal.Width Petal.Length\n",
       "1   5.1          3.5         1.4         \n",
       "2   4.9          3.0         1.4         \n",
       "3   4.7          3.2         1.3         \n",
       "4   4.6          3.1         1.5         \n",
       "5   5.0          3.6         1.4         \n",
       "6   5.4          3.9         1.7         \n",
       "7   4.6          3.4         1.4         \n",
       "8   5.0          3.4         1.5         \n",
       "9   4.4          2.9         1.4         \n",
       "10  4.9          3.1         1.5         \n",
       "11  5.4          3.7         1.5         \n",
       "12  4.8          3.4         1.6         \n",
       "13  4.8          3.0         1.4         \n",
       "14  4.3          3.0         1.1         \n",
       "15  5.8          4.0         1.2         \n",
       "16  5.7          4.4         1.5         \n",
       "17  5.4          3.9         1.3         \n",
       "18  5.1          3.5         1.4         \n",
       "19  5.7          3.8         1.7         \n",
       "20  5.1          3.8         1.5         \n",
       "21  5.4          3.4         1.7         \n",
       "22  5.1          3.7         1.5         \n",
       "23  4.6          3.6         1.0         \n",
       "24  5.1          3.3         1.7         \n",
       "25  4.8          3.4         1.9         \n",
       "26  5.0          3.0         1.6         \n",
       "27  5.0          3.4         1.6         \n",
       "28  5.2          3.5         1.5         \n",
       "29  5.2          3.4         1.4         \n",
       "30  4.7          3.2         1.6         \n",
       "... ...          ...         ...         \n",
       "121 6.9          3.2         5.7         \n",
       "122 5.6          2.8         4.9         \n",
       "123 7.7          2.8         6.7         \n",
       "124 6.3          2.7         4.9         \n",
       "125 6.7          3.3         5.7         \n",
       "126 7.2          3.2         6.0         \n",
       "127 6.2          2.8         4.8         \n",
       "128 6.1          3.0         4.9         \n",
       "129 6.4          2.8         5.6         \n",
       "130 7.2          3.0         5.8         \n",
       "131 7.4          2.8         6.1         \n",
       "132 7.9          3.8         6.4         \n",
       "133 6.4          2.8         5.6         \n",
       "134 6.3          2.8         5.1         \n",
       "135 6.1          2.6         5.6         \n",
       "136 7.7          3.0         6.1         \n",
       "137 6.3          3.4         5.6         \n",
       "138 6.4          3.1         5.5         \n",
       "139 6.0          3.0         4.8         \n",
       "140 6.9          3.1         5.4         \n",
       "141 6.7          3.1         5.6         \n",
       "142 6.9          3.1         5.1         \n",
       "143 5.8          2.7         5.1         \n",
       "144 6.8          3.2         5.9         \n",
       "145 6.7          3.3         5.7         \n",
       "146 6.7          3.0         5.2         \n",
       "147 6.3          2.5         5.0         \n",
       "148 6.5          3.0         5.2         \n",
       "149 6.2          3.4         5.4         \n",
       "150 5.9          3.0         5.1         "
      ]
     },
     "metadata": {},
     "output_type": "display_data"
    }
   ],
   "source": [
    "iris[1:3]  # single argument selects columns; never drops"
   ]
  },
  {
   "cell_type": "code",
   "execution_count": 314,
   "id": "3f98d51e",
   "metadata": {},
   "outputs": [
    {
     "data": {
      "text/html": [
       "<table class=\"dataframe\">\n",
       "<caption>A tibble: 3 × 5</caption>\n",
       "<thead>\n",
       "\t<tr><th scope=col>Sepal.Length</th><th scope=col>Sepal.Width</th><th scope=col>Petal.Length</th><th scope=col>Petal.Width</th><th scope=col>Species</th></tr>\n",
       "\t<tr><th scope=col>&lt;dbl&gt;</th><th scope=col>&lt;dbl&gt;</th><th scope=col>&lt;dbl&gt;</th><th scope=col>&lt;dbl&gt;</th><th scope=col>&lt;fct&gt;</th></tr>\n",
       "</thead>\n",
       "<tbody>\n",
       "\t<tr><td>5.1</td><td>3.5</td><td>1.4</td><td>0.2</td><td>setosa</td></tr>\n",
       "\t<tr><td>4.9</td><td>3.0</td><td>1.4</td><td>0.2</td><td>setosa</td></tr>\n",
       "\t<tr><td>4.7</td><td>3.2</td><td>1.3</td><td>0.2</td><td>setosa</td></tr>\n",
       "</tbody>\n",
       "</table>\n"
      ],
      "text/latex": [
       "A tibble: 3 × 5\n",
       "\\begin{tabular}{lllll}\n",
       " Sepal.Length & Sepal.Width & Petal.Length & Petal.Width & Species\\\\\n",
       " <dbl> & <dbl> & <dbl> & <dbl> & <fct>\\\\\n",
       "\\hline\n",
       "\t 5.1 & 3.5 & 1.4 & 0.2 & setosa\\\\\n",
       "\t 4.9 & 3.0 & 1.4 & 0.2 & setosa\\\\\n",
       "\t 4.7 & 3.2 & 1.3 & 0.2 & setosa\\\\\n",
       "\\end{tabular}\n"
      ],
      "text/markdown": [
       "\n",
       "A tibble: 3 × 5\n",
       "\n",
       "| Sepal.Length &lt;dbl&gt; | Sepal.Width &lt;dbl&gt; | Petal.Length &lt;dbl&gt; | Petal.Width &lt;dbl&gt; | Species &lt;fct&gt; |\n",
       "|---|---|---|---|---|\n",
       "| 5.1 | 3.5 | 1.4 | 0.2 | setosa |\n",
       "| 4.9 | 3.0 | 1.4 | 0.2 | setosa |\n",
       "| 4.7 | 3.2 | 1.3 | 0.2 | setosa |\n",
       "\n"
      ],
      "text/plain": [
       "  Sepal.Length Sepal.Width Petal.Length Petal.Width Species\n",
       "1 5.1          3.5         1.4          0.2         setosa \n",
       "2 4.9          3.0         1.4          0.2         setosa \n",
       "3 4.7          3.2         1.3          0.2         setosa "
      ]
     },
     "metadata": {},
     "output_type": "display_data"
    }
   ],
   "source": [
    "iris[1:3, , drop = FALSE]"
   ]
  },
  {
   "cell_type": "markdown",
   "id": "212bbf12",
   "metadata": {},
   "source": [
    "## Two options to subset by name:"
   ]
  },
  {
   "cell_type": "code",
   "execution_count": 315,
   "id": "5b086189",
   "metadata": {},
   "outputs": [
    {
     "data": {
      "text/html": [
       "<table class=\"dataframe\">\n",
       "<caption>A tibble: 150 × 2</caption>\n",
       "<thead>\n",
       "\t<tr><th scope=col>Species</th><th scope=col>Sepal.Length</th></tr>\n",
       "\t<tr><th scope=col>&lt;fct&gt;</th><th scope=col>&lt;dbl&gt;</th></tr>\n",
       "</thead>\n",
       "<tbody>\n",
       "\t<tr><td>setosa</td><td>5.1</td></tr>\n",
       "\t<tr><td>setosa</td><td>4.9</td></tr>\n",
       "\t<tr><td>setosa</td><td>4.7</td></tr>\n",
       "\t<tr><td>setosa</td><td>4.6</td></tr>\n",
       "\t<tr><td>setosa</td><td>5.0</td></tr>\n",
       "\t<tr><td>setosa</td><td>5.4</td></tr>\n",
       "\t<tr><td>setosa</td><td>4.6</td></tr>\n",
       "\t<tr><td>setosa</td><td>5.0</td></tr>\n",
       "\t<tr><td>setosa</td><td>4.4</td></tr>\n",
       "\t<tr><td>setosa</td><td>4.9</td></tr>\n",
       "\t<tr><td>setosa</td><td>5.4</td></tr>\n",
       "\t<tr><td>setosa</td><td>4.8</td></tr>\n",
       "\t<tr><td>setosa</td><td>4.8</td></tr>\n",
       "\t<tr><td>setosa</td><td>4.3</td></tr>\n",
       "\t<tr><td>setosa</td><td>5.8</td></tr>\n",
       "\t<tr><td>setosa</td><td>5.7</td></tr>\n",
       "\t<tr><td>setosa</td><td>5.4</td></tr>\n",
       "\t<tr><td>setosa</td><td>5.1</td></tr>\n",
       "\t<tr><td>setosa</td><td>5.7</td></tr>\n",
       "\t<tr><td>setosa</td><td>5.1</td></tr>\n",
       "\t<tr><td>setosa</td><td>5.4</td></tr>\n",
       "\t<tr><td>setosa</td><td>5.1</td></tr>\n",
       "\t<tr><td>setosa</td><td>4.6</td></tr>\n",
       "\t<tr><td>setosa</td><td>5.1</td></tr>\n",
       "\t<tr><td>setosa</td><td>4.8</td></tr>\n",
       "\t<tr><td>setosa</td><td>5.0</td></tr>\n",
       "\t<tr><td>setosa</td><td>5.0</td></tr>\n",
       "\t<tr><td>setosa</td><td>5.2</td></tr>\n",
       "\t<tr><td>setosa</td><td>5.2</td></tr>\n",
       "\t<tr><td>setosa</td><td>4.7</td></tr>\n",
       "\t<tr><td>...</td><td>...</td></tr>\n",
       "\t<tr><td>virginica</td><td>6.9</td></tr>\n",
       "\t<tr><td>virginica</td><td>5.6</td></tr>\n",
       "\t<tr><td>virginica</td><td>7.7</td></tr>\n",
       "\t<tr><td>virginica</td><td>6.3</td></tr>\n",
       "\t<tr><td>virginica</td><td>6.7</td></tr>\n",
       "\t<tr><td>virginica</td><td>7.2</td></tr>\n",
       "\t<tr><td>virginica</td><td>6.2</td></tr>\n",
       "\t<tr><td>virginica</td><td>6.1</td></tr>\n",
       "\t<tr><td>virginica</td><td>6.4</td></tr>\n",
       "\t<tr><td>virginica</td><td>7.2</td></tr>\n",
       "\t<tr><td>virginica</td><td>7.4</td></tr>\n",
       "\t<tr><td>virginica</td><td>7.9</td></tr>\n",
       "\t<tr><td>virginica</td><td>6.4</td></tr>\n",
       "\t<tr><td>virginica</td><td>6.3</td></tr>\n",
       "\t<tr><td>virginica</td><td>6.1</td></tr>\n",
       "\t<tr><td>virginica</td><td>7.7</td></tr>\n",
       "\t<tr><td>virginica</td><td>6.3</td></tr>\n",
       "\t<tr><td>virginica</td><td>6.4</td></tr>\n",
       "\t<tr><td>virginica</td><td>6.0</td></tr>\n",
       "\t<tr><td>virginica</td><td>6.9</td></tr>\n",
       "\t<tr><td>virginica</td><td>6.7</td></tr>\n",
       "\t<tr><td>virginica</td><td>6.9</td></tr>\n",
       "\t<tr><td>virginica</td><td>5.8</td></tr>\n",
       "\t<tr><td>virginica</td><td>6.8</td></tr>\n",
       "\t<tr><td>virginica</td><td>6.7</td></tr>\n",
       "\t<tr><td>virginica</td><td>6.7</td></tr>\n",
       "\t<tr><td>virginica</td><td>6.3</td></tr>\n",
       "\t<tr><td>virginica</td><td>6.5</td></tr>\n",
       "\t<tr><td>virginica</td><td>6.2</td></tr>\n",
       "\t<tr><td>virginica</td><td>5.9</td></tr>\n",
       "</tbody>\n",
       "</table>\n"
      ],
      "text/latex": [
       "A tibble: 150 × 2\n",
       "\\begin{tabular}{ll}\n",
       " Species & Sepal.Length\\\\\n",
       " <fct> & <dbl>\\\\\n",
       "\\hline\n",
       "\t setosa & 5.1\\\\\n",
       "\t setosa & 4.9\\\\\n",
       "\t setosa & 4.7\\\\\n",
       "\t setosa & 4.6\\\\\n",
       "\t setosa & 5.0\\\\\n",
       "\t setosa & 5.4\\\\\n",
       "\t setosa & 4.6\\\\\n",
       "\t setosa & 5.0\\\\\n",
       "\t setosa & 4.4\\\\\n",
       "\t setosa & 4.9\\\\\n",
       "\t setosa & 5.4\\\\\n",
       "\t setosa & 4.8\\\\\n",
       "\t setosa & 4.8\\\\\n",
       "\t setosa & 4.3\\\\\n",
       "\t setosa & 5.8\\\\\n",
       "\t setosa & 5.7\\\\\n",
       "\t setosa & 5.4\\\\\n",
       "\t setosa & 5.1\\\\\n",
       "\t setosa & 5.7\\\\\n",
       "\t setosa & 5.1\\\\\n",
       "\t setosa & 5.4\\\\\n",
       "\t setosa & 5.1\\\\\n",
       "\t setosa & 4.6\\\\\n",
       "\t setosa & 5.1\\\\\n",
       "\t setosa & 4.8\\\\\n",
       "\t setosa & 5.0\\\\\n",
       "\t setosa & 5.0\\\\\n",
       "\t setosa & 5.2\\\\\n",
       "\t setosa & 5.2\\\\\n",
       "\t setosa & 4.7\\\\\n",
       "\t ... & ...\\\\\n",
       "\t virginica & 6.9\\\\\n",
       "\t virginica & 5.6\\\\\n",
       "\t virginica & 7.7\\\\\n",
       "\t virginica & 6.3\\\\\n",
       "\t virginica & 6.7\\\\\n",
       "\t virginica & 7.2\\\\\n",
       "\t virginica & 6.2\\\\\n",
       "\t virginica & 6.1\\\\\n",
       "\t virginica & 6.4\\\\\n",
       "\t virginica & 7.2\\\\\n",
       "\t virginica & 7.4\\\\\n",
       "\t virginica & 7.9\\\\\n",
       "\t virginica & 6.4\\\\\n",
       "\t virginica & 6.3\\\\\n",
       "\t virginica & 6.1\\\\\n",
       "\t virginica & 7.7\\\\\n",
       "\t virginica & 6.3\\\\\n",
       "\t virginica & 6.4\\\\\n",
       "\t virginica & 6.0\\\\\n",
       "\t virginica & 6.9\\\\\n",
       "\t virginica & 6.7\\\\\n",
       "\t virginica & 6.9\\\\\n",
       "\t virginica & 5.8\\\\\n",
       "\t virginica & 6.8\\\\\n",
       "\t virginica & 6.7\\\\\n",
       "\t virginica & 6.7\\\\\n",
       "\t virginica & 6.3\\\\\n",
       "\t virginica & 6.5\\\\\n",
       "\t virginica & 6.2\\\\\n",
       "\t virginica & 5.9\\\\\n",
       "\\end{tabular}\n"
      ],
      "text/markdown": [
       "\n",
       "A tibble: 150 × 2\n",
       "\n",
       "| Species &lt;fct&gt; | Sepal.Length &lt;dbl&gt; |\n",
       "|---|---|\n",
       "| setosa | 5.1 |\n",
       "| setosa | 4.9 |\n",
       "| setosa | 4.7 |\n",
       "| setosa | 4.6 |\n",
       "| setosa | 5.0 |\n",
       "| setosa | 5.4 |\n",
       "| setosa | 4.6 |\n",
       "| setosa | 5.0 |\n",
       "| setosa | 4.4 |\n",
       "| setosa | 4.9 |\n",
       "| setosa | 5.4 |\n",
       "| setosa | 4.8 |\n",
       "| setosa | 4.8 |\n",
       "| setosa | 4.3 |\n",
       "| setosa | 5.8 |\n",
       "| setosa | 5.7 |\n",
       "| setosa | 5.4 |\n",
       "| setosa | 5.1 |\n",
       "| setosa | 5.7 |\n",
       "| setosa | 5.1 |\n",
       "| setosa | 5.4 |\n",
       "| setosa | 5.1 |\n",
       "| setosa | 4.6 |\n",
       "| setosa | 5.1 |\n",
       "| setosa | 4.8 |\n",
       "| setosa | 5.0 |\n",
       "| setosa | 5.0 |\n",
       "| setosa | 5.2 |\n",
       "| setosa | 5.2 |\n",
       "| setosa | 4.7 |\n",
       "| ... | ... |\n",
       "| virginica | 6.9 |\n",
       "| virginica | 5.6 |\n",
       "| virginica | 7.7 |\n",
       "| virginica | 6.3 |\n",
       "| virginica | 6.7 |\n",
       "| virginica | 7.2 |\n",
       "| virginica | 6.2 |\n",
       "| virginica | 6.1 |\n",
       "| virginica | 6.4 |\n",
       "| virginica | 7.2 |\n",
       "| virginica | 7.4 |\n",
       "| virginica | 7.9 |\n",
       "| virginica | 6.4 |\n",
       "| virginica | 6.3 |\n",
       "| virginica | 6.1 |\n",
       "| virginica | 7.7 |\n",
       "| virginica | 6.3 |\n",
       "| virginica | 6.4 |\n",
       "| virginica | 6.0 |\n",
       "| virginica | 6.9 |\n",
       "| virginica | 6.7 |\n",
       "| virginica | 6.9 |\n",
       "| virginica | 5.8 |\n",
       "| virginica | 6.8 |\n",
       "| virginica | 6.7 |\n",
       "| virginica | 6.7 |\n",
       "| virginica | 6.3 |\n",
       "| virginica | 6.5 |\n",
       "| virginica | 6.2 |\n",
       "| virginica | 5.9 |\n",
       "\n"
      ],
      "text/plain": [
       "    Species   Sepal.Length\n",
       "1   setosa    5.1         \n",
       "2   setosa    4.9         \n",
       "3   setosa    4.7         \n",
       "4   setosa    4.6         \n",
       "5   setosa    5.0         \n",
       "6   setosa    5.4         \n",
       "7   setosa    4.6         \n",
       "8   setosa    5.0         \n",
       "9   setosa    4.4         \n",
       "10  setosa    4.9         \n",
       "11  setosa    5.4         \n",
       "12  setosa    4.8         \n",
       "13  setosa    4.8         \n",
       "14  setosa    4.3         \n",
       "15  setosa    5.8         \n",
       "16  setosa    5.7         \n",
       "17  setosa    5.4         \n",
       "18  setosa    5.1         \n",
       "19  setosa    5.7         \n",
       "20  setosa    5.1         \n",
       "21  setosa    5.4         \n",
       "22  setosa    5.1         \n",
       "23  setosa    4.6         \n",
       "24  setosa    5.1         \n",
       "25  setosa    4.8         \n",
       "26  setosa    5.0         \n",
       "27  setosa    5.0         \n",
       "28  setosa    5.2         \n",
       "29  setosa    5.2         \n",
       "30  setosa    4.7         \n",
       "... ...       ...         \n",
       "121 virginica 6.9         \n",
       "122 virginica 5.6         \n",
       "123 virginica 7.7         \n",
       "124 virginica 6.3         \n",
       "125 virginica 6.7         \n",
       "126 virginica 7.2         \n",
       "127 virginica 6.2         \n",
       "128 virginica 6.1         \n",
       "129 virginica 6.4         \n",
       "130 virginica 7.2         \n",
       "131 virginica 7.4         \n",
       "132 virginica 7.9         \n",
       "133 virginica 6.4         \n",
       "134 virginica 6.3         \n",
       "135 virginica 6.1         \n",
       "136 virginica 7.7         \n",
       "137 virginica 6.3         \n",
       "138 virginica 6.4         \n",
       "139 virginica 6.0         \n",
       "140 virginica 6.9         \n",
       "141 virginica 6.7         \n",
       "142 virginica 6.9         \n",
       "143 virginica 5.8         \n",
       "144 virginica 6.8         \n",
       "145 virginica 6.7         \n",
       "146 virginica 6.7         \n",
       "147 virginica 6.3         \n",
       "148 virginica 6.5         \n",
       "149 virginica 6.2         \n",
       "150 virginica 5.9         "
      ]
     },
     "metadata": {},
     "output_type": "display_data"
    },
    {
     "data": {
      "text/html": [
       "<table class=\"dataframe\">\n",
       "<caption>A tibble: 150 × 2</caption>\n",
       "<thead>\n",
       "\t<tr><th scope=col>Species</th><th scope=col>Sepal.Length</th></tr>\n",
       "\t<tr><th scope=col>&lt;fct&gt;</th><th scope=col>&lt;dbl&gt;</th></tr>\n",
       "</thead>\n",
       "<tbody>\n",
       "\t<tr><td>setosa</td><td>5.1</td></tr>\n",
       "\t<tr><td>setosa</td><td>4.9</td></tr>\n",
       "\t<tr><td>setosa</td><td>4.7</td></tr>\n",
       "\t<tr><td>setosa</td><td>4.6</td></tr>\n",
       "\t<tr><td>setosa</td><td>5.0</td></tr>\n",
       "\t<tr><td>setosa</td><td>5.4</td></tr>\n",
       "\t<tr><td>setosa</td><td>4.6</td></tr>\n",
       "\t<tr><td>setosa</td><td>5.0</td></tr>\n",
       "\t<tr><td>setosa</td><td>4.4</td></tr>\n",
       "\t<tr><td>setosa</td><td>4.9</td></tr>\n",
       "\t<tr><td>setosa</td><td>5.4</td></tr>\n",
       "\t<tr><td>setosa</td><td>4.8</td></tr>\n",
       "\t<tr><td>setosa</td><td>4.8</td></tr>\n",
       "\t<tr><td>setosa</td><td>4.3</td></tr>\n",
       "\t<tr><td>setosa</td><td>5.8</td></tr>\n",
       "\t<tr><td>setosa</td><td>5.7</td></tr>\n",
       "\t<tr><td>setosa</td><td>5.4</td></tr>\n",
       "\t<tr><td>setosa</td><td>5.1</td></tr>\n",
       "\t<tr><td>setosa</td><td>5.7</td></tr>\n",
       "\t<tr><td>setosa</td><td>5.1</td></tr>\n",
       "\t<tr><td>setosa</td><td>5.4</td></tr>\n",
       "\t<tr><td>setosa</td><td>5.1</td></tr>\n",
       "\t<tr><td>setosa</td><td>4.6</td></tr>\n",
       "\t<tr><td>setosa</td><td>5.1</td></tr>\n",
       "\t<tr><td>setosa</td><td>4.8</td></tr>\n",
       "\t<tr><td>setosa</td><td>5.0</td></tr>\n",
       "\t<tr><td>setosa</td><td>5.0</td></tr>\n",
       "\t<tr><td>setosa</td><td>5.2</td></tr>\n",
       "\t<tr><td>setosa</td><td>5.2</td></tr>\n",
       "\t<tr><td>setosa</td><td>4.7</td></tr>\n",
       "\t<tr><td>...</td><td>...</td></tr>\n",
       "\t<tr><td>virginica</td><td>6.9</td></tr>\n",
       "\t<tr><td>virginica</td><td>5.6</td></tr>\n",
       "\t<tr><td>virginica</td><td>7.7</td></tr>\n",
       "\t<tr><td>virginica</td><td>6.3</td></tr>\n",
       "\t<tr><td>virginica</td><td>6.7</td></tr>\n",
       "\t<tr><td>virginica</td><td>7.2</td></tr>\n",
       "\t<tr><td>virginica</td><td>6.2</td></tr>\n",
       "\t<tr><td>virginica</td><td>6.1</td></tr>\n",
       "\t<tr><td>virginica</td><td>6.4</td></tr>\n",
       "\t<tr><td>virginica</td><td>7.2</td></tr>\n",
       "\t<tr><td>virginica</td><td>7.4</td></tr>\n",
       "\t<tr><td>virginica</td><td>7.9</td></tr>\n",
       "\t<tr><td>virginica</td><td>6.4</td></tr>\n",
       "\t<tr><td>virginica</td><td>6.3</td></tr>\n",
       "\t<tr><td>virginica</td><td>6.1</td></tr>\n",
       "\t<tr><td>virginica</td><td>7.7</td></tr>\n",
       "\t<tr><td>virginica</td><td>6.3</td></tr>\n",
       "\t<tr><td>virginica</td><td>6.4</td></tr>\n",
       "\t<tr><td>virginica</td><td>6.0</td></tr>\n",
       "\t<tr><td>virginica</td><td>6.9</td></tr>\n",
       "\t<tr><td>virginica</td><td>6.7</td></tr>\n",
       "\t<tr><td>virginica</td><td>6.9</td></tr>\n",
       "\t<tr><td>virginica</td><td>5.8</td></tr>\n",
       "\t<tr><td>virginica</td><td>6.8</td></tr>\n",
       "\t<tr><td>virginica</td><td>6.7</td></tr>\n",
       "\t<tr><td>virginica</td><td>6.7</td></tr>\n",
       "\t<tr><td>virginica</td><td>6.3</td></tr>\n",
       "\t<tr><td>virginica</td><td>6.5</td></tr>\n",
       "\t<tr><td>virginica</td><td>6.2</td></tr>\n",
       "\t<tr><td>virginica</td><td>5.9</td></tr>\n",
       "</tbody>\n",
       "</table>\n"
      ],
      "text/latex": [
       "A tibble: 150 × 2\n",
       "\\begin{tabular}{ll}\n",
       " Species & Sepal.Length\\\\\n",
       " <fct> & <dbl>\\\\\n",
       "\\hline\n",
       "\t setosa & 5.1\\\\\n",
       "\t setosa & 4.9\\\\\n",
       "\t setosa & 4.7\\\\\n",
       "\t setosa & 4.6\\\\\n",
       "\t setosa & 5.0\\\\\n",
       "\t setosa & 5.4\\\\\n",
       "\t setosa & 4.6\\\\\n",
       "\t setosa & 5.0\\\\\n",
       "\t setosa & 4.4\\\\\n",
       "\t setosa & 4.9\\\\\n",
       "\t setosa & 5.4\\\\\n",
       "\t setosa & 4.8\\\\\n",
       "\t setosa & 4.8\\\\\n",
       "\t setosa & 4.3\\\\\n",
       "\t setosa & 5.8\\\\\n",
       "\t setosa & 5.7\\\\\n",
       "\t setosa & 5.4\\\\\n",
       "\t setosa & 5.1\\\\\n",
       "\t setosa & 5.7\\\\\n",
       "\t setosa & 5.1\\\\\n",
       "\t setosa & 5.4\\\\\n",
       "\t setosa & 5.1\\\\\n",
       "\t setosa & 4.6\\\\\n",
       "\t setosa & 5.1\\\\\n",
       "\t setosa & 4.8\\\\\n",
       "\t setosa & 5.0\\\\\n",
       "\t setosa & 5.0\\\\\n",
       "\t setosa & 5.2\\\\\n",
       "\t setosa & 5.2\\\\\n",
       "\t setosa & 4.7\\\\\n",
       "\t ... & ...\\\\\n",
       "\t virginica & 6.9\\\\\n",
       "\t virginica & 5.6\\\\\n",
       "\t virginica & 7.7\\\\\n",
       "\t virginica & 6.3\\\\\n",
       "\t virginica & 6.7\\\\\n",
       "\t virginica & 7.2\\\\\n",
       "\t virginica & 6.2\\\\\n",
       "\t virginica & 6.1\\\\\n",
       "\t virginica & 6.4\\\\\n",
       "\t virginica & 7.2\\\\\n",
       "\t virginica & 7.4\\\\\n",
       "\t virginica & 7.9\\\\\n",
       "\t virginica & 6.4\\\\\n",
       "\t virginica & 6.3\\\\\n",
       "\t virginica & 6.1\\\\\n",
       "\t virginica & 7.7\\\\\n",
       "\t virginica & 6.3\\\\\n",
       "\t virginica & 6.4\\\\\n",
       "\t virginica & 6.0\\\\\n",
       "\t virginica & 6.9\\\\\n",
       "\t virginica & 6.7\\\\\n",
       "\t virginica & 6.9\\\\\n",
       "\t virginica & 5.8\\\\\n",
       "\t virginica & 6.8\\\\\n",
       "\t virginica & 6.7\\\\\n",
       "\t virginica & 6.7\\\\\n",
       "\t virginica & 6.3\\\\\n",
       "\t virginica & 6.5\\\\\n",
       "\t virginica & 6.2\\\\\n",
       "\t virginica & 5.9\\\\\n",
       "\\end{tabular}\n"
      ],
      "text/markdown": [
       "\n",
       "A tibble: 150 × 2\n",
       "\n",
       "| Species &lt;fct&gt; | Sepal.Length &lt;dbl&gt; |\n",
       "|---|---|\n",
       "| setosa | 5.1 |\n",
       "| setosa | 4.9 |\n",
       "| setosa | 4.7 |\n",
       "| setosa | 4.6 |\n",
       "| setosa | 5.0 |\n",
       "| setosa | 5.4 |\n",
       "| setosa | 4.6 |\n",
       "| setosa | 5.0 |\n",
       "| setosa | 4.4 |\n",
       "| setosa | 4.9 |\n",
       "| setosa | 5.4 |\n",
       "| setosa | 4.8 |\n",
       "| setosa | 4.8 |\n",
       "| setosa | 4.3 |\n",
       "| setosa | 5.8 |\n",
       "| setosa | 5.7 |\n",
       "| setosa | 5.4 |\n",
       "| setosa | 5.1 |\n",
       "| setosa | 5.7 |\n",
       "| setosa | 5.1 |\n",
       "| setosa | 5.4 |\n",
       "| setosa | 5.1 |\n",
       "| setosa | 4.6 |\n",
       "| setosa | 5.1 |\n",
       "| setosa | 4.8 |\n",
       "| setosa | 5.0 |\n",
       "| setosa | 5.0 |\n",
       "| setosa | 5.2 |\n",
       "| setosa | 5.2 |\n",
       "| setosa | 4.7 |\n",
       "| ... | ... |\n",
       "| virginica | 6.9 |\n",
       "| virginica | 5.6 |\n",
       "| virginica | 7.7 |\n",
       "| virginica | 6.3 |\n",
       "| virginica | 6.7 |\n",
       "| virginica | 7.2 |\n",
       "| virginica | 6.2 |\n",
       "| virginica | 6.1 |\n",
       "| virginica | 6.4 |\n",
       "| virginica | 7.2 |\n",
       "| virginica | 7.4 |\n",
       "| virginica | 7.9 |\n",
       "| virginica | 6.4 |\n",
       "| virginica | 6.3 |\n",
       "| virginica | 6.1 |\n",
       "| virginica | 7.7 |\n",
       "| virginica | 6.3 |\n",
       "| virginica | 6.4 |\n",
       "| virginica | 6.0 |\n",
       "| virginica | 6.9 |\n",
       "| virginica | 6.7 |\n",
       "| virginica | 6.9 |\n",
       "| virginica | 5.8 |\n",
       "| virginica | 6.8 |\n",
       "| virginica | 6.7 |\n",
       "| virginica | 6.7 |\n",
       "| virginica | 6.3 |\n",
       "| virginica | 6.5 |\n",
       "| virginica | 6.2 |\n",
       "| virginica | 5.9 |\n",
       "\n"
      ],
      "text/plain": [
       "    Species   Sepal.Length\n",
       "1   setosa    5.1         \n",
       "2   setosa    4.9         \n",
       "3   setosa    4.7         \n",
       "4   setosa    4.6         \n",
       "5   setosa    5.0         \n",
       "6   setosa    5.4         \n",
       "7   setosa    4.6         \n",
       "8   setosa    5.0         \n",
       "9   setosa    4.4         \n",
       "10  setosa    4.9         \n",
       "11  setosa    5.4         \n",
       "12  setosa    4.8         \n",
       "13  setosa    4.8         \n",
       "14  setosa    4.3         \n",
       "15  setosa    5.8         \n",
       "16  setosa    5.7         \n",
       "17  setosa    5.4         \n",
       "18  setosa    5.1         \n",
       "19  setosa    5.7         \n",
       "20  setosa    5.1         \n",
       "21  setosa    5.4         \n",
       "22  setosa    5.1         \n",
       "23  setosa    4.6         \n",
       "24  setosa    5.1         \n",
       "25  setosa    4.8         \n",
       "26  setosa    5.0         \n",
       "27  setosa    5.0         \n",
       "28  setosa    5.2         \n",
       "29  setosa    5.2         \n",
       "30  setosa    4.7         \n",
       "... ...       ...         \n",
       "121 virginica 6.9         \n",
       "122 virginica 5.6         \n",
       "123 virginica 7.7         \n",
       "124 virginica 6.3         \n",
       "125 virginica 6.7         \n",
       "126 virginica 7.2         \n",
       "127 virginica 6.2         \n",
       "128 virginica 6.1         \n",
       "129 virginica 6.4         \n",
       "130 virginica 7.2         \n",
       "131 virginica 7.4         \n",
       "132 virginica 7.9         \n",
       "133 virginica 6.4         \n",
       "134 virginica 6.3         \n",
       "135 virginica 6.1         \n",
       "136 virginica 7.7         \n",
       "137 virginica 6.3         \n",
       "138 virginica 6.4         \n",
       "139 virginica 6.0         \n",
       "140 virginica 6.9         \n",
       "141 virginica 6.7         \n",
       "142 virginica 6.9         \n",
       "143 virginica 5.8         \n",
       "144 virginica 6.8         \n",
       "145 virginica 6.7         \n",
       "146 virginica 6.7         \n",
       "147 virginica 6.3         \n",
       "148 virginica 6.5         \n",
       "149 virginica 6.2         \n",
       "150 virginica 5.9         "
      ]
     },
     "metadata": {},
     "output_type": "display_data"
    }
   ],
   "source": [
    "iris[c(\"Species\", \"Sepal.Length\")]\n",
    "#or\n",
    "subset(iris, select = c(Species, Sepal.Length))"
   ]
  },
  {
   "cell_type": "code",
   "execution_count": 316,
   "id": "b6dced70",
   "metadata": {},
   "outputs": [
    {
     "data": {
      "text/html": [
       "<table class=\"dataframe\">\n",
       "<caption>A tibble: 150 × 2</caption>\n",
       "<thead>\n",
       "\t<tr><th scope=col>Petal.Length</th><th scope=col>Petal.Width</th></tr>\n",
       "\t<tr><th scope=col>&lt;dbl&gt;</th><th scope=col>&lt;dbl&gt;</th></tr>\n",
       "</thead>\n",
       "<tbody>\n",
       "\t<tr><td>1.4</td><td>0.2</td></tr>\n",
       "\t<tr><td>1.4</td><td>0.2</td></tr>\n",
       "\t<tr><td>1.3</td><td>0.2</td></tr>\n",
       "\t<tr><td>1.5</td><td>0.2</td></tr>\n",
       "\t<tr><td>1.4</td><td>0.2</td></tr>\n",
       "\t<tr><td>1.7</td><td>0.4</td></tr>\n",
       "\t<tr><td>1.4</td><td>0.3</td></tr>\n",
       "\t<tr><td>1.5</td><td>0.2</td></tr>\n",
       "\t<tr><td>1.4</td><td>0.2</td></tr>\n",
       "\t<tr><td>1.5</td><td>0.1</td></tr>\n",
       "\t<tr><td>1.5</td><td>0.2</td></tr>\n",
       "\t<tr><td>1.6</td><td>0.2</td></tr>\n",
       "\t<tr><td>1.4</td><td>0.1</td></tr>\n",
       "\t<tr><td>1.1</td><td>0.1</td></tr>\n",
       "\t<tr><td>1.2</td><td>0.2</td></tr>\n",
       "\t<tr><td>1.5</td><td>0.4</td></tr>\n",
       "\t<tr><td>1.3</td><td>0.4</td></tr>\n",
       "\t<tr><td>1.4</td><td>0.3</td></tr>\n",
       "\t<tr><td>1.7</td><td>0.3</td></tr>\n",
       "\t<tr><td>1.5</td><td>0.3</td></tr>\n",
       "\t<tr><td>1.7</td><td>0.2</td></tr>\n",
       "\t<tr><td>1.5</td><td>0.4</td></tr>\n",
       "\t<tr><td>1.0</td><td>0.2</td></tr>\n",
       "\t<tr><td>1.7</td><td>0.5</td></tr>\n",
       "\t<tr><td>1.9</td><td>0.2</td></tr>\n",
       "\t<tr><td>1.6</td><td>0.2</td></tr>\n",
       "\t<tr><td>1.6</td><td>0.4</td></tr>\n",
       "\t<tr><td>1.5</td><td>0.2</td></tr>\n",
       "\t<tr><td>1.4</td><td>0.2</td></tr>\n",
       "\t<tr><td>1.6</td><td>0.2</td></tr>\n",
       "\t<tr><td>...</td><td>...</td></tr>\n",
       "\t<tr><td>5.7</td><td>2.3</td></tr>\n",
       "\t<tr><td>4.9</td><td>2.0</td></tr>\n",
       "\t<tr><td>6.7</td><td>2.0</td></tr>\n",
       "\t<tr><td>4.9</td><td>1.8</td></tr>\n",
       "\t<tr><td>5.7</td><td>2.1</td></tr>\n",
       "\t<tr><td>6.0</td><td>1.8</td></tr>\n",
       "\t<tr><td>4.8</td><td>1.8</td></tr>\n",
       "\t<tr><td>4.9</td><td>1.8</td></tr>\n",
       "\t<tr><td>5.6</td><td>2.1</td></tr>\n",
       "\t<tr><td>5.8</td><td>1.6</td></tr>\n",
       "\t<tr><td>6.1</td><td>1.9</td></tr>\n",
       "\t<tr><td>6.4</td><td>2.0</td></tr>\n",
       "\t<tr><td>5.6</td><td>2.2</td></tr>\n",
       "\t<tr><td>5.1</td><td>1.5</td></tr>\n",
       "\t<tr><td>5.6</td><td>1.4</td></tr>\n",
       "\t<tr><td>6.1</td><td>2.3</td></tr>\n",
       "\t<tr><td>5.6</td><td>2.4</td></tr>\n",
       "\t<tr><td>5.5</td><td>1.8</td></tr>\n",
       "\t<tr><td>4.8</td><td>1.8</td></tr>\n",
       "\t<tr><td>5.4</td><td>2.1</td></tr>\n",
       "\t<tr><td>5.6</td><td>2.4</td></tr>\n",
       "\t<tr><td>5.1</td><td>2.3</td></tr>\n",
       "\t<tr><td>5.1</td><td>1.9</td></tr>\n",
       "\t<tr><td>5.9</td><td>2.3</td></tr>\n",
       "\t<tr><td>5.7</td><td>2.5</td></tr>\n",
       "\t<tr><td>5.2</td><td>2.3</td></tr>\n",
       "\t<tr><td>5.0</td><td>1.9</td></tr>\n",
       "\t<tr><td>5.2</td><td>2.0</td></tr>\n",
       "\t<tr><td>5.4</td><td>2.3</td></tr>\n",
       "\t<tr><td>5.1</td><td>1.8</td></tr>\n",
       "</tbody>\n",
       "</table>\n"
      ],
      "text/latex": [
       "A tibble: 150 × 2\n",
       "\\begin{tabular}{ll}\n",
       " Petal.Length & Petal.Width\\\\\n",
       " <dbl> & <dbl>\\\\\n",
       "\\hline\n",
       "\t 1.4 & 0.2\\\\\n",
       "\t 1.4 & 0.2\\\\\n",
       "\t 1.3 & 0.2\\\\\n",
       "\t 1.5 & 0.2\\\\\n",
       "\t 1.4 & 0.2\\\\\n",
       "\t 1.7 & 0.4\\\\\n",
       "\t 1.4 & 0.3\\\\\n",
       "\t 1.5 & 0.2\\\\\n",
       "\t 1.4 & 0.2\\\\\n",
       "\t 1.5 & 0.1\\\\\n",
       "\t 1.5 & 0.2\\\\\n",
       "\t 1.6 & 0.2\\\\\n",
       "\t 1.4 & 0.1\\\\\n",
       "\t 1.1 & 0.1\\\\\n",
       "\t 1.2 & 0.2\\\\\n",
       "\t 1.5 & 0.4\\\\\n",
       "\t 1.3 & 0.4\\\\\n",
       "\t 1.4 & 0.3\\\\\n",
       "\t 1.7 & 0.3\\\\\n",
       "\t 1.5 & 0.3\\\\\n",
       "\t 1.7 & 0.2\\\\\n",
       "\t 1.5 & 0.4\\\\\n",
       "\t 1.0 & 0.2\\\\\n",
       "\t 1.7 & 0.5\\\\\n",
       "\t 1.9 & 0.2\\\\\n",
       "\t 1.6 & 0.2\\\\\n",
       "\t 1.6 & 0.4\\\\\n",
       "\t 1.5 & 0.2\\\\\n",
       "\t 1.4 & 0.2\\\\\n",
       "\t 1.6 & 0.2\\\\\n",
       "\t ... & ...\\\\\n",
       "\t 5.7 & 2.3\\\\\n",
       "\t 4.9 & 2.0\\\\\n",
       "\t 6.7 & 2.0\\\\\n",
       "\t 4.9 & 1.8\\\\\n",
       "\t 5.7 & 2.1\\\\\n",
       "\t 6.0 & 1.8\\\\\n",
       "\t 4.8 & 1.8\\\\\n",
       "\t 4.9 & 1.8\\\\\n",
       "\t 5.6 & 2.1\\\\\n",
       "\t 5.8 & 1.6\\\\\n",
       "\t 6.1 & 1.9\\\\\n",
       "\t 6.4 & 2.0\\\\\n",
       "\t 5.6 & 2.2\\\\\n",
       "\t 5.1 & 1.5\\\\\n",
       "\t 5.6 & 1.4\\\\\n",
       "\t 6.1 & 2.3\\\\\n",
       "\t 5.6 & 2.4\\\\\n",
       "\t 5.5 & 1.8\\\\\n",
       "\t 4.8 & 1.8\\\\\n",
       "\t 5.4 & 2.1\\\\\n",
       "\t 5.6 & 2.4\\\\\n",
       "\t 5.1 & 2.3\\\\\n",
       "\t 5.1 & 1.9\\\\\n",
       "\t 5.9 & 2.3\\\\\n",
       "\t 5.7 & 2.5\\\\\n",
       "\t 5.2 & 2.3\\\\\n",
       "\t 5.0 & 1.9\\\\\n",
       "\t 5.2 & 2.0\\\\\n",
       "\t 5.4 & 2.3\\\\\n",
       "\t 5.1 & 1.8\\\\\n",
       "\\end{tabular}\n"
      ],
      "text/markdown": [
       "\n",
       "A tibble: 150 × 2\n",
       "\n",
       "| Petal.Length &lt;dbl&gt; | Petal.Width &lt;dbl&gt; |\n",
       "|---|---|\n",
       "| 1.4 | 0.2 |\n",
       "| 1.4 | 0.2 |\n",
       "| 1.3 | 0.2 |\n",
       "| 1.5 | 0.2 |\n",
       "| 1.4 | 0.2 |\n",
       "| 1.7 | 0.4 |\n",
       "| 1.4 | 0.3 |\n",
       "| 1.5 | 0.2 |\n",
       "| 1.4 | 0.2 |\n",
       "| 1.5 | 0.1 |\n",
       "| 1.5 | 0.2 |\n",
       "| 1.6 | 0.2 |\n",
       "| 1.4 | 0.1 |\n",
       "| 1.1 | 0.1 |\n",
       "| 1.2 | 0.2 |\n",
       "| 1.5 | 0.4 |\n",
       "| 1.3 | 0.4 |\n",
       "| 1.4 | 0.3 |\n",
       "| 1.7 | 0.3 |\n",
       "| 1.5 | 0.3 |\n",
       "| 1.7 | 0.2 |\n",
       "| 1.5 | 0.4 |\n",
       "| 1.0 | 0.2 |\n",
       "| 1.7 | 0.5 |\n",
       "| 1.9 | 0.2 |\n",
       "| 1.6 | 0.2 |\n",
       "| 1.6 | 0.4 |\n",
       "| 1.5 | 0.2 |\n",
       "| 1.4 | 0.2 |\n",
       "| 1.6 | 0.2 |\n",
       "| ... | ... |\n",
       "| 5.7 | 2.3 |\n",
       "| 4.9 | 2.0 |\n",
       "| 6.7 | 2.0 |\n",
       "| 4.9 | 1.8 |\n",
       "| 5.7 | 2.1 |\n",
       "| 6.0 | 1.8 |\n",
       "| 4.8 | 1.8 |\n",
       "| 4.9 | 1.8 |\n",
       "| 5.6 | 2.1 |\n",
       "| 5.8 | 1.6 |\n",
       "| 6.1 | 1.9 |\n",
       "| 6.4 | 2.0 |\n",
       "| 5.6 | 2.2 |\n",
       "| 5.1 | 1.5 |\n",
       "| 5.6 | 1.4 |\n",
       "| 6.1 | 2.3 |\n",
       "| 5.6 | 2.4 |\n",
       "| 5.5 | 1.8 |\n",
       "| 4.8 | 1.8 |\n",
       "| 5.4 | 2.1 |\n",
       "| 5.6 | 2.4 |\n",
       "| 5.1 | 2.3 |\n",
       "| 5.1 | 1.9 |\n",
       "| 5.9 | 2.3 |\n",
       "| 5.7 | 2.5 |\n",
       "| 5.2 | 2.3 |\n",
       "| 5.0 | 1.9 |\n",
       "| 5.2 | 2.0 |\n",
       "| 5.4 | 2.3 |\n",
       "| 5.1 | 1.8 |\n",
       "\n"
      ],
      "text/plain": [
       "    Petal.Length Petal.Width\n",
       "1   1.4          0.2        \n",
       "2   1.4          0.2        \n",
       "3   1.3          0.2        \n",
       "4   1.5          0.2        \n",
       "5   1.4          0.2        \n",
       "6   1.7          0.4        \n",
       "7   1.4          0.3        \n",
       "8   1.5          0.2        \n",
       "9   1.4          0.2        \n",
       "10  1.5          0.1        \n",
       "11  1.5          0.2        \n",
       "12  1.6          0.2        \n",
       "13  1.4          0.1        \n",
       "14  1.1          0.1        \n",
       "15  1.2          0.2        \n",
       "16  1.5          0.4        \n",
       "17  1.3          0.4        \n",
       "18  1.4          0.3        \n",
       "19  1.7          0.3        \n",
       "20  1.5          0.3        \n",
       "21  1.7          0.2        \n",
       "22  1.5          0.4        \n",
       "23  1.0          0.2        \n",
       "24  1.7          0.5        \n",
       "25  1.9          0.2        \n",
       "26  1.6          0.2        \n",
       "27  1.6          0.4        \n",
       "28  1.5          0.2        \n",
       "29  1.4          0.2        \n",
       "30  1.6          0.2        \n",
       "... ...          ...        \n",
       "121 5.7          2.3        \n",
       "122 4.9          2.0        \n",
       "123 6.7          2.0        \n",
       "124 4.9          1.8        \n",
       "125 5.7          2.1        \n",
       "126 6.0          1.8        \n",
       "127 4.8          1.8        \n",
       "128 4.9          1.8        \n",
       "129 5.6          2.1        \n",
       "130 5.8          1.6        \n",
       "131 6.1          1.9        \n",
       "132 6.4          2.0        \n",
       "133 5.6          2.2        \n",
       "134 5.1          1.5        \n",
       "135 5.6          1.4        \n",
       "136 6.1          2.3        \n",
       "137 5.6          2.4        \n",
       "138 5.5          1.8        \n",
       "139 4.8          1.8        \n",
       "140 5.4          2.1        \n",
       "141 5.6          2.4        \n",
       "142 5.1          2.3        \n",
       "143 5.1          1.9        \n",
       "144 5.9          2.3        \n",
       "145 5.7          2.5        \n",
       "146 5.2          2.3        \n",
       "147 5.0          1.9        \n",
       "148 5.2          2.0        \n",
       "149 5.4          2.3        \n",
       "150 5.1          1.8        "
      ]
     },
     "metadata": {},
     "output_type": "display_data"
    }
   ],
   "source": [
    "#Subsetting by function of name requires a bit of work with grep():\n",
    "iris[grep(\"^Petal\", names(iris))]"
   ]
  },
  {
   "cell_type": "code",
   "execution_count": 317,
   "id": "418b9f6f",
   "metadata": {},
   "outputs": [
    {
     "data": {
      "text/html": [
       "<table class=\"dataframe\">\n",
       "<caption>A tibble: 150 × 1</caption>\n",
       "<thead>\n",
       "\t<tr><th scope=col>Species</th></tr>\n",
       "\t<tr><th scope=col>&lt;fct&gt;</th></tr>\n",
       "</thead>\n",
       "<tbody>\n",
       "\t<tr><td>setosa</td></tr>\n",
       "\t<tr><td>setosa</td></tr>\n",
       "\t<tr><td>setosa</td></tr>\n",
       "\t<tr><td>setosa</td></tr>\n",
       "\t<tr><td>setosa</td></tr>\n",
       "\t<tr><td>setosa</td></tr>\n",
       "\t<tr><td>setosa</td></tr>\n",
       "\t<tr><td>setosa</td></tr>\n",
       "\t<tr><td>setosa</td></tr>\n",
       "\t<tr><td>setosa</td></tr>\n",
       "\t<tr><td>setosa</td></tr>\n",
       "\t<tr><td>setosa</td></tr>\n",
       "\t<tr><td>setosa</td></tr>\n",
       "\t<tr><td>setosa</td></tr>\n",
       "\t<tr><td>setosa</td></tr>\n",
       "\t<tr><td>setosa</td></tr>\n",
       "\t<tr><td>setosa</td></tr>\n",
       "\t<tr><td>setosa</td></tr>\n",
       "\t<tr><td>setosa</td></tr>\n",
       "\t<tr><td>setosa</td></tr>\n",
       "\t<tr><td>setosa</td></tr>\n",
       "\t<tr><td>setosa</td></tr>\n",
       "\t<tr><td>setosa</td></tr>\n",
       "\t<tr><td>setosa</td></tr>\n",
       "\t<tr><td>setosa</td></tr>\n",
       "\t<tr><td>setosa</td></tr>\n",
       "\t<tr><td>setosa</td></tr>\n",
       "\t<tr><td>setosa</td></tr>\n",
       "\t<tr><td>setosa</td></tr>\n",
       "\t<tr><td>setosa</td></tr>\n",
       "\t<tr><td>...</td></tr>\n",
       "\t<tr><td>virginica</td></tr>\n",
       "\t<tr><td>virginica</td></tr>\n",
       "\t<tr><td>virginica</td></tr>\n",
       "\t<tr><td>virginica</td></tr>\n",
       "\t<tr><td>virginica</td></tr>\n",
       "\t<tr><td>virginica</td></tr>\n",
       "\t<tr><td>virginica</td></tr>\n",
       "\t<tr><td>virginica</td></tr>\n",
       "\t<tr><td>virginica</td></tr>\n",
       "\t<tr><td>virginica</td></tr>\n",
       "\t<tr><td>virginica</td></tr>\n",
       "\t<tr><td>virginica</td></tr>\n",
       "\t<tr><td>virginica</td></tr>\n",
       "\t<tr><td>virginica</td></tr>\n",
       "\t<tr><td>virginica</td></tr>\n",
       "\t<tr><td>virginica</td></tr>\n",
       "\t<tr><td>virginica</td></tr>\n",
       "\t<tr><td>virginica</td></tr>\n",
       "\t<tr><td>virginica</td></tr>\n",
       "\t<tr><td>virginica</td></tr>\n",
       "\t<tr><td>virginica</td></tr>\n",
       "\t<tr><td>virginica</td></tr>\n",
       "\t<tr><td>virginica</td></tr>\n",
       "\t<tr><td>virginica</td></tr>\n",
       "\t<tr><td>virginica</td></tr>\n",
       "\t<tr><td>virginica</td></tr>\n",
       "\t<tr><td>virginica</td></tr>\n",
       "\t<tr><td>virginica</td></tr>\n",
       "\t<tr><td>virginica</td></tr>\n",
       "\t<tr><td>virginica</td></tr>\n",
       "</tbody>\n",
       "</table>\n"
      ],
      "text/latex": [
       "A tibble: 150 × 1\n",
       "\\begin{tabular}{l}\n",
       " Species\\\\\n",
       " <fct>\\\\\n",
       "\\hline\n",
       "\t setosa\\\\\n",
       "\t setosa\\\\\n",
       "\t setosa\\\\\n",
       "\t setosa\\\\\n",
       "\t setosa\\\\\n",
       "\t setosa\\\\\n",
       "\t setosa\\\\\n",
       "\t setosa\\\\\n",
       "\t setosa\\\\\n",
       "\t setosa\\\\\n",
       "\t setosa\\\\\n",
       "\t setosa\\\\\n",
       "\t setosa\\\\\n",
       "\t setosa\\\\\n",
       "\t setosa\\\\\n",
       "\t setosa\\\\\n",
       "\t setosa\\\\\n",
       "\t setosa\\\\\n",
       "\t setosa\\\\\n",
       "\t setosa\\\\\n",
       "\t setosa\\\\\n",
       "\t setosa\\\\\n",
       "\t setosa\\\\\n",
       "\t setosa\\\\\n",
       "\t setosa\\\\\n",
       "\t setosa\\\\\n",
       "\t setosa\\\\\n",
       "\t setosa\\\\\n",
       "\t setosa\\\\\n",
       "\t setosa\\\\\n",
       "\t ...\\\\\n",
       "\t virginica\\\\\n",
       "\t virginica\\\\\n",
       "\t virginica\\\\\n",
       "\t virginica\\\\\n",
       "\t virginica\\\\\n",
       "\t virginica\\\\\n",
       "\t virginica\\\\\n",
       "\t virginica\\\\\n",
       "\t virginica\\\\\n",
       "\t virginica\\\\\n",
       "\t virginica\\\\\n",
       "\t virginica\\\\\n",
       "\t virginica\\\\\n",
       "\t virginica\\\\\n",
       "\t virginica\\\\\n",
       "\t virginica\\\\\n",
       "\t virginica\\\\\n",
       "\t virginica\\\\\n",
       "\t virginica\\\\\n",
       "\t virginica\\\\\n",
       "\t virginica\\\\\n",
       "\t virginica\\\\\n",
       "\t virginica\\\\\n",
       "\t virginica\\\\\n",
       "\t virginica\\\\\n",
       "\t virginica\\\\\n",
       "\t virginica\\\\\n",
       "\t virginica\\\\\n",
       "\t virginica\\\\\n",
       "\t virginica\\\\\n",
       "\\end{tabular}\n"
      ],
      "text/markdown": [
       "\n",
       "A tibble: 150 × 1\n",
       "\n",
       "| Species &lt;fct&gt; |\n",
       "|---|\n",
       "| setosa |\n",
       "| setosa |\n",
       "| setosa |\n",
       "| setosa |\n",
       "| setosa |\n",
       "| setosa |\n",
       "| setosa |\n",
       "| setosa |\n",
       "| setosa |\n",
       "| setosa |\n",
       "| setosa |\n",
       "| setosa |\n",
       "| setosa |\n",
       "| setosa |\n",
       "| setosa |\n",
       "| setosa |\n",
       "| setosa |\n",
       "| setosa |\n",
       "| setosa |\n",
       "| setosa |\n",
       "| setosa |\n",
       "| setosa |\n",
       "| setosa |\n",
       "| setosa |\n",
       "| setosa |\n",
       "| setosa |\n",
       "| setosa |\n",
       "| setosa |\n",
       "| setosa |\n",
       "| setosa |\n",
       "| ... |\n",
       "| virginica |\n",
       "| virginica |\n",
       "| virginica |\n",
       "| virginica |\n",
       "| virginica |\n",
       "| virginica |\n",
       "| virginica |\n",
       "| virginica |\n",
       "| virginica |\n",
       "| virginica |\n",
       "| virginica |\n",
       "| virginica |\n",
       "| virginica |\n",
       "| virginica |\n",
       "| virginica |\n",
       "| virginica |\n",
       "| virginica |\n",
       "| virginica |\n",
       "| virginica |\n",
       "| virginica |\n",
       "| virginica |\n",
       "| virginica |\n",
       "| virginica |\n",
       "| virginica |\n",
       "| virginica |\n",
       "| virginica |\n",
       "| virginica |\n",
       "| virginica |\n",
       "| virginica |\n",
       "| virginica |\n",
       "\n"
      ],
      "text/plain": [
       "    Species  \n",
       "1   setosa   \n",
       "2   setosa   \n",
       "3   setosa   \n",
       "4   setosa   \n",
       "5   setosa   \n",
       "6   setosa   \n",
       "7   setosa   \n",
       "8   setosa   \n",
       "9   setosa   \n",
       "10  setosa   \n",
       "11  setosa   \n",
       "12  setosa   \n",
       "13  setosa   \n",
       "14  setosa   \n",
       "15  setosa   \n",
       "16  setosa   \n",
       "17  setosa   \n",
       "18  setosa   \n",
       "19  setosa   \n",
       "20  setosa   \n",
       "21  setosa   \n",
       "22  setosa   \n",
       "23  setosa   \n",
       "24  setosa   \n",
       "25  setosa   \n",
       "26  setosa   \n",
       "27  setosa   \n",
       "28  setosa   \n",
       "29  setosa   \n",
       "30  setosa   \n",
       "... ...      \n",
       "121 virginica\n",
       "122 virginica\n",
       "123 virginica\n",
       "124 virginica\n",
       "125 virginica\n",
       "126 virginica\n",
       "127 virginica\n",
       "128 virginica\n",
       "129 virginica\n",
       "130 virginica\n",
       "131 virginica\n",
       "132 virginica\n",
       "133 virginica\n",
       "134 virginica\n",
       "135 virginica\n",
       "136 virginica\n",
       "137 virginica\n",
       "138 virginica\n",
       "139 virginica\n",
       "140 virginica\n",
       "141 virginica\n",
       "142 virginica\n",
       "143 virginica\n",
       "144 virginica\n",
       "145 virginica\n",
       "146 virginica\n",
       "147 virginica\n",
       "148 virginica\n",
       "149 virginica\n",
       "150 virginica"
      ]
     },
     "metadata": {},
     "output_type": "display_data"
    }
   ],
   "source": [
    "#And you can use Filter() to subset by type:\n",
    "Filter(is.factor, iris)"
   ]
  },
  {
   "cell_type": "markdown",
   "id": "3b886883",
   "metadata": {},
   "source": [
    "## dplyr::summarise()\n",
    "computes one or more summaries for each group:"
   ]
  },
  {
   "cell_type": "markdown",
   "id": "198054d2",
   "metadata": {},
   "source": [
    "n=n() means that a variable named n will be assigned the number of rows (think number of observations) in the summarized data."
   ]
  },
  {
   "cell_type": "code",
   "execution_count": 318,
   "id": "55edd925",
   "metadata": {},
   "outputs": [
    {
     "data": {
      "text/html": [
       "<table class=\"dataframe\">\n",
       "<caption>A tibble: 3 × 3</caption>\n",
       "<thead>\n",
       "\t<tr><th scope=col>cyl</th><th scope=col>mean</th><th scope=col>n</th></tr>\n",
       "\t<tr><th scope=col>&lt;dbl&gt;</th><th scope=col>&lt;dbl&gt;</th><th scope=col>&lt;int&gt;</th></tr>\n",
       "</thead>\n",
       "<tbody>\n",
       "\t<tr><td>4</td><td>105.1364</td><td>11</td></tr>\n",
       "\t<tr><td>6</td><td>183.3143</td><td> 7</td></tr>\n",
       "\t<tr><td>8</td><td>353.1000</td><td>14</td></tr>\n",
       "</tbody>\n",
       "</table>\n"
      ],
      "text/latex": [
       "A tibble: 3 × 3\n",
       "\\begin{tabular}{lll}\n",
       " cyl & mean & n\\\\\n",
       " <dbl> & <dbl> & <int>\\\\\n",
       "\\hline\n",
       "\t 4 & 105.1364 & 11\\\\\n",
       "\t 6 & 183.3143 &  7\\\\\n",
       "\t 8 & 353.1000 & 14\\\\\n",
       "\\end{tabular}\n"
      ],
      "text/markdown": [
       "\n",
       "A tibble: 3 × 3\n",
       "\n",
       "| cyl &lt;dbl&gt; | mean &lt;dbl&gt; | n &lt;int&gt; |\n",
       "|---|---|---|\n",
       "| 4 | 105.1364 | 11 |\n",
       "| 6 | 183.3143 |  7 |\n",
       "| 8 | 353.1000 | 14 |\n",
       "\n"
      ],
      "text/plain": [
       "  cyl mean     n \n",
       "1 4   105.1364 11\n",
       "2 6   183.3143  7\n",
       "3 8   353.1000 14"
      ]
     },
     "metadata": {},
     "output_type": "display_data"
    }
   ],
   "source": [
    "mtcars %>% \n",
    "  group_by(cyl) %>% \n",
    "  summarise(mean = mean(disp), n = n())"
   ]
  },
  {
   "cell_type": "markdown",
   "id": "83728859",
   "metadata": {},
   "source": [
    "closest base R equivalent uses by(). Unfortunately by() returns a list of data frames, but you can combine them back together again with do.call() and rbind():"
   ]
  },
  {
   "cell_type": "code",
   "execution_count": 319,
   "id": "56d01fb6",
   "metadata": {},
   "outputs": [
    {
     "data": {
      "text/html": [
       "<table class=\"dataframe\">\n",
       "<caption>A data.frame: 3 × 3</caption>\n",
       "<thead>\n",
       "\t<tr><th></th><th scope=col>cyl</th><th scope=col>mean</th><th scope=col>n</th></tr>\n",
       "\t<tr><th></th><th scope=col>&lt;dbl&gt;</th><th scope=col>&lt;dbl&gt;</th><th scope=col>&lt;int&gt;</th></tr>\n",
       "</thead>\n",
       "<tbody>\n",
       "\t<tr><th scope=row>4</th><td>4</td><td>105.1364</td><td>11</td></tr>\n",
       "\t<tr><th scope=row>6</th><td>6</td><td>183.3143</td><td> 7</td></tr>\n",
       "\t<tr><th scope=row>8</th><td>8</td><td>353.1000</td><td>14</td></tr>\n",
       "</tbody>\n",
       "</table>\n"
      ],
      "text/latex": [
       "A data.frame: 3 × 3\n",
       "\\begin{tabular}{r|lll}\n",
       "  & cyl & mean & n\\\\\n",
       "  & <dbl> & <dbl> & <int>\\\\\n",
       "\\hline\n",
       "\t4 & 4 & 105.1364 & 11\\\\\n",
       "\t6 & 6 & 183.3143 &  7\\\\\n",
       "\t8 & 8 & 353.1000 & 14\\\\\n",
       "\\end{tabular}\n"
      ],
      "text/markdown": [
       "\n",
       "A data.frame: 3 × 3\n",
       "\n",
       "| <!--/--> | cyl &lt;dbl&gt; | mean &lt;dbl&gt; | n &lt;int&gt; |\n",
       "|---|---|---|---|\n",
       "| 4 | 4 | 105.1364 | 11 |\n",
       "| 6 | 6 | 183.3143 |  7 |\n",
       "| 8 | 8 | 353.1000 | 14 |\n",
       "\n"
      ],
      "text/plain": [
       "  cyl mean     n \n",
       "4 4   105.1364 11\n",
       "6 6   183.3143  7\n",
       "8 8   353.1000 14"
      ]
     },
     "metadata": {},
     "output_type": "display_data"
    }
   ],
   "source": [
    "mtcars_by <- by(mtcars, mtcars$cyl, function(df) {\n",
    "  with(df, data.frame(cyl = cyl[[1]], mean = mean(disp), n = nrow(df)))\n",
    "})\n",
    "do.call(rbind, mtcars_by)"
   ]
  },
  {
   "cell_type": "markdown",
   "id": "6d84854e",
   "metadata": {},
   "source": [
    "aggregate()\n",
    "comes very close to providing an elegant answer:"
   ]
  },
  {
   "cell_type": "code",
   "execution_count": 320,
   "id": "c6f5145b",
   "metadata": {},
   "outputs": [
    {
     "data": {
      "text/html": [
       "<table class=\"dataframe\">\n",
       "<caption>A data.frame: 3 × 2</caption>\n",
       "<thead>\n",
       "\t<tr><th scope=col>cyl</th><th scope=col>disp</th></tr>\n",
       "\t<tr><th scope=col>&lt;dbl&gt;</th><th scope=col>&lt;dbl[,2]&gt;</th></tr>\n",
       "</thead>\n",
       "<tbody>\n",
       "\t<tr><td>4</td><td>105.1364, 11</td></tr>\n",
       "\t<tr><td>6</td><td>183.3143,  7</td></tr>\n",
       "\t<tr><td>8</td><td>353.1000, 14</td></tr>\n",
       "</tbody>\n",
       "</table>\n"
      ],
      "text/latex": [
       "A data.frame: 3 × 2\n",
       "\\begin{tabular}{ll}\n",
       " cyl & disp\\\\\n",
       " <dbl> & <dbl{[},2{]}>\\\\\n",
       "\\hline\n",
       "\t 4 & 105.1364, 11\\\\\n",
       "\t 6 & 183.3143,  7\\\\\n",
       "\t 8 & 353.1000, 14\\\\\n",
       "\\end{tabular}\n"
      ],
      "text/markdown": [
       "\n",
       "A data.frame: 3 × 2\n",
       "\n",
       "| cyl &lt;dbl&gt; | disp &lt;dbl[,2]&gt; |\n",
       "|---|---|\n",
       "| 4 | 105.1364, 11 |\n",
       "| 6 | 183.3143,  7 |\n",
       "| 8 | 353.1000, 14 |\n",
       "\n"
      ],
      "text/plain": [
       "  cyl disp        \n",
       "1 4   105.1364, 11\n",
       "2 6   183.3143,  7\n",
       "3 8   353.1000, 14"
      ]
     },
     "metadata": {},
     "output_type": "display_data"
    }
   ],
   "source": [
    "agg <- aggregate(disp ~ cyl, mtcars, function(x) c(mean = mean(x), n = length(x)))\n",
    "agg"
   ]
  },
  {
   "cell_type": "markdown",
   "id": "2617d107",
   "metadata": {},
   "source": [
    "## slice()\n",
    "selects rows with their location:"
   ]
  },
  {
   "cell_type": "code",
   "execution_count": 321,
   "id": "e4e57db2",
   "metadata": {},
   "outputs": [
    {
     "data": {
      "text/html": [
       "<table class=\"dataframe\">\n",
       "<caption>A tibble: 8 × 13</caption>\n",
       "<thead>\n",
       "\t<tr><th scope=col>mpg</th><th scope=col>cyl</th><th scope=col>disp</th><th scope=col>hp</th><th scope=col>drat</th><th scope=col>wt</th><th scope=col>qsec</th><th scope=col>vs</th><th scope=col>am</th><th scope=col>gear</th><th scope=col>carb</th><th scope=col>cyl2</th><th scope=col>cyl4</th></tr>\n",
       "\t<tr><th scope=col>&lt;dbl&gt;</th><th scope=col>&lt;dbl&gt;</th><th scope=col>&lt;dbl&gt;</th><th scope=col>&lt;dbl&gt;</th><th scope=col>&lt;dbl&gt;</th><th scope=col>&lt;dbl&gt;</th><th scope=col>&lt;dbl&gt;</th><th scope=col>&lt;dbl&gt;</th><th scope=col>&lt;dbl&gt;</th><th scope=col>&lt;dbl&gt;</th><th scope=col>&lt;dbl&gt;</th><th scope=col>&lt;dbl&gt;</th><th scope=col>&lt;dbl&gt;</th></tr>\n",
       "</thead>\n",
       "<tbody>\n",
       "\t<tr><td>19.2</td><td>8</td><td>400.0</td><td>175</td><td>3.08</td><td>3.845</td><td>17.05</td><td>0</td><td>0</td><td>3</td><td>2</td><td>16</td><td>32</td></tr>\n",
       "\t<tr><td>27.3</td><td>4</td><td> 79.0</td><td> 66</td><td>4.08</td><td>1.935</td><td>18.90</td><td>1</td><td>1</td><td>4</td><td>1</td><td> 8</td><td>16</td></tr>\n",
       "\t<tr><td>26.0</td><td>4</td><td>120.3</td><td> 91</td><td>4.43</td><td>2.140</td><td>16.70</td><td>0</td><td>1</td><td>5</td><td>2</td><td> 8</td><td>16</td></tr>\n",
       "\t<tr><td>30.4</td><td>4</td><td> 95.1</td><td>113</td><td>3.77</td><td>1.513</td><td>16.90</td><td>1</td><td>1</td><td>5</td><td>2</td><td> 8</td><td>16</td></tr>\n",
       "\t<tr><td>15.8</td><td>8</td><td>351.0</td><td>264</td><td>4.22</td><td>3.170</td><td>14.50</td><td>0</td><td>1</td><td>5</td><td>4</td><td>16</td><td>32</td></tr>\n",
       "\t<tr><td>19.7</td><td>6</td><td>145.0</td><td>175</td><td>3.62</td><td>2.770</td><td>15.50</td><td>0</td><td>1</td><td>5</td><td>6</td><td>12</td><td>24</td></tr>\n",
       "\t<tr><td>15.0</td><td>8</td><td>301.0</td><td>335</td><td>3.54</td><td>3.570</td><td>14.60</td><td>0</td><td>1</td><td>5</td><td>8</td><td>16</td><td>32</td></tr>\n",
       "\t<tr><td>21.4</td><td>4</td><td>121.0</td><td>109</td><td>4.11</td><td>2.780</td><td>18.60</td><td>1</td><td>1</td><td>4</td><td>2</td><td> 8</td><td>16</td></tr>\n",
       "</tbody>\n",
       "</table>\n"
      ],
      "text/latex": [
       "A tibble: 8 × 13\n",
       "\\begin{tabular}{lllllllllllll}\n",
       " mpg & cyl & disp & hp & drat & wt & qsec & vs & am & gear & carb & cyl2 & cyl4\\\\\n",
       " <dbl> & <dbl> & <dbl> & <dbl> & <dbl> & <dbl> & <dbl> & <dbl> & <dbl> & <dbl> & <dbl> & <dbl> & <dbl>\\\\\n",
       "\\hline\n",
       "\t 19.2 & 8 & 400.0 & 175 & 3.08 & 3.845 & 17.05 & 0 & 0 & 3 & 2 & 16 & 32\\\\\n",
       "\t 27.3 & 4 &  79.0 &  66 & 4.08 & 1.935 & 18.90 & 1 & 1 & 4 & 1 &  8 & 16\\\\\n",
       "\t 26.0 & 4 & 120.3 &  91 & 4.43 & 2.140 & 16.70 & 0 & 1 & 5 & 2 &  8 & 16\\\\\n",
       "\t 30.4 & 4 &  95.1 & 113 & 3.77 & 1.513 & 16.90 & 1 & 1 & 5 & 2 &  8 & 16\\\\\n",
       "\t 15.8 & 8 & 351.0 & 264 & 4.22 & 3.170 & 14.50 & 0 & 1 & 5 & 4 & 16 & 32\\\\\n",
       "\t 19.7 & 6 & 145.0 & 175 & 3.62 & 2.770 & 15.50 & 0 & 1 & 5 & 6 & 12 & 24\\\\\n",
       "\t 15.0 & 8 & 301.0 & 335 & 3.54 & 3.570 & 14.60 & 0 & 1 & 5 & 8 & 16 & 32\\\\\n",
       "\t 21.4 & 4 & 121.0 & 109 & 4.11 & 2.780 & 18.60 & 1 & 1 & 4 & 2 &  8 & 16\\\\\n",
       "\\end{tabular}\n"
      ],
      "text/markdown": [
       "\n",
       "A tibble: 8 × 13\n",
       "\n",
       "| mpg &lt;dbl&gt; | cyl &lt;dbl&gt; | disp &lt;dbl&gt; | hp &lt;dbl&gt; | drat &lt;dbl&gt; | wt &lt;dbl&gt; | qsec &lt;dbl&gt; | vs &lt;dbl&gt; | am &lt;dbl&gt; | gear &lt;dbl&gt; | carb &lt;dbl&gt; | cyl2 &lt;dbl&gt; | cyl4 &lt;dbl&gt; |\n",
       "|---|---|---|---|---|---|---|---|---|---|---|---|---|\n",
       "| 19.2 | 8 | 400.0 | 175 | 3.08 | 3.845 | 17.05 | 0 | 0 | 3 | 2 | 16 | 32 |\n",
       "| 27.3 | 4 |  79.0 |  66 | 4.08 | 1.935 | 18.90 | 1 | 1 | 4 | 1 |  8 | 16 |\n",
       "| 26.0 | 4 | 120.3 |  91 | 4.43 | 2.140 | 16.70 | 0 | 1 | 5 | 2 |  8 | 16 |\n",
       "| 30.4 | 4 |  95.1 | 113 | 3.77 | 1.513 | 16.90 | 1 | 1 | 5 | 2 |  8 | 16 |\n",
       "| 15.8 | 8 | 351.0 | 264 | 4.22 | 3.170 | 14.50 | 0 | 1 | 5 | 4 | 16 | 32 |\n",
       "| 19.7 | 6 | 145.0 | 175 | 3.62 | 2.770 | 15.50 | 0 | 1 | 5 | 6 | 12 | 24 |\n",
       "| 15.0 | 8 | 301.0 | 335 | 3.54 | 3.570 | 14.60 | 0 | 1 | 5 | 8 | 16 | 32 |\n",
       "| 21.4 | 4 | 121.0 | 109 | 4.11 | 2.780 | 18.60 | 1 | 1 | 4 | 2 |  8 | 16 |\n",
       "\n"
      ],
      "text/plain": [
       "  mpg  cyl disp  hp  drat wt    qsec  vs am gear carb cyl2 cyl4\n",
       "1 19.2 8   400.0 175 3.08 3.845 17.05 0  0  3    2    16   32  \n",
       "2 27.3 4    79.0  66 4.08 1.935 18.90 1  1  4    1     8   16  \n",
       "3 26.0 4   120.3  91 4.43 2.140 16.70 0  1  5    2     8   16  \n",
       "4 30.4 4    95.1 113 3.77 1.513 16.90 1  1  5    2     8   16  \n",
       "5 15.8 8   351.0 264 4.22 3.170 14.50 0  1  5    4    16   32  \n",
       "6 19.7 6   145.0 175 3.62 2.770 15.50 0  1  5    6    12   24  \n",
       "7 15.0 8   301.0 335 3.54 3.570 14.60 0  1  5    8    16   32  \n",
       "8 21.4 4   121.0 109 4.11 2.780 18.60 1  1  4    2     8   16  "
      ]
     },
     "metadata": {},
     "output_type": "display_data"
    }
   ],
   "source": [
    "slice(mtcars, 25:n())"
   ]
  },
  {
   "cell_type": "markdown",
   "id": "f5406e56",
   "metadata": {},
   "source": [
    "This is straightforward to replicate with"
   ]
  },
  {
   "cell_type": "code",
   "execution_count": 322,
   "id": "9cdf7396",
   "metadata": {},
   "outputs": [
    {
     "data": {
      "text/html": [
       "<table class=\"dataframe\">\n",
       "<caption>A tibble: 8 × 13</caption>\n",
       "<thead>\n",
       "\t<tr><th scope=col>mpg</th><th scope=col>cyl</th><th scope=col>disp</th><th scope=col>hp</th><th scope=col>drat</th><th scope=col>wt</th><th scope=col>qsec</th><th scope=col>vs</th><th scope=col>am</th><th scope=col>gear</th><th scope=col>carb</th><th scope=col>cyl2</th><th scope=col>cyl4</th></tr>\n",
       "\t<tr><th scope=col>&lt;dbl&gt;</th><th scope=col>&lt;dbl&gt;</th><th scope=col>&lt;dbl&gt;</th><th scope=col>&lt;dbl&gt;</th><th scope=col>&lt;dbl&gt;</th><th scope=col>&lt;dbl&gt;</th><th scope=col>&lt;dbl&gt;</th><th scope=col>&lt;dbl&gt;</th><th scope=col>&lt;dbl&gt;</th><th scope=col>&lt;dbl&gt;</th><th scope=col>&lt;dbl&gt;</th><th scope=col>&lt;dbl&gt;</th><th scope=col>&lt;dbl&gt;</th></tr>\n",
       "</thead>\n",
       "<tbody>\n",
       "\t<tr><td>19.2</td><td>8</td><td>400.0</td><td>175</td><td>3.08</td><td>3.845</td><td>17.05</td><td>0</td><td>0</td><td>3</td><td>2</td><td>16</td><td>32</td></tr>\n",
       "\t<tr><td>27.3</td><td>4</td><td> 79.0</td><td> 66</td><td>4.08</td><td>1.935</td><td>18.90</td><td>1</td><td>1</td><td>4</td><td>1</td><td> 8</td><td>16</td></tr>\n",
       "\t<tr><td>26.0</td><td>4</td><td>120.3</td><td> 91</td><td>4.43</td><td>2.140</td><td>16.70</td><td>0</td><td>1</td><td>5</td><td>2</td><td> 8</td><td>16</td></tr>\n",
       "\t<tr><td>30.4</td><td>4</td><td> 95.1</td><td>113</td><td>3.77</td><td>1.513</td><td>16.90</td><td>1</td><td>1</td><td>5</td><td>2</td><td> 8</td><td>16</td></tr>\n",
       "\t<tr><td>15.8</td><td>8</td><td>351.0</td><td>264</td><td>4.22</td><td>3.170</td><td>14.50</td><td>0</td><td>1</td><td>5</td><td>4</td><td>16</td><td>32</td></tr>\n",
       "\t<tr><td>19.7</td><td>6</td><td>145.0</td><td>175</td><td>3.62</td><td>2.770</td><td>15.50</td><td>0</td><td>1</td><td>5</td><td>6</td><td>12</td><td>24</td></tr>\n",
       "\t<tr><td>15.0</td><td>8</td><td>301.0</td><td>335</td><td>3.54</td><td>3.570</td><td>14.60</td><td>0</td><td>1</td><td>5</td><td>8</td><td>16</td><td>32</td></tr>\n",
       "\t<tr><td>21.4</td><td>4</td><td>121.0</td><td>109</td><td>4.11</td><td>2.780</td><td>18.60</td><td>1</td><td>1</td><td>4</td><td>2</td><td> 8</td><td>16</td></tr>\n",
       "</tbody>\n",
       "</table>\n"
      ],
      "text/latex": [
       "A tibble: 8 × 13\n",
       "\\begin{tabular}{lllllllllllll}\n",
       " mpg & cyl & disp & hp & drat & wt & qsec & vs & am & gear & carb & cyl2 & cyl4\\\\\n",
       " <dbl> & <dbl> & <dbl> & <dbl> & <dbl> & <dbl> & <dbl> & <dbl> & <dbl> & <dbl> & <dbl> & <dbl> & <dbl>\\\\\n",
       "\\hline\n",
       "\t 19.2 & 8 & 400.0 & 175 & 3.08 & 3.845 & 17.05 & 0 & 0 & 3 & 2 & 16 & 32\\\\\n",
       "\t 27.3 & 4 &  79.0 &  66 & 4.08 & 1.935 & 18.90 & 1 & 1 & 4 & 1 &  8 & 16\\\\\n",
       "\t 26.0 & 4 & 120.3 &  91 & 4.43 & 2.140 & 16.70 & 0 & 1 & 5 & 2 &  8 & 16\\\\\n",
       "\t 30.4 & 4 &  95.1 & 113 & 3.77 & 1.513 & 16.90 & 1 & 1 & 5 & 2 &  8 & 16\\\\\n",
       "\t 15.8 & 8 & 351.0 & 264 & 4.22 & 3.170 & 14.50 & 0 & 1 & 5 & 4 & 16 & 32\\\\\n",
       "\t 19.7 & 6 & 145.0 & 175 & 3.62 & 2.770 & 15.50 & 0 & 1 & 5 & 6 & 12 & 24\\\\\n",
       "\t 15.0 & 8 & 301.0 & 335 & 3.54 & 3.570 & 14.60 & 0 & 1 & 5 & 8 & 16 & 32\\\\\n",
       "\t 21.4 & 4 & 121.0 & 109 & 4.11 & 2.780 & 18.60 & 1 & 1 & 4 & 2 &  8 & 16\\\\\n",
       "\\end{tabular}\n"
      ],
      "text/markdown": [
       "\n",
       "A tibble: 8 × 13\n",
       "\n",
       "| mpg &lt;dbl&gt; | cyl &lt;dbl&gt; | disp &lt;dbl&gt; | hp &lt;dbl&gt; | drat &lt;dbl&gt; | wt &lt;dbl&gt; | qsec &lt;dbl&gt; | vs &lt;dbl&gt; | am &lt;dbl&gt; | gear &lt;dbl&gt; | carb &lt;dbl&gt; | cyl2 &lt;dbl&gt; | cyl4 &lt;dbl&gt; |\n",
       "|---|---|---|---|---|---|---|---|---|---|---|---|---|\n",
       "| 19.2 | 8 | 400.0 | 175 | 3.08 | 3.845 | 17.05 | 0 | 0 | 3 | 2 | 16 | 32 |\n",
       "| 27.3 | 4 |  79.0 |  66 | 4.08 | 1.935 | 18.90 | 1 | 1 | 4 | 1 |  8 | 16 |\n",
       "| 26.0 | 4 | 120.3 |  91 | 4.43 | 2.140 | 16.70 | 0 | 1 | 5 | 2 |  8 | 16 |\n",
       "| 30.4 | 4 |  95.1 | 113 | 3.77 | 1.513 | 16.90 | 1 | 1 | 5 | 2 |  8 | 16 |\n",
       "| 15.8 | 8 | 351.0 | 264 | 4.22 | 3.170 | 14.50 | 0 | 1 | 5 | 4 | 16 | 32 |\n",
       "| 19.7 | 6 | 145.0 | 175 | 3.62 | 2.770 | 15.50 | 0 | 1 | 5 | 6 | 12 | 24 |\n",
       "| 15.0 | 8 | 301.0 | 335 | 3.54 | 3.570 | 14.60 | 0 | 1 | 5 | 8 | 16 | 32 |\n",
       "| 21.4 | 4 | 121.0 | 109 | 4.11 | 2.780 | 18.60 | 1 | 1 | 4 | 2 |  8 | 16 |\n",
       "\n"
      ],
      "text/plain": [
       "  mpg  cyl disp  hp  drat wt    qsec  vs am gear carb cyl2 cyl4\n",
       "1 19.2 8   400.0 175 3.08 3.845 17.05 0  0  3    2    16   32  \n",
       "2 27.3 4    79.0  66 4.08 1.935 18.90 1  1  4    1     8   16  \n",
       "3 26.0 4   120.3  91 4.43 2.140 16.70 0  1  5    2     8   16  \n",
       "4 30.4 4    95.1 113 3.77 1.513 16.90 1  1  5    2     8   16  \n",
       "5 15.8 8   351.0 264 4.22 3.170 14.50 0  1  5    4    16   32  \n",
       "6 19.7 6   145.0 175 3.62 2.770 15.50 0  1  5    6    12   24  \n",
       "7 15.0 8   301.0 335 3.54 3.570 14.60 0  1  5    8    16   32  \n",
       "8 21.4 4   121.0 109 4.11 2.780 18.60 1  1  4    2     8   16  "
      ]
     },
     "metadata": {},
     "output_type": "display_data"
    }
   ],
   "source": [
    "mtcars[25:nrow(mtcars), , drop = FALSE]"
   ]
  },
  {
   "cell_type": "code",
   "execution_count": null,
   "id": "0c1b1065",
   "metadata": {},
   "outputs": [],
   "source": []
  }
 ],
 "metadata": {
  "kernelspec": {
   "display_name": "R",
   "language": "R",
   "name": "ir"
  },
  "language_info": {
   "codemirror_mode": "r",
   "file_extension": ".r",
   "mimetype": "text/x-r-source",
   "name": "R",
   "pygments_lexer": "r",
   "version": "4.1.2"
  }
 },
 "nbformat": 4,
 "nbformat_minor": 5
}
